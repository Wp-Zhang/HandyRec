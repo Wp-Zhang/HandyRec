{
  "cells": [
    {
      "cell_type": "markdown",
      "metadata": {
        "id": "FXD2RCXzuzMx"
      },
      "source": [
        "[![Open In Colab](https://colab.research.google.com/assets/colab-badge.svg)](https://colab.research.google.com/github/Wp-Zhang/HandyRec/blob/master/examples/DIEN.ipynb)"
      ]
    },
    {
      "cell_type": "markdown",
      "metadata": {
        "id": "OJKT5uytzl7t"
      },
      "source": [
        "> This notebook runs DIEN on MovieLens1M dataset. We'll use YouTubeDNN for generating candidates and DIEN for ranking these candidates.\n",
        "\n",
        "> Only movies with ratings larger than 3 are treated as 'positive' samples for each user. Every last 10 'positive' movies of each user are held out for testing."
      ]
    },
    {
      "cell_type": "markdown",
      "metadata": {
        "id": "YtD_3eG3xekg"
      },
      "source": [
        "## Table of Contents:\n",
        "* [Prepare data for matching](#section-0)\n",
        "* [Train match model and export embeddings](#section-1)\n",
        "* [Use Faiss to generate candidates](#section-2)\n",
        "* [Train rank model and predict](#section-3)"
      ]
    },
    {
      "cell_type": "markdown",
      "metadata": {
        "id": "XFTLC9SQzxK4"
      },
      "source": [
        "**Download dataset and install packages**"
      ]
    },
    {
      "cell_type": "code",
      "execution_count": 1,
      "metadata": {
        "colab": {
          "base_uri": "https://localhost:8080/"
        },
        "id": "WSk1WSSpvXfL",
        "outputId": "45310c36-c503-412f-eb87-ff76295ebfe0"
      },
      "outputs": [
        {
          "output_type": "stream",
          "name": "stdout",
          "text": [
            "Cloning into 'HandyRec'...\n",
            "remote: Enumerating objects: 1575, done.\u001b[K\n",
            "remote: Counting objects: 100% (1575/1575), done.\u001b[K\n",
            "remote: Compressing objects: 100% (1181/1181), done.\u001b[K\n",
            "remote: Total 1575 (delta 606), reused 1224 (delta 343), pack-reused 0\u001b[K\n",
            "Receiving objects: 100% (1575/1575), 20.87 MiB | 6.29 MiB/s, done.\n",
            "Resolving deltas: 100% (606/606), done.\n",
            "Collecting faiss-cpu\n",
            "  Downloading faiss_cpu-1.7.2-cp37-cp37m-manylinux_2_17_x86_64.manylinux2014_x86_64.whl (8.6 MB)\n",
            "\u001b[K     |████████████████████████████████| 8.6 MB 11.4 MB/s \n",
            "\u001b[?25hInstalling collected packages: faiss-cpu\n",
            "Successfully installed faiss-cpu-1.7.2\n"
          ]
        }
      ],
      "source": [
        "! git clone https://github.com/Wp-Zhang/HandyRec.git\n",
        "! pip install faiss-cpu"
      ]
    },
    {
      "cell_type": "code",
      "execution_count": 2,
      "metadata": {
        "colab": {
          "base_uri": "https://localhost:8080/"
        },
        "id": "uiIqXdbUyCEi",
        "outputId": "6b6d3d17-472b-4e96-c831-e077e40cef28"
      },
      "outputs": [
        {
          "output_type": "stream",
          "name": "stdout",
          "text": [
            "--2022-04-10 16:34:15--  https://files.grouplens.org/datasets/movielens/ml-1m.zip\n",
            "Resolving files.grouplens.org (files.grouplens.org)... 128.101.65.152\n",
            "Connecting to files.grouplens.org (files.grouplens.org)|128.101.65.152|:443... connected.\n",
            "HTTP request sent, awaiting response... 200 OK\n",
            "Length: 5917549 (5.6M) [application/zip]\n",
            "Saving to: ‘./ml-1m.zip’\n",
            "\n",
            "./ml-1m.zip         100%[===================>]   5.64M  6.96MB/s    in 0.8s    \n",
            "\n",
            "2022-04-10 16:34:16 (6.96 MB/s) - ‘./ml-1m.zip’ saved [5917549/5917549]\n",
            "\n",
            "Archive:  ml-1m.zip\n",
            "   creating: ml-1m/\n",
            "  inflating: ml-1m/movies.dat        \n",
            "  inflating: ml-1m/ratings.dat       \n",
            "  inflating: ml-1m/README            \n",
            "  inflating: ml-1m/users.dat         \n"
          ]
        }
      ],
      "source": [
        "! wget https://files.grouplens.org/datasets/movielens/ml-1m.zip -O ./ml-1m.zip\n",
        "! unzip -o ml-1m.zip"
      ]
    },
    {
      "cell_type": "markdown",
      "metadata": {
        "id": "gsUc0pRE0BEH"
      },
      "source": [
        "**Import relative packages**"
      ]
    },
    {
      "cell_type": "code",
      "execution_count": 3,
      "metadata": {
        "id": "PzbZZUXxvxvm"
      },
      "outputs": [],
      "source": [
        "import sys\n",
        "sys.path.append('./HandyRec/')"
      ]
    },
    {
      "cell_type": "code",
      "execution_count": 4,
      "metadata": {
        "id": "NlQtiTrmuzM3"
      },
      "outputs": [],
      "source": [
        "from handyrec.dataset.movielens import MovieMatchDataHelper, MovieRankDataHelper\n",
        "from handyrec.models.match import YouTubeMatchDNN\n",
        "from handyrec.models.rank import DIEN\n",
        "from handyrec.features import DenseFeature, SparseFeature, SparseSeqFeature, FeatureGroup, EmbdFeatureGroup, FeaturePool\n",
        "from handyrec.layers.utils import sampledsoftmaxloss\n",
        "from handyrec.dataset.metrics import map_at_k, recall_at_k\n",
        "from handyrec.models.utils import search_embedding\n",
        "\n",
        "import tensorflow as tf\n",
        "from tensorflow.keras import Model\n",
        "from tensorflow.keras.losses import binary_crossentropy\n",
        "from tensorflow.keras.utils import plot_model\n",
        "import pandas as pd\n",
        "import numpy as np\n",
        "import gc"
      ]
    },
    {
      "cell_type": "code",
      "execution_count": 5,
      "metadata": {
        "id": "iYOxv7-auzM3"
      },
      "outputs": [],
      "source": [
        "import warnings\n",
        "warnings.filterwarnings('ignore')"
      ]
    },
    {
      "cell_type": "code",
      "execution_count": 6,
      "metadata": {
        "id": "W8jyTPiz8K13"
      },
      "outputs": [],
      "source": [
        "MATCH_EMBEDDING_DIM = 256\n",
        "RANK_EMBEDDING_DIM = 128\n",
        "SEQ_LEN = 15\n",
        "BATCH_SIZE = 2**12\n",
        "NEPOCH = 50\n",
        "\n",
        "NEG_NUM = 10\n",
        "CANDIDATE_NUM = 100"
      ]
    },
    {
      "cell_type": "markdown",
      "metadata": {
        "id": "MXNUDnO_0VLl"
      },
      "source": [
        "# 0. Prepare data for ranking<a name=\"section-0\"></a>"
      ]
    },
    {
      "cell_type": "code",
      "execution_count": 7,
      "metadata": {
        "colab": {
          "base_uri": "https://localhost:8080/"
        },
        "id": "wgw6prfluzM5",
        "outputId": "a7a14b3e-7440-4fee-ccbc-ebd57a1fc7a6"
      },
      "outputs": [
        {
          "output_type": "stream",
          "name": "stderr",
          "text": [
            "Encode User Sparse Feats: 100%|██████████| 4/4 [00:00<00:00, 126.17it/s]\n",
            "Encode Item Sparse Feats: 100%|██████████| 1/1 [00:00<00:00, 91.82it/s]\n",
            "Generate train set: 100%|██████████| 6040/6040 [00:03<00:00, 1540.82it/s]\n",
            "Save user features: 100%|██████████| 4/4 [00:00<00:00,  4.80it/s]\n",
            "Save item features: 100%|██████████| 2/2 [00:01<00:00,  1.86it/s]\n"
          ]
        }
      ],
      "source": [
        "match_dh = MovieMatchDataHelper('./ml-1m/')\n",
        "data = match_dh.get_clean_data(sparse_features=['gender','age','occupation','zip','year'])\n",
        "\n",
        "match_user_features = ['user_id','gender','age','occupation','zip']\n",
        "match_movie_features = [f for f in data['item'].columns if f != 'title']\n",
        "match_dh.gen_dataset(match_user_features+match_movie_features, data, seq_max_len=SEQ_LEN, negnum=0)"
      ]
    },
    {
      "cell_type": "code",
      "execution_count": 8,
      "metadata": {
        "colab": {
          "base_uri": "https://localhost:8080/"
        },
        "id": "nWhojvyKuzM7",
        "outputId": "d4691c08-2178-4f25-9223-9758d547a7d4"
      },
      "outputs": [
        {
          "output_type": "stream",
          "name": "stderr",
          "text": [
            "Load user features: 100%|██████████| 7/7 [00:00<00:00, 136.12it/s]\n",
            "Load movie features: 100%|██████████| 3/3 [00:00<00:00, 148.00it/s]\n"
          ]
        }
      ],
      "source": [
        "match_train, match_train_label, match_test, match_test_label = match_dh.load_dataset(match_user_features, match_movie_features)"
      ]
    },
    {
      "cell_type": "code",
      "execution_count": 9,
      "metadata": {
        "id": "VJR1Ybd18t7g"
      },
      "outputs": [],
      "source": [
        "match_feature_dim = match_dh.get_feature_dim(data, match_user_features, match_movie_features, [])"
      ]
    },
    {
      "cell_type": "markdown",
      "metadata": {
        "id": "wMAdJxpc0x1U"
      },
      "source": [
        "# 1. Train match model and export embeddings <a name=\"section-1\"></a>"
      ]
    },
    {
      "cell_type": "code",
      "execution_count": 10,
      "metadata": {
        "id": "VnQIMObLn9U7"
      },
      "outputs": [],
      "source": [
        "# * add example_age^2 as showed in the original paper\n",
        "match_train['example_age_2'] = match_train['example_age']**2\n",
        "match_test['example_age_2'] = match_test['example_age']**2"
      ]
    },
    {
      "cell_type": "code",
      "execution_count": 11,
      "metadata": {
        "id": "DBLxg5truzM8"
      },
      "outputs": [],
      "source": [
        "match_user_dense_feats = ['example_age','example_age_2']\n",
        "match_user_sparse_feats = ['user_id','gender','age','occupation','zip']"
      ]
    },
    {
      "cell_type": "code",
      "execution_count": 12,
      "metadata": {
        "id": "UTtlNt_Z1rC-"
      },
      "outputs": [],
      "source": [
        "match_item_dense_feats = []\n",
        "match_item_sparse_feats = [f for f in match_movie_features if f!='genres']\n",
        "all_item_model_input = {f:np.array(data['item'][f].tolist()) for f in match_movie_features}"
      ]
    },
    {
      "cell_type": "code",
      "execution_count": 13,
      "metadata": {
        "id": "zSlMegzU1rC_"
      },
      "outputs": [],
      "source": [
        "feat_pool1 = FeaturePool()"
      ]
    },
    {
      "cell_type": "code",
      "execution_count": 14,
      "metadata": {
        "id": "mxDDKxm7uzM9"
      },
      "outputs": [],
      "source": [
        "match_item_features = [DenseFeature(x) for x in match_item_dense_feats] +\\\n",
        "                [SparseFeature(x, match_feature_dim[x], MATCH_EMBEDDING_DIM) for x in match_item_sparse_feats] +\\\n",
        "                [SparseSeqFeature(SparseFeature('genre_id', 19, MATCH_EMBEDDING_DIM), 'genres',6)]\n",
        "item_feature_group = EmbdFeatureGroup(\n",
        "    name='item', \n",
        "    id_name='movie_id', \n",
        "    features=match_item_features, \n",
        "    feature_pool=feat_pool1, \n",
        "    value_dict=all_item_model_input,\n",
        "    embd_dim=MATCH_EMBEDDING_DIM)"
      ]
    },
    {
      "cell_type": "code",
      "execution_count": 15,
      "metadata": {
        "id": "TjFfBv8A1rC_"
      },
      "outputs": [],
      "source": [
        "match_user_features = [DenseFeature(x) for x in match_user_dense_feats] +\\\n",
        "                [SparseFeature(x, match_feature_dim[x], MATCH_EMBEDDING_DIM) for x in match_user_sparse_feats] +\\\n",
        "                [SparseSeqFeature(item_feature_group, 'hist_movie_id',SEQ_LEN)]\n",
        "user_feature_group = FeatureGroup('user', match_user_features, feat_pool1)"
      ]
    },
    {
      "cell_type": "code",
      "execution_count": 16,
      "metadata": {
        "id": "lKURLYXkuzM-"
      },
      "outputs": [],
      "source": [
        "match_model = YouTubeMatchDNN(\n",
        "    user_feature_group, item_feature_group,\n",
        "    dnn_hidden_units=(512,256,MATCH_EMBEDDING_DIM), \n",
        "    dnn_dropout=0.1,\n",
        "    dnn_bn=True,\n",
        "    num_sampled=100\n",
        ")"
      ]
    },
    {
      "cell_type": "code",
      "execution_count": 17,
      "metadata": {
        "id": "9JemuD621-w8"
      },
      "outputs": [],
      "source": [
        "# plot_model(match_model)"
      ]
    },
    {
      "cell_type": "code",
      "execution_count": 18,
      "metadata": {
        "colab": {
          "base_uri": "https://localhost:8080/"
        },
        "id": "2xizKlTvuzM_",
        "outputId": "280ae30b-1751-40f1-f974-6ddffc85764b"
      },
      "outputs": [
        {
          "output_type": "stream",
          "name": "stdout",
          "text": [
            "Epoch 1/50\n",
            "207/207 [==============================] - 17s 53ms/step - loss: 3.4734 - val_loss: 3.4115\n",
            "Epoch 2/50\n",
            "207/207 [==============================] - 11s 51ms/step - loss: 2.8027 - val_loss: 2.9821\n",
            "Epoch 3/50\n",
            "207/207 [==============================] - 11s 52ms/step - loss: 2.5223 - val_loss: 2.4826\n",
            "Epoch 4/50\n",
            "207/207 [==============================] - 11s 52ms/step - loss: 2.3364 - val_loss: 2.3004\n",
            "Epoch 5/50\n",
            "207/207 [==============================] - 11s 53ms/step - loss: 2.1740 - val_loss: 2.2202\n",
            "Epoch 6/50\n",
            "207/207 [==============================] - 11s 53ms/step - loss: 2.0881 - val_loss: 2.0212\n",
            "Epoch 7/50\n",
            "207/207 [==============================] - 11s 52ms/step - loss: 2.0060 - val_loss: 2.0645\n",
            "Epoch 8/50\n",
            "207/207 [==============================] - 11s 53ms/step - loss: 1.9481 - val_loss: 1.9765\n",
            "Epoch 9/50\n",
            "207/207 [==============================] - 11s 53ms/step - loss: 1.8764 - val_loss: 1.9082\n",
            "Epoch 10/50\n",
            "207/207 [==============================] - 11s 52ms/step - loss: 1.8203 - val_loss: 1.9094\n",
            "Epoch 11/50\n",
            "207/207 [==============================] - 11s 54ms/step - loss: 1.7913 - val_loss: 1.8233\n",
            "Epoch 12/50\n",
            "207/207 [==============================] - 11s 53ms/step - loss: 1.7516 - val_loss: 1.8378\n",
            "Epoch 13/50\n",
            "207/207 [==============================] - 11s 53ms/step - loss: 1.7004 - val_loss: 1.8496\n",
            "Epoch 14/50\n",
            "207/207 [==============================] - 11s 53ms/step - loss: 1.6489 - val_loss: 1.8453\n",
            "Epoch 15/50\n",
            "207/207 [==============================] - 11s 53ms/step - loss: 1.6357 - val_loss: 1.8612\n",
            "Epoch 16/50\n",
            "207/207 [==============================] - 11s 54ms/step - loss: 1.5952 - val_loss: 1.7666\n",
            "Epoch 17/50\n",
            "207/207 [==============================] - 11s 53ms/step - loss: 1.5961 - val_loss: 1.7807\n",
            "Epoch 18/50\n",
            "207/207 [==============================] - 11s 53ms/step - loss: 1.5582 - val_loss: 1.8622\n",
            "Epoch 19/50\n",
            "207/207 [==============================] - 11s 55ms/step - loss: 1.5371 - val_loss: 1.7517\n",
            "Epoch 20/50\n",
            "207/207 [==============================] - 11s 55ms/step - loss: 1.5236 - val_loss: 1.7358\n",
            "Epoch 21/50\n",
            "207/207 [==============================] - 11s 54ms/step - loss: 1.5017 - val_loss: 1.7894\n",
            "Epoch 22/50\n",
            "207/207 [==============================] - 11s 54ms/step - loss: 1.4855 - val_loss: 1.8210\n",
            "Epoch 23/50\n",
            "207/207 [==============================] - 11s 54ms/step - loss: 1.4450 - val_loss: 1.7990\n",
            "Epoch 24/50\n",
            "207/207 [==============================] - 11s 55ms/step - loss: 1.4308 - val_loss: 1.7099\n",
            "Epoch 25/50\n",
            "207/207 [==============================] - 11s 54ms/step - loss: 1.4094 - val_loss: 1.7165\n",
            "Epoch 26/50\n",
            "207/207 [==============================] - 11s 54ms/step - loss: 1.4114 - val_loss: 1.7181\n",
            "Epoch 27/50\n",
            "207/207 [==============================] - 11s 54ms/step - loss: 1.3799 - val_loss: 1.7594\n",
            "Epoch 28/50\n",
            "207/207 [==============================] - 11s 54ms/step - loss: 1.3870 - val_loss: 1.7446\n",
            "Epoch 29/50\n",
            "207/207 [==============================] - 11s 54ms/step - loss: 1.3743 - val_loss: 1.7228\n",
            "Epoch 30/50\n",
            "207/207 [==============================] - 11s 54ms/step - loss: 1.3374 - val_loss: 1.7392\n",
            "Epoch 31/50\n",
            "207/207 [==============================] - 11s 55ms/step - loss: 1.3213 - val_loss: 1.6914\n",
            "Epoch 32/50\n",
            "207/207 [==============================] - 11s 54ms/step - loss: 1.3130 - val_loss: 1.7218\n",
            "Epoch 33/50\n",
            "207/207 [==============================] - 11s 54ms/step - loss: 1.2949 - val_loss: 1.7154\n",
            "Epoch 34/50\n",
            "207/207 [==============================] - 11s 54ms/step - loss: 1.3049 - val_loss: 1.7315\n",
            "Epoch 35/50\n",
            "207/207 [==============================] - 11s 54ms/step - loss: 1.2811 - val_loss: 1.7404\n",
            "Epoch 36/50\n",
            "207/207 [==============================] - 11s 55ms/step - loss: 1.2639 - val_loss: 1.6653\n",
            "Epoch 37/50\n",
            "207/207 [==============================] - 11s 54ms/step - loss: 1.2702 - val_loss: 1.7348\n",
            "Epoch 38/50\n",
            "207/207 [==============================] - 11s 54ms/step - loss: 1.2514 - val_loss: 1.7583\n",
            "Epoch 39/50\n",
            "207/207 [==============================] - 11s 54ms/step - loss: 1.2384 - val_loss: 1.8308\n",
            "Epoch 40/50\n",
            "207/207 [==============================] - 11s 54ms/step - loss: 1.2162 - val_loss: 1.7343\n",
            "Epoch 41/50\n",
            "207/207 [==============================] - 11s 54ms/step - loss: 1.2186 - val_loss: 1.8129\n",
            "Epoch 42/50\n",
            "207/207 [==============================] - 11s 54ms/step - loss: 1.1975 - val_loss: 1.7347\n",
            "Epoch 43/50\n",
            "207/207 [==============================] - 11s 54ms/step - loss: 1.1973 - val_loss: 1.7759\n",
            "Epoch 44/50\n",
            "207/207 [==============================] - 11s 54ms/step - loss: 1.1794 - val_loss: 1.7377\n",
            "Epoch 45/50\n",
            "207/207 [==============================] - 11s 54ms/step - loss: 1.1964 - val_loss: 1.7985\n",
            "Epoch 46/50\n",
            "207/207 [==============================] - 11s 54ms/step - loss: 1.1825 - val_loss: 1.7147\n",
            "Epoch 47/50\n",
            "207/207 [==============================] - 11s 54ms/step - loss: 1.1737 - val_loss: 1.8199\n",
            "Epoch 48/50\n",
            "207/207 [==============================] - 11s 54ms/step - loss: 1.1670 - val_loss: 1.7258\n",
            "Epoch 49/50\n",
            "207/207 [==============================] - 11s 54ms/step - loss: 1.1438 - val_loss: 1.7793\n",
            "Epoch 50/50\n",
            "207/207 [==============================] - 11s 54ms/step - loss: 1.1636 - val_loss: 1.8020\n"
          ]
        }
      ],
      "source": [
        "match_model.compile(optimizer=tf.keras.optimizers.Adam(lr=5e-4), loss=sampledsoftmaxloss)\n",
        "early_stop = tf.keras.callbacks.EarlyStopping(monitor='val_loss', patience=20)\n",
        "checkpoint = tf.keras.callbacks.ModelCheckpoint(\n",
        "    filepath='./match_checkpoint/',\n",
        "    save_weights_only=True,\n",
        "    monitor='val_loss',\n",
        "    mode='min',\n",
        "    save_best_only=True)\n",
        "history = match_model.fit(match_train, match_train_label,\n",
        "                            batch_size=BATCH_SIZE, \n",
        "                            epochs=NEPOCH,\n",
        "                            verbose=1,\n",
        "                            validation_split=0.1,\n",
        "                            callbacks=[early_stop,checkpoint])"
      ]
    },
    {
      "cell_type": "code",
      "execution_count": 19,
      "metadata": {
        "colab": {
          "base_uri": "https://localhost:8080/"
        },
        "id": "AGebkIE0uzM_",
        "outputId": "23c4c53d-8652-4b18-ff12-7a95c8bd2ca8"
      },
      "outputs": [
        {
          "output_type": "execute_result",
          "data": {
            "text/plain": [
              "<tensorflow.python.training.tracking.util.CheckpointLoadStatus at 0x7f42a03bae90>"
            ]
          },
          "metadata": {},
          "execution_count": 19
        }
      ],
      "source": [
        "match_model.load_weights('./match_checkpoint/')"
      ]
    },
    {
      "cell_type": "code",
      "execution_count": 20,
      "metadata": {
        "colab": {
          "base_uri": "https://localhost:8080/"
        },
        "id": "G9AxEdKbuzM_",
        "outputId": "78dcdda4-a489-4f84-8725-8f1c6e28b936"
      },
      "outputs": [
        {
          "output_type": "stream",
          "name": "stdout",
          "text": [
            "(6040, 256)\n",
            "(3883, 256)\n"
          ]
        }
      ],
      "source": [
        "user_embedding_model = Model(inputs=match_model.user_input, outputs=match_model.user_embedding)\n",
        "item_embedding_model = Model(inputs=match_model.item_input, outputs=match_model.item_embedding)\n",
        "\n",
        "user_embs = user_embedding_model.predict(match_test, batch_size=2 ** 15)\n",
        "item_embs = item_embedding_model.predict(all_item_model_input, batch_size=2 ** 15)\n",
        "\n",
        "print(user_embs.shape)\n",
        "print(item_embs.shape)"
      ]
    },
    {
      "cell_type": "markdown",
      "metadata": {
        "id": "UJ49Jxnf0-1O"
      },
      "source": [
        "# 2. Use Faiss to generate candidates <a name=\"section-2\"></a>"
      ]
    },
    {
      "cell_type": "markdown",
      "metadata": {
        "id": "qEAI8Rl7hzgv"
      },
      "source": [
        "## Test match model"
      ]
    },
    {
      "cell_type": "code",
      "execution_count": 21,
      "metadata": {
        "id": "cr39MwzduzNA"
      },
      "outputs": [],
      "source": [
        "candidates = search_embedding(\n",
        "    MATCH_EMBEDDING_DIM, \n",
        "    item_embs, \n",
        "    user_embs,\n",
        "    data['item']['movie_id'].values,\n",
        "    CANDIDATE_NUM)"
      ]
    },
    {
      "cell_type": "code",
      "execution_count": 22,
      "metadata": {
        "colab": {
          "base_uri": "https://localhost:8080/"
        },
        "id": "ZLc_JPubuzNB",
        "outputId": "04518c8b-0326-4f6c-e75f-67d2c422e130"
      },
      "outputs": [
        {
          "output_type": "execute_result",
          "data": {
            "text/plain": [
              "0.0355188229265216"
            ]
          },
          "metadata": {},
          "execution_count": 22
        }
      ],
      "source": [
        "map_at_k(match_test_label, candidates, k=10)"
      ]
    },
    {
      "cell_type": "code",
      "execution_count": 23,
      "metadata": {
        "colab": {
          "base_uri": "https://localhost:8080/"
        },
        "id": "kap-zVgguzNC",
        "outputId": "4a7086f9-8c39-4b07-9d1d-b0a517ef9aac"
      },
      "outputs": [
        {
          "output_type": "execute_result",
          "data": {
            "text/plain": [
              "0.08423841059602648"
            ]
          },
          "metadata": {},
          "execution_count": 23
        }
      ],
      "source": [
        "recall_at_k(match_test_label, candidates, k=10)"
      ]
    },
    {
      "cell_type": "code",
      "execution_count": 24,
      "metadata": {
        "colab": {
          "base_uri": "https://localhost:8080/"
        },
        "id": "WyU4hfCihzgw",
        "outputId": "bd4c90ff-0477-474c-eec4-86bcea87337b"
      },
      "outputs": [
        {
          "output_type": "execute_result",
          "data": {
            "text/plain": [
              "0.44639072847682115"
            ]
          },
          "metadata": {},
          "execution_count": 24
        }
      ],
      "source": [
        "recall_at_k(match_test_label, candidates, k=100)"
      ]
    },
    {
      "cell_type": "markdown",
      "metadata": {
        "id": "l9L5duhQhzgw"
      },
      "source": [
        "## Prepare data for ranking"
      ]
    },
    {
      "cell_type": "code",
      "execution_count": 25,
      "metadata": {
        "id": "XpXydY19hzgx"
      },
      "outputs": [],
      "source": [
        "test_user_embs = user_embedding_model.predict(match_test, batch_size=2 ** 15)\n",
        "test_candidates = search_embedding(\n",
        "    MATCH_EMBEDDING_DIM, \n",
        "    item_embs, \n",
        "    test_user_embs,\n",
        "    data['item']['movie_id'].values,\n",
        "    CANDIDATE_NUM)\n",
        "\n",
        "test_candidates = {\n",
        "    match_test['user_id'][i] : test_candidates[i]\n",
        "    for i in range(test_candidates.shape[0])\n",
        "}"
      ]
    },
    {
      "cell_type": "code",
      "execution_count": 26,
      "metadata": {
        "colab": {
          "base_uri": "https://localhost:8080/"
        },
        "id": "yynuwvUppia6",
        "outputId": "e00ef0d8-3c91-4e44-c5fa-8fe485b1eca9"
      },
      "outputs": [
        {
          "output_type": "execute_result",
          "data": {
            "text/plain": [
              "1983"
            ]
          },
          "metadata": {},
          "execution_count": 26
        }
      ],
      "source": [
        "del user_embs, item_embs, match_train, match_train_label, test_user_embs\n",
        "gc.collect()"
      ]
    },
    {
      "cell_type": "code",
      "execution_count": 27,
      "metadata": {
        "colab": {
          "base_uri": "https://localhost:8080/"
        },
        "id": "HzBXnYuwhzgx",
        "outputId": "9fa4a538-85c9-4b91-899a-99d1eae1304e"
      },
      "outputs": [
        {
          "output_type": "stream",
          "name": "stderr",
          "text": [
            "Generate train set: 100%|██████████| 6040/6040 [00:07<00:00, 787.95it/s]\n",
            "Save user features: 100%|██████████| 4/4 [00:06<00:00,  1.68s/it]\n",
            "Save item features: 100%|██████████| 2/2 [00:11<00:00,  5.84s/it]\n"
          ]
        }
      ],
      "source": [
        "rank_dh = MovieRankDataHelper('./ml-1m/')\n",
        "rank_user_features = ['user_id','gender','age','occupation','zip']\n",
        "rank_movie_features = [f for f in data['item'].columns if f != 'title']\n",
        "\n",
        "rank_dh.gen_dataset(rank_user_features+rank_movie_features, data, test_candidates, seq_max_len=SEQ_LEN, negnum=NEG_NUM, neg_seq=True)"
      ]
    },
    {
      "cell_type": "code",
      "execution_count": 28,
      "metadata": {
        "colab": {
          "base_uri": "https://localhost:8080/"
        },
        "id": "4wQASPHrhzgx",
        "outputId": "e0e88100-3597-40e7-c447-780a28461893"
      },
      "outputs": [
        {
          "output_type": "stream",
          "name": "stderr",
          "text": [
            "Load user features: 100%|██████████| 9/9 [00:01<00:00,  8.87it/s]\n",
            "Load movie features: 100%|██████████| 3/3 [00:00<00:00, 17.35it/s]\n"
          ]
        }
      ],
      "source": [
        "rank_train, rank_train_label, rank_test = rank_dh.load_dataset(rank_user_features, rank_movie_features, neg_seq=True)"
      ]
    },
    {
      "cell_type": "code",
      "execution_count": 29,
      "metadata": {
        "id": "of_PY0kv9UZx"
      },
      "outputs": [],
      "source": [
        "rank_feature_dim = rank_dh.get_feature_dim(data, rank_user_features, rank_movie_features, [])"
      ]
    },
    {
      "cell_type": "markdown",
      "metadata": {
        "id": "kyApc4cJhzgy"
      },
      "source": [
        "# 3. Train rank model and predict <a name=\"section-3\"></a>"
      ]
    },
    {
      "cell_type": "code",
      "execution_count": 30,
      "metadata": {
        "id": "XVzs-bBwhzgy"
      },
      "outputs": [],
      "source": [
        "rank_user_dense_feats = []\n",
        "rank_user_sparse_feats = ['user_id','gender','age','occupation', 'zip']\n",
        "rank_item_dense_feats = []\n",
        "rank_item_sparse_feats = [f for f in rank_movie_features if f!='genres']"
      ]
    },
    {
      "cell_type": "code",
      "execution_count": 31,
      "metadata": {
        "id": "oF5VHXXT1rDE"
      },
      "outputs": [],
      "source": [
        "feat_pool2 = FeaturePool()"
      ]
    },
    {
      "cell_type": "code",
      "execution_count": 32,
      "metadata": {
        "id": "_W0I78V11rDE"
      },
      "outputs": [],
      "source": [
        "all_item_model_input = {f:np.array(data['item'][f].tolist()) for f in match_movie_features}\n",
        "rank_item_feats = [SparseFeature(x, rank_feature_dim[x], RANK_EMBEDDING_DIM) for x in rank_item_sparse_feats] +\\\n",
        "                [DenseFeature(x) for x in rank_item_dense_feats] +\\\n",
        "                [SparseSeqFeature(SparseFeature('genre_id', 19, RANK_EMBEDDING_DIM), 'genres',6)]\n",
        "item_feature_group = EmbdFeatureGroup(\n",
        "    name='item', \n",
        "    id_name='movie_id', \n",
        "    features=rank_item_feats, \n",
        "    feature_pool=feat_pool2, \n",
        "    value_dict=all_item_model_input,\n",
        "    embd_dim=RANK_EMBEDDING_DIM\n",
        ")"
      ]
    },
    {
      "cell_type": "code",
      "execution_count": 33,
      "metadata": {
        "id": "PBpQkyWq1rDE"
      },
      "outputs": [],
      "source": [
        "item_seq_features = [SparseSeqFeature(item_feature_group, 'hist_movie_id', SEQ_LEN)]\n",
        "item_seq_feat_group = FeatureGroup('item_seq', item_seq_features, feat_pool2)\n",
        "neg_item_seq_features = [SparseSeqFeature(item_feature_group, 'neg_hist_movie_id', SEQ_LEN)]\n",
        "neg_item_seq_feat_group = FeatureGroup('neg_item_seq', neg_item_seq_features, feat_pool2)"
      ]
    },
    {
      "cell_type": "code",
      "execution_count": 34,
      "metadata": {
        "id": "yNUUQSzO6A8J"
      },
      "outputs": [],
      "source": [
        "other_feats = [DenseFeature(x) for x in rank_user_dense_feats] +\\\n",
        "                [SparseFeature(x, rank_feature_dim[x], RANK_EMBEDDING_DIM) for x in rank_user_sparse_feats]\n",
        "other_feature_group = FeatureGroup('others', other_feats, feat_pool2)"
      ]
    },
    {
      "cell_type": "code",
      "execution_count": 35,
      "metadata": {
        "id": "_uvYZtxBhzgy"
      },
      "outputs": [],
      "source": [
        "rank_model = DIEN(\n",
        "    item_seq_feat_group, neg_item_seq_feat_group, other_feature_group,\n",
        "    gru_units=RANK_EMBEDDING_DIM, gru_dropout=0.1,\n",
        "    lau_dnn_hidden_units=(36,1), lau_dnn_activation='dice', lau_dnn_dropout=0., lau_l2_dnn=0.2, lau_dnn_bn=False,\n",
        "    augru_units=RANK_EMBEDDING_DIM,\n",
        "    dnn_hidden_units=(256,128,1), dnn_activation='dice', dnn_dropout=0.2, l2_dnn=0.2, dnn_bn=True,\n",
        ")"
      ]
    },
    {
      "cell_type": "code",
      "execution_count": 36,
      "metadata": {
        "colab": {
          "base_uri": "https://localhost:8080/"
        },
        "id": "H8l7JU3phzgy",
        "outputId": "483a201a-e3c4-49a0-b3b9-e629dbbfbf74"
      },
      "outputs": [
        {
          "output_type": "stream",
          "name": "stdout",
          "text": [
            "Epoch 1/50\n",
            "1136/1136 [==============================] - 481s 414ms/step - loss: 146.0373 - val_loss: 50.5035\n",
            "Epoch 2/50\n",
            "1136/1136 [==============================] - 469s 413ms/step - loss: 30.9605 - val_loss: 19.0266\n",
            "Epoch 3/50\n",
            "1136/1136 [==============================] - 469s 413ms/step - loss: 14.6056 - val_loss: 11.7918\n",
            "Epoch 4/50\n",
            "1136/1136 [==============================] - 469s 413ms/step - loss: 10.9605 - val_loss: 9.5636\n",
            "Epoch 5/50\n",
            "1136/1136 [==============================] - 469s 413ms/step - loss: 8.9742 - val_loss: 7.9372\n",
            "Epoch 6/50\n",
            "1136/1136 [==============================] - 469s 413ms/step - loss: 7.6490 - val_loss: 7.3068\n",
            "Epoch 7/50\n",
            "1136/1136 [==============================] - 469s 413ms/step - loss: 6.5698 - val_loss: 5.9168\n",
            "Epoch 8/50\n",
            "1136/1136 [==============================] - 469s 413ms/step - loss: 5.9415 - val_loss: 5.4222\n",
            "Epoch 9/50\n",
            "1136/1136 [==============================] - 469s 413ms/step - loss: 5.6829 - val_loss: 10.0262\n",
            "Epoch 10/50\n",
            "1136/1136 [==============================] - 470s 414ms/step - loss: 5.2923 - val_loss: 4.7778\n",
            "Epoch 11/50\n",
            "1136/1136 [==============================] - 470s 413ms/step - loss: 5.0116 - val_loss: 4.6140\n",
            "Epoch 12/50\n",
            "1136/1136 [==============================] - 469s 413ms/step - loss: 4.7603 - val_loss: 4.3652\n",
            "Epoch 13/50\n",
            "1136/1136 [==============================] - 470s 413ms/step - loss: 4.5403 - val_loss: 4.2439\n",
            "Epoch 14/50\n",
            "1136/1136 [==============================] - 470s 413ms/step - loss: 4.4059 - val_loss: 4.1294\n",
            "Epoch 15/50\n",
            "1136/1136 [==============================] - 469s 413ms/step - loss: 4.4309 - val_loss: 4.3443\n",
            "Epoch 16/50\n",
            "1136/1136 [==============================] - 470s 413ms/step - loss: 4.2791 - val_loss: 3.8723\n",
            "Epoch 17/50\n",
            "1136/1136 [==============================] - 470s 414ms/step - loss: 4.2051 - val_loss: 3.8974\n",
            "Epoch 18/50\n",
            "1136/1136 [==============================] - 469s 413ms/step - loss: 4.0095 - val_loss: 3.7721\n",
            "Epoch 19/50\n",
            "1136/1136 [==============================] - 470s 414ms/step - loss: 3.9036 - val_loss: 3.6728\n",
            "Epoch 20/50\n",
            "1136/1136 [==============================] - 469s 413ms/step - loss: 3.8356 - val_loss: 3.5325\n",
            "Epoch 21/50\n",
            "1136/1136 [==============================] - 470s 414ms/step - loss: 3.7902 - val_loss: 3.6417\n",
            "Epoch 22/50\n",
            "1136/1136 [==============================] - 470s 413ms/step - loss: 3.6800 - val_loss: 3.5784\n",
            "Epoch 23/50\n",
            "1136/1136 [==============================] - 470s 413ms/step - loss: 3.6469 - val_loss: 3.5168\n",
            "Epoch 24/50\n",
            "1136/1136 [==============================] - 470s 414ms/step - loss: 3.6084 - val_loss: 3.5581\n",
            "Epoch 25/50\n",
            "1136/1136 [==============================] - 470s 414ms/step - loss: 3.5943 - val_loss: 3.3165\n",
            "Epoch 26/50\n",
            "1136/1136 [==============================] - 469s 413ms/step - loss: 3.5961 - val_loss: 3.4637\n",
            "Epoch 27/50\n",
            "1136/1136 [==============================] - 470s 413ms/step - loss: 3.5601 - val_loss: 3.3686\n",
            "Epoch 28/50\n",
            "1136/1136 [==============================] - 470s 414ms/step - loss: 3.5339 - val_loss: 3.3791\n",
            "Epoch 29/50\n",
            "1136/1136 [==============================] - 470s 414ms/step - loss: 3.4929 - val_loss: 3.2857\n",
            "Epoch 30/50\n",
            "1136/1136 [==============================] - 470s 414ms/step - loss: 3.4382 - val_loss: 3.2632\n",
            "Epoch 31/50\n",
            "1136/1136 [==============================] - 470s 414ms/step - loss: 3.4815 - val_loss: 3.3640\n",
            "Epoch 32/50\n",
            "1136/1136 [==============================] - 470s 414ms/step - loss: 3.4417 - val_loss: 3.2139\n",
            "Epoch 33/50\n",
            "1136/1136 [==============================] - 470s 414ms/step - loss: 3.3950 - val_loss: 3.1492\n",
            "Epoch 34/50\n",
            "1136/1136 [==============================] - 470s 414ms/step - loss: 3.4484 - val_loss: 3.1839\n",
            "Epoch 35/50\n",
            "1136/1136 [==============================] - 470s 414ms/step - loss: 3.4041 - val_loss: 3.1401\n",
            "Epoch 36/50\n",
            "1136/1136 [==============================] - 470s 414ms/step - loss: 3.3932 - val_loss: 3.1413\n",
            "Epoch 37/50\n",
            "1136/1136 [==============================] - 470s 414ms/step - loss: 3.3377 - val_loss: 3.4467\n",
            "Epoch 38/50\n",
            "1136/1136 [==============================] - 470s 413ms/step - loss: 3.4821 - val_loss: 3.2404\n",
            "Epoch 39/50\n",
            "1136/1136 [==============================] - 470s 414ms/step - loss: 3.3367 - val_loss: 3.0231\n",
            "Epoch 40/50\n",
            "1136/1136 [==============================] - 470s 414ms/step - loss: 3.2858 - val_loss: 3.0309\n",
            "Epoch 41/50\n",
            "1136/1136 [==============================] - 470s 413ms/step - loss: 3.3174 - val_loss: 3.0725\n",
            "Epoch 42/50\n",
            "1136/1136 [==============================] - 469s 413ms/step - loss: 3.2722 - val_loss: 2.9427\n",
            "Epoch 43/50\n",
            "1136/1136 [==============================] - 469s 413ms/step - loss: 3.2208 - val_loss: 2.9266\n",
            "Epoch 44/50\n",
            "1136/1136 [==============================] - 470s 413ms/step - loss: 3.2190 - val_loss: 2.9154\n",
            "Epoch 45/50\n",
            "1136/1136 [==============================] - 469s 413ms/step - loss: 3.1730 - val_loss: 2.9026\n",
            "Epoch 46/50\n",
            "1136/1136 [==============================] - 472s 415ms/step - loss: 3.2892 - val_loss: 3.0010\n",
            "Epoch 47/50\n",
            "1136/1136 [==============================] - 469s 413ms/step - loss: 3.1790 - val_loss: 2.9390\n",
            "Epoch 48/50\n",
            "1136/1136 [==============================] - 469s 413ms/step - loss: 3.2086 - val_loss: 2.9886\n",
            "Epoch 49/50\n",
            "1136/1136 [==============================] - 469s 413ms/step - loss: 3.1161 - val_loss: 2.9894\n",
            "Epoch 50/50\n",
            "1136/1136 [==============================] - 469s 413ms/step - loss: 3.1523 - val_loss: 2.8623\n"
          ]
        }
      ],
      "source": [
        "rank_model.compile(optimizer=tf.keras.optimizers.Adam(lr=1e-4), loss=binary_crossentropy)\n",
        "early_stop = tf.keras.callbacks.EarlyStopping(monitor='loss', patience=5)\n",
        "checkpoint = tf.keras.callbacks.ModelCheckpoint(\n",
        "    filepath='./rank_checkpoint/',\n",
        "    save_weights_only=True,\n",
        "    monitor='loss',\n",
        "    mode='min',\n",
        "    save_best_only=True)\n",
        "history = rank_model.fit(rank_train, rank_train_label,\n",
        "                    batch_size=BATCH_SIZE*2, \n",
        "                    epochs=NEPOCH,\n",
        "                    verbose=1,\n",
        "                    validation_split=0.1,\n",
        "                    callbacks=[early_stop,checkpoint])"
      ]
    },
    {
      "cell_type": "code",
      "execution_count": 37,
      "metadata": {
        "id": "w52A7cJ8hzgz",
        "colab": {
          "base_uri": "https://localhost:8080/"
        },
        "outputId": "2f23514c-b36b-42dc-e540-7cdb5eee3baa"
      },
      "outputs": [
        {
          "output_type": "execute_result",
          "data": {
            "text/plain": [
              "<tensorflow.python.training.tracking.util.CheckpointLoadStatus at 0x7f429511e550>"
            ]
          },
          "metadata": {},
          "execution_count": 37
        }
      ],
      "source": [
        "rank_model.load_weights('./rank_checkpoint/')"
      ]
    },
    {
      "cell_type": "code",
      "execution_count": 38,
      "metadata": {
        "id": "Fr61KpmewPuB",
        "colab": {
          "base_uri": "https://localhost:8080/"
        },
        "outputId": "560b2789-1287-452c-d253-92a71c69d844"
      },
      "outputs": [
        {
          "output_type": "execute_result",
          "data": {
            "text/plain": [
              "2369"
            ]
          },
          "metadata": {},
          "execution_count": 38
        }
      ],
      "source": [
        "del rank_train\n",
        "gc.collect()"
      ]
    },
    {
      "cell_type": "code",
      "execution_count": 39,
      "metadata": {
        "id": "zUQJ7IdLhzgz"
      },
      "outputs": [],
      "source": [
        "pred = rank_model.predict(rank_test, batch_size=BATCH_SIZE*2)"
      ]
    },
    {
      "cell_type": "code",
      "execution_count": 40,
      "metadata": {
        "id": "SoCzRNuphzgz"
      },
      "outputs": [],
      "source": [
        "pred_df = pd.DataFrame(columns=['user_id','movie_id','pred'])\n",
        "pred_df['user_id'] = rank_test['user_id']\n",
        "pred_df['movie_id'] = rank_test['movie_id']\n",
        "pred_df['pred'] = pred\n",
        "\n",
        "pred_df = pred_df.sort_values(by=['user_id','pred'], ascending=False).reset_index(drop=True)\n",
        "pred_df = pred_df.groupby('user_id')['movie_id'].apply(list).reset_index()"
      ]
    },
    {
      "cell_type": "code",
      "execution_count": 41,
      "metadata": {
        "id": "rEQ9sQGjhzgz"
      },
      "outputs": [],
      "source": [
        "test_label_df = pd.DataFrame(columns=['user_id','label'])\n",
        "test_label_df['user_id'] = match_test['user_id']\n",
        "test_label_df['label'] = match_test_label.tolist()"
      ]
    },
    {
      "cell_type": "code",
      "execution_count": 42,
      "metadata": {
        "id": "5T_uOn5Ohzgz"
      },
      "outputs": [],
      "source": [
        "test_label_df = pd.merge(test_label_df, pred_df, on=['user_id'], how='left')"
      ]
    },
    {
      "cell_type": "code",
      "execution_count": 43,
      "metadata": {
        "id": "0HXT3XxAhzgz",
        "colab": {
          "base_uri": "https://localhost:8080/"
        },
        "outputId": "f6ed1abb-3dd7-4cf7-870e-c9c8cbc4ef15"
      },
      "outputs": [
        {
          "output_type": "execute_result",
          "data": {
            "text/plain": [
              "0.018196612530221805"
            ]
          },
          "metadata": {},
          "execution_count": 43
        }
      ],
      "source": [
        "map_at_k(test_label_df['label'], test_label_df['movie_id'], k=10)"
      ]
    },
    {
      "cell_type": "code",
      "execution_count": 44,
      "metadata": {
        "id": "HHzj8iJKhzgz",
        "colab": {
          "base_uri": "https://localhost:8080/"
        },
        "outputId": "1b424e72-4a6f-41c0-b325-54b3f2d1e4b1"
      },
      "outputs": [
        {
          "output_type": "execute_result",
          "data": {
            "text/plain": [
              "0.05559602649006623"
            ]
          },
          "metadata": {},
          "execution_count": 44
        }
      ],
      "source": [
        "recall_at_k(test_label_df['label'], test_label_df['movie_id'], k=10)"
      ]
    },
    {
      "cell_type": "code",
      "execution_count": 45,
      "metadata": {
        "id": "y5L5ijkE-H1x",
        "colab": {
          "base_uri": "https://localhost:8080/"
        },
        "outputId": "49de58e1-7966-4ae5-a953-0b51430875db"
      },
      "outputs": [
        {
          "output_type": "execute_result",
          "data": {
            "text/plain": [
              "0.44639072847682115"
            ]
          },
          "metadata": {},
          "execution_count": 45
        }
      ],
      "source": [
        "recall_at_k(test_label_df['label'], test_label_df['movie_id'], k=100)"
      ]
    }
  ],
  "metadata": {
    "accelerator": "GPU",
    "colab": {
      "collapsed_sections": [],
      "machine_shape": "hm",
      "name": "DIEN.ipynb",
      "provenance": []
    },
    "interpreter": {
      "hash": "36ffe6fb3c240fa6c4076fd88b70fbfe6fedfb8bb090683a5b6477a7931128e7"
    },
    "kernelspec": {
      "display_name": "handyrec",
      "language": "python",
      "name": "handyrec"
    },
    "language_info": {
      "codemirror_mode": {
        "name": "ipython",
        "version": 3
      },
      "file_extension": ".py",
      "mimetype": "text/x-python",
      "name": "python",
      "nbconvert_exporter": "python",
      "pygments_lexer": "ipython3",
      "version": "3.7.11"
    },
    "orig_nbformat": 4
  },
  "nbformat": 4,
  "nbformat_minor": 0
}