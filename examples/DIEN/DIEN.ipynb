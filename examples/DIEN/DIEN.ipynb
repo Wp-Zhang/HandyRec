{
  "cells": [
    {
      "cell_type": "markdown",
      "metadata": {
        "id": "FXD2RCXzuzMx"
      },
      "source": [
        "[![Open In Colab](https://colab.research.google.com/assets/colab-badge.svg)](https://colab.research.google.com/github/Wp-Zhang/HandyRec/blob/master/examples/DIEN/DIEN.ipynb)"
      ]
    },
    {
      "cell_type": "markdown",
      "metadata": {
        "id": "OJKT5uytzl7t"
      },
      "source": [
        "> This notebook runs DIEN on MovieLens1M dataset. We'll use YouTubeDNN for generating candidates and DIEN for ranking these candidates.\n",
        "\n",
        "> Only movies with ratings larger than 3 are treated as 'positive' samples for each user. Every last 10 'positive' movies of each user are held out for testing."
      ]
    },
    {
      "cell_type": "markdown",
      "metadata": {
        "id": "YtD_3eG3xekg"
      },
      "source": [
        "## Table of Contents:\n",
        "* [Prepare data for retrieval](#section-0)\n",
        "* [Train retrieve model and export embeddings](#section-1)\n",
        "* [Use Faiss to generate candidates](#section-2)\n",
        "* [Train rank model and predict](#section-3)"
      ]
    },
    {
      "cell_type": "markdown",
      "metadata": {
        "id": "XFTLC9SQzxK4"
      },
      "source": [
        "**Download dataset and install packages**"
      ]
    },
    {
      "cell_type": "code",
      "execution_count": 1,
      "metadata": {
        "colab": {
          "base_uri": "https://localhost:8080/"
        },
        "id": "WSk1WSSpvXfL",
        "outputId": "8672f6b0-82da-4e32-db8d-b64ac8b877eb"
      },
      "outputs": [
        {
          "name": "stdout",
          "output_type": "stream",
          "text": [
            "Cloning into 'HandyRec'...\n",
            "remote: Enumerating objects: 1753, done.\u001b[K\n",
            "remote: Counting objects: 100% (1753/1753), done.\u001b[K\n",
            "remote: Compressing objects: 100% (1294/1294), done.\u001b[K\n",
            "remote: Total 1753 (delta 717), reused 1345 (delta 407), pack-reused 0\u001b[K\n",
            "Receiving objects: 100% (1753/1753), 20.93 MiB | 24.49 MiB/s, done.\n",
            "Resolving deltas: 100% (717/717), done.\n",
            "Collecting faiss-cpu\n",
            "  Downloading faiss_cpu-1.7.2-cp37-cp37m-manylinux_2_17_x86_64.manylinux2014_x86_64.whl (8.6 MB)\n",
            "\u001b[K     |████████████████████████████████| 8.6 MB 4.2 MB/s \n",
            "\u001b[?25hInstalling collected packages: faiss-cpu\n",
            "Successfully installed faiss-cpu-1.7.2\n"
          ]
        }
      ],
      "source": [
        "! git clone https://github.com/Wp-Zhang/HandyRec.git\n",
        "! cd HandyRec && python setup.py install\n",
        "! pip install faiss-gpu"
      ]
    },
    {
      "cell_type": "code",
      "execution_count": 2,
      "metadata": {
        "colab": {
          "base_uri": "https://localhost:8080/"
        },
        "id": "uiIqXdbUyCEi",
        "outputId": "4269abb9-2291-4be3-cbd5-531b3b61d380"
      },
      "outputs": [
        {
          "name": "stdout",
          "output_type": "stream",
          "text": [
            "--2022-04-16 05:32:40--  https://files.grouplens.org/datasets/movielens/ml-1m.zip\n",
            "Resolving files.grouplens.org (files.grouplens.org)... 128.101.65.152\n",
            "Connecting to files.grouplens.org (files.grouplens.org)|128.101.65.152|:443... connected.\n",
            "HTTP request sent, awaiting response... 200 OK\n",
            "Length: 5917549 (5.6M) [application/zip]\n",
            "Saving to: ‘./ml-1m.zip’\n",
            "\n",
            "./ml-1m.zip         100%[===================>]   5.64M  18.4MB/s    in 0.3s    \n",
            "\n",
            "2022-04-16 05:32:40 (18.4 MB/s) - ‘./ml-1m.zip’ saved [5917549/5917549]\n",
            "\n",
            "Archive:  ml-1m.zip\n",
            "   creating: ml-1m/\n",
            "  inflating: ml-1m/movies.dat        \n",
            "  inflating: ml-1m/ratings.dat       \n",
            "  inflating: ml-1m/README            \n",
            "  inflating: ml-1m/users.dat         \n"
          ]
        }
      ],
      "source": [
        "! wget https://files.grouplens.org/datasets/movielens/ml-1m.zip -O ./ml-1m.zip\n",
        "! unzip -o ml-1m.zip"
      ]
    },
    {
      "cell_type": "markdown",
      "metadata": {
        "id": "gsUc0pRE0BEH"
      },
      "source": [
        "**Import relative packages**"
      ]
    },
    {
      "cell_type": "code",
      "execution_count": 4,
      "metadata": {
        "id": "NlQtiTrmuzM3"
      },
      "outputs": [],
      "source": [
        "from handyrec.data.movielens import MovielensDataHelper\n",
        "from handyrec.data.utils import gen_sequence\n",
        "from handyrec.data import SequenceWiseDataset\n",
        "\n",
        "from handyrec.models.ranking import DIEN\n",
        "from handyrec.config import ConfigLoader\n",
        "from handyrec.data.metrics import map_at_k, recall_at_k\n",
        "from handyrec.models.utils import search_embedding\n",
        "\n",
        "import tensorflow as tf\n",
        "from tensorflow.keras import Model\n",
        "from tensorflow.keras.losses import binary_crossentropy\n",
        "from tensorflow.keras.utils import plot_model\n",
        "import numpy as np\n",
        "import pandas as pd\n",
        "import gc"
      ]
    },
    {
      "cell_type": "code",
      "execution_count": 5,
      "metadata": {
        "id": "iYOxv7-auzM3"
      },
      "outputs": [],
      "source": [
        "import warnings\n",
        "warnings.filterwarnings('ignore')"
      ]
    },
    {
      "cell_type": "code",
      "execution_count": 6,
      "metadata": {
        "id": "W8jyTPiz8K13"
      },
      "outputs": [],
      "source": [
        "BATCH_SIZE = 2**12\n",
        "NEPOCH = 50\n",
        "\n",
        "TEST_NUM = 10\n",
        "VALID_RATIO = 0.1\n",
        "NEG_NUM = 10"
      ]
    },
    {
      "cell_type": "markdown",
      "metadata": {
        "id": "w_DucRHEwD4f"
      },
      "source": [
        "***Note:*** DIEN requires a SequenceWiseDataset dataset as input, which consumes much more memory than other types of datasets as it has both negative samples and negative sequences. If the notebook crashed, please consider lowering the values of `SEQ_LEN` and `NEG_NUM`."
      ]
    },
    {
      "cell_type": "markdown",
      "metadata": {
        "id": "eee7ogIugZI1"
      },
      "source": [
        "**Load MovieLens1M data**"
      ]
    },
    {
      "cell_type": "code",
      "execution_count": 7,
      "metadata": {
        "colab": {
          "base_uri": "https://localhost:8080/"
        },
        "id": "bwNXcq6hgZI2",
        "outputId": "0be71382-32bf-496c-c0b8-2d8f3bb6844a"
      },
      "outputs": [
        {
          "name": "stderr",
          "output_type": "stream",
          "text": [
            "Encode User Sparse Feats: 100%|██████████| 4/4 [00:00<00:00, 156.89it/s]\n",
            "Encode Item Sparse Feats: 100%|██████████| 1/1 [00:00<00:00, 193.88it/s]\n",
            "Generate movie_id sequence: 100%|██████████| 6040/6040 [00:04<00:00, 1291.04it/s]\n"
          ]
        }
      ],
      "source": [
        "retrieve_dh = MovielensDataHelper('./ml-1m/')\n",
        "data = retrieve_dh.get_clean_data(sparse_features=['gender','occupation','zip','age','year'])\n",
        "data['inter']['hist_movie'] = gen_sequence(data['inter'], 'user_id', 'movie_id', seq_len=15)"
      ]
    },
    {
      "cell_type": "markdown",
      "metadata": {
        "id": "l9L5duhQhzgw"
      },
      "source": [
        "## Prepare data for ranking"
      ]
    },
    {
      "cell_type": "code",
      "execution_count": null,
      "metadata": {},
      "outputs": [],
      "source": [
        "# * Use pre-trained embeddings and Faiss to generate candidates\n",
        "user_embs = np.load(\"./HandyRec/examples/DSSM/DSSM_user_embd.npy\")\n",
        "item_embs = np.load(\"./HandyRec/examples/DSSM/DSSM_item_embd.npy\")\n",
        "user_ids = np.load(\"./HandyRec/examples/DSSM/user_ids.npy\")\n",
        "\n",
        "test_candidates = search_embedding(\n",
        "    32, item_embs, user_embs, data[\"item\"][\"movie_id\"].values, 100, gpu=True\n",
        ")\n",
        "\n",
        "test_candidates = {user_ids[i] : test_candidates[i] for i in range(len(user_ids))}"
      ]
    },
    {
      "cell_type": "code",
      "execution_count": 26,
      "metadata": {
        "id": "hgGAvx-lgZJF"
      },
      "outputs": [],
      "source": [
        "user_features = ['user_id', 'gender', 'occupation']\n",
        "item_features = ['movie_id', 'genres']\n",
        "inter_features = ['hist_movie']"
      ]
    },
    {
      "cell_type": "code",
      "execution_count": 27,
      "metadata": {
        "colab": {
          "base_uri": "https://localhost:8080/"
        },
        "id": "LHhcEiY_gZJG",
        "outputId": "5deccce1-2fd3-4d21-ca01-fce938029c6f"
      },
      "outputs": [
        {
          "name": "stderr",
          "output_type": "stream",
          "text": [
            "Generate negative samples: 100%|██████████| 5923/5923 [00:07<00:00, 746.12it/s]\n",
            "Regenerate test set: 100%|██████████| 5923/5923 [00:00<00:00, 443226.81it/s]\n",
            "Save user features: 100%|██████████| 3/3 [00:22<00:00,  7.44s/it]\n",
            "Save item features: 100%|██████████| 2/2 [00:21<00:00, 10.60s/it]\n",
            "Save inter features: 100%|██████████| 2/2 [00:21<00:00, 10.95s/it]\n"
          ]
        }
      ],
      "source": [
        "ranking_dataset = SequenceWiseDataset(\n",
        "    \"RankingDataset\",\n",
        "    task=\"ranking\",\n",
        "    data=data,\n",
        "    uid_name=\"user_id\",\n",
        "    iid_name=\"movie_id\",\n",
        "    inter_name=\"interact\",\n",
        "    time_name=\"timestamp\",\n",
        "    label_name=\"label\",\n",
        "    seq_name=\"hist_movie\",\n",
        "    neg_seq_name=\"neg_hist_movie\",\n",
        "    threshold=4,\n",
        ")\n",
        "\n",
        "ranking_dataset.train_test_split(TEST_NUM)\n",
        "ranking_dataset.negative_sampling(NEG_NUM)\n",
        "ranking_dataset.train_valid_split(VALID_RATIO)\n",
        "ranking_dataset.gen_dataset(user_features, item_features, inter_features, test_candidates)"
      ]
    },
    {
      "cell_type": "code",
      "execution_count": 28,
      "metadata": {
        "colab": {
          "base_uri": "https://localhost:8080/"
        },
        "id": "4wQASPHrhzgx",
        "outputId": "90394284-be47-4018-c714-f3d3c2df0cff"
      },
      "outputs": [
        {
          "name": "stderr",
          "output_type": "stream",
          "text": [
            "Load user features: 100%|██████████| 3/3 [00:01<00:00,  2.42it/s]\n",
            "Load item features: 100%|██████████| 2/2 [00:00<00:00,  2.32it/s]\n",
            "Load inter features: 100%|██████████| 2/2 [00:00<00:00,  2.05it/s]\n"
          ]
        }
      ],
      "source": [
        "train_data, valid_data, test_data, test_label = ranking_dataset.load_dataset(\n",
        "    user_features, item_features, inter_features, BATCH_SIZE*2\n",
        ")"
      ]
    },
    {
      "cell_type": "code",
      "execution_count": 29,
      "metadata": {
        "id": "of_PY0kv9UZx"
      },
      "outputs": [],
      "source": [
        "feature_dim = ranking_dataset.get_feature_dim(user_features, item_features, [])\n",
        "feature_dim[\"genre_id\"] = 19"
      ]
    },
    {
      "cell_type": "markdown",
      "metadata": {
        "id": "kyApc4cJhzgy"
      },
      "source": [
        "## Train rank model and predict <a name=\"section-3\"></a>"
      ]
    },
    {
      "cell_type": "code",
      "execution_count": 30,
      "metadata": {
        "id": "7tSWHejxBULW"
      },
      "outputs": [],
      "source": [
        "cfg = ConfigLoader(\"./HandyRec/examples/DIEN/DIEN_cfg.yaml\")\n",
        "feature_groups = cfg.prepare_features(feature_dim, data)"
      ]
    },
    {
      "cell_type": "code",
      "execution_count": 33,
      "metadata": {
        "id": "_uvYZtxBhzgy"
      },
      "outputs": [],
      "source": [
        "rank_model = DIEN(\n",
        "    feature_groups[\"item_seq_feat_group\"],\n",
        "    feature_groups[\"neg_item_seq_feat_group\"],\n",
        "    feature_groups[\"other_feature_group\"],\n",
        "    **cfg.config.Model\n",
        ")"
      ]
    },
    {
      "cell_type": "code",
      "execution_count": 34,
      "metadata": {
        "colab": {
          "base_uri": "https://localhost:8080/"
        },
        "id": "H8l7JU3phzgy",
        "outputId": "0dc46a04-f726-4b16-f8ba-92bf030961b5"
      },
      "outputs": [
        {
          "name": "stdout",
          "output_type": "stream",
          "text": [
            "Epoch 1/50\n",
            "623/623 [==============================] - 198s 296ms/step - loss: 132.9466 - val_loss: 77.3136\n",
            "Epoch 2/50\n",
            "623/623 [==============================] - 184s 295ms/step - loss: 56.8381 - val_loss: 39.9751\n",
            "Epoch 3/50\n",
            "623/623 [==============================] - 183s 293ms/step - loss: 33.0949 - val_loss: 27.4731\n",
            "Epoch 4/50\n",
            "623/623 [==============================] - 184s 295ms/step - loss: 24.0341 - val_loss: 20.4975\n",
            "Epoch 5/50\n",
            "623/623 [==============================] - 184s 295ms/step - loss: 18.0306 - val_loss: 15.8658\n",
            "Epoch 6/50\n",
            "623/623 [==============================] - 185s 296ms/step - loss: 13.3635 - val_loss: 10.0966\n",
            "Epoch 7/50\n",
            "623/623 [==============================] - 184s 295ms/step - loss: 8.5970 - val_loss: 6.9153\n",
            "Epoch 8/50\n",
            "623/623 [==============================] - 185s 297ms/step - loss: 6.3325 - val_loss: 5.4448\n",
            "Epoch 9/50\n",
            "623/623 [==============================] - 186s 298ms/step - loss: 5.0461 - val_loss: 4.1293\n",
            "Epoch 10/50\n",
            "623/623 [==============================] - 186s 297ms/step - loss: 4.0418 - val_loss: 3.4234\n",
            "Epoch 11/50\n",
            "623/623 [==============================] - 185s 297ms/step - loss: 3.4639 - val_loss: 3.1062\n",
            "Epoch 12/50\n",
            "623/623 [==============================] - 185s 296ms/step - loss: 3.0616 - val_loss: 3.0007\n",
            "Epoch 13/50\n",
            "623/623 [==============================] - 186s 297ms/step - loss: 3.4982 - val_loss: 3.2648\n",
            "Epoch 14/50\n",
            "623/623 [==============================] - 186s 298ms/step - loss: 3.2350 - val_loss: 2.6817\n",
            "Epoch 15/50\n",
            "623/623 [==============================] - 186s 299ms/step - loss: 3.0348 - val_loss: 2.4504\n",
            "Epoch 16/50\n",
            "623/623 [==============================] - 187s 299ms/step - loss: 2.5823 - val_loss: 2.4933\n",
            "Epoch 17/50\n",
            "623/623 [==============================] - 187s 299ms/step - loss: 2.4629 - val_loss: 1.9047\n",
            "Epoch 18/50\n",
            "623/623 [==============================] - 186s 298ms/step - loss: 2.6005 - val_loss: 1.9161\n",
            "Epoch 19/50\n",
            "623/623 [==============================] - 185s 297ms/step - loss: 2.2798 - val_loss: 2.5232\n",
            "Epoch 20/50\n",
            "623/623 [==============================] - 185s 296ms/step - loss: 2.4549 - val_loss: 1.9642\n",
            "Epoch 21/50\n",
            "623/623 [==============================] - 185s 296ms/step - loss: 2.1481 - val_loss: 1.7283\n",
            "Epoch 22/50\n",
            "623/623 [==============================] - 184s 295ms/step - loss: 2.2588 - val_loss: 3.0057\n",
            "Epoch 23/50\n",
            "623/623 [==============================] - 183s 293ms/step - loss: 2.6801 - val_loss: 2.0606\n",
            "Epoch 24/50\n",
            "623/623 [==============================] - 183s 293ms/step - loss: 2.1542 - val_loss: 1.6096\n",
            "Epoch 25/50\n",
            "623/623 [==============================] - 183s 293ms/step - loss: 2.0773 - val_loss: 1.8518\n",
            "Epoch 26/50\n",
            "623/623 [==============================] - 182s 292ms/step - loss: 2.4378 - val_loss: 2.0604\n",
            "Epoch 27/50\n",
            "623/623 [==============================] - 182s 292ms/step - loss: 2.4087 - val_loss: 1.8297\n",
            "Epoch 28/50\n",
            "623/623 [==============================] - 182s 292ms/step - loss: 1.9917 - val_loss: 1.5408\n",
            "Epoch 29/50\n",
            "623/623 [==============================] - 183s 294ms/step - loss: 1.8334 - val_loss: 1.4213\n",
            "Epoch 30/50\n",
            "623/623 [==============================] - 182s 291ms/step - loss: 1.7466 - val_loss: 1.3806\n",
            "Epoch 31/50\n",
            "623/623 [==============================] - 184s 294ms/step - loss: 1.7586 - val_loss: 1.3717\n",
            "Epoch 32/50\n",
            "623/623 [==============================] - 183s 293ms/step - loss: 1.7555 - val_loss: 1.3518\n",
            "Epoch 33/50\n",
            "623/623 [==============================] - 182s 292ms/step - loss: 1.7050 - val_loss: 2.6617\n",
            "Epoch 34/50\n",
            "623/623 [==============================] - 184s 294ms/step - loss: 1.6677 - val_loss: 1.2486\n",
            "Epoch 35/50\n",
            "623/623 [==============================] - 184s 294ms/step - loss: 1.6385 - val_loss: 1.3065\n",
            "Epoch 36/50\n",
            "623/623 [==============================] - 183s 293ms/step - loss: 1.6780 - val_loss: 1.4522\n",
            "Epoch 37/50\n",
            "623/623 [==============================] - 185s 297ms/step - loss: 1.5975 - val_loss: 1.2098\n",
            "Epoch 38/50\n",
            "623/623 [==============================] - 184s 294ms/step - loss: 1.9771 - val_loss: 1.5793\n",
            "Epoch 39/50\n",
            "623/623 [==============================] - 182s 291ms/step - loss: 1.6532 - val_loss: 1.2373\n",
            "Epoch 40/50\n",
            "623/623 [==============================] - 183s 293ms/step - loss: 1.5544 - val_loss: 2.3454\n",
            "Epoch 41/50\n",
            "623/623 [==============================] - 183s 294ms/step - loss: 1.7478 - val_loss: 1.2873\n"
          ]
        }
      ],
      "source": [
        "rank_model.compile(optimizer=tf.keras.optimizers.Adam(lr=2e-4, clipvalue=1.), loss=binary_crossentropy)\n",
        "early_stop = tf.keras.callbacks.EarlyStopping(monitor='val_loss', patience=5)\n",
        "checkpoint = tf.keras.callbacks.ModelCheckpoint(\n",
        "    filepath='./rank_checkpoint/',\n",
        "    save_weights_only=True,\n",
        "    monitor='val_loss',\n",
        "    mode='min',\n",
        "    save_best_only=True\n",
        ")\n",
        "history = rank_model.fit(\n",
        "    x=train_data, \n",
        "    validation_data=valid_data,\n",
        "    epochs=NEPOCH,\n",
        "    callbacks=[early_stop,checkpoint]\n",
        ")"
      ]
    },
    {
      "cell_type": "code",
      "execution_count": 35,
      "metadata": {
        "id": "w52A7cJ8hzgz"
      },
      "outputs": [],
      "source": [
        "rank_model.load_weights('./rank_checkpoint/')\n",
        "model = Model(inputs=rank_model.real_inputs, outputs=rank_model.outputs)"
      ]
    },
    {
      "cell_type": "code",
      "execution_count": 36,
      "metadata": {
        "colab": {
          "base_uri": "https://localhost:8080/"
        },
        "id": "Fr61KpmewPuB",
        "outputId": "fe953ced-0c40-4144-d810-bad7e22d0ef0"
      },
      "outputs": [
        {
          "data": {
            "text/plain": [
              "21312"
            ]
          },
          "execution_count": 36,
          "metadata": {},
          "output_type": "execute_result"
        }
      ],
      "source": [
        "del train_data\n",
        "gc.collect()"
      ]
    },
    {
      "cell_type": "code",
      "execution_count": 37,
      "metadata": {
        "colab": {
          "base_uri": "https://localhost:8080/",
          "height": 827
        },
        "id": "jmzMn7Xak2dQ",
        "outputId": "d088456d-57db-4488-aa2a-bf8a99ad1139"
      },
      "outputs": [
        {
          "data": {
            "image/png": "[encoded data removed]",
            "text/plain": [
              "<IPython.core.display.Image object>"
            ]
          },
          "execution_count": 37,
          "metadata": {},
          "output_type": "execute_result"
        }
      ],
      "source": [
        "plot_model(model)"
      ]
    },
    {
      "cell_type": "code",
      "execution_count": 38,
      "metadata": {
        "id": "QPdUa_lJk2dR"
      },
      "outputs": [],
      "source": [
        "pred = model.predict(test_data, batch_size=BATCH_SIZE)"
      ]
    },
    {
      "cell_type": "code",
      "execution_count": 39,
      "metadata": {
        "id": "SoCzRNuphzgz"
      },
      "outputs": [],
      "source": [
        "pred_df = pd.DataFrame(columns=['user_id','movie_id','pred'])\n",
        "pred_df['user_id'] = test_data['user_id']\n",
        "pred_df['movie_id'] = test_data['movie_id']\n",
        "pred_df['pred'] = pred\n",
        "\n",
        "pred_df = pred_df.sort_values(by=['user_id','pred'], ascending=False).reset_index(drop=True)\n",
        "pred_df = pred_df.groupby('user_id')['movie_id'].apply(list).reset_index()"
      ]
    },
    {
      "cell_type": "code",
      "execution_count": 40,
      "metadata": {
        "id": "rEQ9sQGjhzgz"
      },
      "outputs": [],
      "source": [
        "test_label_df = pd.DataFrame(columns=['user_id','label'])\n",
        "test_label_df['user_id'] = pd.Series(test_data['user_id']).drop_duplicates()\n",
        "test_label_df['label'] = test_label.tolist()"
      ]
    },
    {
      "cell_type": "code",
      "execution_count": 41,
      "metadata": {
        "id": "5T_uOn5Ohzgz"
      },
      "outputs": [],
      "source": [
        "test_label_df = pd.merge(test_label_df, pred_df, on=['user_id'], how='left')"
      ]
    },
    {
      "cell_type": "code",
      "execution_count": 42,
      "metadata": {
        "colab": {
          "base_uri": "https://localhost:8080/"
        },
        "id": "0HXT3XxAhzgz",
        "outputId": "917ed32c-d4b6-4ac8-871d-0f2f0f011a6e"
      },
      "outputs": [
        {
          "data": {
            "text/plain": [
              "0.013424376053533575"
            ]
          },
          "execution_count": 42,
          "metadata": {},
          "output_type": "execute_result"
        }
      ],
      "source": [
        "map_at_k(test_label_df['label'], test_label_df['movie_id'], k=10)"
      ]
    },
    {
      "cell_type": "code",
      "execution_count": 43,
      "metadata": {
        "colab": {
          "base_uri": "https://localhost:8080/"
        },
        "id": "HHzj8iJKhzgz",
        "outputId": "720b7d93-f638-4dca-a32a-c6fe06462a9e"
      },
      "outputs": [
        {
          "data": {
            "text/plain": [
              "0.036704372784062134"
            ]
          },
          "execution_count": 43,
          "metadata": {},
          "output_type": "execute_result"
        }
      ],
      "source": [
        "recall_at_k(test_label_df['label'], test_label_df['movie_id'], k=10)"
      ]
    },
    {
      "cell_type": "code",
      "execution_count": 44,
      "metadata": {
        "colab": {
          "base_uri": "https://localhost:8080/"
        },
        "id": "y5L5ijkE-H1x",
        "outputId": "607152ea-dfb1-4c0e-e698-378bf041da40"
      },
      "outputs": [
        {
          "data": {
            "text/plain": [
              "0.13619787269964545"
            ]
          },
          "execution_count": 44,
          "metadata": {},
          "output_type": "execute_result"
        }
      ],
      "source": [
        "recall_at_k(test_label_df['label'], test_label_df['movie_id'], k=100)"
      ]
    }
  ],
  "metadata": {
    "accelerator": "GPU",
    "colab": {
      "collapsed_sections": [],
      "name": "DIEN.ipynb",
      "provenance": []
    },
    "interpreter": {
      "hash": "653a9876bfda977334bab0c6eac4e690c97044cb3c76993a10b084536ae29e50"
    },
    "kernelspec": {
      "display_name": "handyrec",
      "language": "python",
      "name": "handyrec"
    },
    "language_info": {
      "codemirror_mode": {
        "name": "ipython",
        "version": 3
      },
      "file_extension": ".py",
      "mimetype": "text/x-python",
      "name": "python",
      "nbconvert_exporter": "python",
      "pygments_lexer": "ipython3",
      "version": "3.7.11"
    }
  },
  "nbformat": 4,
  "nbformat_minor": 0
}
