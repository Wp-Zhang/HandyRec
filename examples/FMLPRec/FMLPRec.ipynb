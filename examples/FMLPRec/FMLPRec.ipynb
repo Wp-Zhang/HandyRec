{
  "cells": [
    {
      "cell_type": "markdown",
      "metadata": {
        "id": "FXD2RCXzuzMx"
      },
      "source": [
        "[![Open In Colab](https://colab.research.google.com/assets/colab-badge.svg)](https://colab.research.google.com/github/Wp-Zhang/HandyRec/blob/master/examples/FMLPRec/FMLPRec.ipynb)"
      ]
    },
    {
      "cell_type": "markdown",
      "metadata": {
        "id": "OJKT5uytzl7t"
      },
      "source": [
        "> This notebook runs FMLP-Rec on MovieLens1M dataset. We'll use DSSM for generating candidates and FMLP-Rec for ranking these candidates.\n",
        "\n",
        "> Only movies with ratings larger than 3 are treated as 'positive' samples for each user. Every last 10 'positive' movies of each user are held out for testing."
      ]
    },
    {
      "cell_type": "markdown",
      "metadata": {
        "id": "XFTLC9SQzxK4"
      },
      "source": [
        "**Download dataset and install packages**"
      ]
    },
    {
      "cell_type": "code",
      "execution_count": 1,
      "metadata": {
        "colab": {
          "base_uri": "https://localhost:8080/"
        },
        "id": "WSk1WSSpvXfL",
        "outputId": "6723636d-ec6f-4088-cb70-ecbb5f1298b1"
      },
      "outputs": [
        {
          "output_type": "stream",
          "name": "stdout",
          "text": [
            "Cloning into 'HandyRec'...\n",
            "remote: Enumerating objects: 2126, done.\u001b[K\n",
            "remote: Counting objects: 100% (323/323), done.\u001b[K\n",
            "remote: Compressing objects: 100% (228/228), done.\u001b[K\n",
            "remote: Total 2126 (delta 146), reused 212 (delta 93), pack-reused 1803\u001b[K\n",
            "Receiving objects: 100% (2126/2126), 24.62 MiB | 11.92 MiB/s, done.\n",
            "Resolving deltas: 100% (900/900), done.\n",
            "running install\n",
            "running bdist_egg\n",
            "running egg_info\n",
            "creating handyrec.egg-info\n",
            "writing handyrec.egg-info/PKG-INFO\n",
            "writing dependency_links to handyrec.egg-info/dependency_links.txt\n",
            "writing requirements to handyrec.egg-info/requires.txt\n",
            "writing top-level names to handyrec.egg-info/top_level.txt\n",
            "writing manifest file 'handyrec.egg-info/SOURCES.txt'\n",
            "adding license file 'LICENSE'\n",
            "writing manifest file 'handyrec.egg-info/SOURCES.txt'\n",
            "installing library code to build/bdist.linux-x86_64/egg\n",
            "running install_lib\n",
            "running build_py\n",
            "creating build\n",
            "creating build/lib\n",
            "creating build/lib/handyrec\n",
            "copying handyrec/config.py -> build/lib/handyrec\n",
            "copying handyrec/__init__.py -> build/lib/handyrec\n",
            "creating build/lib/handyrec/models\n",
            "copying handyrec/models/utils.py -> build/lib/handyrec/models\n",
            "copying handyrec/models/__init__.py -> build/lib/handyrec/models\n",
            "creating build/lib/handyrec/data\n",
            "copying handyrec/data/metrics.py -> build/lib/handyrec/data\n",
            "copying handyrec/data/utils.py -> build/lib/handyrec/data\n",
            "copying handyrec/data/movielens.py -> build/lib/handyrec/data\n",
            "copying handyrec/data/datahelper.py -> build/lib/handyrec/data\n",
            "copying handyrec/data/__init__.py -> build/lib/handyrec/data\n",
            "copying handyrec/data/dataset.py -> build/lib/handyrec/data\n",
            "creating build/lib/handyrec/features\n",
            "copying handyrec/features/utils.py -> build/lib/handyrec/features\n",
            "copying handyrec/features/type.py -> build/lib/handyrec/features\n",
            "copying handyrec/features/group.py -> build/lib/handyrec/features\n",
            "copying handyrec/features/__init__.py -> build/lib/handyrec/features\n",
            "creating build/lib/handyrec/layers\n",
            "copying handyrec/layers/activation.py -> build/lib/handyrec/layers\n",
            "copying handyrec/layers/interaction.py -> build/lib/handyrec/layers\n",
            "copying handyrec/layers/utils.py -> build/lib/handyrec/layers\n",
            "copying handyrec/layers/sequence.py -> build/lib/handyrec/layers\n",
            "copying handyrec/layers/__init__.py -> build/lib/handyrec/layers\n",
            "copying handyrec/layers/core.py -> build/lib/handyrec/layers\n",
            "copying handyrec/layers/tools.py -> build/lib/handyrec/layers\n",
            "creating build/lib/handyrec/models/ranking\n",
            "copying handyrec/models/ranking/__init__.py -> build/lib/handyrec/models/ranking\n",
            "creating build/lib/handyrec/models/retrieval\n",
            "copying handyrec/models/retrieval/YouTubeMatchDNN.py -> build/lib/handyrec/models/retrieval\n",
            "copying handyrec/models/retrieval/__init__.py -> build/lib/handyrec/models/retrieval\n",
            "copying handyrec/models/retrieval/DSSM.py -> build/lib/handyrec/models/retrieval\n",
            "creating build/lib/handyrec/models/ranking/sequential\n",
            "copying handyrec/models/ranking/sequential/DIN.py -> build/lib/handyrec/models/ranking/sequential\n",
            "copying handyrec/models/ranking/sequential/FMLPRec.py -> build/lib/handyrec/models/ranking/sequential\n",
            "copying handyrec/models/ranking/sequential/__init__.py -> build/lib/handyrec/models/ranking/sequential\n",
            "copying handyrec/models/ranking/sequential/DIEN.py -> build/lib/handyrec/models/ranking/sequential\n",
            "creating build/lib/handyrec/models/ranking/context_aware\n",
            "copying handyrec/models/ranking/context_aware/DeepFM.py -> build/lib/handyrec/models/ranking/context_aware\n",
            "copying handyrec/models/ranking/context_aware/__init__.py -> build/lib/handyrec/models/ranking/context_aware\n",
            "copying handyrec/models/ranking/context_aware/YouTubeRankDNN.py -> build/lib/handyrec/models/ranking/context_aware\n",
            "creating build/bdist.linux-x86_64\n",
            "creating build/bdist.linux-x86_64/egg\n",
            "creating build/bdist.linux-x86_64/egg/handyrec\n",
            "copying build/lib/handyrec/config.py -> build/bdist.linux-x86_64/egg/handyrec\n",
            "creating build/bdist.linux-x86_64/egg/handyrec/models\n",
            "creating build/bdist.linux-x86_64/egg/handyrec/models/ranking\n",
            "creating build/bdist.linux-x86_64/egg/handyrec/models/ranking/sequential\n",
            "copying build/lib/handyrec/models/ranking/sequential/DIN.py -> build/bdist.linux-x86_64/egg/handyrec/models/ranking/sequential\n",
            "copying build/lib/handyrec/models/ranking/sequential/FMLPRec.py -> build/bdist.linux-x86_64/egg/handyrec/models/ranking/sequential\n",
            "copying build/lib/handyrec/models/ranking/sequential/__init__.py -> build/bdist.linux-x86_64/egg/handyrec/models/ranking/sequential\n",
            "copying build/lib/handyrec/models/ranking/sequential/DIEN.py -> build/bdist.linux-x86_64/egg/handyrec/models/ranking/sequential\n",
            "creating build/bdist.linux-x86_64/egg/handyrec/models/ranking/context_aware\n",
            "copying build/lib/handyrec/models/ranking/context_aware/DeepFM.py -> build/bdist.linux-x86_64/egg/handyrec/models/ranking/context_aware\n",
            "copying build/lib/handyrec/models/ranking/context_aware/__init__.py -> build/bdist.linux-x86_64/egg/handyrec/models/ranking/context_aware\n",
            "copying build/lib/handyrec/models/ranking/context_aware/YouTubeRankDNN.py -> build/bdist.linux-x86_64/egg/handyrec/models/ranking/context_aware\n",
            "copying build/lib/handyrec/models/ranking/__init__.py -> build/bdist.linux-x86_64/egg/handyrec/models/ranking\n",
            "copying build/lib/handyrec/models/utils.py -> build/bdist.linux-x86_64/egg/handyrec/models\n",
            "creating build/bdist.linux-x86_64/egg/handyrec/models/retrieval\n",
            "copying build/lib/handyrec/models/retrieval/YouTubeMatchDNN.py -> build/bdist.linux-x86_64/egg/handyrec/models/retrieval\n",
            "copying build/lib/handyrec/models/retrieval/__init__.py -> build/bdist.linux-x86_64/egg/handyrec/models/retrieval\n",
            "copying build/lib/handyrec/models/retrieval/DSSM.py -> build/bdist.linux-x86_64/egg/handyrec/models/retrieval\n",
            "copying build/lib/handyrec/models/__init__.py -> build/bdist.linux-x86_64/egg/handyrec/models\n",
            "creating build/bdist.linux-x86_64/egg/handyrec/data\n",
            "copying build/lib/handyrec/data/metrics.py -> build/bdist.linux-x86_64/egg/handyrec/data\n",
            "copying build/lib/handyrec/data/utils.py -> build/bdist.linux-x86_64/egg/handyrec/data\n",
            "copying build/lib/handyrec/data/movielens.py -> build/bdist.linux-x86_64/egg/handyrec/data\n",
            "copying build/lib/handyrec/data/datahelper.py -> build/bdist.linux-x86_64/egg/handyrec/data\n",
            "copying build/lib/handyrec/data/__init__.py -> build/bdist.linux-x86_64/egg/handyrec/data\n",
            "copying build/lib/handyrec/data/dataset.py -> build/bdist.linux-x86_64/egg/handyrec/data\n",
            "creating build/bdist.linux-x86_64/egg/handyrec/features\n",
            "copying build/lib/handyrec/features/utils.py -> build/bdist.linux-x86_64/egg/handyrec/features\n",
            "copying build/lib/handyrec/features/type.py -> build/bdist.linux-x86_64/egg/handyrec/features\n",
            "copying build/lib/handyrec/features/group.py -> build/bdist.linux-x86_64/egg/handyrec/features\n",
            "copying build/lib/handyrec/features/__init__.py -> build/bdist.linux-x86_64/egg/handyrec/features\n",
            "copying build/lib/handyrec/__init__.py -> build/bdist.linux-x86_64/egg/handyrec\n",
            "creating build/bdist.linux-x86_64/egg/handyrec/layers\n",
            "copying build/lib/handyrec/layers/activation.py -> build/bdist.linux-x86_64/egg/handyrec/layers\n",
            "copying build/lib/handyrec/layers/interaction.py -> build/bdist.linux-x86_64/egg/handyrec/layers\n",
            "copying build/lib/handyrec/layers/utils.py -> build/bdist.linux-x86_64/egg/handyrec/layers\n",
            "copying build/lib/handyrec/layers/sequence.py -> build/bdist.linux-x86_64/egg/handyrec/layers\n",
            "copying build/lib/handyrec/layers/__init__.py -> build/bdist.linux-x86_64/egg/handyrec/layers\n",
            "copying build/lib/handyrec/layers/core.py -> build/bdist.linux-x86_64/egg/handyrec/layers\n",
            "copying build/lib/handyrec/layers/tools.py -> build/bdist.linux-x86_64/egg/handyrec/layers\n",
            "byte-compiling build/bdist.linux-x86_64/egg/handyrec/config.py to config.cpython-37.pyc\n",
            "byte-compiling build/bdist.linux-x86_64/egg/handyrec/models/ranking/sequential/DIN.py to DIN.cpython-37.pyc\n",
            "byte-compiling build/bdist.linux-x86_64/egg/handyrec/models/ranking/sequential/FMLPRec.py to FMLPRec.cpython-37.pyc\n",
            "byte-compiling build/bdist.linux-x86_64/egg/handyrec/models/ranking/sequential/__init__.py to __init__.cpython-37.pyc\n",
            "byte-compiling build/bdist.linux-x86_64/egg/handyrec/models/ranking/sequential/DIEN.py to DIEN.cpython-37.pyc\n",
            "byte-compiling build/bdist.linux-x86_64/egg/handyrec/models/ranking/context_aware/DeepFM.py to DeepFM.cpython-37.pyc\n",
            "byte-compiling build/bdist.linux-x86_64/egg/handyrec/models/ranking/context_aware/__init__.py to __init__.cpython-37.pyc\n",
            "byte-compiling build/bdist.linux-x86_64/egg/handyrec/models/ranking/context_aware/YouTubeRankDNN.py to YouTubeRankDNN.cpython-37.pyc\n",
            "byte-compiling build/bdist.linux-x86_64/egg/handyrec/models/ranking/__init__.py to __init__.cpython-37.pyc\n",
            "byte-compiling build/bdist.linux-x86_64/egg/handyrec/models/utils.py to utils.cpython-37.pyc\n",
            "byte-compiling build/bdist.linux-x86_64/egg/handyrec/models/retrieval/YouTubeMatchDNN.py to YouTubeMatchDNN.cpython-37.pyc\n",
            "byte-compiling build/bdist.linux-x86_64/egg/handyrec/models/retrieval/__init__.py to __init__.cpython-37.pyc\n",
            "byte-compiling build/bdist.linux-x86_64/egg/handyrec/models/retrieval/DSSM.py to DSSM.cpython-37.pyc\n",
            "byte-compiling build/bdist.linux-x86_64/egg/handyrec/models/__init__.py to __init__.cpython-37.pyc\n",
            "byte-compiling build/bdist.linux-x86_64/egg/handyrec/data/metrics.py to metrics.cpython-37.pyc\n",
            "byte-compiling build/bdist.linux-x86_64/egg/handyrec/data/utils.py to utils.cpython-37.pyc\n",
            "byte-compiling build/bdist.linux-x86_64/egg/handyrec/data/movielens.py to movielens.cpython-37.pyc\n",
            "byte-compiling build/bdist.linux-x86_64/egg/handyrec/data/datahelper.py to datahelper.cpython-37.pyc\n",
            "byte-compiling build/bdist.linux-x86_64/egg/handyrec/data/__init__.py to __init__.cpython-37.pyc\n",
            "byte-compiling build/bdist.linux-x86_64/egg/handyrec/data/dataset.py to dataset.cpython-37.pyc\n",
            "byte-compiling build/bdist.linux-x86_64/egg/handyrec/features/utils.py to utils.cpython-37.pyc\n",
            "byte-compiling build/bdist.linux-x86_64/egg/handyrec/features/type.py to type.cpython-37.pyc\n",
            "byte-compiling build/bdist.linux-x86_64/egg/handyrec/features/group.py to group.cpython-37.pyc\n",
            "byte-compiling build/bdist.linux-x86_64/egg/handyrec/features/__init__.py to __init__.cpython-37.pyc\n",
            "byte-compiling build/bdist.linux-x86_64/egg/handyrec/__init__.py to __init__.cpython-37.pyc\n",
            "byte-compiling build/bdist.linux-x86_64/egg/handyrec/layers/activation.py to activation.cpython-37.pyc\n",
            "byte-compiling build/bdist.linux-x86_64/egg/handyrec/layers/interaction.py to interaction.cpython-37.pyc\n",
            "byte-compiling build/bdist.linux-x86_64/egg/handyrec/layers/utils.py to utils.cpython-37.pyc\n",
            "byte-compiling build/bdist.linux-x86_64/egg/handyrec/layers/sequence.py to sequence.cpython-37.pyc\n",
            "byte-compiling build/bdist.linux-x86_64/egg/handyrec/layers/__init__.py to __init__.cpython-37.pyc\n",
            "byte-compiling build/bdist.linux-x86_64/egg/handyrec/layers/core.py to core.cpython-37.pyc\n",
            "byte-compiling build/bdist.linux-x86_64/egg/handyrec/layers/tools.py to tools.cpython-37.pyc\n",
            "creating build/bdist.linux-x86_64/egg/EGG-INFO\n",
            "copying handyrec.egg-info/PKG-INFO -> build/bdist.linux-x86_64/egg/EGG-INFO\n",
            "copying handyrec.egg-info/SOURCES.txt -> build/bdist.linux-x86_64/egg/EGG-INFO\n",
            "copying handyrec.egg-info/dependency_links.txt -> build/bdist.linux-x86_64/egg/EGG-INFO\n",
            "copying handyrec.egg-info/requires.txt -> build/bdist.linux-x86_64/egg/EGG-INFO\n",
            "copying handyrec.egg-info/top_level.txt -> build/bdist.linux-x86_64/egg/EGG-INFO\n",
            "zip_safe flag not set; analyzing archive contents...\n",
            "creating dist\n",
            "creating 'dist/handyrec-0.1.0-py3.7.egg' and adding 'build/bdist.linux-x86_64/egg' to it\n",
            "removing 'build/bdist.linux-x86_64/egg' (and everything under it)\n",
            "Processing handyrec-0.1.0-py3.7.egg\n",
            "Copying handyrec-0.1.0-py3.7.egg to /usr/local/lib/python3.7/dist-packages\n",
            "Adding handyrec 0.1.0 to easy-install.pth file\n",
            "\n",
            "Installed /usr/local/lib/python3.7/dist-packages/handyrec-0.1.0-py3.7.egg\n",
            "Processing dependencies for handyrec==0.1.0\n",
            "Searching for python_box>=6.0.2\n",
            "Reading https://pypi.org/simple/python_box/\n",
            "Downloading https://files.pythonhosted.org/packages/bd/a0/14e95a9d67619adaf33fbbb34a3d1bdde67b266c29548bca90edc96ea5aa/python_box-6.0.2-cp37-cp37m-manylinux_2_17_x86_64.manylinux2014_x86_64.whl#sha256=3a43baf2fdee399c7b3df425e2df163e9551f1d8b40ceb213f9cc0a952effa77\n",
            "Best match: python-box 6.0.2\n",
            "Processing python_box-6.0.2-cp37-cp37m-manylinux_2_17_x86_64.manylinux2014_x86_64.whl\n",
            "Installing python_box-6.0.2-cp37-cp37m-manylinux_2_17_x86_64.manylinux2014_x86_64.whl to /usr/local/lib/python3.7/dist-packages\n",
            "Adding python-box 6.0.2 to easy-install.pth file\n",
            "\n",
            "Installed /usr/local/lib/python3.7/dist-packages/python_box-6.0.2-py3.7-linux-x86_64.egg\n",
            "Searching for tf-estimator-nightly==2.8.0.dev2021122109\n",
            "Reading https://pypi.org/simple/tf-estimator-nightly/\n",
            "Downloading https://files.pythonhosted.org/packages/a7/f1/f89e097f377b163856076f167baf149b010df3bbf425d2c06276048e2051/tf_estimator_nightly-2.8.0.dev2021122109-py2.py3-none-any.whl#sha256=0065a04e396b2890bd19761fc1de7559ceafeba12839f8db2c7e7473afaaf612\n",
            "Best match: tf-estimator-nightly 2.8.0.dev2021122109\n",
            "Processing tf_estimator_nightly-2.8.0.dev2021122109-py2.py3-none-any.whl\n",
            "Installing tf_estimator_nightly-2.8.0.dev2021122109-py2.py3-none-any.whl to /usr/local/lib/python3.7/dist-packages\n",
            "Adding tf-estimator-nightly 2.8.0.dev2021122109 to easy-install.pth file\n",
            "\n",
            "Installed /usr/local/lib/python3.7/dist-packages/tf_estimator_nightly-2.8.0.dev2021122109-py3.7.egg\n",
            "Searching for tensorflow==2.8.0+zzzcolab20220506162203\n",
            "Best match: tensorflow 2.8.0+zzzcolab20220506162203\n",
            "Adding tensorflow 2.8.0+zzzcolab20220506162203 to easy-install.pth file\n",
            "Installing estimator_ckpt_converter script to /usr/local/bin\n",
            "Installing import_pb_to_tensorboard script to /usr/local/bin\n",
            "Installing saved_model_cli script to /usr/local/bin\n",
            "Installing tensorboard script to /usr/local/bin\n",
            "Installing tf_upgrade_v2 script to /usr/local/bin\n",
            "Installing tflite_convert script to /usr/local/bin\n",
            "Installing toco script to /usr/local/bin\n",
            "Installing toco_from_protos script to /usr/local/bin\n",
            "\n",
            "Using /usr/local/lib/python3.7/dist-packages\n",
            "Searching for pandas==1.3.5\n",
            "Best match: pandas 1.3.5\n",
            "Adding pandas 1.3.5 to easy-install.pth file\n",
            "\n",
            "Using /usr/local/lib/python3.7/dist-packages\n",
            "Searching for numpy==1.21.6\n",
            "Best match: numpy 1.21.6\n",
            "Adding numpy 1.21.6 to easy-install.pth file\n",
            "Installing f2py script to /usr/local/bin\n",
            "Installing f2py3 script to /usr/local/bin\n",
            "Installing f2py3.7 script to /usr/local/bin\n",
            "\n",
            "Using /usr/local/lib/python3.7/dist-packages\n",
            "Searching for tensorboard==2.8.0\n",
            "Best match: tensorboard 2.8.0\n",
            "Adding tensorboard 2.8.0 to easy-install.pth file\n",
            "Installing tensorboard script to /usr/local/bin\n",
            "\n",
            "Using /usr/local/lib/python3.7/dist-packages\n",
            "Searching for absl-py==1.0.0\n",
            "Best match: absl-py 1.0.0\n",
            "Adding absl-py 1.0.0 to easy-install.pth file\n",
            "\n",
            "Using /usr/local/lib/python3.7/dist-packages\n",
            "Searching for termcolor==1.1.0\n",
            "Best match: termcolor 1.1.0\n",
            "Adding termcolor 1.1.0 to easy-install.pth file\n",
            "\n",
            "Using /usr/local/lib/python3.7/dist-packages\n",
            "Searching for google-pasta==0.2.0\n",
            "Best match: google-pasta 0.2.0\n",
            "Adding google-pasta 0.2.0 to easy-install.pth file\n",
            "\n",
            "Using /usr/local/lib/python3.7/dist-packages\n",
            "Searching for gast==0.5.3\n",
            "Best match: gast 0.5.3\n",
            "Adding gast 0.5.3 to easy-install.pth file\n",
            "\n",
            "Using /usr/local/lib/python3.7/dist-packages\n",
            "Searching for keras==2.8.0\n",
            "Best match: keras 2.8.0\n",
            "Adding keras 2.8.0 to easy-install.pth file\n",
            "\n",
            "Using /usr/local/lib/python3.7/dist-packages\n",
            "Searching for setuptools==57.4.0\n",
            "Best match: setuptools 57.4.0\n",
            "Adding setuptools 57.4.0 to easy-install.pth file\n",
            "\n",
            "Using /usr/local/lib/python3.7/dist-packages\n",
            "Searching for tensorflow-io-gcs-filesystem==0.26.0\n",
            "Best match: tensorflow-io-gcs-filesystem 0.26.0\n",
            "Adding tensorflow-io-gcs-filesystem 0.26.0 to easy-install.pth file\n",
            "\n",
            "Using /usr/local/lib/python3.7/dist-packages\n",
            "Searching for h5py==3.1.0\n",
            "Best match: h5py 3.1.0\n",
            "Adding h5py 3.1.0 to easy-install.pth file\n",
            "\n",
            "Using /usr/local/lib/python3.7/dist-packages\n",
            "Searching for opt-einsum==3.3.0\n",
            "Best match: opt-einsum 3.3.0\n",
            "Adding opt-einsum 3.3.0 to easy-install.pth file\n",
            "\n",
            "Using /usr/local/lib/python3.7/dist-packages\n",
            "Searching for grpcio==1.46.1\n",
            "Best match: grpcio 1.46.1\n",
            "Adding grpcio 1.46.1 to easy-install.pth file\n",
            "\n",
            "Using /usr/local/lib/python3.7/dist-packages\n",
            "Searching for wrapt==1.14.1\n",
            "Best match: wrapt 1.14.1\n",
            "Adding wrapt 1.14.1 to easy-install.pth file\n",
            "\n",
            "Using /usr/local/lib/python3.7/dist-packages\n",
            "Searching for six==1.15.0\n",
            "Best match: six 1.15.0\n",
            "Adding six 1.15.0 to easy-install.pth file\n",
            "\n",
            "Using /usr/local/lib/python3.7/dist-packages\n",
            "Searching for astunparse==1.6.3\n",
            "Best match: astunparse 1.6.3\n",
            "Adding astunparse 1.6.3 to easy-install.pth file\n",
            "\n",
            "Using /usr/local/lib/python3.7/dist-packages\n",
            "Searching for protobuf==3.17.3\n",
            "Best match: protobuf 3.17.3\n",
            "Adding protobuf 3.17.3 to easy-install.pth file\n",
            "\n",
            "Using /usr/local/lib/python3.7/dist-packages\n",
            "Searching for typing-extensions==4.2.0\n",
            "Best match: typing-extensions 4.2.0\n",
            "Adding typing-extensions 4.2.0 to easy-install.pth file\n",
            "\n",
            "Using /usr/local/lib/python3.7/dist-packages\n",
            "Searching for libclang==14.0.1\n",
            "Best match: libclang 14.0.1\n",
            "Adding libclang 14.0.1 to easy-install.pth file\n",
            "\n",
            "Using /usr/local/lib/python3.7/dist-packages\n",
            "Searching for Keras-Preprocessing==1.1.2\n",
            "Best match: Keras-Preprocessing 1.1.2\n",
            "Adding Keras-Preprocessing 1.1.2 to easy-install.pth file\n",
            "\n",
            "Using /usr/local/lib/python3.7/dist-packages\n",
            "Searching for flatbuffers==2.0\n",
            "Best match: flatbuffers 2.0\n",
            "Adding flatbuffers 2.0 to easy-install.pth file\n",
            "\n",
            "Using /usr/local/lib/python3.7/dist-packages\n",
            "Searching for python-dateutil==2.8.2\n",
            "Best match: python-dateutil 2.8.2\n",
            "Adding python-dateutil 2.8.2 to easy-install.pth file\n",
            "\n",
            "Using /usr/local/lib/python3.7/dist-packages\n",
            "Searching for pytz==2022.1\n",
            "Best match: pytz 2022.1\n",
            "Adding pytz 2022.1 to easy-install.pth file\n",
            "\n",
            "Using /usr/local/lib/python3.7/dist-packages\n",
            "Searching for wheel==0.37.1\n",
            "Best match: wheel 0.37.1\n",
            "Adding wheel 0.37.1 to easy-install.pth file\n",
            "Installing wheel script to /usr/local/bin\n",
            "\n",
            "Using /usr/local/lib/python3.7/dist-packages\n",
            "Searching for requests==2.23.0\n",
            "Best match: requests 2.23.0\n",
            "Adding requests 2.23.0 to easy-install.pth file\n",
            "\n",
            "Using /usr/local/lib/python3.7/dist-packages\n",
            "Searching for google-auth-oauthlib==0.4.6\n",
            "Best match: google-auth-oauthlib 0.4.6\n",
            "Adding google-auth-oauthlib 0.4.6 to easy-install.pth file\n",
            "Installing google-oauthlib-tool script to /usr/local/bin\n",
            "\n",
            "Using /usr/local/lib/python3.7/dist-packages\n",
            "Searching for tensorboard-plugin-wit==1.8.1\n",
            "Best match: tensorboard-plugin-wit 1.8.1\n",
            "Adding tensorboard-plugin-wit 1.8.1 to easy-install.pth file\n",
            "\n",
            "Using /usr/local/lib/python3.7/dist-packages\n",
            "Searching for Werkzeug==1.0.1\n",
            "Best match: Werkzeug 1.0.1\n",
            "Adding Werkzeug 1.0.1 to easy-install.pth file\n",
            "\n",
            "Using /usr/local/lib/python3.7/dist-packages\n",
            "Searching for Markdown==3.3.7\n",
            "Best match: Markdown 3.3.7\n",
            "Adding Markdown 3.3.7 to easy-install.pth file\n",
            "Installing markdown_py script to /usr/local/bin\n",
            "\n",
            "Using /usr/local/lib/python3.7/dist-packages\n",
            "Searching for tensorboard-data-server==0.6.1\n",
            "Best match: tensorboard-data-server 0.6.1\n",
            "Adding tensorboard-data-server 0.6.1 to easy-install.pth file\n",
            "\n",
            "Using /usr/local/lib/python3.7/dist-packages\n",
            "Searching for google-auth==1.35.0\n",
            "Best match: google-auth 1.35.0\n",
            "Adding google-auth 1.35.0 to easy-install.pth file\n",
            "\n",
            "Using /usr/local/lib/python3.7/dist-packages\n",
            "Searching for cached-property==1.5.2\n",
            "Best match: cached-property 1.5.2\n",
            "Adding cached-property 1.5.2 to easy-install.pth file\n",
            "\n",
            "Using /usr/local/lib/python3.7/dist-packages\n",
            "Searching for chardet==3.0.4\n",
            "Best match: chardet 3.0.4\n",
            "Adding chardet 3.0.4 to easy-install.pth file\n",
            "Installing chardetect script to /usr/local/bin\n",
            "\n",
            "Using /usr/local/lib/python3.7/dist-packages\n",
            "Searching for idna==2.10\n",
            "Best match: idna 2.10\n",
            "Adding idna 2.10 to easy-install.pth file\n",
            "\n",
            "Using /usr/local/lib/python3.7/dist-packages\n",
            "Searching for certifi==2022.5.18.1\n",
            "Best match: certifi 2022.5.18.1\n",
            "Adding certifi 2022.5.18.1 to easy-install.pth file\n",
            "\n",
            "Using /usr/local/lib/python3.7/dist-packages\n",
            "Searching for urllib3==1.24.3\n",
            "Best match: urllib3 1.24.3\n",
            "Adding urllib3 1.24.3 to easy-install.pth file\n",
            "\n",
            "Using /usr/local/lib/python3.7/dist-packages\n",
            "Searching for requests-oauthlib==1.3.1\n",
            "Best match: requests-oauthlib 1.3.1\n",
            "Adding requests-oauthlib 1.3.1 to easy-install.pth file\n",
            "\n",
            "Using /usr/local/lib/python3.7/dist-packages\n",
            "Searching for importlib-metadata==4.11.3\n",
            "Best match: importlib-metadata 4.11.3\n",
            "Adding importlib-metadata 4.11.3 to easy-install.pth file\n",
            "\n",
            "Using /usr/local/lib/python3.7/dist-packages\n",
            "Searching for pyasn1-modules==0.2.8\n",
            "Best match: pyasn1-modules 0.2.8\n",
            "Adding pyasn1-modules 0.2.8 to easy-install.pth file\n",
            "\n",
            "Using /usr/local/lib/python3.7/dist-packages\n",
            "Searching for cachetools==4.2.4\n",
            "Best match: cachetools 4.2.4\n",
            "Adding cachetools 4.2.4 to easy-install.pth file\n",
            "\n",
            "Using /usr/local/lib/python3.7/dist-packages\n",
            "Searching for rsa==4.8\n",
            "Best match: rsa 4.8\n",
            "Adding rsa 4.8 to easy-install.pth file\n",
            "Installing pyrsa-decrypt script to /usr/local/bin\n",
            "Installing pyrsa-encrypt script to /usr/local/bin\n",
            "Installing pyrsa-keygen script to /usr/local/bin\n",
            "Installing pyrsa-priv2pub script to /usr/local/bin\n",
            "Installing pyrsa-sign script to /usr/local/bin\n",
            "Installing pyrsa-verify script to /usr/local/bin\n",
            "\n",
            "Using /usr/local/lib/python3.7/dist-packages\n",
            "Searching for oauthlib==3.2.0\n",
            "Best match: oauthlib 3.2.0\n",
            "Adding oauthlib 3.2.0 to easy-install.pth file\n",
            "\n",
            "Using /usr/local/lib/python3.7/dist-packages\n",
            "Searching for zipp==3.8.0\n",
            "Best match: zipp 3.8.0\n",
            "Adding zipp 3.8.0 to easy-install.pth file\n",
            "\n",
            "Using /usr/local/lib/python3.7/dist-packages\n",
            "Searching for pyasn1==0.4.8\n",
            "Best match: pyasn1 0.4.8\n",
            "Adding pyasn1 0.4.8 to easy-install.pth file\n",
            "\n",
            "Using /usr/local/lib/python3.7/dist-packages\n",
            "Finished processing dependencies for handyrec==0.1.0\n",
            "Looking in indexes: https://pypi.org/simple, https://us-python.pkg.dev/colab-wheels/public/simple/\n",
            "Collecting faiss-gpu\n",
            "  Downloading faiss_gpu-1.7.2-cp37-cp37m-manylinux_2_17_x86_64.manylinux2014_x86_64.whl (85.5 MB)\n",
            "\u001b[K     |████████████████████████████████| 85.5 MB 124 kB/s \n",
            "\u001b[?25hInstalling collected packages: faiss-gpu\n",
            "Successfully installed faiss-gpu-1.7.2\n"
          ]
        }
      ],
      "source": [
        "! git clone -b https://github.com/Wp-Zhang/HandyRec.git\n",
        "! cd HandyRec && python setup.py install\n",
        "! pip install faiss-gpu"
      ]
    },
    {
      "cell_type": "code",
      "execution_count": 1,
      "metadata": {
        "colab": {
          "base_uri": "https://localhost:8080/"
        },
        "id": "uiIqXdbUyCEi",
        "outputId": "2fc0ee80-c7bf-451c-f629-d13980e4d23a"
      },
      "outputs": [
        {
          "output_type": "stream",
          "name": "stdout",
          "text": [
            "--2022-05-25 03:22:30--  https://files.grouplens.org/datasets/movielens/ml-1m.zip\n",
            "Resolving files.grouplens.org (files.grouplens.org)... 128.101.65.152\n",
            "Connecting to files.grouplens.org (files.grouplens.org)|128.101.65.152|:443... connected.\n",
            "HTTP request sent, awaiting response... 200 OK\n",
            "Length: 5917549 (5.6M) [application/zip]\n",
            "Saving to: ‘./ml-1m.zip’\n",
            "\n",
            "./ml-1m.zip         100%[===================>]   5.64M  7.12MB/s    in 0.8s    \n",
            "\n",
            "2022-05-25 03:22:31 (7.12 MB/s) - ‘./ml-1m.zip’ saved [5917549/5917549]\n",
            "\n",
            "Archive:  ml-1m.zip\n",
            "   creating: ml-1m/\n",
            "  inflating: ml-1m/movies.dat        \n",
            "  inflating: ml-1m/ratings.dat       \n",
            "  inflating: ml-1m/README            \n",
            "  inflating: ml-1m/users.dat         \n"
          ]
        }
      ],
      "source": [
        "! wget https://files.grouplens.org/datasets/movielens/ml-1m.zip -O ./ml-1m.zip\n",
        "! unzip -o ml-1m.zip"
      ]
    },
    {
      "cell_type": "markdown",
      "metadata": {
        "id": "gsUc0pRE0BEH"
      },
      "source": [
        "**Import relative packages**"
      ]
    },
    {
      "cell_type": "code",
      "execution_count": 2,
      "metadata": {
        "id": "NlQtiTrmuzM3"
      },
      "outputs": [],
      "source": [
        "from handyrec.data.movielens import MovielensDataHelper\n",
        "from handyrec.data.utils import gen_sequence\n",
        "from handyrec.data import PairWiseDataset\n",
        "from handyrec.models.ranking import FMLPRec\n",
        "from handyrec.config import ConfigLoader\n",
        "from handyrec.data.metrics import map_at_k, recall_at_k\n",
        "from handyrec.models.utils import search_embedding\n",
        "\n",
        "import tensorflow as tf\n",
        "from tensorflow.keras import Model\n",
        "from tensorflow.keras.utils import plot_model\n",
        "import numpy as np\n",
        "import pandas as pd\n",
        "import gc"
      ]
    },
    {
      "cell_type": "code",
      "execution_count": 3,
      "metadata": {
        "id": "iYOxv7-auzM3"
      },
      "outputs": [],
      "source": [
        "import warnings\n",
        "warnings.filterwarnings('ignore')"
      ]
    },
    {
      "cell_type": "code",
      "execution_count": 4,
      "metadata": {
        "id": "W8jyTPiz8K13"
      },
      "outputs": [],
      "source": [
        "BATCH_SIZE = 2**12\n",
        "NEPOCH = 50\n",
        "\n",
        "TEST_NUM = 10\n",
        "VALID_RATIO = 0.1\n",
        "NEG_NUM = 10"
      ]
    },
    {
      "cell_type": "markdown",
      "metadata": {
        "id": "eee7ogIugZI1"
      },
      "source": [
        "**Load MovieLens1M data**"
      ]
    },
    {
      "cell_type": "code",
      "execution_count": 5,
      "metadata": {
        "colab": {
          "base_uri": "https://localhost:8080/"
        },
        "id": "bwNXcq6hgZI2",
        "outputId": "6ffce8a5-901c-460c-9c07-f33b78c8922d"
      },
      "outputs": [
        {
          "output_type": "stream",
          "name": "stderr",
          "text": [
            "Encode User Sparse Feats: 100%|██████████| 4/4 [00:00<00:00, 74.83it/s]\n",
            "Encode Item Sparse Feats: 100%|██████████| 1/1 [00:00<00:00, 81.83it/s]\n",
            "Generate movie_id sequence: 100%|██████████| 6040/6040 [00:07<00:00, 831.22it/s]\n"
          ]
        }
      ],
      "source": [
        "retrieve_dh = MovielensDataHelper('./ml-1m/')\n",
        "data = retrieve_dh.get_clean_data(sparse_features=['gender','occupation','zip','age','year'])\n",
        "data['inter']['hist_movie'] = gen_sequence(data['inter'], 'user_id', 'movie_id', seq_len=40)"
      ]
    },
    {
      "cell_type": "markdown",
      "metadata": {
        "id": "l9L5duhQhzgw"
      },
      "source": [
        "## Prepare data for ranking"
      ]
    },
    {
      "cell_type": "code",
      "execution_count": 6,
      "metadata": {
        "id": "exPUfBYmO8VO"
      },
      "outputs": [],
      "source": [
        "# * Use pre-trained embeddings and Faiss to generate candidates\n",
        "user_embs = np.load(\"./HandyRec/examples/DSSM/DSSM_user_embd.npy\")\n",
        "item_embs = np.load(\"./HandyRec/examples/DSSM/DSSM_item_embd.npy\")\n",
        "user_ids = np.load(\"./HandyRec/examples/DSSM/user_ids.npy\")\n",
        "\n",
        "test_candidates = search_embedding(\n",
        "    32, item_embs, user_embs, data[\"item\"][\"movie_id\"].values, 100, gpu=True\n",
        ")\n",
        "\n",
        "test_candidates = {user_ids[i] : test_candidates[i] for i in range(len(user_ids))}"
      ]
    },
    {
      "cell_type": "code",
      "execution_count": 7,
      "metadata": {
        "id": "hgGAvx-lgZJF"
      },
      "outputs": [],
      "source": [
        "user_features = ['user_id']\n",
        "item_features = ['movie_id']\n",
        "inter_features = ['hist_movie']"
      ]
    },
    {
      "cell_type": "code",
      "execution_count": 8,
      "metadata": {
        "colab": {
          "base_uri": "https://localhost:8080/"
        },
        "id": "LHhcEiY_gZJG",
        "outputId": "fe19d33c-539f-4b02-c00b-8eda88480816"
      },
      "outputs": [
        {
          "output_type": "stream",
          "name": "stderr",
          "text": [
            "Generate negative samples: 100%|██████████| 5923/5923 [00:04<00:00, 1262.25it/s]\n",
            "Regenerate test set: 100%|██████████| 5923/5923 [00:00<00:00, 525808.25it/s]\n",
            "Save user features: 100%|██████████| 1/1 [00:06<00:00,  6.73s/it]\n",
            "Save item features: 100%|██████████| 1/1 [00:06<00:00,  6.75s/it]\n",
            "Save inter features: 100%|██████████| 1/1 [00:36<00:00, 36.30s/it]\n"
          ]
        }
      ],
      "source": [
        "ranking_dataset = PairWiseDataset(\n",
        "    \"RankingDataset\",\n",
        "    task=\"ranking\",\n",
        "    data=data,\n",
        "    uid_name=\"user_id\",\n",
        "    iid_name=\"movie_id\",\n",
        "    inter_name=\"interact\",\n",
        "    time_name=\"timestamp\",\n",
        "    neg_iid_name=\"neg_movie_id\",\n",
        "    threshold=4,\n",
        ")\n",
        "\n",
        "ranking_dataset.train_test_split(TEST_NUM)\n",
        "ranking_dataset.negative_sampling(NEG_NUM)\n",
        "ranking_dataset.train_valid_split(VALID_RATIO)\n",
        "ranking_dataset.gen_dataset(user_features, item_features, inter_features, test_candidates)"
      ]
    },
    {
      "cell_type": "code",
      "execution_count": 9,
      "metadata": {
        "colab": {
          "base_uri": "https://localhost:8080/"
        },
        "id": "4wQASPHrhzgx",
        "outputId": "fa3b8175-7c57-4693-90cc-1dd9fa7fd769"
      },
      "outputs": [
        {
          "output_type": "stream",
          "name": "stderr",
          "text": [
            "Load user features: 100%|██████████| 1/1 [00:00<00:00,  1.23it/s]\n",
            "Load item features: 100%|██████████| 1/1 [00:00<00:00,  1.18it/s]\n",
            "Load inter features: 100%|██████████| 1/1 [00:01<00:00,  1.35s/it]\n"
          ]
        }
      ],
      "source": [
        "train_data, valid_data, test_data, test_label = ranking_dataset.load_dataset(\n",
        "    user_features, item_features, inter_features, BATCH_SIZE\n",
        ")"
      ]
    },
    {
      "cell_type": "code",
      "execution_count": 10,
      "metadata": {
        "id": "of_PY0kv9UZx"
      },
      "outputs": [],
      "source": [
        "feature_dim = ranking_dataset.get_feature_dim(user_features, item_features, [])\n",
        "feature_dim[\"genre_id\"] = 19"
      ]
    },
    {
      "cell_type": "markdown",
      "metadata": {
        "id": "kyApc4cJhzgy"
      },
      "source": [
        "## Train rank model and predict"
      ]
    },
    {
      "cell_type": "code",
      "execution_count": 11,
      "metadata": {
        "id": "7tSWHejxBULW"
      },
      "outputs": [],
      "source": [
        "cfg = ConfigLoader(\"./HandyRec/examples/FMLPRec/FMLPRec_cfg.yaml\")\n",
        "feature_groups = cfg.prepare_features(feature_dim, data)"
      ]
    },
    {
      "cell_type": "code",
      "execution_count": 12,
      "metadata": {
        "id": "_uvYZtxBhzgy"
      },
      "outputs": [],
      "source": [
        "rank_model = FMLPRec(\n",
        "    feature_groups[\"item_seq_feat_group\"],\n",
        "    **cfg.config.Model\n",
        ")"
      ]
    },
    {
      "cell_type": "code",
      "execution_count": 13,
      "metadata": {
        "colab": {
          "base_uri": "https://localhost:8080/"
        },
        "id": "H8l7JU3phzgy",
        "outputId": "ce5ebe11-5e56-448c-8a70-73198bc1de1e"
      },
      "outputs": [
        {
          "output_type": "stream",
          "name": "stdout",
          "text": [
            "Epoch 1/50\n",
            "1132/1132 [==============================] - 114s 92ms/step - loss: 0.9828 - val_loss: 0.8993\n",
            "Epoch 2/50\n",
            "1132/1132 [==============================] - 108s 95ms/step - loss: 0.8527 - val_loss: 0.7190\n",
            "Epoch 3/50\n",
            "1132/1132 [==============================] - 103s 91ms/step - loss: 0.6289 - val_loss: 0.4790\n",
            "Epoch 4/50\n",
            "1132/1132 [==============================] - 104s 92ms/step - loss: 0.4334 - val_loss: 0.3218\n",
            "Epoch 5/50\n",
            "1132/1132 [==============================] - 103s 91ms/step - loss: 0.3177 - val_loss: 0.2497\n",
            "Epoch 6/50\n",
            "1132/1132 [==============================] - 104s 91ms/step - loss: 0.2620 - val_loss: 0.2144\n",
            "Epoch 7/50\n",
            "1132/1132 [==============================] - 103s 91ms/step - loss: 0.2329 - val_loss: 0.1953\n",
            "Epoch 8/50\n",
            "1132/1132 [==============================] - 104s 92ms/step - loss: 0.2156 - val_loss: 0.1832\n",
            "Epoch 9/50\n",
            "1132/1132 [==============================] - 104s 92ms/step - loss: 0.2044 - val_loss: 0.1734\n",
            "Epoch 10/50\n",
            "1132/1132 [==============================] - 104s 92ms/step - loss: 0.1963 - val_loss: 0.1671\n",
            "Epoch 11/50\n",
            "1132/1132 [==============================] - 103s 91ms/step - loss: 0.1904 - val_loss: 0.1623\n",
            "Epoch 12/50\n",
            "1132/1132 [==============================] - 103s 91ms/step - loss: 0.1858 - val_loss: 0.1579\n",
            "Epoch 13/50\n",
            "1132/1132 [==============================] - 103s 91ms/step - loss: 0.1820 - val_loss: 0.1540\n",
            "Epoch 14/50\n",
            "1132/1132 [==============================] - 103s 91ms/step - loss: 0.1787 - val_loss: 0.1507\n",
            "Epoch 15/50\n",
            "1132/1132 [==============================] - 104s 92ms/step - loss: 0.1763 - val_loss: 0.1480\n",
            "Epoch 16/50\n",
            "1132/1132 [==============================] - 104s 91ms/step - loss: 0.1742 - val_loss: 0.1460\n",
            "Epoch 17/50\n",
            "1132/1132 [==============================] - 103s 91ms/step - loss: 0.1719 - val_loss: 0.1457\n",
            "Epoch 18/50\n",
            "1132/1132 [==============================] - 103s 91ms/step - loss: 0.1703 - val_loss: 0.1431\n",
            "Epoch 19/50\n",
            "1132/1132 [==============================] - 103s 91ms/step - loss: 0.1686 - val_loss: 0.1417\n",
            "Epoch 20/50\n",
            "1132/1132 [==============================] - 103s 91ms/step - loss: 0.1673 - val_loss: 0.1398\n",
            "Epoch 21/50\n",
            "1132/1132 [==============================] - 103s 91ms/step - loss: 0.1657 - val_loss: 0.1398\n",
            "Epoch 22/50\n",
            "1132/1132 [==============================] - 104s 92ms/step - loss: 0.1647 - val_loss: 0.1362\n",
            "Epoch 23/50\n",
            "1132/1132 [==============================] - 103s 91ms/step - loss: 0.1635 - val_loss: 0.1361\n",
            "Epoch 24/50\n",
            "1132/1132 [==============================] - 103s 91ms/step - loss: 0.1624 - val_loss: 0.1345\n",
            "Epoch 25/50\n",
            "1132/1132 [==============================] - 103s 91ms/step - loss: 0.1613 - val_loss: 0.1344\n",
            "Epoch 26/50\n",
            "1132/1132 [==============================] - 103s 91ms/step - loss: 0.1606 - val_loss: 0.1335\n",
            "Epoch 27/50\n",
            "1132/1132 [==============================] - 103s 91ms/step - loss: 0.1598 - val_loss: 0.1312\n",
            "Epoch 28/50\n",
            "1132/1132 [==============================] - 103s 91ms/step - loss: 0.1588 - val_loss: 0.1319\n",
            "Epoch 29/50\n",
            "1132/1132 [==============================] - 103s 91ms/step - loss: 0.1579 - val_loss: 0.1297\n",
            "Epoch 30/50\n",
            "1132/1132 [==============================] - 103s 91ms/step - loss: 0.1573 - val_loss: 0.1297\n",
            "Epoch 31/50\n",
            "1132/1132 [==============================] - 104s 91ms/step - loss: 0.1566 - val_loss: 0.1291\n",
            "Epoch 32/50\n",
            "1132/1132 [==============================] - 103s 91ms/step - loss: 0.1559 - val_loss: 0.1285\n",
            "Epoch 33/50\n",
            "1132/1132 [==============================] - 103s 91ms/step - loss: 0.1554 - val_loss: 0.1279\n",
            "Epoch 34/50\n",
            "1132/1132 [==============================] - 103s 91ms/step - loss: 0.1547 - val_loss: 0.1271\n",
            "Epoch 35/50\n",
            "1132/1132 [==============================] - 103s 91ms/step - loss: 0.1539 - val_loss: 0.1277\n",
            "Epoch 36/50\n",
            "1132/1132 [==============================] - 104s 91ms/step - loss: 0.1536 - val_loss: 0.1277\n",
            "Epoch 37/50\n",
            "1132/1132 [==============================] - 103s 91ms/step - loss: 0.1530 - val_loss: 0.1257\n",
            "Epoch 38/50\n",
            "1132/1132 [==============================] - 104s 92ms/step - loss: 0.1525 - val_loss: 0.1265\n",
            "Epoch 39/50\n",
            "1132/1132 [==============================] - 104s 92ms/step - loss: 0.1522 - val_loss: 0.1252\n",
            "Epoch 40/50\n",
            "1132/1132 [==============================] - 103s 91ms/step - loss: 0.1516 - val_loss: 0.1258\n",
            "Epoch 41/50\n",
            "1132/1132 [==============================] - 104s 91ms/step - loss: 0.1512 - val_loss: 0.1253\n",
            "Epoch 42/50\n",
            "1132/1132 [==============================] - 103s 91ms/step - loss: 0.1507 - val_loss: 0.1250\n",
            "Epoch 43/50\n",
            "1132/1132 [==============================] - 103s 91ms/step - loss: 0.1505 - val_loss: 0.1250\n",
            "Epoch 44/50\n",
            "1132/1132 [==============================] - 103s 91ms/step - loss: 0.1500 - val_loss: 0.1242\n",
            "Epoch 45/50\n",
            "1132/1132 [==============================] - 103s 91ms/step - loss: 0.1496 - val_loss: 0.1232\n",
            "Epoch 46/50\n",
            "1132/1132 [==============================] - 103s 91ms/step - loss: 0.1491 - val_loss: 0.1234\n",
            "Epoch 47/50\n",
            "1132/1132 [==============================] - 104s 92ms/step - loss: 0.1487 - val_loss: 0.1231\n",
            "Epoch 48/50\n",
            "1132/1132 [==============================] - 105s 92ms/step - loss: 0.1484 - val_loss: 0.1236\n",
            "Epoch 49/50\n",
            "1132/1132 [==============================] - 104s 92ms/step - loss: 0.1482 - val_loss: 0.1225\n",
            "Epoch 50/50\n",
            "1132/1132 [==============================] - 104s 92ms/step - loss: 0.1477 - val_loss: 0.1217\n"
          ]
        }
      ],
      "source": [
        "rank_model.compile(optimizer=tf.keras.optimizers.Adam(lr=2e-4, clipvalue=1.), loss=None)\n",
        "checkpoint = tf.keras.callbacks.ModelCheckpoint(\n",
        "    filepath='./rank_checkpoint/',\n",
        "    save_weights_only=True,\n",
        "    monitor='val_loss',\n",
        "    mode='min',\n",
        "    save_best_only=True\n",
        ")\n",
        "history = rank_model.fit(\n",
        "    x=train_data, \n",
        "    validation_data=valid_data,\n",
        "    epochs=NEPOCH,\n",
        "    callbacks=[checkpoint]\n",
        ")"
      ]
    },
    {
      "cell_type": "code",
      "execution_count": 14,
      "metadata": {
        "id": "w52A7cJ8hzgz"
      },
      "outputs": [],
      "source": [
        "rank_model.load_weights('./rank_checkpoint/')\n",
        "pred_model = Model(inputs=rank_model.real_inputs, outputs=rank_model.real_outputs)"
      ]
    },
    {
      "cell_type": "code",
      "source": [
        "plot_model(pred_model)"
      ],
      "metadata": {
        "colab": {
          "base_uri": "https://localhost:8080/",
          "height": 1000
        },
        "id": "-UUK3o7WQi_A",
        "outputId": "40b12aea-c9c6-421d-9234-595b61d6c8e3"
      },
      "execution_count": 15,
      "outputs": [
        {
          "output_type": "execute_result",
          "data": {
            "text/plain": [
              "<IPython.core.display.Image object>"
            ],
            "image/png": "[encoded data removed]"
          },
          "metadata": {},
          "execution_count": 15
        }
      ]
    },
    {
      "cell_type": "code",
      "execution_count": 16,
      "metadata": {
        "colab": {
          "base_uri": "https://localhost:8080/"
        },
        "id": "Fr61KpmewPuB",
        "outputId": "d378d530-96d0-487b-d6fd-f5da0c28c764"
      },
      "outputs": [
        {
          "output_type": "execute_result",
          "data": {
            "text/plain": [
              "8186"
            ]
          },
          "metadata": {},
          "execution_count": 16
        }
      ],
      "source": [
        "del train_data\n",
        "gc.collect()"
      ]
    },
    {
      "cell_type": "code",
      "execution_count": 17,
      "metadata": {
        "id": "zUQJ7IdLhzgz"
      },
      "outputs": [],
      "source": [
        "pred = pred_model.predict(test_data, batch_size=BATCH_SIZE)"
      ]
    },
    {
      "cell_type": "code",
      "execution_count": 18,
      "metadata": {
        "id": "SoCzRNuphzgz"
      },
      "outputs": [],
      "source": [
        "pred_df = pd.DataFrame(columns=['user_id','movie_id','pred'])\n",
        "pred_df['user_id'] = test_data['user_id']\n",
        "pred_df['movie_id'] = test_data['movie_id']\n",
        "pred_df['pred'] = pred\n",
        "\n",
        "pred_df = pred_df.sort_values(by=['user_id','pred'], ascending=False).reset_index(drop=True)\n",
        "pred_df = pred_df.groupby('user_id')['movie_id'].apply(list).reset_index()"
      ]
    },
    {
      "cell_type": "code",
      "execution_count": 19,
      "metadata": {
        "id": "rEQ9sQGjhzgz"
      },
      "outputs": [],
      "source": [
        "test_label_df = pd.DataFrame(columns=['user_id','label'])\n",
        "test_label_df['user_id'] = pd.Series(test_data['user_id']).drop_duplicates()\n",
        "test_label_df['label'] = test_label.tolist()"
      ]
    },
    {
      "cell_type": "code",
      "execution_count": 20,
      "metadata": {
        "id": "5T_uOn5Ohzgz"
      },
      "outputs": [],
      "source": [
        "test_label_df = pd.merge(test_label_df, pred_df, on=['user_id'], how='left')"
      ]
    },
    {
      "cell_type": "code",
      "execution_count": 21,
      "metadata": {
        "colab": {
          "base_uri": "https://localhost:8080/"
        },
        "id": "0HXT3XxAhzgz",
        "outputId": "69c9807a-3a22-4e84-c359-56a5a459f7f8"
      },
      "outputs": [
        {
          "output_type": "execute_result",
          "data": {
            "text/plain": [
              "0.021961702965839384"
            ]
          },
          "metadata": {},
          "execution_count": 21
        }
      ],
      "source": [
        "map_at_k(test_label_df['label'], test_label_df['movie_id'], k=10)"
      ]
    },
    {
      "cell_type": "code",
      "execution_count": 22,
      "metadata": {
        "colab": {
          "base_uri": "https://localhost:8080/"
        },
        "id": "HHzj8iJKhzgz",
        "outputId": "80e938f6-0915-4d06-8704-1e4b81ef371b"
      },
      "outputs": [
        {
          "output_type": "execute_result",
          "data": {
            "text/plain": [
              "0.05284484214080702"
            ]
          },
          "metadata": {},
          "execution_count": 22
        }
      ],
      "source": [
        "recall_at_k(test_label_df['label'], test_label_df['movie_id'], k=10)"
      ]
    },
    {
      "cell_type": "code",
      "execution_count": 23,
      "metadata": {
        "colab": {
          "base_uri": "https://localhost:8080/"
        },
        "id": "y5L5ijkE-H1x",
        "outputId": "c831d517-333e-4cb9-ba93-6e0d3f14d1d8"
      },
      "outputs": [
        {
          "output_type": "execute_result",
          "data": {
            "text/plain": [
              "0.13670437278406214"
            ]
          },
          "metadata": {},
          "execution_count": 23
        }
      ],
      "source": [
        "recall_at_k(test_label_df['label'], test_label_df['movie_id'], k=100)"
      ]
    },
    {
      "cell_type": "code",
      "execution_count": null,
      "metadata": {
        "id": "REVDzL0mcLWb"
      },
      "outputs": [],
      "source": [
        ""
      ]
    }
  ],
  "metadata": {
    "accelerator": "GPU",
    "colab": {
      "collapsed_sections": [],
      "name": "FMLPRec.ipynb",
      "provenance": []
    },
    "interpreter": {
      "hash": "653a9876bfda977334bab0c6eac4e690c97044cb3c76993a10b084536ae29e50"
    },
    "kernelspec": {
      "display_name": "handyrec",
      "language": "python",
      "name": "handyrec"
    },
    "language_info": {
      "codemirror_mode": {
        "name": "ipython",
        "version": 3
      },
      "file_extension": ".py",
      "mimetype": "text/x-python",
      "name": "python",
      "nbconvert_exporter": "python",
      "pygments_lexer": "ipython3",
      "version": "3.7.11"
    }
  },
  "nbformat": 4,
  "nbformat_minor": 0
}