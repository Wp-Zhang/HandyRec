{
  "cells": [
    {
      "cell_type": "markdown",
      "metadata": {
        "id": "FXD2RCXzuzMx"
      },
      "source": [
        "[![Open In Colab](https://colab.research.google.com/assets/colab-badge.svg)](https://colab.research.google.com/github/Wp-Zhang/HandyRec/blob/master/examples/FMLPRec/FMLPRec.ipynb)"
      ]
    },
    {
      "cell_type": "markdown",
      "metadata": {
        "id": "OJKT5uytzl7t"
      },
      "source": [
        "> This notebook runs FMLP-Rec on MovieLens1M dataset. We'll use DSSM for generating candidates and FMLP-Rec for ranking these candidates.\n",
        "\n",
        "> Only movies with ratings larger than 3 are treated as 'positive' samples for each user. Every last 10 'positive' movies of each user are held out for testing."
      ]
    },
    {
      "cell_type": "markdown",
      "metadata": {
        "id": "XFTLC9SQzxK4"
      },
      "source": [
        "**Download dataset and install packages**"
      ]
    },
    {
      "cell_type": "code",
      "execution_count": 1,
      "metadata": {
        "colab": {
          "base_uri": "https://localhost:8080/"
        },
        "id": "WSk1WSSpvXfL",
        "outputId": "3ca78e63-58f8-4162-e653-c9f58273ca37"
      },
      "outputs": [
        {
          "name": "stdout",
          "output_type": "stream",
          "text": [
            "Cloning into 'HandyRec'...\n",
            "remote: Enumerating objects: 1704, done.\u001b[K\n",
            "remote: Counting objects: 100% (1704/1704), done.\u001b[K\n",
            "remote: Compressing objects: 100% (1269/1269), done.\u001b[K\n",
            "remote: Total 1704 (delta 682), reused 1309 (delta 383), pack-reused 0\u001b[K\n",
            "Receiving objects: 100% (1704/1704), 20.92 MiB | 10.31 MiB/s, done.\n",
            "Resolving deltas: 100% (682/682), done.\n",
            "Collecting faiss-cpu\n",
            "  Downloading faiss_cpu-1.7.2-cp37-cp37m-manylinux_2_17_x86_64.manylinux2014_x86_64.whl (8.6 MB)\n",
            "\u001b[K     |████████████████████████████████| 8.6 MB 15.2 MB/s \n",
            "\u001b[?25hInstalling collected packages: faiss-cpu\n",
            "Successfully installed faiss-cpu-1.7.2\n"
          ]
        }
      ],
      "source": [
        "! git clone https://github.com/Wp-Zhang/HandyRec.git\n",
        "! cd HandyRec && python setup.py install\n",
        "! pip install faiss-gpu"
      ]
    },
    {
      "cell_type": "code",
      "execution_count": 2,
      "metadata": {
        "colab": {
          "base_uri": "https://localhost:8080/"
        },
        "id": "uiIqXdbUyCEi",
        "outputId": "f1343128-647a-4b88-b703-874791de849a"
      },
      "outputs": [
        {
          "name": "stdout",
          "output_type": "stream",
          "text": [
            "--2022-04-15 22:57:04--  https://files.grouplens.org/datasets/movielens/ml-1m.zip\n",
            "Resolving files.grouplens.org (files.grouplens.org)... 128.101.65.152\n",
            "Connecting to files.grouplens.org (files.grouplens.org)|128.101.65.152|:443... connected.\n",
            "HTTP request sent, awaiting response... 200 OK\n",
            "Length: 5917549 (5.6M) [application/zip]\n",
            "Saving to: ‘./ml-1m.zip’\n",
            "\n",
            "./ml-1m.zip         100%[===================>]   5.64M  3.45MB/s    in 1.6s    \n",
            "\n",
            "2022-04-15 22:57:06 (3.45 MB/s) - ‘./ml-1m.zip’ saved [5917549/5917549]\n",
            "\n",
            "Archive:  ml-1m.zip\n",
            "   creating: ml-1m/\n",
            "  inflating: ml-1m/movies.dat        \n",
            "  inflating: ml-1m/ratings.dat       \n",
            "  inflating: ml-1m/README            \n",
            "  inflating: ml-1m/users.dat         \n"
          ]
        }
      ],
      "source": [
        "! wget https://files.grouplens.org/datasets/movielens/ml-1m.zip -O ./ml-1m.zip\n",
        "! unzip -o ml-1m.zip"
      ]
    },
    {
      "cell_type": "markdown",
      "metadata": {
        "id": "gsUc0pRE0BEH"
      },
      "source": [
        "**Import relative packages**"
      ]
    },
    {
      "cell_type": "code",
      "execution_count": 4,
      "metadata": {
        "id": "NlQtiTrmuzM3"
      },
      "outputs": [],
      "source": [
        "from handyrec.data.movielens import MovielensDataHelper\n",
        "from handyrec.data.utils import gen_sequence\n",
        "from handyrec.data import PairWiseDataset\n",
        "from handyrec.models.ranking import FMLPRec\n",
        "from handyrec.config import ConfigLoader\n",
        "from handyrec.data.metrics import map_at_k, recall_at_k\n",
        "from handyrec.models.utils import search_embedding\n",
        "\n",
        "import tensorflow as tf\n",
        "from tensorflow.keras import Model\n",
        "from tensorflow.keras.utils import plot_model\n",
        "import numpy as np\n",
        "import pandas as pd\n",
        "import gc"
      ]
    },
    {
      "cell_type": "code",
      "execution_count": 5,
      "metadata": {
        "id": "iYOxv7-auzM3"
      },
      "outputs": [],
      "source": [
        "import warnings\n",
        "warnings.filterwarnings('ignore')"
      ]
    },
    {
      "cell_type": "code",
      "execution_count": 6,
      "metadata": {
        "id": "W8jyTPiz8K13"
      },
      "outputs": [],
      "source": [
        "BATCH_SIZE = 2**12\n",
        "NEPOCH = 50\n",
        "\n",
        "TEST_NUM = 10\n",
        "VALID_RATIO = 0.1\n",
        "NEG_NUM = 10"
      ]
    },
    {
      "cell_type": "markdown",
      "metadata": {
        "id": "eee7ogIugZI1"
      },
      "source": [
        "**Load MovieLens1M data**"
      ]
    },
    {
      "cell_type": "code",
      "execution_count": 7,
      "metadata": {
        "colab": {
          "base_uri": "https://localhost:8080/"
        },
        "id": "bwNXcq6hgZI2",
        "outputId": "d85520dd-7920-4fbe-ce99-b2e8c26d4acf"
      },
      "outputs": [
        {
          "name": "stderr",
          "output_type": "stream",
          "text": [
            "Encode User Sparse Feats: 100%|██████████| 4/4 [00:00<00:00, 95.18it/s]\n",
            "Encode Item Sparse Feats: 100%|██████████| 1/1 [00:00<00:00, 93.77it/s]\n",
            "Generate movie_id sequence: 100%|██████████| 6040/6040 [00:10<00:00, 552.23it/s] \n"
          ]
        }
      ],
      "source": [
        "retrieve_dh = MovielensDataHelper('./ml-1m/')\n",
        "data = retrieve_dh.get_clean_data(sparse_features=['gender','occupation','zip','age','year'])\n",
        "data['inter']['hist_movie'] = gen_sequence(data['inter'], 'user_id', 'movie_id', seq_len=40)"
      ]
    },
    {
      "cell_type": "markdown",
      "metadata": {
        "id": "l9L5duhQhzgw"
      },
      "source": [
        "## Prepare data for ranking"
      ]
    },
    {
      "cell_type": "code",
      "execution_count": null,
      "metadata": {},
      "outputs": [],
      "source": [
        "# * Use pre-trained embeddings and Faiss to generate candidates\n",
        "user_embs = np.load(\"./HandyRec/examples/DSSM/DSSM_user_embd.npy\")\n",
        "item_embs = np.load(\"./HandyRec/examples/DSSM/DSSM_item_embd.npy\")\n",
        "user_ids = np.load(\"./HandyRec/examples/DSSM/user_ids.npy\")\n",
        "\n",
        "test_candidates = search_embedding(\n",
        "    32, item_embs, user_embs, data[\"item\"][\"movie_id\"].values, 100, gpu=True\n",
        ")\n",
        "\n",
        "test_candidates = {user_ids[i] : test_candidates[i] for i in range(len(user_ids))}"
      ]
    },
    {
      "cell_type": "code",
      "execution_count": 26,
      "metadata": {
        "id": "hgGAvx-lgZJF"
      },
      "outputs": [],
      "source": [
        "user_features = ['user_id']\n",
        "item_features = ['movie_id']\n",
        "inter_features = ['hist_movie']"
      ]
    },
    {
      "cell_type": "code",
      "execution_count": 27,
      "metadata": {
        "colab": {
          "base_uri": "https://localhost:8080/"
        },
        "id": "LHhcEiY_gZJG",
        "outputId": "dfee6f59-e9d6-4651-bd12-a4cf5373f822"
      },
      "outputs": [
        {
          "name": "stderr",
          "output_type": "stream",
          "text": [
            "Generate negative samples: 100%|██████████| 5923/5923 [00:08<00:00, 711.63it/s]\n",
            "Regenerate test set: 100%|██████████| 5923/5923 [00:00<00:00, 683735.97it/s]\n",
            "Save user features: 100%|██████████| 1/1 [00:05<00:00,  5.49s/it]\n",
            "Save item features: 100%|██████████| 1/1 [00:05<00:00,  5.49s/it]\n",
            "Save inter features: 100%|██████████| 1/1 [00:35<00:00, 35.20s/it]\n"
          ]
        }
      ],
      "source": [
        "ranking_dataset = PairWiseDataset(\n",
        "    \"RankingDataset\",\n",
        "    task=\"ranking\",\n",
        "    data=data,\n",
        "    uid_name=\"user_id\",\n",
        "    iid_name=\"movie_id\",\n",
        "    inter_name=\"interact\",\n",
        "    time_name=\"timestamp\",\n",
        "    neg_iid_name=\"neg_movie_id\",\n",
        "    threshold=4,\n",
        ")\n",
        "\n",
        "ranking_dataset.train_test_split(TEST_NUM)\n",
        "ranking_dataset.negative_sampling(NEG_NUM)\n",
        "ranking_dataset.train_valid_split(VALID_RATIO)\n",
        "ranking_dataset.gen_dataset(user_features, item_features, inter_features, test_candidates)"
      ]
    },
    {
      "cell_type": "code",
      "execution_count": 28,
      "metadata": {
        "colab": {
          "base_uri": "https://localhost:8080/"
        },
        "id": "4wQASPHrhzgx",
        "outputId": "bf79fae2-e892-4df2-d1e5-3347b8259820"
      },
      "outputs": [
        {
          "name": "stderr",
          "output_type": "stream",
          "text": [
            "Load user features: 100%|██████████| 1/1 [00:00<00:00,  1.39it/s]\n",
            "Load item features: 100%|██████████| 1/1 [00:00<00:00,  1.42it/s]\n",
            "Load inter features: 100%|██████████| 1/1 [00:01<00:00,  1.32s/it]\n"
          ]
        }
      ],
      "source": [
        "train_data, valid_data, test_data, test_label = ranking_dataset.load_dataset(\n",
        "    user_features, item_features, inter_features, BATCH_SIZE\n",
        ")"
      ]
    },
    {
      "cell_type": "code",
      "execution_count": 29,
      "metadata": {
        "id": "of_PY0kv9UZx"
      },
      "outputs": [],
      "source": [
        "feature_dim = ranking_dataset.get_feature_dim(user_features, item_features, [])\n",
        "feature_dim[\"genre_id\"] = 19"
      ]
    },
    {
      "cell_type": "markdown",
      "metadata": {
        "id": "kyApc4cJhzgy"
      },
      "source": [
        "## Train rank model and predict"
      ]
    },
    {
      "cell_type": "code",
      "execution_count": 30,
      "metadata": {
        "id": "7tSWHejxBULW"
      },
      "outputs": [],
      "source": [
        "cfg = ConfigLoader(\"./HandyRec/examples/FMLPRec/FMLPRec_cfg.yaml\")\n",
        "feature_groups = cfg.prepare_features(feature_dim, data)"
      ]
    },
    {
      "cell_type": "code",
      "execution_count": 32,
      "metadata": {
        "id": "_uvYZtxBhzgy"
      },
      "outputs": [],
      "source": [
        "rank_model = FMLPRec(\n",
        "    feature_groups[\"item_seq_feat_group\"],\n",
        "    **cfg.config.Model\n",
        ")"
      ]
    },
    {
      "cell_type": "code",
      "execution_count": 33,
      "metadata": {
        "colab": {
          "base_uri": "https://localhost:8080/"
        },
        "id": "H8l7JU3phzgy",
        "outputId": "7eaa4dc5-5d3f-4b3c-ad1f-df2563dfc2a7"
      },
      "outputs": [
        {
          "name": "stdout",
          "output_type": "stream",
          "text": [
            "Epoch 1/50\n",
            "1132/1132 [==============================] - 243s 210ms/step - loss: 0.9472 - val_loss: 0.8545\n",
            "Epoch 2/50\n",
            "1132/1132 [==============================] - 239s 211ms/step - loss: 0.6435 - val_loss: 0.3980\n",
            "Epoch 3/50\n",
            "1132/1132 [==============================] - 239s 211ms/step - loss: 0.3298 - val_loss: 0.2333\n",
            "Epoch 4/50\n",
            "1132/1132 [==============================] - 239s 211ms/step - loss: 0.2276 - val_loss: 0.1830\n",
            "Epoch 5/50\n",
            "1132/1132 [==============================] - 239s 211ms/step - loss: 0.1899 - val_loss: 0.1596\n",
            "Epoch 6/50\n",
            "1132/1132 [==============================] - 239s 211ms/step - loss: 0.1697 - val_loss: 0.1444\n",
            "Epoch 7/50\n",
            "1132/1132 [==============================] - 239s 211ms/step - loss: 0.1575 - val_loss: 0.1351\n",
            "Epoch 8/50\n",
            "1132/1132 [==============================] - 239s 211ms/step - loss: 0.1493 - val_loss: 0.1278\n",
            "Epoch 9/50\n",
            "1132/1132 [==============================] - 240s 212ms/step - loss: 0.1430 - val_loss: 0.1227\n",
            "Epoch 10/50\n",
            "1132/1132 [==============================] - 239s 211ms/step - loss: 0.1384 - val_loss: 0.1188\n",
            "Epoch 11/50\n",
            "1132/1132 [==============================] - 239s 211ms/step - loss: 0.1346 - val_loss: 0.1157\n",
            "Epoch 12/50\n",
            "1132/1132 [==============================] - 239s 211ms/step - loss: 0.1315 - val_loss: 0.1131\n",
            "Epoch 13/50\n",
            "1132/1132 [==============================] - 239s 211ms/step - loss: 0.1289 - val_loss: 0.1106\n",
            "Epoch 14/50\n",
            "1132/1132 [==============================] - 239s 211ms/step - loss: 0.1267 - val_loss: 0.1092\n",
            "Epoch 15/50\n",
            "1132/1132 [==============================] - 239s 211ms/step - loss: 0.1246 - val_loss: 0.1080\n",
            "Epoch 16/50\n",
            "1132/1132 [==============================] - 239s 211ms/step - loss: 0.1229 - val_loss: 0.1048\n",
            "Epoch 17/50\n",
            "1132/1132 [==============================] - 240s 212ms/step - loss: 0.1213 - val_loss: 0.1034\n",
            "Epoch 18/50\n",
            "1132/1132 [==============================] - 239s 211ms/step - loss: 0.1196 - val_loss: 0.1024\n",
            "Epoch 19/50\n",
            "1132/1132 [==============================] - 239s 211ms/step - loss: 0.1183 - val_loss: 0.1008\n",
            "Epoch 20/50\n",
            "1132/1132 [==============================] - 239s 211ms/step - loss: 0.1170 - val_loss: 0.1013\n",
            "Epoch 21/50\n",
            "1132/1132 [==============================] - 239s 211ms/step - loss: 0.1159 - val_loss: 0.0998\n",
            "Epoch 22/50\n",
            "1132/1132 [==============================] - 239s 211ms/step - loss: 0.1147 - val_loss: 0.0983\n",
            "Epoch 23/50\n",
            "1132/1132 [==============================] - 239s 211ms/step - loss: 0.1139 - val_loss: 0.0979\n",
            "Epoch 24/50\n",
            "1132/1132 [==============================] - 239s 211ms/step - loss: 0.1129 - val_loss: 0.0980\n",
            "Epoch 25/50\n",
            "1132/1132 [==============================] - 239s 211ms/step - loss: 0.1121 - val_loss: 0.0966\n",
            "Epoch 26/50\n",
            "1132/1132 [==============================] - 239s 212ms/step - loss: 0.1113 - val_loss: 0.0967\n",
            "Epoch 27/50\n",
            "1132/1132 [==============================] - 240s 212ms/step - loss: 0.1105 - val_loss: 0.0961\n",
            "Epoch 28/50\n",
            "1132/1132 [==============================] - 239s 211ms/step - loss: 0.1098 - val_loss: 0.0958\n",
            "Epoch 29/50\n",
            "1132/1132 [==============================] - 240s 212ms/step - loss: 0.1093 - val_loss: 0.0959\n",
            "Epoch 30/50\n",
            "1132/1132 [==============================] - 240s 212ms/step - loss: 0.1086 - val_loss: 0.0949\n",
            "Epoch 31/50\n",
            "1132/1132 [==============================] - 239s 211ms/step - loss: 0.1080 - val_loss: 0.0943\n",
            "Epoch 32/50\n",
            "1132/1132 [==============================] - 239s 212ms/step - loss: 0.1073 - val_loss: 0.0937\n",
            "Epoch 33/50\n",
            "1132/1132 [==============================] - 239s 211ms/step - loss: 0.1072 - val_loss: 0.0936\n",
            "Epoch 34/50\n",
            "1132/1132 [==============================] - 239s 211ms/step - loss: 0.1064 - val_loss: 0.0925\n",
            "Epoch 35/50\n",
            "1132/1132 [==============================] - 239s 211ms/step - loss: 0.1058 - val_loss: 0.0927\n",
            "Epoch 36/50\n",
            "1132/1132 [==============================] - 239s 211ms/step - loss: 0.1056 - val_loss: 0.0922\n",
            "Epoch 37/50\n",
            "1132/1132 [==============================] - 239s 211ms/step - loss: 0.1051 - val_loss: 0.0918\n",
            "Epoch 38/50\n",
            "1132/1132 [==============================] - 239s 211ms/step - loss: 0.1045 - val_loss: 0.0917\n",
            "Epoch 39/50\n",
            "1132/1132 [==============================] - 240s 212ms/step - loss: 0.1043 - val_loss: 0.0919\n",
            "Epoch 40/50\n",
            "1132/1132 [==============================] - 239s 211ms/step - loss: 0.1039 - val_loss: 0.0918\n",
            "Epoch 41/50\n",
            "1132/1132 [==============================] - 239s 211ms/step - loss: 0.1036 - val_loss: 0.0910\n",
            "Epoch 42/50\n",
            "1132/1132 [==============================] - 239s 211ms/step - loss: 0.1032 - val_loss: 0.0913\n",
            "Epoch 43/50\n",
            "1132/1132 [==============================] - 239s 211ms/step - loss: 0.1028 - val_loss: 0.0906\n",
            "Epoch 44/50\n",
            "1132/1132 [==============================] - 239s 211ms/step - loss: 0.1024 - val_loss: 0.0884\n",
            "Epoch 45/50\n",
            "1132/1132 [==============================] - 239s 211ms/step - loss: 0.1021 - val_loss: 0.0891\n",
            "Epoch 46/50\n",
            "1132/1132 [==============================] - 239s 211ms/step - loss: 0.1018 - val_loss: 0.0889\n",
            "Epoch 47/50\n",
            "1132/1132 [==============================] - 239s 211ms/step - loss: 0.1015 - val_loss: 0.0894\n",
            "Epoch 48/50\n",
            "1132/1132 [==============================] - 239s 211ms/step - loss: 0.1012 - val_loss: 0.0886\n",
            "Epoch 49/50\n",
            "1132/1132 [==============================] - 239s 211ms/step - loss: 0.1009 - val_loss: 0.0880\n",
            "Epoch 50/50\n",
            "1132/1132 [==============================] - 239s 211ms/step - loss: 0.1006 - val_loss: 0.0878\n"
          ]
        }
      ],
      "source": [
        "rank_model.compile(optimizer=tf.keras.optimizers.Adam(lr=2e-4, clipvalue=1.), loss=None)\n",
        "checkpoint = tf.keras.callbacks.ModelCheckpoint(\n",
        "    filepath='./rank_checkpoint/',\n",
        "    save_weights_only=True,\n",
        "    monitor='val_loss',\n",
        "    mode='min',\n",
        "    save_best_only=True\n",
        ")\n",
        "history = rank_model.fit(\n",
        "    x=train_data, \n",
        "    validation_data=valid_data,\n",
        "    epochs=NEPOCH,\n",
        "    callbacks=[checkpoint]\n",
        ")"
      ]
    },
    {
      "cell_type": "code",
      "execution_count": 34,
      "metadata": {
        "id": "w52A7cJ8hzgz"
      },
      "outputs": [],
      "source": [
        "rank_model.load_weights('./rank_checkpoint/')\n",
        "pred_model = Model(inputs=rank_model.real_inputs, outputs=rank_model.real_outputs)"
      ]
    },
    {
      "cell_type": "code",
      "execution_count": 35,
      "metadata": {
        "colab": {
          "base_uri": "https://localhost:8080/"
        },
        "id": "Fr61KpmewPuB",
        "outputId": "583be46d-a5ae-4b46-a900-ca122bbb2fd0"
      },
      "outputs": [
        {
          "data": {
            "text/plain": [
              "2843"
            ]
          },
          "execution_count": 35,
          "metadata": {},
          "output_type": "execute_result"
        }
      ],
      "source": [
        "del train_data\n",
        "gc.collect()"
      ]
    },
    {
      "cell_type": "code",
      "execution_count": 36,
      "metadata": {
        "id": "zUQJ7IdLhzgz"
      },
      "outputs": [],
      "source": [
        "pred = pred_model.predict(test_data, batch_size=BATCH_SIZE)"
      ]
    },
    {
      "cell_type": "code",
      "execution_count": 37,
      "metadata": {
        "id": "SoCzRNuphzgz"
      },
      "outputs": [],
      "source": [
        "pred_df = pd.DataFrame(columns=['user_id','movie_id','pred'])\n",
        "pred_df['user_id'] = test_data['user_id']\n",
        "pred_df['movie_id'] = test_data['movie_id']\n",
        "pred_df['pred'] = pred\n",
        "\n",
        "pred_df = pred_df.sort_values(by=['user_id','pred'], ascending=False).reset_index(drop=True)\n",
        "pred_df = pred_df.groupby('user_id')['movie_id'].apply(list).reset_index()"
      ]
    },
    {
      "cell_type": "code",
      "execution_count": 38,
      "metadata": {
        "id": "rEQ9sQGjhzgz"
      },
      "outputs": [],
      "source": [
        "test_label_df = pd.DataFrame(columns=['user_id','label'])\n",
        "test_label_df['user_id'] = pd.Series(test_data['user_id']).drop_duplicates()\n",
        "test_label_df['label'] = test_label.tolist()"
      ]
    },
    {
      "cell_type": "code",
      "execution_count": 39,
      "metadata": {
        "id": "5T_uOn5Ohzgz"
      },
      "outputs": [],
      "source": [
        "test_label_df = pd.merge(test_label_df, pred_df, on=['user_id'], how='left')"
      ]
    },
    {
      "cell_type": "code",
      "execution_count": 40,
      "metadata": {
        "colab": {
          "base_uri": "https://localhost:8080/"
        },
        "id": "0HXT3XxAhzgz",
        "outputId": "f1bdac09-03a2-4bef-d4b7-872d2c0c03f2"
      },
      "outputs": [
        {
          "data": {
            "text/plain": [
              "0.02545580317781905"
            ]
          },
          "execution_count": 40,
          "metadata": {},
          "output_type": "execute_result"
        }
      ],
      "source": [
        "map_at_k(test_label_df['label'], test_label_df['movie_id'], k=10)"
      ]
    },
    {
      "cell_type": "code",
      "execution_count": 41,
      "metadata": {
        "colab": {
          "base_uri": "https://localhost:8080/"
        },
        "id": "HHzj8iJKhzgz",
        "outputId": "40a66780-6f99-4054-d95b-deafdd793374"
      },
      "outputs": [
        {
          "data": {
            "text/plain": [
              "0.05924362654060442"
            ]
          },
          "execution_count": 41,
          "metadata": {},
          "output_type": "execute_result"
        }
      ],
      "source": [
        "recall_at_k(test_label_df['label'], test_label_df['movie_id'], k=10)"
      ]
    },
    {
      "cell_type": "code",
      "execution_count": 42,
      "metadata": {
        "colab": {
          "base_uri": "https://localhost:8080/"
        },
        "id": "y5L5ijkE-H1x",
        "outputId": "3e8e759c-b351-4632-da83-b662917371ae"
      },
      "outputs": [
        {
          "data": {
            "text/plain": [
              "0.1351848725308121"
            ]
          },
          "execution_count": 42,
          "metadata": {},
          "output_type": "execute_result"
        }
      ],
      "source": [
        "recall_at_k(test_label_df['label'], test_label_df['movie_id'], k=100)"
      ]
    },
    {
      "cell_type": "code",
      "execution_count": 42,
      "metadata": {
        "id": "REVDzL0mcLWb"
      },
      "outputs": [],
      "source": []
    }
  ],
  "metadata": {
    "accelerator": "GPU",
    "colab": {
      "collapsed_sections": [],
      "name": "FMLPRec.ipynb",
      "provenance": []
    },
    "interpreter": {
      "hash": "653a9876bfda977334bab0c6eac4e690c97044cb3c76993a10b084536ae29e50"
    },
    "kernelspec": {
      "display_name": "handyrec",
      "language": "python",
      "name": "handyrec"
    },
    "language_info": {
      "codemirror_mode": {
        "name": "ipython",
        "version": 3
      },
      "file_extension": ".py",
      "mimetype": "text/x-python",
      "name": "python",
      "nbconvert_exporter": "python",
      "pygments_lexer": "ipython3",
      "version": "3.7.11"
    }
  },
  "nbformat": 4,
  "nbformat_minor": 0
}
