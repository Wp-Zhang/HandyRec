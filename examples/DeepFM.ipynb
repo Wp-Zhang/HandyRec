{
  "cells": [
    {
      "cell_type": "markdown",
      "metadata": {
        "id": "FXD2RCXzuzMx"
      },
      "source": [
        "[![Open In Colab](https://colab.research.google.com/assets/colab-badge.svg)](https://colab.research.google.com/github/Wp-Zhang/HandyRec/blob/master/examples/DeepFM.ipynb)"
      ]
    },
    {
      "cell_type": "markdown",
      "metadata": {
        "id": "OJKT5uytzl7t"
      },
      "source": [
        "> This notebook runs DeepFM on MovieLens1M dataset. We'll use YouTubeDNN for generating candidates and DeepFM for ranking these candidates.\n",
        "\n",
        "> Only movies with ratings greater than 3 are treated as 'positive' samples for each user. Every last 10 'positive' movies of each user are held out for testing."
      ]
    },
    {
      "cell_type": "markdown",
      "metadata": {
        "id": "YtD_3eG3xekg"
      },
      "source": [
        "## Table of Contents:\n",
        "* [Prepare data for retrieval](#section-0)\n",
        "* [Train retrieve model and export embeddings](#section-1)\n",
        "* [Use Faiss to generate candidates](#section-2)\n",
        "* [Train rank model and predict](#section-3)"
      ]
    },
    {
      "cell_type": "markdown",
      "metadata": {
        "id": "XFTLC9SQzxK4"
      },
      "source": [
        "**Download dataset and install packages**"
      ]
    },
    {
      "cell_type": "code",
      "execution_count": 1,
      "metadata": {
        "colab": {
          "base_uri": "https://localhost:8080/"
        },
        "id": "WSk1WSSpvXfL",
        "outputId": "b790d6cc-d87c-4214-9a4b-f3387f1165a9"
      },
      "outputs": [
        {
          "output_type": "stream",
          "name": "stdout",
          "text": [
            "Cloning into 'HandyRec'...\n",
            "remote: Enumerating objects: 1709, done.\u001b[K\n",
            "remote: Counting objects: 100% (1709/1709), done.\u001b[K\n",
            "remote: Compressing objects: 100% (1270/1270), done.\u001b[K\n",
            "remote: Total 1709 (delta 686), reused 1314 (delta 387), pack-reused 0\u001b[K\n",
            "Receiving objects: 100% (1709/1709), 20.92 MiB | 26.81 MiB/s, done.\n",
            "Resolving deltas: 100% (686/686), done.\n",
            "Collecting faiss-cpu\n",
            "  Downloading faiss_cpu-1.7.2-cp37-cp37m-manylinux_2_17_x86_64.manylinux2014_x86_64.whl (8.6 MB)\n",
            "\u001b[K     |████████████████████████████████| 8.6 MB 5.5 MB/s \n",
            "\u001b[?25hInstalling collected packages: faiss-cpu\n",
            "Successfully installed faiss-cpu-1.7.2\n"
          ]
        }
      ],
      "source": [
        "! git clone https://github.com/Wp-Zhang/HandyRec.git\n",
        "! pip install faiss-cpu"
      ]
    },
    {
      "cell_type": "code",
      "execution_count": 2,
      "metadata": {
        "colab": {
          "base_uri": "https://localhost:8080/"
        },
        "id": "uiIqXdbUyCEi",
        "outputId": "5847d3b8-8f71-4802-bb9d-c5a93caf3019"
      },
      "outputs": [
        {
          "output_type": "stream",
          "name": "stdout",
          "text": [
            "--2022-04-16 02:34:28--  https://files.grouplens.org/datasets/movielens/ml-1m.zip\n",
            "Resolving files.grouplens.org (files.grouplens.org)... 128.101.65.152\n",
            "Connecting to files.grouplens.org (files.grouplens.org)|128.101.65.152|:443... connected.\n",
            "HTTP request sent, awaiting response... 200 OK\n",
            "Length: 5917549 (5.6M) [application/zip]\n",
            "Saving to: ‘./ml-1m.zip’\n",
            "\n",
            "./ml-1m.zip         100%[===================>]   5.64M  13.8MB/s    in 0.4s    \n",
            "\n",
            "2022-04-16 02:34:29 (13.8 MB/s) - ‘./ml-1m.zip’ saved [5917549/5917549]\n",
            "\n",
            "Archive:  ml-1m.zip\n",
            "   creating: ml-1m/\n",
            "  inflating: ml-1m/movies.dat        \n",
            "  inflating: ml-1m/ratings.dat       \n",
            "  inflating: ml-1m/README            \n",
            "  inflating: ml-1m/users.dat         \n"
          ]
        }
      ],
      "source": [
        "! wget https://files.grouplens.org/datasets/movielens/ml-1m.zip -O ./ml-1m.zip\n",
        "! unzip -o ml-1m.zip"
      ]
    },
    {
      "cell_type": "markdown",
      "metadata": {
        "id": "gsUc0pRE0BEH"
      },
      "source": [
        "**Import relative packages**"
      ]
    },
    {
      "cell_type": "code",
      "execution_count": 3,
      "metadata": {
        "id": "PzbZZUXxvxvm"
      },
      "outputs": [],
      "source": [
        "import sys\n",
        "sys.path.append('./HandyRec/')"
      ]
    },
    {
      "cell_type": "code",
      "execution_count": 4,
      "metadata": {
        "id": "NlQtiTrmuzM3"
      },
      "outputs": [],
      "source": [
        "from handyrec.data.movielens import MovielensDataHelper\n",
        "from handyrec.data.utils import gen_sequence\n",
        "from handyrec.data import PointWiseDataset\n",
        "\n",
        "from handyrec.layers.utils import sampledsoftmaxloss\n",
        "from handyrec.models.retrieval import YouTubeMatchDNN\n",
        "from handyrec.models.ranking import DeepFM\n",
        "from handyrec.features import DenseFeature, SparseFeature, SparseSeqFeature, FeatureGroup, EmbdFeatureGroup, FeaturePool\n",
        "from handyrec.data.metrics import map_at_k, recall_at_k\n",
        "from handyrec.models.utils import search_embedding\n",
        "\n",
        "import tensorflow as tf\n",
        "from tensorflow.keras import Model\n",
        "from tensorflow.keras.losses import binary_crossentropy\n",
        "from tensorflow.keras.utils import plot_model\n",
        "import numpy as np\n",
        "import pandas as pd\n",
        "import gc"
      ]
    },
    {
      "cell_type": "code",
      "execution_count": 5,
      "metadata": {
        "id": "iYOxv7-auzM3"
      },
      "outputs": [],
      "source": [
        "import warnings\n",
        "warnings.filterwarnings('ignore')"
      ]
    },
    {
      "cell_type": "code",
      "execution_count": 6,
      "metadata": {
        "id": "W8jyTPiz8K13"
      },
      "outputs": [],
      "source": [
        "RETRIEVAL_EMBEDDING_DIM = 64\n",
        "RANK_EMBEDDING_DIM = 64\n",
        "SEQ_LEN = 40\n",
        "BATCH_SIZE = 2**12\n",
        "NEPOCH = 50\n",
        "\n",
        "TEST_NUM = 10\n",
        "VALID_RATIO = 0.1\n",
        "NEG_NUM = 10\n",
        "CANDIDATE_NUM = 100"
      ]
    },
    {
      "cell_type": "markdown",
      "metadata": {
        "id": "eee7ogIugZI1"
      },
      "source": [
        "**Load MovieLens1M data**"
      ]
    },
    {
      "cell_type": "code",
      "execution_count": 7,
      "metadata": {
        "colab": {
          "base_uri": "https://localhost:8080/"
        },
        "id": "bwNXcq6hgZI2",
        "outputId": "a1f380b1-71b0-4014-dc73-c867fececebc"
      },
      "outputs": [
        {
          "output_type": "stream",
          "name": "stderr",
          "text": [
            "Encode User Sparse Feats: 100%|██████████| 4/4 [00:00<00:00, 32.44it/s]\n",
            "Encode Item Sparse Feats: 100%|██████████| 1/1 [00:00<00:00, 58.16it/s]\n",
            "Generate movie_id sequence: 100%|██████████| 6040/6040 [00:05<00:00, 1186.78it/s]\n"
          ]
        }
      ],
      "source": [
        "retrieve_dh = MovielensDataHelper('./ml-1m/')\n",
        "data = retrieve_dh.get_clean_data(sparse_features=['gender','occupation','zip','age','year'])\n",
        "data['inter']['hist_movie'] = gen_sequence(data['inter'], 'user_id', 'movie_id', SEQ_LEN)"
      ]
    },
    {
      "cell_type": "markdown",
      "metadata": {
        "id": "MXNUDnO_0VLl"
      },
      "source": [
        "# 0. Prepare data for retrieval<a name=\"section-0\"></a>"
      ]
    },
    {
      "cell_type": "code",
      "execution_count": 8,
      "metadata": {
        "id": "2gszyQDwgZI5"
      },
      "outputs": [],
      "source": [
        "user_features = ['user_id', 'gender', 'occupation']\n",
        "item_features = ['movie_id','genres']\n",
        "inter_features = ['hist_movie']"
      ]
    },
    {
      "cell_type": "code",
      "execution_count": 9,
      "metadata": {
        "colab": {
          "base_uri": "https://localhost:8080/"
        },
        "id": "wgw6prfluzM5",
        "outputId": "4a8ce9d8-1199-4ae0-b646-1f34ecf6d247"
      },
      "outputs": [
        {
          "output_type": "stream",
          "name": "stderr",
          "text": [
            "Save user features: 100%|██████████| 3/3 [00:02<00:00,  1.30it/s]\n",
            "Save item features: 100%|██████████| 2/2 [00:01<00:00,  1.04it/s]\n",
            "Save inter features: 100%|██████████| 2/2 [00:03<00:00,  1.77s/it]\n"
          ]
        }
      ],
      "source": [
        "retrieval_dataset = PointWiseDataset(\n",
        "    \"RetrievalDataset\",\n",
        "    task=\"retrieval\",\n",
        "    data=data,\n",
        "    uid_name=\"user_id\",\n",
        "    iid_name=\"movie_id\",\n",
        "    inter_name=\"interact\",\n",
        "    time_name=\"timestamp\",\n",
        "    threshold=4,\n",
        ")\n",
        "\n",
        "retrieval_dataset.train_test_split(TEST_NUM)\n",
        "retrieval_dataset.train_valid_split(VALID_RATIO)\n",
        "retrieval_dataset.gen_dataset(user_features, item_features, inter_features, shuffle=False)"
      ]
    },
    {
      "cell_type": "code",
      "execution_count": 10,
      "metadata": {
        "colab": {
          "base_uri": "https://localhost:8080/"
        },
        "id": "nWhojvyKuzM7",
        "outputId": "e2cb6e44-fe4c-4df9-e642-dc94daf7e7d2"
      },
      "outputs": [
        {
          "output_type": "stream",
          "name": "stderr",
          "text": [
            "Load user features: 100%|██████████| 3/3 [00:02<00:00,  1.44it/s]\n",
            "Load item features: 100%|██████████| 2/2 [00:01<00:00,  1.46it/s]\n",
            "Load inter features: 100%|██████████| 2/2 [00:01<00:00,  1.39it/s]\n"
          ]
        }
      ],
      "source": [
        "train_data, valid_data, test_data, test_label = retrieval_dataset.load_dataset(\n",
        "    user_features, item_features, inter_features, BATCH_SIZE\n",
        ")"
      ]
    },
    {
      "cell_type": "code",
      "execution_count": 11,
      "metadata": {
        "id": "VJR1Ybd18t7g"
      },
      "outputs": [],
      "source": [
        "feature_dim = retrieval_dataset.get_feature_dim(user_features, item_features, [])"
      ]
    },
    {
      "cell_type": "markdown",
      "metadata": {
        "id": "wMAdJxpc0x1U"
      },
      "source": [
        "# 1. Train retrieve model and export embeddings <a name=\"section-1\"></a>"
      ]
    },
    {
      "cell_type": "code",
      "execution_count": 12,
      "metadata": {
        "id": "sR3E1PiPgZI9"
      },
      "outputs": [],
      "source": [
        "feat_pool1 = FeaturePool()"
      ]
    },
    {
      "cell_type": "code",
      "execution_count": 13,
      "metadata": {
        "id": "P7hlK1PCgZI9"
      },
      "outputs": [],
      "source": [
        "all_item_model_input = {f:np.array(data['item'][f].tolist()) for f in item_features}\n",
        "\n",
        "retrieve_item_features = [SparseFeature('movie_id', feature_dim['movie_id'], RETRIEVAL_EMBEDDING_DIM)] +\\\n",
        "                [SparseSeqFeature(SparseFeature('genre_id', 19, RETRIEVAL_EMBEDDING_DIM), 'genres',6)]\n",
        "item_feature_group = EmbdFeatureGroup(\n",
        "    name='item', \n",
        "    id_name='movie_id', \n",
        "    features=retrieve_item_features, \n",
        "    feature_pool=feat_pool1, \n",
        "    value_dict=all_item_model_input,\n",
        "    embd_dim=RETRIEVAL_EMBEDDING_DIM\n",
        ")"
      ]
    },
    {
      "cell_type": "code",
      "execution_count": 14,
      "metadata": {
        "id": "RmzV_6_NgZI-"
      },
      "outputs": [],
      "source": [
        "retrieve_user_features = [SparseFeature(x, feature_dim[x], RETRIEVAL_EMBEDDING_DIM) for x in user_features] +\\\n",
        "                [SparseSeqFeature(SparseFeature('movie_id', feature_dim['movie_id'], RETRIEVAL_EMBEDDING_DIM), 'hist_movie', SEQ_LEN)]\n",
        "user_feature_group = FeatureGroup('user', retrieve_user_features, feat_pool1)"
      ]
    },
    {
      "cell_type": "code",
      "execution_count": 15,
      "metadata": {
        "id": "lKURLYXkuzM-"
      },
      "outputs": [],
      "source": [
        "retrieve_model = YouTubeMatchDNN(\n",
        "    user_feature_group, item_feature_group,\n",
        "    dnn_hidden_units=(512,256,RETRIEVAL_EMBEDDING_DIM), \n",
        "    dnn_dropout=0.1,\n",
        "    dnn_bn=True,\n",
        "    num_sampled=CANDIDATE_NUM\n",
        ")"
      ]
    },
    {
      "cell_type": "code",
      "execution_count": 16,
      "metadata": {
        "colab": {
          "base_uri": "https://localhost:8080/",
          "height": 599
        },
        "id": "AQDtzo-4sw16",
        "outputId": "7b0cd184-99bb-4de2-ce15-266cf09a9f4e"
      },
      "outputs": [
        {
          "output_type": "execute_result",
          "data": {
            "text/plain": [
              "<IPython.core.display.Image object>"
            ],
            "image/png": "[encoded data removed]"
          },
          "metadata": {},
          "execution_count": 16
        }
      ],
      "source": [
        "plot_model(retrieve_model)"
      ]
    },
    {
      "cell_type": "code",
      "execution_count": 17,
      "metadata": {
        "colab": {
          "base_uri": "https://localhost:8080/"
        },
        "id": "2xizKlTvuzM_",
        "outputId": "8b34d06b-47cd-4a2d-ce54-f0c8dae5dc8d"
      },
      "outputs": [
        {
          "output_type": "stream",
          "name": "stdout",
          "text": [
            "Epoch 1/50\n",
            "114/114 [==============================] - 10s 36ms/step - loss: 3.9498 - val_loss: 3.9658\n",
            "Epoch 2/50\n",
            "114/114 [==============================] - 4s 33ms/step - loss: 3.8280 - val_loss: 3.9631\n",
            "Epoch 3/50\n",
            "114/114 [==============================] - 4s 34ms/step - loss: 3.0756 - val_loss: 3.2529\n",
            "Epoch 4/50\n",
            "114/114 [==============================] - 4s 33ms/step - loss: 2.4380 - val_loss: 2.7530\n",
            "Epoch 5/50\n",
            "114/114 [==============================] - 4s 33ms/step - loss: 2.2685 - val_loss: 2.4446\n",
            "Epoch 6/50\n",
            "114/114 [==============================] - 4s 34ms/step - loss: 2.1821 - val_loss: 2.1072\n",
            "Epoch 7/50\n",
            "114/114 [==============================] - 4s 32ms/step - loss: 2.0562 - val_loss: 2.2345\n",
            "Epoch 8/50\n",
            "114/114 [==============================] - 4s 33ms/step - loss: 2.0382 - val_loss: 1.8729\n",
            "Epoch 9/50\n",
            "114/114 [==============================] - 4s 32ms/step - loss: 1.9097 - val_loss: 1.8731\n",
            "Epoch 10/50\n",
            "114/114 [==============================] - 4s 34ms/step - loss: 1.8735 - val_loss: 1.8639\n",
            "Epoch 11/50\n",
            "114/114 [==============================] - 4s 33ms/step - loss: 1.7969 - val_loss: 1.8988\n",
            "Epoch 12/50\n",
            "114/114 [==============================] - 5s 40ms/step - loss: 1.7984 - val_loss: 1.6781\n",
            "Epoch 13/50\n",
            "114/114 [==============================] - 4s 33ms/step - loss: 1.7167 - val_loss: 1.7376\n",
            "Epoch 14/50\n",
            "114/114 [==============================] - 4s 33ms/step - loss: 1.6926 - val_loss: 1.7129\n",
            "Epoch 15/50\n",
            "114/114 [==============================] - 4s 34ms/step - loss: 1.6421 - val_loss: 1.6026\n",
            "Epoch 16/50\n",
            "114/114 [==============================] - 4s 34ms/step - loss: 1.5940 - val_loss: 1.5117\n",
            "Epoch 17/50\n",
            "114/114 [==============================] - 4s 33ms/step - loss: 1.5294 - val_loss: 1.5583\n",
            "Epoch 18/50\n",
            "114/114 [==============================] - 4s 33ms/step - loss: 1.4592 - val_loss: 1.6413\n",
            "Epoch 19/50\n",
            "114/114 [==============================] - 4s 33ms/step - loss: 1.4573 - val_loss: 1.5511\n",
            "Epoch 20/50\n",
            "114/114 [==============================] - 4s 33ms/step - loss: 1.4073 - val_loss: 1.5335\n",
            "Epoch 21/50\n",
            "114/114 [==============================] - 4s 34ms/step - loss: 1.3778 - val_loss: 1.4606\n",
            "Epoch 22/50\n",
            "114/114 [==============================] - 4s 34ms/step - loss: 1.3456 - val_loss: 1.4255\n",
            "Epoch 23/50\n",
            "114/114 [==============================] - 4s 34ms/step - loss: 1.3145 - val_loss: 1.4048\n",
            "Epoch 24/50\n",
            "114/114 [==============================] - 4s 34ms/step - loss: 1.3164 - val_loss: 1.3816\n",
            "Epoch 25/50\n",
            "114/114 [==============================] - 4s 34ms/step - loss: 1.2792 - val_loss: 1.3752\n",
            "Epoch 26/50\n",
            "114/114 [==============================] - 4s 34ms/step - loss: 1.2696 - val_loss: 1.3528\n",
            "Epoch 27/50\n",
            "114/114 [==============================] - 4s 34ms/step - loss: 1.2511 - val_loss: 1.2933\n",
            "Epoch 28/50\n",
            "114/114 [==============================] - 4s 33ms/step - loss: 1.2013 - val_loss: 1.3247\n",
            "Epoch 29/50\n",
            "114/114 [==============================] - 4s 34ms/step - loss: 1.1583 - val_loss: 1.2756\n",
            "Epoch 30/50\n",
            "114/114 [==============================] - 4s 33ms/step - loss: 1.1734 - val_loss: 1.1808\n",
            "Epoch 31/50\n",
            "114/114 [==============================] - 4s 32ms/step - loss: 1.1661 - val_loss: 1.1866\n",
            "Epoch 32/50\n",
            "114/114 [==============================] - 4s 33ms/step - loss: 1.1301 - val_loss: 1.2077\n",
            "Epoch 33/50\n",
            "114/114 [==============================] - 4s 33ms/step - loss: 1.1192 - val_loss: 1.2790\n",
            "Epoch 34/50\n",
            "114/114 [==============================] - 4s 32ms/step - loss: 1.0739 - val_loss: 1.2580\n",
            "Epoch 35/50\n",
            "114/114 [==============================] - 4s 33ms/step - loss: 1.0675 - val_loss: 1.1810\n",
            "Epoch 36/50\n",
            "114/114 [==============================] - 4s 33ms/step - loss: 1.0640 - val_loss: 1.1581\n",
            "Epoch 37/50\n",
            "114/114 [==============================] - 4s 33ms/step - loss: 1.0279 - val_loss: 1.1618\n",
            "Epoch 38/50\n",
            "114/114 [==============================] - 4s 33ms/step - loss: 1.0027 - val_loss: 1.1486\n",
            "Epoch 39/50\n",
            "114/114 [==============================] - 4s 35ms/step - loss: 1.0065 - val_loss: 1.1156\n",
            "Epoch 40/50\n",
            "114/114 [==============================] - 4s 33ms/step - loss: 1.0044 - val_loss: 1.1398\n",
            "Epoch 41/50\n",
            "114/114 [==============================] - 4s 34ms/step - loss: 0.9652 - val_loss: 1.0788\n",
            "Epoch 42/50\n",
            "114/114 [==============================] - 4s 34ms/step - loss: 0.9489 - val_loss: 1.0577\n",
            "Epoch 43/50\n",
            "114/114 [==============================] - 4s 33ms/step - loss: 0.9244 - val_loss: 1.0791\n",
            "Epoch 44/50\n",
            "114/114 [==============================] - 4s 34ms/step - loss: 0.9656 - val_loss: 1.0360\n",
            "Epoch 45/50\n",
            "114/114 [==============================] - 4s 33ms/step - loss: 0.8990 - val_loss: 1.0348\n",
            "Epoch 46/50\n",
            "114/114 [==============================] - 4s 33ms/step - loss: 0.9387 - val_loss: 0.9963\n",
            "Epoch 47/50\n",
            "114/114 [==============================] - 4s 33ms/step - loss: 0.8847 - val_loss: 0.9603\n",
            "Epoch 48/50\n",
            "114/114 [==============================] - 4s 33ms/step - loss: 0.8884 - val_loss: 1.0043\n",
            "Epoch 49/50\n",
            "114/114 [==============================] - 4s 33ms/step - loss: 0.8997 - val_loss: 0.9836\n",
            "Epoch 50/50\n",
            "114/114 [==============================] - 4s 33ms/step - loss: 0.8679 - val_loss: 1.0201\n"
          ]
        }
      ],
      "source": [
        "retrieve_model.compile(optimizer=tf.keras.optimizers.Adam(lr=1e-4), loss=sampledsoftmaxloss)\n",
        "early_stop = tf.keras.callbacks.EarlyStopping(monitor='val_loss', patience=20)\n",
        "checkpoint = tf.keras.callbacks.ModelCheckpoint(\n",
        "    filepath='./retrieve_checkpoint/',\n",
        "    save_weights_only=True,\n",
        "    monitor='val_loss',\n",
        "    mode='min',\n",
        "    save_best_only=True\n",
        ")\n",
        "history = retrieve_model.fit(\n",
        "    x=train_data,\n",
        "    validation_data=valid_data,\n",
        "    epochs=NEPOCH,\n",
        "    callbacks=[early_stop, checkpoint],\n",
        ")"
      ]
    },
    {
      "cell_type": "code",
      "execution_count": 18,
      "metadata": {
        "colab": {
          "base_uri": "https://localhost:8080/"
        },
        "id": "AGebkIE0uzM_",
        "outputId": "4a9cd973-3bf1-416e-d570-50f9536acdc9"
      },
      "outputs": [
        {
          "output_type": "execute_result",
          "data": {
            "text/plain": [
              "<tensorflow.python.training.tracking.util.CheckpointLoadStatus at 0x7fa395243490>"
            ]
          },
          "metadata": {},
          "execution_count": 18
        }
      ],
      "source": [
        "retrieve_model.load_weights('./retrieve_checkpoint/')"
      ]
    },
    {
      "cell_type": "code",
      "execution_count": 19,
      "metadata": {
        "colab": {
          "base_uri": "https://localhost:8080/"
        },
        "id": "G9AxEdKbuzM_",
        "outputId": "7124ea7f-d5b1-4ba3-b3ed-ef68f3bb841a"
      },
      "outputs": [
        {
          "output_type": "stream",
          "name": "stdout",
          "text": [
            "(5923, 64)\n",
            "(3883, 64)\n"
          ]
        }
      ],
      "source": [
        "user_embedding_model = Model(inputs=retrieve_model.user_input, outputs=retrieve_model.user_embedding)\n",
        "item_embedding_model = Model(inputs=retrieve_model.item_input, outputs=retrieve_model.item_embedding)\n",
        "\n",
        "user_embs = user_embedding_model.predict(test_data, batch_size=2 ** 15)\n",
        "item_embs = item_embedding_model.predict(all_item_model_input, batch_size=2 ** 15)\n",
        "\n",
        "print(user_embs.shape)\n",
        "print(item_embs.shape)"
      ]
    },
    {
      "cell_type": "markdown",
      "metadata": {
        "id": "UJ49Jxnf0-1O"
      },
      "source": [
        "# 2. Use Faiss to generate candidates <a name=\"section-2\"></a>"
      ]
    },
    {
      "cell_type": "markdown",
      "metadata": {
        "id": "qEAI8Rl7hzgv"
      },
      "source": [
        "## Test retrieve model"
      ]
    },
    {
      "cell_type": "code",
      "execution_count": 20,
      "metadata": {
        "id": "cr39MwzduzNA"
      },
      "outputs": [],
      "source": [
        "candidates = search_embedding(\n",
        "    RETRIEVAL_EMBEDDING_DIM, \n",
        "    item_embs, \n",
        "    user_embs,\n",
        "    data['item']['movie_id'].values,\n",
        "    CANDIDATE_NUM)"
      ]
    },
    {
      "cell_type": "code",
      "execution_count": 21,
      "metadata": {
        "colab": {
          "base_uri": "https://localhost:8080/"
        },
        "id": "ZLc_JPubuzNB",
        "outputId": "45a1b31c-dc38-4cdb-b678-5f5c0bacc096"
      },
      "outputs": [
        {
          "output_type": "execute_result",
          "data": {
            "text/plain": [
              "0.011318220067586942"
            ]
          },
          "metadata": {},
          "execution_count": 21
        }
      ],
      "source": [
        "map_at_k(test_label, candidates, k=10)"
      ]
    },
    {
      "cell_type": "code",
      "execution_count": 22,
      "metadata": {
        "colab": {
          "base_uri": "https://localhost:8080/"
        },
        "id": "kap-zVgguzNC",
        "outputId": "9da75fad-2c47-481b-8503-d13f5c703f29"
      },
      "outputs": [
        {
          "output_type": "execute_result",
          "data": {
            "text/plain": [
              "0.029208171534695255"
            ]
          },
          "metadata": {},
          "execution_count": 22
        }
      ],
      "source": [
        "recall_at_k(test_label, candidates, k=10)"
      ]
    },
    {
      "cell_type": "code",
      "execution_count": 23,
      "metadata": {
        "colab": {
          "base_uri": "https://localhost:8080/"
        },
        "id": "WyU4hfCihzgw",
        "outputId": "25c0ea8e-19c3-4781-9fb8-11d3832baffc"
      },
      "outputs": [
        {
          "output_type": "execute_result",
          "data": {
            "text/plain": [
              "0.13537058922843154"
            ]
          },
          "metadata": {},
          "execution_count": 23
        }
      ],
      "source": [
        "recall_at_k(test_label, candidates, k=100)"
      ]
    },
    {
      "cell_type": "markdown",
      "metadata": {
        "id": "l9L5duhQhzgw"
      },
      "source": [
        "## Prepare data for ranking"
      ]
    },
    {
      "cell_type": "code",
      "execution_count": 24,
      "metadata": {
        "id": "XpXydY19hzgx"
      },
      "outputs": [],
      "source": [
        "test_user_embs = user_embedding_model.predict(test_data, batch_size=2 ** 15)\n",
        "test_candidates = search_embedding(\n",
        "    RETRIEVAL_EMBEDDING_DIM, \n",
        "    item_embs, \n",
        "    test_user_embs,\n",
        "    data['item']['movie_id'].values,\n",
        "    CANDIDATE_NUM)\n",
        "\n",
        "test_candidates = {\n",
        "    test_data['user_id'][i] : test_candidates[i]\n",
        "    for i in range(test_candidates.shape[0])\n",
        "}"
      ]
    },
    {
      "cell_type": "code",
      "execution_count": 25,
      "metadata": {
        "colab": {
          "base_uri": "https://localhost:8080/"
        },
        "id": "yynuwvUppia6",
        "outputId": "d038aba5-0f9a-4b0b-e84f-43a3df7d3040"
      },
      "outputs": [
        {
          "output_type": "execute_result",
          "data": {
            "text/plain": [
              "8017"
            ]
          },
          "metadata": {},
          "execution_count": 25
        }
      ],
      "source": [
        "del user_embs, item_embs, train_data, test_user_embs\n",
        "gc.collect()"
      ]
    },
    {
      "cell_type": "code",
      "execution_count": 26,
      "metadata": {
        "id": "hgGAvx-lgZJF"
      },
      "outputs": [],
      "source": [
        "user_features = ['user_id', 'gender', 'occupation', 'zip', 'age']\n",
        "item_features = ['movie_id', 'year', 'genres']\n",
        "inter_features = ['hist_movie']"
      ]
    },
    {
      "cell_type": "code",
      "execution_count": 27,
      "metadata": {
        "colab": {
          "base_uri": "https://localhost:8080/"
        },
        "id": "LHhcEiY_gZJG",
        "outputId": "6de1a687-10f3-4b28-9208-02123f7f04cf"
      },
      "outputs": [
        {
          "output_type": "stream",
          "name": "stderr",
          "text": [
            "Generate negative samples: 100%|██████████| 5923/5923 [00:08<00:00, 718.68it/s]\n",
            "Regenerate test set: 100%|██████████| 5923/5923 [00:00<00:00, 692735.00it/s]\n",
            "Save user features: 100%|██████████| 5/5 [00:33<00:00,  6.65s/it]\n",
            "Save item features: 100%|██████████| 3/3 [00:27<00:00,  9.17s/it]\n",
            "Save inter features: 100%|██████████| 2/2 [00:37<00:00, 18.51s/it]\n"
          ]
        }
      ],
      "source": [
        "ranking_dataset = PointWiseDataset(\n",
        "    \"RankingDataset\",\n",
        "    task=\"ranking\",\n",
        "    data=data,\n",
        "    uid_name=\"user_id\",\n",
        "    iid_name=\"movie_id\",\n",
        "    inter_name=\"interact\",\n",
        "    time_name=\"timestamp\",\n",
        "    threshold=4,\n",
        ")\n",
        "\n",
        "ranking_dataset.train_test_split(TEST_NUM)\n",
        "ranking_dataset.negative_sampling(NEG_NUM)\n",
        "ranking_dataset.train_valid_split(VALID_RATIO)\n",
        "ranking_dataset.gen_dataset(user_features, item_features, inter_features, test_candidates)"
      ]
    },
    {
      "cell_type": "code",
      "execution_count": 28,
      "metadata": {
        "colab": {
          "base_uri": "https://localhost:8080/"
        },
        "id": "4wQASPHrhzgx",
        "outputId": "76dac2cf-4ff6-42b6-c006-16e4ba2be619"
      },
      "outputs": [
        {
          "output_type": "stream",
          "name": "stderr",
          "text": [
            "Load user features: 100%|██████████| 5/5 [00:03<00:00,  1.37it/s]\n",
            "Load item features: 100%|██████████| 3/3 [00:02<00:00,  1.32it/s]\n",
            "Load inter features: 100%|██████████| 2/2 [00:02<00:00,  1.02s/it]\n"
          ]
        }
      ],
      "source": [
        "train_data, valid_data, test_data, test_label = ranking_dataset.load_dataset(\n",
        "    user_features, item_features, inter_features, BATCH_SIZE*2\n",
        ")"
      ]
    },
    {
      "cell_type": "code",
      "execution_count": 29,
      "metadata": {
        "id": "of_PY0kv9UZx"
      },
      "outputs": [],
      "source": [
        "feature_dim = ranking_dataset.get_feature_dim(user_features, item_features, [])"
      ]
    },
    {
      "cell_type": "markdown",
      "metadata": {
        "id": "kyApc4cJhzgy"
      },
      "source": [
        "# 3. Train rank model and predict <a name=\"section-3\"></a>"
      ]
    },
    {
      "cell_type": "code",
      "execution_count": 30,
      "metadata": {
        "id": "7tSWHejxBULW"
      },
      "outputs": [],
      "source": [
        "feat_pool2 = FeaturePool()"
      ]
    },
    {
      "cell_type": "code",
      "execution_count": 31,
      "metadata": {
        "id": "jT0Lyg0eiVvj"
      },
      "outputs": [],
      "source": [
        "rank_fm_features = [SparseFeature(x, feature_dim[x], RANK_EMBEDDING_DIM) for x in user_features] +\\\n",
        "                [SparseSeqFeature(SparseFeature('movie_id', feature_dim['movie_id'], RANK_EMBEDDING_DIM), 'hist_movie', SEQ_LEN)] +\\\n",
        "                [SparseFeature(x, feature_dim[x], RANK_EMBEDDING_DIM) for x in item_features[:-1]] +\\\n",
        "                [SparseSeqFeature(SparseFeature('genre_id', 19, RANK_EMBEDDING_DIM), 'genres',6)]\n",
        "fm_feature_group = FeatureGroup('FM', rank_fm_features, feat_pool2)"
      ]
    },
    {
      "cell_type": "code",
      "execution_count": 32,
      "metadata": {
        "id": "GT_FjYacBULW"
      },
      "outputs": [],
      "source": [
        "rank_dnn_feats = rank_fm_features\n",
        "dnn_feature_group = FeatureGroup('DNN', rank_dnn_feats, feat_pool2)"
      ]
    },
    {
      "cell_type": "code",
      "execution_count": 33,
      "metadata": {
        "id": "_uvYZtxBhzgy"
      },
      "outputs": [],
      "source": [
        "rank_model = DeepFM(\n",
        "    fm_feature_group, dnn_feature_group, \n",
        "    dnn_hidden_units=(512,256,1), dnn_dropout=0.2, l2_dnn=0.2, dnn_bn=True\n",
        ")"
      ]
    },
    {
      "cell_type": "code",
      "execution_count": 34,
      "metadata": {
        "colab": {
          "base_uri": "https://localhost:8080/",
          "height": 426
        },
        "id": "huHdcNW5s3ih",
        "outputId": "25acf630-e927-4ce3-8f34-3279998d88da"
      },
      "outputs": [
        {
          "output_type": "execute_result",
          "data": {
            "text/plain": [
              "<IPython.core.display.Image object>"
            ],
            "image/png": "[encoded data removed]"
          },
          "metadata": {},
          "execution_count": 34
        }
      ],
      "source": [
        "plot_model(rank_model)"
      ]
    },
    {
      "cell_type": "code",
      "execution_count": 35,
      "metadata": {
        "colab": {
          "base_uri": "https://localhost:8080/"
        },
        "id": "H8l7JU3phzgy",
        "outputId": "036238c2-b725-4ad3-fa53-dd76d9cfcf36"
      },
      "outputs": [
        {
          "output_type": "stream",
          "name": "stdout",
          "text": [
            "Epoch 1/50\n",
            "623/623 [==============================] - 66s 101ms/step - loss: 41.8492 - val_loss: 0.3142\n",
            "Epoch 2/50\n",
            "623/623 [==============================] - 65s 103ms/step - loss: 0.2416 - val_loss: 0.2312\n",
            "Epoch 3/50\n",
            "623/623 [==============================] - 65s 103ms/step - loss: 0.2276 - val_loss: 0.2183\n",
            "Epoch 4/50\n",
            "623/623 [==============================] - 65s 103ms/step - loss: 0.2044 - val_loss: 0.1876\n",
            "Epoch 5/50\n",
            "623/623 [==============================] - 65s 104ms/step - loss: 0.1689 - val_loss: 0.1696\n",
            "Epoch 6/50\n",
            "623/623 [==============================] - 65s 104ms/step - loss: 0.1550 - val_loss: 0.1518\n",
            "Epoch 7/50\n",
            "623/623 [==============================] - 65s 104ms/step - loss: 0.1458 - val_loss: 0.1468\n",
            "Epoch 8/50\n",
            "623/623 [==============================] - 66s 105ms/step - loss: 0.1383 - val_loss: 0.1345\n",
            "Epoch 9/50\n",
            "623/623 [==============================] - 66s 105ms/step - loss: 0.1321 - val_loss: 0.1328\n",
            "Epoch 10/50\n",
            "623/623 [==============================] - 66s 104ms/step - loss: 0.1267 - val_loss: 0.1162\n",
            "Epoch 11/50\n",
            "623/623 [==============================] - 65s 105ms/step - loss: 0.1218 - val_loss: 0.1211\n",
            "Epoch 12/50\n",
            "623/623 [==============================] - 66s 105ms/step - loss: 0.1180 - val_loss: 0.1124\n",
            "Epoch 13/50\n",
            "623/623 [==============================] - 65s 104ms/step - loss: 0.1142 - val_loss: 0.1166\n",
            "Epoch 14/50\n",
            "623/623 [==============================] - 66s 105ms/step - loss: 0.1110 - val_loss: 0.1133\n",
            "Epoch 15/50\n",
            "623/623 [==============================] - 66s 106ms/step - loss: 0.1084 - val_loss: 0.1084\n",
            "Epoch 16/50\n",
            "623/623 [==============================] - 66s 105ms/step - loss: 0.1058 - val_loss: 0.1057\n",
            "Epoch 17/50\n",
            "623/623 [==============================] - 65s 105ms/step - loss: 0.1035 - val_loss: 0.1082\n",
            "Epoch 18/50\n",
            "623/623 [==============================] - 66s 105ms/step - loss: 0.1016 - val_loss: 0.1033\n",
            "Epoch 19/50\n",
            "623/623 [==============================] - 66s 106ms/step - loss: 0.0995 - val_loss: 0.1022\n",
            "Epoch 20/50\n",
            "623/623 [==============================] - 66s 105ms/step - loss: 0.0979 - val_loss: 0.1068\n",
            "Epoch 21/50\n",
            "623/623 [==============================] - 66s 106ms/step - loss: 0.0963 - val_loss: 0.1024\n",
            "Epoch 22/50\n",
            "623/623 [==============================] - 66s 105ms/step - loss: 0.0949 - val_loss: 0.1017\n",
            "Epoch 23/50\n",
            "623/623 [==============================] - 66s 105ms/step - loss: 0.0934 - val_loss: 0.0998\n",
            "Epoch 24/50\n",
            "623/623 [==============================] - 66s 105ms/step - loss: 0.0919 - val_loss: 0.0998\n",
            "Epoch 25/50\n",
            "623/623 [==============================] - 66s 106ms/step - loss: 0.0907 - val_loss: 0.0980\n",
            "Epoch 26/50\n",
            "623/623 [==============================] - 66s 105ms/step - loss: 0.0894 - val_loss: 0.0976\n",
            "Epoch 27/50\n",
            "623/623 [==============================] - 66s 105ms/step - loss: 0.0881 - val_loss: 0.0974\n",
            "Epoch 28/50\n",
            "623/623 [==============================] - 66s 105ms/step - loss: 0.0874 - val_loss: 0.1013\n",
            "Epoch 29/50\n",
            "623/623 [==============================] - 66s 105ms/step - loss: 0.0866 - val_loss: 0.1073\n",
            "Epoch 30/50\n",
            "623/623 [==============================] - 66s 105ms/step - loss: 0.0852 - val_loss: 0.0981\n",
            "Epoch 31/50\n",
            "623/623 [==============================] - 66s 105ms/step - loss: 0.0849 - val_loss: 0.0987\n",
            "Epoch 32/50\n",
            "623/623 [==============================] - 66s 106ms/step - loss: 0.0838 - val_loss: 0.0970\n",
            "Epoch 33/50\n",
            "623/623 [==============================] - 66s 105ms/step - loss: 0.0831 - val_loss: 0.0962\n",
            "Epoch 34/50\n",
            "623/623 [==============================] - 66s 105ms/step - loss: 0.0824 - val_loss: 0.1000\n",
            "Epoch 35/50\n",
            "623/623 [==============================] - 67s 106ms/step - loss: 0.0815 - val_loss: 0.0950\n",
            "Epoch 36/50\n",
            "623/623 [==============================] - 66s 105ms/step - loss: 0.0808 - val_loss: 0.1042\n",
            "Epoch 37/50\n",
            "623/623 [==============================] - 66s 106ms/step - loss: 0.0801 - val_loss: 0.1005\n",
            "Epoch 38/50\n",
            "623/623 [==============================] - 66s 106ms/step - loss: 0.0795 - val_loss: 0.0983\n",
            "Epoch 39/50\n",
            "623/623 [==============================] - 66s 105ms/step - loss: 0.0790 - val_loss: 0.0993\n",
            "Epoch 40/50\n",
            "623/623 [==============================] - 66s 105ms/step - loss: 0.0782 - val_loss: 0.0982\n"
          ]
        }
      ],
      "source": [
        "rank_model.compile(optimizer=tf.keras.optimizers.Adam(lr=3e-4), loss=binary_crossentropy)\n",
        "early_stop = tf.keras.callbacks.EarlyStopping(monitor='val_loss', patience=5)\n",
        "checkpoint = tf.keras.callbacks.ModelCheckpoint(\n",
        "    filepath='./rank_checkpoint/',\n",
        "    save_weights_only=True,\n",
        "    monitor='val_loss',\n",
        "    mode='min',\n",
        "    save_best_only=True\n",
        ")\n",
        "history = rank_model.fit(\n",
        "    x=train_data, \n",
        "    validation_data=valid_data,\n",
        "    epochs=NEPOCH,\n",
        "    callbacks=[early_stop,checkpoint]\n",
        ")"
      ]
    },
    {
      "cell_type": "code",
      "execution_count": 36,
      "metadata": {
        "colab": {
          "base_uri": "https://localhost:8080/"
        },
        "id": "w52A7cJ8hzgz",
        "outputId": "5d295384-f8fb-4cab-fb63-db80db6f55fa"
      },
      "outputs": [
        {
          "output_type": "execute_result",
          "data": {
            "text/plain": [
              "<tensorflow.python.training.tracking.util.CheckpointLoadStatus at 0x7fa33b0dce10>"
            ]
          },
          "metadata": {},
          "execution_count": 36
        }
      ],
      "source": [
        "rank_model.load_weights('./rank_checkpoint/')"
      ]
    },
    {
      "cell_type": "code",
      "execution_count": 37,
      "metadata": {
        "colab": {
          "base_uri": "https://localhost:8080/"
        },
        "id": "Fr61KpmewPuB",
        "outputId": "0334c335-240f-4fe8-e03d-958f9a94202a"
      },
      "outputs": [
        {
          "output_type": "execute_result",
          "data": {
            "text/plain": [
              "10913"
            ]
          },
          "metadata": {},
          "execution_count": 37
        }
      ],
      "source": [
        "del train_data\n",
        "gc.collect()"
      ]
    },
    {
      "cell_type": "code",
      "execution_count": 38,
      "metadata": {
        "id": "zUQJ7IdLhzgz"
      },
      "outputs": [],
      "source": [
        "pred = rank_model.predict(test_data, batch_size=BATCH_SIZE)"
      ]
    },
    {
      "cell_type": "code",
      "execution_count": 39,
      "metadata": {
        "id": "SoCzRNuphzgz"
      },
      "outputs": [],
      "source": [
        "pred_df = pd.DataFrame(columns=['user_id','movie_id','pred'])\n",
        "pred_df['user_id'] = test_data['user_id']\n",
        "pred_df['movie_id'] = test_data['movie_id']\n",
        "pred_df['pred'] = pred\n",
        "\n",
        "pred_df = pred_df.sort_values(by=['user_id','pred'], ascending=False).reset_index(drop=True)\n",
        "pred_df = pred_df.groupby('user_id')['movie_id'].apply(list).reset_index()"
      ]
    },
    {
      "cell_type": "code",
      "execution_count": 40,
      "metadata": {
        "id": "rEQ9sQGjhzgz"
      },
      "outputs": [],
      "source": [
        "test_label_df = pd.DataFrame(columns=['user_id','label'])\n",
        "test_label_df['user_id'] = pd.Series(test_data['user_id']).drop_duplicates()\n",
        "test_label_df['label'] = test_label.tolist()"
      ]
    },
    {
      "cell_type": "code",
      "execution_count": 41,
      "metadata": {
        "id": "5T_uOn5Ohzgz"
      },
      "outputs": [],
      "source": [
        "test_label_df = pd.merge(test_label_df, pred_df, on=['user_id'], how='left')"
      ]
    },
    {
      "cell_type": "code",
      "execution_count": 42,
      "metadata": {
        "colab": {
          "base_uri": "https://localhost:8080/"
        },
        "id": "0HXT3XxAhzgz",
        "outputId": "f3d5d9c5-34cc-4f66-8acc-20b503ad66f9"
      },
      "outputs": [
        {
          "output_type": "execute_result",
          "data": {
            "text/plain": [
              "0.018271099480368435"
            ]
          },
          "metadata": {},
          "execution_count": 42
        }
      ],
      "source": [
        "map_at_k(test_label_df['label'], test_label_df['movie_id'], k=10)"
      ]
    },
    {
      "cell_type": "code",
      "execution_count": 43,
      "metadata": {
        "colab": {
          "base_uri": "https://localhost:8080/"
        },
        "id": "HHzj8iJKhzgz",
        "outputId": "767038d0-99dc-42b6-c0b0-f7a894fa7cab"
      },
      "outputs": [
        {
          "output_type": "execute_result",
          "data": {
            "text/plain": [
              "0.04708762451460408"
            ]
          },
          "metadata": {},
          "execution_count": 43
        }
      ],
      "source": [
        "recall_at_k(test_label_df['label'], test_label_df['movie_id'], k=10)"
      ]
    },
    {
      "cell_type": "code",
      "execution_count": 44,
      "metadata": {
        "colab": {
          "base_uri": "https://localhost:8080/"
        },
        "id": "y5L5ijkE-H1x",
        "outputId": "3b443edc-be40-470e-8721-bd49ca53e33e"
      },
      "outputs": [
        {
          "output_type": "execute_result",
          "data": {
            "text/plain": [
              "0.13537058922843154"
            ]
          },
          "metadata": {},
          "execution_count": 44
        }
      ],
      "source": [
        "recall_at_k(test_label_df['label'], test_label_df['movie_id'], k=100)"
      ]
    }
  ],
  "metadata": {
    "accelerator": "GPU",
    "colab": {
      "collapsed_sections": [],
      "name": "DeepFM.ipynb",
      "provenance": []
    },
    "interpreter": {
      "hash": "653a9876bfda977334bab0c6eac4e690c97044cb3c76993a10b084536ae29e50"
    },
    "kernelspec": {
      "display_name": "handyrec",
      "language": "python",
      "name": "handyrec"
    },
    "language_info": {
      "codemirror_mode": {
        "name": "ipython",
        "version": 3
      },
      "file_extension": ".py",
      "mimetype": "text/x-python",
      "name": "python",
      "nbconvert_exporter": "python",
      "pygments_lexer": "ipython3",
      "version": "3.7.11"
    }
  },
  "nbformat": 4,
  "nbformat_minor": 0
}