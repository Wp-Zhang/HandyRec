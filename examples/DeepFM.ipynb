{
  "cells": [
    {
      "cell_type": "markdown",
      "metadata": {
        "id": "FXD2RCXzuzMx"
      },
      "source": [
        "[![Open In Colab](https://colab.research.google.com/assets/colab-badge.svg)](https://colab.research.google.com/github/Wp-Zhang/HandyRec/blob/master/examples/DeepFM.ipynb)"
      ]
    },
    {
      "cell_type": "markdown",
      "metadata": {
        "id": "OJKT5uytzl7t"
      },
      "source": [
        "> This notebook runs DeepFM on MovieLens1M dataset. We'll use YouTubeDNN for generating candidates and DeepFM for ranking these candidates.\n",
        "\n",
        "> Only movies with ratings larger than 3 are treated as 'positive' samples for each user. Every last 10 'positive' movies of each user are held out for testing."
      ]
    },
    {
      "cell_type": "markdown",
      "metadata": {
        "id": "YtD_3eG3xekg"
      },
      "source": [
        "## Table of Contents:\n",
        "* [Prepare data for matching](#section-0)\n",
        "* [Train match model and export embeddings](#section-1)\n",
        "* [Use Faiss to generate candidates](#section-2)\n",
        "* [Train rank model and predict](#section-3)"
      ]
    },
    {
      "cell_type": "markdown",
      "metadata": {
        "id": "XFTLC9SQzxK4"
      },
      "source": [
        "**Download dataset and install packages**"
      ]
    },
    {
      "cell_type": "code",
      "execution_count": 1,
      "metadata": {
        "colab": {
          "base_uri": "https://localhost:8080/"
        },
        "id": "WSk1WSSpvXfL",
        "outputId": "2b42767f-5379-4944-9386-12b480911b7b"
      },
      "outputs": [
        {
          "output_type": "stream",
          "name": "stdout",
          "text": [
            "fatal: destination path 'HandyRec' already exists and is not an empty directory.\n",
            "Requirement already satisfied: faiss-cpu in /usr/local/lib/python3.7/dist-packages (1.7.2)\n"
          ]
        }
      ],
      "source": [
        "! git clone https://github.com/Wp-Zhang/HandyRec.git\n",
        "! pip install faiss-cpu"
      ]
    },
    {
      "cell_type": "code",
      "execution_count": 2,
      "metadata": {
        "colab": {
          "base_uri": "https://localhost:8080/"
        },
        "id": "uiIqXdbUyCEi",
        "outputId": "bfe256cb-0d3d-44a8-8b32-9d5fbfcf2ea0"
      },
      "outputs": [
        {
          "output_type": "stream",
          "name": "stdout",
          "text": [
            "--2022-03-20 01:19:26--  https://files.grouplens.org/datasets/movielens/ml-1m.zip\n",
            "Resolving files.grouplens.org (files.grouplens.org)... 128.101.65.152\n",
            "Connecting to files.grouplens.org (files.grouplens.org)|128.101.65.152|:443... connected.\n",
            "HTTP request sent, awaiting response... 200 OK\n",
            "Length: 5917549 (5.6M) [application/zip]\n",
            "Saving to: ‘./ml-1m.zip’\n",
            "\n",
            "./ml-1m.zip         100%[===================>]   5.64M  4.17MB/s    in 1.4s    \n",
            "\n",
            "2022-03-20 01:19:28 (4.17 MB/s) - ‘./ml-1m.zip’ saved [5917549/5917549]\n",
            "\n",
            "Archive:  ml-1m.zip\n",
            "  inflating: ml-1m/movies.dat        \n",
            "  inflating: ml-1m/ratings.dat       \n",
            "  inflating: ml-1m/README            \n",
            "  inflating: ml-1m/users.dat         \n"
          ]
        }
      ],
      "source": [
        "! wget https://files.grouplens.org/datasets/movielens/ml-1m.zip -O ./ml-1m.zip\n",
        "! unzip -o ml-1m.zip"
      ]
    },
    {
      "cell_type": "markdown",
      "metadata": {
        "id": "gsUc0pRE0BEH"
      },
      "source": [
        "**Import relative packages**"
      ]
    },
    {
      "cell_type": "code",
      "execution_count": 3,
      "metadata": {
        "id": "PzbZZUXxvxvm"
      },
      "outputs": [],
      "source": [
        "import sys\n",
        "sys.path.append('./HandyRec/')"
      ]
    },
    {
      "cell_type": "code",
      "execution_count": 4,
      "metadata": {
        "id": "NlQtiTrmuzM3"
      },
      "outputs": [],
      "source": [
        "from handyrec.dataset.movielens import MovieMatchDataHelper, MovieRankDataHelper\n",
        "from handyrec.models.match import YouTubeMatchDNN\n",
        "from handyrec.models.rank import DeepFM\n",
        "from handyrec.features import DenseFeature, SparseFeature, SparseSeqFeature\n",
        "from handyrec.layers.utils import sampledsoftmaxloss\n",
        "from handyrec.dataset.metrics import map_at_k, recall_at_k\n",
        "from handyrec.models.utils import search_embedding\n",
        "\n",
        "import tensorflow as tf\n",
        "from tensorflow.keras import Model\n",
        "from tensorflow.keras.losses import binary_crossentropy\n",
        "import numpy as np\n",
        "import pandas as pd\n",
        "import gc"
      ]
    },
    {
      "cell_type": "code",
      "execution_count": 5,
      "metadata": {
        "id": "iYOxv7-auzM3"
      },
      "outputs": [],
      "source": [
        "import warnings\n",
        "warnings.filterwarnings('ignore')"
      ]
    },
    {
      "cell_type": "code",
      "execution_count": 6,
      "metadata": {
        "id": "W8jyTPiz8K13"
      },
      "outputs": [],
      "source": [
        "MATCH_EMBEDDING_DIM = 256\n",
        "RANK_EMBEDDING_DIM = 256\n",
        "SEQ_LEN = 40\n",
        "BATCH_SIZE = 2**12\n",
        "NEPOCH = 50\n",
        "\n",
        "NEG_NUM = 10\n",
        "CANDIDATE_NUM = 100"
      ]
    },
    {
      "cell_type": "code",
      "execution_count": 7,
      "metadata": {
        "id": "sL_JAI556A7-"
      },
      "outputs": [],
      "source": [
        "%load_ext tensorboard"
      ]
    },
    {
      "cell_type": "markdown",
      "metadata": {
        "id": "MXNUDnO_0VLl"
      },
      "source": [
        "# 0. Prepare data for ranking<a name=\"section-0\"></a>"
      ]
    },
    {
      "cell_type": "code",
      "execution_count": 8,
      "metadata": {
        "colab": {
          "base_uri": "https://localhost:8080/"
        },
        "id": "wgw6prfluzM5",
        "outputId": "e7b19112-f479-436f-cf05-7efd53fcfef3"
      },
      "outputs": [
        {
          "output_type": "stream",
          "name": "stderr",
          "text": [
            "Encode User Sparse Feats: 100%|██████████| 4/4 [00:00<00:00, 187.11it/s]\n",
            "Encode Item Sparse Feats: 0it [00:00, ?it/s]\n"
          ]
        }
      ],
      "source": [
        "match_dh = MovieMatchDataHelper('./ml-1m/')\n",
        "match_user_features = ['user_id','gender','age','occupation', 'zip']\n",
        "match_movie_features = ['movie_id']\n",
        "\n",
        "data = match_dh.get_clean_data(sparse_features=['gender','age','occupation', 'zip'])\n",
        "match_dh.gen_dataset(match_user_features+match_movie_features, data, seq_max_len=SEQ_LEN)"
      ]
    },
    {
      "cell_type": "code",
      "execution_count": 9,
      "metadata": {
        "colab": {
          "base_uri": "https://localhost:8080/"
        },
        "id": "nWhojvyKuzM7",
        "outputId": "8c97040d-fa2d-4731-e8e6-07a6f254bbdc"
      },
      "outputs": [
        {
          "output_type": "stream",
          "name": "stderr",
          "text": [
            "Load user Features: 100%|██████████| 7/7 [00:00<00:00, 98.87it/s]\n",
            "Load movie Features: 100%|██████████| 1/1 [00:00<00:00, 212.96it/s]\n"
          ]
        }
      ],
      "source": [
        "match_train, match_train_label, match_test, match_test_label = match_dh.load_dataset(match_user_features, match_movie_features)"
      ]
    },
    {
      "cell_type": "code",
      "execution_count": 10,
      "metadata": {
        "id": "VJR1Ybd18t7g"
      },
      "outputs": [],
      "source": [
        "match_feature_dim = match_dh.get_feature_dim(data, match_user_features, match_movie_features, [])"
      ]
    },
    {
      "cell_type": "markdown",
      "metadata": {
        "id": "wMAdJxpc0x1U"
      },
      "source": [
        "# 1. Train match model and export embeddings <a name=\"section-1\"></a>"
      ]
    },
    {
      "cell_type": "code",
      "execution_count": 11,
      "metadata": {
        "id": "VnQIMObLn9U7"
      },
      "outputs": [],
      "source": [
        "# * add example_age^2 as showed in the original paper\n",
        "match_train['example_age_2'] = match_train['example_age']**2\n",
        "match_test['example_age_2'] = match_test['example_age']**2"
      ]
    },
    {
      "cell_type": "code",
      "execution_count": 12,
      "metadata": {
        "id": "DBLxg5truzM8"
      },
      "outputs": [],
      "source": [
        "match_user_dense_feats = ['example_age','example_age_2']\n",
        "match_user_sparse_feats = ['user_id','gender','age','occupation', 'zip']"
      ]
    },
    {
      "cell_type": "code",
      "execution_count": 13,
      "metadata": {
        "id": "mxDDKxm7uzM9"
      },
      "outputs": [],
      "source": [
        "match_user_features = [SparseFeature(x, match_feature_dim[x], MATCH_EMBEDDING_DIM) for x in match_user_sparse_feats] +\\\n",
        "                [DenseFeature(x) for x in match_user_dense_feats] +\\\n",
        "                [SparseSeqFeature(SparseFeature('movie_id', match_feature_dim['movie_id'], MATCH_EMBEDDING_DIM), 'hist_movie_id',SEQ_LEN)]\n",
        "match_item_id = SparseFeature('movie_id', match_feature_dim['movie_id'], MATCH_EMBEDDING_DIM)"
      ]
    },
    {
      "cell_type": "code",
      "execution_count": 14,
      "metadata": {
        "id": "lKURLYXkuzM-"
      },
      "outputs": [],
      "source": [
        "match_model = YouTubeMatchDNN(\n",
        "    match_user_features, match_item_id, num_sampled=100, \n",
        "    user_dnn_hidden_units=(1024,512,MATCH_EMBEDDING_DIM), dnn_dropout=0.2\n",
        ")"
      ]
    },
    {
      "cell_type": "code",
      "execution_count": 15,
      "metadata": {
        "id": "2xizKlTvuzM_"
      },
      "outputs": [],
      "source": [
        "match_model.compile(optimizer=tf.keras.optimizers.Adam(lr=1e-3), loss=sampledsoftmaxloss)\n",
        "early_stop = tf.keras.callbacks.EarlyStopping(monitor='val_loss', patience=20)\n",
        "checkpoint = tf.keras.callbacks.ModelCheckpoint(\n",
        "    filepath='./match_checkpoint/',\n",
        "    save_weights_only=True,\n",
        "    monitor='val_loss',\n",
        "    mode='min',\n",
        "    save_best_only=True)\n",
        "history = match_model.fit(match_train, match_train_label,\n",
        "                            batch_size=BATCH_SIZE, \n",
        "                            epochs=NEPOCH,\n",
        "                            verbose=1,\n",
        "                            validation_split=0.1,\n",
        "                            callbacks=[early_stop,checkpoint])"
      ]
    },
    {
      "cell_type": "code",
      "execution_count": 16,
      "metadata": {
        "colab": {
          "base_uri": "https://localhost:8080/"
        },
        "id": "AGebkIE0uzM_",
        "outputId": "d1ea58f2-0687-485f-cd47-41c5d1ec44a0"
      },
      "outputs": [
        {
          "output_type": "execute_result",
          "data": {
            "text/plain": [
              "<tensorflow.python.training.tracking.util.CheckpointLoadStatus at 0x7feed9114c90>"
            ]
          },
          "metadata": {},
          "execution_count": 16
        }
      ],
      "source": [
        "match_model.load_weights('./match_checkpoint/')"
      ]
    },
    {
      "cell_type": "code",
      "execution_count": 17,
      "metadata": {
        "colab": {
          "base_uri": "https://localhost:8080/"
        },
        "id": "G9AxEdKbuzM_",
        "outputId": "6f495868-12e7-4421-ff1c-082266f59959"
      },
      "outputs": [
        {
          "output_type": "stream",
          "name": "stdout",
          "text": [
            "(6040, 256)\n",
            "(3883, 256)\n"
          ]
        }
      ],
      "source": [
        "all_item_model_input = {\"movie_id\": data['item']['movie_id'].values}\n",
        "\n",
        "user_embedding_model = Model(inputs=match_model.user_input, outputs=match_model.user_embedding)\n",
        "item_embedding_model = Model(inputs=match_model.item_input, outputs=match_model.item_embedding)\n",
        "\n",
        "user_embs = user_embedding_model.predict(match_test, batch_size=2 ** 15)\n",
        "item_embs = item_embedding_model.predict(all_item_model_input, batch_size=2 ** 15)\n",
        "\n",
        "print(user_embs.shape)\n",
        "print(item_embs.shape)"
      ]
    },
    {
      "cell_type": "markdown",
      "metadata": {
        "id": "UJ49Jxnf0-1O"
      },
      "source": [
        "# 2. Use Faiss to generate candidates <a name=\"section-2\"></a>"
      ]
    },
    {
      "cell_type": "markdown",
      "metadata": {
        "id": "qEAI8Rl7hzgv"
      },
      "source": [
        "## Test match model"
      ]
    },
    {
      "cell_type": "code",
      "execution_count": 18,
      "metadata": {
        "id": "cr39MwzduzNA"
      },
      "outputs": [],
      "source": [
        "candidates = search_embedding(\n",
        "    MATCH_EMBEDDING_DIM, \n",
        "    item_embs, \n",
        "    user_embs,\n",
        "    data['item']['movie_id'].values,\n",
        "    CANDIDATE_NUM)"
      ]
    },
    {
      "cell_type": "code",
      "execution_count": 19,
      "metadata": {
        "colab": {
          "base_uri": "https://localhost:8080/"
        },
        "id": "ZLc_JPubuzNB",
        "outputId": "c3bac385-914a-41dd-bff6-175ec6ca8ef5"
      },
      "outputs": [
        {
          "output_type": "execute_result",
          "data": {
            "text/plain": [
              "0.0354114041311889"
            ]
          },
          "metadata": {},
          "execution_count": 19
        }
      ],
      "source": [
        "map_at_k(match_test_label, candidates, k=10)"
      ]
    },
    {
      "cell_type": "code",
      "execution_count": 20,
      "metadata": {
        "colab": {
          "base_uri": "https://localhost:8080/"
        },
        "id": "kap-zVgguzNC",
        "outputId": "8b7766cb-df5c-4810-872f-b766b2f17e69"
      },
      "outputs": [
        {
          "output_type": "execute_result",
          "data": {
            "text/plain": [
              "0.08846026490066225"
            ]
          },
          "metadata": {},
          "execution_count": 20
        }
      ],
      "source": [
        "recall_at_k(match_test_label, candidates, k=10)"
      ]
    },
    {
      "cell_type": "code",
      "execution_count": 21,
      "metadata": {
        "colab": {
          "base_uri": "https://localhost:8080/"
        },
        "id": "WyU4hfCihzgw",
        "outputId": "af41a1a6-339e-4efd-a186-f509ab9075dd"
      },
      "outputs": [
        {
          "output_type": "execute_result",
          "data": {
            "text/plain": [
              "0.4773344370860928"
            ]
          },
          "metadata": {},
          "execution_count": 21
        }
      ],
      "source": [
        "recall_at_k(match_test_label, candidates, k=100)"
      ]
    },
    {
      "cell_type": "markdown",
      "metadata": {
        "id": "l9L5duhQhzgw"
      },
      "source": [
        "## Prepare data for ranking"
      ]
    },
    {
      "cell_type": "code",
      "execution_count": 22,
      "metadata": {
        "id": "XpXydY19hzgx"
      },
      "outputs": [],
      "source": [
        "test_user_embs = user_embedding_model.predict(match_test, batch_size=2 ** 15)\n",
        "test_candidates = search_embedding(\n",
        "    MATCH_EMBEDDING_DIM, \n",
        "    item_embs, \n",
        "    test_user_embs,\n",
        "    data['item']['movie_id'].values,\n",
        "    CANDIDATE_NUM)\n",
        "\n",
        "test_candidates = {\n",
        "    match_test['user_id'][i] : test_candidates[i]\n",
        "    for i in range(test_candidates.shape[0])\n",
        "}"
      ]
    },
    {
      "cell_type": "code",
      "execution_count": 23,
      "metadata": {
        "colab": {
          "base_uri": "https://localhost:8080/"
        },
        "id": "yynuwvUppia6",
        "outputId": "77417087-d992-4a7d-cc99-16ba8c16f202"
      },
      "outputs": [
        {
          "output_type": "execute_result",
          "data": {
            "text/plain": [
              "2159"
            ]
          },
          "metadata": {},
          "execution_count": 23
        }
      ],
      "source": [
        "del user_embs, item_embs, match_train, match_train_label, test_user_embs\n",
        "gc.collect()"
      ]
    },
    {
      "cell_type": "code",
      "execution_count": 24,
      "metadata": {
        "id": "HzBXnYuwhzgx"
      },
      "outputs": [],
      "source": [
        "rank_dh = MovieRankDataHelper('./ml-1m/')\n",
        "rank_user_features = ['user_id','gender','age','occupation', 'zip']\n",
        "rank_movie_features = [f for f in data['item'].columns if f != 'title']\n",
        "\n",
        "rank_dh.gen_dataset(rank_user_features+rank_movie_features, data, test_candidates, seq_max_len=SEQ_LEN, negnum=NEG_NUM)"
      ]
    },
    {
      "cell_type": "code",
      "execution_count": 25,
      "metadata": {
        "colab": {
          "base_uri": "https://localhost:8080/"
        },
        "id": "4wQASPHrhzgx",
        "outputId": "1beebb75-afb8-4b84-8562-031a7a582b4a"
      },
      "outputs": [
        {
          "output_type": "stream",
          "name": "stderr",
          "text": [
            "Load user Features: 100%|██████████| 8/8 [00:01<00:00,  6.11it/s]\n",
            "Load movie Features: 100%|██████████| 19/19 [00:00<00:00, 32.50it/s]\n"
          ]
        }
      ],
      "source": [
        "rank_train, rank_train_label, rank_test = rank_dh.load_dataset(rank_user_features, rank_movie_features)"
      ]
    },
    {
      "cell_type": "code",
      "execution_count": 26,
      "metadata": {
        "id": "rK-e-VMC6A8I"
      },
      "outputs": [],
      "source": [
        "# * change the improper feature name so it can be the name of a tf component\n",
        "for i, k in enumerate(rank_movie_features):\n",
        "    if k == \"Children's\":\n",
        "        rank_movie_features[i] = 'Children'\n",
        "rank_train['Children'] = rank_train.pop(\"Children's\")\n",
        "rank_test['Children'] = rank_test.pop(\"Children's\")\n",
        "data['item']['Children'] = data['item'].pop(\"Children's\")"
      ]
    },
    {
      "cell_type": "code",
      "execution_count": 27,
      "metadata": {
        "id": "FiPbsPZthzgx"
      },
      "outputs": [],
      "source": [
        "rank_train['example_age_2'] = rank_train['example_age']**2\n",
        "rank_test['example_age_2'] = rank_test['example_age']**2\n",
        "rank_train['time_gap_2'] = rank_train['time_gap']**2\n",
        "rank_train['time_gap_square'] = np.sqrt(rank_train['time_gap'])\n",
        "rank_test['time_gap_2'] = rank_test['time_gap']**2\n",
        "rank_test['time_gap_square'] = np.sqrt(rank_test['time_gap'])"
      ]
    },
    {
      "cell_type": "code",
      "execution_count": 28,
      "metadata": {
        "id": "of_PY0kv9UZx"
      },
      "outputs": [],
      "source": [
        "rank_feature_dim = rank_dh.get_feature_dim(data, rank_user_features, rank_movie_features, [])"
      ]
    },
    {
      "cell_type": "markdown",
      "metadata": {
        "id": "kyApc4cJhzgy"
      },
      "source": [
        "# 3. Train rank model and predict <a name=\"section-3\"></a>"
      ]
    },
    {
      "cell_type": "code",
      "execution_count": 29,
      "metadata": {
        "id": "XVzs-bBwhzgy"
      },
      "outputs": [],
      "source": [
        "rank_user_dense_feats = ['example_age','example_age_2'] # 'time_gap','time_gap_2','time_gap_square',\n",
        "rank_user_sparse_feats = ['user_id','gender','age','occupation', 'zip']\n",
        "rank_item_dense_feats = [f for f in rank_movie_features if f != 'movie_id']\n",
        "rank_item_sparse_feats = ['movie_id']"
      ]
    },
    {
      "cell_type": "code",
      "execution_count": 30,
      "metadata": {
        "id": "yNUUQSzO6A8J"
      },
      "outputs": [],
      "source": [
        "rank_dense_feats = rank_user_dense_feats + rank_item_sparse_feats\n",
        "rank_sparse_feats = rank_user_sparse_feats + rank_item_sparse_feats"
      ]
    },
    {
      "cell_type": "code",
      "execution_count": 31,
      "metadata": {
        "id": "jT0Lyg0eiVvj"
      },
      "outputs": [],
      "source": [
        "rank_fm_features = [SparseFeature(x, rank_feature_dim[x], RANK_EMBEDDING_DIM) for x in rank_sparse_feats] +\\\n",
        "                   [SparseSeqFeature(SparseFeature('movie_id', rank_feature_dim['movie_id'], RANK_EMBEDDING_DIM), 'hist_movie_id', SEQ_LEN)]\n",
        "rank_dnn_feats = [DenseFeature(x) for x in rank_dense_feats] + rank_fm_features"
      ]
    },
    {
      "cell_type": "code",
      "execution_count": 32,
      "metadata": {
        "id": "_uvYZtxBhzgy"
      },
      "outputs": [],
      "source": [
        "rank_model = DeepFM(\n",
        "    rank_fm_features, rank_dnn_feats, \n",
        "    dnn_hidden_units=(1024,512,256,1), dnn_dropout=0.2, l2_dnn=0.2, dnn_bn=True\n",
        ")"
      ]
    },
    {
      "cell_type": "code",
      "execution_count": null,
      "metadata": {
        "id": "ttU0xrNp6A8K"
      },
      "outputs": [],
      "source": [
        "# ! mkdir ./logs\n",
        "# %tensorboard --logdir './logs'"
      ]
    },
    {
      "cell_type": "code",
      "execution_count": 34,
      "metadata": {
        "colab": {
          "base_uri": "https://localhost:8080/"
        },
        "id": "H8l7JU3phzgy",
        "outputId": "132e02f5-0333-46e7-9d14-14e4bffcc69c"
      },
      "outputs": [
        {
          "output_type": "stream",
          "name": "stdout",
          "text": [
            "Epoch 1/50\n",
            "316/316 [==============================] - 174s 540ms/step - loss: 127.7572\n",
            "Epoch 2/50\n",
            "316/316 [==============================] - 174s 550ms/step - loss: 0.5459\n",
            "Epoch 3/50\n",
            "316/316 [==============================] - 173s 549ms/step - loss: 0.1860\n",
            "Epoch 4/50\n",
            "316/316 [==============================] - 174s 549ms/step - loss: 0.1433\n",
            "Epoch 5/50\n",
            "316/316 [==============================] - 174s 550ms/step - loss: 0.1173\n",
            "Epoch 6/50\n",
            "316/316 [==============================] - 174s 551ms/step - loss: 0.1000\n",
            "Epoch 7/50\n",
            "316/316 [==============================] - 174s 551ms/step - loss: 0.0885\n",
            "Epoch 8/50\n",
            "316/316 [==============================] - 174s 551ms/step - loss: 0.0806\n",
            "Epoch 9/50\n",
            "316/316 [==============================] - 174s 551ms/step - loss: 0.0751\n",
            "Epoch 10/50\n",
            "316/316 [==============================] - 174s 550ms/step - loss: 0.0711\n",
            "Epoch 11/50\n",
            "316/316 [==============================] - 174s 549ms/step - loss: 0.0681\n",
            "Epoch 12/50\n",
            "316/316 [==============================] - 174s 550ms/step - loss: 0.0658\n",
            "Epoch 13/50\n",
            "316/316 [==============================] - 174s 550ms/step - loss: 0.0640\n",
            "Epoch 14/50\n",
            "316/316 [==============================] - 174s 550ms/step - loss: 0.0625\n",
            "Epoch 15/50\n",
            "316/316 [==============================] - 174s 550ms/step - loss: 0.0612\n",
            "Epoch 16/50\n",
            "316/316 [==============================] - 174s 550ms/step - loss: 0.0601\n",
            "Epoch 17/50\n",
            "316/316 [==============================] - 174s 551ms/step - loss: 0.0592\n",
            "Epoch 18/50\n",
            "316/316 [==============================] - 174s 551ms/step - loss: 0.0584\n",
            "Epoch 19/50\n",
            "316/316 [==============================] - 174s 551ms/step - loss: 0.0577\n",
            "Epoch 20/50\n",
            "316/316 [==============================] - 174s 551ms/step - loss: 0.0570\n",
            "Epoch 21/50\n",
            "316/316 [==============================] - 174s 551ms/step - loss: 0.0565\n",
            "Epoch 22/50\n",
            "316/316 [==============================] - 174s 550ms/step - loss: 0.0559\n",
            "Epoch 23/50\n",
            "316/316 [==============================] - 174s 550ms/step - loss: 0.0555\n",
            "Epoch 24/50\n",
            "316/316 [==============================] - 174s 550ms/step - loss: 0.0550\n",
            "Epoch 25/50\n",
            "316/316 [==============================] - 174s 550ms/step - loss: 0.0546\n",
            "Epoch 26/50\n",
            "316/316 [==============================] - 174s 550ms/step - loss: 0.0543\n",
            "Epoch 27/50\n",
            "316/316 [==============================] - 174s 550ms/step - loss: 0.0540\n",
            "Epoch 28/50\n",
            "316/316 [==============================] - 174s 551ms/step - loss: 0.0536\n",
            "Epoch 29/50\n",
            "316/316 [==============================] - 174s 551ms/step - loss: 0.0534\n",
            "Epoch 30/50\n",
            "316/316 [==============================] - 174s 550ms/step - loss: 0.0531\n",
            "Epoch 31/50\n",
            "316/316 [==============================] - 174s 551ms/step - loss: 0.0528\n",
            "Epoch 32/50\n",
            "316/316 [==============================] - 174s 550ms/step - loss: 0.0526\n",
            "Epoch 33/50\n",
            "316/316 [==============================] - 174s 550ms/step - loss: 0.0524\n",
            "Epoch 34/50\n",
            "316/316 [==============================] - 174s 551ms/step - loss: 0.0522\n",
            "Epoch 35/50\n",
            "316/316 [==============================] - 174s 550ms/step - loss: 0.0520\n",
            "Epoch 36/50\n",
            "316/316 [==============================] - 174s 551ms/step - loss: 0.0518\n",
            "Epoch 37/50\n",
            "316/316 [==============================] - 174s 551ms/step - loss: 0.0517\n",
            "Epoch 38/50\n",
            "316/316 [==============================] - 174s 551ms/step - loss: 0.0515\n",
            "Epoch 39/50\n",
            "316/316 [==============================] - 174s 551ms/step - loss: 0.0514\n",
            "Epoch 40/50\n",
            "316/316 [==============================] - 174s 551ms/step - loss: 0.0512\n",
            "Epoch 41/50\n",
            "316/316 [==============================] - 174s 551ms/step - loss: 0.0511\n",
            "Epoch 42/50\n",
            "316/316 [==============================] - 174s 552ms/step - loss: 0.0510\n",
            "Epoch 43/50\n",
            "316/316 [==============================] - 174s 551ms/step - loss: 0.0509\n",
            "Epoch 44/50\n",
            "316/316 [==============================] - 174s 551ms/step - loss: 0.0507\n",
            "Epoch 45/50\n",
            "316/316 [==============================] - 174s 552ms/step - loss: 0.0506\n",
            "Epoch 46/50\n",
            "316/316 [==============================] - 174s 552ms/step - loss: 0.0505\n",
            "Epoch 47/50\n",
            "316/316 [==============================] - 174s 552ms/step - loss: 0.0504\n",
            "Epoch 48/50\n",
            "316/316 [==============================] - 174s 552ms/step - loss: 0.0503\n",
            "Epoch 49/50\n",
            "316/316 [==============================] - 174s 552ms/step - loss: 0.0502\n",
            "Epoch 50/50\n",
            "316/316 [==============================] - 174s 551ms/step - loss: 0.0501\n"
          ]
        }
      ],
      "source": [
        "rank_model.compile(optimizer=tf.keras.optimizers.Adam(lr=3e-4), loss=binary_crossentropy)\n",
        "early_stop = tf.keras.callbacks.EarlyStopping(monitor='loss', patience=5)\n",
        "checkpoint = tf.keras.callbacks.ModelCheckpoint(\n",
        "    filepath='./rank_checkpoint/',\n",
        "    save_weights_only=True,\n",
        "    monitor='loss',\n",
        "    mode='min',\n",
        "    save_best_only=True)\n",
        "# tensorboard_callback = tf.keras.callbacks.TensorBoard(log_dir='./logs/', histogram_freq=1)\n",
        "history = rank_model.fit(rank_train, rank_train_label,\n",
        "                    batch_size=BATCH_SIZE*8, \n",
        "                    epochs=NEPOCH,\n",
        "                    verbose=1,\n",
        "                    validation_split=0.,\n",
        "                    callbacks=[early_stop,checkpoint])#tensorboard_callback\n",
        "rank_model.save_weights('youtuberank.h5')"
      ]
    },
    {
      "cell_type": "code",
      "execution_count": 35,
      "metadata": {
        "id": "w52A7cJ8hzgz"
      },
      "outputs": [],
      "source": [
        "rank_model.load_weights('youtuberank.h5')"
      ]
    },
    {
      "cell_type": "code",
      "execution_count": 36,
      "metadata": {
        "colab": {
          "base_uri": "https://localhost:8080/"
        },
        "id": "Fr61KpmewPuB",
        "outputId": "e92cf1ad-b64f-44b2-d501-aede029dfbb5"
      },
      "outputs": [
        {
          "output_type": "execute_result",
          "data": {
            "text/plain": [
              "3188"
            ]
          },
          "metadata": {},
          "execution_count": 36
        }
      ],
      "source": [
        "del rank_train\n",
        "gc.collect()"
      ]
    },
    {
      "cell_type": "code",
      "execution_count": 37,
      "metadata": {
        "id": "zUQJ7IdLhzgz"
      },
      "outputs": [],
      "source": [
        "pred = rank_model.predict(rank_test, batch_size=BATCH_SIZE*8)"
      ]
    },
    {
      "cell_type": "code",
      "execution_count": 38,
      "metadata": {
        "id": "SoCzRNuphzgz"
      },
      "outputs": [],
      "source": [
        "pred_df = pd.DataFrame(columns=['user_id','movie_id','pred'])\n",
        "pred_df['user_id'] = rank_test['user_id']\n",
        "pred_df['movie_id'] = rank_test['movie_id']\n",
        "pred_df['pred'] = pred\n",
        "\n",
        "pred_df = pred_df.sort_values(by=['user_id','pred'], ascending=False).reset_index(drop=True)\n",
        "pred_df = pred_df.groupby('user_id')['movie_id'].apply(list).reset_index()"
      ]
    },
    {
      "cell_type": "code",
      "execution_count": 39,
      "metadata": {
        "id": "rEQ9sQGjhzgz"
      },
      "outputs": [],
      "source": [
        "test_label_df = pd.DataFrame(columns=['user_id','label'])\n",
        "test_label_df['user_id'] = match_test['user_id']\n",
        "test_label_df['label'] = match_test_label.tolist()"
      ]
    },
    {
      "cell_type": "code",
      "execution_count": 40,
      "metadata": {
        "id": "5T_uOn5Ohzgz"
      },
      "outputs": [],
      "source": [
        "test_label_df = pd.merge(test_label_df, pred_df, on=['user_id'], how='left')"
      ]
    },
    {
      "cell_type": "code",
      "execution_count": 41,
      "metadata": {
        "colab": {
          "base_uri": "https://localhost:8080/"
        },
        "id": "0HXT3XxAhzgz",
        "outputId": "a0de5913-40b9-4f15-cf73-74c055f891ed"
      },
      "outputs": [
        {
          "output_type": "execute_result",
          "data": {
            "text/plain": [
              "0.019221453537264795"
            ]
          },
          "metadata": {},
          "execution_count": 41
        }
      ],
      "source": [
        "map_at_k(test_label_df['label'], test_label_df['movie_id'], k=10)"
      ]
    },
    {
      "cell_type": "code",
      "execution_count": 42,
      "metadata": {
        "colab": {
          "base_uri": "https://localhost:8080/"
        },
        "id": "HHzj8iJKhzgz",
        "outputId": "af481198-21c9-49f4-ddde-ff296c329426"
      },
      "outputs": [
        {
          "output_type": "execute_result",
          "data": {
            "text/plain": [
              "0.05612582781456953"
            ]
          },
          "metadata": {},
          "execution_count": 42
        }
      ],
      "source": [
        "recall_at_k(test_label_df['label'], test_label_df['movie_id'], k=10)"
      ]
    },
    {
      "cell_type": "code",
      "execution_count": 43,
      "metadata": {
        "colab": {
          "base_uri": "https://localhost:8080/"
        },
        "id": "y5L5ijkE-H1x",
        "outputId": "6568b1d2-c05f-4bf9-ec0a-cbbca87e8ad9"
      },
      "outputs": [
        {
          "output_type": "execute_result",
          "data": {
            "text/plain": [
              "0.4773344370860928"
            ]
          },
          "metadata": {},
          "execution_count": 43
        }
      ],
      "source": [
        "recall_at_k(test_label_df['label'], test_label_df['movie_id'], k=100)"
      ]
    }
  ],
  "metadata": {
    "accelerator": "GPU",
    "colab": {
      "collapsed_sections": [],
      "name": "DeepFM.ipynb",
      "provenance": [],
      "machine_shape": "hm"
    },
    "interpreter": {
      "hash": "653a9876bfda977334bab0c6eac4e690c97044cb3c76993a10b084536ae29e50"
    },
    "kernelspec": {
      "display_name": "Python 3",
      "name": "python3"
    },
    "language_info": {
      "name": "python"
    },
    "orig_nbformat": 4
  },
  "nbformat": 4,
  "nbformat_minor": 0
}