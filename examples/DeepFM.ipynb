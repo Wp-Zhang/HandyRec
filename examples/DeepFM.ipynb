{
  "cells": [
    {
      "cell_type": "markdown",
      "metadata": {
        "id": "FXD2RCXzuzMx"
      },
      "source": [
        "[![Open In Colab](https://colab.research.google.com/assets/colab-badge.svg)](https://colab.research.google.com/github/Wp-Zhang/HandyRec/blob/master/examples/DeepFM.ipynb)"
      ]
    },
    {
      "cell_type": "markdown",
      "metadata": {
        "id": "OJKT5uytzl7t"
      },
      "source": [
        "> This notebook runs DeepFM on MovieLens1M dataset. We'll use YouTubeDNN for generating candidates and DeepFM for ranking these candidates.\n",
        "\n",
        "> Only movies with ratings larger than 3 are treated as 'positive' samples for each user. Every last 10 'positive' movies of each user are held out for testing."
      ]
    },
    {
      "cell_type": "markdown",
      "metadata": {
        "id": "YtD_3eG3xekg"
      },
      "source": [
        "## Table of Contents:\n",
        "* [Prepare data for matching](#section-0)\n",
        "* [Train match model and export embeddings](#section-1)\n",
        "* [Use Faiss to generate candidates](#section-2)\n",
        "* [Train rank model and predict](#section-3)"
      ]
    },
    {
      "cell_type": "markdown",
      "metadata": {
        "id": "XFTLC9SQzxK4"
      },
      "source": [
        "**Download dataset and install packages**"
      ]
    },
    {
      "cell_type": "code",
      "execution_count": 1,
      "metadata": {
        "colab": {
          "base_uri": "https://localhost:8080/"
        },
        "id": "WSk1WSSpvXfL",
        "outputId": "0161c415-6373-4bce-f02d-9f760fc98c5e"
      },
      "outputs": [
        {
          "output_type": "stream",
          "name": "stdout",
          "text": [
            "Cloning into 'HandyRec'...\n",
            "remote: Enumerating objects: 994, done.\u001b[K\n",
            "remote: Counting objects: 100% (994/994), done.\u001b[K\n",
            "remote: Compressing objects: 100% (776/776), done.\u001b[K\n",
            "remote: Total 994 (delta 336), reused 768 (delta 171), pack-reused 0\u001b[K\n",
            "Receiving objects: 100% (994/994), 16.36 MiB | 26.68 MiB/s, done.\n",
            "Resolving deltas: 100% (336/336), done.\n",
            "Collecting faiss-cpu\n",
            "  Downloading faiss_cpu-1.7.2-cp37-cp37m-manylinux_2_17_x86_64.manylinux2014_x86_64.whl (8.6 MB)\n",
            "\u001b[K     |████████████████████████████████| 8.6 MB 4.4 MB/s \n",
            "\u001b[?25hInstalling collected packages: faiss-cpu\n",
            "Successfully installed faiss-cpu-1.7.2\n"
          ]
        }
      ],
      "source": [
        "! git clone https://github.com/Wp-Zhang/HandyRec.git\n",
        "! pip install faiss-cpu"
      ]
    },
    {
      "cell_type": "code",
      "execution_count": 2,
      "metadata": {
        "colab": {
          "base_uri": "https://localhost:8080/"
        },
        "id": "uiIqXdbUyCEi",
        "outputId": "7626bffc-e258-4211-a071-11676ccd4bae"
      },
      "outputs": [
        {
          "output_type": "stream",
          "name": "stdout",
          "text": [
            "--2022-03-26 01:43:17--  https://files.grouplens.org/datasets/movielens/ml-1m.zip\n",
            "Resolving files.grouplens.org (files.grouplens.org)... 128.101.65.152\n",
            "Connecting to files.grouplens.org (files.grouplens.org)|128.101.65.152|:443... connected.\n",
            "HTTP request sent, awaiting response... 200 OK\n",
            "Length: 5917549 (5.6M) [application/zip]\n",
            "Saving to: ‘./ml-1m.zip’\n",
            "\n",
            "./ml-1m.zip         100%[===================>]   5.64M  16.8MB/s    in 0.3s    \n",
            "\n",
            "2022-03-26 01:43:17 (16.8 MB/s) - ‘./ml-1m.zip’ saved [5917549/5917549]\n",
            "\n",
            "Archive:  ml-1m.zip\n",
            "   creating: ml-1m/\n",
            "  inflating: ml-1m/movies.dat        \n",
            "  inflating: ml-1m/ratings.dat       \n",
            "  inflating: ml-1m/README            \n",
            "  inflating: ml-1m/users.dat         \n"
          ]
        }
      ],
      "source": [
        "! wget https://files.grouplens.org/datasets/movielens/ml-1m.zip -O ./ml-1m.zip\n",
        "! unzip -o ml-1m.zip"
      ]
    },
    {
      "cell_type": "markdown",
      "metadata": {
        "id": "gsUc0pRE0BEH"
      },
      "source": [
        "**Import relative packages**"
      ]
    },
    {
      "cell_type": "code",
      "execution_count": 3,
      "metadata": {
        "id": "PzbZZUXxvxvm"
      },
      "outputs": [],
      "source": [
        "import sys\n",
        "sys.path.append('./HandyRec/')"
      ]
    },
    {
      "cell_type": "code",
      "execution_count": 4,
      "metadata": {
        "id": "NlQtiTrmuzM3"
      },
      "outputs": [],
      "source": [
        "from handyrec.dataset.movielens import MovieMatchDataHelper, MovieRankDataHelper\n",
        "from handyrec.models.match import YouTubeMatchDNN\n",
        "from handyrec.models.rank import DeepFM\n",
        "from handyrec.features import DenseFeature, SparseFeature, SparseSeqFeature\n",
        "from handyrec.layers.utils import sampledsoftmaxloss\n",
        "from handyrec.dataset.metrics import map_at_k, recall_at_k\n",
        "from handyrec.models.utils import search_embedding\n",
        "\n",
        "import tensorflow as tf\n",
        "from tensorflow.keras import Model\n",
        "from tensorflow.keras.losses import binary_crossentropy\n",
        "import numpy as np\n",
        "import pandas as pd\n",
        "import gc"
      ]
    },
    {
      "cell_type": "code",
      "execution_count": 5,
      "metadata": {
        "id": "iYOxv7-auzM3"
      },
      "outputs": [],
      "source": [
        "import warnings\n",
        "warnings.filterwarnings('ignore')"
      ]
    },
    {
      "cell_type": "code",
      "execution_count": 6,
      "metadata": {
        "id": "W8jyTPiz8K13"
      },
      "outputs": [],
      "source": [
        "MATCH_EMBEDDING_DIM = 256\n",
        "RANK_EMBEDDING_DIM = 256\n",
        "SEQ_LEN = 40\n",
        "BATCH_SIZE = 2**12\n",
        "NEPOCH = 50\n",
        "\n",
        "NEG_NUM = 10\n",
        "CANDIDATE_NUM = 100"
      ]
    },
    {
      "cell_type": "code",
      "execution_count": 7,
      "metadata": {
        "id": "sL_JAI556A7-"
      },
      "outputs": [],
      "source": [
        "%load_ext tensorboard"
      ]
    },
    {
      "cell_type": "markdown",
      "metadata": {
        "id": "MXNUDnO_0VLl"
      },
      "source": [
        "# 0. Prepare data for ranking<a name=\"section-0\"></a>"
      ]
    },
    {
      "cell_type": "code",
      "execution_count": 8,
      "metadata": {
        "colab": {
          "base_uri": "https://localhost:8080/"
        },
        "id": "wgw6prfluzM5",
        "outputId": "03acd376-a295-4e78-af9e-b984b06e624a"
      },
      "outputs": [
        {
          "output_type": "stream",
          "name": "stderr",
          "text": [
            "Encode User Sparse Feats: 100%|██████████| 4/4 [00:00<00:00, 146.26it/s]\n",
            "Encode Item Sparse Feats: 100%|██████████| 1/1 [00:00<00:00, 192.63it/s]\n",
            "Generate train set: 100%|██████████| 6040/6040 [00:05<00:00, 1063.30it/s]\n",
            "100%|██████████| 4/4 [00:00<00:00,  4.34it/s]\n",
            "0it [00:00, ?it/s]\n"
          ]
        }
      ],
      "source": [
        "match_dh = MovieMatchDataHelper('./ml-1m/')\n",
        "match_user_features = ['user_id','gender','age','occupation','zip']\n",
        "match_movie_features = ['movie_id']\n",
        "\n",
        "data = match_dh.get_clean_data(sparse_features=['gender','age','occupation','zip','year'])\n",
        "match_dh.gen_dataset(match_user_features+match_movie_features, data, seq_max_len=SEQ_LEN, negnum=0)"
      ]
    },
    {
      "cell_type": "code",
      "execution_count": 9,
      "metadata": {
        "colab": {
          "base_uri": "https://localhost:8080/"
        },
        "id": "nWhojvyKuzM7",
        "outputId": "718e3226-87a0-4672-b973-7ee456effc00"
      },
      "outputs": [
        {
          "output_type": "stream",
          "name": "stderr",
          "text": [
            "Load user Features: 100%|██████████| 7/7 [00:00<00:00, 52.44it/s]\n",
            "Load movie Features: 100%|██████████| 1/1 [00:00<00:00, 210.98it/s]\n"
          ]
        }
      ],
      "source": [
        "match_train, match_train_label, match_test, match_test_label = match_dh.load_dataset(match_user_features, match_movie_features)"
      ]
    },
    {
      "cell_type": "code",
      "execution_count": 10,
      "metadata": {
        "id": "VJR1Ybd18t7g"
      },
      "outputs": [],
      "source": [
        "match_feature_dim = match_dh.get_feature_dim(data, match_user_features, match_movie_features, [])"
      ]
    },
    {
      "cell_type": "markdown",
      "metadata": {
        "id": "wMAdJxpc0x1U"
      },
      "source": [
        "# 1. Train match model and export embeddings <a name=\"section-1\"></a>"
      ]
    },
    {
      "cell_type": "code",
      "execution_count": 11,
      "metadata": {
        "id": "VnQIMObLn9U7"
      },
      "outputs": [],
      "source": [
        "# * add example_age^2 as showed in the original paper\n",
        "match_train['example_age_2'] = match_train['example_age']**2\n",
        "match_test['example_age_2'] = match_test['example_age']**2"
      ]
    },
    {
      "cell_type": "code",
      "execution_count": 12,
      "metadata": {
        "id": "DBLxg5truzM8"
      },
      "outputs": [],
      "source": [
        "match_user_dense_feats = ['example_age','example_age_2']\n",
        "match_user_sparse_feats = ['user_id','gender','age','occupation','zip']"
      ]
    },
    {
      "cell_type": "code",
      "execution_count": 13,
      "metadata": {
        "id": "mxDDKxm7uzM9"
      },
      "outputs": [],
      "source": [
        "match_user_features = [SparseFeature(x, match_feature_dim[x], MATCH_EMBEDDING_DIM) for x in match_user_sparse_feats] +\\\n",
        "                [DenseFeature(x) for x in match_user_dense_feats] +\\\n",
        "                [SparseSeqFeature(SparseFeature('movie_id', match_feature_dim['movie_id'], MATCH_EMBEDDING_DIM), 'hist_movie_id',SEQ_LEN)]\n",
        "match_item_id = SparseFeature('movie_id', match_feature_dim['movie_id'], MATCH_EMBEDDING_DIM)"
      ]
    },
    {
      "cell_type": "code",
      "execution_count": 14,
      "metadata": {
        "id": "lKURLYXkuzM-"
      },
      "outputs": [],
      "source": [
        "match_model = YouTubeMatchDNN(\n",
        "    match_user_features, match_item_id,\n",
        "    dnn_hidden_units=(512,256,128,MATCH_EMBEDDING_DIM), \n",
        "    dnn_dropout=0.1,\n",
        "    dnn_bn=True,\n",
        "    num_sampled=100\n",
        ")"
      ]
    },
    {
      "cell_type": "code",
      "execution_count": 15,
      "metadata": {
        "id": "2xizKlTvuzM_",
        "outputId": "8da68a24-005e-4296-c4d4-1c927005b676",
        "colab": {
          "base_uri": "https://localhost:8080/"
        }
      },
      "outputs": [
        {
          "output_type": "stream",
          "name": "stdout",
          "text": [
            "Epoch 1/100\n",
            "207/207 [==============================] - 16s 48ms/step - loss: 3.7232 - val_loss: 3.7428\n",
            "Epoch 2/100\n",
            "207/207 [==============================] - 9s 45ms/step - loss: 3.0875 - val_loss: 3.1477\n",
            "Epoch 3/100\n",
            "207/207 [==============================] - 9s 45ms/step - loss: 2.7213 - val_loss: 2.6457\n",
            "Epoch 4/100\n",
            "207/207 [==============================] - 9s 45ms/step - loss: 2.5019 - val_loss: 2.4082\n",
            "Epoch 5/100\n",
            "207/207 [==============================] - 9s 45ms/step - loss: 2.3506 - val_loss: 2.2770\n",
            "Epoch 6/100\n",
            "207/207 [==============================] - 9s 45ms/step - loss: 2.1875 - val_loss: 2.1272\n",
            "Epoch 7/100\n",
            "207/207 [==============================] - 9s 45ms/step - loss: 2.0957 - val_loss: 2.1204\n",
            "Epoch 8/100\n",
            "207/207 [==============================] - 9s 45ms/step - loss: 2.0067 - val_loss: 2.0229\n",
            "Epoch 9/100\n",
            "207/207 [==============================] - 9s 43ms/step - loss: 1.9201 - val_loss: 2.0325\n",
            "Epoch 10/100\n",
            "207/207 [==============================] - 9s 45ms/step - loss: 1.8632 - val_loss: 1.9222\n",
            "Epoch 11/100\n",
            "207/207 [==============================] - 9s 44ms/step - loss: 1.8217 - val_loss: 1.8959\n",
            "Epoch 12/100\n",
            "207/207 [==============================] - 9s 45ms/step - loss: 1.7713 - val_loss: 1.8823\n",
            "Epoch 13/100\n",
            "207/207 [==============================] - 9s 45ms/step - loss: 1.7467 - val_loss: 1.8309\n",
            "Epoch 14/100\n",
            "207/207 [==============================] - 9s 45ms/step - loss: 1.7178 - val_loss: 1.8307\n",
            "Epoch 15/100\n",
            "207/207 [==============================] - 9s 43ms/step - loss: 1.7109 - val_loss: 1.8338\n",
            "Epoch 16/100\n",
            "207/207 [==============================] - 9s 44ms/step - loss: 1.6564 - val_loss: 1.7749\n",
            "Epoch 17/100\n",
            "207/207 [==============================] - 9s 43ms/step - loss: 1.6356 - val_loss: 1.8002\n",
            "Epoch 18/100\n",
            "207/207 [==============================] - 9s 45ms/step - loss: 1.6132 - val_loss: 1.6548\n",
            "Epoch 19/100\n",
            "207/207 [==============================] - 9s 43ms/step - loss: 1.5873 - val_loss: 1.7829\n",
            "Epoch 20/100\n",
            "207/207 [==============================] - 9s 43ms/step - loss: 1.5705 - val_loss: 1.7829\n",
            "Epoch 21/100\n",
            "207/207 [==============================] - 9s 43ms/step - loss: 1.5571 - val_loss: 1.7486\n",
            "Epoch 22/100\n",
            "207/207 [==============================] - 9s 43ms/step - loss: 1.5547 - val_loss: 1.7180\n",
            "Epoch 23/100\n",
            "207/207 [==============================] - 9s 44ms/step - loss: 1.5290 - val_loss: 1.6897\n",
            "Epoch 24/100\n",
            "207/207 [==============================] - 9s 43ms/step - loss: 1.4905 - val_loss: 1.6771\n",
            "Epoch 25/100\n",
            "207/207 [==============================] - 9s 43ms/step - loss: 1.5012 - val_loss: 1.8170\n",
            "Epoch 26/100\n",
            "207/207 [==============================] - 9s 43ms/step - loss: 1.5028 - val_loss: 1.7321\n",
            "Epoch 27/100\n",
            "207/207 [==============================] - 9s 43ms/step - loss: 1.4672 - val_loss: 1.7766\n",
            "Epoch 28/100\n",
            "207/207 [==============================] - 9s 43ms/step - loss: 1.4575 - val_loss: 1.7372\n",
            "Epoch 29/100\n",
            "207/207 [==============================] - 9s 43ms/step - loss: 1.4554 - val_loss: 1.7186\n",
            "Epoch 30/100\n",
            "207/207 [==============================] - 9s 43ms/step - loss: 1.4483 - val_loss: 1.6918\n",
            "Epoch 31/100\n",
            "207/207 [==============================] - 9s 43ms/step - loss: 1.4034 - val_loss: 1.7104\n",
            "Epoch 32/100\n",
            "207/207 [==============================] - 9s 43ms/step - loss: 1.4130 - val_loss: 1.6699\n",
            "Epoch 33/100\n",
            "207/207 [==============================] - 9s 43ms/step - loss: 1.4168 - val_loss: 1.7755\n",
            "Epoch 34/100\n",
            "207/207 [==============================] - 9s 43ms/step - loss: 1.3950 - val_loss: 1.7251\n",
            "Epoch 35/100\n",
            "207/207 [==============================] - 9s 45ms/step - loss: 1.3794 - val_loss: 1.6436\n",
            "Epoch 36/100\n",
            "207/207 [==============================] - 9s 43ms/step - loss: 1.3576 - val_loss: 1.6744\n",
            "Epoch 37/100\n",
            "207/207 [==============================] - 9s 43ms/step - loss: 1.3742 - val_loss: 1.6565\n",
            "Epoch 38/100\n",
            "207/207 [==============================] - 9s 43ms/step - loss: 1.3437 - val_loss: 1.6709\n",
            "Epoch 39/100\n",
            "207/207 [==============================] - 9s 43ms/step - loss: 1.3684 - val_loss: 1.7464\n",
            "Epoch 40/100\n",
            "207/207 [==============================] - 9s 43ms/step - loss: 1.3482 - val_loss: 1.6762\n",
            "Epoch 41/100\n",
            "207/207 [==============================] - 9s 44ms/step - loss: 1.3233 - val_loss: 1.6544\n",
            "Epoch 42/100\n",
            "207/207 [==============================] - 9s 43ms/step - loss: 1.3384 - val_loss: 1.7422\n",
            "Epoch 43/100\n",
            "207/207 [==============================] - 9s 43ms/step - loss: 1.3132 - val_loss: 1.7008\n",
            "Epoch 44/100\n",
            "207/207 [==============================] - 9s 43ms/step - loss: 1.2981 - val_loss: 1.6447\n",
            "Epoch 45/100\n",
            "207/207 [==============================] - 9s 43ms/step - loss: 1.3115 - val_loss: 1.6941\n",
            "Epoch 46/100\n",
            "207/207 [==============================] - 9s 43ms/step - loss: 1.2966 - val_loss: 1.7008\n",
            "Epoch 47/100\n",
            "207/207 [==============================] - 9s 43ms/step - loss: 1.2948 - val_loss: 1.6950\n",
            "Epoch 48/100\n",
            "207/207 [==============================] - 9s 43ms/step - loss: 1.2937 - val_loss: 1.7271\n",
            "Epoch 49/100\n",
            "207/207 [==============================] - 9s 43ms/step - loss: 1.2986 - val_loss: 1.6925\n",
            "Epoch 50/100\n",
            "207/207 [==============================] - 9s 43ms/step - loss: 1.2811 - val_loss: 1.7409\n",
            "Epoch 51/100\n",
            "207/207 [==============================] - 9s 43ms/step - loss: 1.2539 - val_loss: 1.7010\n",
            "Epoch 52/100\n",
            "207/207 [==============================] - 9s 43ms/step - loss: 1.2787 - val_loss: 1.7270\n",
            "Epoch 53/100\n",
            "207/207 [==============================] - 9s 43ms/step - loss: 1.2649 - val_loss: 1.6702\n",
            "Epoch 54/100\n",
            "207/207 [==============================] - 9s 43ms/step - loss: 1.2624 - val_loss: 1.6619\n",
            "Epoch 55/100\n",
            "207/207 [==============================] - 9s 43ms/step - loss: 1.2611 - val_loss: 1.7285\n"
          ]
        }
      ],
      "source": [
        "match_model.compile(optimizer=tf.keras.optimizers.Adam(lr=5e-4), loss=sampledsoftmaxloss)\n",
        "early_stop = tf.keras.callbacks.EarlyStopping(monitor='val_loss', patience=20)\n",
        "checkpoint = tf.keras.callbacks.ModelCheckpoint(\n",
        "    filepath='./match_checkpoint/',\n",
        "    save_weights_only=True,\n",
        "    monitor='val_loss',\n",
        "    mode='min',\n",
        "    save_best_only=True)\n",
        "history = match_model.fit(match_train, match_train_label,\n",
        "                            batch_size=BATCH_SIZE, \n",
        "                            epochs=100,\n",
        "                            verbose=1,\n",
        "                            validation_split=0.1,\n",
        "                            callbacks=[early_stop,checkpoint])"
      ]
    },
    {
      "cell_type": "code",
      "execution_count": 16,
      "metadata": {
        "colab": {
          "base_uri": "https://localhost:8080/"
        },
        "id": "AGebkIE0uzM_",
        "outputId": "400a0a0a-be53-4316-b6dc-ee6fb8800f2d"
      },
      "outputs": [
        {
          "output_type": "execute_result",
          "data": {
            "text/plain": [
              "<tensorflow.python.training.tracking.util.CheckpointLoadStatus at 0x7f7198758bd0>"
            ]
          },
          "metadata": {},
          "execution_count": 16
        }
      ],
      "source": [
        "match_model.load_weights('./match_checkpoint/')"
      ]
    },
    {
      "cell_type": "code",
      "execution_count": 17,
      "metadata": {
        "colab": {
          "base_uri": "https://localhost:8080/"
        },
        "id": "G9AxEdKbuzM_",
        "outputId": "cad63c09-9bdb-4b1c-8e0e-54deb76e5534"
      },
      "outputs": [
        {
          "output_type": "stream",
          "name": "stdout",
          "text": [
            "(6040, 256)\n",
            "(3883, 256)\n"
          ]
        }
      ],
      "source": [
        "all_item_model_input = {\"movie_id\": data['item']['movie_id'].values}\n",
        "\n",
        "user_embedding_model = Model(inputs=match_model.user_input, outputs=match_model.user_embedding)\n",
        "item_embedding_model = Model(inputs=match_model.item_input, outputs=match_model.item_embedding)\n",
        "\n",
        "user_embs = user_embedding_model.predict(match_test, batch_size=2 ** 15)\n",
        "item_embs = item_embedding_model.predict(all_item_model_input, batch_size=2 ** 15)\n",
        "\n",
        "print(user_embs.shape)\n",
        "print(item_embs.shape)"
      ]
    },
    {
      "cell_type": "markdown",
      "metadata": {
        "id": "UJ49Jxnf0-1O"
      },
      "source": [
        "# 2. Use Faiss to generate candidates <a name=\"section-2\"></a>"
      ]
    },
    {
      "cell_type": "markdown",
      "metadata": {
        "id": "qEAI8Rl7hzgv"
      },
      "source": [
        "## Test match model"
      ]
    },
    {
      "cell_type": "code",
      "execution_count": 18,
      "metadata": {
        "id": "cr39MwzduzNA"
      },
      "outputs": [],
      "source": [
        "candidates = search_embedding(\n",
        "    MATCH_EMBEDDING_DIM, \n",
        "    item_embs, \n",
        "    user_embs,\n",
        "    data['item']['movie_id'].values,\n",
        "    CANDIDATE_NUM)"
      ]
    },
    {
      "cell_type": "code",
      "execution_count": 19,
      "metadata": {
        "colab": {
          "base_uri": "https://localhost:8080/"
        },
        "id": "ZLc_JPubuzNB",
        "outputId": "1726fa86-d44b-4206-95ed-0fb54f5981b9"
      },
      "outputs": [
        {
          "output_type": "execute_result",
          "data": {
            "text/plain": [
              "0.03415356617260591"
            ]
          },
          "metadata": {},
          "execution_count": 19
        }
      ],
      "source": [
        "map_at_k(match_test_label, candidates, k=10)"
      ]
    },
    {
      "cell_type": "code",
      "execution_count": 20,
      "metadata": {
        "colab": {
          "base_uri": "https://localhost:8080/"
        },
        "id": "kap-zVgguzNC",
        "outputId": "45a0c548-bd4d-4ac2-bb7e-d9c1ec9b050f"
      },
      "outputs": [
        {
          "output_type": "execute_result",
          "data": {
            "text/plain": [
              "0.08637417218543048"
            ]
          },
          "metadata": {},
          "execution_count": 20
        }
      ],
      "source": [
        "recall_at_k(match_test_label, candidates, k=10)"
      ]
    },
    {
      "cell_type": "code",
      "execution_count": 21,
      "metadata": {
        "colab": {
          "base_uri": "https://localhost:8080/"
        },
        "id": "WyU4hfCihzgw",
        "outputId": "261280cd-80e2-4550-b017-198ac5a24a13"
      },
      "outputs": [
        {
          "output_type": "execute_result",
          "data": {
            "text/plain": [
              "0.47289735099337754"
            ]
          },
          "metadata": {},
          "execution_count": 21
        }
      ],
      "source": [
        "recall_at_k(match_test_label, candidates, k=100)"
      ]
    },
    {
      "cell_type": "markdown",
      "metadata": {
        "id": "l9L5duhQhzgw"
      },
      "source": [
        "## Prepare data for ranking"
      ]
    },
    {
      "cell_type": "code",
      "execution_count": 22,
      "metadata": {
        "id": "XpXydY19hzgx"
      },
      "outputs": [],
      "source": [
        "test_user_embs = user_embedding_model.predict(match_test, batch_size=2 ** 15)\n",
        "test_candidates = search_embedding(\n",
        "    MATCH_EMBEDDING_DIM, \n",
        "    item_embs, \n",
        "    test_user_embs,\n",
        "    data['item']['movie_id'].values,\n",
        "    CANDIDATE_NUM)\n",
        "\n",
        "test_candidates = {\n",
        "    match_test['user_id'][i] : test_candidates[i]\n",
        "    for i in range(test_candidates.shape[0])\n",
        "}"
      ]
    },
    {
      "cell_type": "code",
      "execution_count": 23,
      "metadata": {
        "colab": {
          "base_uri": "https://localhost:8080/"
        },
        "id": "yynuwvUppia6",
        "outputId": "7bc06a32-70eb-4254-b6c7-1ec461cb4f27"
      },
      "outputs": [
        {
          "output_type": "execute_result",
          "data": {
            "text/plain": [
              "50"
            ]
          },
          "metadata": {},
          "execution_count": 23
        }
      ],
      "source": [
        "del user_embs, item_embs, match_train, match_train_label, test_user_embs\n",
        "gc.collect()"
      ]
    },
    {
      "cell_type": "code",
      "execution_count": 24,
      "metadata": {
        "id": "HzBXnYuwhzgx",
        "outputId": "22939d74-7d86-46d9-f880-12af6585e2ed",
        "colab": {
          "base_uri": "https://localhost:8080/"
        }
      },
      "outputs": [
        {
          "output_type": "stream",
          "name": "stderr",
          "text": [
            "Generate train set: 100%|██████████| 6040/6040 [00:42<00:00, 142.43it/s]\n",
            "100%|██████████| 4/4 [00:05<00:00,  1.29s/it]\n",
            "100%|██████████| 2/2 [00:12<00:00,  6.36s/it]\n"
          ]
        }
      ],
      "source": [
        "rank_dh = MovieRankDataHelper('./ml-1m/')\n",
        "rank_user_features = ['user_id','gender','age','occupation','zip']\n",
        "rank_movie_features = [f for f in data['item'].columns if f != 'title']\n",
        "\n",
        "rank_dh.gen_dataset(rank_user_features+rank_movie_features, data, test_candidates, seq_max_len=SEQ_LEN, negnum=NEG_NUM)"
      ]
    },
    {
      "cell_type": "code",
      "execution_count": 25,
      "metadata": {
        "colab": {
          "base_uri": "https://localhost:8080/"
        },
        "id": "4wQASPHrhzgx",
        "outputId": "3dbf99a6-1f39-414d-9862-81ee1adafc43"
      },
      "outputs": [
        {
          "output_type": "stream",
          "name": "stderr",
          "text": [
            "Load user Features: 100%|██████████| 8/8 [00:01<00:00,  5.38it/s]\n",
            "Load movie Features: 100%|██████████| 3/3 [00:00<00:00, 13.30it/s]\n"
          ]
        }
      ],
      "source": [
        "rank_train, rank_train_label, rank_test = rank_dh.load_dataset(rank_user_features, rank_movie_features)"
      ]
    },
    {
      "cell_type": "code",
      "execution_count": 26,
      "metadata": {
        "id": "of_PY0kv9UZx"
      },
      "outputs": [],
      "source": [
        "rank_feature_dim = rank_dh.get_feature_dim(data, rank_user_features, rank_movie_features, [])"
      ]
    },
    {
      "cell_type": "markdown",
      "metadata": {
        "id": "kyApc4cJhzgy"
      },
      "source": [
        "# 3. Train rank model and predict <a name=\"section-3\"></a>"
      ]
    },
    {
      "cell_type": "code",
      "execution_count": 27,
      "metadata": {
        "id": "XVzs-bBwhzgy"
      },
      "outputs": [],
      "source": [
        "rank_user_dense_feats = []\n",
        "rank_user_sparse_feats = ['user_id','gender','age','occupation', 'zip']\n",
        "rank_item_dense_feats = []\n",
        "rank_item_sparse_feats = [f for f in rank_movie_features if f!='genres']"
      ]
    },
    {
      "cell_type": "code",
      "execution_count": 28,
      "metadata": {
        "id": "yNUUQSzO6A8J"
      },
      "outputs": [],
      "source": [
        "rank_dense_feats = rank_user_dense_feats + rank_item_dense_feats\n",
        "rank_sparse_feats = rank_user_sparse_feats + rank_item_sparse_feats"
      ]
    },
    {
      "cell_type": "code",
      "execution_count": 29,
      "metadata": {
        "id": "jT0Lyg0eiVvj"
      },
      "outputs": [],
      "source": [
        "rank_fm_features = [SparseFeature(x, rank_feature_dim[x], RANK_EMBEDDING_DIM) for x in rank_sparse_feats] +\\\n",
        "                    [SparseSeqFeature(SparseFeature('genre_id', 19, MATCH_EMBEDDING_DIM), 'genres',6)] +\\\n",
        "                   [SparseSeqFeature(SparseFeature('movie_id', rank_feature_dim['movie_id'], RANK_EMBEDDING_DIM), 'hist_movie_id', SEQ_LEN)]\n",
        "rank_dnn_feats = [DenseFeature(x) for x in rank_dense_feats] + rank_fm_features"
      ]
    },
    {
      "cell_type": "code",
      "execution_count": 30,
      "metadata": {
        "id": "_uvYZtxBhzgy"
      },
      "outputs": [],
      "source": [
        "rank_model = DeepFM(\n",
        "    rank_fm_features, rank_dnn_feats, \n",
        "    dnn_hidden_units=(1024,512,256,1), dnn_dropout=0.2, l2_dnn=0.2, dnn_bn=True\n",
        ")"
      ]
    },
    {
      "cell_type": "code",
      "execution_count": 31,
      "metadata": {
        "colab": {
          "base_uri": "https://localhost:8080/"
        },
        "id": "H8l7JU3phzgy",
        "outputId": "ff042650-2a13-4ba0-808d-3b5bd6cda628"
      },
      "outputs": [
        {
          "output_type": "stream",
          "name": "stdout",
          "text": [
            "Epoch 1/50\n",
            "316/316 [==============================] - 139s 427ms/step - loss: 133.3164\n",
            "Epoch 2/50\n",
            "316/316 [==============================] - 135s 428ms/step - loss: 0.5509\n",
            "Epoch 3/50\n",
            "316/316 [==============================] - 135s 428ms/step - loss: 0.2395\n",
            "Epoch 4/50\n",
            "316/316 [==============================] - 135s 428ms/step - loss: 0.2279\n",
            "Epoch 5/50\n",
            "316/316 [==============================] - 135s 428ms/step - loss: 0.2168\n",
            "Epoch 6/50\n",
            "316/316 [==============================] - 135s 428ms/step - loss: 0.2090\n",
            "Epoch 7/50\n",
            "316/316 [==============================] - 135s 428ms/step - loss: 0.2034\n",
            "Epoch 8/50\n",
            "316/316 [==============================] - 135s 427ms/step - loss: 0.2048\n",
            "Epoch 9/50\n",
            "316/316 [==============================] - 136s 429ms/step - loss: 0.1946\n",
            "Epoch 10/50\n",
            "316/316 [==============================] - 135s 427ms/step - loss: 0.1978\n",
            "Epoch 11/50\n",
            "316/316 [==============================] - 135s 428ms/step - loss: 0.1877\n",
            "Epoch 12/50\n",
            "316/316 [==============================] - 135s 428ms/step - loss: 0.1842\n",
            "Epoch 13/50\n",
            "316/316 [==============================] - 135s 427ms/step - loss: 0.1882\n",
            "Epoch 14/50\n",
            "316/316 [==============================] - 135s 429ms/step - loss: 0.1782\n",
            "Epoch 15/50\n",
            "316/316 [==============================] - 135s 428ms/step - loss: 0.1754\n",
            "Epoch 16/50\n",
            "316/316 [==============================] - 135s 427ms/step - loss: 0.1730\n",
            "Epoch 17/50\n",
            "316/316 [==============================] - 136s 429ms/step - loss: 0.1709\n",
            "Epoch 18/50\n",
            "316/316 [==============================] - 135s 429ms/step - loss: 0.1689\n",
            "Epoch 19/50\n",
            "316/316 [==============================] - 136s 429ms/step - loss: 0.1669\n",
            "Epoch 20/50\n",
            "316/316 [==============================] - 135s 429ms/step - loss: 0.1652\n",
            "Epoch 21/50\n",
            "316/316 [==============================] - 136s 429ms/step - loss: 0.1636\n",
            "Epoch 22/50\n",
            "316/316 [==============================] - 135s 429ms/step - loss: 0.1621\n",
            "Epoch 23/50\n",
            "316/316 [==============================] - 136s 429ms/step - loss: 0.1607\n",
            "Epoch 24/50\n",
            "316/316 [==============================] - 136s 429ms/step - loss: 0.1593\n",
            "Epoch 25/50\n",
            "316/316 [==============================] - 136s 429ms/step - loss: 0.1581\n",
            "Epoch 26/50\n",
            "316/316 [==============================] - 136s 429ms/step - loss: 0.1569\n",
            "Epoch 27/50\n",
            "316/316 [==============================] - 136s 430ms/step - loss: 0.1560\n",
            "Epoch 28/50\n",
            "316/316 [==============================] - 136s 430ms/step - loss: 0.1549\n",
            "Epoch 29/50\n",
            "316/316 [==============================] - 136s 430ms/step - loss: 0.1538\n",
            "Epoch 30/50\n",
            "316/316 [==============================] - 136s 430ms/step - loss: 0.1530\n",
            "Epoch 31/50\n",
            "316/316 [==============================] - 136s 431ms/step - loss: 0.1519\n",
            "Epoch 32/50\n",
            "316/316 [==============================] - 136s 430ms/step - loss: 0.1511\n",
            "Epoch 33/50\n",
            "316/316 [==============================] - 136s 429ms/step - loss: 0.1504\n",
            "Epoch 34/50\n",
            "316/316 [==============================] - 135s 429ms/step - loss: 0.1497\n",
            "Epoch 35/50\n",
            "316/316 [==============================] - 136s 429ms/step - loss: 0.1490\n",
            "Epoch 36/50\n",
            "316/316 [==============================] - 135s 429ms/step - loss: 0.1484\n",
            "Epoch 37/50\n",
            "316/316 [==============================] - 135s 429ms/step - loss: 0.1476\n",
            "Epoch 38/50\n",
            "316/316 [==============================] - 136s 429ms/step - loss: 0.1471\n",
            "Epoch 39/50\n",
            "316/316 [==============================] - 136s 429ms/step - loss: 0.1466\n",
            "Epoch 40/50\n",
            "316/316 [==============================] - 136s 429ms/step - loss: 0.1458\n",
            "Epoch 41/50\n",
            "316/316 [==============================] - 135s 428ms/step - loss: 0.1453\n",
            "Epoch 42/50\n",
            "316/316 [==============================] - 136s 429ms/step - loss: 0.1448\n",
            "Epoch 43/50\n",
            "316/316 [==============================] - 136s 429ms/step - loss: 0.1442\n",
            "Epoch 44/50\n",
            "316/316 [==============================] - 135s 429ms/step - loss: 0.1438\n",
            "Epoch 45/50\n",
            "316/316 [==============================] - 136s 429ms/step - loss: 0.1433\n",
            "Epoch 46/50\n",
            "316/316 [==============================] - 136s 429ms/step - loss: 0.1429\n",
            "Epoch 47/50\n",
            "316/316 [==============================] - 136s 429ms/step - loss: 0.1426\n",
            "Epoch 48/50\n",
            "316/316 [==============================] - 136s 429ms/step - loss: 0.1421\n",
            "Epoch 49/50\n",
            "316/316 [==============================] - 135s 429ms/step - loss: 0.1416\n",
            "Epoch 50/50\n",
            "316/316 [==============================] - 136s 429ms/step - loss: 0.1413\n"
          ]
        }
      ],
      "source": [
        "rank_model.compile(optimizer=tf.keras.optimizers.Adam(lr=3e-4), loss=binary_crossentropy)\n",
        "early_stop = tf.keras.callbacks.EarlyStopping(monitor='loss', patience=5)\n",
        "checkpoint = tf.keras.callbacks.ModelCheckpoint(\n",
        "    filepath='./rank_checkpoint/',\n",
        "    save_weights_only=True,\n",
        "    monitor='loss',\n",
        "    mode='min',\n",
        "    save_best_only=True)\n",
        "history = rank_model.fit(rank_train, rank_train_label,\n",
        "                    batch_size=BATCH_SIZE*8, \n",
        "                    epochs=NEPOCH,\n",
        "                    verbose=1,\n",
        "                    validation_split=0.,\n",
        "                    callbacks=[early_stop,checkpoint])"
      ]
    },
    {
      "cell_type": "code",
      "execution_count": 32,
      "metadata": {
        "id": "w52A7cJ8hzgz",
        "outputId": "ac921e80-5462-469f-d13a-83ae2fe5e7ce",
        "colab": {
          "base_uri": "https://localhost:8080/"
        }
      },
      "outputs": [
        {
          "output_type": "execute_result",
          "data": {
            "text/plain": [
              "<tensorflow.python.training.tracking.util.CheckpointLoadStatus at 0x7f7198321690>"
            ]
          },
          "metadata": {},
          "execution_count": 32
        }
      ],
      "source": [
        "rank_model.load_weights('./rank_checkpoint/')"
      ]
    },
    {
      "cell_type": "code",
      "execution_count": 33,
      "metadata": {
        "colab": {
          "base_uri": "https://localhost:8080/"
        },
        "id": "Fr61KpmewPuB",
        "outputId": "5f9afa22-e39b-4852-d843-1cc7683c1245"
      },
      "outputs": [
        {
          "output_type": "execute_result",
          "data": {
            "text/plain": [
              "2355"
            ]
          },
          "metadata": {},
          "execution_count": 33
        }
      ],
      "source": [
        "del rank_train\n",
        "gc.collect()"
      ]
    },
    {
      "cell_type": "code",
      "execution_count": 34,
      "metadata": {
        "id": "zUQJ7IdLhzgz"
      },
      "outputs": [],
      "source": [
        "pred = rank_model.predict(rank_test, batch_size=BATCH_SIZE*8)"
      ]
    },
    {
      "cell_type": "code",
      "execution_count": 35,
      "metadata": {
        "id": "SoCzRNuphzgz"
      },
      "outputs": [],
      "source": [
        "pred_df = pd.DataFrame(columns=['user_id','movie_id','pred'])\n",
        "pred_df['user_id'] = rank_test['user_id']\n",
        "pred_df['movie_id'] = rank_test['movie_id']\n",
        "pred_df['pred'] = pred\n",
        "\n",
        "pred_df = pred_df.sort_values(by=['user_id','pred'], ascending=False).reset_index(drop=True)\n",
        "pred_df = pred_df.groupby('user_id')['movie_id'].apply(list).reset_index()"
      ]
    },
    {
      "cell_type": "code",
      "execution_count": 36,
      "metadata": {
        "id": "rEQ9sQGjhzgz"
      },
      "outputs": [],
      "source": [
        "test_label_df = pd.DataFrame(columns=['user_id','label'])\n",
        "test_label_df['user_id'] = match_test['user_id']\n",
        "test_label_df['label'] = match_test_label.tolist()"
      ]
    },
    {
      "cell_type": "code",
      "execution_count": 37,
      "metadata": {
        "id": "5T_uOn5Ohzgz"
      },
      "outputs": [],
      "source": [
        "test_label_df = pd.merge(test_label_df, pred_df, on=['user_id'], how='left')"
      ]
    },
    {
      "cell_type": "code",
      "execution_count": 38,
      "metadata": {
        "colab": {
          "base_uri": "https://localhost:8080/"
        },
        "id": "0HXT3XxAhzgz",
        "outputId": "19db20d8-d9a8-4264-a6c1-0ca15286359e"
      },
      "outputs": [
        {
          "output_type": "execute_result",
          "data": {
            "text/plain": [
              "0.01602899978976138"
            ]
          },
          "metadata": {},
          "execution_count": 38
        }
      ],
      "source": [
        "map_at_k(test_label_df['label'], test_label_df['movie_id'], k=10)"
      ]
    },
    {
      "cell_type": "code",
      "execution_count": 39,
      "metadata": {
        "colab": {
          "base_uri": "https://localhost:8080/"
        },
        "id": "HHzj8iJKhzgz",
        "outputId": "47923a78-9bc9-4545-bf88-11adf769c96f"
      },
      "outputs": [
        {
          "output_type": "execute_result",
          "data": {
            "text/plain": [
              "0.05299668874172186"
            ]
          },
          "metadata": {},
          "execution_count": 39
        }
      ],
      "source": [
        "recall_at_k(test_label_df['label'], test_label_df['movie_id'], k=10)"
      ]
    },
    {
      "cell_type": "code",
      "execution_count": 40,
      "metadata": {
        "colab": {
          "base_uri": "https://localhost:8080/"
        },
        "id": "y5L5ijkE-H1x",
        "outputId": "f63e7403-9b82-45aa-d170-89e523dcc98f"
      },
      "outputs": [
        {
          "output_type": "execute_result",
          "data": {
            "text/plain": [
              "0.47289735099337754"
            ]
          },
          "metadata": {},
          "execution_count": 40
        }
      ],
      "source": [
        "recall_at_k(test_label_df['label'], test_label_df['movie_id'], k=100)"
      ]
    }
  ],
  "metadata": {
    "accelerator": "GPU",
    "colab": {
      "collapsed_sections": [],
      "name": "DeepFM.ipynb",
      "provenance": [],
      "machine_shape": "hm"
    },
    "interpreter": {
      "hash": "653a9876bfda977334bab0c6eac4e690c97044cb3c76993a10b084536ae29e50"
    },
    "kernelspec": {
      "display_name": "Python 3",
      "name": "python3"
    },
    "language_info": {
      "name": "python"
    },
    "orig_nbformat": 4
  },
  "nbformat": 4,
  "nbformat_minor": 0
}