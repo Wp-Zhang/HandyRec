{
  "cells": [
    {
      "cell_type": "markdown",
      "metadata": {
        "id": "FXD2RCXzuzMx"
      },
      "source": [
        "[![Open In Colab](https://colab.research.google.com/assets/colab-badge.svg)](https://colab.research.google.com/github/Wp-Zhang/HandyRec/blob/master/examples/YouTubeDNN.ipynb)"
      ]
    },
    {
      "cell_type": "markdown",
      "metadata": {
        "id": "OJKT5uytzl7t"
      },
      "source": [
        "> This notebook runs YouTubeDNN including candidate generation and ranking on MovieLens1M dataset. \n",
        "\n",
        "> Only movies with ratings larger than 3 are treated as 'positive' samples for each user. Every last 10 'positive' movies of each user are held out for testing."
      ]
    },
    {
      "cell_type": "markdown",
      "metadata": {
        "id": "YtD_3eG3xekg"
      },
      "source": [
        "## Table of Contents:\n",
        "* [Prepare data for matching](#section-0)\n",
        "* [Train match model and export embeddings](#section-1)\n",
        "* [Use Faiss to generate candidates](#section-2)\n",
        "* [Train rank model and predict](#section-3)"
      ]
    },
    {
      "cell_type": "markdown",
      "metadata": {
        "id": "XFTLC9SQzxK4"
      },
      "source": [
        "**Download dataset and install packages**"
      ]
    },
    {
      "cell_type": "code",
      "execution_count": 1,
      "metadata": {
        "colab": {
          "base_uri": "https://localhost:8080/"
        },
        "id": "WSk1WSSpvXfL",
        "outputId": "f738e633-72c3-4739-ffbb-cc8f7ef7a2a4"
      },
      "outputs": [
        {
          "output_type": "stream",
          "name": "stdout",
          "text": [
            "Cloning into 'HandyRec'...\n",
            "remote: Enumerating objects: 994, done.\u001b[K\n",
            "remote: Counting objects: 100% (994/994), done.\u001b[K\n",
            "remote: Compressing objects: 100% (776/776), done.\u001b[K\n",
            "remote: Total 994 (delta 336), reused 768 (delta 171), pack-reused 0\u001b[K\n",
            "Receiving objects: 100% (994/994), 16.36 MiB | 8.93 MiB/s, done.\n",
            "Resolving deltas: 100% (336/336), done.\n",
            "Collecting faiss-cpu\n",
            "  Downloading faiss_cpu-1.7.2-cp37-cp37m-manylinux_2_17_x86_64.manylinux2014_x86_64.whl (8.6 MB)\n",
            "\u001b[K     |████████████████████████████████| 8.6 MB 3.8 MB/s \n",
            "\u001b[?25hInstalling collected packages: faiss-cpu\n",
            "Successfully installed faiss-cpu-1.7.2\n"
          ]
        }
      ],
      "source": [
        "! git clone https://github.com/Wp-Zhang/HandyRec.git\n",
        "! pip install faiss-cpu"
      ]
    },
    {
      "cell_type": "code",
      "execution_count": 2,
      "metadata": {
        "colab": {
          "base_uri": "https://localhost:8080/"
        },
        "id": "uiIqXdbUyCEi",
        "outputId": "3083857c-1497-413d-ba0b-7b17951845de"
      },
      "outputs": [
        {
          "output_type": "stream",
          "name": "stdout",
          "text": [
            "--2022-03-26 01:38:26--  https://files.grouplens.org/datasets/movielens/ml-1m.zip\n",
            "Resolving files.grouplens.org (files.grouplens.org)... 128.101.65.152\n",
            "Connecting to files.grouplens.org (files.grouplens.org)|128.101.65.152|:443... connected.\n",
            "HTTP request sent, awaiting response... 200 OK\n",
            "Length: 5917549 (5.6M) [application/zip]\n",
            "Saving to: ‘./ml-1m.zip’\n",
            "\n",
            "./ml-1m.zip         100%[===================>]   5.64M  4.16MB/s    in 1.4s    \n",
            "\n",
            "2022-03-26 01:38:28 (4.16 MB/s) - ‘./ml-1m.zip’ saved [5917549/5917549]\n",
            "\n",
            "Archive:  ml-1m.zip\n",
            "   creating: ml-1m/\n",
            "  inflating: ml-1m/movies.dat        \n",
            "  inflating: ml-1m/ratings.dat       \n",
            "  inflating: ml-1m/README            \n",
            "  inflating: ml-1m/users.dat         \n"
          ]
        }
      ],
      "source": [
        "! wget https://files.grouplens.org/datasets/movielens/ml-1m.zip -O ./ml-1m.zip\n",
        "! unzip -o ml-1m.zip"
      ]
    },
    {
      "cell_type": "code",
      "source": [
        "!pip install -U tensorboard_plugin_profile"
      ],
      "metadata": {
        "id": "YLNnGb9r0wJz",
        "outputId": "d09cee94-ad8a-468f-ed89-03dd4a7b9613",
        "colab": {
          "base_uri": "https://localhost:8080/"
        }
      },
      "execution_count": 3,
      "outputs": [
        {
          "output_type": "stream",
          "name": "stdout",
          "text": [
            "Collecting tensorboard_plugin_profile\n",
            "  Downloading tensorboard_plugin_profile-2.5.0-py3-none-any.whl (1.1 MB)\n",
            "\u001b[K     |████████████████████████████████| 1.1 MB 4.3 MB/s \n",
            "\u001b[?25hRequirement already satisfied: setuptools>=41.0.0 in /usr/local/lib/python3.7/dist-packages (from tensorboard_plugin_profile) (57.4.0)\n",
            "Requirement already satisfied: protobuf>=3.6.0 in /usr/local/lib/python3.7/dist-packages (from tensorboard_plugin_profile) (3.17.3)\n",
            "Collecting gviz-api>=1.9.0\n",
            "  Downloading gviz_api-1.10.0-py2.py3-none-any.whl (13 kB)\n",
            "Requirement already satisfied: werkzeug>=0.11.15 in /usr/local/lib/python3.7/dist-packages (from tensorboard_plugin_profile) (1.0.1)\n",
            "Requirement already satisfied: six>=1.10.0 in /usr/local/lib/python3.7/dist-packages (from tensorboard_plugin_profile) (1.15.0)\n",
            "Installing collected packages: gviz-api, tensorboard-plugin-profile\n",
            "Successfully installed gviz-api-1.10.0 tensorboard-plugin-profile-2.5.0\n"
          ]
        }
      ]
    },
    {
      "cell_type": "markdown",
      "metadata": {
        "id": "gsUc0pRE0BEH"
      },
      "source": [
        "**Import relative packages**"
      ]
    },
    {
      "cell_type": "code",
      "execution_count": 4,
      "metadata": {
        "id": "PzbZZUXxvxvm"
      },
      "outputs": [],
      "source": [
        "import sys\n",
        "sys.path.append('./HandyRec/')"
      ]
    },
    {
      "cell_type": "code",
      "execution_count": 5,
      "metadata": {
        "id": "NlQtiTrmuzM3"
      },
      "outputs": [],
      "source": [
        "from handyrec.dataset.movielens import MovieMatchDataHelper, MovieRankDataHelper\n",
        "from handyrec.layers.utils import sampledsoftmaxloss\n",
        "from handyrec.models.match import YouTubeMatchDNN\n",
        "from handyrec.models.rank import YouTubeRankDNN\n",
        "from handyrec.features import DenseFeature, SparseFeature, SparseSeqFeature\n",
        "from handyrec.dataset.metrics import map_at_k, recall_at_k\n",
        "from handyrec.models.utils import search_embedding\n",
        "\n",
        "import tensorflow as tf\n",
        "from tensorflow.keras import Model\n",
        "from tensorflow.keras.losses import binary_crossentropy\n",
        "import numpy as np\n",
        "import pandas as pd\n",
        "import gc"
      ]
    },
    {
      "cell_type": "code",
      "execution_count": 6,
      "metadata": {
        "id": "iYOxv7-auzM3"
      },
      "outputs": [],
      "source": [
        "import warnings\n",
        "warnings.filterwarnings('ignore')"
      ]
    },
    {
      "cell_type": "code",
      "execution_count": 7,
      "metadata": {
        "id": "W8jyTPiz8K13"
      },
      "outputs": [],
      "source": [
        "MATCH_EMBEDDING_DIM = 128\n",
        "RANK_EMBEDDING_DIM = 128\n",
        "SEQ_LEN = 40\n",
        "BATCH_SIZE = 2**12\n",
        "NEPOCH = 50\n",
        "\n",
        "NEG_NUM = 10\n",
        "CANDIDATE_NUM = 100"
      ]
    },
    {
      "cell_type": "markdown",
      "metadata": {
        "id": "MXNUDnO_0VLl"
      },
      "source": [
        "# 0. Prepare data for matching<a name=\"section-0\"></a>"
      ]
    },
    {
      "cell_type": "code",
      "execution_count": 8,
      "metadata": {
        "colab": {
          "base_uri": "https://localhost:8080/"
        },
        "id": "wgw6prfluzM5",
        "outputId": "eca6c3c3-974e-4a8e-f021-6c35a17b443d"
      },
      "outputs": [
        {
          "output_type": "stream",
          "name": "stderr",
          "text": [
            "Encode User Sparse Feats: 100%|██████████| 4/4 [00:00<00:00, 89.15it/s]\n",
            "Encode Item Sparse Feats: 100%|██████████| 1/1 [00:00<00:00, 92.66it/s]\n",
            "Generate train set: 100%|██████████| 6040/6040 [00:12<00:00, 484.15it/s] \n",
            "100%|██████████| 4/4 [00:01<00:00,  3.88it/s]\n",
            "0it [00:00, ?it/s]\n"
          ]
        }
      ],
      "source": [
        "match_dh = MovieMatchDataHelper('./ml-1m/')\n",
        "match_user_features = ['user_id','gender','age','occupation','zip']\n",
        "match_movie_features = ['movie_id']\n",
        "\n",
        "data = match_dh.get_clean_data(sparse_features=['gender','age','occupation','zip','year'])\n",
        "match_dh.gen_dataset(match_user_features+match_movie_features, data, seq_max_len=SEQ_LEN, negnum=0)"
      ]
    },
    {
      "cell_type": "code",
      "execution_count": 9,
      "metadata": {
        "colab": {
          "base_uri": "https://localhost:8080/"
        },
        "id": "nWhojvyKuzM7",
        "outputId": "39ebd0dc-e366-46e6-d50e-78969a357b13"
      },
      "outputs": [
        {
          "output_type": "stream",
          "name": "stderr",
          "text": [
            "Load user Features: 100%|██████████| 7/7 [00:00<00:00, 48.97it/s]\n",
            "Load movie Features: 100%|██████████| 1/1 [00:00<00:00, 144.41it/s]\n"
          ]
        }
      ],
      "source": [
        "match_train, match_train_label, match_test, match_test_label = match_dh.load_dataset(match_user_features, match_movie_features)"
      ]
    },
    {
      "cell_type": "code",
      "execution_count": 10,
      "metadata": {
        "id": "VJR1Ybd18t7g"
      },
      "outputs": [],
      "source": [
        "match_feature_dim = match_dh.get_feature_dim(data, match_user_features, match_movie_features, [])"
      ]
    },
    {
      "cell_type": "markdown",
      "metadata": {
        "id": "wMAdJxpc0x1U"
      },
      "source": [
        "# 1. Train match model and export embeddings <a name=\"section-1\"></a>"
      ]
    },
    {
      "cell_type": "code",
      "execution_count": 11,
      "metadata": {
        "id": "VnQIMObLn9U7"
      },
      "outputs": [],
      "source": [
        "# * add example_age^2 as showed in the original paper\n",
        "match_train['example_age_2'] = match_train['example_age']**2\n",
        "match_test['example_age_2'] = match_test['example_age']**2"
      ]
    },
    {
      "cell_type": "code",
      "execution_count": 12,
      "metadata": {
        "id": "DBLxg5truzM8"
      },
      "outputs": [],
      "source": [
        "match_user_dense_feats = ['example_age','example_age_2']\n",
        "match_user_sparse_feats = ['user_id','gender','age','occupation','zip']"
      ]
    },
    {
      "cell_type": "code",
      "execution_count": 13,
      "metadata": {
        "id": "mxDDKxm7uzM9"
      },
      "outputs": [],
      "source": [
        "match_user_features = [SparseFeature(x, match_feature_dim[x], MATCH_EMBEDDING_DIM) for x in match_user_sparse_feats] +\\\n",
        "                [DenseFeature(x) for x in match_user_dense_feats] +\\\n",
        "                [SparseSeqFeature(SparseFeature('movie_id', match_feature_dim['movie_id'], MATCH_EMBEDDING_DIM), 'hist_movie_id',SEQ_LEN)]\n",
        "match_item_id = SparseFeature('movie_id', match_feature_dim['movie_id'], MATCH_EMBEDDING_DIM)"
      ]
    },
    {
      "cell_type": "code",
      "execution_count": 14,
      "metadata": {
        "id": "lKURLYXkuzM-"
      },
      "outputs": [],
      "source": [
        "match_model = YouTubeMatchDNN(\n",
        "    match_user_features, match_item_id,\n",
        "    dnn_hidden_units=(512,256,128,MATCH_EMBEDDING_DIM), \n",
        "    dnn_dropout=0.1,\n",
        "    dnn_bn=True,\n",
        "    num_sampled=100\n",
        ")"
      ]
    },
    {
      "cell_type": "code",
      "execution_count": 15,
      "metadata": {
        "colab": {
          "base_uri": "https://localhost:8080/"
        },
        "id": "2xizKlTvuzM_",
        "outputId": "a1f96531-757d-4153-fe19-a0c0f8065c5d"
      },
      "outputs": [
        {
          "output_type": "stream",
          "name": "stdout",
          "text": [
            "Epoch 1/100\n",
            "207/207 [==============================] - 13s 34ms/step - loss: 3.7485 - val_loss: 3.5575\n",
            "Epoch 2/100\n",
            "207/207 [==============================] - 6s 30ms/step - loss: 3.0823 - val_loss: 3.1552\n",
            "Epoch 3/100\n",
            "207/207 [==============================] - 6s 31ms/step - loss: 2.7542 - val_loss: 2.7260\n",
            "Epoch 4/100\n",
            "207/207 [==============================] - 6s 31ms/step - loss: 2.5727 - val_loss: 2.4100\n",
            "Epoch 5/100\n",
            "207/207 [==============================] - 7s 32ms/step - loss: 2.4222 - val_loss: 2.3418\n",
            "Epoch 6/100\n",
            "207/207 [==============================] - 6s 31ms/step - loss: 2.2899 - val_loss: 2.2422\n",
            "Epoch 7/100\n",
            "207/207 [==============================] - 7s 31ms/step - loss: 2.1851 - val_loss: 2.2535\n",
            "Epoch 8/100\n",
            "207/207 [==============================] - 6s 30ms/step - loss: 2.1055 - val_loss: 2.1043\n",
            "Epoch 9/100\n",
            "207/207 [==============================] - 6s 30ms/step - loss: 2.0309 - val_loss: 2.1203\n",
            "Epoch 10/100\n",
            "207/207 [==============================] - 6s 31ms/step - loss: 1.9662 - val_loss: 2.0212\n",
            "Epoch 11/100\n",
            "207/207 [==============================] - 6s 31ms/step - loss: 1.9148 - val_loss: 1.9589\n",
            "Epoch 12/100\n",
            "207/207 [==============================] - 6s 31ms/step - loss: 1.8728 - val_loss: 1.9146\n",
            "Epoch 13/100\n",
            "207/207 [==============================] - 6s 31ms/step - loss: 1.8817 - val_loss: 1.9914\n",
            "Epoch 14/100\n",
            "207/207 [==============================] - 6s 31ms/step - loss: 1.8316 - val_loss: 1.8518\n",
            "Epoch 15/100\n",
            "207/207 [==============================] - 6s 30ms/step - loss: 1.7923 - val_loss: 1.8593\n",
            "Epoch 16/100\n",
            "207/207 [==============================] - 6s 31ms/step - loss: 1.7883 - val_loss: 1.7602\n",
            "Epoch 17/100\n",
            "207/207 [==============================] - 6s 30ms/step - loss: 1.7532 - val_loss: 1.9113\n",
            "Epoch 18/100\n",
            "207/207 [==============================] - 6s 30ms/step - loss: 1.7527 - val_loss: 1.7655\n",
            "Epoch 19/100\n",
            "207/207 [==============================] - 7s 33ms/step - loss: 1.6972 - val_loss: 1.7805\n",
            "Epoch 20/100\n",
            "207/207 [==============================] - 7s 33ms/step - loss: 1.7049 - val_loss: 1.8043\n",
            "Epoch 21/100\n",
            "207/207 [==============================] - 7s 31ms/step - loss: 1.6779 - val_loss: 1.8016\n",
            "Epoch 22/100\n",
            "207/207 [==============================] - 6s 30ms/step - loss: 1.6560 - val_loss: 1.7695\n",
            "Epoch 23/100\n",
            "207/207 [==============================] - 6s 30ms/step - loss: 1.6513 - val_loss: 1.8182\n",
            "Epoch 24/100\n",
            "207/207 [==============================] - 6s 31ms/step - loss: 1.6181 - val_loss: 1.7132\n",
            "Epoch 25/100\n",
            "207/207 [==============================] - 6s 30ms/step - loss: 1.6095 - val_loss: 1.7311\n",
            "Epoch 26/100\n",
            "207/207 [==============================] - 6s 30ms/step - loss: 1.6122 - val_loss: 1.7273\n",
            "Epoch 27/100\n",
            "207/207 [==============================] - 6s 30ms/step - loss: 1.5935 - val_loss: 1.7530\n",
            "Epoch 28/100\n",
            "207/207 [==============================] - 6s 31ms/step - loss: 1.5931 - val_loss: 1.6512\n",
            "Epoch 29/100\n",
            "207/207 [==============================] - 6s 31ms/step - loss: 1.5805 - val_loss: 1.7247\n",
            "Epoch 30/100\n",
            "207/207 [==============================] - 6s 31ms/step - loss: 1.5524 - val_loss: 1.7742\n",
            "Epoch 31/100\n",
            "207/207 [==============================] - 6s 30ms/step - loss: 1.5637 - val_loss: 1.6979\n",
            "Epoch 32/100\n",
            "207/207 [==============================] - 6s 30ms/step - loss: 1.5519 - val_loss: 1.7155\n",
            "Epoch 33/100\n",
            "207/207 [==============================] - 6s 30ms/step - loss: 1.5193 - val_loss: 1.7455\n",
            "Epoch 34/100\n",
            "207/207 [==============================] - 6s 30ms/step - loss: 1.5344 - val_loss: 1.7199\n",
            "Epoch 35/100\n",
            "207/207 [==============================] - 6s 30ms/step - loss: 1.5448 - val_loss: 1.7471\n",
            "Epoch 36/100\n",
            "207/207 [==============================] - 6s 30ms/step - loss: 1.5205 - val_loss: 1.6755\n",
            "Epoch 37/100\n",
            "207/207 [==============================] - 6s 30ms/step - loss: 1.5043 - val_loss: 1.6765\n",
            "Epoch 38/100\n",
            "207/207 [==============================] - 6s 30ms/step - loss: 1.4966 - val_loss: 1.7072\n",
            "Epoch 39/100\n",
            "207/207 [==============================] - 6s 30ms/step - loss: 1.4817 - val_loss: 1.6933\n",
            "Epoch 40/100\n",
            "207/207 [==============================] - 6s 30ms/step - loss: 1.4810 - val_loss: 1.7255\n",
            "Epoch 41/100\n",
            "207/207 [==============================] - 6s 31ms/step - loss: 1.4746 - val_loss: 1.6198\n",
            "Epoch 42/100\n",
            "207/207 [==============================] - 6s 30ms/step - loss: 1.4708 - val_loss: 1.6770\n",
            "Epoch 43/100\n",
            "207/207 [==============================] - 6s 30ms/step - loss: 1.4734 - val_loss: 1.6981\n",
            "Epoch 44/100\n",
            "207/207 [==============================] - 6s 30ms/step - loss: 1.4607 - val_loss: 1.7042\n",
            "Epoch 45/100\n",
            "207/207 [==============================] - 6s 31ms/step - loss: 1.4586 - val_loss: 1.5815\n",
            "Epoch 46/100\n",
            "207/207 [==============================] - 6s 30ms/step - loss: 1.4584 - val_loss: 1.7131\n",
            "Epoch 47/100\n",
            "207/207 [==============================] - 6s 30ms/step - loss: 1.4150 - val_loss: 1.7257\n",
            "Epoch 48/100\n",
            "207/207 [==============================] - 6s 30ms/step - loss: 1.4357 - val_loss: 1.5856\n",
            "Epoch 49/100\n",
            "207/207 [==============================] - 6s 30ms/step - loss: 1.4022 - val_loss: 1.6584\n",
            "Epoch 50/100\n",
            "207/207 [==============================] - 6s 30ms/step - loss: 1.4338 - val_loss: 1.6674\n",
            "Epoch 51/100\n",
            "207/207 [==============================] - 6s 30ms/step - loss: 1.4075 - val_loss: 1.6406\n",
            "Epoch 52/100\n",
            "207/207 [==============================] - 6s 30ms/step - loss: 1.4252 - val_loss: 1.7235\n",
            "Epoch 53/100\n",
            "207/207 [==============================] - 6s 30ms/step - loss: 1.4113 - val_loss: 1.6631\n",
            "Epoch 54/100\n",
            "207/207 [==============================] - 6s 30ms/step - loss: 1.3839 - val_loss: 1.6630\n",
            "Epoch 55/100\n",
            "207/207 [==============================] - 6s 30ms/step - loss: 1.4080 - val_loss: 1.6264\n",
            "Epoch 56/100\n",
            "207/207 [==============================] - 6s 30ms/step - loss: 1.3834 - val_loss: 1.6300\n",
            "Epoch 57/100\n",
            "207/207 [==============================] - 6s 30ms/step - loss: 1.3792 - val_loss: 1.6960\n",
            "Epoch 58/100\n",
            "207/207 [==============================] - 6s 30ms/step - loss: 1.4078 - val_loss: 1.6612\n",
            "Epoch 59/100\n",
            "207/207 [==============================] - 6s 30ms/step - loss: 1.3764 - val_loss: 1.6548\n",
            "Epoch 60/100\n",
            "207/207 [==============================] - 6s 31ms/step - loss: 1.3845 - val_loss: 1.6848\n",
            "Epoch 61/100\n",
            "207/207 [==============================] - 6s 31ms/step - loss: 1.3846 - val_loss: 1.6563\n",
            "Epoch 62/100\n",
            "207/207 [==============================] - 6s 31ms/step - loss: 1.3596 - val_loss: 1.6581\n",
            "Epoch 63/100\n",
            "207/207 [==============================] - 6s 30ms/step - loss: 1.3765 - val_loss: 1.6786\n",
            "Epoch 64/100\n",
            "207/207 [==============================] - 6s 30ms/step - loss: 1.3605 - val_loss: 1.6597\n",
            "Epoch 65/100\n",
            "207/207 [==============================] - 6s 30ms/step - loss: 1.3792 - val_loss: 1.6947\n"
          ]
        }
      ],
      "source": [
        "match_model.compile(optimizer=tf.keras.optimizers.Adam(lr=5e-4), loss=sampledsoftmaxloss)\n",
        "early_stop = tf.keras.callbacks.EarlyStopping(monitor='val_loss', patience=20)\n",
        "checkpoint = tf.keras.callbacks.ModelCheckpoint(\n",
        "    filepath='./match_checkpoint/',\n",
        "    save_weights_only=True,\n",
        "    monitor='val_loss',\n",
        "    mode='min',\n",
        "    save_best_only=True)\n",
        "history = match_model.fit(match_train, match_train_label,\n",
        "                            batch_size=BATCH_SIZE, \n",
        "                            epochs=100,\n",
        "                            verbose=1,\n",
        "                            validation_split=0.1,\n",
        "                            callbacks=[early_stop,checkpoint])"
      ]
    },
    {
      "cell_type": "code",
      "execution_count": 16,
      "metadata": {
        "colab": {
          "base_uri": "https://localhost:8080/"
        },
        "id": "AGebkIE0uzM_",
        "outputId": "dd3a26dc-46f5-4611-f94d-b463099050a2"
      },
      "outputs": [
        {
          "output_type": "execute_result",
          "data": {
            "text/plain": [
              "<tensorflow.python.training.tracking.util.CheckpointLoadStatus at 0x7f9bd327a710>"
            ]
          },
          "metadata": {},
          "execution_count": 16
        }
      ],
      "source": [
        "match_model.load_weights('./match_checkpoint/')"
      ]
    },
    {
      "cell_type": "code",
      "execution_count": 17,
      "metadata": {
        "colab": {
          "base_uri": "https://localhost:8080/"
        },
        "id": "G9AxEdKbuzM_",
        "outputId": "f1f26a0b-b111-46eb-b109-11eb8887629e"
      },
      "outputs": [
        {
          "output_type": "stream",
          "name": "stdout",
          "text": [
            "(6040, 128)\n",
            "(3883, 128)\n"
          ]
        }
      ],
      "source": [
        "all_item_model_input = {\"movie_id\": data['item']['movie_id'].values}\n",
        "\n",
        "user_embedding_model = Model(inputs=match_model.user_input, outputs=match_model.user_embedding)\n",
        "item_embedding_model = Model(inputs=match_model.item_input, outputs=match_model.item_embedding)\n",
        "\n",
        "user_embs = user_embedding_model.predict(match_test, batch_size=2 ** 15)\n",
        "item_embs = item_embedding_model.predict(all_item_model_input, batch_size=2 ** 15)\n",
        "\n",
        "print(user_embs.shape)\n",
        "print(item_embs.shape)"
      ]
    },
    {
      "cell_type": "markdown",
      "metadata": {
        "id": "UJ49Jxnf0-1O"
      },
      "source": [
        "# 2. Use Faiss to generate candidates <a name=\"section-2\"></a>"
      ]
    },
    {
      "cell_type": "markdown",
      "metadata": {
        "id": "qEAI8Rl7hzgv"
      },
      "source": [
        "## Test match model"
      ]
    },
    {
      "cell_type": "code",
      "execution_count": 18,
      "metadata": {
        "id": "cr39MwzduzNA"
      },
      "outputs": [],
      "source": [
        "candidates = search_embedding(\n",
        "    MATCH_EMBEDDING_DIM, \n",
        "    item_embs, \n",
        "    user_embs,\n",
        "    data['item']['movie_id'].values,\n",
        "    CANDIDATE_NUM)"
      ]
    },
    {
      "cell_type": "code",
      "execution_count": 19,
      "metadata": {
        "colab": {
          "base_uri": "https://localhost:8080/"
        },
        "id": "ZLc_JPubuzNB",
        "outputId": "d4e3bea7-6a7f-4780-a67e-1cffedd44bb9"
      },
      "outputs": [
        {
          "output_type": "execute_result",
          "data": {
            "text/plain": [
              "0.03653265925575528"
            ]
          },
          "metadata": {},
          "execution_count": 19
        }
      ],
      "source": [
        "map_at_k(match_test_label, candidates, k=10)"
      ]
    },
    {
      "cell_type": "code",
      "execution_count": 20,
      "metadata": {
        "colab": {
          "base_uri": "https://localhost:8080/"
        },
        "id": "kap-zVgguzNC",
        "outputId": "3d645565-40d0-4bf0-d67f-d3858d0182c7"
      },
      "outputs": [
        {
          "output_type": "execute_result",
          "data": {
            "text/plain": [
              "0.08915562913907285"
            ]
          },
          "metadata": {},
          "execution_count": 20
        }
      ],
      "source": [
        "recall_at_k(match_test_label, candidates, k=10)"
      ]
    },
    {
      "cell_type": "code",
      "execution_count": 21,
      "metadata": {
        "colab": {
          "base_uri": "https://localhost:8080/"
        },
        "id": "WyU4hfCihzgw",
        "outputId": "22d9b3a3-019b-4256-e258-177c0386eb27"
      },
      "outputs": [
        {
          "output_type": "execute_result",
          "data": {
            "text/plain": [
              "0.47059602649006627"
            ]
          },
          "metadata": {},
          "execution_count": 21
        }
      ],
      "source": [
        "recall_at_k(match_test_label, candidates, k=100)"
      ]
    },
    {
      "cell_type": "markdown",
      "metadata": {
        "id": "l9L5duhQhzgw"
      },
      "source": [
        "## Prepare data for ranking"
      ]
    },
    {
      "cell_type": "code",
      "execution_count": 22,
      "metadata": {
        "id": "XpXydY19hzgx"
      },
      "outputs": [],
      "source": [
        "test_user_embs = user_embedding_model.predict(match_test, batch_size=2 ** 15)\n",
        "test_candidates = search_embedding(\n",
        "    MATCH_EMBEDDING_DIM, \n",
        "    item_embs, \n",
        "    test_user_embs,\n",
        "    data['item']['movie_id'].values,\n",
        "    CANDIDATE_NUM)\n",
        "\n",
        "test_candidates = {\n",
        "    match_test['user_id'][i] : test_candidates[i]\n",
        "    for i in range(test_candidates.shape[0])\n",
        "}"
      ]
    },
    {
      "cell_type": "code",
      "execution_count": 23,
      "metadata": {
        "colab": {
          "base_uri": "https://localhost:8080/"
        },
        "id": "yynuwvUppia6",
        "outputId": "21c4fa98-4b3c-4cd8-c133-15de5c0f5d94"
      },
      "outputs": [
        {
          "output_type": "execute_result",
          "data": {
            "text/plain": [
              "50"
            ]
          },
          "metadata": {},
          "execution_count": 23
        }
      ],
      "source": [
        "del user_embs, item_embs, match_train, match_train_label, test_user_embs\n",
        "gc.collect()"
      ]
    },
    {
      "cell_type": "code",
      "execution_count": 24,
      "metadata": {
        "colab": {
          "base_uri": "https://localhost:8080/"
        },
        "id": "HzBXnYuwhzgx",
        "outputId": "46a9b2a6-b73d-48a8-9310-a15a901c005c"
      },
      "outputs": [
        {
          "output_type": "stream",
          "name": "stderr",
          "text": [
            "Generate train set: 100%|██████████| 6040/6040 [00:42<00:00, 141.39it/s]\n",
            "100%|██████████| 4/4 [00:05<00:00,  1.47s/it]\n",
            "100%|██████████| 2/2 [00:13<00:00,  6.99s/it]\n"
          ]
        }
      ],
      "source": [
        "rank_dh = MovieRankDataHelper('./ml-1m/')\n",
        "rank_user_features = ['user_id','gender','age','occupation','zip']\n",
        "rank_movie_features = [f for f in data['item'].columns if f != 'title']\n",
        "\n",
        "rank_dh.gen_dataset(rank_user_features+rank_movie_features, data, test_candidates, seq_max_len=SEQ_LEN, negnum=NEG_NUM)"
      ]
    },
    {
      "cell_type": "code",
      "execution_count": 25,
      "metadata": {
        "colab": {
          "base_uri": "https://localhost:8080/"
        },
        "id": "4wQASPHrhzgx",
        "outputId": "123a586b-57df-4624-f71a-5c316ca5eb18"
      },
      "outputs": [
        {
          "output_type": "stream",
          "name": "stderr",
          "text": [
            "Load user Features: 100%|██████████| 8/8 [00:14<00:00,  1.87s/it]\n",
            "Load movie Features: 100%|██████████| 3/3 [00:02<00:00,  1.10it/s]\n"
          ]
        }
      ],
      "source": [
        "rank_train, rank_train_label, rank_test = rank_dh.load_dataset(rank_user_features, rank_movie_features)"
      ]
    },
    {
      "cell_type": "code",
      "execution_count": 26,
      "metadata": {
        "id": "FiPbsPZthzgx"
      },
      "outputs": [],
      "source": [
        "rank_train['example_age_2'] = rank_train['example_age']**2\n",
        "rank_test['example_age_2'] = rank_test['example_age']**2\n",
        "rank_train['time_gap_2'] = rank_train['time_gap']**2\n",
        "rank_train['time_gap_square'] = np.sqrt(rank_train['time_gap'])\n",
        "rank_test['time_gap_2'] = rank_test['time_gap']**2\n",
        "rank_test['time_gap_square'] = np.sqrt(rank_test['time_gap'])"
      ]
    },
    {
      "cell_type": "code",
      "execution_count": 27,
      "metadata": {
        "id": "of_PY0kv9UZx"
      },
      "outputs": [],
      "source": [
        "rank_feature_dim = rank_dh.get_feature_dim(data, rank_user_features, rank_movie_features, [])"
      ]
    },
    {
      "cell_type": "markdown",
      "metadata": {
        "id": "kyApc4cJhzgy"
      },
      "source": [
        "# 3. Train rank model and predict <a name=\"section-3\"></a>"
      ]
    },
    {
      "cell_type": "code",
      "execution_count": 28,
      "metadata": {
        "id": "XVzs-bBwhzgy"
      },
      "outputs": [],
      "source": [
        "rank_user_dense_feats = ['time_gap','time_gap_2','time_gap_square','example_age','example_age_2']\n",
        "rank_user_sparse_feats = ['user_id','gender','age','occupation', 'zip']\n",
        "rank_item_dense_feats = []\n",
        "rank_item_sparse_feats = [f for f in rank_movie_features if f!='genres']"
      ]
    },
    {
      "cell_type": "code",
      "execution_count": 29,
      "metadata": {
        "id": "jT0Lyg0eiVvj"
      },
      "outputs": [],
      "source": [
        "rank_user_features = [SparseFeature(x, rank_feature_dim[x], RANK_EMBEDDING_DIM) for x in rank_user_sparse_feats] +\\\n",
        "                [DenseFeature(x) for x in rank_user_dense_feats] +\\\n",
        "                [SparseSeqFeature(SparseFeature('movie_id', rank_feature_dim['movie_id'], RANK_EMBEDDING_DIM), 'hist_movie_id',SEQ_LEN)]\n",
        "rank_item_feats = [SparseFeature(x, rank_feature_dim[x], RANK_EMBEDDING_DIM) for x in rank_item_sparse_feats] +\\\n",
        "                [DenseFeature(x) for x in rank_item_dense_feats] +\\\n",
        "                [SparseSeqFeature(SparseFeature('genre_id', 19, MATCH_EMBEDDING_DIM), 'genres',6)]"
      ]
    },
    {
      "cell_type": "code",
      "execution_count": 30,
      "metadata": {
        "id": "_uvYZtxBhzgy"
      },
      "outputs": [],
      "source": [
        "rank_model = YouTubeRankDNN(\n",
        "    rank_user_features, rank_item_feats, \n",
        "    dnn_hidden_units=(512,RANK_EMBEDDING_DIM), dnn_dropout=0.2\n",
        ")"
      ]
    },
    {
      "cell_type": "code",
      "execution_count": 31,
      "metadata": {
        "colab": {
          "base_uri": "https://localhost:8080/"
        },
        "id": "H8l7JU3phzgy",
        "outputId": "2f16bc01-f45a-488d-ac38-8332cd2ee10d"
      },
      "outputs": [
        {
          "output_type": "stream",
          "name": "stdout",
          "text": [
            "Epoch 1/50\n",
            "269/269 [==============================] - 48s 166ms/step - loss: 0.4634 - val_loss: 0.1879\n",
            "Epoch 2/50\n",
            "269/269 [==============================] - 43s 161ms/step - loss: 0.4130 - val_loss: 0.1607\n",
            "Epoch 3/50\n",
            "269/269 [==============================] - 43s 161ms/step - loss: 0.3968 - val_loss: 0.1471\n",
            "Epoch 4/50\n",
            "269/269 [==============================] - 43s 161ms/step - loss: 0.3891 - val_loss: 0.1425\n",
            "Epoch 5/50\n",
            "269/269 [==============================] - 43s 162ms/step - loss: 0.3850 - val_loss: 0.1379\n",
            "Epoch 6/50\n",
            "269/269 [==============================] - 43s 161ms/step - loss: 0.3830 - val_loss: 0.1387\n",
            "Epoch 7/50\n",
            "269/269 [==============================] - 43s 161ms/step - loss: 0.3789 - val_loss: 0.1370\n",
            "Epoch 8/50\n",
            "269/269 [==============================] - 43s 161ms/step - loss: 0.3744 - val_loss: 0.1357\n",
            "Epoch 9/50\n",
            "269/269 [==============================] - 43s 161ms/step - loss: 0.3717 - val_loss: 0.1335\n",
            "Epoch 10/50\n",
            "269/269 [==============================] - 43s 162ms/step - loss: 0.3692 - val_loss: 0.1341\n",
            "Epoch 11/50\n",
            "269/269 [==============================] - 43s 161ms/step - loss: 0.3672 - val_loss: 0.1334\n",
            "Epoch 12/50\n",
            "269/269 [==============================] - 43s 161ms/step - loss: 0.3638 - val_loss: 0.1329\n",
            "Epoch 13/50\n",
            "269/269 [==============================] - 43s 161ms/step - loss: 0.3623 - val_loss: 0.1357\n",
            "Epoch 14/50\n",
            "269/269 [==============================] - 43s 161ms/step - loss: 0.3607 - val_loss: 0.1328\n",
            "Epoch 15/50\n",
            "269/269 [==============================] - 43s 161ms/step - loss: 0.3589 - val_loss: 0.1354\n",
            "Epoch 16/50\n",
            "269/269 [==============================] - 43s 160ms/step - loss: 0.3586 - val_loss: 0.1433\n",
            "Epoch 17/50\n",
            "269/269 [==============================] - 43s 161ms/step - loss: 0.3584 - val_loss: 0.1382\n",
            "Epoch 18/50\n",
            "269/269 [==============================] - 43s 160ms/step - loss: 0.3563 - val_loss: 0.1375\n",
            "Epoch 19/50\n",
            "269/269 [==============================] - 43s 161ms/step - loss: 0.3545 - val_loss: 0.1423\n",
            "Epoch 20/50\n",
            "269/269 [==============================] - 43s 161ms/step - loss: 0.3536 - val_loss: 0.1446\n",
            "Epoch 21/50\n",
            "269/269 [==============================] - 43s 161ms/step - loss: 0.3554 - val_loss: 0.1394\n",
            "Epoch 22/50\n",
            "269/269 [==============================] - 43s 161ms/step - loss: 0.3542 - val_loss: 0.1400\n",
            "Epoch 23/50\n",
            "269/269 [==============================] - 43s 161ms/step - loss: 0.3515 - val_loss: 0.1441\n",
            "Epoch 24/50\n",
            "269/269 [==============================] - 43s 161ms/step - loss: 0.3502 - val_loss: 0.1422\n",
            "Epoch 25/50\n",
            "269/269 [==============================] - 43s 161ms/step - loss: 0.3498 - val_loss: 0.1430\n",
            "Epoch 26/50\n",
            "269/269 [==============================] - 43s 160ms/step - loss: 0.3483 - val_loss: 0.1429\n",
            "Epoch 27/50\n",
            "269/269 [==============================] - 43s 161ms/step - loss: 0.3458 - val_loss: 0.1454\n",
            "Epoch 28/50\n",
            "269/269 [==============================] - 43s 161ms/step - loss: 0.3469 - val_loss: 0.1471\n",
            "Epoch 29/50\n",
            "269/269 [==============================] - 43s 161ms/step - loss: 0.3478 - val_loss: 0.1478\n",
            "Epoch 30/50\n",
            "269/269 [==============================] - 43s 161ms/step - loss: 0.3467 - val_loss: 0.1505\n",
            "Epoch 31/50\n",
            "269/269 [==============================] - 43s 161ms/step - loss: 0.3453 - val_loss: 0.1498\n",
            "Epoch 32/50\n",
            "269/269 [==============================] - 43s 161ms/step - loss: 0.3450 - val_loss: 0.1487\n",
            "Epoch 33/50\n",
            "269/269 [==============================] - 43s 161ms/step - loss: 0.3453 - val_loss: 0.1540\n",
            "Epoch 34/50\n",
            "269/269 [==============================] - 43s 161ms/step - loss: 0.3439 - val_loss: 0.1531\n"
          ]
        }
      ],
      "source": [
        "rank_model.compile(optimizer=tf.keras.optimizers.Adam(lr=1e-4), loss=binary_crossentropy)\n",
        "early_stop = tf.keras.callbacks.EarlyStopping(monitor='val_loss', patience=5)\n",
        "checkpoint = tf.keras.callbacks.ModelCheckpoint(\n",
        "    filepath='./rank_checkpoint/',\n",
        "    save_weights_only=True,\n",
        "    monitor='val_loss',\n",
        "    mode='min',\n",
        "    save_best_only=True)\n",
        "history = rank_model.fit(rank_train, rank_train_label,\n",
        "                    batch_size=BATCH_SIZE*8, \n",
        "                    epochs=NEPOCH,\n",
        "                    verbose=1,\n",
        "                    validation_split=0.1,\n",
        "                    callbacks=[early_stop,checkpoint])"
      ]
    },
    {
      "cell_type": "code",
      "execution_count": null,
      "metadata": {
        "id": "w52A7cJ8hzgz"
      },
      "outputs": [],
      "source": [
        "rank_model.load_weights('./rank_checkpoint/')"
      ]
    },
    {
      "cell_type": "code",
      "execution_count": 34,
      "metadata": {
        "colab": {
          "base_uri": "https://localhost:8080/"
        },
        "id": "Fr61KpmewPuB",
        "outputId": "518ddff6-89f3-4c05-cdf3-4f91b930d889"
      },
      "outputs": [
        {
          "output_type": "execute_result",
          "data": {
            "text/plain": [
              "3380"
            ]
          },
          "metadata": {},
          "execution_count": 34
        }
      ],
      "source": [
        "del rank_train\n",
        "gc.collect()"
      ]
    },
    {
      "cell_type": "code",
      "execution_count": 35,
      "metadata": {
        "id": "zUQJ7IdLhzgz"
      },
      "outputs": [],
      "source": [
        "pred = rank_model.predict(rank_test)"
      ]
    },
    {
      "cell_type": "code",
      "execution_count": 36,
      "metadata": {
        "id": "SoCzRNuphzgz"
      },
      "outputs": [],
      "source": [
        "pred_df = pd.DataFrame(columns=['user_id','movie_id','pred'])\n",
        "pred_df['user_id'] = rank_test['user_id']\n",
        "pred_df['movie_id'] = rank_test['movie_id']\n",
        "pred_df['pred'] = pred\n",
        "\n",
        "pred_df = pred_df.sort_values(by=['user_id','pred'], ascending=False).reset_index(drop=True)\n",
        "pred_df = pred_df.groupby('user_id')['movie_id'].apply(list).reset_index()"
      ]
    },
    {
      "cell_type": "code",
      "execution_count": 37,
      "metadata": {
        "id": "rEQ9sQGjhzgz"
      },
      "outputs": [],
      "source": [
        "test_label_df = pd.DataFrame(columns=['user_id','label'])\n",
        "test_label_df['user_id'] = match_test['user_id']\n",
        "test_label_df['label'] = match_test_label.tolist()"
      ]
    },
    {
      "cell_type": "code",
      "execution_count": 38,
      "metadata": {
        "id": "5T_uOn5Ohzgz"
      },
      "outputs": [],
      "source": [
        "test_label_df = pd.merge(test_label_df, pred_df, on=['user_id'], how='left')"
      ]
    },
    {
      "cell_type": "code",
      "execution_count": null,
      "metadata": {
        "id": "0HXT3XxAhzgz"
      },
      "outputs": [],
      "source": [
        "map_at_k(test_label_df['label'], test_label_df['movie_id'], k=10)"
      ]
    },
    {
      "cell_type": "code",
      "execution_count": null,
      "metadata": {
        "id": "HHzj8iJKhzgz"
      },
      "outputs": [],
      "source": [
        "recall_at_k(test_label_df['label'], test_label_df['movie_id'], k=10)"
      ]
    },
    {
      "cell_type": "code",
      "execution_count": null,
      "metadata": {
        "id": "y5L5ijkE-H1x"
      },
      "outputs": [],
      "source": [
        "recall_at_k(test_label_df['label'], test_label_df['movie_id'], k=100)"
      ]
    }
  ],
  "metadata": {
    "accelerator": "GPU",
    "colab": {
      "collapsed_sections": [],
      "name": "YouTubeDNN.ipynb",
      "provenance": []
    },
    "interpreter": {
      "hash": "653a9876bfda977334bab0c6eac4e690c97044cb3c76993a10b084536ae29e50"
    },
    "kernelspec": {
      "display_name": "Python 3.8.5 ('base')",
      "language": "python",
      "name": "python3"
    },
    "language_info": {
      "codemirror_mode": {
        "name": "ipython",
        "version": 3
      },
      "file_extension": ".py",
      "mimetype": "text/x-python",
      "name": "python",
      "nbconvert_exporter": "python",
      "pygments_lexer": "ipython3",
      "version": "3.7.9"
    },
    "orig_nbformat": 4
  },
  "nbformat": 4,
  "nbformat_minor": 0
}