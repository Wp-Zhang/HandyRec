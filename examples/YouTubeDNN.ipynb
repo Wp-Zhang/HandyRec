{
  "cells": [
    {
      "cell_type": "markdown",
      "metadata": {
        "id": "FXD2RCXzuzMx"
      },
      "source": [
        "[![Open In Colab](https://colab.research.google.com/assets/colab-badge.svg)](https://colab.research.google.com/github/Wp-Zhang/HandyRec/blob/master/examples/YouTubeDNN.ipynb)"
      ]
    },
    {
      "cell_type": "markdown",
      "metadata": {
        "id": "OJKT5uytzl7t"
      },
      "source": [
        "> This notebook runs YouTubeDNN including candidate generation and ranking on MovieLens1M dataset. \n",
        "\n",
        "> Only movies with ratings larger than 3 are treated as 'positive' samples for each user. Every last 10 'positive' movies of each user are held out for testing."
      ]
    },
    {
      "cell_type": "markdown",
      "metadata": {
        "id": "YtD_3eG3xekg"
      },
      "source": [
        "## Table of Contents:\n",
        "* [Prepare data for matching](#section-0)\n",
        "* [Train match model and export embeddings](#section-1)\n",
        "* [Use Faiss to generate candidates](#section-2)\n",
        "* [Train rank model and predict](#section-3)"
      ]
    },
    {
      "cell_type": "markdown",
      "metadata": {
        "id": "XFTLC9SQzxK4"
      },
      "source": [
        "**Download dataset and install packages**"
      ]
    },
    {
      "cell_type": "code",
      "execution_count": null,
      "metadata": {
        "colab": {
          "base_uri": "https://localhost:8080/"
        },
        "id": "WSk1WSSpvXfL",
        "outputId": "3c231328-c9c1-44c0-f872-6e30bdab0a1c"
      },
      "outputs": [
        {
          "name": "stdout",
          "output_type": "stream",
          "text": [
            "Cloning into 'HandyRec'...\n",
            "remote: Enumerating objects: 226, done.\u001b[K\n",
            "remote: Counting objects: 100% (226/226), done.\u001b[K\n",
            "remote: Compressing objects: 100% (177/177), done.\u001b[K\n",
            "remote: Total 226 (delta 93), reused 139 (delta 31), pack-reused 0\u001b[K\n",
            "Receiving objects: 100% (226/226), 247.54 KiB | 10.76 MiB/s, done.\n",
            "Resolving deltas: 100% (93/93), done.\n",
            "Collecting faiss-cpu\n",
            "  Downloading faiss_cpu-1.7.2-cp37-cp37m-manylinux_2_17_x86_64.manylinux2014_x86_64.whl (8.6 MB)\n",
            "\u001b[K     |████████████████████████████████| 8.6 MB 8.8 MB/s \n",
            "\u001b[?25hInstalling collected packages: faiss-cpu\n",
            "Successfully installed faiss-cpu-1.7.2\n"
          ]
        }
      ],
      "source": [
        "! git clone https://github.com/Wp-Zhang/HandyRec.git\n",
        "! pip install faiss-cpu"
      ]
    },
    {
      "cell_type": "code",
      "execution_count": null,
      "metadata": {
        "colab": {
          "base_uri": "https://localhost:8080/"
        },
        "id": "uiIqXdbUyCEi",
        "outputId": "c6015bad-0724-45b5-8be7-0787bac8c6ca"
      },
      "outputs": [
        {
          "name": "stdout",
          "output_type": "stream",
          "text": [
            "--2022-03-16 05:57:47--  http://files.grouplens.org/datasets/movielens/ml-1m.zip\n",
            "Resolving files.grouplens.org (files.grouplens.org)... 128.101.65.152\n",
            "Connecting to files.grouplens.org (files.grouplens.org)|128.101.65.152|:80... connected.\n",
            "HTTP request sent, awaiting response... 200 OK\n",
            "Length: 5917549 (5.6M) [application/zip]\n",
            "Saving to: ‘./ml-1m.zip’\n",
            "\n",
            "./ml-1m.zip         100%[===================>]   5.64M  13.4MB/s    in 0.4s    \n",
            "\n",
            "2022-03-16 05:57:48 (13.4 MB/s) - ‘./ml-1m.zip’ saved [5917549/5917549]\n",
            "\n",
            "Archive:  ml-1m.zip\n",
            "   creating: ml-1m/\n",
            "  inflating: ml-1m/movies.dat        \n",
            "  inflating: ml-1m/ratings.dat       \n",
            "  inflating: ml-1m/README            \n",
            "  inflating: ml-1m/users.dat         \n"
          ]
        }
      ],
      "source": [
        "! wget http://files.grouplens.org/datasets/movielens/ml-1m.zip -O ./ml-1m.zip\n",
        "! unzip -o ml-1m.zip"
      ]
    },
    {
      "cell_type": "markdown",
      "metadata": {
        "id": "gsUc0pRE0BEH"
      },
      "source": [
        "**Import relative packages**"
      ]
    },
    {
      "cell_type": "code",
      "execution_count": null,
      "metadata": {
        "id": "PzbZZUXxvxvm"
      },
      "outputs": [],
      "source": [
        "import sys\n",
        "sys.path.append('./HandyRec/')"
      ]
    },
    {
      "cell_type": "code",
      "execution_count": null,
      "metadata": {
        "id": "NlQtiTrmuzM3"
      },
      "outputs": [],
      "source": [
        "from handyrec.dataset.movielens import MovieMatchDataHelper, MovieRankDataHelper\n",
        "from handyrec.layers.utils import sampledsoftmaxloss\n",
        "from handyrec.models.match import YouTubeMatchDNN\n",
        "from handyrec.models.rank import YouTubeRankDNN\n",
        "from handyrec.features import DenseFeature, SparseFeature, SparseSeqFeature\n",
        "from handyrec.dataset.metrics import mapk, recall_at_k\n",
        "from handyrec.models.utils import search_embedding\n",
        "\n",
        "import tensorflow as tf\n",
        "from tensorflow.keras import Model\n",
        "from tensorflow.keras.losses import binary_crossentropy\n",
        "import numpy as np\n",
        "import pandas as pd\n",
        "import gc"
      ]
    },
    {
      "cell_type": "code",
      "execution_count": null,
      "metadata": {
        "id": "iYOxv7-auzM3"
      },
      "outputs": [],
      "source": [
        "import warnings\n",
        "warnings.filterwarnings('ignore')"
      ]
    },
    {
      "cell_type": "code",
      "execution_count": null,
      "metadata": {
        "id": "W8jyTPiz8K13"
      },
      "outputs": [],
      "source": [
        "MATCH_EMBEDDING_DIM = 256\n",
        "RANK_EMBEDDING_DIM = 256\n",
        "SEQ_LEN = 40\n",
        "BATCH_SIZE = 2**12\n",
        "NEPOCH = 50\n",
        "\n",
        "NEG_NUM = 10\n",
        "CANDIDATE_NUM = 100"
      ]
    },
    {
      "cell_type": "markdown",
      "metadata": {
        "id": "MXNUDnO_0VLl"
      },
      "source": [
        "# 0. Prepare data for matching<a name=\"section-0\"></a>"
      ]
    },
    {
      "cell_type": "code",
      "execution_count": null,
      "metadata": {
        "colab": {
          "base_uri": "https://localhost:8080/"
        },
        "id": "wgw6prfluzM5",
        "outputId": "97728a83-5333-46a3-b65b-c7f27529d656"
      },
      "outputs": [
        {
          "name": "stderr",
          "output_type": "stream",
          "text": [
            "Encode User Sparse Feats: 100%|██████████| 4/4 [00:00<00:00, 166.04it/s]\n",
            "Encode Item Sparse Feats: 0it [00:00, ?it/s]\n",
            "Generate train set: 100%|██████████| 6040/6040 [00:08<00:00, 689.42it/s] \n",
            "100%|██████████| 4/4 [00:00<00:00,  4.19it/s]\n",
            "0it [00:00, ?it/s]\n"
          ]
        }
      ],
      "source": [
        "match_dh = MovieMatchDataHelper('./ml-1m/')\n",
        "match_user_features = ['user_id','gender','age','occupation', 'zip']\n",
        "match_movie_features = ['movie_id']\n",
        "\n",
        "data = match_dh.get_clean_data(sparse_features=['gender','age','occupation', 'zip'])\n",
        "match_dh.gen_data_set(match_user_features+match_movie_features, data, seq_max_len=SEQ_LEN)"
      ]
    },
    {
      "cell_type": "code",
      "execution_count": null,
      "metadata": {
        "colab": {
          "base_uri": "https://localhost:8080/"
        },
        "id": "nWhojvyKuzM7",
        "outputId": "cc95c2cb-a688-422c-b821-66f008648249"
      },
      "outputs": [
        {
          "name": "stderr",
          "output_type": "stream",
          "text": [
            "Load user Features: 100%|██████████| 8/8 [00:00<00:00, 139.19it/s]\n",
            "Load movie Features: 100%|██████████| 1/1 [00:00<00:00, 306.87it/s]\n"
          ]
        }
      ],
      "source": [
        "match_train, match_train_label, match_test, match_test_label = match_dh.load_dataset(match_user_features, match_movie_features)"
      ]
    },
    {
      "cell_type": "code",
      "execution_count": null,
      "metadata": {
        "id": "VJR1Ybd18t7g"
      },
      "outputs": [],
      "source": [
        "match_feature_dim = match_dh.get_feature_dim(data, match_user_features, match_movie_features, [])"
      ]
    },
    {
      "cell_type": "markdown",
      "metadata": {
        "id": "wMAdJxpc0x1U"
      },
      "source": [
        "# 1. Train match model and export embeddings <a name=\"section-1\"></a>"
      ]
    },
    {
      "cell_type": "code",
      "execution_count": null,
      "metadata": {
        "id": "VnQIMObLn9U7"
      },
      "outputs": [],
      "source": [
        "# * add example_age^2 as showed in the original paper\n",
        "match_train['example_age_2'] = match_train['example_age']**2\n",
        "match_test['example_age_2'] = match_test['example_age']**2"
      ]
    },
    {
      "cell_type": "code",
      "execution_count": null,
      "metadata": {
        "id": "DBLxg5truzM8"
      },
      "outputs": [],
      "source": [
        "match_user_dense_feats = ['example_age','example_age_2']\n",
        "match_user_sparse_feats = ['user_id','gender','age','occupation', 'zip']"
      ]
    },
    {
      "cell_type": "code",
      "execution_count": null,
      "metadata": {
        "id": "mxDDKxm7uzM9"
      },
      "outputs": [],
      "source": [
        "match_user_features = [SparseFeature(x, match_feature_dim[x], MATCH_EMBEDDING_DIM) for x in match_user_sparse_feats] +\\\n",
        "                [DenseFeature(x) for x in match_user_dense_feats] +\\\n",
        "                [SparseSeqFeature(SparseFeature('movie_id', match_feature_dim['movie_id'], MATCH_EMBEDDING_DIM), 'hist_movie_id',SEQ_LEN)]\n",
        "match_item_id = SparseFeature('movie_id', match_feature_dim['movie_id'], MATCH_EMBEDDING_DIM)"
      ]
    },
    {
      "cell_type": "code",
      "execution_count": null,
      "metadata": {
        "id": "RAFUZ94UuzM-"
      },
      "outputs": [],
      "source": [
        "tf.compat.v1.disable_eager_execution()"
      ]
    },
    {
      "cell_type": "code",
      "execution_count": null,
      "metadata": {
        "colab": {
          "base_uri": "https://localhost:8080/"
        },
        "id": "lKURLYXkuzM-",
        "outputId": "02b81f33-f0a7-464e-ef3f-a70acc05b63b"
      },
      "outputs": [
        {
          "name": "stdout",
          "output_type": "stream",
          "text": [
            "WARNING:tensorflow:From /usr/local/lib/python3.7/dist-packages/keras/layers/normalization/batch_normalization.py:532: _colocate_with (from tensorflow.python.framework.ops) is deprecated and will be removed in a future version.\n",
            "Instructions for updating:\n",
            "Colocations handled automatically by placer.\n"
          ]
        }
      ],
      "source": [
        "match_model = YouTubeMatchDNN(\n",
        "    match_user_features, match_item_id, num_sampled=100, \n",
        "    user_dnn_hidden_units=(1024,512,MATCH_EMBEDDING_DIM), dnn_dropout=0.2\n",
        ")"
      ]
    },
    {
      "cell_type": "code",
      "execution_count": null,
      "metadata": {
        "colab": {
          "base_uri": "https://localhost:8080/"
        },
        "id": "2xizKlTvuzM_",
        "outputId": "beb1e17b-fe6f-4f32-835a-97cc02dca61b"
      },
      "outputs": [
        {
          "name": "stdout",
          "output_type": "stream",
          "text": [
            "Train on 845828 samples, validate on 93981 samples\n",
            "Epoch 1/50\n",
            "845828/845828 [==============================] - 24s 29us/sample - loss: 3.7388 - val_loss: 3.6169\n",
            "Epoch 2/50\n",
            "845828/845828 [==============================] - 16s 19us/sample - loss: 3.1036 - val_loss: 3.2072\n",
            "Epoch 3/50\n",
            "845828/845828 [==============================] - 16s 19us/sample - loss: 2.7556 - val_loss: 2.8066\n",
            "Epoch 4/50\n",
            "845828/845828 [==============================] - 16s 19us/sample - loss: 2.5263 - val_loss: 2.4278\n",
            "Epoch 5/50\n",
            "845828/845828 [==============================] - 17s 20us/sample - loss: 2.4017 - val_loss: 2.3297\n",
            "Epoch 6/50\n",
            "845828/845828 [==============================] - 16s 19us/sample - loss: 2.2508 - val_loss: 2.2447\n",
            "Epoch 7/50\n",
            "845828/845828 [==============================] - 17s 20us/sample - loss: 2.1634 - val_loss: 2.2130\n",
            "Epoch 8/50\n",
            "845828/845828 [==============================] - 16s 19us/sample - loss: 2.0873 - val_loss: 2.1024\n",
            "Epoch 9/50\n",
            "845828/845828 [==============================] - 16s 19us/sample - loss: 2.0591 - val_loss: 2.0688\n",
            "Epoch 10/50\n",
            "845828/845828 [==============================] - 17s 20us/sample - loss: 1.9907 - val_loss: 2.0047\n",
            "Epoch 11/50\n",
            "845828/845828 [==============================] - 18s 22us/sample - loss: 1.9099 - val_loss: 1.9725\n",
            "Epoch 12/50\n",
            "845828/845828 [==============================] - 16s 19us/sample - loss: 1.8803 - val_loss: 1.8968\n",
            "Epoch 13/50\n",
            "845828/845828 [==============================] - 16s 19us/sample - loss: 1.8500 - val_loss: 1.8886\n",
            "Epoch 14/50\n",
            "845828/845828 [==============================] - 16s 19us/sample - loss: 1.8236 - val_loss: 1.9185\n",
            "Epoch 15/50\n",
            "845828/845828 [==============================] - 16s 19us/sample - loss: 1.8065 - val_loss: 1.8561\n",
            "Epoch 16/50\n",
            "845828/845828 [==============================] - 16s 19us/sample - loss: 1.7757 - val_loss: 1.9165\n",
            "Epoch 17/50\n",
            "845828/845828 [==============================] - 16s 19us/sample - loss: 1.7508 - val_loss: 1.7978\n",
            "Epoch 18/50\n",
            "845828/845828 [==============================] - 16s 19us/sample - loss: 1.7439 - val_loss: 1.8050\n",
            "Epoch 19/50\n",
            "845828/845828 [==============================] - 16s 19us/sample - loss: 1.7050 - val_loss: 1.8320\n",
            "Epoch 20/50\n",
            "845828/845828 [==============================] - 16s 19us/sample - loss: 1.7021 - val_loss: 1.7100\n",
            "Epoch 21/50\n",
            "845828/845828 [==============================] - 16s 19us/sample - loss: 1.6596 - val_loss: 1.7164\n",
            "Epoch 22/50\n",
            "845828/845828 [==============================] - 16s 19us/sample - loss: 1.6436 - val_loss: 1.7527\n",
            "Epoch 23/50\n",
            "845828/845828 [==============================] - 16s 19us/sample - loss: 1.6343 - val_loss: 1.7335\n",
            "Epoch 24/50\n",
            "845828/845828 [==============================] - 16s 19us/sample - loss: 1.6049 - val_loss: 1.8133\n",
            "Epoch 25/50\n",
            "845828/845828 [==============================] - 16s 19us/sample - loss: 1.6207 - val_loss: 1.7024\n",
            "Epoch 26/50\n",
            "845828/845828 [==============================] - 16s 19us/sample - loss: 1.5861 - val_loss: 1.7815\n",
            "Epoch 27/50\n",
            "845828/845828 [==============================] - 16s 19us/sample - loss: 1.5877 - val_loss: 1.6858\n",
            "Epoch 28/50\n",
            "845828/845828 [==============================] - 16s 19us/sample - loss: 1.5655 - val_loss: 1.6577\n",
            "Epoch 29/50\n",
            "845828/845828 [==============================] - 16s 19us/sample - loss: 1.5521 - val_loss: 1.7617\n",
            "Epoch 30/50\n",
            "845828/845828 [==============================] - 16s 19us/sample - loss: 1.5589 - val_loss: 1.7466\n",
            "Epoch 31/50\n",
            "845828/845828 [==============================] - 16s 19us/sample - loss: 1.5461 - val_loss: 1.6465\n",
            "Epoch 32/50\n",
            "845828/845828 [==============================] - 16s 19us/sample - loss: 1.5172 - val_loss: 1.6703\n",
            "Epoch 33/50\n",
            "845828/845828 [==============================] - 16s 19us/sample - loss: 1.5380 - val_loss: 1.6356\n",
            "Epoch 34/50\n",
            "845828/845828 [==============================] - 16s 19us/sample - loss: 1.5169 - val_loss: 1.7066\n",
            "Epoch 35/50\n",
            "845828/845828 [==============================] - 16s 19us/sample - loss: 1.5311 - val_loss: 1.7269\n",
            "Epoch 36/50\n",
            "845828/845828 [==============================] - 16s 19us/sample - loss: 1.4894 - val_loss: 1.6761\n",
            "Epoch 37/50\n",
            "845828/845828 [==============================] - 16s 19us/sample - loss: 1.5154 - val_loss: 1.6893\n",
            "Epoch 38/50\n",
            "845828/845828 [==============================] - 16s 19us/sample - loss: 1.4918 - val_loss: 1.7488\n",
            "Epoch 39/50\n",
            "845828/845828 [==============================] - 16s 19us/sample - loss: 1.4535 - val_loss: 1.6645\n",
            "Epoch 40/50\n",
            "845828/845828 [==============================] - 16s 19us/sample - loss: 1.4553 - val_loss: 1.6125\n",
            "Epoch 41/50\n",
            "845828/845828 [==============================] - 16s 19us/sample - loss: 1.4759 - val_loss: 1.6757\n",
            "Epoch 42/50\n",
            "845828/845828 [==============================] - 16s 19us/sample - loss: 1.4482 - val_loss: 1.6754\n",
            "Epoch 43/50\n",
            "845828/845828 [==============================] - 16s 19us/sample - loss: 1.4456 - val_loss: 1.6698\n",
            "Epoch 44/50\n",
            "845828/845828 [==============================] - 16s 19us/sample - loss: 1.4584 - val_loss: 1.6094\n",
            "Epoch 45/50\n",
            "845828/845828 [==============================] - 16s 19us/sample - loss: 1.4471 - val_loss: 1.7310\n",
            "Epoch 46/50\n",
            "845828/845828 [==============================] - 16s 19us/sample - loss: 1.4373 - val_loss: 1.6563\n",
            "Epoch 47/50\n",
            "845828/845828 [==============================] - 16s 19us/sample - loss: 1.4448 - val_loss: 1.7011\n",
            "Epoch 48/50\n",
            "845828/845828 [==============================] - 16s 19us/sample - loss: 1.4203 - val_loss: 1.6921\n",
            "Epoch 49/50\n",
            "845828/845828 [==============================] - 16s 19us/sample - loss: 1.4138 - val_loss: 1.6690\n",
            "Epoch 50/50\n",
            "845828/845828 [==============================] - 16s 19us/sample - loss: 1.4155 - val_loss: 1.6549\n"
          ]
        }
      ],
      "source": [
        "match_model.compile(optimizer=tf.keras.optimizers.Adam(lr=1e-3), loss=sampledsoftmaxloss)\n",
        "early_stop = tf.keras.callbacks.EarlyStopping(monitor='val_loss', patience=20)\n",
        "checkpoint = tf.keras.callbacks.ModelCheckpoint(\n",
        "    filepath='./match_checkpoint/',\n",
        "    save_weights_only=True,\n",
        "    monitor='val_loss',\n",
        "    mode='min',\n",
        "    save_best_only=True)\n",
        "history = match_model.fit(match_train, match_train_label,\n",
        "                            batch_size=BATCH_SIZE, \n",
        "                            epochs=NEPOCH,\n",
        "                            verbose=1,\n",
        "                            validation_split=0.1,\n",
        "                            callbacks=[early_stop,checkpoint])\n",
        "# model.save_weights('youtubematch.h5')"
      ]
    },
    {
      "cell_type": "code",
      "execution_count": null,
      "metadata": {
        "colab": {
          "base_uri": "https://localhost:8080/"
        },
        "id": "AGebkIE0uzM_",
        "outputId": "470808fb-029c-4e94-e587-d6c61ae13f7d"
      },
      "outputs": [
        {
          "data": {
            "text/plain": [
              "<tensorflow.python.training.tracking.util.CheckpointLoadStatus at 0x7f2dcdacf990>"
            ]
          },
          "execution_count": 13,
          "metadata": {},
          "output_type": "execute_result"
        }
      ],
      "source": [
        "# model.load_weights('youtubematch.h5')\n",
        "match_model.load_weights('./match_checkpoint/')"
      ]
    },
    {
      "cell_type": "code",
      "execution_count": null,
      "metadata": {
        "colab": {
          "base_uri": "https://localhost:8080/"
        },
        "id": "G9AxEdKbuzM_",
        "outputId": "4a504cdc-999a-427c-e71a-073051b5c604"
      },
      "outputs": [
        {
          "name": "stdout",
          "output_type": "stream",
          "text": [
            "(6040, 256)\n",
            "(3883, 256)\n"
          ]
        }
      ],
      "source": [
        "all_item_model_input = {\"movie_id\": data['item']['movie_id'].values}\n",
        "\n",
        "user_embedding_model = Model(inputs=match_model.user_input, outputs=match_model.user_embedding)\n",
        "item_embedding_model = Model(inputs=match_model.item_input, outputs=match_model.item_embedding)\n",
        "\n",
        "user_embs = user_embedding_model.predict(match_test, batch_size=2 ** 15)\n",
        "item_embs = item_embedding_model.predict(all_item_model_input, batch_size=2 ** 15)\n",
        "\n",
        "print(user_embs.shape)\n",
        "print(item_embs.shape)"
      ]
    },
    {
      "cell_type": "markdown",
      "metadata": {
        "id": "UJ49Jxnf0-1O"
      },
      "source": [
        "# 2. Use Faiss to generate candidates <a name=\"section-2\"></a>"
      ]
    },
    {
      "cell_type": "markdown",
      "metadata": {
        "id": "qEAI8Rl7hzgv"
      },
      "source": [
        "## Test match model"
      ]
    },
    {
      "cell_type": "code",
      "execution_count": null,
      "metadata": {
        "id": "cr39MwzduzNA"
      },
      "outputs": [],
      "source": [
        "candidates = search_embedding(\n",
        "    MATCH_EMBEDDING_DIM, \n",
        "    item_embs, \n",
        "    user_embs,\n",
        "    data['item']['movie_id'].values,\n",
        "    CANDIDATE_NUM)"
      ]
    },
    {
      "cell_type": "code",
      "execution_count": null,
      "metadata": {
        "colab": {
          "base_uri": "https://localhost:8080/"
        },
        "id": "ZLc_JPubuzNB",
        "outputId": "a82e9666-cc7b-4401-d3d3-cd435be3d4bf"
      },
      "outputs": [
        {
          "data": {
            "text/plain": [
              "0.03744859665720592"
            ]
          },
          "execution_count": 16,
          "metadata": {},
          "output_type": "execute_result"
        }
      ],
      "source": [
        "mapk(match_test_label, candidates, k=10)"
      ]
    },
    {
      "cell_type": "code",
      "execution_count": null,
      "metadata": {
        "colab": {
          "base_uri": "https://localhost:8080/"
        },
        "id": "kap-zVgguzNC",
        "outputId": "b3a4538e-b4a0-4395-a2b5-96f4d4c4a26f"
      },
      "outputs": [
        {
          "data": {
            "text/plain": [
              "0.08903973509933776"
            ]
          },
          "execution_count": 17,
          "metadata": {},
          "output_type": "execute_result"
        }
      ],
      "source": [
        "recall_at_k(match_test_label, candidates, k=10)"
      ]
    },
    {
      "cell_type": "code",
      "execution_count": null,
      "metadata": {
        "colab": {
          "base_uri": "https://localhost:8080/"
        },
        "id": "WyU4hfCihzgw",
        "outputId": "014b9953-f854-4add-8ad0-3f79aeb17f4b"
      },
      "outputs": [
        {
          "data": {
            "text/plain": [
              "0.47832781456953644"
            ]
          },
          "execution_count": 18,
          "metadata": {},
          "output_type": "execute_result"
        }
      ],
      "source": [
        "recall_at_k(match_test_label, candidates, k=100)"
      ]
    },
    {
      "cell_type": "markdown",
      "metadata": {
        "id": "l9L5duhQhzgw"
      },
      "source": [
        "## Prepare data for ranking"
      ]
    },
    {
      "cell_type": "code",
      "execution_count": null,
      "metadata": {
        "id": "XpXydY19hzgx"
      },
      "outputs": [],
      "source": [
        "test_user_embs = user_embedding_model.predict(match_test, batch_size=2 ** 15)\n",
        "test_candidates = search_embedding(\n",
        "    MATCH_EMBEDDING_DIM, \n",
        "    item_embs, \n",
        "    test_user_embs,\n",
        "    data['item']['movie_id'].values,\n",
        "    CANDIDATE_NUM)\n",
        "\n",
        "test_candidates = {\n",
        "    match_test['user_id'][i] : test_candidates[i]\n",
        "    for i in range(test_candidates.shape[0])\n",
        "}"
      ]
    },
    {
      "cell_type": "code",
      "execution_count": null,
      "metadata": {
        "colab": {
          "base_uri": "https://localhost:8080/"
        },
        "id": "yynuwvUppia6",
        "outputId": "efdb52f9-aeb1-440d-bf0a-afcd05abab0e"
      },
      "outputs": [
        {
          "data": {
            "text/plain": [
              "50"
            ]
          },
          "execution_count": 20,
          "metadata": {},
          "output_type": "execute_result"
        }
      ],
      "source": [
        "del user_embs, item_embs, match_train, match_train_label, test_user_embs\n",
        "gc.collect()"
      ]
    },
    {
      "cell_type": "code",
      "execution_count": null,
      "metadata": {
        "colab": {
          "base_uri": "https://localhost:8080/"
        },
        "id": "HzBXnYuwhzgx",
        "outputId": "a4458473-be3a-4c39-9593-1194888f3aa5"
      },
      "outputs": [
        {
          "name": "stderr",
          "output_type": "stream",
          "text": [
            "Generate train set: 100%|██████████| 6040/6040 [00:44<00:00, 135.66it/s]\n",
            "100%|██████████| 4/4 [00:01<00:00,  2.68it/s]\n",
            "100%|██████████| 18/18 [00:08<00:00,  2.18it/s]\n"
          ]
        }
      ],
      "source": [
        "rank_dh = MovieRankDataHelper('./ml-1m/')\n",
        "rank_user_features = ['user_id','gender','age','occupation', 'zip']\n",
        "rank_movie_features = [f for f in data['item'].columns if f != 'title']\n",
        "\n",
        "rank_dh.gen_data_set(rank_user_features+rank_movie_features, data, test_candidates, seq_max_len=SEQ_LEN, negnum=NEG_NUM)"
      ]
    },
    {
      "cell_type": "code",
      "execution_count": null,
      "metadata": {
        "colab": {
          "base_uri": "https://localhost:8080/"
        },
        "id": "4wQASPHrhzgx",
        "outputId": "362ac210-df71-4148-b0a6-ce7f9029e967"
      },
      "outputs": [
        {
          "name": "stderr",
          "output_type": "stream",
          "text": [
            "Load user Features: 100%|██████████| 9/9 [00:18<00:00,  2.01s/it]\n",
            "Load movie Features: 100%|██████████| 19/19 [00:06<00:00,  2.87it/s]\n"
          ]
        }
      ],
      "source": [
        "rank_train, rank_train_label, rank_test = rank_dh.load_dataset(rank_user_features, rank_movie_features)"
      ]
    },
    {
      "cell_type": "code",
      "execution_count": null,
      "metadata": {
        "id": "FiPbsPZthzgx"
      },
      "outputs": [],
      "source": [
        "rank_train['example_age_2'] = rank_train['example_age']**2\n",
        "rank_test['example_age_2'] = rank_test['example_age']**2\n",
        "rank_train['time_gap_2'] = rank_train['time_gap']**2\n",
        "rank_train['time_gap_square'] = np.sqrt(rank_train['time_gap'])\n",
        "rank_test['time_gap_2'] = rank_test['time_gap']**2\n",
        "rank_test['time_gap_square'] = np.sqrt(rank_test['time_gap'])"
      ]
    },
    {
      "cell_type": "code",
      "execution_count": null,
      "metadata": {
        "id": "of_PY0kv9UZx"
      },
      "outputs": [],
      "source": [
        "rank_feature_dim = rank_dh.get_feature_dim(data, rank_user_features, rank_movie_features, [])"
      ]
    },
    {
      "cell_type": "markdown",
      "metadata": {
        "id": "kyApc4cJhzgy"
      },
      "source": [
        "# 3. Train rank model and predict <a name=\"section-3\"></a>"
      ]
    },
    {
      "cell_type": "code",
      "execution_count": null,
      "metadata": {
        "id": "XVzs-bBwhzgy"
      },
      "outputs": [],
      "source": [
        "rank_user_dense_feats = ['time_gap','time_gap_2','time_gap_square','example_age','example_age_2']\n",
        "rank_user_sparse_feats = ['user_id','gender','age','occupation', 'zip']\n",
        "rank_item_dense_feats = [f for f in rank_movie_features if f !='movie_id']\n",
        "rank_item_sparse_feats = ['movie_id']"
      ]
    },
    {
      "cell_type": "code",
      "execution_count": null,
      "metadata": {
        "id": "3kJfgQ9Shzgy"
      },
      "outputs": [],
      "source": [
        "# * change the improper feature name so it can be the name of a tf component\n",
        "for i, k in enumerate(rank_item_dense_feats):\n",
        "    if k == \"Children's\":\n",
        "        rank_item_dense_feats[i] = 'Children'\n",
        "rank_train['Children'] = rank_train.pop(\"Children's\")\n",
        "rank_test['Children'] = rank_test.pop(\"Children's\")"
      ]
    },
    {
      "cell_type": "code",
      "execution_count": null,
      "metadata": {
        "id": "jT0Lyg0eiVvj"
      },
      "outputs": [],
      "source": [
        "rank_user_features = [SparseFeature(x, rank_feature_dim[x], RANK_EMBEDDING_DIM) for x in rank_user_sparse_feats] +\\\n",
        "                [DenseFeature(x) for x in rank_user_dense_feats] +\\\n",
        "                [SparseSeqFeature(SparseFeature('movie_id', rank_feature_dim['movie_id'], RANK_EMBEDDING_DIM), 'hist_movie_id',SEQ_LEN)]\n",
        "rank_item_feats = [SparseFeature(x, rank_feature_dim[x], RANK_EMBEDDING_DIM) for x in rank_item_sparse_feats] +\\\n",
        "                [DenseFeature(x) for x in rank_item_dense_feats]"
      ]
    },
    {
      "cell_type": "code",
      "execution_count": null,
      "metadata": {
        "id": "JPcd9GQVhzgy"
      },
      "outputs": [],
      "source": [
        "tf.compat.v1.disable_eager_execution()"
      ]
    },
    {
      "cell_type": "code",
      "execution_count": null,
      "metadata": {
        "id": "_uvYZtxBhzgy"
      },
      "outputs": [],
      "source": [
        "rank_model = YouTubeRankDNN(\n",
        "    rank_user_features, rank_item_feats, \n",
        "    dnn_hidden_units=(512,RANK_EMBEDDING_DIM), dnn_dropout=0.2\n",
        ")"
      ]
    },
    {
      "cell_type": "code",
      "execution_count": null,
      "metadata": {
        "colab": {
          "base_uri": "https://localhost:8080/"
        },
        "id": "H8l7JU3phzgy",
        "outputId": "5e3e7da4-2631-42b5-a0e1-682340479946"
      },
      "outputs": [
        {
          "name": "stdout",
          "output_type": "stream",
          "text": [
            "Train on 8787214 samples, validate on 1550685 samples\n",
            "Epoch 1/50\n",
            "8787214/8787214 [==============================] - 143s 16us/sample - loss: 3.1168 - val_loss: 1.4307\n",
            "Epoch 2/50\n",
            "8787214/8787214 [==============================] - 140s 16us/sample - loss: 1.9622 - val_loss: 1.6708\n",
            "Epoch 3/50\n",
            "8787214/8787214 [==============================] - 140s 16us/sample - loss: 1.6182 - val_loss: 1.5836\n",
            "Epoch 4/50\n",
            "8787214/8787214 [==============================] - 140s 16us/sample - loss: 1.3860 - val_loss: 1.2270\n",
            "Epoch 5/50\n",
            "8787214/8787214 [==============================] - 140s 16us/sample - loss: 1.1525 - val_loss: 0.9817\n",
            "Epoch 6/50\n",
            "8787214/8787214 [==============================] - 140s 16us/sample - loss: 0.9304 - val_loss: 0.7508\n",
            "Epoch 7/50\n",
            "8787214/8787214 [==============================] - 140s 16us/sample - loss: 0.8319 - val_loss: 0.6486\n",
            "Epoch 8/50\n",
            "8787214/8787214 [==============================] - 140s 16us/sample - loss: 0.7926 - val_loss: 0.6210\n",
            "Epoch 9/50\n",
            "8787214/8787214 [==============================] - 140s 16us/sample - loss: 0.7953 - val_loss: 0.6193\n",
            "Epoch 10/50\n",
            "8787214/8787214 [==============================] - 140s 16us/sample - loss: 0.7742 - val_loss: 0.6038\n",
            "Epoch 11/50\n",
            "8787214/8787214 [==============================] - 140s 16us/sample - loss: 0.7717 - val_loss: 0.6039\n",
            "Epoch 12/50\n",
            "8787214/8787214 [==============================] - 140s 16us/sample - loss: 0.7597 - val_loss: 0.5857\n",
            "Epoch 13/50\n",
            "8787214/8787214 [==============================] - 140s 16us/sample - loss: 0.7509 - val_loss: 0.5702\n",
            "Epoch 14/50\n",
            "8787214/8787214 [==============================] - 140s 16us/sample - loss: 0.7321 - val_loss: 0.5392\n",
            "Epoch 15/50\n",
            "8787214/8787214 [==============================] - 140s 16us/sample - loss: 0.6401 - val_loss: 0.3586\n",
            "Epoch 16/50\n",
            "8787214/8787214 [==============================] - 140s 16us/sample - loss: 0.4864 - val_loss: 0.2292\n",
            "Epoch 17/50\n",
            "8787214/8787214 [==============================] - 140s 16us/sample - loss: 0.4519 - val_loss: 0.1981\n",
            "Epoch 18/50\n",
            "8787214/8787214 [==============================] - 140s 16us/sample - loss: 0.4304 - val_loss: 0.1665\n",
            "Epoch 19/50\n",
            "8787214/8787214 [==============================] - 140s 16us/sample - loss: 0.4063 - val_loss: 0.1512\n",
            "Epoch 20/50\n",
            "8787214/8787214 [==============================] - 140s 16us/sample - loss: 0.3908 - val_loss: 0.1263\n",
            "Epoch 21/50\n",
            "8787214/8787214 [==============================] - 140s 16us/sample - loss: 0.3777 - val_loss: 0.1101\n",
            "Epoch 22/50\n",
            "8787214/8787214 [==============================] - 140s 16us/sample - loss: 0.3661 - val_loss: 0.1006\n",
            "Epoch 23/50\n",
            "8787214/8787214 [==============================] - 140s 16us/sample - loss: 0.3570 - val_loss: 0.0883\n",
            "Epoch 24/50\n",
            "8787214/8787214 [==============================] - 140s 16us/sample - loss: 0.3531 - val_loss: 9.4295\n",
            "Epoch 25/50\n",
            "8787214/8787214 [==============================] - 140s 16us/sample - loss: 0.3858 - val_loss: 0.1056\n",
            "Epoch 26/50\n",
            "8787214/8787214 [==============================] - 140s 16us/sample - loss: 0.3802 - val_loss: 0.1618\n",
            "Epoch 27/50\n",
            "8787214/8787214 [==============================] - 140s 16us/sample - loss: 0.3570 - val_loss: 0.0800\n",
            "Epoch 28/50\n",
            "8787214/8787214 [==============================] - 140s 16us/sample - loss: 0.3512 - val_loss: 0.0779\n",
            "Epoch 29/50\n",
            "8787214/8787214 [==============================] - 140s 16us/sample - loss: 0.3405 - val_loss: 0.0635\n",
            "Epoch 30/50\n",
            "8787214/8787214 [==============================] - 140s 16us/sample - loss: 0.3394 - val_loss: 0.0664\n",
            "Epoch 31/50\n",
            "8787214/8787214 [==============================] - 140s 16us/sample - loss: 0.3376 - val_loss: 0.0732\n",
            "Epoch 32/50\n",
            "8787214/8787214 [==============================] - 140s 16us/sample - loss: 0.3514 - val_loss: 1.1742\n",
            "Epoch 33/50\n",
            "8787214/8787214 [==============================] - 140s 16us/sample - loss: 0.3473 - val_loss: 0.0670\n",
            "Epoch 34/50\n",
            "8787214/8787214 [==============================] - 140s 16us/sample - loss: 0.3293 - val_loss: 0.0567\n",
            "Epoch 35/50\n",
            "8787214/8787214 [==============================] - 140s 16us/sample - loss: 0.3418 - val_loss: 0.0663\n",
            "Epoch 36/50\n",
            "8787214/8787214 [==============================] - 140s 16us/sample - loss: 0.3290 - val_loss: 0.0556\n",
            "Epoch 37/50\n",
            "8787214/8787214 [==============================] - 140s 16us/sample - loss: 0.3250 - val_loss: 0.0554\n",
            "Epoch 38/50\n",
            "8787214/8787214 [==============================] - 140s 16us/sample - loss: 0.3226 - val_loss: 0.0530\n",
            "Epoch 39/50\n",
            "8787214/8787214 [==============================] - 140s 16us/sample - loss: 0.3314 - val_loss: 9.3653\n",
            "Epoch 40/50\n",
            "8787214/8787214 [==============================] - 140s 16us/sample - loss: 0.3692 - val_loss: 9.6983\n",
            "Epoch 41/50\n",
            "8787214/8787214 [==============================] - 140s 16us/sample - loss: 0.3928 - val_loss: 0.0935\n",
            "Epoch 42/50\n",
            "8787214/8787214 [==============================] - 140s 16us/sample - loss: 0.3512 - val_loss: 0.1330\n",
            "Epoch 43/50\n",
            "8787214/8787214 [==============================] - 140s 16us/sample - loss: 0.3561 - val_loss: 0.0632\n",
            "Epoch 44/50\n",
            "8787214/8787214 [==============================] - 140s 16us/sample - loss: 0.3393 - val_loss: 0.0583\n",
            "Epoch 45/50\n",
            "8787214/8787214 [==============================] - 140s 16us/sample - loss: 0.3269 - val_loss: 0.0528\n",
            "Epoch 46/50\n",
            "8787214/8787214 [==============================] - 140s 16us/sample - loss: 0.3673 - val_loss: 0.0766\n",
            "Epoch 47/50\n",
            "8787214/8787214 [==============================] - 140s 16us/sample - loss: 0.3397 - val_loss: 0.0647\n",
            "Epoch 48/50\n",
            "8787214/8787214 [==============================] - 140s 16us/sample - loss: 0.3334 - val_loss: 0.0715\n",
            "Epoch 49/50\n",
            "8787214/8787214 [==============================] - 140s 16us/sample - loss: 0.3309 - val_loss: 0.0627\n",
            "Epoch 50/50\n",
            "8787214/8787214 [==============================] - 140s 16us/sample - loss: 0.3255 - val_loss: 0.0529\n"
          ]
        }
      ],
      "source": [
        "rank_model.compile(optimizer=tf.keras.optimizers.Adam(lr=1e-3), loss=binary_crossentropy)\n",
        "early_stop = tf.keras.callbacks.EarlyStopping(monitor='val_loss', patience=20)\n",
        "# checkpoint = tf.keras.callbacks.ModelCheckpoint(\n",
        "#     filepath='./rank_checkpoint/',\n",
        "#     save_weights_only=True,\n",
        "#     monitor='val_loss',\n",
        "#     mode='min',\n",
        "#     save_best_only=True)\n",
        "history = rank_model.fit(rank_train, rank_train_label,\n",
        "                    batch_size=BATCH_SIZE*8, \n",
        "                    epochs=50,\n",
        "                    verbose=1,\n",
        "                    validation_split=0.15,\n",
        "                    callbacks=[early_stop])\n",
        "rank_model.save_weights('youtuberank.h5')"
      ]
    },
    {
      "cell_type": "code",
      "execution_count": null,
      "metadata": {
        "id": "w52A7cJ8hzgz"
      },
      "outputs": [],
      "source": [
        "rank_model.load_weights('youtuberank.h5')"
      ]
    },
    {
      "cell_type": "code",
      "execution_count": null,
      "metadata": {
        "colab": {
          "base_uri": "https://localhost:8080/"
        },
        "id": "Fr61KpmewPuB",
        "outputId": "f288c04b-f0e5-4ed1-cb36-4cc60799eb8d"
      },
      "outputs": [
        {
          "data": {
            "text/plain": [
              "54"
            ]
          },
          "execution_count": 32,
          "metadata": {},
          "output_type": "execute_result"
        }
      ],
      "source": [
        "del rank_train\n",
        "gc.collect()"
      ]
    },
    {
      "cell_type": "code",
      "execution_count": null,
      "metadata": {
        "id": "zUQJ7IdLhzgz"
      },
      "outputs": [],
      "source": [
        "pred = rank_model.predict(rank_test)"
      ]
    },
    {
      "cell_type": "code",
      "execution_count": null,
      "metadata": {
        "id": "SoCzRNuphzgz"
      },
      "outputs": [],
      "source": [
        "pred_df = pd.DataFrame(columns=['user_id','movie_id','pred'])\n",
        "pred_df['user_id'] = rank_test['user_id']\n",
        "pred_df['movie_id'] = rank_test['movie_id']\n",
        "pred_df['pred'] = pred\n",
        "\n",
        "pred_df = pred_df.sort_values(by=['user_id','pred'], ascending=False).reset_index(drop=True)\n",
        "pred_df = pred_df.groupby('user_id')['movie_id'].apply(list).reset_index()"
      ]
    },
    {
      "cell_type": "code",
      "execution_count": null,
      "metadata": {
        "id": "rEQ9sQGjhzgz"
      },
      "outputs": [],
      "source": [
        "test_label_df = pd.DataFrame(columns=['user_id','label'])\n",
        "test_label_df['user_id'] = match_test['user_id']\n",
        "test_label_df['label'] = match_test_label.tolist()"
      ]
    },
    {
      "cell_type": "code",
      "execution_count": null,
      "metadata": {
        "id": "5T_uOn5Ohzgz"
      },
      "outputs": [],
      "source": [
        "test_label_df = pd.merge(test_label_df, pred_df, on=['user_id'], how='left')"
      ]
    },
    {
      "cell_type": "code",
      "execution_count": null,
      "metadata": {
        "colab": {
          "base_uri": "https://localhost:8080/"
        },
        "id": "0HXT3XxAhzgz",
        "outputId": "31f67400-729e-4a51-924f-8b976f069dbe"
      },
      "outputs": [
        {
          "data": {
            "text/plain": [
              "0.029301672711027016"
            ]
          },
          "execution_count": 37,
          "metadata": {},
          "output_type": "execute_result"
        }
      ],
      "source": [
        "mapk(test_label_df['label'], test_label_df['movie_id'], k=10)"
      ]
    },
    {
      "cell_type": "code",
      "execution_count": null,
      "metadata": {
        "colab": {
          "base_uri": "https://localhost:8080/"
        },
        "id": "HHzj8iJKhzgz",
        "outputId": "b3e06469-317b-40a6-ac54-719d0558becf"
      },
      "outputs": [
        {
          "data": {
            "text/plain": [
              "0.07064569536423841"
            ]
          },
          "execution_count": 38,
          "metadata": {},
          "output_type": "execute_result"
        }
      ],
      "source": [
        "recall_at_k(test_label_df['label'], test_label_df['movie_id'], k=10)"
      ]
    },
    {
      "cell_type": "code",
      "execution_count": null,
      "metadata": {
        "colab": {
          "base_uri": "https://localhost:8080/"
        },
        "id": "y5L5ijkE-H1x",
        "outputId": "22b5e4a6-6539-407d-f838-f3051d9b803b"
      },
      "outputs": [
        {
          "data": {
            "text/plain": [
              "0.47832781456953644"
            ]
          },
          "execution_count": 39,
          "metadata": {},
          "output_type": "execute_result"
        }
      ],
      "source": [
        "recall_at_k(test_label_df['label'], test_label_df['movie_id'], k=100)"
      ]
    }
  ],
  "metadata": {
    "accelerator": "GPU",
    "colab": {
      "collapsed_sections": [],
      "name": "YouTubeDNN.ipynb",
      "provenance": []
    },
    "interpreter": {
      "hash": "653a9876bfda977334bab0c6eac4e690c97044cb3c76993a10b084536ae29e50"
    },
    "kernelspec": {
      "display_name": "Python 3.8.5 ('base')",
      "language": "python",
      "name": "python3"
    },
    "language_info": {
      "codemirror_mode": {
        "name": "ipython",
        "version": 3
      },
      "file_extension": ".py",
      "mimetype": "text/x-python",
      "name": "python",
      "nbconvert_exporter": "python",
      "pygments_lexer": "ipython3",
      "version": "3.7.9"
    },
    "orig_nbformat": 4
  },
  "nbformat": 4,
  "nbformat_minor": 0
}
