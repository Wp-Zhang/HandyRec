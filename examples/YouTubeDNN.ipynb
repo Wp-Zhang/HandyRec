{
  "cells": [
    {
      "cell_type": "markdown",
      "metadata": {
        "id": "FXD2RCXzuzMx"
      },
      "source": [
        "[![Open In Colab](https://colab.research.google.com/assets/colab-badge.svg)](https://colab.research.google.com/github/Wp-Zhang/HandyRec/blob/master/examples/YouTubeDNN.ipynb)"
      ]
    },
    {
      "cell_type": "markdown",
      "metadata": {
        "id": "OJKT5uytzl7t"
      },
      "source": [
        "> This notebook runs YouTubeDNN including candidate generation and ranking on MovieLens1M dataset. \n",
        "\n",
        "> Only movies with ratings greater than 3 are treated as 'positive' samples for each user. Every last 10 'positive' movies of each user are held out for testing."
      ]
    },
    {
      "cell_type": "markdown",
      "metadata": {
        "id": "YtD_3eG3xekg"
      },
      "source": [
        "## Table of Contents:\n",
        "* [Prepare data for retrieval](#section-0)\n",
        "* [Train retrieve model and export embeddings](#section-1)\n",
        "* [Use Faiss to generate candidates](#section-2)\n",
        "* [Train rank model and predict](#section-3)"
      ]
    },
    {
      "cell_type": "markdown",
      "metadata": {
        "id": "XFTLC9SQzxK4"
      },
      "source": [
        "**Download dataset and install packages**"
      ]
    },
    {
      "cell_type": "code",
      "execution_count": 1,
      "metadata": {
        "colab": {
          "base_uri": "https://localhost:8080/"
        },
        "id": "WSk1WSSpvXfL",
        "outputId": "96865376-48d9-4a50-f83c-91e47a8be24a"
      },
      "outputs": [
        {
          "output_type": "stream",
          "name": "stdout",
          "text": [
            "Cloning into 'HandyRec'...\n",
            "remote: Enumerating objects: 1704, done.\u001b[K\n",
            "remote: Counting objects: 100% (1704/1704), done.\u001b[K\n",
            "remote: Compressing objects: 100% (1269/1269), done.\u001b[K\n",
            "remote: Total 1704 (delta 682), reused 1309 (delta 383), pack-reused 0\u001b[K\n",
            "Receiving objects: 100% (1704/1704), 20.92 MiB | 27.50 MiB/s, done.\n",
            "Resolving deltas: 100% (682/682), done.\n",
            "Collecting faiss-cpu\n",
            "  Downloading faiss_cpu-1.7.2-cp37-cp37m-manylinux_2_17_x86_64.manylinux2014_x86_64.whl (8.6 MB)\n",
            "\u001b[K     |████████████████████████████████| 8.6 MB 10.3 MB/s \n",
            "\u001b[?25hInstalling collected packages: faiss-cpu\n",
            "Successfully installed faiss-cpu-1.7.2\n"
          ]
        }
      ],
      "source": [
        "! git clone https://github.com/Wp-Zhang/HandyRec.git\n",
        "! pip install faiss-cpu"
      ]
    },
    {
      "cell_type": "code",
      "execution_count": 2,
      "metadata": {
        "colab": {
          "base_uri": "https://localhost:8080/"
        },
        "id": "uiIqXdbUyCEi",
        "outputId": "b8bb6913-bac5-49b5-8722-6f1d2bbd35df"
      },
      "outputs": [
        {
          "output_type": "stream",
          "name": "stdout",
          "text": [
            "--2022-04-15 22:18:21--  https://files.grouplens.org/datasets/movielens/ml-1m.zip\n",
            "Resolving files.grouplens.org (files.grouplens.org)... 128.101.65.152\n",
            "Connecting to files.grouplens.org (files.grouplens.org)|128.101.65.152|:443... connected.\n",
            "HTTP request sent, awaiting response... 200 OK\n",
            "Length: 5917549 (5.6M) [application/zip]\n",
            "Saving to: ‘./ml-1m.zip’\n",
            "\n",
            "./ml-1m.zip         100%[===================>]   5.64M  6.92MB/s    in 0.8s    \n",
            "\n",
            "2022-04-15 22:18:23 (6.92 MB/s) - ‘./ml-1m.zip’ saved [5917549/5917549]\n",
            "\n",
            "Archive:  ml-1m.zip\n",
            "   creating: ml-1m/\n",
            "  inflating: ml-1m/movies.dat        \n",
            "  inflating: ml-1m/ratings.dat       \n",
            "  inflating: ml-1m/README            \n",
            "  inflating: ml-1m/users.dat         \n"
          ]
        }
      ],
      "source": [
        "! wget https://files.grouplens.org/datasets/movielens/ml-1m.zip -O ./ml-1m.zip\n",
        "! unzip -o ml-1m.zip"
      ]
    },
    {
      "cell_type": "markdown",
      "metadata": {
        "id": "gsUc0pRE0BEH"
      },
      "source": [
        "**Import relative packages**"
      ]
    },
    {
      "cell_type": "code",
      "execution_count": 3,
      "metadata": {
        "id": "PzbZZUXxvxvm"
      },
      "outputs": [],
      "source": [
        "import sys\n",
        "sys.path.append('./HandyRec/')"
      ]
    },
    {
      "cell_type": "code",
      "execution_count": 4,
      "metadata": {
        "id": "NlQtiTrmuzM3"
      },
      "outputs": [],
      "source": [
        "from handyrec.data.movielens import MovielensDataHelper\n",
        "from handyrec.data.utils import gen_sequence\n",
        "from handyrec.data import PointWiseDataset\n",
        "\n",
        "from handyrec.layers.utils import sampledsoftmaxloss\n",
        "from handyrec.models.retrieval import YouTubeMatchDNN\n",
        "from handyrec.models.ranking import YouTubeRankDNN\n",
        "from handyrec.features import DenseFeature, SparseFeature, SparseSeqFeature, FeatureGroup, EmbdFeatureGroup, FeaturePool\n",
        "from handyrec.data.metrics import map_at_k, recall_at_k\n",
        "from handyrec.models.utils import search_embedding\n",
        "\n",
        "import tensorflow as tf\n",
        "from tensorflow.keras import Model\n",
        "from tensorflow.keras.losses import binary_crossentropy\n",
        "from tensorflow.keras.utils import plot_model\n",
        "import numpy as np\n",
        "import pandas as pd\n",
        "import gc"
      ]
    },
    {
      "cell_type": "code",
      "execution_count": 5,
      "metadata": {
        "id": "iYOxv7-auzM3"
      },
      "outputs": [],
      "source": [
        "import warnings\n",
        "warnings.filterwarnings('ignore')"
      ]
    },
    {
      "cell_type": "code",
      "execution_count": 6,
      "metadata": {
        "id": "W8jyTPiz8K13"
      },
      "outputs": [],
      "source": [
        "RETRIEVAL_EMBEDDING_DIM = 64\n",
        "RANK_EMBEDDING_DIM = 64\n",
        "SEQ_LEN = 40\n",
        "BATCH_SIZE = 2**12\n",
        "NEPOCH = 50\n",
        "\n",
        "TEST_NUM = 10\n",
        "VALID_RATIO = 0.1\n",
        "NEG_NUM = 10\n",
        "CANDIDATE_NUM = 100"
      ]
    },
    {
      "cell_type": "markdown",
      "metadata": {
        "id": "eee7ogIugZI1"
      },
      "source": [
        "**Load MovieLens1M data**"
      ]
    },
    {
      "cell_type": "code",
      "execution_count": 7,
      "metadata": {
        "colab": {
          "base_uri": "https://localhost:8080/"
        },
        "id": "bwNXcq6hgZI2",
        "outputId": "09c55cae-72f8-4f6f-cab1-b817a820e3be"
      },
      "outputs": [
        {
          "output_type": "stream",
          "name": "stderr",
          "text": [
            "Encode User Sparse Feats: 100%|██████████| 4/4 [00:00<00:00, 52.13it/s]\n",
            "Encode Item Sparse Feats: 100%|██████████| 1/1 [00:00<00:00, 150.30it/s]\n",
            "Generate movie_id sequence: 100%|██████████| 6040/6040 [00:07<00:00, 805.68it/s] \n"
          ]
        }
      ],
      "source": [
        "retrieve_dh = MovielensDataHelper('./ml-1m/')\n",
        "data = retrieve_dh.get_clean_data(sparse_features=['gender','occupation','zip','age','year'])\n",
        "data['inter']['hist_movie'] = gen_sequence(data['inter'], 'user_id', 'movie_id', SEQ_LEN)"
      ]
    },
    {
      "cell_type": "markdown",
      "metadata": {
        "id": "MXNUDnO_0VLl"
      },
      "source": [
        "# 0. Prepare data for retrieval<a name=\"section-0\"></a>"
      ]
    },
    {
      "cell_type": "code",
      "execution_count": 8,
      "metadata": {
        "id": "2gszyQDwgZI5"
      },
      "outputs": [],
      "source": [
        "user_features = ['user_id', 'gender', 'occupation']\n",
        "item_features = ['movie_id','genres']\n",
        "inter_features = ['hist_movie']"
      ]
    },
    {
      "cell_type": "code",
      "execution_count": 9,
      "metadata": {
        "colab": {
          "base_uri": "https://localhost:8080/"
        },
        "id": "wgw6prfluzM5",
        "outputId": "663977e9-7da5-4be8-d407-32b82db772ee"
      },
      "outputs": [
        {
          "output_type": "stream",
          "name": "stderr",
          "text": [
            "Save user features: 100%|██████████| 3/3 [00:02<00:00,  1.32it/s]\n",
            "Save item features: 100%|██████████| 2/2 [00:01<00:00,  1.04it/s]\n",
            "Save inter features: 100%|██████████| 2/2 [00:03<00:00,  1.75s/it]\n"
          ]
        }
      ],
      "source": [
        "retrieval_dataset = PointWiseDataset(\n",
        "    \"RetrievalDataset\",\n",
        "    task=\"retrieval\",\n",
        "    data=data,\n",
        "    uid_name=\"user_id\",\n",
        "    iid_name=\"movie_id\",\n",
        "    inter_name=\"interact\",\n",
        "    time_name=\"timestamp\",\n",
        "    threshold=4,\n",
        ")\n",
        "\n",
        "retrieval_dataset.train_test_split(TEST_NUM)\n",
        "retrieval_dataset.train_valid_split(VALID_RATIO)\n",
        "retrieval_dataset.gen_dataset(user_features, item_features, inter_features, shuffle=False)"
      ]
    },
    {
      "cell_type": "code",
      "execution_count": 10,
      "metadata": {
        "colab": {
          "base_uri": "https://localhost:8080/"
        },
        "id": "nWhojvyKuzM7",
        "outputId": "e710102c-27d2-4414-ee9e-8b2e9811ea33"
      },
      "outputs": [
        {
          "output_type": "stream",
          "name": "stderr",
          "text": [
            "Load user features: 100%|██████████| 3/3 [00:02<00:00,  1.48it/s]\n",
            "Load item features: 100%|██████████| 2/2 [00:01<00:00,  1.47it/s]\n",
            "Load inter features: 100%|██████████| 2/2 [00:01<00:00,  1.43it/s]\n"
          ]
        }
      ],
      "source": [
        "train_data, valid_data, test_data, test_label = retrieval_dataset.load_dataset(\n",
        "    user_features, item_features, inter_features, BATCH_SIZE\n",
        ")"
      ]
    },
    {
      "cell_type": "code",
      "execution_count": 11,
      "metadata": {
        "id": "VJR1Ybd18t7g"
      },
      "outputs": [],
      "source": [
        "feature_dim = retrieval_dataset.get_feature_dim(user_features, item_features, [])"
      ]
    },
    {
      "cell_type": "markdown",
      "metadata": {
        "id": "wMAdJxpc0x1U"
      },
      "source": [
        "# 1. Train retrieve model and export embeddings <a name=\"section-1\"></a>"
      ]
    },
    {
      "cell_type": "code",
      "execution_count": 12,
      "metadata": {
        "id": "sR3E1PiPgZI9"
      },
      "outputs": [],
      "source": [
        "feat_pool1 = FeaturePool()"
      ]
    },
    {
      "cell_type": "code",
      "execution_count": 13,
      "metadata": {
        "id": "P7hlK1PCgZI9"
      },
      "outputs": [],
      "source": [
        "all_item_model_input = {f:np.array(data['item'][f].tolist()) for f in item_features}\n",
        "\n",
        "retrieve_item_features = [SparseFeature('movie_id', feature_dim['movie_id'], RETRIEVAL_EMBEDDING_DIM)] +\\\n",
        "                [SparseSeqFeature(SparseFeature('genre_id', 19, RETRIEVAL_EMBEDDING_DIM), 'genres',6)]\n",
        "item_feature_group = EmbdFeatureGroup(\n",
        "    name='item', \n",
        "    id_name='movie_id', \n",
        "    features=retrieve_item_features, \n",
        "    feature_pool=feat_pool1, \n",
        "    value_dict=all_item_model_input,\n",
        "    embd_dim=RETRIEVAL_EMBEDDING_DIM\n",
        ")"
      ]
    },
    {
      "cell_type": "code",
      "execution_count": 14,
      "metadata": {
        "id": "RmzV_6_NgZI-"
      },
      "outputs": [],
      "source": [
        "retrieve_user_features = [SparseFeature(x, feature_dim[x], RETRIEVAL_EMBEDDING_DIM) for x in user_features] +\\\n",
        "                [SparseSeqFeature(SparseFeature('movie_id', feature_dim['movie_id'], RETRIEVAL_EMBEDDING_DIM), 'hist_movie', SEQ_LEN)]\n",
        "user_feature_group = FeatureGroup('user', retrieve_user_features, feat_pool1)"
      ]
    },
    {
      "cell_type": "code",
      "execution_count": 15,
      "metadata": {
        "id": "lKURLYXkuzM-"
      },
      "outputs": [],
      "source": [
        "retrieve_model = YouTubeMatchDNN(\n",
        "    user_feature_group, item_feature_group,\n",
        "    dnn_hidden_units=(512,256,RETRIEVAL_EMBEDDING_DIM), \n",
        "    dnn_dropout=0.1,\n",
        "    dnn_bn=True,\n",
        "    num_sampled=CANDIDATE_NUM\n",
        ")"
      ]
    },
    {
      "cell_type": "code",
      "execution_count": 16,
      "metadata": {
        "colab": {
          "base_uri": "https://localhost:8080/",
          "height": 599
        },
        "id": "AQDtzo-4sw16",
        "outputId": "b7c0f153-1f8b-4bd4-b596-9f8ad7ee77a8"
      },
      "outputs": [
        {
          "output_type": "execute_result",
          "data": {
            "text/plain": [
              "<IPython.core.display.Image object>"
            ],
            "image/png": "[encoded data removed]"
          },
          "metadata": {},
          "execution_count": 16
        }
      ],
      "source": [
        "plot_model(retrieve_model)"
      ]
    },
    {
      "cell_type": "code",
      "execution_count": 17,
      "metadata": {
        "colab": {
          "base_uri": "https://localhost:8080/"
        },
        "id": "2xizKlTvuzM_",
        "outputId": "c7427c6e-9d08-4cdb-f7b5-9c5678a4d3f4"
      },
      "outputs": [
        {
          "output_type": "stream",
          "name": "stdout",
          "text": [
            "Epoch 1/50\n",
            "114/114 [==============================] - 9s 33ms/step - loss: 3.3991 - val_loss: 3.5591\n",
            "Epoch 2/50\n",
            "114/114 [==============================] - 4s 30ms/step - loss: 2.2769 - val_loss: 3.3094\n",
            "Epoch 3/50\n",
            "114/114 [==============================] - 4s 30ms/step - loss: 1.9994 - val_loss: 2.7827\n",
            "Epoch 4/50\n",
            "114/114 [==============================] - 4s 31ms/step - loss: 1.7179 - val_loss: 2.2174\n",
            "Epoch 5/50\n",
            "114/114 [==============================] - 4s 31ms/step - loss: 1.5026 - val_loss: 1.7505\n",
            "Epoch 6/50\n",
            "114/114 [==============================] - 4s 31ms/step - loss: 1.3347 - val_loss: 1.6683\n",
            "Epoch 7/50\n",
            "114/114 [==============================] - 4s 30ms/step - loss: 1.2148 - val_loss: 1.2885\n",
            "Epoch 8/50\n",
            "114/114 [==============================] - 4s 31ms/step - loss: 1.0939 - val_loss: 1.1472\n",
            "Epoch 9/50\n",
            "114/114 [==============================] - 3s 30ms/step - loss: 1.0809 - val_loss: 1.1599\n",
            "Epoch 10/50\n",
            "114/114 [==============================] - 4s 31ms/step - loss: 0.9739 - val_loss: 1.0729\n",
            "Epoch 11/50\n",
            "114/114 [==============================] - 4s 31ms/step - loss: 0.9009 - val_loss: 1.0300\n",
            "Epoch 12/50\n",
            "114/114 [==============================] - 4s 31ms/step - loss: 0.8546 - val_loss: 0.9090\n",
            "Epoch 13/50\n",
            "114/114 [==============================] - 4s 32ms/step - loss: 0.8232 - val_loss: 0.9685\n",
            "Epoch 14/50\n",
            "114/114 [==============================] - 4s 31ms/step - loss: 0.7911 - val_loss: 0.8578\n",
            "Epoch 15/50\n",
            "114/114 [==============================] - 4s 30ms/step - loss: 0.7744 - val_loss: 0.8939\n",
            "Epoch 16/50\n",
            "114/114 [==============================] - 4s 31ms/step - loss: 0.7421 - val_loss: 0.8476\n",
            "Epoch 17/50\n",
            "114/114 [==============================] - 4s 33ms/step - loss: 0.7068 - val_loss: 0.7984\n",
            "Epoch 18/50\n",
            "114/114 [==============================] - 4s 30ms/step - loss: 0.7009 - val_loss: 0.8628\n",
            "Epoch 19/50\n",
            "114/114 [==============================] - 4s 30ms/step - loss: 0.6794 - val_loss: 0.8358\n",
            "Epoch 20/50\n",
            "114/114 [==============================] - 4s 31ms/step - loss: 0.6358 - val_loss: 0.7654\n",
            "Epoch 21/50\n",
            "114/114 [==============================] - 3s 30ms/step - loss: 0.6518 - val_loss: 0.7893\n",
            "Epoch 22/50\n",
            "114/114 [==============================] - 3s 30ms/step - loss: 0.5962 - val_loss: 0.7661\n",
            "Epoch 23/50\n",
            "114/114 [==============================] - 4s 31ms/step - loss: 0.6183 - val_loss: 0.7649\n",
            "Epoch 24/50\n",
            "114/114 [==============================] - 4s 31ms/step - loss: 0.5861 - val_loss: 0.7077\n",
            "Epoch 25/50\n",
            "114/114 [==============================] - 4s 31ms/step - loss: 0.5714 - val_loss: 0.7024\n",
            "Epoch 26/50\n",
            "114/114 [==============================] - 4s 30ms/step - loss: 0.5590 - val_loss: 0.7210\n",
            "Epoch 27/50\n",
            "114/114 [==============================] - 4s 31ms/step - loss: 0.5661 - val_loss: 0.6902\n",
            "Epoch 28/50\n",
            "114/114 [==============================] - 4s 31ms/step - loss: 0.5270 - val_loss: 0.6496\n",
            "Epoch 29/50\n",
            "114/114 [==============================] - 3s 30ms/step - loss: 0.5318 - val_loss: 0.6990\n",
            "Epoch 30/50\n",
            "114/114 [==============================] - 4s 31ms/step - loss: 0.5132 - val_loss: 0.7118\n",
            "Epoch 31/50\n",
            "114/114 [==============================] - 4s 31ms/step - loss: 0.5074 - val_loss: 0.6413\n",
            "Epoch 32/50\n",
            "114/114 [==============================] - 4s 31ms/step - loss: 0.4931 - val_loss: 0.6213\n",
            "Epoch 33/50\n",
            "114/114 [==============================] - 3s 30ms/step - loss: 0.4983 - val_loss: 0.6477\n",
            "Epoch 34/50\n",
            "114/114 [==============================] - 4s 31ms/step - loss: 0.4855 - val_loss: 0.5650\n",
            "Epoch 35/50\n",
            "114/114 [==============================] - 3s 30ms/step - loss: 0.4700 - val_loss: 0.6402\n",
            "Epoch 36/50\n",
            "114/114 [==============================] - 3s 30ms/step - loss: 0.4689 - val_loss: 0.6361\n",
            "Epoch 37/50\n",
            "114/114 [==============================] - 4s 30ms/step - loss: 0.4402 - val_loss: 0.5992\n",
            "Epoch 38/50\n",
            "114/114 [==============================] - 3s 30ms/step - loss: 0.4431 - val_loss: 0.6263\n",
            "Epoch 39/50\n",
            "114/114 [==============================] - 3s 30ms/step - loss: 0.4530 - val_loss: 0.6214\n"
          ]
        }
      ],
      "source": [
        "retrieve_model.compile(optimizer=tf.keras.optimizers.Adam(lr=5e-4), loss=sampledsoftmaxloss)\n",
        "early_stop = tf.keras.callbacks.EarlyStopping(monitor='val_loss', patience=5)\n",
        "checkpoint = tf.keras.callbacks.ModelCheckpoint(\n",
        "    filepath='./retrieve_checkpoint/',\n",
        "    save_weights_only=True,\n",
        "    monitor='val_loss',\n",
        "    mode='min',\n",
        "    save_best_only=True\n",
        ")\n",
        "history = retrieve_model.fit(\n",
        "    x=train_data,\n",
        "    validation_data=valid_data,\n",
        "    epochs=NEPOCH,\n",
        "    callbacks=[early_stop, checkpoint],\n",
        ")"
      ]
    },
    {
      "cell_type": "code",
      "execution_count": 18,
      "metadata": {
        "colab": {
          "base_uri": "https://localhost:8080/"
        },
        "id": "AGebkIE0uzM_",
        "outputId": "b0cabc6a-9e1d-4ff3-fac7-ed39506e3ba2"
      },
      "outputs": [
        {
          "output_type": "execute_result",
          "data": {
            "text/plain": [
              "<tensorflow.python.training.tracking.util.CheckpointLoadStatus at 0x7fe53b793710>"
            ]
          },
          "metadata": {},
          "execution_count": 18
        }
      ],
      "source": [
        "retrieve_model.load_weights('./retrieve_checkpoint/')"
      ]
    },
    {
      "cell_type": "code",
      "execution_count": 19,
      "metadata": {
        "colab": {
          "base_uri": "https://localhost:8080/"
        },
        "id": "G9AxEdKbuzM_",
        "outputId": "621470d0-e35d-4ebe-d433-e907a1a2cfaf"
      },
      "outputs": [
        {
          "output_type": "stream",
          "name": "stdout",
          "text": [
            "(5923, 64)\n",
            "(3883, 64)\n"
          ]
        }
      ],
      "source": [
        "user_embedding_model = Model(inputs=retrieve_model.user_input, outputs=retrieve_model.user_embedding)\n",
        "item_embedding_model = Model(inputs=retrieve_model.item_input, outputs=retrieve_model.item_embedding)\n",
        "\n",
        "user_embs = user_embedding_model.predict(test_data, batch_size=2 ** 15)\n",
        "item_embs = item_embedding_model.predict(all_item_model_input, batch_size=2 ** 15)\n",
        "\n",
        "print(user_embs.shape)\n",
        "print(item_embs.shape)"
      ]
    },
    {
      "cell_type": "markdown",
      "metadata": {
        "id": "UJ49Jxnf0-1O"
      },
      "source": [
        "# 2. Use Faiss to generate candidates <a name=\"section-2\"></a>"
      ]
    },
    {
      "cell_type": "markdown",
      "metadata": {
        "id": "qEAI8Rl7hzgv"
      },
      "source": [
        "## Test retrieve model"
      ]
    },
    {
      "cell_type": "code",
      "execution_count": 20,
      "metadata": {
        "id": "cr39MwzduzNA"
      },
      "outputs": [],
      "source": [
        "candidates = search_embedding(\n",
        "    RETRIEVAL_EMBEDDING_DIM, \n",
        "    item_embs, \n",
        "    user_embs,\n",
        "    data['item']['movie_id'].values,\n",
        "    CANDIDATE_NUM)"
      ]
    },
    {
      "cell_type": "code",
      "execution_count": 21,
      "metadata": {
        "colab": {
          "base_uri": "https://localhost:8080/"
        },
        "id": "ZLc_JPubuzNB",
        "outputId": "bdda718a-0d9a-488a-d2fb-27bf8a559dd9"
      },
      "outputs": [
        {
          "output_type": "execute_result",
          "data": {
            "text/plain": [
              "0.01265619095857151"
            ]
          },
          "metadata": {},
          "execution_count": 21
        }
      ],
      "source": [
        "map_at_k(test_label, candidates, k=10)"
      ]
    },
    {
      "cell_type": "code",
      "execution_count": 22,
      "metadata": {
        "colab": {
          "base_uri": "https://localhost:8080/"
        },
        "id": "kap-zVgguzNC",
        "outputId": "f190ab29-1876-4151-e7ca-167c5df17a3e"
      },
      "outputs": [
        {
          "output_type": "execute_result",
          "data": {
            "text/plain": [
              "0.03290562215093703"
            ]
          },
          "metadata": {},
          "execution_count": 22
        }
      ],
      "source": [
        "recall_at_k(test_label, candidates, k=10)"
      ]
    },
    {
      "cell_type": "code",
      "execution_count": 23,
      "metadata": {
        "colab": {
          "base_uri": "https://localhost:8080/"
        },
        "id": "WyU4hfCihzgw",
        "outputId": "5f81f90e-3169-49b9-e75e-c502213d48b2"
      },
      "outputs": [
        {
          "output_type": "execute_result",
          "data": {
            "text/plain": [
              "0.12984973830828975"
            ]
          },
          "metadata": {},
          "execution_count": 23
        }
      ],
      "source": [
        "recall_at_k(test_label, candidates, k=100)"
      ]
    },
    {
      "cell_type": "markdown",
      "metadata": {
        "id": "l9L5duhQhzgw"
      },
      "source": [
        "## Prepare data for ranking"
      ]
    },
    {
      "cell_type": "code",
      "execution_count": 24,
      "metadata": {
        "id": "XpXydY19hzgx"
      },
      "outputs": [],
      "source": [
        "test_user_embs = user_embedding_model.predict(test_data, batch_size=2 ** 15)\n",
        "test_candidates = search_embedding(\n",
        "    RETRIEVAL_EMBEDDING_DIM, \n",
        "    item_embs, \n",
        "    test_user_embs,\n",
        "    data['item']['movie_id'].values,\n",
        "    CANDIDATE_NUM)\n",
        "\n",
        "test_candidates = {\n",
        "    test_data['user_id'][i] : test_candidates[i]\n",
        "    for i in range(test_candidates.shape[0])\n",
        "}"
      ]
    },
    {
      "cell_type": "code",
      "execution_count": 25,
      "metadata": {
        "colab": {
          "base_uri": "https://localhost:8080/"
        },
        "id": "yynuwvUppia6",
        "outputId": "0a678e39-d888-4633-c75c-0675a2b9abdf"
      },
      "outputs": [
        {
          "output_type": "execute_result",
          "data": {
            "text/plain": [
              "7945"
            ]
          },
          "metadata": {},
          "execution_count": 25
        }
      ],
      "source": [
        "del user_embs, item_embs, train_data, test_user_embs\n",
        "gc.collect()"
      ]
    },
    {
      "cell_type": "code",
      "execution_count": 26,
      "metadata": {
        "id": "hgGAvx-lgZJF"
      },
      "outputs": [],
      "source": [
        "user_features = ['user_id', 'gender', 'occupation', 'zip', 'age']\n",
        "item_features = ['movie_id', 'year', 'genres']\n",
        "inter_features = ['hist_movie']"
      ]
    },
    {
      "cell_type": "code",
      "execution_count": 27,
      "metadata": {
        "colab": {
          "base_uri": "https://localhost:8080/"
        },
        "id": "LHhcEiY_gZJG",
        "outputId": "b36c2e51-5690-468c-a3e2-9e522afc1056"
      },
      "outputs": [
        {
          "output_type": "stream",
          "name": "stderr",
          "text": [
            "Generate negative samples: 100%|██████████| 5923/5923 [00:08<00:00, 732.76it/s]\n",
            "Regenerate test set: 100%|██████████| 5923/5923 [00:00<00:00, 664460.86it/s]\n",
            "Save user features: 100%|██████████| 5/5 [00:29<00:00,  5.81s/it]\n",
            "Save item features: 100%|██████████| 3/3 [00:26<00:00,  8.95s/it]\n",
            "Save inter features: 100%|██████████| 2/2 [00:35<00:00, 17.99s/it]\n"
          ]
        }
      ],
      "source": [
        "ranking_dataset = PointWiseDataset(\n",
        "    \"RankingDataset\",\n",
        "    task=\"ranking\",\n",
        "    data=data,\n",
        "    uid_name=\"user_id\",\n",
        "    iid_name=\"movie_id\",\n",
        "    inter_name=\"interact\",\n",
        "    time_name=\"timestamp\",\n",
        "    threshold=4,\n",
        ")\n",
        "\n",
        "ranking_dataset.train_test_split(TEST_NUM)\n",
        "ranking_dataset.negative_sampling(NEG_NUM)\n",
        "ranking_dataset.train_valid_split(VALID_RATIO)\n",
        "ranking_dataset.gen_dataset(user_features, item_features, inter_features, test_candidates)"
      ]
    },
    {
      "cell_type": "code",
      "execution_count": 28,
      "metadata": {
        "colab": {
          "base_uri": "https://localhost:8080/"
        },
        "id": "4wQASPHrhzgx",
        "outputId": "05bd3e13-0eec-412f-ae10-65aada2d561a"
      },
      "outputs": [
        {
          "output_type": "stream",
          "name": "stderr",
          "text": [
            "Load user features: 100%|██████████| 5/5 [00:03<00:00,  1.41it/s]\n",
            "Load item features: 100%|██████████| 3/3 [00:02<00:00,  1.31it/s]\n",
            "Load inter features: 100%|██████████| 2/2 [00:01<00:00,  1.03it/s]\n"
          ]
        }
      ],
      "source": [
        "train_data, valid_data, test_data, test_label = ranking_dataset.load_dataset(\n",
        "    user_features, item_features, inter_features, BATCH_SIZE\n",
        ")"
      ]
    },
    {
      "cell_type": "code",
      "execution_count": 29,
      "metadata": {
        "id": "of_PY0kv9UZx"
      },
      "outputs": [],
      "source": [
        "feature_dim = ranking_dataset.get_feature_dim(user_features, item_features, [])"
      ]
    },
    {
      "cell_type": "markdown",
      "metadata": {
        "id": "kyApc4cJhzgy"
      },
      "source": [
        "# 3. Train rank model and predict <a name=\"section-3\"></a>"
      ]
    },
    {
      "cell_type": "code",
      "execution_count": 30,
      "metadata": {
        "id": "7tSWHejxBULW"
      },
      "outputs": [],
      "source": [
        "feat_pool2 = FeaturePool()"
      ]
    },
    {
      "cell_type": "code",
      "execution_count": 31,
      "metadata": {
        "id": "jT0Lyg0eiVvj"
      },
      "outputs": [],
      "source": [
        "rank_user_features = [SparseFeature(x, feature_dim[x], RANK_EMBEDDING_DIM) for x in user_features] +\\\n",
        "                [SparseSeqFeature(SparseFeature('movie_id', feature_dim['movie_id'], RANK_EMBEDDING_DIM), 'hist_movie',SEQ_LEN)]\n",
        "user_feature_group = FeatureGroup('user', rank_user_features, feat_pool2)"
      ]
    },
    {
      "cell_type": "code",
      "execution_count": 32,
      "metadata": {
        "id": "GT_FjYacBULW"
      },
      "outputs": [],
      "source": [
        "rank_item_feats = [SparseFeature(x, feature_dim[x], RANK_EMBEDDING_DIM) for x in item_features[:-1]] +\\\n",
        "                [SparseSeqFeature(SparseFeature('genre_id', 19, RANK_EMBEDDING_DIM), 'genres',6)]\n",
        "item_feature_group = FeatureGroup('item', rank_item_feats, feat_pool2)"
      ]
    },
    {
      "cell_type": "code",
      "execution_count": 33,
      "metadata": {
        "id": "_uvYZtxBhzgy"
      },
      "outputs": [],
      "source": [
        "rank_model = YouTubeRankDNN(\n",
        "    user_feature_group, item_feature_group, \n",
        "    dnn_hidden_units=(512,RANK_EMBEDDING_DIM), dnn_dropout=0.2\n",
        ")"
      ]
    },
    {
      "cell_type": "code",
      "execution_count": 34,
      "metadata": {
        "colab": {
          "base_uri": "https://localhost:8080/",
          "height": 323
        },
        "id": "huHdcNW5s3ih",
        "outputId": "f35e7bd9-4a72-4d44-b8da-6935bfd487fa"
      },
      "outputs": [
        {
          "output_type": "execute_result",
          "data": {
            "text/plain": [
              "<IPython.core.display.Image object>"
            ],
            "image/png": "[encoded data removed]"
          },
          "metadata": {},
          "execution_count": 34
        }
      ],
      "source": [
        "plot_model(rank_model)"
      ]
    },
    {
      "cell_type": "code",
      "execution_count": 35,
      "metadata": {
        "colab": {
          "base_uri": "https://localhost:8080/"
        },
        "id": "H8l7JU3phzgy",
        "outputId": "7e88dc16-6d61-42eb-a774-3303d90fff01"
      },
      "outputs": [
        {
          "output_type": "stream",
          "name": "stdout",
          "text": [
            "Epoch 1/50\n",
            "1246/1246 [==============================] - 45s 34ms/step - loss: 0.4776 - val_loss: 0.2210\n",
            "Epoch 2/50\n",
            "1246/1246 [==============================] - 43s 35ms/step - loss: 0.4484 - val_loss: 0.1951\n",
            "Epoch 3/50\n",
            "1246/1246 [==============================] - 43s 34ms/step - loss: 0.4069 - val_loss: 0.1416\n",
            "Epoch 4/50\n",
            "1246/1246 [==============================] - 43s 34ms/step - loss: 0.3782 - val_loss: 0.1180\n",
            "Epoch 5/50\n",
            "1246/1246 [==============================] - 43s 34ms/step - loss: 0.3617 - val_loss: 0.1060\n",
            "Epoch 6/50\n",
            "1246/1246 [==============================] - 43s 35ms/step - loss: 0.3519 - val_loss: 0.0977\n",
            "Epoch 7/50\n",
            "1246/1246 [==============================] - 43s 34ms/step - loss: 0.3441 - val_loss: 0.0902\n",
            "Epoch 8/50\n",
            "1246/1246 [==============================] - 43s 34ms/step - loss: 0.3389 - val_loss: 0.0872\n",
            "Epoch 9/50\n",
            "1246/1246 [==============================] - 43s 35ms/step - loss: 0.3347 - val_loss: 0.0825\n",
            "Epoch 10/50\n",
            "1246/1246 [==============================] - 43s 34ms/step - loss: 0.3331 - val_loss: 0.0829\n",
            "Epoch 11/50\n",
            "1246/1246 [==============================] - 43s 35ms/step - loss: 0.3300 - val_loss: 0.0820\n",
            "Epoch 12/50\n",
            "1246/1246 [==============================] - 43s 34ms/step - loss: 0.3267 - val_loss: 0.0796\n",
            "Epoch 13/50\n",
            "1246/1246 [==============================] - 43s 34ms/step - loss: 0.3244 - val_loss: 0.0771\n",
            "Epoch 14/50\n",
            "1246/1246 [==============================] - 43s 34ms/step - loss: 0.3227 - val_loss: 0.0766\n",
            "Epoch 15/50\n",
            "1246/1246 [==============================] - 43s 34ms/step - loss: 0.3216 - val_loss: 0.0747\n",
            "Epoch 16/50\n",
            "1246/1246 [==============================] - 43s 34ms/step - loss: 0.3187 - val_loss: 0.0745\n",
            "Epoch 17/50\n",
            "1246/1246 [==============================] - 43s 34ms/step - loss: 0.3184 - val_loss: 0.0759\n",
            "Epoch 18/50\n",
            "1246/1246 [==============================] - 43s 34ms/step - loss: 0.3163 - val_loss: 0.0737\n",
            "Epoch 19/50\n",
            "1246/1246 [==============================] - 43s 34ms/step - loss: 0.3160 - val_loss: 0.0734\n",
            "Epoch 20/50\n",
            "1246/1246 [==============================] - 43s 34ms/step - loss: 0.3132 - val_loss: 0.0742\n",
            "Epoch 21/50\n",
            "1246/1246 [==============================] - 43s 35ms/step - loss: 0.3131 - val_loss: 0.0734\n",
            "Epoch 22/50\n",
            "1246/1246 [==============================] - 43s 34ms/step - loss: 0.3114 - val_loss: 0.0729\n",
            "Epoch 23/50\n",
            "1246/1246 [==============================] - 43s 34ms/step - loss: 0.3128 - val_loss: 0.0739\n",
            "Epoch 24/50\n",
            "1246/1246 [==============================] - 43s 34ms/step - loss: 0.3111 - val_loss: 0.0740\n",
            "Epoch 25/50\n",
            "1246/1246 [==============================] - 43s 34ms/step - loss: 0.3094 - val_loss: 0.0742\n",
            "Epoch 26/50\n",
            "1246/1246 [==============================] - 42s 34ms/step - loss: 0.3103 - val_loss: 0.0747\n",
            "Epoch 27/50\n",
            "1246/1246 [==============================] - 43s 34ms/step - loss: 0.3080 - val_loss: 0.0736\n"
          ]
        }
      ],
      "source": [
        "rank_model.compile(optimizer=tf.keras.optimizers.Adam(lr=1e-4), loss=binary_crossentropy)\n",
        "early_stop = tf.keras.callbacks.EarlyStopping(monitor='val_loss', patience=5)\n",
        "checkpoint = tf.keras.callbacks.ModelCheckpoint(\n",
        "    filepath='./rank_checkpoint/',\n",
        "    save_weights_only=True,\n",
        "    monitor='val_loss',\n",
        "    mode='min',\n",
        "    save_best_only=True\n",
        ")\n",
        "history = rank_model.fit(\n",
        "    x=train_data, \n",
        "    validation_data=valid_data,\n",
        "    epochs=NEPOCH,\n",
        "    callbacks=[early_stop,checkpoint]\n",
        ")"
      ]
    },
    {
      "cell_type": "code",
      "execution_count": 36,
      "metadata": {
        "colab": {
          "base_uri": "https://localhost:8080/"
        },
        "id": "w52A7cJ8hzgz",
        "outputId": "ec0b1f85-2caa-4e25-d5b5-bbb557fd77fa"
      },
      "outputs": [
        {
          "output_type": "execute_result",
          "data": {
            "text/plain": [
              "<tensorflow.python.training.tracking.util.CheckpointLoadStatus at 0x7fe53b7a4c10>"
            ]
          },
          "metadata": {},
          "execution_count": 36
        }
      ],
      "source": [
        "rank_model.load_weights('./rank_checkpoint/')"
      ]
    },
    {
      "cell_type": "code",
      "execution_count": 37,
      "metadata": {
        "colab": {
          "base_uri": "https://localhost:8080/"
        },
        "id": "Fr61KpmewPuB",
        "outputId": "90aec5e7-7236-4cdc-a550-160578ac7906"
      },
      "outputs": [
        {
          "output_type": "execute_result",
          "data": {
            "text/plain": [
              "2144"
            ]
          },
          "metadata": {},
          "execution_count": 37
        }
      ],
      "source": [
        "del train_data\n",
        "gc.collect()"
      ]
    },
    {
      "cell_type": "code",
      "execution_count": 38,
      "metadata": {
        "id": "zUQJ7IdLhzgz"
      },
      "outputs": [],
      "source": [
        "pred = rank_model.predict(test_data, batch_size=BATCH_SIZE)"
      ]
    },
    {
      "cell_type": "code",
      "execution_count": 39,
      "metadata": {
        "id": "SoCzRNuphzgz"
      },
      "outputs": [],
      "source": [
        "pred_df = pd.DataFrame(columns=['user_id','movie_id','pred'])\n",
        "pred_df['user_id'] = test_data['user_id']\n",
        "pred_df['movie_id'] = test_data['movie_id']\n",
        "pred_df['pred'] = pred\n",
        "\n",
        "pred_df = pred_df.sort_values(by=['user_id','pred'], ascending=False).reset_index(drop=True)\n",
        "pred_df = pred_df.groupby('user_id')['movie_id'].apply(list).reset_index()"
      ]
    },
    {
      "cell_type": "code",
      "execution_count": 40,
      "metadata": {
        "id": "rEQ9sQGjhzgz"
      },
      "outputs": [],
      "source": [
        "test_label_df = pd.DataFrame(columns=['user_id','label'])\n",
        "test_label_df['user_id'] = pd.Series(test_data['user_id']).drop_duplicates()\n",
        "test_label_df['label'] = test_label.tolist()"
      ]
    },
    {
      "cell_type": "code",
      "execution_count": 41,
      "metadata": {
        "id": "5T_uOn5Ohzgz"
      },
      "outputs": [],
      "source": [
        "test_label_df = pd.merge(test_label_df, pred_df, on=['user_id'], how='left')"
      ]
    },
    {
      "cell_type": "code",
      "execution_count": 42,
      "metadata": {
        "colab": {
          "base_uri": "https://localhost:8080/"
        },
        "id": "0HXT3XxAhzgz",
        "outputId": "f0e93ca3-85a0-4070-91b2-3e26cbaea0f3"
      },
      "outputs": [
        {
          "output_type": "execute_result",
          "data": {
            "text/plain": [
              "0.017648298668896337"
            ]
          },
          "metadata": {},
          "execution_count": 42
        }
      ],
      "source": [
        "map_at_k(test_label_df['label'], test_label_df['movie_id'], k=10)"
      ]
    },
    {
      "cell_type": "code",
      "execution_count": 43,
      "metadata": {
        "colab": {
          "base_uri": "https://localhost:8080/"
        },
        "id": "HHzj8iJKhzgz",
        "outputId": "f163819c-110e-47bb-80fb-987222cef941"
      },
      "outputs": [
        {
          "output_type": "execute_result",
          "data": {
            "text/plain": [
              "0.0468006078001013"
            ]
          },
          "metadata": {},
          "execution_count": 43
        }
      ],
      "source": [
        "recall_at_k(test_label_df['label'], test_label_df['movie_id'], k=10)"
      ]
    },
    {
      "cell_type": "code",
      "execution_count": 44,
      "metadata": {
        "colab": {
          "base_uri": "https://localhost:8080/"
        },
        "id": "y5L5ijkE-H1x",
        "outputId": "d90b49ef-7dc8-46ca-eeed-38b725d885f2"
      },
      "outputs": [
        {
          "output_type": "execute_result",
          "data": {
            "text/plain": [
              "0.12984973830828975"
            ]
          },
          "metadata": {},
          "execution_count": 44
        }
      ],
      "source": [
        "recall_at_k(test_label_df['label'], test_label_df['movie_id'], k=100)"
      ]
    }
  ],
  "metadata": {
    "accelerator": "GPU",
    "colab": {
      "collapsed_sections": [],
      "name": "YouTubeDNN.ipynb",
      "provenance": []
    },
    "interpreter": {
      "hash": "653a9876bfda977334bab0c6eac4e690c97044cb3c76993a10b084536ae29e50"
    },
    "kernelspec": {
      "display_name": "Python 3.8.5 ('base')",
      "language": "python",
      "name": "python3"
    },
    "language_info": {
      "codemirror_mode": {
        "name": "ipython",
        "version": 3
      },
      "file_extension": ".py",
      "mimetype": "text/x-python",
      "name": "python",
      "nbconvert_exporter": "python",
      "pygments_lexer": "ipython3",
      "version": "3.7.11"
    }
  },
  "nbformat": 4,
  "nbformat_minor": 0
}