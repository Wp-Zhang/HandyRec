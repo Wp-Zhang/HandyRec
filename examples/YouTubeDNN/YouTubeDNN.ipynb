{
  "cells": [
    {
      "cell_type": "markdown",
      "metadata": {
        "id": "FXD2RCXzuzMx"
      },
      "source": [
        "[![Open In Colab](https://colab.research.google.com/assets/colab-badge.svg)](https://colab.research.google.com/github/Wp-Zhang/HandyRec/blob/master/examples/YouTubeDNN/YouTubeDNN.ipynb)"
      ]
    },
    {
      "cell_type": "markdown",
      "metadata": {
        "id": "OJKT5uytzl7t"
      },
      "source": [
        "> This notebook runs YouTubeDNN including candidate generation and ranking on MovieLens1M dataset. \n",
        "\n",
        "> Only movies with ratings greater than 3 are treated as 'positive' samples for each user. Every last 10 'positive' movies of each user are held out for testing."
      ]
    },
    {
      "cell_type": "markdown",
      "metadata": {
        "id": "YtD_3eG3xekg"
      },
      "source": [
        "## Table of Contents:\n",
        "* [Prepare data for retrieval](#section-0)\n",
        "* [Train retrieve model and export embeddings](#section-1)\n",
        "* [Use Faiss to generate candidates](#section-2)\n",
        "* [Train rank model and predict](#section-3)"
      ]
    },
    {
      "cell_type": "markdown",
      "metadata": {
        "id": "XFTLC9SQzxK4"
      },
      "source": [
        "**Download dataset and install packages**"
      ]
    },
    {
      "cell_type": "code",
      "execution_count": 1,
      "metadata": {
        "colab": {
          "base_uri": "https://localhost:8080/"
        },
        "id": "IQJFgoACnAKv",
        "outputId": "2866d6bd-a04f-42af-a9c5-d64f8c24a647"
      },
      "outputs": [
        {
          "name": "stdout",
          "output_type": "stream",
          "text": [
            "fatal: destination path 'HandyRec' already exists and is not an empty directory.\n",
            "running install\n",
            "running bdist_egg\n",
            "running egg_info\n",
            "writing handyrec.egg-info/PKG-INFO\n",
            "writing dependency_links to handyrec.egg-info/dependency_links.txt\n",
            "writing requirements to handyrec.egg-info/requires.txt\n",
            "writing top-level names to handyrec.egg-info/top_level.txt\n",
            "adding license file 'LICENSE'\n",
            "writing manifest file 'handyrec.egg-info/SOURCES.txt'\n",
            "installing library code to build/bdist.linux-x86_64/egg\n",
            "running install_lib\n",
            "running build_py\n",
            "creating build/bdist.linux-x86_64/egg\n",
            "creating build/bdist.linux-x86_64/egg/handyrec\n",
            "copying build/lib/handyrec/config.py -> build/bdist.linux-x86_64/egg/handyrec\n",
            "copying build/lib/handyrec/__init__.py -> build/bdist.linux-x86_64/egg/handyrec\n",
            "creating build/bdist.linux-x86_64/egg/handyrec/models\n",
            "copying build/lib/handyrec/models/__init__.py -> build/bdist.linux-x86_64/egg/handyrec/models\n",
            "creating build/bdist.linux-x86_64/egg/handyrec/models/ranking\n",
            "copying build/lib/handyrec/models/ranking/__init__.py -> build/bdist.linux-x86_64/egg/handyrec/models/ranking\n",
            "creating build/bdist.linux-x86_64/egg/handyrec/models/ranking/context_aware\n",
            "copying build/lib/handyrec/models/ranking/context_aware/__init__.py -> build/bdist.linux-x86_64/egg/handyrec/models/ranking/context_aware\n",
            "copying build/lib/handyrec/models/ranking/context_aware/YouTubeRankDNN.py -> build/bdist.linux-x86_64/egg/handyrec/models/ranking/context_aware\n",
            "copying build/lib/handyrec/models/ranking/context_aware/DeepFM.py -> build/bdist.linux-x86_64/egg/handyrec/models/ranking/context_aware\n",
            "creating build/bdist.linux-x86_64/egg/handyrec/models/ranking/sequential\n",
            "copying build/lib/handyrec/models/ranking/sequential/__init__.py -> build/bdist.linux-x86_64/egg/handyrec/models/ranking/sequential\n",
            "copying build/lib/handyrec/models/ranking/sequential/FMLPRec.py -> build/bdist.linux-x86_64/egg/handyrec/models/ranking/sequential\n",
            "copying build/lib/handyrec/models/ranking/sequential/DIN.py -> build/bdist.linux-x86_64/egg/handyrec/models/ranking/sequential\n",
            "copying build/lib/handyrec/models/ranking/sequential/DIEN.py -> build/bdist.linux-x86_64/egg/handyrec/models/ranking/sequential\n",
            "copying build/lib/handyrec/models/utils.py -> build/bdist.linux-x86_64/egg/handyrec/models\n",
            "creating build/bdist.linux-x86_64/egg/handyrec/models/retrieval\n",
            "copying build/lib/handyrec/models/retrieval/__init__.py -> build/bdist.linux-x86_64/egg/handyrec/models/retrieval\n",
            "copying build/lib/handyrec/models/retrieval/YouTubeMatchDNN.py -> build/bdist.linux-x86_64/egg/handyrec/models/retrieval\n",
            "copying build/lib/handyrec/models/retrieval/DSSM.py -> build/bdist.linux-x86_64/egg/handyrec/models/retrieval\n",
            "creating build/bdist.linux-x86_64/egg/handyrec/layers\n",
            "copying build/lib/handyrec/layers/core.py -> build/bdist.linux-x86_64/egg/handyrec/layers\n",
            "copying build/lib/handyrec/layers/__init__.py -> build/bdist.linux-x86_64/egg/handyrec/layers\n",
            "copying build/lib/handyrec/layers/activation.py -> build/bdist.linux-x86_64/egg/handyrec/layers\n",
            "copying build/lib/handyrec/layers/tools.py -> build/bdist.linux-x86_64/egg/handyrec/layers\n",
            "copying build/lib/handyrec/layers/sequence.py -> build/bdist.linux-x86_64/egg/handyrec/layers\n",
            "copying build/lib/handyrec/layers/interaction.py -> build/bdist.linux-x86_64/egg/handyrec/layers\n",
            "copying build/lib/handyrec/layers/utils.py -> build/bdist.linux-x86_64/egg/handyrec/layers\n",
            "creating build/bdist.linux-x86_64/egg/handyrec/data\n",
            "copying build/lib/handyrec/data/__init__.py -> build/bdist.linux-x86_64/egg/handyrec/data\n",
            "copying build/lib/handyrec/data/datahelper.py -> build/bdist.linux-x86_64/egg/handyrec/data\n",
            "copying build/lib/handyrec/data/dataset.py -> build/bdist.linux-x86_64/egg/handyrec/data\n",
            "copying build/lib/handyrec/data/metrics.py -> build/bdist.linux-x86_64/egg/handyrec/data\n",
            "copying build/lib/handyrec/data/utils.py -> build/bdist.linux-x86_64/egg/handyrec/data\n",
            "copying build/lib/handyrec/data/movielens.py -> build/bdist.linux-x86_64/egg/handyrec/data\n",
            "creating build/bdist.linux-x86_64/egg/handyrec/features\n",
            "copying build/lib/handyrec/features/__init__.py -> build/bdist.linux-x86_64/egg/handyrec/features\n",
            "copying build/lib/handyrec/features/type.py -> build/bdist.linux-x86_64/egg/handyrec/features\n",
            "copying build/lib/handyrec/features/group.py -> build/bdist.linux-x86_64/egg/handyrec/features\n",
            "copying build/lib/handyrec/features/utils.py -> build/bdist.linux-x86_64/egg/handyrec/features\n",
            "byte-compiling build/bdist.linux-x86_64/egg/handyrec/config.py to config.cpython-37.pyc\n",
            "byte-compiling build/bdist.linux-x86_64/egg/handyrec/__init__.py to __init__.cpython-37.pyc\n",
            "byte-compiling build/bdist.linux-x86_64/egg/handyrec/models/__init__.py to __init__.cpython-37.pyc\n",
            "byte-compiling build/bdist.linux-x86_64/egg/handyrec/models/ranking/__init__.py to __init__.cpython-37.pyc\n",
            "byte-compiling build/bdist.linux-x86_64/egg/handyrec/models/ranking/context_aware/__init__.py to __init__.cpython-37.pyc\n",
            "byte-compiling build/bdist.linux-x86_64/egg/handyrec/models/ranking/context_aware/YouTubeRankDNN.py to YouTubeRankDNN.cpython-37.pyc\n",
            "byte-compiling build/bdist.linux-x86_64/egg/handyrec/models/ranking/context_aware/DeepFM.py to DeepFM.cpython-37.pyc\n",
            "byte-compiling build/bdist.linux-x86_64/egg/handyrec/models/ranking/sequential/__init__.py to __init__.cpython-37.pyc\n",
            "byte-compiling build/bdist.linux-x86_64/egg/handyrec/models/ranking/sequential/FMLPRec.py to FMLPRec.cpython-37.pyc\n",
            "byte-compiling build/bdist.linux-x86_64/egg/handyrec/models/ranking/sequential/DIN.py to DIN.cpython-37.pyc\n",
            "byte-compiling build/bdist.linux-x86_64/egg/handyrec/models/ranking/sequential/DIEN.py to DIEN.cpython-37.pyc\n",
            "byte-compiling build/bdist.linux-x86_64/egg/handyrec/models/utils.py to utils.cpython-37.pyc\n",
            "byte-compiling build/bdist.linux-x86_64/egg/handyrec/models/retrieval/__init__.py to __init__.cpython-37.pyc\n",
            "byte-compiling build/bdist.linux-x86_64/egg/handyrec/models/retrieval/YouTubeMatchDNN.py to YouTubeMatchDNN.cpython-37.pyc\n",
            "byte-compiling build/bdist.linux-x86_64/egg/handyrec/models/retrieval/DSSM.py to DSSM.cpython-37.pyc\n",
            "byte-compiling build/bdist.linux-x86_64/egg/handyrec/layers/core.py to core.cpython-37.pyc\n",
            "byte-compiling build/bdist.linux-x86_64/egg/handyrec/layers/__init__.py to __init__.cpython-37.pyc\n",
            "byte-compiling build/bdist.linux-x86_64/egg/handyrec/layers/activation.py to activation.cpython-37.pyc\n",
            "byte-compiling build/bdist.linux-x86_64/egg/handyrec/layers/tools.py to tools.cpython-37.pyc\n",
            "byte-compiling build/bdist.linux-x86_64/egg/handyrec/layers/sequence.py to sequence.cpython-37.pyc\n",
            "byte-compiling build/bdist.linux-x86_64/egg/handyrec/layers/interaction.py to interaction.cpython-37.pyc\n",
            "byte-compiling build/bdist.linux-x86_64/egg/handyrec/layers/utils.py to utils.cpython-37.pyc\n",
            "byte-compiling build/bdist.linux-x86_64/egg/handyrec/data/__init__.py to __init__.cpython-37.pyc\n",
            "byte-compiling build/bdist.linux-x86_64/egg/handyrec/data/datahelper.py to datahelper.cpython-37.pyc\n",
            "byte-compiling build/bdist.linux-x86_64/egg/handyrec/data/dataset.py to dataset.cpython-37.pyc\n",
            "byte-compiling build/bdist.linux-x86_64/egg/handyrec/data/metrics.py to metrics.cpython-37.pyc\n",
            "byte-compiling build/bdist.linux-x86_64/egg/handyrec/data/utils.py to utils.cpython-37.pyc\n",
            "byte-compiling build/bdist.linux-x86_64/egg/handyrec/data/movielens.py to movielens.cpython-37.pyc\n",
            "byte-compiling build/bdist.linux-x86_64/egg/handyrec/features/__init__.py to __init__.cpython-37.pyc\n",
            "byte-compiling build/bdist.linux-x86_64/egg/handyrec/features/type.py to type.cpython-37.pyc\n",
            "byte-compiling build/bdist.linux-x86_64/egg/handyrec/features/group.py to group.cpython-37.pyc\n",
            "byte-compiling build/bdist.linux-x86_64/egg/handyrec/features/utils.py to utils.cpython-37.pyc\n",
            "creating build/bdist.linux-x86_64/egg/EGG-INFO\n",
            "copying handyrec.egg-info/PKG-INFO -> build/bdist.linux-x86_64/egg/EGG-INFO\n",
            "copying handyrec.egg-info/SOURCES.txt -> build/bdist.linux-x86_64/egg/EGG-INFO\n",
            "copying handyrec.egg-info/dependency_links.txt -> build/bdist.linux-x86_64/egg/EGG-INFO\n",
            "copying handyrec.egg-info/requires.txt -> build/bdist.linux-x86_64/egg/EGG-INFO\n",
            "copying handyrec.egg-info/top_level.txt -> build/bdist.linux-x86_64/egg/EGG-INFO\n",
            "zip_safe flag not set; analyzing archive contents...\n",
            "creating 'dist/handyrec-0.1.0-py3.7.egg' and adding 'build/bdist.linux-x86_64/egg' to it\n",
            "removing 'build/bdist.linux-x86_64/egg' (and everything under it)\n",
            "Processing handyrec-0.1.0-py3.7.egg\n",
            "Removing /usr/local/lib/python3.7/dist-packages/handyrec-0.1.0-py3.7.egg\n",
            "Copying handyrec-0.1.0-py3.7.egg to /usr/local/lib/python3.7/dist-packages\n",
            "handyrec 0.1.0 is already the active version in easy-install.pth\n",
            "\n",
            "Installed /usr/local/lib/python3.7/dist-packages/handyrec-0.1.0-py3.7.egg\n",
            "Processing dependencies for handyrec==0.1.0\n",
            "Searching for tensorflow==2.8.0+zzzcolab20220506162203\n",
            "Best match: tensorflow 2.8.0+zzzcolab20220506162203\n",
            "Adding tensorflow 2.8.0+zzzcolab20220506162203 to easy-install.pth file\n",
            "Installing estimator_ckpt_converter script to /usr/local/bin\n",
            "Installing import_pb_to_tensorboard script to /usr/local/bin\n",
            "Installing saved_model_cli script to /usr/local/bin\n",
            "Installing tensorboard script to /usr/local/bin\n",
            "Installing tf_upgrade_v2 script to /usr/local/bin\n",
            "Installing tflite_convert script to /usr/local/bin\n",
            "Installing toco script to /usr/local/bin\n",
            "Installing toco_from_protos script to /usr/local/bin\n",
            "\n",
            "Using /usr/local/lib/python3.7/dist-packages\n",
            "Searching for python-box==6.0.2\n",
            "Best match: python-box 6.0.2\n",
            "Processing python_box-6.0.2-py3.7-linux-x86_64.egg\n",
            "python-box 6.0.2 is already the active version in easy-install.pth\n",
            "\n",
            "Using /usr/local/lib/python3.7/dist-packages/python_box-6.0.2-py3.7-linux-x86_64.egg\n",
            "Searching for pandas==1.3.5\n",
            "Best match: pandas 1.3.5\n",
            "Adding pandas 1.3.5 to easy-install.pth file\n",
            "\n",
            "Using /usr/local/lib/python3.7/dist-packages\n",
            "Searching for numpy==1.21.6\n",
            "Best match: numpy 1.21.6\n",
            "Adding numpy 1.21.6 to easy-install.pth file\n",
            "Installing f2py script to /usr/local/bin\n",
            "Installing f2py3 script to /usr/local/bin\n",
            "Installing f2py3.7 script to /usr/local/bin\n",
            "\n",
            "Using /usr/local/lib/python3.7/dist-packages\n",
            "Searching for setuptools==57.4.0\n",
            "Best match: setuptools 57.4.0\n",
            "Adding setuptools 57.4.0 to easy-install.pth file\n",
            "\n",
            "Using /usr/local/lib/python3.7/dist-packages\n",
            "Searching for h5py==3.1.0\n",
            "Best match: h5py 3.1.0\n",
            "Adding h5py 3.1.0 to easy-install.pth file\n",
            "\n",
            "Using /usr/local/lib/python3.7/dist-packages\n",
            "Searching for gast==0.5.3\n",
            "Best match: gast 0.5.3\n",
            "Adding gast 0.5.3 to easy-install.pth file\n",
            "\n",
            "Using /usr/local/lib/python3.7/dist-packages\n",
            "Searching for astunparse==1.6.3\n",
            "Best match: astunparse 1.6.3\n",
            "Adding astunparse 1.6.3 to easy-install.pth file\n",
            "\n",
            "Using /usr/local/lib/python3.7/dist-packages\n",
            "Searching for grpcio==1.46.1\n",
            "Best match: grpcio 1.46.1\n",
            "Adding grpcio 1.46.1 to easy-install.pth file\n",
            "\n",
            "Using /usr/local/lib/python3.7/dist-packages\n",
            "Searching for flatbuffers==2.0\n",
            "Best match: flatbuffers 2.0\n",
            "Adding flatbuffers 2.0 to easy-install.pth file\n",
            "\n",
            "Using /usr/local/lib/python3.7/dist-packages\n",
            "Searching for protobuf==3.17.3\n",
            "Best match: protobuf 3.17.3\n",
            "Adding protobuf 3.17.3 to easy-install.pth file\n",
            "\n",
            "Using /usr/local/lib/python3.7/dist-packages\n",
            "Searching for wrapt==1.14.1\n",
            "Best match: wrapt 1.14.1\n",
            "Adding wrapt 1.14.1 to easy-install.pth file\n",
            "\n",
            "Using /usr/local/lib/python3.7/dist-packages\n",
            "Searching for libclang==14.0.1\n",
            "Best match: libclang 14.0.1\n",
            "Adding libclang 14.0.1 to easy-install.pth file\n",
            "\n",
            "Using /usr/local/lib/python3.7/dist-packages\n",
            "Searching for typing-extensions==4.2.0\n",
            "Best match: typing-extensions 4.2.0\n",
            "Adding typing-extensions 4.2.0 to easy-install.pth file\n",
            "\n",
            "Using /usr/local/lib/python3.7/dist-packages\n",
            "Searching for six==1.15.0\n",
            "Best match: six 1.15.0\n",
            "Adding six 1.15.0 to easy-install.pth file\n",
            "\n",
            "Using /usr/local/lib/python3.7/dist-packages\n",
            "Searching for keras==2.8.0\n",
            "Best match: keras 2.8.0\n",
            "Adding keras 2.8.0 to easy-install.pth file\n",
            "\n",
            "Using /usr/local/lib/python3.7/dist-packages\n",
            "Searching for Keras-Preprocessing==1.1.2\n",
            "Best match: Keras-Preprocessing 1.1.2\n",
            "Adding Keras-Preprocessing 1.1.2 to easy-install.pth file\n",
            "\n",
            "Using /usr/local/lib/python3.7/dist-packages\n",
            "Searching for google-pasta==0.2.0\n",
            "Best match: google-pasta 0.2.0\n",
            "Adding google-pasta 0.2.0 to easy-install.pth file\n",
            "\n",
            "Using /usr/local/lib/python3.7/dist-packages\n",
            "Searching for opt-einsum==3.3.0\n",
            "Best match: opt-einsum 3.3.0\n",
            "Adding opt-einsum 3.3.0 to easy-install.pth file\n",
            "\n",
            "Using /usr/local/lib/python3.7/dist-packages\n",
            "Searching for termcolor==1.1.0\n",
            "Best match: termcolor 1.1.0\n",
            "Adding termcolor 1.1.0 to easy-install.pth file\n",
            "\n",
            "Using /usr/local/lib/python3.7/dist-packages\n",
            "Searching for absl-py==1.0.0\n",
            "Best match: absl-py 1.0.0\n",
            "Adding absl-py 1.0.0 to easy-install.pth file\n",
            "\n",
            "Using /usr/local/lib/python3.7/dist-packages\n",
            "Searching for tensorboard==2.8.0\n",
            "Best match: tensorboard 2.8.0\n",
            "Adding tensorboard 2.8.0 to easy-install.pth file\n",
            "Installing tensorboard script to /usr/local/bin\n",
            "\n",
            "Using /usr/local/lib/python3.7/dist-packages\n",
            "Searching for tensorflow-io-gcs-filesystem==0.25.0\n",
            "Best match: tensorflow-io-gcs-filesystem 0.25.0\n",
            "Adding tensorflow-io-gcs-filesystem 0.25.0 to easy-install.pth file\n",
            "\n",
            "Using /usr/local/lib/python3.7/dist-packages\n",
            "Searching for tf-estimator-nightly==2.8.0.dev2021122109\n",
            "Best match: tf-estimator-nightly 2.8.0.dev2021122109\n",
            "Processing tf_estimator_nightly-2.8.0.dev2021122109-py3.7.egg\n",
            "tf-estimator-nightly 2.8.0.dev2021122109 is already the active version in easy-install.pth\n",
            "\n",
            "Using /usr/local/lib/python3.7/dist-packages/tf_estimator_nightly-2.8.0.dev2021122109-py3.7.egg\n",
            "Searching for pytz==2022.1\n",
            "Best match: pytz 2022.1\n",
            "Adding pytz 2022.1 to easy-install.pth file\n",
            "\n",
            "Using /usr/local/lib/python3.7/dist-packages\n",
            "Searching for python-dateutil==2.8.2\n",
            "Best match: python-dateutil 2.8.2\n",
            "Adding python-dateutil 2.8.2 to easy-install.pth file\n",
            "\n",
            "Using /usr/local/lib/python3.7/dist-packages\n",
            "Searching for cached-property==1.5.2\n",
            "Best match: cached-property 1.5.2\n",
            "Adding cached-property 1.5.2 to easy-install.pth file\n",
            "\n",
            "Using /usr/local/lib/python3.7/dist-packages\n",
            "Searching for wheel==0.37.1\n",
            "Best match: wheel 0.37.1\n",
            "Adding wheel 0.37.1 to easy-install.pth file\n",
            "Installing wheel script to /usr/local/bin\n",
            "\n",
            "Using /usr/local/lib/python3.7/dist-packages\n",
            "Searching for tensorboard-data-server==0.6.1\n",
            "Best match: tensorboard-data-server 0.6.1\n",
            "Adding tensorboard-data-server 0.6.1 to easy-install.pth file\n",
            "\n",
            "Using /usr/local/lib/python3.7/dist-packages\n",
            "Searching for Markdown==3.3.7\n",
            "Best match: Markdown 3.3.7\n",
            "Adding Markdown 3.3.7 to easy-install.pth file\n",
            "Installing markdown_py script to /usr/local/bin\n",
            "\n",
            "Using /usr/local/lib/python3.7/dist-packages\n",
            "Searching for Werkzeug==1.0.1\n",
            "Best match: Werkzeug 1.0.1\n",
            "Adding Werkzeug 1.0.1 to easy-install.pth file\n",
            "\n",
            "Using /usr/local/lib/python3.7/dist-packages\n",
            "Searching for tensorboard-plugin-wit==1.8.1\n",
            "Best match: tensorboard-plugin-wit 1.8.1\n",
            "Adding tensorboard-plugin-wit 1.8.1 to easy-install.pth file\n",
            "\n",
            "Using /usr/local/lib/python3.7/dist-packages\n",
            "Searching for requests==2.23.0\n",
            "Best match: requests 2.23.0\n",
            "Adding requests 2.23.0 to easy-install.pth file\n",
            "\n",
            "Using /usr/local/lib/python3.7/dist-packages\n",
            "Searching for google-auth-oauthlib==0.4.6\n",
            "Best match: google-auth-oauthlib 0.4.6\n",
            "Adding google-auth-oauthlib 0.4.6 to easy-install.pth file\n",
            "Installing google-oauthlib-tool script to /usr/local/bin\n",
            "\n",
            "Using /usr/local/lib/python3.7/dist-packages\n",
            "Searching for google-auth==1.35.0\n",
            "Best match: google-auth 1.35.0\n",
            "Adding google-auth 1.35.0 to easy-install.pth file\n",
            "\n",
            "Using /usr/local/lib/python3.7/dist-packages\n",
            "Searching for importlib-metadata==4.11.3\n",
            "Best match: importlib-metadata 4.11.3\n",
            "Adding importlib-metadata 4.11.3 to easy-install.pth file\n",
            "\n",
            "Using /usr/local/lib/python3.7/dist-packages\n",
            "Searching for urllib3==1.24.3\n",
            "Best match: urllib3 1.24.3\n",
            "Adding urllib3 1.24.3 to easy-install.pth file\n",
            "\n",
            "Using /usr/local/lib/python3.7/dist-packages\n",
            "Searching for idna==2.10\n",
            "Best match: idna 2.10\n",
            "Adding idna 2.10 to easy-install.pth file\n",
            "\n",
            "Using /usr/local/lib/python3.7/dist-packages\n",
            "Searching for certifi==2021.10.8\n",
            "Best match: certifi 2021.10.8\n",
            "Adding certifi 2021.10.8 to easy-install.pth file\n",
            "\n",
            "Using /usr/local/lib/python3.7/dist-packages\n",
            "Searching for chardet==3.0.4\n",
            "Best match: chardet 3.0.4\n",
            "Adding chardet 3.0.4 to easy-install.pth file\n",
            "Installing chardetect script to /usr/local/bin\n",
            "\n",
            "Using /usr/local/lib/python3.7/dist-packages\n",
            "Searching for requests-oauthlib==1.3.1\n",
            "Best match: requests-oauthlib 1.3.1\n",
            "Adding requests-oauthlib 1.3.1 to easy-install.pth file\n",
            "\n",
            "Using /usr/local/lib/python3.7/dist-packages\n",
            "Searching for cachetools==4.2.4\n",
            "Best match: cachetools 4.2.4\n",
            "Adding cachetools 4.2.4 to easy-install.pth file\n",
            "\n",
            "Using /usr/local/lib/python3.7/dist-packages\n",
            "Searching for pyasn1-modules==0.2.8\n",
            "Best match: pyasn1-modules 0.2.8\n",
            "Adding pyasn1-modules 0.2.8 to easy-install.pth file\n",
            "\n",
            "Using /usr/local/lib/python3.7/dist-packages\n",
            "Searching for rsa==4.8\n",
            "Best match: rsa 4.8\n",
            "Adding rsa 4.8 to easy-install.pth file\n",
            "Installing pyrsa-decrypt script to /usr/local/bin\n",
            "Installing pyrsa-encrypt script to /usr/local/bin\n",
            "Installing pyrsa-keygen script to /usr/local/bin\n",
            "Installing pyrsa-priv2pub script to /usr/local/bin\n",
            "Installing pyrsa-sign script to /usr/local/bin\n",
            "Installing pyrsa-verify script to /usr/local/bin\n",
            "\n",
            "Using /usr/local/lib/python3.7/dist-packages\n",
            "Searching for zipp==3.8.0\n",
            "Best match: zipp 3.8.0\n",
            "Adding zipp 3.8.0 to easy-install.pth file\n",
            "\n",
            "Using /usr/local/lib/python3.7/dist-packages\n",
            "Searching for oauthlib==3.2.0\n",
            "Best match: oauthlib 3.2.0\n",
            "Adding oauthlib 3.2.0 to easy-install.pth file\n",
            "\n",
            "Using /usr/local/lib/python3.7/dist-packages\n",
            "Searching for pyasn1==0.4.8\n",
            "Best match: pyasn1 0.4.8\n",
            "Adding pyasn1 0.4.8 to easy-install.pth file\n",
            "\n",
            "Using /usr/local/lib/python3.7/dist-packages\n",
            "Finished processing dependencies for handyrec==0.1.0\n",
            "Requirement already satisfied: faiss-gpu in /usr/local/lib/python3.7/dist-packages (1.7.2)\n"
          ]
        }
      ],
      "source": [
        "! git clone https://github.com/Wp-Zhang/HandyRec.git\n",
        "! cd HandyRec && python setup.py install\n",
        "! pip install faiss-gpu"
      ]
    },
    {
      "cell_type": "markdown",
      "metadata": {
        "id": "7RBYIvQOwmL-"
      },
      "source": [
        "**Note: Restart the kernel after installing `handyrec`**"
      ]
    },
    {
      "cell_type": "code",
      "execution_count": 3,
      "metadata": {
        "colab": {
          "base_uri": "https://localhost:8080/"
        },
        "id": "WSk1WSSpvXfL",
        "outputId": "f24b4834-6ff6-4765-89bb-3edcebe5a82c"
      },
      "outputs": [
        {
          "name": "stdout",
          "output_type": "stream",
          "text": [
            "--2022-05-23 16:32:16--  https://files.grouplens.org/datasets/movielens/ml-1m.zip\n",
            "Resolving files.grouplens.org (files.grouplens.org)... 128.101.65.152\n",
            "Connecting to files.grouplens.org (files.grouplens.org)|128.101.65.152|:443... connected.\n",
            "HTTP request sent, awaiting response... 200 OK\n",
            "Length: 5917549 (5.6M) [application/zip]\n",
            "Saving to: ‘./ml-1m.zip’\n",
            "\n",
            "./ml-1m.zip         100%[===================>]   5.64M  6.18MB/s    in 0.9s    \n",
            "\n",
            "2022-05-23 16:32:17 (6.18 MB/s) - ‘./ml-1m.zip’ saved [5917549/5917549]\n",
            "\n",
            "Archive:  ml-1m.zip\n",
            "  inflating: ml-1m/movies.dat        \n",
            "  inflating: ml-1m/ratings.dat       \n",
            "  inflating: ml-1m/README            \n",
            "  inflating: ml-1m/users.dat         \n"
          ]
        }
      ],
      "source": [
        "! wget https://files.grouplens.org/datasets/movielens/ml-1m.zip -O ./ml-1m.zip\n",
        "! unzip -o ml-1m.zip"
      ]
    },
    {
      "cell_type": "markdown",
      "metadata": {
        "id": "gsUc0pRE0BEH"
      },
      "source": [
        "**Import relative packages**"
      ]
    },
    {
      "cell_type": "code",
      "execution_count": 4,
      "metadata": {
        "id": "NlQtiTrmuzM3"
      },
      "outputs": [],
      "source": [
        "from handyrec.data.movielens import MovielensDataHelper\n",
        "from handyrec.data.utils import gen_sequence\n",
        "from handyrec.data import PointWiseDataset\n",
        "\n",
        "from handyrec.layers.utils import sampledsoftmaxloss\n",
        "from handyrec.models.retrieval import YouTubeMatchDNN\n",
        "from handyrec.models.ranking import YouTubeRankDNN\n",
        "from handyrec.config import ConfigLoader\n",
        "from handyrec.data.metrics import map_at_k, recall_at_k\n",
        "from handyrec.models.utils import search_embedding\n",
        "\n",
        "import tensorflow as tf\n",
        "from tensorflow.keras import Model\n",
        "from tensorflow.keras.losses import binary_crossentropy\n",
        "from tensorflow.keras.utils import plot_model\n",
        "import numpy as np\n",
        "import pandas as pd\n",
        "import gc"
      ]
    },
    {
      "cell_type": "code",
      "execution_count": 5,
      "metadata": {
        "id": "iYOxv7-auzM3"
      },
      "outputs": [],
      "source": [
        "import warnings\n",
        "warnings.filterwarnings('ignore')"
      ]
    },
    {
      "cell_type": "code",
      "execution_count": 6,
      "metadata": {
        "id": "W8jyTPiz8K13"
      },
      "outputs": [],
      "source": [
        "BATCH_SIZE = 2**12\n",
        "NEPOCH = 50\n",
        "\n",
        "TEST_NUM = 10\n",
        "VALID_RATIO = 0.1\n",
        "NEG_NUM = 10\n",
        "CANDIDATE_NUM = 100"
      ]
    },
    {
      "cell_type": "markdown",
      "metadata": {
        "id": "eee7ogIugZI1"
      },
      "source": [
        "**Load MovieLens1M data**"
      ]
    },
    {
      "cell_type": "code",
      "execution_count": 7,
      "metadata": {
        "colab": {
          "base_uri": "https://localhost:8080/"
        },
        "id": "bwNXcq6hgZI2",
        "outputId": "dba96277-c4c1-4a10-ab3a-aee5a51f0d6b"
      },
      "outputs": [
        {
          "name": "stderr",
          "output_type": "stream",
          "text": [
            "Encode User Sparse Feats: 100%|██████████| 4/4 [00:00<00:00, 204.77it/s]\n",
            "Encode Item Sparse Feats: 100%|██████████| 1/1 [00:00<00:00, 233.89it/s]\n",
            "Generate movie_id sequence: 100%|██████████| 6040/6040 [00:05<00:00, 1184.33it/s]\n"
          ]
        }
      ],
      "source": [
        "retrieve_dh = MovielensDataHelper('./ml-1m/')\n",
        "data = retrieve_dh.get_clean_data(sparse_features=['gender','occupation','zip','age','year'])\n",
        "data['inter']['hist_movie'] = gen_sequence(data['inter'], 'user_id', 'movie_id', seq_len=40)"
      ]
    },
    {
      "cell_type": "markdown",
      "metadata": {
        "id": "MXNUDnO_0VLl"
      },
      "source": [
        "# 0. Prepare data for retrieval<a name=\"section-0\"></a>"
      ]
    },
    {
      "cell_type": "code",
      "execution_count": 8,
      "metadata": {
        "id": "2gszyQDwgZI5"
      },
      "outputs": [],
      "source": [
        "user_features = ['user_id', 'gender', 'occupation']\n",
        "item_features = ['movie_id','genres']\n",
        "inter_features = ['hist_movie']"
      ]
    },
    {
      "cell_type": "code",
      "execution_count": 9,
      "metadata": {
        "colab": {
          "base_uri": "https://localhost:8080/"
        },
        "id": "wgw6prfluzM5",
        "outputId": "dce22755-e4e6-48b0-a656-90b302620072"
      },
      "outputs": [
        {
          "name": "stderr",
          "output_type": "stream",
          "text": [
            "Save user features: 100%|██████████| 3/3 [00:02<00:00,  1.37it/s]\n",
            "Save item features: 100%|██████████| 2/2 [00:01<00:00,  1.09it/s]\n",
            "Save inter features: 100%|██████████| 2/2 [00:03<00:00,  1.66s/it]\n"
          ]
        }
      ],
      "source": [
        "retrieval_dataset = PointWiseDataset(\n",
        "    \"RetrievalDataset\",\n",
        "    task=\"retrieval\",\n",
        "    data=data,\n",
        "    uid_name=\"user_id\",\n",
        "    iid_name=\"movie_id\",\n",
        "    inter_name=\"interact\",\n",
        "    time_name=\"timestamp\",\n",
        "    threshold=4,\n",
        ")\n",
        "\n",
        "retrieval_dataset.train_test_split(TEST_NUM)\n",
        "retrieval_dataset.train_valid_split(VALID_RATIO)\n",
        "retrieval_dataset.gen_dataset(user_features, item_features, inter_features, shuffle=False)"
      ]
    },
    {
      "cell_type": "code",
      "execution_count": 10,
      "metadata": {
        "colab": {
          "base_uri": "https://localhost:8080/"
        },
        "id": "nWhojvyKuzM7",
        "outputId": "f3da61e0-31ae-4fc6-b473-02aec6008fcd"
      },
      "outputs": [
        {
          "name": "stderr",
          "output_type": "stream",
          "text": [
            "Load user features: 100%|██████████| 3/3 [00:01<00:00,  1.52it/s]\n",
            "Load item features: 100%|██████████| 2/2 [00:01<00:00,  1.50it/s]\n",
            "Load inter features: 100%|██████████| 2/2 [00:01<00:00,  1.46it/s]\n"
          ]
        }
      ],
      "source": [
        "train_data, valid_data, test_data, test_label = retrieval_dataset.load_dataset(\n",
        "    user_features, item_features, inter_features, BATCH_SIZE\n",
        ")"
      ]
    },
    {
      "cell_type": "code",
      "execution_count": 11,
      "metadata": {
        "id": "VJR1Ybd18t7g"
      },
      "outputs": [],
      "source": [
        "feature_dim = retrieval_dataset.get_feature_dim(user_features, item_features, [])\n",
        "feature_dim[\"genre_id\"] = 19"
      ]
    },
    {
      "cell_type": "markdown",
      "metadata": {
        "id": "wMAdJxpc0x1U"
      },
      "source": [
        "# 1. Train retrieve model and export embeddings <a name=\"section-1\"></a>"
      ]
    },
    {
      "cell_type": "code",
      "execution_count": 12,
      "metadata": {
        "id": "Et7jV4LabHB0"
      },
      "outputs": [],
      "source": [
        "cfg = ConfigLoader(\"./HandyRec/examples/YouTubeDNN/YouTubeMatchDNN_cfg.yaml\")\n",
        "feature_groups = cfg.prepare_features(feature_dim, data)"
      ]
    },
    {
      "cell_type": "code",
      "execution_count": 13,
      "metadata": {
        "id": "lKURLYXkuzM-"
      },
      "outputs": [],
      "source": [
        "retrieve_model = YouTubeMatchDNN(\n",
        "    feature_groups[\"user_feature_group\"],\n",
        "    feature_groups[\"item_feature_group\"],\n",
        "    **cfg.config.Model\n",
        ")"
      ]
    },
    {
      "cell_type": "code",
      "execution_count": 14,
      "metadata": {
        "colab": {
          "base_uri": "https://localhost:8080/",
          "height": 844
        },
        "id": "AQDtzo-4sw16",
        "outputId": "ec935b58-3f07-424c-a929-36b81da01751"
      },
      "outputs": [
        {
          "data": {
            "image/png": "[encoded data removed]",
            "text/plain": [
              "<IPython.core.display.Image object>"
            ]
          },
          "execution_count": 14,
          "metadata": {},
          "output_type": "execute_result"
        }
      ],
      "source": [
        "plot_model(retrieve_model)"
      ]
    },
    {
      "cell_type": "code",
      "execution_count": 15,
      "metadata": {
        "colab": {
          "base_uri": "https://localhost:8080/"
        },
        "id": "2xizKlTvuzM_",
        "outputId": "7185787b-1752-475c-972a-41995080b782"
      },
      "outputs": [
        {
          "name": "stdout",
          "output_type": "stream",
          "text": [
            "Epoch 1/50\n",
            "114/114 [==============================] - 8s 24ms/step - loss: 3.5700 - val_loss: 3.7193\n",
            "Epoch 2/50\n",
            "114/114 [==============================] - 2s 21ms/step - loss: 2.2814 - val_loss: 3.3370\n",
            "Epoch 3/50\n",
            "114/114 [==============================] - 3s 22ms/step - loss: 2.0713 - val_loss: 2.9482\n",
            "Epoch 4/50\n",
            "114/114 [==============================] - 3s 22ms/step - loss: 1.7607 - val_loss: 2.4260\n",
            "Epoch 5/50\n",
            "114/114 [==============================] - 3s 22ms/step - loss: 1.6467 - val_loss: 2.0286\n",
            "Epoch 6/50\n",
            "114/114 [==============================] - 3s 22ms/step - loss: 1.4836 - val_loss: 1.6432\n",
            "Epoch 7/50\n",
            "114/114 [==============================] - 3s 22ms/step - loss: 1.3774 - val_loss: 1.5595\n",
            "Epoch 8/50\n",
            "114/114 [==============================] - 3s 22ms/step - loss: 1.2952 - val_loss: 1.3514\n",
            "Epoch 9/50\n",
            "114/114 [==============================] - 3s 22ms/step - loss: 1.2428 - val_loss: 1.3841\n",
            "Epoch 10/50\n",
            "114/114 [==============================] - 3s 22ms/step - loss: 1.1554 - val_loss: 1.1016\n",
            "Epoch 11/50\n",
            "114/114 [==============================] - 3s 21ms/step - loss: 1.1144 - val_loss: 1.1709\n",
            "Epoch 12/50\n",
            "114/114 [==============================] - 3s 22ms/step - loss: 1.0666 - val_loss: 1.1061\n",
            "Epoch 13/50\n",
            "114/114 [==============================] - 3s 22ms/step - loss: 0.9950 - val_loss: 1.1735\n",
            "Epoch 14/50\n",
            "114/114 [==============================] - 3s 22ms/step - loss: 0.9786 - val_loss: 1.0767\n",
            "Epoch 15/50\n",
            "114/114 [==============================] - 3s 21ms/step - loss: 0.9701 - val_loss: 1.0892\n",
            "Epoch 16/50\n",
            "114/114 [==============================] - 3s 22ms/step - loss: 0.9297 - val_loss: 0.9998\n",
            "Epoch 17/50\n",
            "114/114 [==============================] - 3s 22ms/step - loss: 0.9249 - val_loss: 0.9687\n",
            "Epoch 18/50\n",
            "114/114 [==============================] - 3s 22ms/step - loss: 0.8810 - val_loss: 1.0108\n",
            "Epoch 19/50\n",
            "114/114 [==============================] - 3s 22ms/step - loss: 0.8470 - val_loss: 0.8877\n",
            "Epoch 20/50\n",
            "114/114 [==============================] - 3s 25ms/step - loss: 0.8348 - val_loss: 0.8862\n",
            "Epoch 21/50\n",
            "114/114 [==============================] - 3s 22ms/step - loss: 0.8039 - val_loss: 0.8526\n",
            "Epoch 22/50\n",
            "114/114 [==============================] - 3s 22ms/step - loss: 0.7815 - val_loss: 0.8300\n",
            "Epoch 23/50\n",
            "114/114 [==============================] - 2s 21ms/step - loss: 0.7872 - val_loss: 0.8765\n",
            "Epoch 24/50\n",
            "114/114 [==============================] - 3s 22ms/step - loss: 0.7594 - val_loss: 0.8881\n",
            "Epoch 25/50\n",
            "114/114 [==============================] - 3s 21ms/step - loss: 0.7423 - val_loss: 0.8380\n",
            "Epoch 26/50\n",
            "114/114 [==============================] - 3s 22ms/step - loss: 0.7076 - val_loss: 0.7472\n",
            "Epoch 27/50\n",
            "114/114 [==============================] - 3s 21ms/step - loss: 0.7141 - val_loss: 0.8100\n",
            "Epoch 28/50\n",
            "114/114 [==============================] - 3s 22ms/step - loss: 0.7182 - val_loss: 0.8338\n",
            "Epoch 29/50\n",
            "114/114 [==============================] - 3s 22ms/step - loss: 0.7054 - val_loss: 0.7468\n",
            "Epoch 30/50\n",
            "114/114 [==============================] - 3s 22ms/step - loss: 0.6939 - val_loss: 0.7213\n",
            "Epoch 31/50\n",
            "114/114 [==============================] - 3s 22ms/step - loss: 0.6626 - val_loss: 0.8120\n",
            "Epoch 32/50\n",
            "114/114 [==============================] - 3s 22ms/step - loss: 0.6576 - val_loss: 0.7925\n",
            "Epoch 33/50\n",
            "114/114 [==============================] - 3s 22ms/step - loss: 0.6435 - val_loss: 0.7257\n",
            "Epoch 34/50\n",
            "114/114 [==============================] - 3s 22ms/step - loss: 0.6502 - val_loss: 0.6986\n",
            "Epoch 35/50\n",
            "114/114 [==============================] - 3s 22ms/step - loss: 0.6333 - val_loss: 0.6792\n",
            "Epoch 36/50\n",
            "114/114 [==============================] - 3s 22ms/step - loss: 0.6523 - val_loss: 0.7422\n",
            "Epoch 37/50\n",
            "114/114 [==============================] - 3s 22ms/step - loss: 0.6157 - val_loss: 0.7089\n",
            "Epoch 38/50\n",
            "114/114 [==============================] - 3s 21ms/step - loss: 0.6112 - val_loss: 0.7251\n",
            "Epoch 39/50\n",
            "114/114 [==============================] - 3s 21ms/step - loss: 0.6097 - val_loss: 0.7115\n",
            "Epoch 40/50\n",
            "114/114 [==============================] - 3s 22ms/step - loss: 0.6193 - val_loss: 0.6428\n",
            "Epoch 41/50\n",
            "114/114 [==============================] - 3s 21ms/step - loss: 0.5846 - val_loss: 0.6573\n",
            "Epoch 42/50\n",
            "114/114 [==============================] - 3s 21ms/step - loss: 0.5853 - val_loss: 0.6714\n",
            "Epoch 43/50\n",
            "114/114 [==============================] - 3s 22ms/step - loss: 0.5828 - val_loss: 0.7102\n",
            "Epoch 44/50\n",
            "114/114 [==============================] - 2s 21ms/step - loss: 0.5704 - val_loss: 0.7006\n",
            "Epoch 45/50\n",
            "114/114 [==============================] - 3s 21ms/step - loss: 0.5538 - val_loss: 0.6965\n"
          ]
        }
      ],
      "source": [
        "retrieve_model.compile(optimizer=tf.keras.optimizers.Adam(lr=5e-4), loss=sampledsoftmaxloss)\n",
        "early_stop = tf.keras.callbacks.EarlyStopping(monitor='val_loss', patience=5)\n",
        "checkpoint = tf.keras.callbacks.ModelCheckpoint(\n",
        "    filepath='./retrieve_checkpoint/',\n",
        "    save_weights_only=True,\n",
        "    monitor='val_loss',\n",
        "    mode='min',\n",
        "    save_best_only=True\n",
        ")\n",
        "history = retrieve_model.fit(\n",
        "    x=train_data,\n",
        "    validation_data=valid_data,\n",
        "    epochs=NEPOCH,\n",
        "    callbacks=[early_stop, checkpoint],\n",
        ")"
      ]
    },
    {
      "cell_type": "code",
      "execution_count": 16,
      "metadata": {
        "colab": {
          "base_uri": "https://localhost:8080/"
        },
        "id": "AGebkIE0uzM_",
        "outputId": "a56628ee-1278-4abd-a82e-a86e586e73ca"
      },
      "outputs": [
        {
          "data": {
            "text/plain": [
              "<tensorflow.python.training.tracking.util.CheckpointLoadStatus at 0x7f0c1c186450>"
            ]
          },
          "execution_count": 16,
          "metadata": {},
          "output_type": "execute_result"
        }
      ],
      "source": [
        "retrieve_model.load_weights('./retrieve_checkpoint/')"
      ]
    },
    {
      "cell_type": "code",
      "execution_count": 17,
      "metadata": {
        "colab": {
          "base_uri": "https://localhost:8080/"
        },
        "id": "G9AxEdKbuzM_",
        "outputId": "d5fa590c-1f1d-4791-dc95-6099609d6d8b"
      },
      "outputs": [
        {
          "name": "stdout",
          "output_type": "stream",
          "text": [
            "(5923, 64)\n",
            "(3883, 64)\n"
          ]
        }
      ],
      "source": [
        "user_embedding_model = Model(inputs=retrieve_model.user_input, outputs=retrieve_model.user_embedding)\n",
        "item_embedding_model = Model(inputs=retrieve_model.item_input, outputs=retrieve_model.item_embedding)\n",
        "\n",
        "user_embs = user_embedding_model.predict(test_data, batch_size=2 ** 15)\n",
        "item_embs = item_embedding_model.predict(feature_groups[\"value_dict\"], batch_size=2 ** 15)\n",
        "\n",
        "print(user_embs.shape)\n",
        "print(item_embs.shape)"
      ]
    },
    {
      "cell_type": "markdown",
      "metadata": {
        "id": "UJ49Jxnf0-1O"
      },
      "source": [
        "# 2. Use Faiss to generate candidates <a name=\"section-2\"></a>"
      ]
    },
    {
      "cell_type": "markdown",
      "metadata": {
        "id": "qEAI8Rl7hzgv"
      },
      "source": [
        "## Test retrieve model"
      ]
    },
    {
      "cell_type": "code",
      "execution_count": 18,
      "metadata": {
        "id": "cr39MwzduzNA"
      },
      "outputs": [],
      "source": [
        "candidates = search_embedding(\n",
        "    64, \n",
        "    item_embs,\n",
        "    user_embs,\n",
        "    data['item']['movie_id'].values,\n",
        "    CANDIDATE_NUM,\n",
        "    gpu=True\n",
        ")"
      ]
    },
    {
      "cell_type": "code",
      "execution_count": 19,
      "metadata": {
        "colab": {
          "base_uri": "https://localhost:8080/"
        },
        "id": "ZLc_JPubuzNB",
        "outputId": "b3be3d8f-8ad6-4f8a-95c8-9ee27786a172"
      },
      "outputs": [
        {
          "data": {
            "text/plain": [
              "0.010621226373378997"
            ]
          },
          "execution_count": 19,
          "metadata": {},
          "output_type": "execute_result"
        }
      ],
      "source": [
        "map_at_k(test_label, candidates, k=10)"
      ]
    },
    {
      "cell_type": "code",
      "execution_count": 20,
      "metadata": {
        "colab": {
          "base_uri": "https://localhost:8080/"
        },
        "id": "kap-zVgguzNC",
        "outputId": "c76ff8b9-ac9f-4f12-ec01-2c43dd71c2fb"
      },
      "outputs": [
        {
          "data": {
            "text/plain": [
              "0.029360121560020266"
            ]
          },
          "execution_count": 20,
          "metadata": {},
          "output_type": "execute_result"
        }
      ],
      "source": [
        "recall_at_k(test_label, candidates, k=10)"
      ]
    },
    {
      "cell_type": "code",
      "execution_count": 21,
      "metadata": {
        "colab": {
          "base_uri": "https://localhost:8080/"
        },
        "id": "WyU4hfCihzgw",
        "outputId": "07cb227b-2a28-445a-ff20-9e78f47e1afb"
      },
      "outputs": [
        {
          "data": {
            "text/plain": [
              "0.1295964882660814"
            ]
          },
          "execution_count": 21,
          "metadata": {},
          "output_type": "execute_result"
        }
      ],
      "source": [
        "recall_at_k(test_label, candidates, k=100)"
      ]
    },
    {
      "cell_type": "markdown",
      "metadata": {
        "id": "l9L5duhQhzgw"
      },
      "source": [
        "## Prepare data for ranking"
      ]
    },
    {
      "cell_type": "code",
      "execution_count": 22,
      "metadata": {
        "id": "XpXydY19hzgx"
      },
      "outputs": [],
      "source": [
        "test_user_embs = user_embedding_model.predict(test_data, batch_size=2 ** 15)\n",
        "test_candidates = search_embedding(\n",
        "    64, \n",
        "    item_embs, \n",
        "    test_user_embs,\n",
        "    data['item']['movie_id'].values,\n",
        "    CANDIDATE_NUM,\n",
        "    gpu=True\n",
        ")\n",
        "\n",
        "test_candidates = {\n",
        "    test_data['user_id'][i] : test_candidates[i]\n",
        "    for i in range(test_candidates.shape[0])\n",
        "}"
      ]
    },
    {
      "cell_type": "code",
      "execution_count": 23,
      "metadata": {
        "colab": {
          "base_uri": "https://localhost:8080/"
        },
        "id": "yynuwvUppia6",
        "outputId": "e8ec347f-a291-4477-b82f-b14ef264d70c"
      },
      "outputs": [
        {
          "data": {
            "text/plain": [
              "10032"
            ]
          },
          "execution_count": 23,
          "metadata": {},
          "output_type": "execute_result"
        }
      ],
      "source": [
        "del user_embs, item_embs, train_data, test_user_embs\n",
        "gc.collect()"
      ]
    },
    {
      "cell_type": "code",
      "execution_count": 24,
      "metadata": {
        "id": "hgGAvx-lgZJF"
      },
      "outputs": [],
      "source": [
        "user_features = ['user_id', 'gender', 'occupation', 'zip', 'age']\n",
        "item_features = ['movie_id', 'year', 'genres']\n",
        "inter_features = ['hist_movie']"
      ]
    },
    {
      "cell_type": "code",
      "execution_count": 25,
      "metadata": {
        "colab": {
          "base_uri": "https://localhost:8080/"
        },
        "id": "LHhcEiY_gZJG",
        "outputId": "49aeed6c-a743-488c-8fb5-8b70c5f5449e"
      },
      "outputs": [
        {
          "name": "stderr",
          "output_type": "stream",
          "text": [
            "Generate negative samples: 100%|██████████| 5923/5923 [00:03<00:00, 1647.70it/s]\n",
            "Regenerate test set: 100%|██████████| 5923/5923 [00:00<00:00, 874040.83it/s]\n",
            "Save user features: 100%|██████████| 5/5 [00:30<00:00,  6.15s/it]\n",
            "Save item features: 100%|██████████| 3/3 [00:26<00:00,  8.69s/it]\n",
            "Save inter features: 100%|██████████| 2/2 [00:34<00:00, 17.04s/it]\n"
          ]
        }
      ],
      "source": [
        "ranking_dataset = PointWiseDataset(\n",
        "    \"RankingDataset\",\n",
        "    task=\"ranking\",\n",
        "    data=data,\n",
        "    uid_name=\"user_id\",\n",
        "    iid_name=\"movie_id\",\n",
        "    inter_name=\"interact\",\n",
        "    time_name=\"timestamp\",\n",
        "    threshold=4,\n",
        ")\n",
        "\n",
        "ranking_dataset.train_test_split(TEST_NUM)\n",
        "ranking_dataset.negative_sampling(NEG_NUM)\n",
        "ranking_dataset.train_valid_split(VALID_RATIO)\n",
        "ranking_dataset.gen_dataset(user_features, item_features, inter_features, test_candidates)"
      ]
    },
    {
      "cell_type": "code",
      "execution_count": 26,
      "metadata": {
        "colab": {
          "base_uri": "https://localhost:8080/"
        },
        "id": "4wQASPHrhzgx",
        "outputId": "55609009-2957-4789-a469-e5c02fb4d872"
      },
      "outputs": [
        {
          "name": "stderr",
          "output_type": "stream",
          "text": [
            "Load user features: 100%|██████████| 5/5 [00:03<00:00,  1.44it/s]\n",
            "Load item features: 100%|██████████| 3/3 [00:02<00:00,  1.40it/s]\n",
            "Load inter features: 100%|██████████| 2/2 [00:01<00:00,  1.08it/s]\n"
          ]
        }
      ],
      "source": [
        "train_data, valid_data, test_data, test_label = ranking_dataset.load_dataset(\n",
        "    user_features, item_features, inter_features, BATCH_SIZE\n",
        ")"
      ]
    },
    {
      "cell_type": "code",
      "execution_count": 27,
      "metadata": {
        "id": "of_PY0kv9UZx"
      },
      "outputs": [],
      "source": [
        "feature_dim = ranking_dataset.get_feature_dim(user_features, item_features, [])\n",
        "feature_dim[\"genre_id\"] = 19"
      ]
    },
    {
      "cell_type": "markdown",
      "metadata": {
        "id": "kyApc4cJhzgy"
      },
      "source": [
        "# 3. Train rank model and predict <a name=\"section-3\"></a>"
      ]
    },
    {
      "cell_type": "code",
      "execution_count": 28,
      "metadata": {
        "id": "7tSWHejxBULW"
      },
      "outputs": [],
      "source": [
        "cfg = ConfigLoader(\"./HandyRec/examples/YouTubeDNN/YouTubeRankDNN_cfg.yaml\")\n",
        "feature_groups = cfg.prepare_features(feature_dim, data)"
      ]
    },
    {
      "cell_type": "code",
      "execution_count": 29,
      "metadata": {
        "id": "_uvYZtxBhzgy"
      },
      "outputs": [],
      "source": [
        "rank_model = YouTubeRankDNN(\n",
        "    feature_groups[\"user_feature_group\"],\n",
        "    feature_groups[\"item_feature_group\"],\n",
        "    **cfg.config.Model\n",
        ")"
      ]
    },
    {
      "cell_type": "code",
      "execution_count": 30,
      "metadata": {
        "colab": {
          "base_uri": "https://localhost:8080/",
          "height": 564
        },
        "id": "huHdcNW5s3ih",
        "outputId": "d1b18a2d-dd34-4b2f-8ee0-0c0ece5429fd"
      },
      "outputs": [
        {
          "data": {
            "image/png": "[encoded data removed]",
            "text/plain": [
              "<IPython.core.display.Image object>"
            ]
          },
          "execution_count": 30,
          "metadata": {},
          "output_type": "execute_result"
        }
      ],
      "source": [
        "plot_model(rank_model)"
      ]
    },
    {
      "cell_type": "code",
      "execution_count": 31,
      "metadata": {
        "colab": {
          "base_uri": "https://localhost:8080/"
        },
        "id": "H8l7JU3phzgy",
        "outputId": "a14160f9-0075-4eb8-c7ca-dcc9ec7e0f42"
      },
      "outputs": [
        {
          "name": "stdout",
          "output_type": "stream",
          "text": [
            "Epoch 1/50\n",
            "1246/1246 [==============================] - 33s 25ms/step - loss: 0.3895 - val_loss: 0.2202\n",
            "Epoch 2/50\n",
            "1246/1246 [==============================] - 33s 26ms/step - loss: 0.3358 - val_loss: 0.2178\n",
            "Epoch 3/50\n",
            "1246/1246 [==============================] - 33s 26ms/step - loss: 0.3329 - val_loss: 0.2145\n",
            "Epoch 4/50\n",
            "1246/1246 [==============================] - 32s 26ms/step - loss: 0.3029 - val_loss: 0.1499\n",
            "Epoch 5/50\n",
            "1246/1246 [==============================] - 32s 26ms/step - loss: 0.2621 - val_loss: 0.1278\n",
            "Epoch 6/50\n",
            "1246/1246 [==============================] - 33s 26ms/step - loss: 0.2455 - val_loss: 0.1113\n",
            "Epoch 7/50\n",
            "1246/1246 [==============================] - 33s 26ms/step - loss: 0.2342 - val_loss: 0.1032\n",
            "Epoch 8/50\n",
            "1246/1246 [==============================] - 32s 26ms/step - loss: 0.2266 - val_loss: 0.0976\n",
            "Epoch 9/50\n",
            "1246/1246 [==============================] - 33s 26ms/step - loss: 0.2221 - val_loss: 0.0938\n",
            "Epoch 10/50\n",
            "1246/1246 [==============================] - 32s 26ms/step - loss: 0.2189 - val_loss: 0.0923\n",
            "Epoch 11/50\n",
            "1246/1246 [==============================] - 32s 26ms/step - loss: 0.2157 - val_loss: 0.0891\n",
            "Epoch 12/50\n",
            "1246/1246 [==============================] - 32s 26ms/step - loss: 0.2136 - val_loss: 0.0868\n",
            "Epoch 13/50\n",
            "1246/1246 [==============================] - 32s 26ms/step - loss: 0.2104 - val_loss: 0.0851\n",
            "Epoch 14/50\n",
            "1246/1246 [==============================] - 32s 26ms/step - loss: 0.2085 - val_loss: 0.0834\n",
            "Epoch 15/50\n",
            "1246/1246 [==============================] - 32s 26ms/step - loss: 0.2063 - val_loss: 0.0818\n",
            "Epoch 16/50\n",
            "1246/1246 [==============================] - 33s 26ms/step - loss: 0.2041 - val_loss: 0.0811\n",
            "Epoch 17/50\n",
            "1246/1246 [==============================] - 32s 26ms/step - loss: 0.2026 - val_loss: 0.0791\n",
            "Epoch 18/50\n",
            "1246/1246 [==============================] - 32s 26ms/step - loss: 0.2009 - val_loss: 0.0778\n",
            "Epoch 19/50\n",
            "1246/1246 [==============================] - 33s 26ms/step - loss: 0.1990 - val_loss: 0.0763\n",
            "Epoch 20/50\n",
            "1246/1246 [==============================] - 33s 26ms/step - loss: 0.1975 - val_loss: 0.0760\n",
            "Epoch 21/50\n",
            "1246/1246 [==============================] - 32s 26ms/step - loss: 0.1959 - val_loss: 0.0745\n",
            "Epoch 22/50\n",
            "1246/1246 [==============================] - 33s 26ms/step - loss: 0.1939 - val_loss: 0.0737\n",
            "Epoch 23/50\n",
            "1246/1246 [==============================] - 33s 27ms/step - loss: 0.1938 - val_loss: 0.0735\n",
            "Epoch 24/50\n",
            "1246/1246 [==============================] - 33s 26ms/step - loss: 0.1916 - val_loss: 0.0720\n",
            "Epoch 25/50\n",
            "1246/1246 [==============================] - 33s 26ms/step - loss: 0.1909 - val_loss: 0.0708\n",
            "Epoch 26/50\n",
            "1246/1246 [==============================] - 32s 26ms/step - loss: 0.1893 - val_loss: 0.0704\n",
            "Epoch 27/50\n",
            "1246/1246 [==============================] - 33s 26ms/step - loss: 0.1881 - val_loss: 0.0701\n",
            "Epoch 28/50\n",
            "1246/1246 [==============================] - 33s 26ms/step - loss: 0.1867 - val_loss: 0.0702\n",
            "Epoch 29/50\n",
            "1246/1246 [==============================] - 32s 26ms/step - loss: 0.1881 - val_loss: 0.0688\n",
            "Epoch 30/50\n",
            "1246/1246 [==============================] - 33s 26ms/step - loss: 0.1858 - val_loss: 0.0681\n",
            "Epoch 31/50\n",
            "1246/1246 [==============================] - 33s 26ms/step - loss: 0.1852 - val_loss: 0.0681\n",
            "Epoch 32/50\n",
            "1246/1246 [==============================] - 32s 26ms/step - loss: 0.1835 - val_loss: 0.0688\n",
            "Epoch 33/50\n",
            "1246/1246 [==============================] - 33s 26ms/step - loss: 0.1826 - val_loss: 0.0677\n",
            "Epoch 34/50\n",
            "1246/1246 [==============================] - 33s 26ms/step - loss: 0.1820 - val_loss: 0.0682\n",
            "Epoch 35/50\n",
            "1246/1246 [==============================] - 32s 26ms/step - loss: 0.1806 - val_loss: 0.0680\n",
            "Epoch 36/50\n",
            "1246/1246 [==============================] - 33s 26ms/step - loss: 0.1809 - val_loss: 0.0679\n",
            "Epoch 37/50\n",
            "1246/1246 [==============================] - 33s 26ms/step - loss: 0.1805 - val_loss: 0.0673\n",
            "Epoch 38/50\n",
            "1246/1246 [==============================] - 34s 27ms/step - loss: 0.1788 - val_loss: 0.0675\n",
            "Epoch 39/50\n",
            "1246/1246 [==============================] - 33s 26ms/step - loss: 0.1786 - val_loss: 0.0686\n",
            "Epoch 40/50\n",
            "1246/1246 [==============================] - 33s 26ms/step - loss: 0.1782 - val_loss: 0.0677\n",
            "Epoch 41/50\n",
            "1246/1246 [==============================] - 32s 26ms/step - loss: 0.1779 - val_loss: 0.0670\n",
            "Epoch 42/50\n",
            "1246/1246 [==============================] - 33s 26ms/step - loss: 0.1762 - val_loss: 0.0673\n",
            "Epoch 43/50\n",
            "1246/1246 [==============================] - 32s 26ms/step - loss: 0.1765 - val_loss: 0.0673\n",
            "Epoch 44/50\n",
            "1246/1246 [==============================] - 32s 26ms/step - loss: 0.1759 - val_loss: 0.0680\n",
            "Epoch 45/50\n",
            "1246/1246 [==============================] - 32s 26ms/step - loss: 0.1757 - val_loss: 0.0684\n",
            "Epoch 46/50\n",
            "1246/1246 [==============================] - 32s 26ms/step - loss: 0.1749 - val_loss: 0.0681\n"
          ]
        }
      ],
      "source": [
        "rank_model.compile(optimizer=tf.keras.optimizers.Adam(lr=1e-4), loss=binary_crossentropy)\n",
        "early_stop = tf.keras.callbacks.EarlyStopping(monitor='val_loss', patience=5)\n",
        "checkpoint = tf.keras.callbacks.ModelCheckpoint(\n",
        "    filepath='./rank_checkpoint/',\n",
        "    save_weights_only=True,\n",
        "    monitor='val_loss',\n",
        "    mode='min',\n",
        "    save_best_only=True\n",
        ")\n",
        "history = rank_model.fit(\n",
        "    x=train_data, \n",
        "    validation_data=valid_data,\n",
        "    epochs=NEPOCH,\n",
        "    callbacks=[early_stop,checkpoint]\n",
        ")"
      ]
    },
    {
      "cell_type": "code",
      "execution_count": 32,
      "metadata": {
        "colab": {
          "base_uri": "https://localhost:8080/"
        },
        "id": "w52A7cJ8hzgz",
        "outputId": "c94ea59e-457c-44da-df6d-c212445b0865"
      },
      "outputs": [
        {
          "data": {
            "text/plain": [
              "<tensorflow.python.training.tracking.util.CheckpointLoadStatus at 0x7f0b5210afd0>"
            ]
          },
          "execution_count": 32,
          "metadata": {},
          "output_type": "execute_result"
        }
      ],
      "source": [
        "rank_model.load_weights('./rank_checkpoint/')"
      ]
    },
    {
      "cell_type": "code",
      "execution_count": 33,
      "metadata": {
        "colab": {
          "base_uri": "https://localhost:8080/"
        },
        "id": "Fr61KpmewPuB",
        "outputId": "aaae35a8-0aaa-40c8-c0d0-bf9e00fb0582"
      },
      "outputs": [
        {
          "data": {
            "text/plain": [
              "5339"
            ]
          },
          "execution_count": 33,
          "metadata": {},
          "output_type": "execute_result"
        }
      ],
      "source": [
        "del train_data\n",
        "gc.collect()"
      ]
    },
    {
      "cell_type": "code",
      "execution_count": 34,
      "metadata": {
        "id": "zUQJ7IdLhzgz"
      },
      "outputs": [],
      "source": [
        "pred = rank_model.predict(test_data, batch_size=BATCH_SIZE)"
      ]
    },
    {
      "cell_type": "code",
      "execution_count": 35,
      "metadata": {
        "id": "SoCzRNuphzgz"
      },
      "outputs": [],
      "source": [
        "pred_df = pd.DataFrame(columns=['user_id','movie_id','pred'])\n",
        "pred_df['user_id'] = test_data['user_id']\n",
        "pred_df['movie_id'] = test_data['movie_id']\n",
        "pred_df['pred'] = pred\n",
        "\n",
        "pred_df = pred_df.sort_values(by=['user_id','pred'], ascending=False).reset_index(drop=True)\n",
        "pred_df = pred_df.groupby('user_id')['movie_id'].apply(list).reset_index()"
      ]
    },
    {
      "cell_type": "code",
      "execution_count": 36,
      "metadata": {
        "id": "rEQ9sQGjhzgz"
      },
      "outputs": [],
      "source": [
        "test_label_df = pd.DataFrame(columns=['user_id','label'])\n",
        "test_label_df['user_id'] = pd.Series(test_data['user_id']).drop_duplicates()\n",
        "test_label_df['label'] = test_label.tolist()"
      ]
    },
    {
      "cell_type": "code",
      "execution_count": 37,
      "metadata": {
        "id": "5T_uOn5Ohzgz"
      },
      "outputs": [],
      "source": [
        "test_label_df = pd.merge(test_label_df, pred_df, on=['user_id'], how='left')"
      ]
    },
    {
      "cell_type": "code",
      "execution_count": 38,
      "metadata": {
        "colab": {
          "base_uri": "https://localhost:8080/"
        },
        "id": "0HXT3XxAhzgz",
        "outputId": "bf23ec76-3bbb-49f7-895d-fbae003a502d"
      },
      "outputs": [
        {
          "data": {
            "text/plain": [
              "0.01563577820120113"
            ]
          },
          "execution_count": 38,
          "metadata": {},
          "output_type": "execute_result"
        }
      ],
      "source": [
        "map_at_k(test_label_df['label'], test_label_df['movie_id'], k=10)"
      ]
    },
    {
      "cell_type": "code",
      "execution_count": 39,
      "metadata": {
        "colab": {
          "base_uri": "https://localhost:8080/"
        },
        "id": "HHzj8iJKhzgz",
        "outputId": "d619dc28-5649-488a-bda1-c1fb066a6020"
      },
      "outputs": [
        {
          "data": {
            "text/plain": [
              "0.04362654060442343"
            ]
          },
          "execution_count": 39,
          "metadata": {},
          "output_type": "execute_result"
        }
      ],
      "source": [
        "recall_at_k(test_label_df['label'], test_label_df['movie_id'], k=10)"
      ]
    },
    {
      "cell_type": "code",
      "execution_count": 40,
      "metadata": {
        "colab": {
          "base_uri": "https://localhost:8080/"
        },
        "id": "y5L5ijkE-H1x",
        "outputId": "f91197f9-f6e7-48e2-f786-f7e92aedc880"
      },
      "outputs": [
        {
          "data": {
            "text/plain": [
              "0.1295964882660814"
            ]
          },
          "execution_count": 40,
          "metadata": {},
          "output_type": "execute_result"
        }
      ],
      "source": [
        "recall_at_k(test_label_df['label'], test_label_df['movie_id'], k=100)"
      ]
    }
  ],
  "metadata": {
    "accelerator": "GPU",
    "colab": {
      "collapsed_sections": [],
      "machine_shape": "hm",
      "name": "YouTubeDNN.ipynb",
      "provenance": []
    },
    "interpreter": {
      "hash": "653a9876bfda977334bab0c6eac4e690c97044cb3c76993a10b084536ae29e50"
    },
    "kernelspec": {
      "display_name": "Python 3.8.5 ('base')",
      "language": "python",
      "name": "python3"
    },
    "language_info": {
      "codemirror_mode": {
        "name": "ipython",
        "version": 3
      },
      "file_extension": ".py",
      "mimetype": "text/x-python",
      "name": "python",
      "nbconvert_exporter": "python",
      "pygments_lexer": "ipython3",
      "version": "3.7.11"
    }
  },
  "nbformat": 4,
  "nbformat_minor": 0
}
