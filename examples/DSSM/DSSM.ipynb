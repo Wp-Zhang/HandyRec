{
  "cells": [
    {
      "cell_type": "markdown",
      "metadata": {
        "id": "FXD2RCXzuzMx"
      },
      "source": [
        "[![Open In Colab](https://colab.research.google.com/assets/colab-badge.svg)](https://colab.research.google.com/github/Wp-Zhang/HandyRec/blob/master/examples/DSSM.ipynb)"
      ]
    },
    {
      "cell_type": "markdown",
      "metadata": {
        "id": "OJKT5uytzl7t"
      },
      "source": [
        "> This notebook runs DSSM for candidate generation on MovieLens1M dataset. \n",
        "\n",
        "> Only movies with ratings larger than 3 are treated as 'positive' samples for each user. Every last 10 'positive' movies of each user are held out for testing."
      ]
    },
    {
      "cell_type": "markdown",
      "metadata": {
        "id": "YtD_3eG3xekg"
      },
      "source": [
        "## Table of Contents:\n",
        "* [Prepare data for retrieval](#section-0)\n",
        "* [Train retrieve model and export embeddings](#section-1)\n",
        "* [Use Faiss to generate candidates](#section-2)"
      ]
    },
    {
      "cell_type": "markdown",
      "metadata": {
        "id": "XFTLC9SQzxK4"
      },
      "source": [
        "**Download dataset and install packages**"
      ]
    },
    {
      "cell_type": "code",
      "execution_count": 1,
      "metadata": {
        "colab": {
          "base_uri": "https://localhost:8080/"
        },
        "id": "WSk1WSSpvXfL",
        "outputId": "2312da01-8902-4651-fcec-37cefbd7b954"
      },
      "outputs": [
        {
          "name": "stdout",
          "output_type": "stream",
          "text": [
            "Cloning into 'HandyRec'...\n",
            "remote: Enumerating objects: 1704, done.\u001b[K\n",
            "remote: Counting objects: 100% (1704/1704), done.\u001b[K\n",
            "remote: Compressing objects: 100% (1269/1269), done.\u001b[K\n",
            "remote: Total 1704 (delta 682), reused 1309 (delta 383), pack-reused 0\u001b[K\n",
            "Receiving objects: 100% (1704/1704), 20.92 MiB | 8.41 MiB/s, done.\n",
            "Resolving deltas: 100% (682/682), done.\n",
            "Collecting faiss-cpu\n",
            "  Downloading faiss_cpu-1.7.2-cp37-cp37m-manylinux_2_17_x86_64.manylinux2014_x86_64.whl (8.6 MB)\n",
            "\u001b[K     |████████████████████████████████| 8.6 MB 3.1 MB/s \n",
            "\u001b[?25hInstalling collected packages: faiss-cpu\n",
            "Successfully installed faiss-cpu-1.7.2\n"
          ]
        }
      ],
      "source": [
        "! git clone https://github.com/Wp-Zhang/HandyRec.git\n",
        "! cd HandyRec && python setup.py install\n",
        "! pip install faiss-gpu"
      ]
    },
    {
      "cell_type": "code",
      "execution_count": 2,
      "metadata": {
        "colab": {
          "base_uri": "https://localhost:8080/"
        },
        "id": "uiIqXdbUyCEi",
        "outputId": "a77a1f6a-0b52-4f12-cc99-768cb91eddc1"
      },
      "outputs": [
        {
          "name": "stdout",
          "output_type": "stream",
          "text": [
            "--2022-04-15 22:27:10--  https://files.grouplens.org/datasets/movielens/ml-1m.zip\n",
            "Resolving files.grouplens.org (files.grouplens.org)... 128.101.65.152\n",
            "Connecting to files.grouplens.org (files.grouplens.org)|128.101.65.152|:443... connected.\n",
            "HTTP request sent, awaiting response... 200 OK\n",
            "Length: 5917549 (5.6M) [application/zip]\n",
            "Saving to: ‘./ml-1m.zip’\n",
            "\n",
            "./ml-1m.zip         100%[===================>]   5.64M  4.16MB/s    in 1.4s    \n",
            "\n",
            "2022-04-15 22:27:12 (4.16 MB/s) - ‘./ml-1m.zip’ saved [5917549/5917549]\n",
            "\n",
            "Archive:  ml-1m.zip\n",
            "   creating: ml-1m/\n",
            "  inflating: ml-1m/movies.dat        \n",
            "  inflating: ml-1m/ratings.dat       \n",
            "  inflating: ml-1m/README            \n",
            "  inflating: ml-1m/users.dat         \n"
          ]
        }
      ],
      "source": [
        "! wget https://files.grouplens.org/datasets/movielens/ml-1m.zip -O ./ml-1m.zip\n",
        "! unzip -o ml-1m.zip"
      ]
    },
    {
      "cell_type": "markdown",
      "metadata": {
        "id": "gsUc0pRE0BEH"
      },
      "source": [
        "**Import relative packages**"
      ]
    },
    {
      "cell_type": "code",
      "execution_count": 4,
      "metadata": {
        "id": "NlQtiTrmuzM3"
      },
      "outputs": [],
      "source": [
        "from handyrec.data.movielens import MovielensDataHelper\n",
        "from handyrec.data.utils import gen_sequence\n",
        "from handyrec.data import PointWiseDataset\n",
        "\n",
        "from handyrec.layers.utils import sampledsoftmaxloss\n",
        "from handyrec.models.retrieval import DSSM\n",
        "from handyrec.config import ConfigLoader\n",
        "from handyrec.data.metrics import map_at_k, recall_at_k\n",
        "from handyrec.models.utils import search_embedding\n",
        "\n",
        "import tensorflow as tf\n",
        "from tensorflow.keras import Model\n",
        "from tensorflow.keras.utils import plot_model\n",
        "import numpy as np"
      ]
    },
    {
      "cell_type": "code",
      "execution_count": 5,
      "metadata": {
        "id": "iYOxv7-auzM3"
      },
      "outputs": [],
      "source": [
        "import warnings\n",
        "warnings.filterwarnings('ignore')"
      ]
    },
    {
      "cell_type": "code",
      "execution_count": 6,
      "metadata": {
        "id": "W8jyTPiz8K13"
      },
      "outputs": [],
      "source": [
        "RETRIEVE_EMBEDDING_DIM = 64\n",
        "SEQ_LEN = 40\n",
        "BATCH_SIZE = 2**12\n",
        "NEPOCH = 50\n",
        "\n",
        "TEST_NUM = 10\n",
        "VALID_RATIO = 0.1"
      ]
    },
    {
      "cell_type": "markdown",
      "metadata": {
        "id": "rLBhoUCFjYMR"
      },
      "source": [
        "**Load MovieLens1M data**"
      ]
    },
    {
      "cell_type": "code",
      "execution_count": 7,
      "metadata": {
        "colab": {
          "base_uri": "https://localhost:8080/"
        },
        "id": "bOhsjfcljYMS",
        "outputId": "41bef534-c1f7-4b94-a411-97acc915e0af"
      },
      "outputs": [
        {
          "name": "stderr",
          "output_type": "stream",
          "text": [
            "Encode User Sparse Feats: 100%|██████████| 4/4 [00:00<00:00, 140.99it/s]\n",
            "Encode Item Sparse Feats: 100%|██████████| 1/1 [00:00<00:00, 200.35it/s]\n",
            "Generate movie_id sequence: 100%|██████████| 6040/6040 [00:06<00:00, 980.06it/s] \n"
          ]
        }
      ],
      "source": [
        "dh = MovielensDataHelper('./ml-1m/')\n",
        "data = dh.get_clean_data(sparse_features=['gender','occupation','zip','age','year'])\n",
        "data['inter']['hist_movie'] = gen_sequence(data['inter'], 'user_id', 'movie_id', SEQ_LEN)"
      ]
    },
    {
      "cell_type": "markdown",
      "metadata": {
        "id": "MXNUDnO_0VLl"
      },
      "source": [
        "# 0. Prepare data for retrieval<a name=\"section-0\"></a>"
      ]
    },
    {
      "cell_type": "code",
      "execution_count": 8,
      "metadata": {
        "id": "W9tWhBWRjYMU"
      },
      "outputs": [],
      "source": [
        "user_features = ['user_id', 'gender', 'occupation']\n",
        "item_features = ['movie_id','genres']\n",
        "inter_features = ['hist_movie']"
      ]
    },
    {
      "cell_type": "code",
      "execution_count": 9,
      "metadata": {
        "colab": {
          "base_uri": "https://localhost:8080/"
        },
        "id": "wgw6prfluzM5",
        "outputId": "25633178-b172-4df5-c56b-a235db674d95"
      },
      "outputs": [
        {
          "name": "stderr",
          "output_type": "stream",
          "text": [
            "Save user features: 100%|██████████| 3/3 [00:02<00:00,  1.14it/s]\n",
            "Save item features: 100%|██████████| 2/2 [00:02<00:00,  1.14s/it]\n",
            "Save inter features: 100%|██████████| 2/2 [00:04<00:00,  2.13s/it]\n"
          ]
        }
      ],
      "source": [
        "retrieval_dataset = PointWiseDataset(\n",
        "    \"RetrievalDataset\",\n",
        "    task=\"retrieval\",\n",
        "    data=data,\n",
        "    uid_name=\"user_id\",\n",
        "    iid_name=\"movie_id\",\n",
        "    inter_name=\"interact\",\n",
        "    time_name=\"timestamp\",\n",
        "    threshold=4,\n",
        ")\n",
        "\n",
        "retrieval_dataset.train_test_split(TEST_NUM)\n",
        "retrieval_dataset.train_valid_split(VALID_RATIO)\n",
        "retrieval_dataset.gen_dataset(user_features, item_features, inter_features, shuffle=False)"
      ]
    },
    {
      "cell_type": "code",
      "execution_count": 10,
      "metadata": {
        "colab": {
          "base_uri": "https://localhost:8080/"
        },
        "id": "nWhojvyKuzM7",
        "outputId": "3cb4818c-361e-430f-d049-b4ecfb2fe9cb"
      },
      "outputs": [
        {
          "name": "stderr",
          "output_type": "stream",
          "text": [
            "Load user features: 100%|██████████| 3/3 [00:02<00:00,  1.25it/s]\n",
            "Load item features: 100%|██████████| 2/2 [00:01<00:00,  1.25it/s]\n",
            "Load inter features: 100%|██████████| 2/2 [00:01<00:00,  1.22it/s]\n"
          ]
        }
      ],
      "source": [
        "train_data, valid_data, test_data, test_label = retrieval_dataset.load_dataset(\n",
        "    user_features, item_features, inter_features, BATCH_SIZE\n",
        ")"
      ]
    },
    {
      "cell_type": "code",
      "execution_count": 11,
      "metadata": {
        "id": "VJR1Ybd18t7g"
      },
      "outputs": [],
      "source": [
        "feature_dim = retrieval_dataset.get_feature_dim(user_features, item_features, [])"
      ]
    },
    {
      "cell_type": "markdown",
      "metadata": {
        "id": "wMAdJxpc0x1U"
      },
      "source": [
        "# 1. Train retrieve model and export embeddings <a name=\"section-1\"></a>"
      ]
    },
    {
      "cell_type": "code",
      "execution_count": 12,
      "metadata": {
        "id": "WC4c86_OjYMW"
      },
      "outputs": [],
      "source": [
        "cfg = ConfigLoader(\"./HandyRec/examples/DSSM/DSSM_cfg.yaml\")\n",
        "feature_groups = cfg.prepare_features(feature_dim, data)"
      ]
    },
    {
      "cell_type": "code",
      "execution_count": 15,
      "metadata": {
        "id": "lKURLYXkuzM-"
      },
      "outputs": [],
      "source": [
        "retrieve_model = DSSM(\n",
        "    feature_groups[\"user_feature_group\"],\n",
        "    feature_groups[\"item_feature_group\"],\n",
        "    **cfg.config.Model\n",
        ")"
      ]
    },
    {
      "cell_type": "code",
      "execution_count": 16,
      "metadata": {
        "colab": {
          "base_uri": "https://localhost:8080/",
          "height": 856
        },
        "id": "AQDtzo-4sw16",
        "outputId": "825de838-c0ea-4182-9b88-35e6e4b5378d"
      },
      "outputs": [
        {
          "data": {
            "image/png": "[encoded data removed]",
            "text/plain": [
              "<IPython.core.display.Image object>"
            ]
          },
          "execution_count": 16,
          "metadata": {},
          "output_type": "execute_result"
        }
      ],
      "source": [
        "plot_model(retrieve_model)"
      ]
    },
    {
      "cell_type": "code",
      "execution_count": 17,
      "metadata": {
        "colab": {
          "base_uri": "https://localhost:8080/"
        },
        "id": "2xizKlTvuzM_",
        "outputId": "44e1e055-1871-4f2d-d790-2053412c9325"
      },
      "outputs": [
        {
          "name": "stdout",
          "output_type": "stream",
          "text": [
            "Epoch 1/50\n",
            "114/114 [==============================] - 14s 65ms/step - loss: 11.6028 - val_loss: 3.8607\n",
            "Epoch 2/50\n",
            "114/114 [==============================] - 7s 59ms/step - loss: 5.1247 - val_loss: 3.8761\n",
            "Epoch 3/50\n",
            "114/114 [==============================] - 7s 59ms/step - loss: 3.9985 - val_loss: 3.6692\n",
            "Epoch 4/50\n",
            "114/114 [==============================] - 7s 59ms/step - loss: 3.2848 - val_loss: 3.2243\n",
            "Epoch 5/50\n",
            "114/114 [==============================] - 7s 58ms/step - loss: 2.8712 - val_loss: 2.5127\n",
            "Epoch 6/50\n",
            "114/114 [==============================] - 7s 60ms/step - loss: 2.5779 - val_loss: 2.1797\n",
            "Epoch 7/50\n",
            "114/114 [==============================] - 7s 61ms/step - loss: 2.3446 - val_loss: 1.9530\n",
            "Epoch 8/50\n",
            "114/114 [==============================] - 7s 59ms/step - loss: 2.1493 - val_loss: 1.7374\n",
            "Epoch 9/50\n",
            "114/114 [==============================] - 7s 60ms/step - loss: 2.0312 - val_loss: 1.6034\n",
            "Epoch 10/50\n",
            "114/114 [==============================] - 7s 57ms/step - loss: 1.9212 - val_loss: 1.6552\n",
            "Epoch 11/50\n",
            "114/114 [==============================] - 7s 58ms/step - loss: 1.8115 - val_loss: 1.4648\n",
            "Epoch 12/50\n",
            "114/114 [==============================] - 7s 58ms/step - loss: 1.7570 - val_loss: 1.3538\n",
            "Epoch 13/50\n",
            "114/114 [==============================] - 7s 62ms/step - loss: 1.6250 - val_loss: 1.3414\n",
            "Epoch 14/50\n",
            "114/114 [==============================] - 7s 58ms/step - loss: 1.5145 - val_loss: 1.2302\n",
            "Epoch 15/50\n",
            "114/114 [==============================] - 7s 57ms/step - loss: 1.4789 - val_loss: 1.2188\n",
            "Epoch 16/50\n",
            "114/114 [==============================] - 7s 58ms/step - loss: 1.4017 - val_loss: 1.1408\n",
            "Epoch 17/50\n",
            "114/114 [==============================] - 7s 57ms/step - loss: 1.4058 - val_loss: 1.1693\n",
            "Epoch 18/50\n",
            "114/114 [==============================] - 7s 58ms/step - loss: 1.3136 - val_loss: 0.9974\n",
            "Epoch 19/50\n",
            "114/114 [==============================] - 7s 59ms/step - loss: 1.2825 - val_loss: 1.0678\n",
            "Epoch 20/50\n",
            "114/114 [==============================] - 7s 60ms/step - loss: 1.2483 - val_loss: 1.1225\n",
            "Epoch 21/50\n",
            "114/114 [==============================] - 7s 59ms/step - loss: 1.2020 - val_loss: 0.9998\n",
            "Epoch 22/50\n",
            "114/114 [==============================] - 7s 59ms/step - loss: 1.1587 - val_loss: 0.9303\n",
            "Epoch 23/50\n",
            "114/114 [==============================] - 7s 58ms/step - loss: 1.1695 - val_loss: 0.9874\n",
            "Epoch 24/50\n",
            "114/114 [==============================] - 7s 61ms/step - loss: 1.1321 - val_loss: 0.9343\n",
            "Epoch 25/50\n",
            "114/114 [==============================] - 7s 59ms/step - loss: 1.0977 - val_loss: 0.9291\n",
            "Epoch 26/50\n",
            "114/114 [==============================] - 7s 58ms/step - loss: 1.0733 - val_loss: 0.9485\n",
            "Epoch 27/50\n",
            "114/114 [==============================] - 7s 60ms/step - loss: 1.0811 - val_loss: 0.8950\n",
            "Epoch 28/50\n",
            "114/114 [==============================] - 7s 58ms/step - loss: 1.0149 - val_loss: 0.8335\n",
            "Epoch 29/50\n",
            "114/114 [==============================] - 7s 58ms/step - loss: 0.9955 - val_loss: 0.8432\n",
            "Epoch 30/50\n",
            "114/114 [==============================] - 7s 62ms/step - loss: 0.9716 - val_loss: 0.8704\n",
            "Epoch 31/50\n",
            "114/114 [==============================] - 7s 58ms/step - loss: 0.9715 - val_loss: 0.7549\n",
            "Epoch 32/50\n",
            "114/114 [==============================] - 7s 56ms/step - loss: 0.9378 - val_loss: 0.8326\n",
            "Epoch 33/50\n",
            "114/114 [==============================] - 6s 56ms/step - loss: 0.9460 - val_loss: 0.8229\n",
            "Epoch 34/50\n",
            "114/114 [==============================] - 7s 59ms/step - loss: 0.9180 - val_loss: 0.7364\n",
            "Epoch 35/50\n",
            "114/114 [==============================] - 7s 57ms/step - loss: 0.8693 - val_loss: 0.8108\n",
            "Epoch 36/50\n",
            "114/114 [==============================] - 7s 59ms/step - loss: 0.8598 - val_loss: 0.7511\n",
            "Epoch 37/50\n",
            "114/114 [==============================] - 6s 56ms/step - loss: 0.8633 - val_loss: 0.7814\n",
            "Epoch 38/50\n",
            "114/114 [==============================] - 7s 56ms/step - loss: 0.8416 - val_loss: 0.8075\n",
            "Epoch 39/50\n",
            "114/114 [==============================] - 7s 58ms/step - loss: 0.8211 - val_loss: 0.6707\n",
            "Epoch 40/50\n",
            "114/114 [==============================] - 7s 56ms/step - loss: 0.8057 - val_loss: 0.7529\n",
            "Epoch 41/50\n",
            "114/114 [==============================] - 7s 59ms/step - loss: 0.7811 - val_loss: 0.7148\n",
            "Epoch 42/50\n",
            "114/114 [==============================] - 7s 56ms/step - loss: 0.7652 - val_loss: 0.7322\n",
            "Epoch 43/50\n",
            "114/114 [==============================] - 7s 57ms/step - loss: 0.7742 - val_loss: 0.6506\n",
            "Epoch 44/50\n",
            "114/114 [==============================] - 7s 56ms/step - loss: 0.7539 - val_loss: 0.7354\n",
            "Epoch 45/50\n",
            "114/114 [==============================] - 7s 57ms/step - loss: 0.7362 - val_loss: 0.6515\n",
            "Epoch 46/50\n",
            "114/114 [==============================] - 7s 57ms/step - loss: 0.7417 - val_loss: 0.6715\n",
            "Epoch 47/50\n",
            "114/114 [==============================] - 6s 56ms/step - loss: 0.7161 - val_loss: 0.7001\n",
            "Epoch 48/50\n",
            "114/114 [==============================] - 7s 58ms/step - loss: 0.7076 - val_loss: 0.6939\n",
            "Epoch 49/50\n",
            "114/114 [==============================] - 6s 56ms/step - loss: 0.6974 - val_loss: 0.6653\n",
            "Epoch 50/50\n",
            "114/114 [==============================] - 7s 61ms/step - loss: 0.6809 - val_loss: 0.6337\n"
          ]
        }
      ],
      "source": [
        "retrieve_model.compile(optimizer=tf.keras.optimizers.Adam(lr=3e-4), loss=sampledsoftmaxloss)\n",
        "early_stop = tf.keras.callbacks.EarlyStopping(monitor='val_loss', patience=10)\n",
        "checkpoint = tf.keras.callbacks.ModelCheckpoint(\n",
        "    filepath='./retrieve_checkpoint/',\n",
        "    save_weights_only=True,\n",
        "    monitor='val_loss',\n",
        "    mode='min',\n",
        "    save_best_only=True\n",
        ")\n",
        "history = retrieve_model.fit(\n",
        "    x=train_data,\n",
        "    validation_data=valid_data,\n",
        "    epochs=NEPOCH,\n",
        "    callbacks=[early_stop, checkpoint],\n",
        ")"
      ]
    },
    {
      "cell_type": "code",
      "execution_count": 18,
      "metadata": {
        "colab": {
          "base_uri": "https://localhost:8080/"
        },
        "id": "AGebkIE0uzM_",
        "outputId": "b07d9094-2485-4b10-96c0-fa979cacc48b"
      },
      "outputs": [
        {
          "data": {
            "text/plain": [
              "<tensorflow.python.training.tracking.util.CheckpointLoadStatus at 0x7f8d8c59ec90>"
            ]
          },
          "execution_count": 18,
          "metadata": {},
          "output_type": "execute_result"
        }
      ],
      "source": [
        "retrieve_model.load_weights('./retrieve_checkpoint/')"
      ]
    },
    {
      "cell_type": "code",
      "execution_count": 19,
      "metadata": {
        "colab": {
          "base_uri": "https://localhost:8080/"
        },
        "id": "G9AxEdKbuzM_",
        "outputId": "62e6cd02-5e58-42e6-fb6d-6c7cb25abcb2"
      },
      "outputs": [
        {
          "name": "stdout",
          "output_type": "stream",
          "text": [
            "(5923, 64)\n",
            "(3883, 64)\n"
          ]
        }
      ],
      "source": [
        "user_embedding_model = Model(inputs=retrieve_model.user_input, outputs=retrieve_model.user_embedding)\n",
        "item_embedding_model = Model(inputs=retrieve_model.item_input, outputs=retrieve_model.item_embedding)\n",
        "\n",
        "user_embs = user_embedding_model.predict(test_data, batch_size=2 ** 15)\n",
        "item_embs = item_embedding_model.predict(all_item_model_input, batch_size=2 ** 15)\n",
        "\n",
        "print(user_embs.shape)\n",
        "print(item_embs.shape)"
      ]
    },
    {
      "cell_type": "markdown",
      "metadata": {
        "id": "UJ49Jxnf0-1O"
      },
      "source": [
        "# 2. Use Faiss to generate candidates <a name=\"section-2\"></a>"
      ]
    },
    {
      "cell_type": "markdown",
      "metadata": {
        "id": "qEAI8Rl7hzgv"
      },
      "source": [
        "## Test retrieve model"
      ]
    },
    {
      "cell_type": "code",
      "execution_count": 20,
      "metadata": {
        "id": "cr39MwzduzNA"
      },
      "outputs": [],
      "source": [
        "candidates = search_embedding(\n",
        "    32, item_embs, user_embs, data[\"item\"][\"movie_id\"].values, 100, gpu=True\n",
        ")"
      ]
    },
    {
      "cell_type": "code",
      "execution_count": 21,
      "metadata": {
        "colab": {
          "base_uri": "https://localhost:8080/"
        },
        "id": "ZLc_JPubuzNB",
        "outputId": "eb7191da-25e9-4ae7-d7a5-82529e5cf3be"
      },
      "outputs": [
        {
          "data": {
            "text/plain": [
              "0.015839986171743727"
            ]
          },
          "execution_count": 21,
          "metadata": {},
          "output_type": "execute_result"
        }
      ],
      "source": [
        "map_at_k(test_label, candidates, k=10)"
      ]
    },
    {
      "cell_type": "code",
      "execution_count": 22,
      "metadata": {
        "colab": {
          "base_uri": "https://localhost:8080/"
        },
        "id": "kap-zVgguzNC",
        "outputId": "413a13b7-82c2-4c68-e090-5cbc8d07fd67"
      },
      "outputs": [
        {
          "data": {
            "text/plain": [
              "0.0409927401654567"
            ]
          },
          "execution_count": 22,
          "metadata": {},
          "output_type": "execute_result"
        }
      ],
      "source": [
        "recall_at_k(test_label, candidates, k=10)"
      ]
    },
    {
      "cell_type": "code",
      "execution_count": 23,
      "metadata": {
        "colab": {
          "base_uri": "https://localhost:8080/"
        },
        "id": "WyU4hfCihzgw",
        "outputId": "17642827-8e10-4c5f-e7a2-63f822da3a11"
      },
      "outputs": [
        {
          "data": {
            "text/plain": [
              "0.13538747256457878"
            ]
          },
          "execution_count": 23,
          "metadata": {},
          "output_type": "execute_result"
        }
      ],
      "source": [
        "recall_at_k(test_label, candidates, k=100)"
      ]
    }
  ],
  "metadata": {
    "accelerator": "GPU",
    "colab": {
      "collapsed_sections": [],
      "name": "DSSM.ipynb",
      "provenance": []
    },
    "interpreter": {
      "hash": "653a9876bfda977334bab0c6eac4e690c97044cb3c76993a10b084536ae29e50"
    },
    "kernelspec": {
      "display_name": "Python 3.8.5 ('base')",
      "language": "python",
      "name": "python3"
    },
    "language_info": {
      "codemirror_mode": {
        "name": "ipython",
        "version": 3
      },
      "file_extension": ".py",
      "mimetype": "text/x-python",
      "name": "python",
      "nbconvert_exporter": "python",
      "pygments_lexer": "ipython3",
      "version": "3.7.11"
    }
  },
  "nbformat": 4,
  "nbformat_minor": 0
}
