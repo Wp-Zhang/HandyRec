{
  "cells": [
    {
      "cell_type": "markdown",
      "metadata": {
        "id": "FXD2RCXzuzMx"
      },
      "source": [
        "[![Open In Colab](https://colab.research.google.com/assets/colab-badge.svg)](https://colab.research.google.com/github/Wp-Zhang/HandyRec/blob/master/examples/DSSM/DSSM.ipynb)"
      ]
    },
    {
      "cell_type": "markdown",
      "metadata": {
        "id": "OJKT5uytzl7t"
      },
      "source": [
        "> This notebook runs DSSM for candidate generation on MovieLens1M dataset. \n",
        "\n",
        "> Only movies with ratings larger than 3 are treated as 'positive' samples for each user. Every last 10 'positive' movies of each user are held out for testing."
      ]
    },
    {
      "cell_type": "markdown",
      "metadata": {
        "id": "YtD_3eG3xekg"
      },
      "source": [
        "## Table of Contents:\n",
        "* [Prepare data for retrieval](#section-0)\n",
        "* [Train retrieve model and export embeddings](#section-1)\n",
        "* [Use Faiss to generate candidates](#section-2)"
      ]
    },
    {
      "cell_type": "markdown",
      "metadata": {
        "id": "XFTLC9SQzxK4"
      },
      "source": [
        "**Download dataset and install packages**"
      ]
    },
    {
      "cell_type": "code",
      "execution_count": 8,
      "metadata": {
        "colab": {
          "base_uri": "https://localhost:8080/"
        },
        "id": "WSk1WSSpvXfL",
        "outputId": "a88eca06-1ea4-4ba3-ce8d-66c9d8b0ad59"
      },
      "outputs": [
        {
          "output_type": "stream",
          "name": "stdout",
          "text": [
            "Cloning into 'HandyRec'...\n",
            "remote: Enumerating objects: 2067, done.\u001b[K\n",
            "remote: Counting objects:   0% (1/264)\u001b[K\rremote: Counting objects:   1% (3/264)\u001b[K\rremote: Counting objects:   2% (6/264)\u001b[K\rremote: Counting objects:   3% (8/264)\u001b[K\rremote: Counting objects:   4% (11/264)\u001b[K\rremote: Counting objects:   5% (14/264)\u001b[K\rremote: Counting objects:   6% (16/264)\u001b[K\rremote: Counting objects:   7% (19/264)\u001b[K\rremote: Counting objects:   8% (22/264)\u001b[K\rremote: Counting objects:   9% (24/264)\u001b[K\rremote: Counting objects:  10% (27/264)\u001b[K\rremote: Counting objects:  11% (30/264)\u001b[K\rremote: Counting objects:  12% (32/264)\u001b[K\rremote: Counting objects:  13% (35/264)\u001b[K\rremote: Counting objects:  14% (37/264)\u001b[K\rremote: Counting objects:  15% (40/264)\u001b[K\rremote: Counting objects:  16% (43/264)\u001b[K\rremote: Counting objects:  17% (45/264)\u001b[K\rremote: Counting objects:  18% (48/264)\u001b[K\rremote: Counting objects:  19% (51/264)\u001b[K\rremote: Counting objects:  20% (53/264)\u001b[K\rremote: Counting objects:  21% (56/264)\u001b[K\rremote: Counting objects:  22% (59/264)\u001b[K\rremote: Counting objects:  23% (61/264)\u001b[K\rremote: Counting objects:  24% (64/264)\u001b[K\rremote: Counting objects:  25% (66/264)\u001b[K\rremote: Counting objects:  26% (69/264)\u001b[K\rremote: Counting objects:  27% (72/264)\u001b[K\rremote: Counting objects:  28% (74/264)\u001b[K\rremote: Counting objects:  29% (77/264)\u001b[K\rremote: Counting objects:  30% (80/264)\u001b[K\rremote: Counting objects:  31% (82/264)\u001b[K\rremote: Counting objects:  32% (85/264)\u001b[K\rremote: Counting objects:  33% (88/264)\u001b[K\rremote: Counting objects:  34% (90/264)\u001b[K\rremote: Counting objects:  35% (93/264)\u001b[K\rremote: Counting objects:  36% (96/264)\u001b[K\rremote: Counting objects:  37% (98/264)\u001b[K\rremote: Counting objects:  38% (101/264)\u001b[K\rremote: Counting objects:  39% (103/264)\u001b[K\rremote: Counting objects:  40% (106/264)\u001b[K\rremote: Counting objects:  41% (109/264)\u001b[K\rremote: Counting objects:  42% (111/264)\u001b[K\rremote: Counting objects:  43% (114/264)\u001b[K\rremote: Counting objects:  44% (117/264)\u001b[K\rremote: Counting objects:  45% (119/264)\u001b[K\rremote: Counting objects:  46% (122/264)\u001b[K\rremote: Counting objects:  47% (125/264)\u001b[K\rremote: Counting objects:  48% (127/264)\u001b[K\rremote: Counting objects:  49% (130/264)\u001b[K\rremote: Counting objects:  50% (132/264)\u001b[K\rremote: Counting objects:  51% (135/264)\u001b[K\rremote: Counting objects:  52% (138/264)\u001b[K\rremote: Counting objects:  53% (140/264)\u001b[K\rremote: Counting objects:  54% (143/264)\u001b[K\rremote: Counting objects:  55% (146/264)\u001b[K\rremote: Counting objects:  56% (148/264)\u001b[K\rremote: Counting objects:  57% (151/264)\u001b[K\rremote: Counting objects:  58% (154/264)\u001b[K\rremote: Counting objects:  59% (156/264)\u001b[K\rremote: Counting objects:  60% (159/264)\u001b[K\rremote: Counting objects:  61% (162/264)\u001b[K\rremote: Counting objects:  62% (164/264)\u001b[K\rremote: Counting objects:  63% (167/264)\u001b[K\rremote: Counting objects:  64% (169/264)\u001b[K\rremote: Counting objects:  65% (172/264)\u001b[K\rremote: Counting objects:  66% (175/264)\u001b[K\rremote: Counting objects:  67% (177/264)\u001b[K\rremote: Counting objects:  68% (180/264)\u001b[K\rremote: Counting objects:  69% (183/264)\u001b[K\rremote: Counting objects:  70% (185/264)\u001b[K\rremote: Counting objects:  71% (188/264)\u001b[K\rremote: Counting objects:  72% (191/264)\u001b[K\rremote: Counting objects:  73% (193/264)\u001b[K\rremote: Counting objects:  74% (196/264)\u001b[K\rremote: Counting objects:  75% (198/264)\u001b[K\rremote: Counting objects:  76% (201/264)\u001b[K\rremote: Counting objects:  77% (204/264)\u001b[K\rremote: Counting objects:  78% (206/264)\u001b[K\rremote: Counting objects:  79% (209/264)\u001b[K\rremote: Counting objects:  80% (212/264)\u001b[K\rremote: Counting objects:  81% (214/264)\u001b[K\rremote: Counting objects:  82% (217/264)\u001b[K\rremote: Counting objects:  83% (220/264)\u001b[K\rremote: Counting objects:  84% (222/264)\u001b[K\rremote: Counting objects:  85% (225/264)\u001b[K\rremote: Counting objects:  86% (228/264)\u001b[K\rremote: Counting objects:  87% (230/264)\u001b[K\rremote: Counting objects:  88% (233/264)\u001b[K\rremote: Counting objects:  89% (235/264)\u001b[K\rremote: Counting objects:  90% (238/264)\u001b[K\rremote: Counting objects:  91% (241/264)\u001b[K\rremote: Counting objects:  92% (243/264)\u001b[K\rremote: Counting objects:  93% (246/264)\u001b[K\rremote: Counting objects:  94% (249/264)\u001b[K\rremote: Counting objects:  95% (251/264)\u001b[K\rremote: Counting objects:  96% (254/264)\u001b[K\rremote: Counting objects:  97% (257/264)\u001b[K\rremote: Counting objects:  98% (259/264)\u001b[K\rremote: Counting objects:  99% (262/264)\u001b[K\rremote: Counting objects: 100% (264/264)\u001b[K\rremote: Counting objects: 100% (264/264), done.\u001b[K\n",
            "remote: Compressing objects: 100% (182/182), done.\u001b[K\n",
            "remote: Total 2067 (delta 118), reused 171 (delta 80), pack-reused 1803\u001b[K\n",
            "Receiving objects: 100% (2067/2067), 22.94 MiB | 34.25 MiB/s, done.\n",
            "Resolving deltas: 100% (872/872), done.\n",
            "running install\n",
            "running bdist_egg\n",
            "running egg_info\n",
            "creating handyrec.egg-info\n",
            "writing handyrec.egg-info/PKG-INFO\n",
            "writing dependency_links to handyrec.egg-info/dependency_links.txt\n",
            "writing requirements to handyrec.egg-info/requires.txt\n",
            "writing top-level names to handyrec.egg-info/top_level.txt\n",
            "writing manifest file 'handyrec.egg-info/SOURCES.txt'\n",
            "adding license file 'LICENSE'\n",
            "writing manifest file 'handyrec.egg-info/SOURCES.txt'\n",
            "installing library code to build/bdist.linux-x86_64/egg\n",
            "running install_lib\n",
            "running build_py\n",
            "creating build\n",
            "creating build/lib\n",
            "creating build/lib/handyrec\n",
            "copying handyrec/config.py -> build/lib/handyrec\n",
            "copying handyrec/__init__.py -> build/lib/handyrec\n",
            "creating build/lib/handyrec/layers\n",
            "copying handyrec/layers/tools.py -> build/lib/handyrec/layers\n",
            "copying handyrec/layers/core.py -> build/lib/handyrec/layers\n",
            "copying handyrec/layers/activation.py -> build/lib/handyrec/layers\n",
            "copying handyrec/layers/__init__.py -> build/lib/handyrec/layers\n",
            "copying handyrec/layers/sequence.py -> build/lib/handyrec/layers\n",
            "copying handyrec/layers/interaction.py -> build/lib/handyrec/layers\n",
            "copying handyrec/layers/utils.py -> build/lib/handyrec/layers\n",
            "creating build/lib/handyrec/models\n",
            "copying handyrec/models/__init__.py -> build/lib/handyrec/models\n",
            "copying handyrec/models/utils.py -> build/lib/handyrec/models\n",
            "creating build/lib/handyrec/data\n",
            "copying handyrec/data/metrics.py -> build/lib/handyrec/data\n",
            "copying handyrec/data/dataset.py -> build/lib/handyrec/data\n",
            "copying handyrec/data/movielens.py -> build/lib/handyrec/data\n",
            "copying handyrec/data/datahelper.py -> build/lib/handyrec/data\n",
            "copying handyrec/data/__init__.py -> build/lib/handyrec/data\n",
            "copying handyrec/data/utils.py -> build/lib/handyrec/data\n",
            "creating build/lib/handyrec/features\n",
            "copying handyrec/features/group.py -> build/lib/handyrec/features\n",
            "copying handyrec/features/__init__.py -> build/lib/handyrec/features\n",
            "copying handyrec/features/utils.py -> build/lib/handyrec/features\n",
            "copying handyrec/features/type.py -> build/lib/handyrec/features\n",
            "creating build/lib/handyrec/models/ranking\n",
            "copying handyrec/models/ranking/__init__.py -> build/lib/handyrec/models/ranking\n",
            "creating build/lib/handyrec/models/retrieval\n",
            "copying handyrec/models/retrieval/YouTubeMatchDNN.py -> build/lib/handyrec/models/retrieval\n",
            "copying handyrec/models/retrieval/DSSM.py -> build/lib/handyrec/models/retrieval\n",
            "copying handyrec/models/retrieval/__init__.py -> build/lib/handyrec/models/retrieval\n",
            "creating build/lib/handyrec/models/ranking/context_aware\n",
            "copying handyrec/models/ranking/context_aware/YouTubeRankDNN.py -> build/lib/handyrec/models/ranking/context_aware\n",
            "copying handyrec/models/ranking/context_aware/DeepFM.py -> build/lib/handyrec/models/ranking/context_aware\n",
            "copying handyrec/models/ranking/context_aware/__init__.py -> build/lib/handyrec/models/ranking/context_aware\n",
            "creating build/lib/handyrec/models/ranking/sequential\n",
            "copying handyrec/models/ranking/sequential/FMLPRec.py -> build/lib/handyrec/models/ranking/sequential\n",
            "copying handyrec/models/ranking/sequential/DIEN.py -> build/lib/handyrec/models/ranking/sequential\n",
            "copying handyrec/models/ranking/sequential/__init__.py -> build/lib/handyrec/models/ranking/sequential\n",
            "copying handyrec/models/ranking/sequential/DIN.py -> build/lib/handyrec/models/ranking/sequential\n",
            "creating build/bdist.linux-x86_64\n",
            "creating build/bdist.linux-x86_64/egg\n",
            "creating build/bdist.linux-x86_64/egg/handyrec\n",
            "creating build/bdist.linux-x86_64/egg/handyrec/layers\n",
            "copying build/lib/handyrec/layers/tools.py -> build/bdist.linux-x86_64/egg/handyrec/layers\n",
            "copying build/lib/handyrec/layers/core.py -> build/bdist.linux-x86_64/egg/handyrec/layers\n",
            "copying build/lib/handyrec/layers/activation.py -> build/bdist.linux-x86_64/egg/handyrec/layers\n",
            "copying build/lib/handyrec/layers/__init__.py -> build/bdist.linux-x86_64/egg/handyrec/layers\n",
            "copying build/lib/handyrec/layers/sequence.py -> build/bdist.linux-x86_64/egg/handyrec/layers\n",
            "copying build/lib/handyrec/layers/interaction.py -> build/bdist.linux-x86_64/egg/handyrec/layers\n",
            "copying build/lib/handyrec/layers/utils.py -> build/bdist.linux-x86_64/egg/handyrec/layers\n",
            "copying build/lib/handyrec/config.py -> build/bdist.linux-x86_64/egg/handyrec\n",
            "creating build/bdist.linux-x86_64/egg/handyrec/models\n",
            "creating build/bdist.linux-x86_64/egg/handyrec/models/ranking\n",
            "creating build/bdist.linux-x86_64/egg/handyrec/models/ranking/context_aware\n",
            "copying build/lib/handyrec/models/ranking/context_aware/YouTubeRankDNN.py -> build/bdist.linux-x86_64/egg/handyrec/models/ranking/context_aware\n",
            "copying build/lib/handyrec/models/ranking/context_aware/DeepFM.py -> build/bdist.linux-x86_64/egg/handyrec/models/ranking/context_aware\n",
            "copying build/lib/handyrec/models/ranking/context_aware/__init__.py -> build/bdist.linux-x86_64/egg/handyrec/models/ranking/context_aware\n",
            "creating build/bdist.linux-x86_64/egg/handyrec/models/ranking/sequential\n",
            "copying build/lib/handyrec/models/ranking/sequential/FMLPRec.py -> build/bdist.linux-x86_64/egg/handyrec/models/ranking/sequential\n",
            "copying build/lib/handyrec/models/ranking/sequential/DIEN.py -> build/bdist.linux-x86_64/egg/handyrec/models/ranking/sequential\n",
            "copying build/lib/handyrec/models/ranking/sequential/__init__.py -> build/bdist.linux-x86_64/egg/handyrec/models/ranking/sequential\n",
            "copying build/lib/handyrec/models/ranking/sequential/DIN.py -> build/bdist.linux-x86_64/egg/handyrec/models/ranking/sequential\n",
            "copying build/lib/handyrec/models/ranking/__init__.py -> build/bdist.linux-x86_64/egg/handyrec/models/ranking\n",
            "creating build/bdist.linux-x86_64/egg/handyrec/models/retrieval\n",
            "copying build/lib/handyrec/models/retrieval/YouTubeMatchDNN.py -> build/bdist.linux-x86_64/egg/handyrec/models/retrieval\n",
            "copying build/lib/handyrec/models/retrieval/DSSM.py -> build/bdist.linux-x86_64/egg/handyrec/models/retrieval\n",
            "copying build/lib/handyrec/models/retrieval/__init__.py -> build/bdist.linux-x86_64/egg/handyrec/models/retrieval\n",
            "copying build/lib/handyrec/models/__init__.py -> build/bdist.linux-x86_64/egg/handyrec/models\n",
            "copying build/lib/handyrec/models/utils.py -> build/bdist.linux-x86_64/egg/handyrec/models\n",
            "copying build/lib/handyrec/__init__.py -> build/bdist.linux-x86_64/egg/handyrec\n",
            "creating build/bdist.linux-x86_64/egg/handyrec/data\n",
            "copying build/lib/handyrec/data/metrics.py -> build/bdist.linux-x86_64/egg/handyrec/data\n",
            "copying build/lib/handyrec/data/dataset.py -> build/bdist.linux-x86_64/egg/handyrec/data\n",
            "copying build/lib/handyrec/data/movielens.py -> build/bdist.linux-x86_64/egg/handyrec/data\n",
            "copying build/lib/handyrec/data/datahelper.py -> build/bdist.linux-x86_64/egg/handyrec/data\n",
            "copying build/lib/handyrec/data/__init__.py -> build/bdist.linux-x86_64/egg/handyrec/data\n",
            "copying build/lib/handyrec/data/utils.py -> build/bdist.linux-x86_64/egg/handyrec/data\n",
            "creating build/bdist.linux-x86_64/egg/handyrec/features\n",
            "copying build/lib/handyrec/features/group.py -> build/bdist.linux-x86_64/egg/handyrec/features\n",
            "copying build/lib/handyrec/features/__init__.py -> build/bdist.linux-x86_64/egg/handyrec/features\n",
            "copying build/lib/handyrec/features/utils.py -> build/bdist.linux-x86_64/egg/handyrec/features\n",
            "copying build/lib/handyrec/features/type.py -> build/bdist.linux-x86_64/egg/handyrec/features\n",
            "byte-compiling build/bdist.linux-x86_64/egg/handyrec/layers/tools.py to tools.cpython-37.pyc\n",
            "byte-compiling build/bdist.linux-x86_64/egg/handyrec/layers/core.py to core.cpython-37.pyc\n",
            "byte-compiling build/bdist.linux-x86_64/egg/handyrec/layers/activation.py to activation.cpython-37.pyc\n",
            "byte-compiling build/bdist.linux-x86_64/egg/handyrec/layers/__init__.py to __init__.cpython-37.pyc\n",
            "byte-compiling build/bdist.linux-x86_64/egg/handyrec/layers/sequence.py to sequence.cpython-37.pyc\n",
            "byte-compiling build/bdist.linux-x86_64/egg/handyrec/layers/interaction.py to interaction.cpython-37.pyc\n",
            "byte-compiling build/bdist.linux-x86_64/egg/handyrec/layers/utils.py to utils.cpython-37.pyc\n",
            "byte-compiling build/bdist.linux-x86_64/egg/handyrec/config.py to config.cpython-37.pyc\n",
            "byte-compiling build/bdist.linux-x86_64/egg/handyrec/models/ranking/context_aware/YouTubeRankDNN.py to YouTubeRankDNN.cpython-37.pyc\n",
            "byte-compiling build/bdist.linux-x86_64/egg/handyrec/models/ranking/context_aware/DeepFM.py to DeepFM.cpython-37.pyc\n",
            "byte-compiling build/bdist.linux-x86_64/egg/handyrec/models/ranking/context_aware/__init__.py to __init__.cpython-37.pyc\n",
            "byte-compiling build/bdist.linux-x86_64/egg/handyrec/models/ranking/sequential/FMLPRec.py to FMLPRec.cpython-37.pyc\n",
            "byte-compiling build/bdist.linux-x86_64/egg/handyrec/models/ranking/sequential/DIEN.py to DIEN.cpython-37.pyc\n",
            "byte-compiling build/bdist.linux-x86_64/egg/handyrec/models/ranking/sequential/__init__.py to __init__.cpython-37.pyc\n",
            "byte-compiling build/bdist.linux-x86_64/egg/handyrec/models/ranking/sequential/DIN.py to DIN.cpython-37.pyc\n",
            "byte-compiling build/bdist.linux-x86_64/egg/handyrec/models/ranking/__init__.py to __init__.cpython-37.pyc\n",
            "byte-compiling build/bdist.linux-x86_64/egg/handyrec/models/retrieval/YouTubeMatchDNN.py to YouTubeMatchDNN.cpython-37.pyc\n",
            "byte-compiling build/bdist.linux-x86_64/egg/handyrec/models/retrieval/DSSM.py to DSSM.cpython-37.pyc\n",
            "byte-compiling build/bdist.linux-x86_64/egg/handyrec/models/retrieval/__init__.py to __init__.cpython-37.pyc\n",
            "byte-compiling build/bdist.linux-x86_64/egg/handyrec/models/__init__.py to __init__.cpython-37.pyc\n",
            "byte-compiling build/bdist.linux-x86_64/egg/handyrec/models/utils.py to utils.cpython-37.pyc\n",
            "byte-compiling build/bdist.linux-x86_64/egg/handyrec/__init__.py to __init__.cpython-37.pyc\n",
            "byte-compiling build/bdist.linux-x86_64/egg/handyrec/data/metrics.py to metrics.cpython-37.pyc\n",
            "byte-compiling build/bdist.linux-x86_64/egg/handyrec/data/dataset.py to dataset.cpython-37.pyc\n",
            "byte-compiling build/bdist.linux-x86_64/egg/handyrec/data/movielens.py to movielens.cpython-37.pyc\n",
            "byte-compiling build/bdist.linux-x86_64/egg/handyrec/data/datahelper.py to datahelper.cpython-37.pyc\n",
            "byte-compiling build/bdist.linux-x86_64/egg/handyrec/data/__init__.py to __init__.cpython-37.pyc\n",
            "byte-compiling build/bdist.linux-x86_64/egg/handyrec/data/utils.py to utils.cpython-37.pyc\n",
            "byte-compiling build/bdist.linux-x86_64/egg/handyrec/features/group.py to group.cpython-37.pyc\n",
            "byte-compiling build/bdist.linux-x86_64/egg/handyrec/features/__init__.py to __init__.cpython-37.pyc\n",
            "byte-compiling build/bdist.linux-x86_64/egg/handyrec/features/utils.py to utils.cpython-37.pyc\n",
            "byte-compiling build/bdist.linux-x86_64/egg/handyrec/features/type.py to type.cpython-37.pyc\n",
            "creating build/bdist.linux-x86_64/egg/EGG-INFO\n",
            "copying handyrec.egg-info/PKG-INFO -> build/bdist.linux-x86_64/egg/EGG-INFO\n",
            "copying handyrec.egg-info/SOURCES.txt -> build/bdist.linux-x86_64/egg/EGG-INFO\n",
            "copying handyrec.egg-info/dependency_links.txt -> build/bdist.linux-x86_64/egg/EGG-INFO\n",
            "copying handyrec.egg-info/requires.txt -> build/bdist.linux-x86_64/egg/EGG-INFO\n",
            "copying handyrec.egg-info/top_level.txt -> build/bdist.linux-x86_64/egg/EGG-INFO\n",
            "zip_safe flag not set; analyzing archive contents...\n",
            "creating dist\n",
            "creating 'dist/handyrec-0.1.0-py3.7.egg' and adding 'build/bdist.linux-x86_64/egg' to it\n",
            "removing 'build/bdist.linux-x86_64/egg' (and everything under it)\n",
            "Processing handyrec-0.1.0-py3.7.egg\n",
            "Copying handyrec-0.1.0-py3.7.egg to /usr/local/lib/python3.7/dist-packages\n",
            "Adding handyrec 0.1.0 to easy-install.pth file\n",
            "\n",
            "Installed /usr/local/lib/python3.7/dist-packages/handyrec-0.1.0-py3.7.egg\n",
            "Processing dependencies for handyrec==0.1.0\n",
            "Searching for python_box>=6.0.2\n",
            "Reading https://pypi.org/simple/python_box/\n",
            "Downloading https://files.pythonhosted.org/packages/bd/a0/14e95a9d67619adaf33fbbb34a3d1bdde67b266c29548bca90edc96ea5aa/python_box-6.0.2-cp37-cp37m-manylinux_2_17_x86_64.manylinux2014_x86_64.whl#sha256=3a43baf2fdee399c7b3df425e2df163e9551f1d8b40ceb213f9cc0a952effa77\n",
            "Best match: python-box 6.0.2\n",
            "Processing python_box-6.0.2-cp37-cp37m-manylinux_2_17_x86_64.manylinux2014_x86_64.whl\n",
            "Installing python_box-6.0.2-cp37-cp37m-manylinux_2_17_x86_64.manylinux2014_x86_64.whl to /usr/local/lib/python3.7/dist-packages\n",
            "Adding python-box 6.0.2 to easy-install.pth file\n",
            "\n",
            "Installed /usr/local/lib/python3.7/dist-packages/python_box-6.0.2-py3.7-linux-x86_64.egg\n",
            "Searching for tf-estimator-nightly==2.8.0.dev2021122109\n",
            "Reading https://pypi.org/simple/tf-estimator-nightly/\n",
            "Downloading https://files.pythonhosted.org/packages/a7/f1/f89e097f377b163856076f167baf149b010df3bbf425d2c06276048e2051/tf_estimator_nightly-2.8.0.dev2021122109-py2.py3-none-any.whl#sha256=0065a04e396b2890bd19761fc1de7559ceafeba12839f8db2c7e7473afaaf612\n",
            "Best match: tf-estimator-nightly 2.8.0.dev2021122109\n",
            "Processing tf_estimator_nightly-2.8.0.dev2021122109-py2.py3-none-any.whl\n",
            "Installing tf_estimator_nightly-2.8.0.dev2021122109-py2.py3-none-any.whl to /usr/local/lib/python3.7/dist-packages\n",
            "Adding tf-estimator-nightly 2.8.0.dev2021122109 to easy-install.pth file\n",
            "\n",
            "Installed /usr/local/lib/python3.7/dist-packages/tf_estimator_nightly-2.8.0.dev2021122109-py3.7.egg\n",
            "Searching for tensorflow==2.8.0+zzzcolab20220506162203\n",
            "Best match: tensorflow 2.8.0+zzzcolab20220506162203\n",
            "Adding tensorflow 2.8.0+zzzcolab20220506162203 to easy-install.pth file\n",
            "Installing estimator_ckpt_converter script to /usr/local/bin\n",
            "Installing import_pb_to_tensorboard script to /usr/local/bin\n",
            "Installing saved_model_cli script to /usr/local/bin\n",
            "Installing tensorboard script to /usr/local/bin\n",
            "Installing tf_upgrade_v2 script to /usr/local/bin\n",
            "Installing tflite_convert script to /usr/local/bin\n",
            "Installing toco script to /usr/local/bin\n",
            "Installing toco_from_protos script to /usr/local/bin\n",
            "\n",
            "Using /usr/local/lib/python3.7/dist-packages\n",
            "Searching for pandas==1.3.5\n",
            "Best match: pandas 1.3.5\n",
            "Adding pandas 1.3.5 to easy-install.pth file\n",
            "\n",
            "Using /usr/local/lib/python3.7/dist-packages\n",
            "Searching for numpy==1.21.6\n",
            "Best match: numpy 1.21.6\n",
            "Adding numpy 1.21.6 to easy-install.pth file\n",
            "Installing f2py script to /usr/local/bin\n",
            "Installing f2py3 script to /usr/local/bin\n",
            "Installing f2py3.7 script to /usr/local/bin\n",
            "\n",
            "Using /usr/local/lib/python3.7/dist-packages\n",
            "Searching for protobuf==3.17.3\n",
            "Best match: protobuf 3.17.3\n",
            "Adding protobuf 3.17.3 to easy-install.pth file\n",
            "\n",
            "Using /usr/local/lib/python3.7/dist-packages\n",
            "Searching for six==1.15.0\n",
            "Best match: six 1.15.0\n",
            "Adding six 1.15.0 to easy-install.pth file\n",
            "\n",
            "Using /usr/local/lib/python3.7/dist-packages\n",
            "Searching for absl-py==1.0.0\n",
            "Best match: absl-py 1.0.0\n",
            "Adding absl-py 1.0.0 to easy-install.pth file\n",
            "\n",
            "Using /usr/local/lib/python3.7/dist-packages\n",
            "Searching for tensorflow-io-gcs-filesystem==0.26.0\n",
            "Best match: tensorflow-io-gcs-filesystem 0.26.0\n",
            "Adding tensorflow-io-gcs-filesystem 0.26.0 to easy-install.pth file\n",
            "\n",
            "Using /usr/local/lib/python3.7/dist-packages\n",
            "Searching for h5py==3.1.0\n",
            "Best match: h5py 3.1.0\n",
            "Adding h5py 3.1.0 to easy-install.pth file\n",
            "\n",
            "Using /usr/local/lib/python3.7/dist-packages\n",
            "Searching for opt-einsum==3.3.0\n",
            "Best match: opt-einsum 3.3.0\n",
            "Adding opt-einsum 3.3.0 to easy-install.pth file\n",
            "\n",
            "Using /usr/local/lib/python3.7/dist-packages\n",
            "Searching for keras==2.8.0\n",
            "Best match: keras 2.8.0\n",
            "Adding keras 2.8.0 to easy-install.pth file\n",
            "\n",
            "Using /usr/local/lib/python3.7/dist-packages\n",
            "Searching for wrapt==1.14.1\n",
            "Best match: wrapt 1.14.1\n",
            "Adding wrapt 1.14.1 to easy-install.pth file\n",
            "\n",
            "Using /usr/local/lib/python3.7/dist-packages\n",
            "Searching for grpcio==1.46.1\n",
            "Best match: grpcio 1.46.1\n",
            "Adding grpcio 1.46.1 to easy-install.pth file\n",
            "\n",
            "Using /usr/local/lib/python3.7/dist-packages\n",
            "Searching for libclang==14.0.1\n",
            "Best match: libclang 14.0.1\n",
            "Adding libclang 14.0.1 to easy-install.pth file\n",
            "\n",
            "Using /usr/local/lib/python3.7/dist-packages\n",
            "Searching for tensorboard==2.8.0\n",
            "Best match: tensorboard 2.8.0\n",
            "Adding tensorboard 2.8.0 to easy-install.pth file\n",
            "Installing tensorboard script to /usr/local/bin\n",
            "\n",
            "Using /usr/local/lib/python3.7/dist-packages\n",
            "Searching for termcolor==1.1.0\n",
            "Best match: termcolor 1.1.0\n",
            "Adding termcolor 1.1.0 to easy-install.pth file\n",
            "\n",
            "Using /usr/local/lib/python3.7/dist-packages\n",
            "Searching for Keras-Preprocessing==1.1.2\n",
            "Best match: Keras-Preprocessing 1.1.2\n",
            "Adding Keras-Preprocessing 1.1.2 to easy-install.pth file\n",
            "\n",
            "Using /usr/local/lib/python3.7/dist-packages\n",
            "Searching for setuptools==57.4.0\n",
            "Best match: setuptools 57.4.0\n",
            "Adding setuptools 57.4.0 to easy-install.pth file\n",
            "\n",
            "Using /usr/local/lib/python3.7/dist-packages\n",
            "Searching for gast==0.5.3\n",
            "Best match: gast 0.5.3\n",
            "Adding gast 0.5.3 to easy-install.pth file\n",
            "\n",
            "Using /usr/local/lib/python3.7/dist-packages\n",
            "Searching for flatbuffers==2.0\n",
            "Best match: flatbuffers 2.0\n",
            "Adding flatbuffers 2.0 to easy-install.pth file\n",
            "\n",
            "Using /usr/local/lib/python3.7/dist-packages\n",
            "Searching for typing-extensions==4.2.0\n",
            "Best match: typing-extensions 4.2.0\n",
            "Adding typing-extensions 4.2.0 to easy-install.pth file\n",
            "\n",
            "Using /usr/local/lib/python3.7/dist-packages\n",
            "Searching for astunparse==1.6.3\n",
            "Best match: astunparse 1.6.3\n",
            "Adding astunparse 1.6.3 to easy-install.pth file\n",
            "\n",
            "Using /usr/local/lib/python3.7/dist-packages\n",
            "Searching for google-pasta==0.2.0\n",
            "Best match: google-pasta 0.2.0\n",
            "Adding google-pasta 0.2.0 to easy-install.pth file\n",
            "\n",
            "Using /usr/local/lib/python3.7/dist-packages\n",
            "Searching for python-dateutil==2.8.2\n",
            "Best match: python-dateutil 2.8.2\n",
            "Adding python-dateutil 2.8.2 to easy-install.pth file\n",
            "\n",
            "Using /usr/local/lib/python3.7/dist-packages\n",
            "Searching for pytz==2022.1\n",
            "Best match: pytz 2022.1\n",
            "Adding pytz 2022.1 to easy-install.pth file\n",
            "\n",
            "Using /usr/local/lib/python3.7/dist-packages\n",
            "Searching for cached-property==1.5.2\n",
            "Best match: cached-property 1.5.2\n",
            "Adding cached-property 1.5.2 to easy-install.pth file\n",
            "\n",
            "Using /usr/local/lib/python3.7/dist-packages\n",
            "Searching for Werkzeug==1.0.1\n",
            "Best match: Werkzeug 1.0.1\n",
            "Adding Werkzeug 1.0.1 to easy-install.pth file\n",
            "\n",
            "Using /usr/local/lib/python3.7/dist-packages\n",
            "Searching for google-auth==1.35.0\n",
            "Best match: google-auth 1.35.0\n",
            "Adding google-auth 1.35.0 to easy-install.pth file\n",
            "\n",
            "Using /usr/local/lib/python3.7/dist-packages\n",
            "Searching for wheel==0.37.1\n",
            "Best match: wheel 0.37.1\n",
            "Adding wheel 0.37.1 to easy-install.pth file\n",
            "Installing wheel script to /usr/local/bin\n",
            "\n",
            "Using /usr/local/lib/python3.7/dist-packages\n",
            "Searching for requests==2.23.0\n",
            "Best match: requests 2.23.0\n",
            "Adding requests 2.23.0 to easy-install.pth file\n",
            "\n",
            "Using /usr/local/lib/python3.7/dist-packages\n",
            "Searching for google-auth-oauthlib==0.4.6\n",
            "Best match: google-auth-oauthlib 0.4.6\n",
            "Adding google-auth-oauthlib 0.4.6 to easy-install.pth file\n",
            "Installing google-oauthlib-tool script to /usr/local/bin\n",
            "\n",
            "Using /usr/local/lib/python3.7/dist-packages\n",
            "Searching for tensorboard-plugin-wit==1.8.1\n",
            "Best match: tensorboard-plugin-wit 1.8.1\n",
            "Adding tensorboard-plugin-wit 1.8.1 to easy-install.pth file\n",
            "\n",
            "Using /usr/local/lib/python3.7/dist-packages\n",
            "Searching for tensorboard-data-server==0.6.1\n",
            "Best match: tensorboard-data-server 0.6.1\n",
            "Adding tensorboard-data-server 0.6.1 to easy-install.pth file\n",
            "\n",
            "Using /usr/local/lib/python3.7/dist-packages\n",
            "Searching for Markdown==3.3.7\n",
            "Best match: Markdown 3.3.7\n",
            "Adding Markdown 3.3.7 to easy-install.pth file\n",
            "Installing markdown_py script to /usr/local/bin\n",
            "\n",
            "Using /usr/local/lib/python3.7/dist-packages\n",
            "Searching for pyasn1-modules==0.2.8\n",
            "Best match: pyasn1-modules 0.2.8\n",
            "Adding pyasn1-modules 0.2.8 to easy-install.pth file\n",
            "\n",
            "Using /usr/local/lib/python3.7/dist-packages\n",
            "Searching for rsa==4.8\n",
            "Best match: rsa 4.8\n",
            "Adding rsa 4.8 to easy-install.pth file\n",
            "Installing pyrsa-decrypt script to /usr/local/bin\n",
            "Installing pyrsa-encrypt script to /usr/local/bin\n",
            "Installing pyrsa-keygen script to /usr/local/bin\n",
            "Installing pyrsa-priv2pub script to /usr/local/bin\n",
            "Installing pyrsa-sign script to /usr/local/bin\n",
            "Installing pyrsa-verify script to /usr/local/bin\n",
            "\n",
            "Using /usr/local/lib/python3.7/dist-packages\n",
            "Searching for cachetools==4.2.4\n",
            "Best match: cachetools 4.2.4\n",
            "Adding cachetools 4.2.4 to easy-install.pth file\n",
            "\n",
            "Using /usr/local/lib/python3.7/dist-packages\n",
            "Searching for certifi==2022.5.18.1\n",
            "Best match: certifi 2022.5.18.1\n",
            "Adding certifi 2022.5.18.1 to easy-install.pth file\n",
            "\n",
            "Using /usr/local/lib/python3.7/dist-packages\n",
            "Searching for chardet==3.0.4\n",
            "Best match: chardet 3.0.4\n",
            "Adding chardet 3.0.4 to easy-install.pth file\n",
            "Installing chardetect script to /usr/local/bin\n",
            "\n",
            "Using /usr/local/lib/python3.7/dist-packages\n",
            "Searching for urllib3==1.24.3\n",
            "Best match: urllib3 1.24.3\n",
            "Adding urllib3 1.24.3 to easy-install.pth file\n",
            "\n",
            "Using /usr/local/lib/python3.7/dist-packages\n",
            "Searching for idna==2.10\n",
            "Best match: idna 2.10\n",
            "Adding idna 2.10 to easy-install.pth file\n",
            "\n",
            "Using /usr/local/lib/python3.7/dist-packages\n",
            "Searching for requests-oauthlib==1.3.1\n",
            "Best match: requests-oauthlib 1.3.1\n",
            "Adding requests-oauthlib 1.3.1 to easy-install.pth file\n",
            "\n",
            "Using /usr/local/lib/python3.7/dist-packages\n",
            "Searching for importlib-metadata==4.11.3\n",
            "Best match: importlib-metadata 4.11.3\n",
            "Adding importlib-metadata 4.11.3 to easy-install.pth file\n",
            "\n",
            "Using /usr/local/lib/python3.7/dist-packages\n",
            "Searching for pyasn1==0.4.8\n",
            "Best match: pyasn1 0.4.8\n",
            "Adding pyasn1 0.4.8 to easy-install.pth file\n",
            "\n",
            "Using /usr/local/lib/python3.7/dist-packages\n",
            "Searching for oauthlib==3.2.0\n",
            "Best match: oauthlib 3.2.0\n",
            "Adding oauthlib 3.2.0 to easy-install.pth file\n",
            "\n",
            "Using /usr/local/lib/python3.7/dist-packages\n",
            "Searching for zipp==3.8.0\n",
            "Best match: zipp 3.8.0\n",
            "Adding zipp 3.8.0 to easy-install.pth file\n",
            "\n",
            "Using /usr/local/lib/python3.7/dist-packages\n",
            "Finished processing dependencies for handyrec==0.1.0\n",
            "Looking in indexes: https://pypi.org/simple, https://us-python.pkg.dev/colab-wheels/public/simple/\n",
            "Requirement already satisfied: faiss-gpu in /usr/local/lib/python3.7/dist-packages (1.7.2)\n"
          ]
        }
      ],
      "source": [
        "! git clone https://github.com/Wp-Zhang/HandyRec.git\n",
        "! cd HandyRec && python setup.py install\n",
        "! pip install faiss-gpu"
      ]
    },
    {
      "cell_type": "markdown",
      "metadata": {
        "id": "W3wqe5OYZhkh"
      },
      "source": [
        "**Note: Restart the kernel after installing `handyrec`**"
      ]
    },
    {
      "cell_type": "code",
      "execution_count": 6,
      "metadata": {
        "colab": {
          "base_uri": "https://localhost:8080/"
        },
        "id": "uiIqXdbUyCEi",
        "outputId": "409262dd-61a6-4739-d724-646a40072af3"
      },
      "outputs": [
        {
          "output_type": "stream",
          "name": "stdout",
          "text": [
            "--2022-05-24 14:31:59--  https://files.grouplens.org/datasets/movielens/ml-1m.zip\n",
            "Resolving files.grouplens.org (files.grouplens.org)... 128.101.65.152\n",
            "Connecting to files.grouplens.org (files.grouplens.org)|128.101.65.152|:443... connected.\n",
            "HTTP request sent, awaiting response... 200 OK\n",
            "Length: 5917549 (5.6M) [application/zip]\n",
            "Saving to: ‘./ml-1m.zip’\n",
            "\n",
            "./ml-1m.zip         100%[===================>]   5.64M  29.8MB/s    in 0.2s    \n",
            "\n",
            "2022-05-24 14:32:00 (29.8 MB/s) - ‘./ml-1m.zip’ saved [5917549/5917549]\n",
            "\n",
            "Archive:  ml-1m.zip\n",
            "  inflating: ml-1m/movies.dat        \n",
            "  inflating: ml-1m/ratings.dat       \n",
            "  inflating: ml-1m/README            \n",
            "  inflating: ml-1m/users.dat         \n"
          ]
        }
      ],
      "source": [
        "! wget https://files.grouplens.org/datasets/movielens/ml-1m.zip -O ./ml-1m.zip\n",
        "! unzip -o ml-1m.zip"
      ]
    },
    {
      "cell_type": "markdown",
      "metadata": {
        "id": "gsUc0pRE0BEH"
      },
      "source": [
        "**Import relative packages**"
      ]
    },
    {
      "cell_type": "code",
      "execution_count": 1,
      "metadata": {
        "id": "NlQtiTrmuzM3"
      },
      "outputs": [],
      "source": [
        "from handyrec.data.movielens import MovielensDataHelper\n",
        "from handyrec.data.utils import gen_sequence\n",
        "from handyrec.data import PointWiseDataset\n",
        "\n",
        "from handyrec.layers.utils import sampledsoftmaxloss\n",
        "from handyrec.models.retrieval import DSSM\n",
        "from handyrec.config import ConfigLoader\n",
        "from handyrec.data.metrics import map_at_k, recall_at_k\n",
        "from handyrec.models.utils import search_embedding\n",
        "\n",
        "import tensorflow as tf\n",
        "from tensorflow.keras import Model\n",
        "from tensorflow.keras.utils import plot_model\n",
        "import numpy as np"
      ]
    },
    {
      "cell_type": "code",
      "execution_count": 2,
      "metadata": {
        "id": "iYOxv7-auzM3"
      },
      "outputs": [],
      "source": [
        "import warnings\n",
        "warnings.filterwarnings('ignore')"
      ]
    },
    {
      "cell_type": "code",
      "execution_count": 3,
      "metadata": {
        "id": "W8jyTPiz8K13"
      },
      "outputs": [],
      "source": [
        "BATCH_SIZE = 2**12\n",
        "NEPOCH = 50\n",
        "\n",
        "TEST_NUM = 10\n",
        "VALID_RATIO = 0.1"
      ]
    },
    {
      "cell_type": "markdown",
      "metadata": {
        "id": "rLBhoUCFjYMR"
      },
      "source": [
        "**Load MovieLens1M data**"
      ]
    },
    {
      "cell_type": "code",
      "execution_count": 4,
      "metadata": {
        "colab": {
          "base_uri": "https://localhost:8080/"
        },
        "id": "bOhsjfcljYMS",
        "outputId": "0a75ebf9-0229-4aa9-a632-057f68943d83"
      },
      "outputs": [
        {
          "output_type": "stream",
          "name": "stderr",
          "text": [
            "Encode User Sparse Feats: 100%|██████████| 4/4 [00:00<00:00, 129.50it/s]\n",
            "Encode Item Sparse Feats: 100%|██████████| 1/1 [00:00<00:00, 169.15it/s]\n",
            "Generate movie_id sequence: 100%|██████████| 6040/6040 [00:05<00:00, 1150.17it/s]\n"
          ]
        }
      ],
      "source": [
        "dh = MovielensDataHelper('./ml-1m/')\n",
        "data = dh.get_clean_data(sparse_features=['gender','occupation','zip','age','year'])\n",
        "data['inter']['hist_movie'] = gen_sequence(data['inter'], 'user_id', 'movie_id', seq_len=40)"
      ]
    },
    {
      "cell_type": "markdown",
      "metadata": {
        "id": "MXNUDnO_0VLl"
      },
      "source": [
        "# 0. Prepare data for retrieval<a name=\"section-0\"></a>"
      ]
    },
    {
      "cell_type": "code",
      "execution_count": 5,
      "metadata": {
        "id": "W9tWhBWRjYMU"
      },
      "outputs": [],
      "source": [
        "user_features = ['user_id', 'gender', 'occupation']\n",
        "item_features = ['movie_id','genres']\n",
        "inter_features = ['hist_movie']"
      ]
    },
    {
      "cell_type": "code",
      "execution_count": 6,
      "metadata": {
        "colab": {
          "base_uri": "https://localhost:8080/"
        },
        "id": "wgw6prfluzM5",
        "outputId": "1274477c-6172-4dbb-89ed-c2c3c0d9e170"
      },
      "outputs": [
        {
          "output_type": "stream",
          "name": "stderr",
          "text": [
            "Save user features: 100%|██████████| 3/3 [00:02<00:00,  1.05it/s]\n",
            "Save item features: 100%|██████████| 2/2 [00:02<00:00,  1.47s/it]\n",
            "Save inter features: 100%|██████████| 2/2 [00:03<00:00,  1.91s/it]\n"
          ]
        }
      ],
      "source": [
        "retrieval_dataset = PointWiseDataset(\n",
        "    \"RetrievalDataset\",\n",
        "    task=\"retrieval\",\n",
        "    data=data,\n",
        "    uid_name=\"user_id\",\n",
        "    iid_name=\"movie_id\",\n",
        "    inter_name=\"interact\",\n",
        "    time_name=\"timestamp\",\n",
        "    threshold=4,\n",
        ")\n",
        "\n",
        "retrieval_dataset.train_test_split(TEST_NUM)\n",
        "retrieval_dataset.train_valid_split(VALID_RATIO)\n",
        "retrieval_dataset.gen_dataset(user_features, item_features, inter_features, shuffle=False)"
      ]
    },
    {
      "cell_type": "code",
      "execution_count": 7,
      "metadata": {
        "colab": {
          "base_uri": "https://localhost:8080/"
        },
        "id": "nWhojvyKuzM7",
        "outputId": "8789b9fb-fad0-42ff-b638-5c8b2d350fe3"
      },
      "outputs": [
        {
          "output_type": "stream",
          "name": "stderr",
          "text": [
            "Load user features: 100%|██████████| 3/3 [00:01<00:00,  1.50it/s]\n",
            "Load item features: 100%|██████████| 2/2 [00:01<00:00,  1.29it/s]\n",
            "Load inter features: 100%|██████████| 2/2 [00:01<00:00,  1.45it/s]\n"
          ]
        }
      ],
      "source": [
        "train_data, valid_data, test_data, test_label = retrieval_dataset.load_dataset(\n",
        "    user_features, item_features, inter_features, BATCH_SIZE\n",
        ")"
      ]
    },
    {
      "cell_type": "code",
      "execution_count": 8,
      "metadata": {
        "id": "VJR1Ybd18t7g"
      },
      "outputs": [],
      "source": [
        "feature_dim = retrieval_dataset.get_feature_dim(user_features, item_features, [])\n",
        "feature_dim[\"genre_id\"] = 19"
      ]
    },
    {
      "cell_type": "markdown",
      "metadata": {
        "id": "wMAdJxpc0x1U"
      },
      "source": [
        "# 1. Train retrieve model and export embeddings <a name=\"section-1\"></a>"
      ]
    },
    {
      "cell_type": "code",
      "execution_count": 9,
      "metadata": {
        "id": "WC4c86_OjYMW"
      },
      "outputs": [],
      "source": [
        "cfg = ConfigLoader(\"./HandyRec/examples/DSSM/DSSM_cfg.yaml\")\n",
        "feature_groups = cfg.prepare_features(feature_dim, data)"
      ]
    },
    {
      "cell_type": "code",
      "execution_count": 10,
      "metadata": {
        "id": "lKURLYXkuzM-"
      },
      "outputs": [],
      "source": [
        "retrieve_model = DSSM(\n",
        "    feature_groups[\"user_feature_group\"],\n",
        "    feature_groups[\"item_feature_group\"],\n",
        "    **cfg.config.Model\n",
        ")"
      ]
    },
    {
      "cell_type": "code",
      "execution_count": 11,
      "metadata": {
        "colab": {
          "base_uri": "https://localhost:8080/",
          "height": 844
        },
        "id": "AQDtzo-4sw16",
        "outputId": "82b8152e-5d75-43b1-e502-2ce03ad30022"
      },
      "outputs": [
        {
          "output_type": "execute_result",
          "data": {
            "text/plain": [
              "<IPython.core.display.Image object>"
            ],
            "image/png": "[encoded data removed]"
          },
          "metadata": {},
          "execution_count": 11
        }
      ],
      "source": [
        "plot_model(retrieve_model)"
      ]
    },
    {
      "cell_type": "code",
      "execution_count": 12,
      "metadata": {
        "colab": {
          "base_uri": "https://localhost:8080/"
        },
        "id": "2xizKlTvuzM_",
        "outputId": "4214fd7a-bf43-4583-ee1e-e6a38536626f"
      },
      "outputs": [
        {
          "output_type": "stream",
          "name": "stdout",
          "text": [
            "Epoch 1/50\n",
            "114/114 [==============================] - 11s 38ms/step - loss: 10.0295 - val_loss: 3.9674\n",
            "Epoch 2/50\n",
            "114/114 [==============================] - 4s 31ms/step - loss: 5.2541 - val_loss: 3.9754\n",
            "Epoch 3/50\n",
            "114/114 [==============================] - 4s 32ms/step - loss: 4.4479 - val_loss: 3.8607\n",
            "Epoch 4/50\n",
            "114/114 [==============================] - 3s 30ms/step - loss: 4.0421 - val_loss: 3.7653\n",
            "Epoch 5/50\n",
            "114/114 [==============================] - 4s 30ms/step - loss: 3.8270 - val_loss: 3.4625\n",
            "Epoch 6/50\n",
            "114/114 [==============================] - 4s 31ms/step - loss: 3.5318 - val_loss: 3.2083\n",
            "Epoch 7/50\n",
            "114/114 [==============================] - 4s 31ms/step - loss: 3.3638 - val_loss: 2.8320\n",
            "Epoch 8/50\n",
            "114/114 [==============================] - 4s 31ms/step - loss: 3.1438 - val_loss: 2.6943\n",
            "Epoch 9/50\n",
            "114/114 [==============================] - 4s 31ms/step - loss: 3.0455 - val_loss: 2.6073\n",
            "Epoch 10/50\n",
            "114/114 [==============================] - 4s 30ms/step - loss: 2.8797 - val_loss: 2.4200\n",
            "Epoch 11/50\n",
            "114/114 [==============================] - 4s 32ms/step - loss: 2.7941 - val_loss: 2.4304\n",
            "Epoch 12/50\n",
            "114/114 [==============================] - 5s 42ms/step - loss: 2.6967 - val_loss: 2.2479\n",
            "Epoch 13/50\n",
            "114/114 [==============================] - 4s 37ms/step - loss: 2.6174 - val_loss: 2.1600\n",
            "Epoch 14/50\n",
            "114/114 [==============================] - 4s 32ms/step - loss: 2.5152 - val_loss: 2.2172\n",
            "Epoch 15/50\n",
            "114/114 [==============================] - 4s 30ms/step - loss: 2.4737 - val_loss: 2.1073\n",
            "Epoch 16/50\n",
            "114/114 [==============================] - 4s 31ms/step - loss: 2.3981 - val_loss: 2.0182\n",
            "Epoch 17/50\n",
            "114/114 [==============================] - 3s 29ms/step - loss: 2.3412 - val_loss: 2.0605\n",
            "Epoch 18/50\n",
            "114/114 [==============================] - 4s 30ms/step - loss: 2.2537 - val_loss: 1.8510\n",
            "Epoch 19/50\n",
            "114/114 [==============================] - 3s 29ms/step - loss: 2.2052 - val_loss: 1.9239\n",
            "Epoch 20/50\n",
            "114/114 [==============================] - 4s 30ms/step - loss: 2.1397 - val_loss: 1.8850\n",
            "Epoch 21/50\n",
            "114/114 [==============================] - 4s 31ms/step - loss: 2.1392 - val_loss: 1.7836\n",
            "Epoch 22/50\n",
            "114/114 [==============================] - 4s 32ms/step - loss: 2.0827 - val_loss: 1.7007\n",
            "Epoch 23/50\n",
            "114/114 [==============================] - 4s 33ms/step - loss: 2.0298 - val_loss: 1.7182\n",
            "Epoch 24/50\n",
            "114/114 [==============================] - 4s 31ms/step - loss: 2.0125 - val_loss: 1.6940\n",
            "Epoch 25/50\n",
            "114/114 [==============================] - 4s 30ms/step - loss: 1.9522 - val_loss: 1.6363\n",
            "Epoch 26/50\n",
            "114/114 [==============================] - 4s 30ms/step - loss: 1.9193 - val_loss: 1.5693\n",
            "Epoch 27/50\n",
            "114/114 [==============================] - 3s 30ms/step - loss: 1.8844 - val_loss: 1.6230\n",
            "Epoch 28/50\n",
            "114/114 [==============================] - 4s 30ms/step - loss: 1.8526 - val_loss: 1.4037\n",
            "Epoch 29/50\n",
            "114/114 [==============================] - 3s 30ms/step - loss: 1.8148 - val_loss: 1.4831\n",
            "Epoch 30/50\n",
            "114/114 [==============================] - 3s 29ms/step - loss: 1.8129 - val_loss: 1.4704\n",
            "Epoch 31/50\n",
            "114/114 [==============================] - 3s 29ms/step - loss: 1.6957 - val_loss: 1.4588\n",
            "Epoch 32/50\n",
            "114/114 [==============================] - 3s 30ms/step - loss: 1.7040 - val_loss: 1.3608\n",
            "Epoch 33/50\n",
            "114/114 [==============================] - 4s 30ms/step - loss: 1.7382 - val_loss: 1.3116\n",
            "Epoch 34/50\n",
            "114/114 [==============================] - 3s 30ms/step - loss: 1.6660 - val_loss: 1.3607\n",
            "Epoch 35/50\n",
            "114/114 [==============================] - 4s 31ms/step - loss: 1.6328 - val_loss: 1.4022\n",
            "Epoch 36/50\n",
            "114/114 [==============================] - 3s 29ms/step - loss: 1.6615 - val_loss: 1.3772\n",
            "Epoch 37/50\n",
            "114/114 [==============================] - 3s 30ms/step - loss: 1.6252 - val_loss: 1.3980\n",
            "Epoch 38/50\n",
            "114/114 [==============================] - 4s 31ms/step - loss: 1.6312 - val_loss: 1.3011\n",
            "Epoch 39/50\n",
            "114/114 [==============================] - 4s 31ms/step - loss: 1.5885 - val_loss: 1.2646\n",
            "Epoch 40/50\n",
            "114/114 [==============================] - 4s 31ms/step - loss: 1.5242 - val_loss: 1.2512\n",
            "Epoch 41/50\n",
            "114/114 [==============================] - 4s 31ms/step - loss: 1.5566 - val_loss: 1.2334\n",
            "Epoch 42/50\n",
            "114/114 [==============================] - 3s 30ms/step - loss: 1.5400 - val_loss: 1.2528\n",
            "Epoch 43/50\n",
            "114/114 [==============================] - 4s 31ms/step - loss: 1.5047 - val_loss: 1.1872\n",
            "Epoch 44/50\n",
            "114/114 [==============================] - 3s 29ms/step - loss: 1.4955 - val_loss: 1.1878\n",
            "Epoch 45/50\n",
            "114/114 [==============================] - 3s 30ms/step - loss: 1.4851 - val_loss: 1.2573\n",
            "Epoch 46/50\n",
            "114/114 [==============================] - 4s 31ms/step - loss: 1.4933 - val_loss: 1.1635\n",
            "Epoch 47/50\n",
            "114/114 [==============================] - 3s 30ms/step - loss: 1.4417 - val_loss: 1.2137\n",
            "Epoch 48/50\n",
            "114/114 [==============================] - 3s 29ms/step - loss: 1.4206 - val_loss: 1.1689\n",
            "Epoch 49/50\n",
            "114/114 [==============================] - 4s 31ms/step - loss: 1.4265 - val_loss: 1.1507\n",
            "Epoch 50/50\n",
            "114/114 [==============================] - 4s 30ms/step - loss: 1.4301 - val_loss: 1.1192\n"
          ]
        }
      ],
      "source": [
        "retrieve_model.compile(optimizer=tf.keras.optimizers.Adam(lr=3e-4), loss=sampledsoftmaxloss)\n",
        "early_stop = tf.keras.callbacks.EarlyStopping(monitor='val_loss', patience=10)\n",
        "checkpoint = tf.keras.callbacks.ModelCheckpoint(\n",
        "    filepath='./retrieve_checkpoint/',\n",
        "    save_weights_only=True,\n",
        "    monitor='val_loss',\n",
        "    mode='min',\n",
        "    save_best_only=True\n",
        ")\n",
        "history = retrieve_model.fit(\n",
        "    x=train_data,\n",
        "    validation_data=valid_data,\n",
        "    epochs=NEPOCH,\n",
        "    callbacks=[early_stop, checkpoint],\n",
        ")"
      ]
    },
    {
      "cell_type": "code",
      "execution_count": 13,
      "metadata": {
        "colab": {
          "base_uri": "https://localhost:8080/"
        },
        "id": "AGebkIE0uzM_",
        "outputId": "3ada23ae-5e89-40dc-8c81-2deb56c3da2b"
      },
      "outputs": [
        {
          "output_type": "execute_result",
          "data": {
            "text/plain": [
              "<tensorflow.python.training.tracking.util.CheckpointLoadStatus at 0x7f9dae109750>"
            ]
          },
          "metadata": {},
          "execution_count": 13
        }
      ],
      "source": [
        "retrieve_model.load_weights('./retrieve_checkpoint/')"
      ]
    },
    {
      "cell_type": "code",
      "execution_count": 14,
      "metadata": {
        "colab": {
          "base_uri": "https://localhost:8080/"
        },
        "id": "G9AxEdKbuzM_",
        "outputId": "d3ea7335-4b47-4abe-d3cb-534869fdf65d"
      },
      "outputs": [
        {
          "output_type": "stream",
          "name": "stdout",
          "text": [
            "(5923, 32)\n",
            "(3883, 32)\n"
          ]
        }
      ],
      "source": [
        "user_embedding_model = Model(inputs=retrieve_model.user_input, outputs=retrieve_model.user_embedding)\n",
        "item_embedding_model = Model(inputs=retrieve_model.item_input, outputs=retrieve_model.item_embedding)\n",
        "\n",
        "user_embs = user_embedding_model.predict(test_data, batch_size=2 ** 15)\n",
        "item_embs = item_embedding_model.predict(feature_groups[\"value_dict\"], batch_size=2 ** 15)\n",
        "\n",
        "print(user_embs.shape)\n",
        "print(item_embs.shape)"
      ]
    },
    {
      "cell_type": "code",
      "source": [
        "np.save(\"DSSM_user_embd.npy\", user_embs)\n",
        "np.save(\"DSSM_item_embd.npy\", item_embs)"
      ],
      "metadata": {
        "id": "kQAkBeMzfIu4"
      },
      "execution_count": 15,
      "outputs": []
    },
    {
      "cell_type": "markdown",
      "metadata": {
        "id": "UJ49Jxnf0-1O"
      },
      "source": [
        "# 2. Use Faiss to generate candidates <a name=\"section-2\"></a>"
      ]
    },
    {
      "cell_type": "markdown",
      "metadata": {
        "id": "qEAI8Rl7hzgv"
      },
      "source": [
        "## Test retrieve model"
      ]
    },
    {
      "cell_type": "code",
      "execution_count": 16,
      "metadata": {
        "id": "cr39MwzduzNA"
      },
      "outputs": [],
      "source": [
        "candidates = search_embedding(\n",
        "    32, item_embs, user_embs, data[\"item\"][\"movie_id\"].values, 100, gpu=True\n",
        ")"
      ]
    },
    {
      "cell_type": "code",
      "execution_count": 17,
      "metadata": {
        "colab": {
          "base_uri": "https://localhost:8080/"
        },
        "id": "ZLc_JPubuzNB",
        "outputId": "c73965cc-e187-419d-a325-7f81d0fdc998"
      },
      "outputs": [
        {
          "output_type": "execute_result",
          "data": {
            "text/plain": [
              "0.012738631217020548"
            ]
          },
          "metadata": {},
          "execution_count": 17
        }
      ],
      "source": [
        "map_at_k(test_label, candidates, k=10)"
      ]
    },
    {
      "cell_type": "code",
      "execution_count": 18,
      "metadata": {
        "colab": {
          "base_uri": "https://localhost:8080/"
        },
        "id": "kap-zVgguzNC",
        "outputId": "ab2c9757-b78d-47e3-d442-087abf66f0c1"
      },
      "outputs": [
        {
          "output_type": "execute_result",
          "data": {
            "text/plain": [
              "0.03380043896673983"
            ]
          },
          "metadata": {},
          "execution_count": 18
        }
      ],
      "source": [
        "recall_at_k(test_label, candidates, k=10)"
      ]
    },
    {
      "cell_type": "code",
      "execution_count": 19,
      "metadata": {
        "colab": {
          "base_uri": "https://localhost:8080/"
        },
        "id": "WyU4hfCihzgw",
        "outputId": "66839bb5-719b-4def-fa55-02eccddced20"
      },
      "outputs": [
        {
          "output_type": "execute_result",
          "data": {
            "text/plain": [
              "0.13670437278406214"
            ]
          },
          "metadata": {},
          "execution_count": 19
        }
      ],
      "source": [
        "recall_at_k(test_label, candidates, k=100)"
      ]
    }
  ],
  "metadata": {
    "accelerator": "GPU",
    "colab": {
      "collapsed_sections": [],
      "name": "DSSM.ipynb",
      "provenance": []
    },
    "interpreter": {
      "hash": "653a9876bfda977334bab0c6eac4e690c97044cb3c76993a10b084536ae29e50"
    },
    "kernelspec": {
      "display_name": "Python 3.8.5 ('base')",
      "language": "python",
      "name": "python3"
    },
    "language_info": {
      "codemirror_mode": {
        "name": "ipython",
        "version": 3
      },
      "file_extension": ".py",
      "mimetype": "text/x-python",
      "name": "python",
      "nbconvert_exporter": "python",
      "pygments_lexer": "ipython3",
      "version": "3.7.11"
    }
  },
  "nbformat": 4,
  "nbformat_minor": 0
}