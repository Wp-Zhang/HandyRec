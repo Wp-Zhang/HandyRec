{
  "cells": [
    {
      "cell_type": "markdown",
      "metadata": {
        "id": "lxRyXqQMtXw8"
      },
      "source": [
        "[![Open In Colab](https://colab.research.google.com/assets/colab-badge.svg)](https://colab.research.google.com/github/Wp-Zhang/HandyRec/blob/master/examples/QuickstartDemo.ipynb)"
      ]
    },
    {
      "cell_type": "markdown",
      "metadata": {
        "id": "BI2sWoHBkoKV"
      },
      "source": [
        "# Quick-Start\n",
        "\n",
        "In this demo, we'll use `DSSM` and `DeepFM` to perform candidate generating and ranking on MovieLens1M dataset."
      ]
    },
    {
      "cell_type": "markdown",
      "metadata": {
        "id": "ogPuABQBkoKZ"
      },
      "source": [
        "## Prepare\n",
        "\n",
        "This project is under development and has not been packaged yet😣, thus we have to import it as a local module.\n",
        "\n",
        "1. download the source code\n",
        "```bash\n",
        "git clone https://github.com/Wp-Zhang/HandyRec.git\n",
        "```"
      ]
    },
    {
      "cell_type": "code",
      "execution_count": 1,
      "metadata": {
        "colab": {
          "base_uri": "https://localhost:8080/"
        },
        "id": "LbUv4sAukqb-",
        "outputId": "e2df58ba-7f17-4de7-b505-3d9f209e8387"
      },
      "outputs": [
        {
          "output_type": "stream",
          "name": "stdout",
          "text": [
            "Cloning into 'HandyRec'...\n",
            "remote: Enumerating objects: 1704, done.\u001b[K\n",
            "remote: Counting objects: 100% (1704/1704), done.\u001b[K\n",
            "remote: Compressing objects: 100% (1269/1269), done.\u001b[K\n",
            "remote: Total 1704 (delta 682), reused 1309 (delta 383), pack-reused 0\u001b[K\n",
            "Receiving objects: 100% (1704/1704), 20.92 MiB | 27.02 MiB/s, done.\n",
            "Resolving deltas: 100% (682/682), done.\n"
          ]
        }
      ],
      "source": [
        "! git clone https://github.com/Wp-Zhang/HandyRec.git"
      ]
    },
    {
      "cell_type": "markdown",
      "metadata": {
        "id": "qHy3-M1Qk1Os"
      },
      "source": [
        "2. add the project location to system path so that we can import it as a local module"
      ]
    },
    {
      "cell_type": "code",
      "execution_count": 2,
      "metadata": {
        "id": "myehbqP8koKa"
      },
      "outputs": [],
      "source": [
        "import sys\n",
        "sys.path.append('./HandyRec/')"
      ]
    },
    {
      "cell_type": "markdown",
      "metadata": {
        "id": "yrrohDP-koKb"
      },
      "source": [
        "The next step is downloading the dataset:\n",
        "```bash\n",
        "wget https://files.grouplens.org/datasets/movielens/ml-1m.zip -O ./ml-1m.zip\n",
        "unzip -o ml-1m.zip\n",
        "```"
      ]
    },
    {
      "cell_type": "code",
      "execution_count": 3,
      "metadata": {
        "colab": {
          "base_uri": "https://localhost:8080/"
        },
        "id": "wOJr3Tvvk8h_",
        "outputId": "8cd27f70-a1a0-49fa-a88a-5356a69ec54f"
      },
      "outputs": [
        {
          "output_type": "stream",
          "name": "stdout",
          "text": [
            "--2022-04-15 22:12:34--  https://files.grouplens.org/datasets/movielens/ml-1m.zip\n",
            "Resolving files.grouplens.org (files.grouplens.org)... 128.101.65.152\n",
            "Connecting to files.grouplens.org (files.grouplens.org)|128.101.65.152|:443... connected.\n",
            "HTTP request sent, awaiting response... 200 OK\n",
            "Length: 5917549 (5.6M) [application/zip]\n",
            "Saving to: ‘./ml-1m.zip’\n",
            "\n",
            "./ml-1m.zip         100%[===================>]   5.64M  17.9MB/s    in 0.3s    \n",
            "\n",
            "2022-04-15 22:12:35 (17.9 MB/s) - ‘./ml-1m.zip’ saved [5917549/5917549]\n",
            "\n",
            "Archive:  ml-1m.zip\n",
            "   creating: ml-1m/\n",
            "  inflating: ml-1m/movies.dat        \n",
            "  inflating: ml-1m/ratings.dat       \n",
            "  inflating: ml-1m/README            \n",
            "  inflating: ml-1m/users.dat         \n"
          ]
        }
      ],
      "source": [
        "!wget https://files.grouplens.org/datasets/movielens/ml-1m.zip -O ./ml-1m.zip\n",
        "!unzip -o ml-1m.zip"
      ]
    },
    {
      "cell_type": "code",
      "execution_count": 4,
      "metadata": {
        "colab": {
          "base_uri": "https://localhost:8080/"
        },
        "id": "P4Hf6vvInt_2",
        "outputId": "6199bc03-fff4-4be9-82d3-035a003bfd17"
      },
      "outputs": [
        {
          "output_type": "stream",
          "name": "stdout",
          "text": [
            "Collecting faiss-gpu\n",
            "  Downloading faiss_gpu-1.7.2-cp37-cp37m-manylinux_2_17_x86_64.manylinux2014_x86_64.whl (85.5 MB)\n",
            "\u001b[K     |████████████████████████████████| 85.5 MB 134 kB/s \n",
            "\u001b[?25hInstalling collected packages: faiss-gpu\n",
            "Successfully installed faiss-gpu-1.7.2\n"
          ]
        }
      ],
      "source": [
        "!pip install faiss-gpu #faiss-cpu"
      ]
    },
    {
      "cell_type": "markdown",
      "metadata": {
        "id": "dbAVSewakoKb"
      },
      "source": [
        "## Import modules"
      ]
    },
    {
      "cell_type": "code",
      "execution_count": 5,
      "metadata": {
        "id": "NlQtiTrmuzM3"
      },
      "outputs": [],
      "source": [
        "from handyrec.data.movielens import MovielensDataHelper\n",
        "from handyrec.data.utils import gen_sequence\n",
        "from handyrec.data import PointWiseDataset\n",
        "\n",
        "from handyrec.layers.utils import sampledsoftmaxloss\n",
        "from handyrec.models.retrieval import DSSM\n",
        "from handyrec.models.ranking import DeepFM\n",
        "from handyrec.features import DenseFeature, SparseFeature, SparseSeqFeature, FeatureGroup, EmbdFeatureGroup, FeaturePool\n",
        "from handyrec.data.metrics import map_at_k, recall_at_k\n",
        "from handyrec.models.utils import search_embedding\n",
        "\n",
        "import tensorflow as tf\n",
        "from tensorflow.keras import Model\n",
        "from tensorflow.keras.losses import binary_crossentropy\n",
        "from tensorflow.keras.utils import plot_model\n",
        "import numpy as np\n",
        "import pandas as pd\n",
        "import gc"
      ]
    },
    {
      "cell_type": "code",
      "execution_count": 6,
      "metadata": {
        "id": "pZLXb5CWkoKd"
      },
      "outputs": [],
      "source": [
        "import warnings\n",
        "warnings.filterwarnings('ignore')"
      ]
    },
    {
      "cell_type": "markdown",
      "metadata": {
        "id": "MXNUDnO_0VLl"
      },
      "source": [
        "## Prepare data for matching"
      ]
    },
    {
      "cell_type": "markdown",
      "metadata": {
        "id": "6V1vqKOukoKf"
      },
      "source": [
        "Load data into a dictionary with three keys: `user`, `item`, and `interact`, then generate a movie watching history sequence with a length of `40` for each user."
      ]
    },
    {
      "cell_type": "code",
      "execution_count": 7,
      "metadata": {
        "colab": {
          "base_uri": "https://localhost:8080/"
        },
        "id": "quqT-Qr3koKf",
        "outputId": "65a3010e-0f54-495b-f2ef-23d894ab4210"
      },
      "outputs": [
        {
          "output_type": "stream",
          "name": "stderr",
          "text": [
            "Encode User Sparse Feats: 100%|██████████| 4/4 [00:00<00:00, 40.85it/s]\n",
            "Encode Item Sparse Feats: 100%|██████████| 1/1 [00:00<00:00, 77.33it/s]\n",
            "Generate movie_id sequence: 100%|██████████| 6040/6040 [00:09<00:00, 668.65it/s] \n"
          ]
        }
      ],
      "source": [
        "retrieve_dh = MovielensDataHelper('./ml-1m/')\n",
        "data = retrieve_dh.get_clean_data(sparse_features=['gender','occupation','zip','age','year'])\n",
        "data['inter']['hist_movie'] = gen_sequence(data['inter'], 'user_id', 'movie_id', 40)"
      ]
    },
    {
      "cell_type": "code",
      "execution_count": 8,
      "metadata": {
        "id": "q1MdIQOikoKg"
      },
      "outputs": [],
      "source": [
        "user_features = ['user_id', 'gender', 'occupation']\n",
        "item_features = ['movie_id','genres']\n",
        "inter_features = ['hist_movie']"
      ]
    },
    {
      "cell_type": "markdown",
      "metadata": {
        "id": "NJak7K3HkoKg"
      },
      "source": [
        "Only movies with ratings larger than `3` are treated as 'positive' samples for each user. Every last `10` 'positive' movies of each user are held out for testing and `10%` of the train set is split out for validating."
      ]
    },
    {
      "cell_type": "markdown",
      "metadata": {
        "id": "KkxO2MBjkoKg"
      },
      "source": [
        "As we'll use sampled softmax in the training process of the retrieval model, we don't need to generate negative samples by ourselves here."
      ]
    },
    {
      "cell_type": "code",
      "execution_count": 9,
      "metadata": {
        "colab": {
          "base_uri": "https://localhost:8080/"
        },
        "id": "wgw6prfluzM5",
        "outputId": "43df7d6d-de3e-4ae7-f02f-22bbf4d5ac4f"
      },
      "outputs": [
        {
          "output_type": "stream",
          "name": "stderr",
          "text": [
            "Save user features: 100%|██████████| 3/3 [00:02<00:00,  1.25it/s]\n",
            "Save item features: 100%|██████████| 2/2 [00:02<00:00,  1.04s/it]\n",
            "Save inter features: 100%|██████████| 2/2 [00:04<00:00,  2.08s/it]\n"
          ]
        }
      ],
      "source": [
        "retrieval_dataset = PointWiseDataset(\n",
        "    \"RetrievalDataset\",\n",
        "    task=\"retrieval\",\n",
        "    data=data,\n",
        "    uid_name=\"user_id\",\n",
        "    iid_name=\"movie_id\",\n",
        "    inter_name=\"interact\",\n",
        "    time_name=\"timestamp\",\n",
        "    threshold=4,\n",
        ")\n",
        "\n",
        "retrieval_dataset.train_test_split(10)\n",
        "retrieval_dataset.train_valid_split(0.1)\n",
        "retrieval_dataset.gen_dataset(user_features, item_features, inter_features, shuffle=False)"
      ]
    },
    {
      "cell_type": "code",
      "execution_count": 10,
      "metadata": {
        "colab": {
          "base_uri": "https://localhost:8080/"
        },
        "id": "cfqBYEAbuXQN",
        "outputId": "caf72b29-d09a-48d1-c42a-dc34c2804cb5"
      },
      "outputs": [
        {
          "output_type": "stream",
          "name": "stderr",
          "text": [
            "Load user features: 100%|██████████| 3/3 [00:02<00:00,  1.38it/s]\n",
            "Load item features: 100%|██████████| 2/2 [00:01<00:00,  1.38it/s]\n",
            "Load inter features: 100%|██████████| 2/2 [00:01<00:00,  1.35it/s]\n"
          ]
        }
      ],
      "source": [
        "train_data, valid_data, test_data, test_label = retrieval_dataset.load_dataset(\n",
        "    user_features, item_features, inter_features, 4096\n",
        ")"
      ]
    },
    {
      "cell_type": "markdown",
      "metadata": {
        "id": "wMAdJxpc0x1U"
      },
      "source": [
        "## Train match model and export embeddings"
      ]
    },
    {
      "cell_type": "markdown",
      "metadata": {
        "id": "oRyWVrTYkoKh"
      },
      "source": [
        "Initialize a `FeaturePool` instance to store features used for training."
      ]
    },
    {
      "cell_type": "code",
      "execution_count": 11,
      "metadata": {
        "id": "UqqyX74uBULQ"
      },
      "outputs": [],
      "source": [
        "feat_pool1 = FeaturePool()"
      ]
    },
    {
      "cell_type": "markdown",
      "metadata": {
        "id": "gtTPg2dzkoKi"
      },
      "source": [
        "Get dimension of sparse features:"
      ]
    },
    {
      "cell_type": "code",
      "execution_count": 12,
      "metadata": {
        "id": "VJR1Ybd18t7g"
      },
      "outputs": [],
      "source": [
        "feature_dim = retrieval_dataset.get_feature_dim(user_features, item_features, [])"
      ]
    },
    {
      "cell_type": "markdown",
      "metadata": {
        "id": "xr8aeVIfkoKi"
      },
      "source": [
        "Initialize an `EmbdFeatureGroup` instance for item features."
      ]
    },
    {
      "cell_type": "code",
      "execution_count": 13,
      "metadata": {
        "id": "SvRBRn3dBULR"
      },
      "outputs": [],
      "source": [
        "all_item_model_input = {f:np.array(data['item'][f].tolist()) for f in item_features}\n",
        "\n",
        "retrieve_item_features = [SparseFeature('movie_id', feature_dim['movie_id'], embedding_dim=64)] +\\\n",
        "                [SparseSeqFeature(SparseFeature('genre_id', 19, 64), 'genres', seq_len=6)]\n",
        "item_feature_group = EmbdFeatureGroup(\n",
        "    name='item', \n",
        "    id_name='movie_id', \n",
        "    features=retrieve_item_features, \n",
        "    feature_pool=feat_pool1, \n",
        "    value_dict=all_item_model_input,\n",
        "    embd_dim=64\n",
        ")"
      ]
    },
    {
      "cell_type": "markdown",
      "metadata": {
        "id": "krHpVsIWkoKi"
      },
      "source": [
        "Initialize a `FeatureGroup` instance for user features."
      ]
    },
    {
      "cell_type": "code",
      "execution_count": 14,
      "metadata": {
        "id": "mxDDKxm7uzM9"
      },
      "outputs": [],
      "source": [
        "retrieve_user_features = [SparseFeature(x, feature_dim[x], 64) for x in user_features] +\\\n",
        "                [SparseSeqFeature(SparseFeature('movie_id', feature_dim['movie_id'], 64), 'hist_movie', 40)]\n",
        "user_feature_group = FeatureGroup('user', retrieve_user_features, feat_pool1)"
      ]
    },
    {
      "cell_type": "markdown",
      "metadata": {
        "id": "wA3F1J0NkoKj"
      },
      "source": [
        "Create a DSSM model."
      ]
    },
    {
      "cell_type": "code",
      "execution_count": 15,
      "metadata": {
        "id": "lKURLYXkuzM-"
      },
      "outputs": [],
      "source": [
        "retrieve_model = DSSM(\n",
        "    user_feature_group, item_feature_group,\n",
        "    user_dnn_hidden_units=(256,128,64), \n",
        "    item_dnn_hidden_units=(128,64), \n",
        "    dnn_dropout=0.1,\n",
        "    dnn_bn=True,\n",
        "    num_sampled=100\n",
        ")"
      ]
    },
    {
      "cell_type": "markdown",
      "metadata": {
        "id": "1NasfLmAkoKj"
      },
      "source": [
        "Let's take a look at the model structure:"
      ]
    },
    {
      "cell_type": "code",
      "execution_count": 16,
      "metadata": {
        "colab": {
          "base_uri": "https://localhost:8080/",
          "height": 856
        },
        "id": "AQDtzo-4sw16",
        "outputId": "e19fc19e-65cd-448e-a052-2eed35073a7b"
      },
      "outputs": [
        {
          "output_type": "execute_result",
          "data": {
            "text/plain": [
              "<IPython.core.display.Image object>"
            ],
            "image/png": "[encoded data removed]"
          },
          "metadata": {},
          "execution_count": 16
        }
      ],
      "source": [
        "plot_model(retrieve_model)"
      ]
    },
    {
      "cell_type": "code",
      "execution_count": 17,
      "metadata": {
        "colab": {
          "base_uri": "https://localhost:8080/"
        },
        "id": "2xizKlTvuzM_",
        "outputId": "a411e7e3-10a0-4463-8a47-7ad3b4a026f5"
      },
      "outputs": [
        {
          "output_type": "stream",
          "name": "stdout",
          "text": [
            "Epoch 1/25\n",
            "114/114 [==============================] - 11s 42ms/step - loss: 7.3279 - val_loss: 3.8524\n",
            "Epoch 2/25\n",
            "114/114 [==============================] - 5s 40ms/step - loss: 3.2380 - val_loss: 3.6875\n",
            "Epoch 3/25\n",
            "114/114 [==============================] - 5s 40ms/step - loss: 2.4422 - val_loss: 3.3004\n",
            "Epoch 4/25\n",
            "114/114 [==============================] - 5s 40ms/step - loss: 2.0972 - val_loss: 2.6112\n",
            "Epoch 5/25\n",
            "114/114 [==============================] - 5s 41ms/step - loss: 1.7308 - val_loss: 1.7159\n",
            "Epoch 6/25\n",
            "114/114 [==============================] - 5s 41ms/step - loss: 1.6307 - val_loss: 1.3833\n",
            "Epoch 7/25\n",
            "114/114 [==============================] - 5s 41ms/step - loss: 1.4542 - val_loss: 1.2502\n",
            "Epoch 8/25\n",
            "114/114 [==============================] - 5s 39ms/step - loss: 1.3861 - val_loss: 1.1054\n",
            "Epoch 9/25\n",
            "114/114 [==============================] - 5s 40ms/step - loss: 1.2970 - val_loss: 1.0867\n",
            "Epoch 10/25\n",
            "114/114 [==============================] - 5s 41ms/step - loss: 1.2097 - val_loss: 1.0360\n",
            "Epoch 11/25\n",
            "114/114 [==============================] - 5s 40ms/step - loss: 1.1260 - val_loss: 0.9781\n",
            "Epoch 12/25\n",
            "114/114 [==============================] - 4s 39ms/step - loss: 1.1329 - val_loss: 1.0354\n",
            "Epoch 13/25\n",
            "114/114 [==============================] - 5s 44ms/step - loss: 1.0534 - val_loss: 0.9355\n",
            "Epoch 14/25\n",
            "114/114 [==============================] - 5s 41ms/step - loss: 1.0169 - val_loss: 0.9209\n",
            "Epoch 15/25\n",
            "114/114 [==============================] - 5s 42ms/step - loss: 0.9496 - val_loss: 0.9084\n",
            "Epoch 16/25\n",
            "114/114 [==============================] - 5s 40ms/step - loss: 0.9739 - val_loss: 0.8242\n",
            "Epoch 17/25\n",
            "114/114 [==============================] - 5s 39ms/step - loss: 0.9323 - val_loss: 0.8083\n",
            "Epoch 18/25\n",
            "114/114 [==============================] - 4s 38ms/step - loss: 0.8853 - val_loss: 0.8971\n",
            "Epoch 19/25\n",
            "114/114 [==============================] - 5s 40ms/step - loss: 0.8603 - val_loss: 0.7956\n",
            "Epoch 20/25\n",
            "114/114 [==============================] - 5s 41ms/step - loss: 0.8479 - val_loss: 0.8169\n",
            "Epoch 21/25\n",
            "114/114 [==============================] - 5s 45ms/step - loss: 0.8387 - val_loss: 0.7176\n",
            "Epoch 22/25\n",
            "114/114 [==============================] - 5s 41ms/step - loss: 0.8222 - val_loss: 0.7206\n",
            "Epoch 23/25\n",
            "114/114 [==============================] - 5s 42ms/step - loss: 0.8212 - val_loss: 0.8288\n",
            "Epoch 24/25\n",
            "114/114 [==============================] - 5s 42ms/step - loss: 0.7981 - val_loss: 0.7015\n",
            "Epoch 25/25\n",
            "114/114 [==============================] - 5s 43ms/step - loss: 0.7806 - val_loss: 0.6795\n"
          ]
        },
        {
          "output_type": "execute_result",
          "data": {
            "text/plain": [
              "<tensorflow.python.training.tracking.util.CheckpointLoadStatus at 0x7fb540043650>"
            ]
          },
          "metadata": {},
          "execution_count": 17
        }
      ],
      "source": [
        "retrieve_model.compile(optimizer=tf.keras.optimizers.Adam(learning_rate=1e-3), loss=sampledsoftmaxloss)\n",
        "early_stop = tf.keras.callbacks.EarlyStopping(monitor='val_loss', patience=5)\n",
        "checkpoint = tf.keras.callbacks.ModelCheckpoint(\n",
        "    filepath='./match_checkpoint/',\n",
        "    save_weights_only=True,\n",
        "    monitor='val_loss',\n",
        "    mode='min',\n",
        "    save_best_only=True)\n",
        "history = retrieve_model.fit(\n",
        "    x=train_data,\n",
        "    validation_data=valid_data,\n",
        "    epochs=25,\n",
        "    callbacks=[early_stop, checkpoint],\n",
        ")\n",
        "retrieve_model.load_weights('./match_checkpoint/')"
      ]
    },
    {
      "cell_type": "markdown",
      "metadata": {
        "id": "8O4P0Y4ukoKk"
      },
      "source": [
        "Get user and movie embeddings:"
      ]
    },
    {
      "cell_type": "code",
      "execution_count": 18,
      "metadata": {
        "colab": {
          "base_uri": "https://localhost:8080/"
        },
        "id": "G9AxEdKbuzM_",
        "outputId": "f5e65884-383a-46b9-c82b-d84df4320d00"
      },
      "outputs": [
        {
          "output_type": "stream",
          "name": "stdout",
          "text": [
            "(5923, 64)\n",
            "(3883, 64)\n"
          ]
        }
      ],
      "source": [
        "user_embedding_model = Model(inputs=retrieve_model.user_input, outputs=retrieve_model.user_embedding)\n",
        "item_embedding_model = Model(inputs=retrieve_model.item_input, outputs=retrieve_model.item_embedding)\n",
        "\n",
        "user_embs = user_embedding_model.predict(test_data, batch_size=2 ** 15)\n",
        "item_embs = item_embedding_model.predict(all_item_model_input, batch_size=2 ** 15)\n",
        "\n",
        "print(user_embs.shape)\n",
        "print(item_embs.shape)"
      ]
    },
    {
      "cell_type": "markdown",
      "metadata": {
        "id": "qEAI8Rl7hzgv"
      },
      "source": [
        "## Test match model"
      ]
    },
    {
      "cell_type": "code",
      "execution_count": 19,
      "metadata": {
        "id": "cr39MwzduzNA"
      },
      "outputs": [],
      "source": [
        "candidates = search_embedding(\n",
        "    64, \n",
        "    item_embs, \n",
        "    user_embs,\n",
        "    data['item']['movie_id'].values,\n",
        "    n=100,\n",
        "    gpu=True\n",
        ")"
      ]
    },
    {
      "cell_type": "code",
      "execution_count": 20,
      "metadata": {
        "colab": {
          "base_uri": "https://localhost:8080/"
        },
        "id": "ZLc_JPubuzNB",
        "outputId": "15314963-95c4-43c6-a384-9b7f633c42ab"
      },
      "outputs": [
        {
          "output_type": "execute_result",
          "data": {
            "text/plain": [
              "0.01550499264368925"
            ]
          },
          "metadata": {},
          "execution_count": 20
        }
      ],
      "source": [
        "map_at_k(test_label, candidates, k=10)"
      ]
    },
    {
      "cell_type": "code",
      "execution_count": 21,
      "metadata": {
        "colab": {
          "base_uri": "https://localhost:8080/"
        },
        "id": "kap-zVgguzNC",
        "outputId": "52e38554-ef42-4dd4-8a3d-e11e39d104ed"
      },
      "outputs": [
        {
          "output_type": "execute_result",
          "data": {
            "text/plain": [
              "0.039186223197703866"
            ]
          },
          "metadata": {},
          "execution_count": 21
        }
      ],
      "source": [
        "recall_at_k(test_label, candidates, k=10)"
      ]
    },
    {
      "cell_type": "code",
      "execution_count": 22,
      "metadata": {
        "colab": {
          "base_uri": "https://localhost:8080/"
        },
        "id": "WyU4hfCihzgw",
        "outputId": "a01021f9-c93c-49dc-89f8-3d6de1a2bdf2"
      },
      "outputs": [
        {
          "output_type": "execute_result",
          "data": {
            "text/plain": [
              "0.1349653891608982"
            ]
          },
          "metadata": {},
          "execution_count": 22
        }
      ],
      "source": [
        "recall_at_k(test_label, candidates, k=100)"
      ]
    },
    {
      "cell_type": "markdown",
      "metadata": {
        "id": "l9L5duhQhzgw"
      },
      "source": [
        "## Prepare data for ranking"
      ]
    },
    {
      "cell_type": "code",
      "execution_count": 23,
      "metadata": {
        "id": "XpXydY19hzgx"
      },
      "outputs": [],
      "source": [
        "test_user_embs = user_embedding_model.predict(test_data, batch_size=2 ** 15)\n",
        "test_candidates = search_embedding(\n",
        "    64, \n",
        "    item_embs, \n",
        "    test_user_embs,\n",
        "    data['item']['movie_id'].values,\n",
        "    n=100,\n",
        "    gpu=True\n",
        ")\n",
        "\n",
        "test_candidates = {\n",
        "    test_data['user_id'][i] : test_candidates[i]\n",
        "    for i in range(test_candidates.shape[0])\n",
        "}"
      ]
    },
    {
      "cell_type": "code",
      "execution_count": 24,
      "metadata": {
        "colab": {
          "base_uri": "https://localhost:8080/"
        },
        "id": "yynuwvUppia6",
        "outputId": "78125db1-d5a0-4e0d-e977-826c7e695de3"
      },
      "outputs": [
        {
          "output_type": "execute_result",
          "data": {
            "text/plain": [
              "3970"
            ]
          },
          "metadata": {},
          "execution_count": 24
        }
      ],
      "source": [
        "del user_embs, item_embs, train_data, test_user_embs\n",
        "gc.collect()"
      ]
    },
    {
      "cell_type": "markdown",
      "metadata": {
        "id": "NRlySxN_koKl"
      },
      "source": [
        "For ranking dataset, We'll generate `10` random negative samples for each positive sample."
      ]
    },
    {
      "cell_type": "code",
      "execution_count": 25,
      "metadata": {
        "id": "am9PSRp9uXQV"
      },
      "outputs": [],
      "source": [
        "user_features = ['user_id', 'gender', 'occupation', 'zip', 'age']\n",
        "item_features = ['movie_id', 'year', 'genres']\n",
        "inter_features = ['hist_movie']"
      ]
    },
    {
      "cell_type": "code",
      "execution_count": 26,
      "metadata": {
        "colab": {
          "base_uri": "https://localhost:8080/"
        },
        "id": "HzBXnYuwhzgx",
        "outputId": "20f23119-bfb5-46b3-bb47-c73b0d93eb4f"
      },
      "outputs": [
        {
          "output_type": "stream",
          "name": "stderr",
          "text": [
            "Generate negative samples: 100%|██████████| 5923/5923 [00:09<00:00, 623.05it/s]\n",
            "Regenerate test set: 100%|██████████| 5923/5923 [00:00<00:00, 631764.17it/s]\n",
            "Save user features: 100%|██████████| 5/5 [00:37<00:00,  7.46s/it]\n",
            "Save item features: 100%|██████████| 3/3 [00:29<00:00,  9.82s/it]\n",
            "Save inter features: 100%|██████████| 2/2 [00:43<00:00, 21.78s/it]\n"
          ]
        }
      ],
      "source": [
        "ranking_dataset = PointWiseDataset(\n",
        "    \"RankingDataset\",\n",
        "    task=\"ranking\",\n",
        "    data=data,\n",
        "    uid_name=\"user_id\",\n",
        "    iid_name=\"movie_id\",\n",
        "    inter_name=\"interact\",\n",
        "    time_name=\"timestamp\",\n",
        "    threshold=4,\n",
        ")\n",
        "\n",
        "ranking_dataset.train_test_split(10)\n",
        "ranking_dataset.negative_sampling(10)\n",
        "ranking_dataset.train_valid_split(0.1)\n",
        "ranking_dataset.gen_dataset(user_features, item_features, inter_features, test_candidates)"
      ]
    },
    {
      "cell_type": "code",
      "execution_count": 27,
      "metadata": {
        "colab": {
          "base_uri": "https://localhost:8080/"
        },
        "id": "lhTemxGcuXQW",
        "outputId": "f2e299c8-ea8d-4308-c0d6-8f705ea0cb25"
      },
      "outputs": [
        {
          "output_type": "stream",
          "name": "stderr",
          "text": [
            "Load user features: 100%|██████████| 5/5 [00:04<00:00,  1.23it/s]\n",
            "Load item features: 100%|██████████| 3/3 [00:02<00:00,  1.14it/s]\n",
            "Load inter features: 100%|██████████| 2/2 [00:02<00:00,  1.13s/it]\n"
          ]
        }
      ],
      "source": [
        "train_data, valid_data, test_data, test_label = ranking_dataset.load_dataset(\n",
        "    user_features, item_features, inter_features, 8192\n",
        ")"
      ]
    },
    {
      "cell_type": "code",
      "execution_count": 28,
      "metadata": {
        "id": "of_PY0kv9UZx"
      },
      "outputs": [],
      "source": [
        "feature_dim = ranking_dataset.get_feature_dim(user_features, item_features, [])"
      ]
    },
    {
      "cell_type": "markdown",
      "metadata": {
        "id": "kyApc4cJhzgy"
      },
      "source": [
        "## Train rank model and recommend movies"
      ]
    },
    {
      "cell_type": "markdown",
      "metadata": {
        "id": "epvOWQvukoKm"
      },
      "source": [
        "Initialize a `FeaturePool` instance to store features used for training."
      ]
    },
    {
      "cell_type": "code",
      "execution_count": 29,
      "metadata": {
        "id": "7tSWHejxBULW"
      },
      "outputs": [],
      "source": [
        "feat_pool2 = FeaturePool()"
      ]
    },
    {
      "cell_type": "markdown",
      "metadata": {
        "id": "iyF3laNekoKm"
      },
      "source": [
        "Initialize a `FeatureGroup` instance for features used in FM."
      ]
    },
    {
      "cell_type": "code",
      "execution_count": 30,
      "metadata": {
        "id": "jT0Lyg0eiVvj"
      },
      "outputs": [],
      "source": [
        "rank_fm_features = [SparseFeature(x, feature_dim[x], 64) for x in user_features] +\\\n",
        "                [SparseSeqFeature(SparseFeature('movie_id', feature_dim['movie_id'], 64), 'hist_movie', 40)] +\\\n",
        "                [SparseFeature(x, feature_dim[x], 64) for x in item_features[:-1]] +\\\n",
        "                [SparseSeqFeature(SparseFeature('genre_id', 19, 64), 'genres',6)]\n",
        "fm_feature_group = FeatureGroup('FM', rank_fm_features, feat_pool2)"
      ]
    },
    {
      "cell_type": "markdown",
      "metadata": {
        "id": "ftgDsUSikoKm"
      },
      "source": [
        "Initialize a `FeatureGroup` instance for features used in DNN."
      ]
    },
    {
      "cell_type": "code",
      "execution_count": 31,
      "metadata": {
        "id": "GT_FjYacBULW"
      },
      "outputs": [],
      "source": [
        "rank_dnn_feats = rank_fm_features\n",
        "dnn_feature_group = FeatureGroup('DNN', rank_dnn_feats, feat_pool2)"
      ]
    },
    {
      "cell_type": "markdown",
      "metadata": {
        "id": "WFJwZ5gvkoKn"
      },
      "source": [
        "Create a DeepFM model:"
      ]
    },
    {
      "cell_type": "code",
      "execution_count": 32,
      "metadata": {
        "id": "_uvYZtxBhzgy"
      },
      "outputs": [],
      "source": [
        "rank_model = DeepFM(\n",
        "    fm_feature_group, dnn_feature_group, \n",
        "    dnn_hidden_units=(256,128,1), dnn_dropout=0.2, l2_dnn=0.2, dnn_bn=True\n",
        ")"
      ]
    },
    {
      "cell_type": "markdown",
      "metadata": {
        "id": "2pPwUcsIkoKn"
      },
      "source": [
        "Let's take a look at the model sturcture:"
      ]
    },
    {
      "cell_type": "code",
      "execution_count": 33,
      "metadata": {
        "colab": {
          "base_uri": "https://localhost:8080/",
          "height": 680
        },
        "id": "huHdcNW5s3ih",
        "outputId": "d174ffc0-c637-4f04-aff7-bcc8cb9f49e0"
      },
      "outputs": [
        {
          "output_type": "execute_result",
          "data": {
            "text/plain": [
              "<IPython.core.display.Image object>"
            ],
            "image/png": "[encoded data removed]"
          },
          "metadata": {},
          "execution_count": 33
        }
      ],
      "source": [
        "plot_model(rank_model)"
      ]
    },
    {
      "cell_type": "code",
      "execution_count": 34,
      "metadata": {
        "colab": {
          "base_uri": "https://localhost:8080/"
        },
        "id": "H8l7JU3phzgy",
        "outputId": "cbda3e46-49b9-4f92-a4ff-1a87fdf44715"
      },
      "outputs": [
        {
          "output_type": "stream",
          "name": "stdout",
          "text": [
            "Epoch 1/25\n",
            "623/623 [==============================] - 74s 112ms/step - loss: 10.0025 - val_loss: 0.2401\n",
            "Epoch 2/25\n",
            "623/623 [==============================] - 71s 113ms/step - loss: 0.1909 - val_loss: 0.1604\n",
            "Epoch 3/25\n",
            "623/623 [==============================] - 73s 116ms/step - loss: 0.1537 - val_loss: 0.1428\n",
            "Epoch 4/25\n",
            "623/623 [==============================] - 72s 115ms/step - loss: 0.1350 - val_loss: 0.1350\n",
            "Epoch 5/25\n",
            "623/623 [==============================] - 72s 115ms/step - loss: 0.1224 - val_loss: 0.1214\n",
            "Epoch 6/25\n",
            "623/623 [==============================] - 73s 116ms/step - loss: 0.1138 - val_loss: 0.1213\n",
            "Epoch 7/25\n",
            "623/623 [==============================] - 73s 116ms/step - loss: 0.1078 - val_loss: 0.1228\n",
            "Epoch 8/25\n",
            "623/623 [==============================] - 73s 116ms/step - loss: 0.1027 - val_loss: 0.1157\n",
            "Epoch 9/25\n",
            "623/623 [==============================] - 74s 117ms/step - loss: 0.0981 - val_loss: 0.1231\n",
            "Epoch 10/25\n",
            "623/623 [==============================] - 73s 117ms/step - loss: 0.0952 - val_loss: 0.1141\n",
            "Epoch 11/25\n",
            "623/623 [==============================] - 73s 116ms/step - loss: 0.0922 - val_loss: 0.1158\n",
            "Epoch 12/25\n",
            "623/623 [==============================] - 73s 117ms/step - loss: 0.0899 - val_loss: 0.1169\n",
            "Epoch 13/25\n",
            "623/623 [==============================] - 73s 117ms/step - loss: 0.0877 - val_loss: 0.1206\n",
            "Epoch 14/25\n",
            "623/623 [==============================] - 72s 116ms/step - loss: 0.0859 - val_loss: 0.1207\n",
            "Epoch 15/25\n",
            "623/623 [==============================] - 72s 116ms/step - loss: 0.0842 - val_loss: 0.1210\n"
          ]
        },
        {
          "output_type": "execute_result",
          "data": {
            "text/plain": [
              "<tensorflow.python.training.tracking.util.CheckpointLoadStatus at 0x7fb4e25ef790>"
            ]
          },
          "metadata": {},
          "execution_count": 34
        }
      ],
      "source": [
        "rank_model.compile(optimizer=tf.keras.optimizers.Adam(lr=1e-3), loss=binary_crossentropy)\n",
        "early_stop = tf.keras.callbacks.EarlyStopping(monitor='val_loss', patience=5)\n",
        "checkpoint = tf.keras.callbacks.ModelCheckpoint(\n",
        "    filepath='./rank_checkpoint/',\n",
        "    save_weights_only=True,\n",
        "    monitor='val_loss',\n",
        "    mode='min',\n",
        "    save_best_only=True\n",
        ")\n",
        "history = rank_model.fit(\n",
        "    x=train_data, \n",
        "    validation_data=valid_data,\n",
        "    epochs=25,\n",
        "    callbacks=[early_stop,checkpoint]\n",
        ")\n",
        "rank_model.load_weights('./rank_checkpoint/')"
      ]
    },
    {
      "cell_type": "code",
      "execution_count": 35,
      "metadata": {
        "colab": {
          "base_uri": "https://localhost:8080/"
        },
        "id": "Fr61KpmewPuB",
        "outputId": "c4e958c0-0394-4fe5-a7ae-92ac9c299ad5"
      },
      "outputs": [
        {
          "output_type": "execute_result",
          "data": {
            "text/plain": [
              "10913"
            ]
          },
          "metadata": {},
          "execution_count": 35
        }
      ],
      "source": [
        "del train_data\n",
        "gc.collect()"
      ]
    },
    {
      "cell_type": "code",
      "execution_count": 36,
      "metadata": {
        "id": "zUQJ7IdLhzgz"
      },
      "outputs": [],
      "source": [
        "pred = rank_model.predict(test_data, batch_size=8192)"
      ]
    },
    {
      "cell_type": "code",
      "execution_count": 37,
      "metadata": {
        "id": "SoCzRNuphzgz"
      },
      "outputs": [],
      "source": [
        "pred_df = pd.DataFrame(columns=['user_id','movie_id','pred'])\n",
        "pred_df['user_id'] = test_data['user_id']\n",
        "pred_df['movie_id'] = test_data['movie_id']\n",
        "pred_df['pred'] = pred\n",
        "\n",
        "pred_df = pred_df.sort_values(by=['user_id','pred'], ascending=False).reset_index(drop=True)\n",
        "pred_df = pred_df.groupby('user_id')['movie_id'].apply(list).reset_index()"
      ]
    },
    {
      "cell_type": "markdown",
      "metadata": {
        "id": "Uj9S8xMdkoKo"
      },
      "source": [
        "## Test recommendation result"
      ]
    },
    {
      "cell_type": "code",
      "execution_count": 38,
      "metadata": {
        "id": "rEQ9sQGjhzgz"
      },
      "outputs": [],
      "source": [
        "test_label_df = pd.DataFrame(columns=['user_id','label'])\n",
        "test_label_df['user_id'] = pd.Series(test_data['user_id']).drop_duplicates()\n",
        "test_label_df['label'] = test_label.tolist()"
      ]
    },
    {
      "cell_type": "code",
      "execution_count": 39,
      "metadata": {
        "id": "5T_uOn5Ohzgz"
      },
      "outputs": [],
      "source": [
        "test_label_df = pd.merge(test_label_df, pred_df, on=['user_id'], how='left')"
      ]
    },
    {
      "cell_type": "code",
      "execution_count": 40,
      "metadata": {
        "colab": {
          "base_uri": "https://localhost:8080/"
        },
        "id": "0HXT3XxAhzgz",
        "outputId": "ed11f0ca-eead-4182-c75e-ed0f08beed54"
      },
      "outputs": [
        {
          "output_type": "execute_result",
          "data": {
            "text/plain": [
              "0.01812087798707755"
            ]
          },
          "metadata": {},
          "execution_count": 40
        }
      ],
      "source": [
        "map_at_k(test_label_df['label'], test_label_df['movie_id'], k=10)"
      ]
    },
    {
      "cell_type": "code",
      "execution_count": 41,
      "metadata": {
        "colab": {
          "base_uri": "https://localhost:8080/"
        },
        "id": "HHzj8iJKhzgz",
        "outputId": "9b96bd57-8db1-4789-beeb-7006fb7c7aba"
      },
      "outputs": [
        {
          "output_type": "execute_result",
          "data": {
            "text/plain": [
              "0.0488097248016208"
            ]
          },
          "metadata": {},
          "execution_count": 41
        }
      ],
      "source": [
        "recall_at_k(test_label_df['label'], test_label_df['movie_id'], k=10)"
      ]
    },
    {
      "cell_type": "code",
      "execution_count": 42,
      "metadata": {
        "colab": {
          "base_uri": "https://localhost:8080/"
        },
        "id": "y5L5ijkE-H1x",
        "outputId": "4925b939-163a-4521-e733-51391aa6e82b"
      },
      "outputs": [
        {
          "output_type": "execute_result",
          "data": {
            "text/plain": [
              "0.1349653891608982"
            ]
          },
          "metadata": {},
          "execution_count": 42
        }
      ],
      "source": [
        "recall_at_k(test_label_df['label'], test_label_df['movie_id'], k=100)"
      ]
    },
    {
      "cell_type": "markdown",
      "metadata": {
        "id": "5eecAAMptENt"
      },
      "source": [
        "**Note**: All parameters in the demo are set for a quick running test purpose, tuning them may lead to a huge increase in model performance."
      ]
    }
  ],
  "metadata": {
    "accelerator": "GPU",
    "colab": {
      "collapsed_sections": [],
      "name": "QuickstartDemo.ipynb",
      "provenance": []
    },
    "interpreter": {
      "hash": "653a9876bfda977334bab0c6eac4e690c97044cb3c76993a10b084536ae29e50"
    },
    "kernelspec": {
      "display_name": "Python 3.8.5 ('base')",
      "language": "python",
      "name": "python3"
    },
    "language_info": {
      "codemirror_mode": {
        "name": "ipython",
        "version": 3
      },
      "file_extension": ".py",
      "mimetype": "text/x-python",
      "name": "python",
      "nbconvert_exporter": "python",
      "pygments_lexer": "ipython3",
      "version": "3.7.11"
    }
  },
  "nbformat": 4,
  "nbformat_minor": 0
}