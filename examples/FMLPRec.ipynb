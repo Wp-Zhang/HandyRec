{
  "cells": [
    {
      "cell_type": "markdown",
      "metadata": {
        "id": "FXD2RCXzuzMx"
      },
      "source": [
        "[![Open In Colab](https://colab.research.google.com/assets/colab-badge.svg)](https://colab.research.google.com/github/Wp-Zhang/HandyRec/blob/master/examples/FMLPRec.ipynb)"
      ]
    },
    {
      "cell_type": "markdown",
      "metadata": {
        "id": "OJKT5uytzl7t"
      },
      "source": [
        "> This notebook runs FMLP-Rec on MovieLens1M dataset. We'll use YouTubeDNN for generating candidates and FMLP-Rec for ranking these candidates.\n",
        "\n",
        "> Only movies with ratings larger than 3 are treated as 'positive' samples for each user. Every last 10 'positive' movies of each user are held out for testing."
      ]
    },
    {
      "cell_type": "markdown",
      "metadata": {
        "id": "YtD_3eG3xekg"
      },
      "source": [
        "## Table of Contents:\n",
        "* [Prepare data for retrieval](#section-0)\n",
        "* [Train retrieve model and export embeddings](#section-1)\n",
        "* [Use Faiss to generate candidates](#section-2)\n",
        "* [Train rank model and predict](#section-3)"
      ]
    },
    {
      "cell_type": "markdown",
      "metadata": {
        "id": "XFTLC9SQzxK4"
      },
      "source": [
        "**Download dataset and install packages**"
      ]
    },
    {
      "cell_type": "code",
      "execution_count": 1,
      "metadata": {
        "colab": {
          "base_uri": "https://localhost:8080/"
        },
        "id": "WSk1WSSpvXfL",
        "outputId": "3ca78e63-58f8-4162-e653-c9f58273ca37"
      },
      "outputs": [
        {
          "output_type": "stream",
          "name": "stdout",
          "text": [
            "Cloning into 'HandyRec'...\n",
            "remote: Enumerating objects: 1704, done.\u001b[K\n",
            "remote: Counting objects: 100% (1704/1704), done.\u001b[K\n",
            "remote: Compressing objects: 100% (1269/1269), done.\u001b[K\n",
            "remote: Total 1704 (delta 682), reused 1309 (delta 383), pack-reused 0\u001b[K\n",
            "Receiving objects: 100% (1704/1704), 20.92 MiB | 10.31 MiB/s, done.\n",
            "Resolving deltas: 100% (682/682), done.\n",
            "Collecting faiss-cpu\n",
            "  Downloading faiss_cpu-1.7.2-cp37-cp37m-manylinux_2_17_x86_64.manylinux2014_x86_64.whl (8.6 MB)\n",
            "\u001b[K     |████████████████████████████████| 8.6 MB 15.2 MB/s \n",
            "\u001b[?25hInstalling collected packages: faiss-cpu\n",
            "Successfully installed faiss-cpu-1.7.2\n"
          ]
        }
      ],
      "source": [
        "! git clone https://github.com/Wp-Zhang/HandyRec.git\n",
        "! pip install faiss-cpu"
      ]
    },
    {
      "cell_type": "code",
      "execution_count": 2,
      "metadata": {
        "colab": {
          "base_uri": "https://localhost:8080/"
        },
        "id": "uiIqXdbUyCEi",
        "outputId": "f1343128-647a-4b88-b703-874791de849a"
      },
      "outputs": [
        {
          "output_type": "stream",
          "name": "stdout",
          "text": [
            "--2022-04-15 22:57:04--  https://files.grouplens.org/datasets/movielens/ml-1m.zip\n",
            "Resolving files.grouplens.org (files.grouplens.org)... 128.101.65.152\n",
            "Connecting to files.grouplens.org (files.grouplens.org)|128.101.65.152|:443... connected.\n",
            "HTTP request sent, awaiting response... 200 OK\n",
            "Length: 5917549 (5.6M) [application/zip]\n",
            "Saving to: ‘./ml-1m.zip’\n",
            "\n",
            "./ml-1m.zip         100%[===================>]   5.64M  3.45MB/s    in 1.6s    \n",
            "\n",
            "2022-04-15 22:57:06 (3.45 MB/s) - ‘./ml-1m.zip’ saved [5917549/5917549]\n",
            "\n",
            "Archive:  ml-1m.zip\n",
            "   creating: ml-1m/\n",
            "  inflating: ml-1m/movies.dat        \n",
            "  inflating: ml-1m/ratings.dat       \n",
            "  inflating: ml-1m/README            \n",
            "  inflating: ml-1m/users.dat         \n"
          ]
        }
      ],
      "source": [
        "! wget https://files.grouplens.org/datasets/movielens/ml-1m.zip -O ./ml-1m.zip\n",
        "! unzip -o ml-1m.zip"
      ]
    },
    {
      "cell_type": "markdown",
      "metadata": {
        "id": "gsUc0pRE0BEH"
      },
      "source": [
        "**Import relative packages**"
      ]
    },
    {
      "cell_type": "code",
      "execution_count": 3,
      "metadata": {
        "id": "PzbZZUXxvxvm"
      },
      "outputs": [],
      "source": [
        "import sys\n",
        "sys.path.append('./HandyRec/')"
      ]
    },
    {
      "cell_type": "code",
      "execution_count": 4,
      "metadata": {
        "id": "NlQtiTrmuzM3"
      },
      "outputs": [],
      "source": [
        "from handyrec.data.movielens import MovielensDataHelper\n",
        "from handyrec.data.utils import gen_sequence\n",
        "from handyrec.data import PointWiseDataset, PairWiseDataset\n",
        "\n",
        "from handyrec.layers.utils import sampledsoftmaxloss\n",
        "from handyrec.models.retrieval import YouTubeMatchDNN\n",
        "from handyrec.models.ranking import FMLPRec\n",
        "from handyrec.features import DenseFeature, SparseFeature, SparseSeqFeature, FeatureGroup, EmbdFeatureGroup, FeaturePool\n",
        "from handyrec.data.metrics import map_at_k, recall_at_k\n",
        "from handyrec.models.utils import search_embedding\n",
        "\n",
        "import tensorflow as tf\n",
        "from tensorflow.keras import Model\n",
        "from tensorflow.keras.losses import binary_crossentropy\n",
        "from tensorflow.keras.utils import plot_model\n",
        "import numpy as np\n",
        "import pandas as pd\n",
        "import gc"
      ]
    },
    {
      "cell_type": "code",
      "execution_count": 5,
      "metadata": {
        "id": "iYOxv7-auzM3"
      },
      "outputs": [],
      "source": [
        "import warnings\n",
        "warnings.filterwarnings('ignore')"
      ]
    },
    {
      "cell_type": "code",
      "execution_count": 6,
      "metadata": {
        "id": "W8jyTPiz8K13"
      },
      "outputs": [],
      "source": [
        "RETRIEVAL_EMBEDDING_DIM = 64\n",
        "RANK_EMBEDDING_DIM = 64\n",
        "SEQ_LEN = 40\n",
        "BATCH_SIZE = 2**12\n",
        "NEPOCH = 50\n",
        "\n",
        "TEST_NUM = 10\n",
        "VALID_RATIO = 0.1\n",
        "NEG_NUM = 10\n",
        "CANDIDATE_NUM = 100"
      ]
    },
    {
      "cell_type": "markdown",
      "metadata": {
        "id": "eee7ogIugZI1"
      },
      "source": [
        "**Load MovieLens1M data**"
      ]
    },
    {
      "cell_type": "code",
      "execution_count": 7,
      "metadata": {
        "colab": {
          "base_uri": "https://localhost:8080/"
        },
        "id": "bwNXcq6hgZI2",
        "outputId": "d85520dd-7920-4fbe-ce99-b2e8c26d4acf"
      },
      "outputs": [
        {
          "output_type": "stream",
          "name": "stderr",
          "text": [
            "Encode User Sparse Feats: 100%|██████████| 4/4 [00:00<00:00, 95.18it/s]\n",
            "Encode Item Sparse Feats: 100%|██████████| 1/1 [00:00<00:00, 93.77it/s]\n",
            "Generate movie_id sequence: 100%|██████████| 6040/6040 [00:10<00:00, 552.23it/s] \n"
          ]
        }
      ],
      "source": [
        "retrieve_dh = MovielensDataHelper('./ml-1m/')\n",
        "data = retrieve_dh.get_clean_data(sparse_features=['gender','occupation','zip','age','year'])\n",
        "data['inter']['hist_movie'] = gen_sequence(data['inter'], 'user_id', 'movie_id', SEQ_LEN)"
      ]
    },
    {
      "cell_type": "markdown",
      "metadata": {
        "id": "MXNUDnO_0VLl"
      },
      "source": [
        "# 0. Prepare data for retrieval<a name=\"section-0\"></a>"
      ]
    },
    {
      "cell_type": "code",
      "execution_count": 8,
      "metadata": {
        "id": "2gszyQDwgZI5"
      },
      "outputs": [],
      "source": [
        "user_features = ['user_id', 'gender', 'occupation']\n",
        "item_features = ['movie_id','genres']\n",
        "inter_features = ['hist_movie']"
      ]
    },
    {
      "cell_type": "code",
      "execution_count": 9,
      "metadata": {
        "colab": {
          "base_uri": "https://localhost:8080/"
        },
        "id": "wgw6prfluzM5",
        "outputId": "675cae72-7354-44a6-e386-c48a371b83a3"
      },
      "outputs": [
        {
          "output_type": "stream",
          "name": "stderr",
          "text": [
            "Save user features: 100%|██████████| 3/3 [00:02<00:00,  1.27it/s]\n",
            "Save item features: 100%|██████████| 2/2 [00:01<00:00,  1.02it/s]\n",
            "Save inter features: 100%|██████████| 2/2 [00:03<00:00,  1.90s/it]\n"
          ]
        }
      ],
      "source": [
        "retrieval_dataset = PointWiseDataset(\n",
        "    \"RetrievalDataset\",\n",
        "    task=\"retrieval\",\n",
        "    data=data,\n",
        "    uid_name=\"user_id\",\n",
        "    iid_name=\"movie_id\",\n",
        "    inter_name=\"interact\",\n",
        "    time_name=\"timestamp\",\n",
        "    threshold=4,\n",
        ")\n",
        "\n",
        "retrieval_dataset.train_test_split(TEST_NUM)\n",
        "retrieval_dataset.train_valid_split(VALID_RATIO)\n",
        "retrieval_dataset.gen_dataset(user_features, item_features, inter_features, shuffle=False)"
      ]
    },
    {
      "cell_type": "code",
      "execution_count": 10,
      "metadata": {
        "colab": {
          "base_uri": "https://localhost:8080/"
        },
        "id": "nWhojvyKuzM7",
        "outputId": "64e91fed-e810-4927-bd44-6542cc0dbeb7"
      },
      "outputs": [
        {
          "output_type": "stream",
          "name": "stderr",
          "text": [
            "Load user features: 100%|██████████| 3/3 [00:02<00:00,  1.45it/s]\n",
            "Load item features: 100%|██████████| 2/2 [00:01<00:00,  1.46it/s]\n",
            "Load inter features: 100%|██████████| 2/2 [00:01<00:00,  1.40it/s]\n"
          ]
        }
      ],
      "source": [
        "train_data, valid_data, test_data, test_label = retrieval_dataset.load_dataset(\n",
        "    user_features, item_features, inter_features, BATCH_SIZE\n",
        ")"
      ]
    },
    {
      "cell_type": "code",
      "execution_count": 11,
      "metadata": {
        "id": "VJR1Ybd18t7g"
      },
      "outputs": [],
      "source": [
        "feature_dim = retrieval_dataset.get_feature_dim(user_features, item_features, [])"
      ]
    },
    {
      "cell_type": "markdown",
      "metadata": {
        "id": "wMAdJxpc0x1U"
      },
      "source": [
        "# 1. Train retrieve model and export embeddings <a name=\"section-1\"></a>"
      ]
    },
    {
      "cell_type": "code",
      "execution_count": 12,
      "metadata": {
        "id": "sR3E1PiPgZI9"
      },
      "outputs": [],
      "source": [
        "feat_pool1 = FeaturePool()"
      ]
    },
    {
      "cell_type": "code",
      "execution_count": 13,
      "metadata": {
        "id": "P7hlK1PCgZI9"
      },
      "outputs": [],
      "source": [
        "all_item_model_input = {f:np.array(data['item'][f].tolist()) for f in item_features}\n",
        "\n",
        "retrieve_item_features = [SparseFeature('movie_id', feature_dim['movie_id'], RETRIEVAL_EMBEDDING_DIM)] +\\\n",
        "                [SparseSeqFeature(SparseFeature('genre_id', 19, RETRIEVAL_EMBEDDING_DIM), 'genres',6)]\n",
        "item_feature_group = EmbdFeatureGroup(\n",
        "    name='item', \n",
        "    id_name='movie_id', \n",
        "    features=retrieve_item_features, \n",
        "    feature_pool=feat_pool1, \n",
        "    value_dict=all_item_model_input,\n",
        "    embd_dim=RETRIEVAL_EMBEDDING_DIM\n",
        ")"
      ]
    },
    {
      "cell_type": "code",
      "execution_count": 14,
      "metadata": {
        "id": "RmzV_6_NgZI-"
      },
      "outputs": [],
      "source": [
        "retrieve_user_features = [SparseFeature(x, feature_dim[x], RETRIEVAL_EMBEDDING_DIM) for x in user_features] +\\\n",
        "                [SparseSeqFeature(SparseFeature('movie_id', feature_dim['movie_id'], RETRIEVAL_EMBEDDING_DIM), 'hist_movie', SEQ_LEN)]\n",
        "user_feature_group = FeatureGroup('user', retrieve_user_features, feat_pool1)"
      ]
    },
    {
      "cell_type": "code",
      "execution_count": 15,
      "metadata": {
        "id": "lKURLYXkuzM-"
      },
      "outputs": [],
      "source": [
        "retrieve_model = YouTubeMatchDNN(\n",
        "    user_feature_group, item_feature_group,\n",
        "    dnn_hidden_units=(512,256,RETRIEVAL_EMBEDDING_DIM), \n",
        "    dnn_dropout=0.1,\n",
        "    dnn_bn=True,\n",
        "    num_sampled=CANDIDATE_NUM\n",
        ")"
      ]
    },
    {
      "cell_type": "code",
      "execution_count": 16,
      "metadata": {
        "colab": {
          "base_uri": "https://localhost:8080/",
          "height": 856
        },
        "id": "AQDtzo-4sw16",
        "outputId": "221df2ba-6f70-4761-9988-32c4a1db12af"
      },
      "outputs": [
        {
          "output_type": "execute_result",
          "data": {
            "text/plain": [
              "<IPython.core.display.Image object>"
            ],
            "image/png": "[encoded data removed]"
          },
          "metadata": {},
          "execution_count": 16
        }
      ],
      "source": [
        "plot_model(retrieve_model)"
      ]
    },
    {
      "cell_type": "code",
      "execution_count": 17,
      "metadata": {
        "colab": {
          "base_uri": "https://localhost:8080/"
        },
        "id": "2xizKlTvuzM_",
        "outputId": "91963eed-f71c-4cd7-8dcd-8beec2230a6e"
      },
      "outputs": [
        {
          "output_type": "stream",
          "name": "stdout",
          "text": [
            "Epoch 1/50\n",
            "114/114 [==============================] - 9s 35ms/step - loss: 3.9578 - val_loss: 3.9591\n",
            "Epoch 2/50\n",
            "114/114 [==============================] - 4s 31ms/step - loss: 3.8672 - val_loss: 3.9456\n",
            "Epoch 3/50\n",
            "114/114 [==============================] - 4s 31ms/step - loss: 3.2294 - val_loss: 3.4498\n",
            "Epoch 4/50\n",
            "114/114 [==============================] - 4s 31ms/step - loss: 2.4984 - val_loss: 2.8541\n",
            "Epoch 5/50\n",
            "114/114 [==============================] - 4s 31ms/step - loss: 2.2592 - val_loss: 2.4204\n",
            "Epoch 6/50\n",
            "114/114 [==============================] - 4s 32ms/step - loss: 2.1357 - val_loss: 2.2819\n",
            "Epoch 7/50\n",
            "114/114 [==============================] - 4s 32ms/step - loss: 2.0199 - val_loss: 2.0028\n",
            "Epoch 8/50\n",
            "114/114 [==============================] - 4s 33ms/step - loss: 1.9357 - val_loss: 1.9126\n",
            "Epoch 9/50\n",
            "114/114 [==============================] - 4s 31ms/step - loss: 1.7624 - val_loss: 1.9193\n",
            "Epoch 10/50\n",
            "114/114 [==============================] - 4s 31ms/step - loss: 1.7618 - val_loss: 1.8371\n",
            "Epoch 11/50\n",
            "114/114 [==============================] - 4s 33ms/step - loss: 1.6956 - val_loss: 1.7552\n",
            "Epoch 12/50\n",
            "114/114 [==============================] - 4s 32ms/step - loss: 1.6241 - val_loss: 1.7116\n",
            "Epoch 13/50\n",
            "114/114 [==============================] - 4s 31ms/step - loss: 1.5854 - val_loss: 1.7086\n",
            "Epoch 14/50\n",
            "114/114 [==============================] - 4s 32ms/step - loss: 1.5181 - val_loss: 1.5622\n",
            "Epoch 15/50\n",
            "114/114 [==============================] - 4s 31ms/step - loss: 1.4832 - val_loss: 1.6583\n",
            "Epoch 16/50\n",
            "114/114 [==============================] - 4s 32ms/step - loss: 1.4618 - val_loss: 1.5591\n",
            "Epoch 17/50\n",
            "114/114 [==============================] - 4s 34ms/step - loss: 1.4037 - val_loss: 1.4072\n",
            "Epoch 18/50\n",
            "114/114 [==============================] - 4s 31ms/step - loss: 1.4069 - val_loss: 1.4435\n",
            "Epoch 19/50\n",
            "114/114 [==============================] - 4s 32ms/step - loss: 1.3599 - val_loss: 1.4296\n",
            "Epoch 20/50\n",
            "114/114 [==============================] - 4s 32ms/step - loss: 1.3041 - val_loss: 1.3702\n",
            "Epoch 21/50\n",
            "114/114 [==============================] - 4s 31ms/step - loss: 1.3024 - val_loss: 1.4434\n",
            "Epoch 22/50\n",
            "114/114 [==============================] - 4s 33ms/step - loss: 1.2788 - val_loss: 1.2728\n",
            "Epoch 23/50\n",
            "114/114 [==============================] - 4s 32ms/step - loss: 1.2390 - val_loss: 1.3157\n",
            "Epoch 24/50\n",
            "114/114 [==============================] - 4s 35ms/step - loss: 1.2316 - val_loss: 1.3141\n",
            "Epoch 25/50\n",
            "114/114 [==============================] - 4s 33ms/step - loss: 1.2022 - val_loss: 1.2414\n",
            "Epoch 26/50\n",
            "114/114 [==============================] - 4s 32ms/step - loss: 1.1628 - val_loss: 1.3679\n",
            "Epoch 27/50\n",
            "114/114 [==============================] - 4s 32ms/step - loss: 1.1504 - val_loss: 1.2030\n",
            "Epoch 28/50\n",
            "114/114 [==============================] - 4s 32ms/step - loss: 1.1335 - val_loss: 1.2254\n",
            "Epoch 29/50\n",
            "114/114 [==============================] - 4s 32ms/step - loss: 1.1003 - val_loss: 1.2083\n",
            "Epoch 30/50\n",
            "114/114 [==============================] - 4s 33ms/step - loss: 1.0702 - val_loss: 1.1830\n",
            "Epoch 31/50\n",
            "114/114 [==============================] - 4s 31ms/step - loss: 1.0756 - val_loss: 1.2299\n",
            "Epoch 32/50\n",
            "114/114 [==============================] - 4s 33ms/step - loss: 1.0660 - val_loss: 1.1422\n",
            "Epoch 33/50\n",
            "114/114 [==============================] - 4s 31ms/step - loss: 1.0414 - val_loss: 1.1946\n",
            "Epoch 34/50\n",
            "114/114 [==============================] - 4s 33ms/step - loss: 1.0417 - val_loss: 1.0849\n",
            "Epoch 35/50\n",
            "114/114 [==============================] - 4s 30ms/step - loss: 1.0093 - val_loss: 1.1820\n",
            "Epoch 36/50\n",
            "114/114 [==============================] - 4s 31ms/step - loss: 0.9615 - val_loss: 1.0968\n",
            "Epoch 37/50\n",
            "114/114 [==============================] - 4s 33ms/step - loss: 0.9739 - val_loss: 1.0684\n",
            "Epoch 38/50\n",
            "114/114 [==============================] - 4s 30ms/step - loss: 0.9496 - val_loss: 1.1013\n",
            "Epoch 39/50\n",
            "114/114 [==============================] - 4s 33ms/step - loss: 0.9438 - val_loss: 1.0658\n",
            "Epoch 40/50\n",
            "114/114 [==============================] - 4s 31ms/step - loss: 0.9490 - val_loss: 0.9898\n",
            "Epoch 41/50\n",
            "114/114 [==============================] - 4s 31ms/step - loss: 0.9071 - val_loss: 1.0314\n",
            "Epoch 42/50\n",
            "114/114 [==============================] - 4s 31ms/step - loss: 0.9092 - val_loss: 1.0434\n",
            "Epoch 43/50\n",
            "114/114 [==============================] - 4s 32ms/step - loss: 0.8996 - val_loss: 1.0132\n",
            "Epoch 44/50\n",
            "114/114 [==============================] - 4s 31ms/step - loss: 0.8788 - val_loss: 1.0212\n",
            "Epoch 45/50\n",
            "114/114 [==============================] - 4s 31ms/step - loss: 0.8802 - val_loss: 0.9293\n",
            "Epoch 46/50\n",
            "114/114 [==============================] - 4s 31ms/step - loss: 0.8498 - val_loss: 0.9411\n",
            "Epoch 47/50\n",
            "114/114 [==============================] - 4s 32ms/step - loss: 0.8352 - val_loss: 0.9237\n",
            "Epoch 48/50\n",
            "114/114 [==============================] - 4s 32ms/step - loss: 0.8213 - val_loss: 0.9286\n",
            "Epoch 49/50\n",
            "114/114 [==============================] - 4s 30ms/step - loss: 0.8156 - val_loss: 0.9390\n",
            "Epoch 50/50\n",
            "114/114 [==============================] - 4s 31ms/step - loss: 0.8217 - val_loss: 0.8952\n"
          ]
        }
      ],
      "source": [
        "retrieve_model.compile(optimizer=tf.keras.optimizers.Adam(lr=1e-4), loss=sampledsoftmaxloss)\n",
        "early_stop = tf.keras.callbacks.EarlyStopping(monitor='val_loss', patience=20)\n",
        "checkpoint = tf.keras.callbacks.ModelCheckpoint(\n",
        "    filepath='./retrieve_checkpoint/',\n",
        "    save_weights_only=True,\n",
        "    monitor='val_loss',\n",
        "    mode='min',\n",
        "    save_best_only=True\n",
        ")\n",
        "history = retrieve_model.fit(\n",
        "    x=train_data,\n",
        "    validation_data=valid_data,\n",
        "    epochs=NEPOCH,\n",
        "    callbacks=[early_stop, checkpoint],\n",
        ")"
      ]
    },
    {
      "cell_type": "code",
      "execution_count": 18,
      "metadata": {
        "colab": {
          "base_uri": "https://localhost:8080/"
        },
        "id": "AGebkIE0uzM_",
        "outputId": "5736b033-28d3-4c41-93fe-61619a0191ae"
      },
      "outputs": [
        {
          "output_type": "execute_result",
          "data": {
            "text/plain": [
              "<tensorflow.python.training.tracking.util.CheckpointLoadStatus at 0x7f1fd4a2a0d0>"
            ]
          },
          "metadata": {},
          "execution_count": 18
        }
      ],
      "source": [
        "retrieve_model.load_weights('./retrieve_checkpoint/')"
      ]
    },
    {
      "cell_type": "code",
      "execution_count": 19,
      "metadata": {
        "colab": {
          "base_uri": "https://localhost:8080/"
        },
        "id": "G9AxEdKbuzM_",
        "outputId": "6568a983-7d7e-41cc-d712-e4ddb36dad12"
      },
      "outputs": [
        {
          "output_type": "stream",
          "name": "stdout",
          "text": [
            "(5923, 64)\n",
            "(3883, 64)\n"
          ]
        }
      ],
      "source": [
        "user_embedding_model = Model(inputs=retrieve_model.user_input, outputs=retrieve_model.user_embedding)\n",
        "item_embedding_model = Model(inputs=retrieve_model.item_input, outputs=retrieve_model.item_embedding)\n",
        "\n",
        "user_embs = user_embedding_model.predict(test_data, batch_size=2 ** 15)\n",
        "item_embs = item_embedding_model.predict(all_item_model_input, batch_size=2 ** 15)\n",
        "\n",
        "print(user_embs.shape)\n",
        "print(item_embs.shape)"
      ]
    },
    {
      "cell_type": "markdown",
      "metadata": {
        "id": "UJ49Jxnf0-1O"
      },
      "source": [
        "# 2. Use Faiss to generate candidates <a name=\"section-2\"></a>"
      ]
    },
    {
      "cell_type": "markdown",
      "metadata": {
        "id": "qEAI8Rl7hzgv"
      },
      "source": [
        "## Test retrieve model"
      ]
    },
    {
      "cell_type": "code",
      "execution_count": 20,
      "metadata": {
        "id": "cr39MwzduzNA"
      },
      "outputs": [],
      "source": [
        "candidates = search_embedding(\n",
        "    RETRIEVAL_EMBEDDING_DIM, \n",
        "    item_embs, \n",
        "    user_embs,\n",
        "    data['item']['movie_id'].values,\n",
        "    CANDIDATE_NUM)"
      ]
    },
    {
      "cell_type": "code",
      "execution_count": 21,
      "metadata": {
        "colab": {
          "base_uri": "https://localhost:8080/"
        },
        "id": "ZLc_JPubuzNB",
        "outputId": "aae5ffd0-a301-4bed-d646-53a2c6a1af03"
      },
      "outputs": [
        {
          "output_type": "execute_result",
          "data": {
            "text/plain": [
              "0.011700647730531238"
            ]
          },
          "metadata": {},
          "execution_count": 21
        }
      ],
      "source": [
        "map_at_k(test_label, candidates, k=10)"
      ]
    },
    {
      "cell_type": "code",
      "execution_count": 22,
      "metadata": {
        "colab": {
          "base_uri": "https://localhost:8080/"
        },
        "id": "kap-zVgguzNC",
        "outputId": "a03c2a38-e825-4348-cf37-1ad55ce38f31"
      },
      "outputs": [
        {
          "output_type": "execute_result",
          "data": {
            "text/plain": [
              "0.030373121728853626"
            ]
          },
          "metadata": {},
          "execution_count": 22
        }
      ],
      "source": [
        "recall_at_k(test_label, candidates, k=10)"
      ]
    },
    {
      "cell_type": "code",
      "execution_count": 23,
      "metadata": {
        "colab": {
          "base_uri": "https://localhost:8080/"
        },
        "id": "WyU4hfCihzgw",
        "outputId": "bb108e50-99de-4c6a-f4b5-6c1653e427ec"
      },
      "outputs": [
        {
          "output_type": "execute_result",
          "data": {
            "text/plain": [
              "0.1351848725308121"
            ]
          },
          "metadata": {},
          "execution_count": 23
        }
      ],
      "source": [
        "recall_at_k(test_label, candidates, k=100)"
      ]
    },
    {
      "cell_type": "markdown",
      "metadata": {
        "id": "l9L5duhQhzgw"
      },
      "source": [
        "## Prepare data for ranking"
      ]
    },
    {
      "cell_type": "code",
      "execution_count": 24,
      "metadata": {
        "id": "XpXydY19hzgx"
      },
      "outputs": [],
      "source": [
        "test_user_embs = user_embedding_model.predict(test_data, batch_size=2 ** 15)\n",
        "test_candidates = search_embedding(\n",
        "    RETRIEVAL_EMBEDDING_DIM, \n",
        "    item_embs, \n",
        "    test_user_embs,\n",
        "    data['item']['movie_id'].values,\n",
        "    CANDIDATE_NUM)\n",
        "\n",
        "test_candidates = {\n",
        "    test_data['user_id'][i] : test_candidates[i]\n",
        "    for i in range(test_candidates.shape[0])\n",
        "}"
      ]
    },
    {
      "cell_type": "code",
      "execution_count": 25,
      "metadata": {
        "colab": {
          "base_uri": "https://localhost:8080/"
        },
        "id": "yynuwvUppia6",
        "outputId": "a1389e2b-0416-477a-d230-77a14b054189"
      },
      "outputs": [
        {
          "output_type": "execute_result",
          "data": {
            "text/plain": [
              "8880"
            ]
          },
          "metadata": {},
          "execution_count": 25
        }
      ],
      "source": [
        "del user_embs, item_embs, train_data, test_user_embs\n",
        "gc.collect()"
      ]
    },
    {
      "cell_type": "code",
      "execution_count": 26,
      "metadata": {
        "id": "hgGAvx-lgZJF"
      },
      "outputs": [],
      "source": [
        "user_features = ['user_id']\n",
        "item_features = ['movie_id']\n",
        "inter_features = ['hist_movie']"
      ]
    },
    {
      "cell_type": "code",
      "execution_count": 27,
      "metadata": {
        "colab": {
          "base_uri": "https://localhost:8080/"
        },
        "id": "LHhcEiY_gZJG",
        "outputId": "dfee6f59-e9d6-4651-bd12-a4cf5373f822"
      },
      "outputs": [
        {
          "output_type": "stream",
          "name": "stderr",
          "text": [
            "Generate negative samples: 100%|██████████| 5923/5923 [00:08<00:00, 711.63it/s]\n",
            "Regenerate test set: 100%|██████████| 5923/5923 [00:00<00:00, 683735.97it/s]\n",
            "Save user features: 100%|██████████| 1/1 [00:05<00:00,  5.49s/it]\n",
            "Save item features: 100%|██████████| 1/1 [00:05<00:00,  5.49s/it]\n",
            "Save inter features: 100%|██████████| 1/1 [00:35<00:00, 35.20s/it]\n"
          ]
        }
      ],
      "source": [
        "ranking_dataset = PairWiseDataset(\n",
        "    \"RankingDataset\",\n",
        "    task=\"ranking\",\n",
        "    data=data,\n",
        "    uid_name=\"user_id\",\n",
        "    iid_name=\"movie_id\",\n",
        "    inter_name=\"interact\",\n",
        "    time_name=\"timestamp\",\n",
        "    neg_iid_name=\"neg_movie_id\",\n",
        "    threshold=4,\n",
        ")\n",
        "\n",
        "ranking_dataset.train_test_split(TEST_NUM)\n",
        "ranking_dataset.negative_sampling(NEG_NUM)\n",
        "ranking_dataset.train_valid_split(VALID_RATIO)\n",
        "ranking_dataset.gen_dataset(user_features, item_features, inter_features, test_candidates)"
      ]
    },
    {
      "cell_type": "code",
      "execution_count": 28,
      "metadata": {
        "colab": {
          "base_uri": "https://localhost:8080/"
        },
        "id": "4wQASPHrhzgx",
        "outputId": "bf79fae2-e892-4df2-d1e5-3347b8259820"
      },
      "outputs": [
        {
          "output_type": "stream",
          "name": "stderr",
          "text": [
            "Load user features: 100%|██████████| 1/1 [00:00<00:00,  1.39it/s]\n",
            "Load item features: 100%|██████████| 1/1 [00:00<00:00,  1.42it/s]\n",
            "Load inter features: 100%|██████████| 1/1 [00:01<00:00,  1.32s/it]\n"
          ]
        }
      ],
      "source": [
        "train_data, valid_data, test_data, test_label = ranking_dataset.load_dataset(\n",
        "    user_features, item_features, inter_features, BATCH_SIZE\n",
        ")"
      ]
    },
    {
      "cell_type": "code",
      "execution_count": 29,
      "metadata": {
        "id": "of_PY0kv9UZx"
      },
      "outputs": [],
      "source": [
        "feature_dim = ranking_dataset.get_feature_dim(user_features, item_features, [])"
      ]
    },
    {
      "cell_type": "markdown",
      "metadata": {
        "id": "kyApc4cJhzgy"
      },
      "source": [
        "# 3. Train rank model and predict <a name=\"section-3\"></a>"
      ]
    },
    {
      "cell_type": "code",
      "execution_count": 30,
      "metadata": {
        "id": "7tSWHejxBULW"
      },
      "outputs": [],
      "source": [
        "feat_pool2 = FeaturePool()"
      ]
    },
    {
      "cell_type": "code",
      "execution_count": 31,
      "metadata": {
        "id": "1yHkEFDYcLWY"
      },
      "outputs": [],
      "source": [
        "rank_item_seq_features = [SparseSeqFeature(SparseFeature('movie_id', feature_dim['movie_id'], RANK_EMBEDDING_DIM), 'hist_movie', SEQ_LEN)]\n",
        "item_seq_feat_group = FeatureGroup('item_seq', rank_item_seq_features, feat_pool2)"
      ]
    },
    {
      "cell_type": "code",
      "execution_count": 32,
      "metadata": {
        "id": "_uvYZtxBhzgy"
      },
      "outputs": [],
      "source": [
        "rank_model = FMLPRec(\n",
        "    item_seq_feat_group,\n",
        "    dropout=0.5,\n",
        "    block_num=3\n",
        ")"
      ]
    },
    {
      "cell_type": "code",
      "execution_count": 33,
      "metadata": {
        "colab": {
          "base_uri": "https://localhost:8080/"
        },
        "id": "H8l7JU3phzgy",
        "outputId": "7eaa4dc5-5d3f-4b3c-ad1f-df2563dfc2a7"
      },
      "outputs": [
        {
          "output_type": "stream",
          "name": "stdout",
          "text": [
            "Epoch 1/50\n",
            "1132/1132 [==============================] - 243s 210ms/step - loss: 0.9472 - val_loss: 0.8545\n",
            "Epoch 2/50\n",
            "1132/1132 [==============================] - 239s 211ms/step - loss: 0.6435 - val_loss: 0.3980\n",
            "Epoch 3/50\n",
            "1132/1132 [==============================] - 239s 211ms/step - loss: 0.3298 - val_loss: 0.2333\n",
            "Epoch 4/50\n",
            "1132/1132 [==============================] - 239s 211ms/step - loss: 0.2276 - val_loss: 0.1830\n",
            "Epoch 5/50\n",
            "1132/1132 [==============================] - 239s 211ms/step - loss: 0.1899 - val_loss: 0.1596\n",
            "Epoch 6/50\n",
            "1132/1132 [==============================] - 239s 211ms/step - loss: 0.1697 - val_loss: 0.1444\n",
            "Epoch 7/50\n",
            "1132/1132 [==============================] - 239s 211ms/step - loss: 0.1575 - val_loss: 0.1351\n",
            "Epoch 8/50\n",
            "1132/1132 [==============================] - 239s 211ms/step - loss: 0.1493 - val_loss: 0.1278\n",
            "Epoch 9/50\n",
            "1132/1132 [==============================] - 240s 212ms/step - loss: 0.1430 - val_loss: 0.1227\n",
            "Epoch 10/50\n",
            "1132/1132 [==============================] - 239s 211ms/step - loss: 0.1384 - val_loss: 0.1188\n",
            "Epoch 11/50\n",
            "1132/1132 [==============================] - 239s 211ms/step - loss: 0.1346 - val_loss: 0.1157\n",
            "Epoch 12/50\n",
            "1132/1132 [==============================] - 239s 211ms/step - loss: 0.1315 - val_loss: 0.1131\n",
            "Epoch 13/50\n",
            "1132/1132 [==============================] - 239s 211ms/step - loss: 0.1289 - val_loss: 0.1106\n",
            "Epoch 14/50\n",
            "1132/1132 [==============================] - 239s 211ms/step - loss: 0.1267 - val_loss: 0.1092\n",
            "Epoch 15/50\n",
            "1132/1132 [==============================] - 239s 211ms/step - loss: 0.1246 - val_loss: 0.1080\n",
            "Epoch 16/50\n",
            "1132/1132 [==============================] - 239s 211ms/step - loss: 0.1229 - val_loss: 0.1048\n",
            "Epoch 17/50\n",
            "1132/1132 [==============================] - 240s 212ms/step - loss: 0.1213 - val_loss: 0.1034\n",
            "Epoch 18/50\n",
            "1132/1132 [==============================] - 239s 211ms/step - loss: 0.1196 - val_loss: 0.1024\n",
            "Epoch 19/50\n",
            "1132/1132 [==============================] - 239s 211ms/step - loss: 0.1183 - val_loss: 0.1008\n",
            "Epoch 20/50\n",
            "1132/1132 [==============================] - 239s 211ms/step - loss: 0.1170 - val_loss: 0.1013\n",
            "Epoch 21/50\n",
            "1132/1132 [==============================] - 239s 211ms/step - loss: 0.1159 - val_loss: 0.0998\n",
            "Epoch 22/50\n",
            "1132/1132 [==============================] - 239s 211ms/step - loss: 0.1147 - val_loss: 0.0983\n",
            "Epoch 23/50\n",
            "1132/1132 [==============================] - 239s 211ms/step - loss: 0.1139 - val_loss: 0.0979\n",
            "Epoch 24/50\n",
            "1132/1132 [==============================] - 239s 211ms/step - loss: 0.1129 - val_loss: 0.0980\n",
            "Epoch 25/50\n",
            "1132/1132 [==============================] - 239s 211ms/step - loss: 0.1121 - val_loss: 0.0966\n",
            "Epoch 26/50\n",
            "1132/1132 [==============================] - 239s 212ms/step - loss: 0.1113 - val_loss: 0.0967\n",
            "Epoch 27/50\n",
            "1132/1132 [==============================] - 240s 212ms/step - loss: 0.1105 - val_loss: 0.0961\n",
            "Epoch 28/50\n",
            "1132/1132 [==============================] - 239s 211ms/step - loss: 0.1098 - val_loss: 0.0958\n",
            "Epoch 29/50\n",
            "1132/1132 [==============================] - 240s 212ms/step - loss: 0.1093 - val_loss: 0.0959\n",
            "Epoch 30/50\n",
            "1132/1132 [==============================] - 240s 212ms/step - loss: 0.1086 - val_loss: 0.0949\n",
            "Epoch 31/50\n",
            "1132/1132 [==============================] - 239s 211ms/step - loss: 0.1080 - val_loss: 0.0943\n",
            "Epoch 32/50\n",
            "1132/1132 [==============================] - 239s 212ms/step - loss: 0.1073 - val_loss: 0.0937\n",
            "Epoch 33/50\n",
            "1132/1132 [==============================] - 239s 211ms/step - loss: 0.1072 - val_loss: 0.0936\n",
            "Epoch 34/50\n",
            "1132/1132 [==============================] - 239s 211ms/step - loss: 0.1064 - val_loss: 0.0925\n",
            "Epoch 35/50\n",
            "1132/1132 [==============================] - 239s 211ms/step - loss: 0.1058 - val_loss: 0.0927\n",
            "Epoch 36/50\n",
            "1132/1132 [==============================] - 239s 211ms/step - loss: 0.1056 - val_loss: 0.0922\n",
            "Epoch 37/50\n",
            "1132/1132 [==============================] - 239s 211ms/step - loss: 0.1051 - val_loss: 0.0918\n",
            "Epoch 38/50\n",
            "1132/1132 [==============================] - 239s 211ms/step - loss: 0.1045 - val_loss: 0.0917\n",
            "Epoch 39/50\n",
            "1132/1132 [==============================] - 240s 212ms/step - loss: 0.1043 - val_loss: 0.0919\n",
            "Epoch 40/50\n",
            "1132/1132 [==============================] - 239s 211ms/step - loss: 0.1039 - val_loss: 0.0918\n",
            "Epoch 41/50\n",
            "1132/1132 [==============================] - 239s 211ms/step - loss: 0.1036 - val_loss: 0.0910\n",
            "Epoch 42/50\n",
            "1132/1132 [==============================] - 239s 211ms/step - loss: 0.1032 - val_loss: 0.0913\n",
            "Epoch 43/50\n",
            "1132/1132 [==============================] - 239s 211ms/step - loss: 0.1028 - val_loss: 0.0906\n",
            "Epoch 44/50\n",
            "1132/1132 [==============================] - 239s 211ms/step - loss: 0.1024 - val_loss: 0.0884\n",
            "Epoch 45/50\n",
            "1132/1132 [==============================] - 239s 211ms/step - loss: 0.1021 - val_loss: 0.0891\n",
            "Epoch 46/50\n",
            "1132/1132 [==============================] - 239s 211ms/step - loss: 0.1018 - val_loss: 0.0889\n",
            "Epoch 47/50\n",
            "1132/1132 [==============================] - 239s 211ms/step - loss: 0.1015 - val_loss: 0.0894\n",
            "Epoch 48/50\n",
            "1132/1132 [==============================] - 239s 211ms/step - loss: 0.1012 - val_loss: 0.0886\n",
            "Epoch 49/50\n",
            "1132/1132 [==============================] - 239s 211ms/step - loss: 0.1009 - val_loss: 0.0880\n",
            "Epoch 50/50\n",
            "1132/1132 [==============================] - 239s 211ms/step - loss: 0.1006 - val_loss: 0.0878\n"
          ]
        }
      ],
      "source": [
        "rank_model.compile(optimizer=tf.keras.optimizers.Adam(lr=2e-4, clipvalue=1.), loss=None)\n",
        "early_stop = tf.keras.callbacks.EarlyStopping(monitor='val_loss', patience=5)\n",
        "checkpoint = tf.keras.callbacks.ModelCheckpoint(\n",
        "    filepath='./rank_checkpoint/',\n",
        "    save_weights_only=True,\n",
        "    monitor='val_loss',\n",
        "    mode='min',\n",
        "    save_best_only=True\n",
        ")\n",
        "history = rank_model.fit(\n",
        "    x=train_data, \n",
        "    validation_data=valid_data,\n",
        "    epochs=NEPOCH,\n",
        "    callbacks=[early_stop,checkpoint]\n",
        ")"
      ]
    },
    {
      "cell_type": "code",
      "execution_count": 34,
      "metadata": {
        "id": "w52A7cJ8hzgz"
      },
      "outputs": [],
      "source": [
        "rank_model.load_weights('./rank_checkpoint/')\n",
        "pred_model = Model(inputs=rank_model.real_inputs, outputs=rank_model.real_outputs)"
      ]
    },
    {
      "cell_type": "code",
      "execution_count": 35,
      "metadata": {
        "colab": {
          "base_uri": "https://localhost:8080/"
        },
        "id": "Fr61KpmewPuB",
        "outputId": "583be46d-a5ae-4b46-a900-ca122bbb2fd0"
      },
      "outputs": [
        {
          "output_type": "execute_result",
          "data": {
            "text/plain": [
              "2843"
            ]
          },
          "metadata": {},
          "execution_count": 35
        }
      ],
      "source": [
        "del train_data\n",
        "gc.collect()"
      ]
    },
    {
      "cell_type": "code",
      "execution_count": 36,
      "metadata": {
        "id": "zUQJ7IdLhzgz"
      },
      "outputs": [],
      "source": [
        "pred = pred_model.predict(test_data, batch_size=BATCH_SIZE)"
      ]
    },
    {
      "cell_type": "code",
      "execution_count": 37,
      "metadata": {
        "id": "SoCzRNuphzgz"
      },
      "outputs": [],
      "source": [
        "pred_df = pd.DataFrame(columns=['user_id','movie_id','pred'])\n",
        "pred_df['user_id'] = test_data['user_id']\n",
        "pred_df['movie_id'] = test_data['movie_id']\n",
        "pred_df['pred'] = pred\n",
        "\n",
        "pred_df = pred_df.sort_values(by=['user_id','pred'], ascending=False).reset_index(drop=True)\n",
        "pred_df = pred_df.groupby('user_id')['movie_id'].apply(list).reset_index()"
      ]
    },
    {
      "cell_type": "code",
      "execution_count": 38,
      "metadata": {
        "id": "rEQ9sQGjhzgz"
      },
      "outputs": [],
      "source": [
        "test_label_df = pd.DataFrame(columns=['user_id','label'])\n",
        "test_label_df['user_id'] = pd.Series(test_data['user_id']).drop_duplicates()\n",
        "test_label_df['label'] = test_label.tolist()"
      ]
    },
    {
      "cell_type": "code",
      "execution_count": 39,
      "metadata": {
        "id": "5T_uOn5Ohzgz"
      },
      "outputs": [],
      "source": [
        "test_label_df = pd.merge(test_label_df, pred_df, on=['user_id'], how='left')"
      ]
    },
    {
      "cell_type": "code",
      "execution_count": 40,
      "metadata": {
        "colab": {
          "base_uri": "https://localhost:8080/"
        },
        "id": "0HXT3XxAhzgz",
        "outputId": "f1bdac09-03a2-4bef-d4b7-872d2c0c03f2"
      },
      "outputs": [
        {
          "output_type": "execute_result",
          "data": {
            "text/plain": [
              "0.02545580317781905"
            ]
          },
          "metadata": {},
          "execution_count": 40
        }
      ],
      "source": [
        "map_at_k(test_label_df['label'], test_label_df['movie_id'], k=10)"
      ]
    },
    {
      "cell_type": "code",
      "execution_count": 41,
      "metadata": {
        "colab": {
          "base_uri": "https://localhost:8080/"
        },
        "id": "HHzj8iJKhzgz",
        "outputId": "40a66780-6f99-4054-d95b-deafdd793374"
      },
      "outputs": [
        {
          "output_type": "execute_result",
          "data": {
            "text/plain": [
              "0.05924362654060442"
            ]
          },
          "metadata": {},
          "execution_count": 41
        }
      ],
      "source": [
        "recall_at_k(test_label_df['label'], test_label_df['movie_id'], k=10)"
      ]
    },
    {
      "cell_type": "code",
      "execution_count": 42,
      "metadata": {
        "colab": {
          "base_uri": "https://localhost:8080/"
        },
        "id": "y5L5ijkE-H1x",
        "outputId": "3e8e759c-b351-4632-da83-b662917371ae"
      },
      "outputs": [
        {
          "output_type": "execute_result",
          "data": {
            "text/plain": [
              "0.1351848725308121"
            ]
          },
          "metadata": {},
          "execution_count": 42
        }
      ],
      "source": [
        "recall_at_k(test_label_df['label'], test_label_df['movie_id'], k=100)"
      ]
    },
    {
      "cell_type": "code",
      "execution_count": 42,
      "metadata": {
        "id": "REVDzL0mcLWb"
      },
      "outputs": [],
      "source": [
        ""
      ]
    }
  ],
  "metadata": {
    "accelerator": "GPU",
    "colab": {
      "collapsed_sections": [],
      "name": "FMLPRec.ipynb",
      "provenance": []
    },
    "interpreter": {
      "hash": "653a9876bfda977334bab0c6eac4e690c97044cb3c76993a10b084536ae29e50"
    },
    "kernelspec": {
      "display_name": "handyrec",
      "language": "python",
      "name": "handyrec"
    },
    "language_info": {
      "codemirror_mode": {
        "name": "ipython",
        "version": 3
      },
      "file_extension": ".py",
      "mimetype": "text/x-python",
      "name": "python",
      "nbconvert_exporter": "python",
      "pygments_lexer": "ipython3",
      "version": "3.7.11"
    }
  },
  "nbformat": 4,
  "nbformat_minor": 0
}