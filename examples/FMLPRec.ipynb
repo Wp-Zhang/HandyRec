{
  "cells": [
    {
      "cell_type": "markdown",
      "metadata": {
        "id": "FXD2RCXzuzMx"
      },
      "source": [
        "[![Open In Colab](https://colab.research.google.com/assets/colab-badge.svg)](https://colab.research.google.com/github/Wp-Zhang/HandyRec/blob/master/examples/FMLPRec.ipynb)"
      ]
    },
    {
      "cell_type": "markdown",
      "metadata": {
        "id": "OJKT5uytzl7t"
      },
      "source": [
        "> This notebook runs FMLP-Rec on MovieLens1M dataset. We'll use YouTubeDNN for generating candidates and FMLP-Rec for ranking these candidates.\n",
        "\n",
        "> Only movies with ratings larger than 3 are treated as 'positive' samples for each user. Every last 10 'positive' movies of each user are held out for testing."
      ]
    },
    {
      "cell_type": "markdown",
      "metadata": {
        "id": "YtD_3eG3xekg"
      },
      "source": [
        "## Table of Contents:\n",
        "* [Prepare data for matching](#section-0)\n",
        "* [Train match model and export embeddings](#section-1)\n",
        "* [Use Faiss to generate candidates](#section-2)\n",
        "* [Train rank model and predict](#section-3)"
      ]
    },
    {
      "cell_type": "markdown",
      "metadata": {
        "id": "XFTLC9SQzxK4"
      },
      "source": [
        "**Download dataset and install packages**"
      ]
    },
    {
      "cell_type": "code",
      "execution_count": 1,
      "metadata": {
        "colab": {
          "base_uri": "https://localhost:8080/"
        },
        "id": "WSk1WSSpvXfL",
        "outputId": "702ef362-d173-44aa-c728-ee6e58e8d2c1"
      },
      "outputs": [
        {
          "output_type": "stream",
          "name": "stdout",
          "text": [
            "Cloning into 'HandyRec'...\n",
            "remote: Enumerating objects: 1658, done.\u001b[K\n",
            "remote: Counting objects: 100% (1658/1658), done.\u001b[K\n",
            "remote: Compressing objects: 100% (1236/1236), done.\u001b[K\n",
            "remote: Total 1658 (delta 656), reused 1280 (delta 370), pack-reused 0\u001b[K\n",
            "Receiving objects: 100% (1658/1658), 20.90 MiB | 11.26 MiB/s, done.\n",
            "Resolving deltas: 100% (656/656), done.\n",
            "Collecting faiss-cpu\n",
            "  Downloading faiss_cpu-1.7.2-cp37-cp37m-manylinux_2_17_x86_64.manylinux2014_x86_64.whl (8.6 MB)\n",
            "\u001b[K     |████████████████████████████████| 8.6 MB 4.2 MB/s \n",
            "\u001b[?25hInstalling collected packages: faiss-cpu\n",
            "Successfully installed faiss-cpu-1.7.2\n"
          ]
        }
      ],
      "source": [
        "! git clone https://github.com/Wp-Zhang/HandyRec.git\n",
        "! pip install faiss-cpu"
      ]
    },
    {
      "cell_type": "code",
      "execution_count": 2,
      "metadata": {
        "colab": {
          "base_uri": "https://localhost:8080/"
        },
        "id": "uiIqXdbUyCEi",
        "outputId": "45318815-e1b9-4209-ba71-73c8c8597b4a"
      },
      "outputs": [
        {
          "output_type": "stream",
          "name": "stdout",
          "text": [
            "--2022-04-13 03:59:09--  https://files.grouplens.org/datasets/movielens/ml-1m.zip\n",
            "Resolving files.grouplens.org (files.grouplens.org)... 128.101.65.152\n",
            "Connecting to files.grouplens.org (files.grouplens.org)|128.101.65.152|:443... connected.\n",
            "HTTP request sent, awaiting response... 200 OK\n",
            "Length: 5917549 (5.6M) [application/zip]\n",
            "Saving to: ‘./ml-1m.zip’\n",
            "\n",
            "./ml-1m.zip         100%[===================>]   5.64M  4.17MB/s    in 1.4s    \n",
            "\n",
            "2022-04-13 03:59:11 (4.17 MB/s) - ‘./ml-1m.zip’ saved [5917549/5917549]\n",
            "\n",
            "Archive:  ml-1m.zip\n",
            "   creating: ml-1m/\n",
            "  inflating: ml-1m/movies.dat        \n",
            "  inflating: ml-1m/ratings.dat       \n",
            "  inflating: ml-1m/README            \n",
            "  inflating: ml-1m/users.dat         \n"
          ]
        }
      ],
      "source": [
        "! wget https://files.grouplens.org/datasets/movielens/ml-1m.zip -O ./ml-1m.zip\n",
        "! unzip -o ml-1m.zip"
      ]
    },
    {
      "cell_type": "markdown",
      "metadata": {
        "id": "gsUc0pRE0BEH"
      },
      "source": [
        "**Import relative packages**"
      ]
    },
    {
      "cell_type": "code",
      "execution_count": 3,
      "metadata": {
        "id": "PzbZZUXxvxvm"
      },
      "outputs": [],
      "source": [
        "import sys\n",
        "sys.path.append('./HandyRec/')"
      ]
    },
    {
      "cell_type": "code",
      "execution_count": 4,
      "metadata": {
        "id": "NlQtiTrmuzM3"
      },
      "outputs": [],
      "source": [
        "from handyrec.dataset.movielens import MovieMatchDataHelper, MovieRankSeqDataHelper\n",
        "from handyrec.models.match import YouTubeMatchDNN\n",
        "from handyrec.models.rank import FMLPRec\n",
        "from handyrec.features import DenseFeature, SparseFeature, SparseSeqFeature, FeatureGroup, EmbdFeatureGroup, FeaturePool\n",
        "from handyrec.layers.utils import sampledsoftmaxloss\n",
        "from handyrec.dataset.metrics import map_at_k, recall_at_k\n",
        "from handyrec.models.utils import search_embedding\n",
        "\n",
        "import tensorflow as tf\n",
        "from tensorflow.keras import Model\n",
        "from tensorflow.keras.utils import plot_model\n",
        "import pandas as pd\n",
        "import numpy as np\n",
        "import gc"
      ]
    },
    {
      "cell_type": "code",
      "execution_count": 5,
      "metadata": {
        "id": "iYOxv7-auzM3"
      },
      "outputs": [],
      "source": [
        "import warnings\n",
        "warnings.filterwarnings('ignore')"
      ]
    },
    {
      "cell_type": "code",
      "execution_count": 6,
      "metadata": {
        "id": "W8jyTPiz8K13"
      },
      "outputs": [],
      "source": [
        "MATCH_EMBEDDING_DIM = 64\n",
        "RANK_EMBEDDING_DIM = 64\n",
        "SEQ_LEN = 40\n",
        "BATCH_SIZE = 2**12\n",
        "NEPOCH = 50\n",
        "\n",
        "NEG_NUM = 10\n",
        "CANDIDATE_NUM = 100"
      ]
    },
    {
      "cell_type": "markdown",
      "metadata": {
        "id": "MXNUDnO_0VLl"
      },
      "source": [
        "# 0. Prepare data for ranking<a name=\"section-0\"></a>"
      ]
    },
    {
      "cell_type": "code",
      "execution_count": 7,
      "metadata": {
        "colab": {
          "base_uri": "https://localhost:8080/"
        },
        "id": "wgw6prfluzM5",
        "outputId": "9ac016a7-acf9-48db-aa83-775cbdc4aeae"
      },
      "outputs": [
        {
          "output_type": "stream",
          "name": "stderr",
          "text": [
            "Encode User Sparse Feats: 100%|██████████| 4/4 [00:00<00:00, 118.89it/s]\n",
            "Encode Item Sparse Feats: 100%|██████████| 1/1 [00:00<00:00, 232.29it/s]\n",
            "Generate train set: 100%|██████████| 6040/6040 [00:05<00:00, 1199.54it/s]\n",
            "Save user features: 100%|██████████| 4/4 [00:00<00:00,  4.31it/s]\n",
            "Save item features: 100%|██████████| 2/2 [00:01<00:00,  1.83it/s]\n"
          ]
        }
      ],
      "source": [
        "match_dh = MovieMatchDataHelper('./ml-1m/')\n",
        "data = match_dh.get_clean_data(sparse_features=['gender','age','occupation','zip','year'])\n",
        "\n",
        "match_user_features = ['user_id','gender','age','occupation','zip']\n",
        "match_movie_features = [f for f in data['item'].columns if f != 'title']\n",
        "match_dh.gen_dataset(match_user_features+match_movie_features, data, seq_max_len=SEQ_LEN, negnum=0)"
      ]
    },
    {
      "cell_type": "code",
      "execution_count": 8,
      "metadata": {
        "colab": {
          "base_uri": "https://localhost:8080/"
        },
        "id": "nWhojvyKuzM7",
        "outputId": "02b57c61-d747-4142-a78f-f45057c64d95"
      },
      "outputs": [
        {
          "output_type": "stream",
          "name": "stderr",
          "text": [
            "Load user features: 100%|██████████| 7/7 [00:00<00:00, 63.44it/s]\n",
            "Load movie features: 100%|██████████| 3/3 [00:00<00:00, 151.28it/s]\n"
          ]
        }
      ],
      "source": [
        "match_train, match_train_label, match_test, match_test_label = match_dh.load_dataset(match_user_features, match_movie_features)"
      ]
    },
    {
      "cell_type": "code",
      "execution_count": 9,
      "metadata": {
        "id": "VJR1Ybd18t7g"
      },
      "outputs": [],
      "source": [
        "match_feature_dim = match_dh.get_feature_dim(data, match_user_features, match_movie_features, [])"
      ]
    },
    {
      "cell_type": "markdown",
      "metadata": {
        "id": "wMAdJxpc0x1U"
      },
      "source": [
        "# 1. Train match model and export embeddings <a name=\"section-1\"></a>"
      ]
    },
    {
      "cell_type": "code",
      "execution_count": 10,
      "metadata": {
        "id": "VnQIMObLn9U7"
      },
      "outputs": [],
      "source": [
        "# * add example_age^2 as showed in the original paper\n",
        "match_train['example_age_2'] = match_train['example_age']**2\n",
        "match_test['example_age_2'] = match_test['example_age']**2"
      ]
    },
    {
      "cell_type": "code",
      "execution_count": 11,
      "metadata": {
        "id": "DBLxg5truzM8"
      },
      "outputs": [],
      "source": [
        "match_user_dense_feats = ['example_age','example_age_2']\n",
        "match_user_sparse_feats = ['user_id','gender','age','occupation','zip']"
      ]
    },
    {
      "cell_type": "code",
      "execution_count": 12,
      "metadata": {
        "id": "UTtlNt_Z1rC-"
      },
      "outputs": [],
      "source": [
        "match_item_dense_feats = []\n",
        "match_item_sparse_feats = [f for f in match_movie_features if f!='genres']\n",
        "all_item_model_input = {f:np.array(data['item'][f].tolist()) for f in match_movie_features}"
      ]
    },
    {
      "cell_type": "code",
      "execution_count": 13,
      "metadata": {
        "id": "zSlMegzU1rC_"
      },
      "outputs": [],
      "source": [
        "feat_pool1 = FeaturePool()"
      ]
    },
    {
      "cell_type": "code",
      "execution_count": 14,
      "metadata": {
        "id": "mxDDKxm7uzM9"
      },
      "outputs": [],
      "source": [
        "match_item_features = [DenseFeature(x) for x in match_item_dense_feats] +\\\n",
        "                [SparseFeature(x, match_feature_dim[x], MATCH_EMBEDDING_DIM) for x in match_item_sparse_feats] +\\\n",
        "                [SparseSeqFeature(SparseFeature('genre_id', 19, MATCH_EMBEDDING_DIM), 'genres',6)]\n",
        "item_feature_group = EmbdFeatureGroup(\n",
        "    name='item', \n",
        "    id_name='movie_id', \n",
        "    features=match_item_features, \n",
        "    feature_pool=feat_pool1, \n",
        "    value_dict=all_item_model_input,\n",
        "    embd_dim=MATCH_EMBEDDING_DIM)"
      ]
    },
    {
      "cell_type": "code",
      "execution_count": 15,
      "metadata": {
        "id": "TjFfBv8A1rC_"
      },
      "outputs": [],
      "source": [
        "match_user_features = [DenseFeature(x) for x in match_user_dense_feats] +\\\n",
        "                [SparseFeature(x, match_feature_dim[x], MATCH_EMBEDDING_DIM) for x in match_user_sparse_feats] +\\\n",
        "                [SparseSeqFeature(item_feature_group, 'hist_movie_id',SEQ_LEN)]\n",
        "user_feature_group = FeatureGroup('user', match_user_features, feat_pool1)"
      ]
    },
    {
      "cell_type": "code",
      "execution_count": 16,
      "metadata": {
        "id": "lKURLYXkuzM-"
      },
      "outputs": [],
      "source": [
        "match_model = YouTubeMatchDNN(\n",
        "    user_feature_group, item_feature_group,\n",
        "    dnn_hidden_units=(512,256,MATCH_EMBEDDING_DIM), \n",
        "    dnn_dropout=0.1,\n",
        "    dnn_bn=True,\n",
        "    num_sampled=100\n",
        ")"
      ]
    },
    {
      "cell_type": "code",
      "execution_count": 17,
      "metadata": {
        "colab": {
          "base_uri": "https://localhost:8080/"
        },
        "id": "2xizKlTvuzM_",
        "outputId": "bf057b69-2e21-4585-bebd-79faaa98fb18"
      },
      "outputs": [
        {
          "output_type": "stream",
          "name": "stdout",
          "text": [
            "Epoch 1/50\n",
            "207/207 [==============================] - 10s 23ms/step - loss: 3.6902 - val_loss: 3.6703\n",
            "Epoch 2/50\n",
            "207/207 [==============================] - 4s 21ms/step - loss: 3.1773 - val_loss: 3.2761\n",
            "Epoch 3/50\n",
            "207/207 [==============================] - 5s 22ms/step - loss: 2.9547 - val_loss: 2.8475\n",
            "Epoch 4/50\n",
            "207/207 [==============================] - 4s 21ms/step - loss: 2.6794 - val_loss: 2.6241\n",
            "Epoch 5/50\n",
            "207/207 [==============================] - 4s 21ms/step - loss: 2.5495 - val_loss: 2.3991\n",
            "Epoch 6/50\n",
            "207/207 [==============================] - 4s 21ms/step - loss: 2.4379 - val_loss: 2.4640\n",
            "Epoch 7/50\n",
            "207/207 [==============================] - 4s 21ms/step - loss: 2.3303 - val_loss: 2.3616\n",
            "Epoch 8/50\n",
            "207/207 [==============================] - 4s 21ms/step - loss: 2.2552 - val_loss: 2.2095\n",
            "Epoch 9/50\n",
            "207/207 [==============================] - 4s 20ms/step - loss: 2.1699 - val_loss: 2.2273\n",
            "Epoch 10/50\n",
            "207/207 [==============================] - 4s 21ms/step - loss: 2.1492 - val_loss: 2.2003\n",
            "Epoch 11/50\n",
            "207/207 [==============================] - 4s 21ms/step - loss: 2.1016 - val_loss: 2.1029\n",
            "Epoch 12/50\n",
            "207/207 [==============================] - 4s 21ms/step - loss: 2.0770 - val_loss: 2.1201\n",
            "Epoch 13/50\n",
            "207/207 [==============================] - 4s 22ms/step - loss: 2.0490 - val_loss: 2.0282\n",
            "Epoch 14/50\n",
            "207/207 [==============================] - 4s 21ms/step - loss: 1.9947 - val_loss: 1.9684\n",
            "Epoch 15/50\n",
            "207/207 [==============================] - 4s 20ms/step - loss: 1.9543 - val_loss: 2.0236\n",
            "Epoch 16/50\n",
            "207/207 [==============================] - 4s 20ms/step - loss: 1.9448 - val_loss: 2.0651\n",
            "Epoch 17/50\n",
            "207/207 [==============================] - 4s 21ms/step - loss: 1.9086 - val_loss: 2.0120\n",
            "Epoch 18/50\n",
            "207/207 [==============================] - 4s 21ms/step - loss: 1.8996 - val_loss: 1.9360\n",
            "Epoch 19/50\n",
            "207/207 [==============================] - 4s 21ms/step - loss: 1.8683 - val_loss: 1.9402\n",
            "Epoch 20/50\n",
            "207/207 [==============================] - 4s 20ms/step - loss: 1.8729 - val_loss: 1.9460\n",
            "Epoch 21/50\n",
            "207/207 [==============================] - 4s 21ms/step - loss: 1.8635 - val_loss: 1.9190\n",
            "Epoch 22/50\n",
            "207/207 [==============================] - 4s 21ms/step - loss: 1.8401 - val_loss: 1.9087\n",
            "Epoch 23/50\n",
            "207/207 [==============================] - 4s 20ms/step - loss: 1.8226 - val_loss: 1.9182\n",
            "Epoch 24/50\n",
            "207/207 [==============================] - 4s 21ms/step - loss: 1.8238 - val_loss: 1.8766\n",
            "Epoch 25/50\n",
            "207/207 [==============================] - 4s 21ms/step - loss: 1.8051 - val_loss: 1.8788\n",
            "Epoch 26/50\n",
            "207/207 [==============================] - 4s 22ms/step - loss: 1.7901 - val_loss: 1.8774\n",
            "Epoch 27/50\n",
            "207/207 [==============================] - 4s 21ms/step - loss: 1.7892 - val_loss: 1.8849\n",
            "Epoch 28/50\n",
            "207/207 [==============================] - 4s 21ms/step - loss: 1.7680 - val_loss: 1.8745\n",
            "Epoch 29/50\n",
            "207/207 [==============================] - 4s 21ms/step - loss: 1.7772 - val_loss: 1.8477\n",
            "Epoch 30/50\n",
            "207/207 [==============================] - 4s 21ms/step - loss: 1.7365 - val_loss: 1.8110\n",
            "Epoch 31/50\n",
            "207/207 [==============================] - 4s 21ms/step - loss: 1.7494 - val_loss: 1.7767\n",
            "Epoch 32/50\n",
            "207/207 [==============================] - 4s 21ms/step - loss: 1.7490 - val_loss: 1.8462\n",
            "Epoch 33/50\n",
            "207/207 [==============================] - 4s 21ms/step - loss: 1.7468 - val_loss: 1.8656\n",
            "Epoch 34/50\n",
            "207/207 [==============================] - 4s 21ms/step - loss: 1.7228 - val_loss: 1.8630\n",
            "Epoch 35/50\n",
            "207/207 [==============================] - 4s 21ms/step - loss: 1.7138 - val_loss: 1.7745\n",
            "Epoch 36/50\n",
            "207/207 [==============================] - 4s 20ms/step - loss: 1.6784 - val_loss: 1.7882\n",
            "Epoch 37/50\n",
            "207/207 [==============================] - 4s 20ms/step - loss: 1.6854 - val_loss: 1.8174\n",
            "Epoch 38/50\n",
            "207/207 [==============================] - 4s 20ms/step - loss: 1.6881 - val_loss: 1.7844\n",
            "Epoch 39/50\n",
            "207/207 [==============================] - 4s 21ms/step - loss: 1.6826 - val_loss: 1.8502\n",
            "Epoch 40/50\n",
            "207/207 [==============================] - 4s 21ms/step - loss: 1.6757 - val_loss: 1.7916\n",
            "Epoch 41/50\n",
            "207/207 [==============================] - 4s 21ms/step - loss: 1.6491 - val_loss: 1.7403\n",
            "Epoch 42/50\n",
            "207/207 [==============================] - 4s 21ms/step - loss: 1.6631 - val_loss: 1.6656\n",
            "Epoch 43/50\n",
            "207/207 [==============================] - 4s 20ms/step - loss: 1.6520 - val_loss: 1.8120\n",
            "Epoch 44/50\n",
            "207/207 [==============================] - 4s 20ms/step - loss: 1.6511 - val_loss: 1.7475\n",
            "Epoch 45/50\n",
            "207/207 [==============================] - 4s 20ms/step - loss: 1.6336 - val_loss: 1.7779\n",
            "Epoch 46/50\n",
            "207/207 [==============================] - 4s 21ms/step - loss: 1.6239 - val_loss: 1.7267\n",
            "Epoch 47/50\n",
            "207/207 [==============================] - 4s 21ms/step - loss: 1.6629 - val_loss: 1.7957\n",
            "Epoch 48/50\n",
            "207/207 [==============================] - 4s 21ms/step - loss: 1.6242 - val_loss: 1.7639\n",
            "Epoch 49/50\n",
            "207/207 [==============================] - 4s 20ms/step - loss: 1.6237 - val_loss: 1.8055\n",
            "Epoch 50/50\n",
            "207/207 [==============================] - 4s 20ms/step - loss: 1.6142 - val_loss: 1.7956\n"
          ]
        }
      ],
      "source": [
        "match_model.compile(optimizer=tf.keras.optimizers.Adam(lr=5e-4), loss=sampledsoftmaxloss)\n",
        "early_stop = tf.keras.callbacks.EarlyStopping(monitor='val_loss', patience=20)\n",
        "checkpoint = tf.keras.callbacks.ModelCheckpoint(\n",
        "    filepath='./match_checkpoint/',\n",
        "    save_weights_only=True,\n",
        "    monitor='val_loss',\n",
        "    mode='min',\n",
        "    save_best_only=True)\n",
        "history = match_model.fit(match_train, match_train_label,\n",
        "                            batch_size=BATCH_SIZE, \n",
        "                            epochs=NEPOCH,\n",
        "                            verbose=1,\n",
        "                            validation_split=0.1,\n",
        "                            callbacks=[early_stop,checkpoint])"
      ]
    },
    {
      "cell_type": "code",
      "execution_count": 18,
      "metadata": {
        "colab": {
          "base_uri": "https://localhost:8080/"
        },
        "id": "AGebkIE0uzM_",
        "outputId": "68d93298-6bde-4b05-e19a-2d2151dfc24b"
      },
      "outputs": [
        {
          "output_type": "execute_result",
          "data": {
            "text/plain": [
              "<tensorflow.python.training.tracking.util.CheckpointLoadStatus at 0x7f3c353e3410>"
            ]
          },
          "metadata": {},
          "execution_count": 18
        }
      ],
      "source": [
        "match_model.load_weights('./match_checkpoint/')"
      ]
    },
    {
      "cell_type": "code",
      "execution_count": 19,
      "metadata": {
        "colab": {
          "base_uri": "https://localhost:8080/"
        },
        "id": "G9AxEdKbuzM_",
        "outputId": "133a3a02-0f87-44b5-b501-a099f64eee10"
      },
      "outputs": [
        {
          "output_type": "stream",
          "name": "stdout",
          "text": [
            "(6040, 64)\n",
            "(3883, 64)\n"
          ]
        }
      ],
      "source": [
        "user_embedding_model = Model(inputs=match_model.user_input, outputs=match_model.user_embedding)\n",
        "item_embedding_model = Model(inputs=match_model.item_input, outputs=match_model.item_embedding)\n",
        "\n",
        "user_embs = user_embedding_model.predict(match_test, batch_size=2 ** 15)\n",
        "item_embs = item_embedding_model.predict(all_item_model_input, batch_size=2 ** 15)\n",
        "\n",
        "print(user_embs.shape)\n",
        "print(item_embs.shape)"
      ]
    },
    {
      "cell_type": "markdown",
      "metadata": {
        "id": "UJ49Jxnf0-1O"
      },
      "source": [
        "# 2. Use Faiss to generate candidates <a name=\"section-2\"></a>"
      ]
    },
    {
      "cell_type": "markdown",
      "metadata": {
        "id": "qEAI8Rl7hzgv"
      },
      "source": [
        "## Test match model"
      ]
    },
    {
      "cell_type": "code",
      "execution_count": 20,
      "metadata": {
        "id": "cr39MwzduzNA"
      },
      "outputs": [],
      "source": [
        "candidates = search_embedding(\n",
        "    MATCH_EMBEDDING_DIM, \n",
        "    item_embs, \n",
        "    user_embs,\n",
        "    data['item']['movie_id'].values,\n",
        "    CANDIDATE_NUM)"
      ]
    },
    {
      "cell_type": "code",
      "execution_count": 21,
      "metadata": {
        "colab": {
          "base_uri": "https://localhost:8080/"
        },
        "id": "ZLc_JPubuzNB",
        "outputId": "42cdf054-b92b-4c31-f072-f9b6d8745597"
      },
      "outputs": [
        {
          "output_type": "execute_result",
          "data": {
            "text/plain": [
              "0.027647469252601704"
            ]
          },
          "metadata": {},
          "execution_count": 21
        }
      ],
      "source": [
        "map_at_k(match_test_label, candidates, k=10)"
      ]
    },
    {
      "cell_type": "code",
      "execution_count": 22,
      "metadata": {
        "colab": {
          "base_uri": "https://localhost:8080/"
        },
        "id": "kap-zVgguzNC",
        "outputId": "1ddfb538-d3d8-42f6-92c3-8d5a47299d10"
      },
      "outputs": [
        {
          "output_type": "execute_result",
          "data": {
            "text/plain": [
              "0.06869205298013245"
            ]
          },
          "metadata": {},
          "execution_count": 22
        }
      ],
      "source": [
        "recall_at_k(match_test_label, candidates, k=10)"
      ]
    },
    {
      "cell_type": "code",
      "execution_count": 23,
      "metadata": {
        "colab": {
          "base_uri": "https://localhost:8080/"
        },
        "id": "WyU4hfCihzgw",
        "outputId": "e29194d7-5cbe-41ea-bbc8-643ab5cf1ca8"
      },
      "outputs": [
        {
          "output_type": "execute_result",
          "data": {
            "text/plain": [
              "0.3984602649006622"
            ]
          },
          "metadata": {},
          "execution_count": 23
        }
      ],
      "source": [
        "recall_at_k(match_test_label, candidates, k=100)"
      ]
    },
    {
      "cell_type": "markdown",
      "metadata": {
        "id": "l9L5duhQhzgw"
      },
      "source": [
        "## Prepare data for ranking"
      ]
    },
    {
      "cell_type": "code",
      "execution_count": 24,
      "metadata": {
        "id": "XpXydY19hzgx"
      },
      "outputs": [],
      "source": [
        "test_user_embs = user_embedding_model.predict(match_test, batch_size=2 ** 15)\n",
        "test_candidates = search_embedding(\n",
        "    MATCH_EMBEDDING_DIM, \n",
        "    item_embs, \n",
        "    test_user_embs,\n",
        "    data['item']['movie_id'].values,\n",
        "    CANDIDATE_NUM)\n",
        "\n",
        "test_candidates = {\n",
        "    match_test['user_id'][i] : test_candidates[i]\n",
        "    for i in range(test_candidates.shape[0])\n",
        "}"
      ]
    },
    {
      "cell_type": "code",
      "execution_count": 25,
      "metadata": {
        "colab": {
          "base_uri": "https://localhost:8080/"
        },
        "id": "yynuwvUppia6",
        "outputId": "7288b987-6130-43d7-ccae-331de05f9077"
      },
      "outputs": [
        {
          "output_type": "execute_result",
          "data": {
            "text/plain": [
              "996"
            ]
          },
          "metadata": {},
          "execution_count": 25
        }
      ],
      "source": [
        "del user_embs, item_embs, match_train, match_train_label, test_user_embs\n",
        "gc.collect()"
      ]
    },
    {
      "cell_type": "code",
      "execution_count": 26,
      "metadata": {
        "colab": {
          "base_uri": "https://localhost:8080/"
        },
        "id": "HzBXnYuwhzgx",
        "outputId": "7a45220a-1ea2-4f82-eddc-71b932ffccfa"
      },
      "outputs": [
        {
          "output_type": "stream",
          "name": "stderr",
          "text": [
            "Generate train set: 100%|██████████| 6040/6040 [00:08<00:00, 714.05it/s]\n",
            "Save user features: 0it [00:00, ?it/s]\n",
            "Save item features: 0it [00:00, ?it/s]\n"
          ]
        }
      ],
      "source": [
        "rank_dh = MovieRankSeqDataHelper('./ml-1m/')\n",
        "rank_user_features = ['user_id']\n",
        "rank_movie_features = ['movie_id']\n",
        "\n",
        "rank_dh.gen_dataset(rank_user_features+rank_movie_features, data, test_candidates, seq_max_len=SEQ_LEN, negnum=NEG_NUM)"
      ]
    },
    {
      "cell_type": "code",
      "execution_count": 27,
      "metadata": {
        "colab": {
          "base_uri": "https://localhost:8080/"
        },
        "id": "4wQASPHrhzgx",
        "outputId": "622e8253-0ac2-4705-d586-67f9bc565715"
      },
      "outputs": [
        {
          "output_type": "stream",
          "name": "stderr",
          "text": [
            "Load user features: 100%|██████████| 2/2 [00:00<00:00,  2.05it/s]\n",
            "Load movie features: 100%|██████████| 1/1 [00:00<00:00, 39.85it/s]\n"
          ]
        }
      ],
      "source": [
        "rank_train, rank_test = rank_dh.load_dataset(rank_user_features, rank_movie_features)"
      ]
    },
    {
      "cell_type": "code",
      "execution_count": 28,
      "metadata": {
        "id": "of_PY0kv9UZx"
      },
      "outputs": [],
      "source": [
        "rank_feature_dim = rank_dh.get_feature_dim(data, rank_user_features, rank_movie_features, [])"
      ]
    },
    {
      "cell_type": "markdown",
      "metadata": {
        "id": "kyApc4cJhzgy"
      },
      "source": [
        "# 3. Train rank model and predict <a name=\"section-3\"></a>"
      ]
    },
    {
      "cell_type": "code",
      "execution_count": 29,
      "metadata": {
        "id": "oF5VHXXT1rDE"
      },
      "outputs": [],
      "source": [
        "feat_pool2 = FeaturePool()"
      ]
    },
    {
      "cell_type": "code",
      "execution_count": 30,
      "metadata": {
        "id": "PBpQkyWq1rDE"
      },
      "outputs": [],
      "source": [
        "rank_item_seq_features = [SparseSeqFeature(SparseFeature('movie_id', rank_feature_dim['movie_id'], RANK_EMBEDDING_DIM), 'hist_movie_id', SEQ_LEN)]\n",
        "item_seq_feat_group = FeatureGroup('item_seq', rank_item_seq_features, feat_pool2)"
      ]
    },
    {
      "cell_type": "code",
      "execution_count": 31,
      "metadata": {
        "id": "_uvYZtxBhzgy"
      },
      "outputs": [],
      "source": [
        "rank_model = FMLPRec(\n",
        "    item_seq_feat_group,\n",
        "    dropout=0.5,\n",
        "    block_num=3\n",
        ")"
      ]
    },
    {
      "cell_type": "code",
      "execution_count": 32,
      "metadata": {
        "colab": {
          "base_uri": "https://localhost:8080/"
        },
        "id": "H8l7JU3phzgy",
        "outputId": "063b749c-51ae-447a-cfa8-06999b796146"
      },
      "outputs": [
        {
          "output_type": "stream",
          "name": "stdout",
          "text": [
            "Epoch 1/50\n",
            "1033/1033 [==============================] - 258s 245ms/step - loss: 0.9729 - val_loss: 0.9278\n",
            "Epoch 2/50\n",
            "1033/1033 [==============================] - 252s 244ms/step - loss: 0.8971 - val_loss: 0.8202\n",
            "Epoch 3/50\n",
            "1033/1033 [==============================] - 252s 244ms/step - loss: 0.7815 - val_loss: 0.7229\n",
            "Epoch 4/50\n",
            "1033/1033 [==============================] - 252s 244ms/step - loss: 0.7108 - val_loss: 0.6674\n",
            "Epoch 5/50\n",
            "1033/1033 [==============================] - 252s 244ms/step - loss: 0.6693 - val_loss: 0.6361\n",
            "Epoch 6/50\n",
            "1033/1033 [==============================] - 252s 244ms/step - loss: 0.6385 - val_loss: 0.6005\n",
            "Epoch 7/50\n",
            "1033/1033 [==============================] - 252s 244ms/step - loss: 0.6086 - val_loss: 0.5713\n",
            "Epoch 8/50\n",
            "1033/1033 [==============================] - 252s 244ms/step - loss: 0.5859 - val_loss: 0.5490\n",
            "Epoch 9/50\n",
            "1033/1033 [==============================] - 252s 244ms/step - loss: 0.5646 - val_loss: 0.5242\n",
            "Epoch 10/50\n",
            "1033/1033 [==============================] - 252s 244ms/step - loss: 0.5459 - val_loss: 0.5063\n",
            "Epoch 11/50\n",
            "1033/1033 [==============================] - 252s 244ms/step - loss: 0.5314 - val_loss: 0.4939\n",
            "Epoch 12/50\n",
            "1033/1033 [==============================] - 252s 244ms/step - loss: 0.5194 - val_loss: 0.4844\n",
            "Epoch 13/50\n",
            "1033/1033 [==============================] - 252s 244ms/step - loss: 0.5091 - val_loss: 0.4732\n",
            "Epoch 14/50\n",
            "1033/1033 [==============================] - 252s 244ms/step - loss: 0.5002 - val_loss: 0.4656\n",
            "Epoch 15/50\n",
            "1033/1033 [==============================] - 252s 244ms/step - loss: 0.4925 - val_loss: 0.4596\n",
            "Epoch 16/50\n",
            "1033/1033 [==============================] - 252s 244ms/step - loss: 0.4859 - val_loss: 0.4514\n",
            "Epoch 17/50\n",
            "1033/1033 [==============================] - 252s 244ms/step - loss: 0.4799 - val_loss: 0.4467\n",
            "Epoch 18/50\n",
            "1033/1033 [==============================] - 252s 244ms/step - loss: 0.4751 - val_loss: 0.4454\n",
            "Epoch 19/50\n",
            "1033/1033 [==============================] - 252s 244ms/step - loss: 0.4706 - val_loss: 0.4419\n",
            "Epoch 20/50\n",
            "1033/1033 [==============================] - 252s 244ms/step - loss: 0.4669 - val_loss: 0.4382\n",
            "Epoch 21/50\n",
            "1033/1033 [==============================] - 252s 244ms/step - loss: 0.4632 - val_loss: 0.4367\n",
            "Epoch 22/50\n",
            "1033/1033 [==============================] - 252s 244ms/step - loss: 0.4603 - val_loss: 0.4345\n",
            "Epoch 23/50\n",
            "1033/1033 [==============================] - 252s 244ms/step - loss: 0.4575 - val_loss: 0.4323\n",
            "Epoch 24/50\n",
            "1033/1033 [==============================] - 252s 244ms/step - loss: 0.4549 - val_loss: 0.4270\n",
            "Epoch 25/50\n",
            "1033/1033 [==============================] - 252s 244ms/step - loss: 0.4528 - val_loss: 0.4273\n",
            "Epoch 26/50\n",
            "1033/1033 [==============================] - 252s 244ms/step - loss: 0.4507 - val_loss: 0.4248\n",
            "Epoch 27/50\n",
            "1033/1033 [==============================] - 252s 244ms/step - loss: 0.4484 - val_loss: 0.4227\n",
            "Epoch 28/50\n",
            "1033/1033 [==============================] - 252s 244ms/step - loss: 0.4468 - val_loss: 0.4213\n",
            "Epoch 29/50\n",
            "1033/1033 [==============================] - 252s 244ms/step - loss: 0.4448 - val_loss: 0.4234\n",
            "Epoch 30/50\n",
            "1033/1033 [==============================] - 252s 244ms/step - loss: 0.4434 - val_loss: 0.4197\n",
            "Epoch 31/50\n",
            "1033/1033 [==============================] - 252s 244ms/step - loss: 0.4419 - val_loss: 0.4213\n",
            "Epoch 32/50\n",
            "1033/1033 [==============================] - 252s 244ms/step - loss: 0.4404 - val_loss: 0.4192\n",
            "Epoch 33/50\n",
            "1033/1033 [==============================] - 252s 244ms/step - loss: 0.4392 - val_loss: 0.4164\n",
            "Epoch 34/50\n",
            "1033/1033 [==============================] - 252s 244ms/step - loss: 0.4381 - val_loss: 0.4165\n",
            "Epoch 35/50\n",
            "1033/1033 [==============================] - 252s 244ms/step - loss: 0.4367 - val_loss: 0.4176\n",
            "Epoch 36/50\n",
            "1033/1033 [==============================] - 252s 244ms/step - loss: 0.4357 - val_loss: 0.4170\n",
            "Epoch 37/50\n",
            "1033/1033 [==============================] - 252s 244ms/step - loss: 0.4347 - val_loss: 0.4137\n",
            "Epoch 38/50\n",
            "1033/1033 [==============================] - 252s 244ms/step - loss: 0.4336 - val_loss: 0.4154\n",
            "Epoch 39/50\n",
            "1033/1033 [==============================] - 252s 244ms/step - loss: 0.4324 - val_loss: 0.4166\n",
            "Epoch 40/50\n",
            "1033/1033 [==============================] - 252s 244ms/step - loss: 0.4315 - val_loss: 0.4128\n",
            "Epoch 41/50\n",
            "1033/1033 [==============================] - 252s 244ms/step - loss: 0.4307 - val_loss: 0.4126\n",
            "Epoch 42/50\n",
            "1033/1033 [==============================] - 252s 244ms/step - loss: 0.4297 - val_loss: 0.4138\n",
            "Epoch 43/50\n",
            "1033/1033 [==============================] - 252s 244ms/step - loss: 0.4290 - val_loss: 0.4140\n",
            "Epoch 44/50\n",
            "1033/1033 [==============================] - 252s 244ms/step - loss: 0.4284 - val_loss: 0.4114\n",
            "Epoch 45/50\n",
            "1033/1033 [==============================] - 252s 244ms/step - loss: 0.4277 - val_loss: 0.4089\n",
            "Epoch 46/50\n",
            "1033/1033 [==============================] - 252s 244ms/step - loss: 0.4270 - val_loss: 0.4116\n",
            "Epoch 47/50\n",
            "1033/1033 [==============================] - 252s 244ms/step - loss: 0.4262 - val_loss: 0.4094\n",
            "Epoch 48/50\n",
            "1033/1033 [==============================] - 252s 244ms/step - loss: 0.4254 - val_loss: 0.4098\n",
            "Epoch 49/50\n",
            "1033/1033 [==============================] - 252s 244ms/step - loss: 0.4247 - val_loss: 0.4110\n",
            "Epoch 50/50\n",
            "1033/1033 [==============================] - 252s 244ms/step - loss: 0.4241 - val_loss: 0.4089\n"
          ]
        }
      ],
      "source": [
        "rank_model.compile(optimizer=tf.keras.optimizers.Adam(lr=2e-4, clipvalue=1.), loss=None)\n",
        "early_stop = tf.keras.callbacks.EarlyStopping(monitor='loss', patience=5)\n",
        "checkpoint = tf.keras.callbacks.ModelCheckpoint(\n",
        "    filepath='./rank_checkpoint/',\n",
        "    save_weights_only=True,\n",
        "    monitor='loss',\n",
        "    mode='min',\n",
        "    save_best_only=True)\n",
        "history = rank_model.fit(rank_train, None,\n",
        "                    batch_size=BATCH_SIZE*2, \n",
        "                    epochs=NEPOCH,\n",
        "                    verbose=1,\n",
        "                    validation_split=0.1,\n",
        "                    callbacks=[early_stop,checkpoint])"
      ]
    },
    {
      "cell_type": "code",
      "execution_count": 33,
      "metadata": {
        "colab": {
          "base_uri": "https://localhost:8080/"
        },
        "id": "w52A7cJ8hzgz",
        "outputId": "543dc937-8317-4aa2-bc6e-9837940e079e"
      },
      "outputs": [
        {
          "output_type": "execute_result",
          "data": {
            "text/plain": [
              "<tensorflow.python.training.tracking.util.CheckpointLoadStatus at 0x7f3c37f96890>"
            ]
          },
          "metadata": {},
          "execution_count": 33
        }
      ],
      "source": [
        "rank_model.load_weights('./rank_checkpoint/')"
      ]
    },
    {
      "cell_type": "code",
      "execution_count": 34,
      "metadata": {
        "colab": {
          "base_uri": "https://localhost:8080/"
        },
        "id": "Fr61KpmewPuB",
        "outputId": "ff8e3d3f-ed37-467d-cbba-20d646fc91f4"
      },
      "outputs": [
        {
          "output_type": "execute_result",
          "data": {
            "text/plain": [
              "1615"
            ]
          },
          "metadata": {},
          "execution_count": 34
        }
      ],
      "source": [
        "del rank_train\n",
        "gc.collect()"
      ]
    },
    {
      "cell_type": "code",
      "execution_count": 35,
      "metadata": {
        "id": "lPsJzWpdnLk6"
      },
      "outputs": [],
      "source": [
        "pred_model = Model(inputs=rank_model.actual_inputs, outputs=rank_model.actual_outputs)"
      ]
    },
    {
      "cell_type": "code",
      "execution_count": 36,
      "metadata": {
        "id": "zUQJ7IdLhzgz"
      },
      "outputs": [],
      "source": [
        "pred = pred_model.predict(rank_test, batch_size=BATCH_SIZE*2)"
      ]
    },
    {
      "cell_type": "code",
      "execution_count": 37,
      "metadata": {
        "id": "SoCzRNuphzgz"
      },
      "outputs": [],
      "source": [
        "pred_df = pd.DataFrame(columns=['user_id','movie_id','pred'])\n",
        "pred_df['user_id'] = rank_test['user_id']\n",
        "pred_df['movie_id'] = rank_test['movie_id']\n",
        "pred_df['pred'] = pred\n",
        "\n",
        "pred_df = pred_df.sort_values(by=['user_id','pred'], ascending=False).reset_index(drop=True)\n",
        "pred_df = pred_df.groupby('user_id')['movie_id'].apply(list).reset_index()"
      ]
    },
    {
      "cell_type": "code",
      "execution_count": 38,
      "metadata": {
        "id": "rEQ9sQGjhzgz"
      },
      "outputs": [],
      "source": [
        "test_label_df = pd.DataFrame(columns=['user_id','label'])\n",
        "test_label_df['user_id'] = match_test['user_id']\n",
        "test_label_df['label'] = match_test_label.tolist()"
      ]
    },
    {
      "cell_type": "code",
      "execution_count": 39,
      "metadata": {
        "id": "5T_uOn5Ohzgz"
      },
      "outputs": [],
      "source": [
        "test_label_df = pd.merge(test_label_df, pred_df, on=['user_id'], how='left')"
      ]
    },
    {
      "cell_type": "code",
      "execution_count": 40,
      "metadata": {
        "colab": {
          "base_uri": "https://localhost:8080/"
        },
        "id": "0HXT3XxAhzgz",
        "outputId": "36fba9bf-143f-4dea-97ed-e83777f97767"
      },
      "outputs": [
        {
          "output_type": "execute_result",
          "data": {
            "text/plain": [
              "0.037148474456007566"
            ]
          },
          "metadata": {},
          "execution_count": 40
        }
      ],
      "source": [
        "map_at_k(test_label_df['label'], test_label_df['movie_id'], k=10)"
      ]
    },
    {
      "cell_type": "code",
      "execution_count": 41,
      "metadata": {
        "colab": {
          "base_uri": "https://localhost:8080/"
        },
        "id": "HHzj8iJKhzgz",
        "outputId": "fb8dfd48-c816-415a-e9e0-b6c6e6c82f30"
      },
      "outputs": [
        {
          "output_type": "execute_result",
          "data": {
            "text/plain": [
              "0.09082781456953641"
            ]
          },
          "metadata": {},
          "execution_count": 41
        }
      ],
      "source": [
        "recall_at_k(test_label_df['label'], test_label_df['movie_id'], k=10)"
      ]
    },
    {
      "cell_type": "code",
      "execution_count": 42,
      "metadata": {
        "colab": {
          "base_uri": "https://localhost:8080/"
        },
        "id": "y5L5ijkE-H1x",
        "outputId": "583a4521-9e2c-448d-90f8-bfa1b02e2e85"
      },
      "outputs": [
        {
          "output_type": "execute_result",
          "data": {
            "text/plain": [
              "0.3984602649006622"
            ]
          },
          "metadata": {},
          "execution_count": 42
        }
      ],
      "source": [
        "recall_at_k(test_label_df['label'], test_label_df['movie_id'], k=100)"
      ]
    },
    {
      "cell_type": "code",
      "execution_count": 42,
      "metadata": {
        "id": "CAX_tfVhiK8_"
      },
      "outputs": [],
      "source": [
        ""
      ]
    }
  ],
  "metadata": {
    "accelerator": "GPU",
    "colab": {
      "collapsed_sections": [],
      "machine_shape": "hm",
      "name": "FMLPRec.ipynb",
      "provenance": []
    },
    "interpreter": {
      "hash": "36ffe6fb3c240fa6c4076fd88b70fbfe6fedfb8bb090683a5b6477a7931128e7"
    },
    "kernelspec": {
      "display_name": "handyrec",
      "language": "python",
      "name": "handyrec"
    },
    "language_info": {
      "codemirror_mode": {
        "name": "ipython",
        "version": 3
      },
      "file_extension": ".py",
      "mimetype": "text/x-python",
      "name": "python",
      "nbconvert_exporter": "python",
      "pygments_lexer": "ipython3",
      "version": "3.7.11"
    },
    "orig_nbformat": 4
  },
  "nbformat": 4,
  "nbformat_minor": 0
}