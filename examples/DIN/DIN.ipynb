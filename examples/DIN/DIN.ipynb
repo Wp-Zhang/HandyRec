{
  "cells": [
    {
      "cell_type": "markdown",
      "metadata": {
        "id": "FXD2RCXzuzMx"
      },
      "source": [
        "[![Open In Colab](https://colab.research.google.com/assets/colab-badge.svg)](https://colab.research.google.com/github/Wp-Zhang/HandyRec/blob/master/examples/DIN/DIN.ipynb)"
      ]
    },
    {
      "cell_type": "markdown",
      "metadata": {
        "id": "OJKT5uytzl7t"
      },
      "source": [
        "> This notebook runs DIN on MovieLens1M dataset. We'll use DSSM for generating candidates and DIN for ranking these candidates.\n",
        "\n",
        "> Only movies with ratings larger than 3 are treated as 'positive' samples for each user. Every last 10 'positive' movies of each user are held out for testing."
      ]
    },
    {
      "cell_type": "markdown",
      "metadata": {
        "id": "XFTLC9SQzxK4"
      },
      "source": [
        "**Download dataset and install packages**"
      ]
    },
    {
      "cell_type": "code",
      "execution_count": 1,
      "metadata": {
        "colab": {
          "base_uri": "https://localhost:8080/"
        },
        "id": "WSk1WSSpvXfL",
        "outputId": "c151dc5d-06fb-4d26-8774-dfb5663f45f2"
      },
      "outputs": [
        {
          "output_type": "stream",
          "name": "stdout",
          "text": [
            "Cloning into 'HandyRec'...\n",
            "remote: Enumerating objects: 2098, done.\u001b[K\n",
            "remote: Counting objects: 100% (295/295), done.\u001b[K\n",
            "remote: Compressing objects: 100% (206/206), done.\u001b[K\n",
            "remote: Total 2098 (delta 131), reused 194 (delta 87), pack-reused 1803\u001b[K\n",
            "Receiving objects: 100% (2098/2098), 24.43 MiB | 17.05 MiB/s, done.\n",
            "Resolving deltas: 100% (885/885), done.\n",
            "running install\n",
            "running bdist_egg\n",
            "running egg_info\n",
            "creating handyrec.egg-info\n",
            "writing handyrec.egg-info/PKG-INFO\n",
            "writing dependency_links to handyrec.egg-info/dependency_links.txt\n",
            "writing requirements to handyrec.egg-info/requires.txt\n",
            "writing top-level names to handyrec.egg-info/top_level.txt\n",
            "writing manifest file 'handyrec.egg-info/SOURCES.txt'\n",
            "adding license file 'LICENSE'\n",
            "writing manifest file 'handyrec.egg-info/SOURCES.txt'\n",
            "installing library code to build/bdist.linux-x86_64/egg\n",
            "running install_lib\n",
            "running build_py\n",
            "creating build\n",
            "creating build/lib\n",
            "creating build/lib/handyrec\n",
            "copying handyrec/config.py -> build/lib/handyrec\n",
            "copying handyrec/__init__.py -> build/lib/handyrec\n",
            "creating build/lib/handyrec/models\n",
            "copying handyrec/models/utils.py -> build/lib/handyrec/models\n",
            "copying handyrec/models/__init__.py -> build/lib/handyrec/models\n",
            "creating build/lib/handyrec/data\n",
            "copying handyrec/data/metrics.py -> build/lib/handyrec/data\n",
            "copying handyrec/data/utils.py -> build/lib/handyrec/data\n",
            "copying handyrec/data/movielens.py -> build/lib/handyrec/data\n",
            "copying handyrec/data/datahelper.py -> build/lib/handyrec/data\n",
            "copying handyrec/data/__init__.py -> build/lib/handyrec/data\n",
            "copying handyrec/data/dataset.py -> build/lib/handyrec/data\n",
            "creating build/lib/handyrec/features\n",
            "copying handyrec/features/utils.py -> build/lib/handyrec/features\n",
            "copying handyrec/features/type.py -> build/lib/handyrec/features\n",
            "copying handyrec/features/group.py -> build/lib/handyrec/features\n",
            "copying handyrec/features/__init__.py -> build/lib/handyrec/features\n",
            "creating build/lib/handyrec/layers\n",
            "copying handyrec/layers/activation.py -> build/lib/handyrec/layers\n",
            "copying handyrec/layers/interaction.py -> build/lib/handyrec/layers\n",
            "copying handyrec/layers/utils.py -> build/lib/handyrec/layers\n",
            "copying handyrec/layers/sequence.py -> build/lib/handyrec/layers\n",
            "copying handyrec/layers/__init__.py -> build/lib/handyrec/layers\n",
            "copying handyrec/layers/core.py -> build/lib/handyrec/layers\n",
            "copying handyrec/layers/tools.py -> build/lib/handyrec/layers\n",
            "creating build/lib/handyrec/models/ranking\n",
            "copying handyrec/models/ranking/__init__.py -> build/lib/handyrec/models/ranking\n",
            "creating build/lib/handyrec/models/retrieval\n",
            "copying handyrec/models/retrieval/YouTubeMatchDNN.py -> build/lib/handyrec/models/retrieval\n",
            "copying handyrec/models/retrieval/__init__.py -> build/lib/handyrec/models/retrieval\n",
            "copying handyrec/models/retrieval/DSSM.py -> build/lib/handyrec/models/retrieval\n",
            "creating build/lib/handyrec/models/ranking/sequential\n",
            "copying handyrec/models/ranking/sequential/DIN.py -> build/lib/handyrec/models/ranking/sequential\n",
            "copying handyrec/models/ranking/sequential/FMLPRec.py -> build/lib/handyrec/models/ranking/sequential\n",
            "copying handyrec/models/ranking/sequential/__init__.py -> build/lib/handyrec/models/ranking/sequential\n",
            "copying handyrec/models/ranking/sequential/DIEN.py -> build/lib/handyrec/models/ranking/sequential\n",
            "creating build/lib/handyrec/models/ranking/context_aware\n",
            "copying handyrec/models/ranking/context_aware/DeepFM.py -> build/lib/handyrec/models/ranking/context_aware\n",
            "copying handyrec/models/ranking/context_aware/__init__.py -> build/lib/handyrec/models/ranking/context_aware\n",
            "copying handyrec/models/ranking/context_aware/YouTubeRankDNN.py -> build/lib/handyrec/models/ranking/context_aware\n",
            "creating build/bdist.linux-x86_64\n",
            "creating build/bdist.linux-x86_64/egg\n",
            "creating build/bdist.linux-x86_64/egg/handyrec\n",
            "copying build/lib/handyrec/config.py -> build/bdist.linux-x86_64/egg/handyrec\n",
            "creating build/bdist.linux-x86_64/egg/handyrec/models\n",
            "creating build/bdist.linux-x86_64/egg/handyrec/models/ranking\n",
            "creating build/bdist.linux-x86_64/egg/handyrec/models/ranking/sequential\n",
            "copying build/lib/handyrec/models/ranking/sequential/DIN.py -> build/bdist.linux-x86_64/egg/handyrec/models/ranking/sequential\n",
            "copying build/lib/handyrec/models/ranking/sequential/FMLPRec.py -> build/bdist.linux-x86_64/egg/handyrec/models/ranking/sequential\n",
            "copying build/lib/handyrec/models/ranking/sequential/__init__.py -> build/bdist.linux-x86_64/egg/handyrec/models/ranking/sequential\n",
            "copying build/lib/handyrec/models/ranking/sequential/DIEN.py -> build/bdist.linux-x86_64/egg/handyrec/models/ranking/sequential\n",
            "creating build/bdist.linux-x86_64/egg/handyrec/models/ranking/context_aware\n",
            "copying build/lib/handyrec/models/ranking/context_aware/DeepFM.py -> build/bdist.linux-x86_64/egg/handyrec/models/ranking/context_aware\n",
            "copying build/lib/handyrec/models/ranking/context_aware/__init__.py -> build/bdist.linux-x86_64/egg/handyrec/models/ranking/context_aware\n",
            "copying build/lib/handyrec/models/ranking/context_aware/YouTubeRankDNN.py -> build/bdist.linux-x86_64/egg/handyrec/models/ranking/context_aware\n",
            "copying build/lib/handyrec/models/ranking/__init__.py -> build/bdist.linux-x86_64/egg/handyrec/models/ranking\n",
            "copying build/lib/handyrec/models/utils.py -> build/bdist.linux-x86_64/egg/handyrec/models\n",
            "creating build/bdist.linux-x86_64/egg/handyrec/models/retrieval\n",
            "copying build/lib/handyrec/models/retrieval/YouTubeMatchDNN.py -> build/bdist.linux-x86_64/egg/handyrec/models/retrieval\n",
            "copying build/lib/handyrec/models/retrieval/__init__.py -> build/bdist.linux-x86_64/egg/handyrec/models/retrieval\n",
            "copying build/lib/handyrec/models/retrieval/DSSM.py -> build/bdist.linux-x86_64/egg/handyrec/models/retrieval\n",
            "copying build/lib/handyrec/models/__init__.py -> build/bdist.linux-x86_64/egg/handyrec/models\n",
            "creating build/bdist.linux-x86_64/egg/handyrec/data\n",
            "copying build/lib/handyrec/data/metrics.py -> build/bdist.linux-x86_64/egg/handyrec/data\n",
            "copying build/lib/handyrec/data/utils.py -> build/bdist.linux-x86_64/egg/handyrec/data\n",
            "copying build/lib/handyrec/data/movielens.py -> build/bdist.linux-x86_64/egg/handyrec/data\n",
            "copying build/lib/handyrec/data/datahelper.py -> build/bdist.linux-x86_64/egg/handyrec/data\n",
            "copying build/lib/handyrec/data/__init__.py -> build/bdist.linux-x86_64/egg/handyrec/data\n",
            "copying build/lib/handyrec/data/dataset.py -> build/bdist.linux-x86_64/egg/handyrec/data\n",
            "creating build/bdist.linux-x86_64/egg/handyrec/features\n",
            "copying build/lib/handyrec/features/utils.py -> build/bdist.linux-x86_64/egg/handyrec/features\n",
            "copying build/lib/handyrec/features/type.py -> build/bdist.linux-x86_64/egg/handyrec/features\n",
            "copying build/lib/handyrec/features/group.py -> build/bdist.linux-x86_64/egg/handyrec/features\n",
            "copying build/lib/handyrec/features/__init__.py -> build/bdist.linux-x86_64/egg/handyrec/features\n",
            "copying build/lib/handyrec/__init__.py -> build/bdist.linux-x86_64/egg/handyrec\n",
            "creating build/bdist.linux-x86_64/egg/handyrec/layers\n",
            "copying build/lib/handyrec/layers/activation.py -> build/bdist.linux-x86_64/egg/handyrec/layers\n",
            "copying build/lib/handyrec/layers/interaction.py -> build/bdist.linux-x86_64/egg/handyrec/layers\n",
            "copying build/lib/handyrec/layers/utils.py -> build/bdist.linux-x86_64/egg/handyrec/layers\n",
            "copying build/lib/handyrec/layers/sequence.py -> build/bdist.linux-x86_64/egg/handyrec/layers\n",
            "copying build/lib/handyrec/layers/__init__.py -> build/bdist.linux-x86_64/egg/handyrec/layers\n",
            "copying build/lib/handyrec/layers/core.py -> build/bdist.linux-x86_64/egg/handyrec/layers\n",
            "copying build/lib/handyrec/layers/tools.py -> build/bdist.linux-x86_64/egg/handyrec/layers\n",
            "byte-compiling build/bdist.linux-x86_64/egg/handyrec/config.py to config.cpython-37.pyc\n",
            "byte-compiling build/bdist.linux-x86_64/egg/handyrec/models/ranking/sequential/DIN.py to DIN.cpython-37.pyc\n",
            "byte-compiling build/bdist.linux-x86_64/egg/handyrec/models/ranking/sequential/FMLPRec.py to FMLPRec.cpython-37.pyc\n",
            "byte-compiling build/bdist.linux-x86_64/egg/handyrec/models/ranking/sequential/__init__.py to __init__.cpython-37.pyc\n",
            "byte-compiling build/bdist.linux-x86_64/egg/handyrec/models/ranking/sequential/DIEN.py to DIEN.cpython-37.pyc\n",
            "byte-compiling build/bdist.linux-x86_64/egg/handyrec/models/ranking/context_aware/DeepFM.py to DeepFM.cpython-37.pyc\n",
            "byte-compiling build/bdist.linux-x86_64/egg/handyrec/models/ranking/context_aware/__init__.py to __init__.cpython-37.pyc\n",
            "byte-compiling build/bdist.linux-x86_64/egg/handyrec/models/ranking/context_aware/YouTubeRankDNN.py to YouTubeRankDNN.cpython-37.pyc\n",
            "byte-compiling build/bdist.linux-x86_64/egg/handyrec/models/ranking/__init__.py to __init__.cpython-37.pyc\n",
            "byte-compiling build/bdist.linux-x86_64/egg/handyrec/models/utils.py to utils.cpython-37.pyc\n",
            "byte-compiling build/bdist.linux-x86_64/egg/handyrec/models/retrieval/YouTubeMatchDNN.py to YouTubeMatchDNN.cpython-37.pyc\n",
            "byte-compiling build/bdist.linux-x86_64/egg/handyrec/models/retrieval/__init__.py to __init__.cpython-37.pyc\n",
            "byte-compiling build/bdist.linux-x86_64/egg/handyrec/models/retrieval/DSSM.py to DSSM.cpython-37.pyc\n",
            "byte-compiling build/bdist.linux-x86_64/egg/handyrec/models/__init__.py to __init__.cpython-37.pyc\n",
            "byte-compiling build/bdist.linux-x86_64/egg/handyrec/data/metrics.py to metrics.cpython-37.pyc\n",
            "byte-compiling build/bdist.linux-x86_64/egg/handyrec/data/utils.py to utils.cpython-37.pyc\n",
            "byte-compiling build/bdist.linux-x86_64/egg/handyrec/data/movielens.py to movielens.cpython-37.pyc\n",
            "byte-compiling build/bdist.linux-x86_64/egg/handyrec/data/datahelper.py to datahelper.cpython-37.pyc\n",
            "byte-compiling build/bdist.linux-x86_64/egg/handyrec/data/__init__.py to __init__.cpython-37.pyc\n",
            "byte-compiling build/bdist.linux-x86_64/egg/handyrec/data/dataset.py to dataset.cpython-37.pyc\n",
            "byte-compiling build/bdist.linux-x86_64/egg/handyrec/features/utils.py to utils.cpython-37.pyc\n",
            "byte-compiling build/bdist.linux-x86_64/egg/handyrec/features/type.py to type.cpython-37.pyc\n",
            "byte-compiling build/bdist.linux-x86_64/egg/handyrec/features/group.py to group.cpython-37.pyc\n",
            "byte-compiling build/bdist.linux-x86_64/egg/handyrec/features/__init__.py to __init__.cpython-37.pyc\n",
            "byte-compiling build/bdist.linux-x86_64/egg/handyrec/__init__.py to __init__.cpython-37.pyc\n",
            "byte-compiling build/bdist.linux-x86_64/egg/handyrec/layers/activation.py to activation.cpython-37.pyc\n",
            "byte-compiling build/bdist.linux-x86_64/egg/handyrec/layers/interaction.py to interaction.cpython-37.pyc\n",
            "byte-compiling build/bdist.linux-x86_64/egg/handyrec/layers/utils.py to utils.cpython-37.pyc\n",
            "byte-compiling build/bdist.linux-x86_64/egg/handyrec/layers/sequence.py to sequence.cpython-37.pyc\n",
            "byte-compiling build/bdist.linux-x86_64/egg/handyrec/layers/__init__.py to __init__.cpython-37.pyc\n",
            "byte-compiling build/bdist.linux-x86_64/egg/handyrec/layers/core.py to core.cpython-37.pyc\n",
            "byte-compiling build/bdist.linux-x86_64/egg/handyrec/layers/tools.py to tools.cpython-37.pyc\n",
            "creating build/bdist.linux-x86_64/egg/EGG-INFO\n",
            "copying handyrec.egg-info/PKG-INFO -> build/bdist.linux-x86_64/egg/EGG-INFO\n",
            "copying handyrec.egg-info/SOURCES.txt -> build/bdist.linux-x86_64/egg/EGG-INFO\n",
            "copying handyrec.egg-info/dependency_links.txt -> build/bdist.linux-x86_64/egg/EGG-INFO\n",
            "copying handyrec.egg-info/requires.txt -> build/bdist.linux-x86_64/egg/EGG-INFO\n",
            "copying handyrec.egg-info/top_level.txt -> build/bdist.linux-x86_64/egg/EGG-INFO\n",
            "zip_safe flag not set; analyzing archive contents...\n",
            "creating dist\n",
            "creating 'dist/handyrec-0.1.0-py3.7.egg' and adding 'build/bdist.linux-x86_64/egg' to it\n",
            "removing 'build/bdist.linux-x86_64/egg' (and everything under it)\n",
            "Processing handyrec-0.1.0-py3.7.egg\n",
            "Copying handyrec-0.1.0-py3.7.egg to /usr/local/lib/python3.7/dist-packages\n",
            "Adding handyrec 0.1.0 to easy-install.pth file\n",
            "\n",
            "Installed /usr/local/lib/python3.7/dist-packages/handyrec-0.1.0-py3.7.egg\n",
            "Processing dependencies for handyrec==0.1.0\n",
            "Searching for python_box>=6.0.2\n",
            "Reading https://pypi.org/simple/python_box/\n",
            "Downloading https://files.pythonhosted.org/packages/bd/a0/14e95a9d67619adaf33fbbb34a3d1bdde67b266c29548bca90edc96ea5aa/python_box-6.0.2-cp37-cp37m-manylinux_2_17_x86_64.manylinux2014_x86_64.whl#sha256=3a43baf2fdee399c7b3df425e2df163e9551f1d8b40ceb213f9cc0a952effa77\n",
            "Best match: python-box 6.0.2\n",
            "Processing python_box-6.0.2-cp37-cp37m-manylinux_2_17_x86_64.manylinux2014_x86_64.whl\n",
            "Installing python_box-6.0.2-cp37-cp37m-manylinux_2_17_x86_64.manylinux2014_x86_64.whl to /usr/local/lib/python3.7/dist-packages\n",
            "Adding python-box 6.0.2 to easy-install.pth file\n",
            "\n",
            "Installed /usr/local/lib/python3.7/dist-packages/python_box-6.0.2-py3.7-linux-x86_64.egg\n",
            "Searching for tf-estimator-nightly==2.8.0.dev2021122109\n",
            "Reading https://pypi.org/simple/tf-estimator-nightly/\n",
            "Downloading https://files.pythonhosted.org/packages/a7/f1/f89e097f377b163856076f167baf149b010df3bbf425d2c06276048e2051/tf_estimator_nightly-2.8.0.dev2021122109-py2.py3-none-any.whl#sha256=0065a04e396b2890bd19761fc1de7559ceafeba12839f8db2c7e7473afaaf612\n",
            "Best match: tf-estimator-nightly 2.8.0.dev2021122109\n",
            "Processing tf_estimator_nightly-2.8.0.dev2021122109-py2.py3-none-any.whl\n",
            "Installing tf_estimator_nightly-2.8.0.dev2021122109-py2.py3-none-any.whl to /usr/local/lib/python3.7/dist-packages\n",
            "Adding tf-estimator-nightly 2.8.0.dev2021122109 to easy-install.pth file\n",
            "\n",
            "Installed /usr/local/lib/python3.7/dist-packages/tf_estimator_nightly-2.8.0.dev2021122109-py3.7.egg\n",
            "Searching for tensorflow==2.8.0+zzzcolab20220506162203\n",
            "Best match: tensorflow 2.8.0+zzzcolab20220506162203\n",
            "Adding tensorflow 2.8.0+zzzcolab20220506162203 to easy-install.pth file\n",
            "Installing estimator_ckpt_converter script to /usr/local/bin\n",
            "Installing import_pb_to_tensorboard script to /usr/local/bin\n",
            "Installing saved_model_cli script to /usr/local/bin\n",
            "Installing tensorboard script to /usr/local/bin\n",
            "Installing tf_upgrade_v2 script to /usr/local/bin\n",
            "Installing tflite_convert script to /usr/local/bin\n",
            "Installing toco script to /usr/local/bin\n",
            "Installing toco_from_protos script to /usr/local/bin\n",
            "\n",
            "Using /usr/local/lib/python3.7/dist-packages\n",
            "Searching for pandas==1.3.5\n",
            "Best match: pandas 1.3.5\n",
            "Adding pandas 1.3.5 to easy-install.pth file\n",
            "\n",
            "Using /usr/local/lib/python3.7/dist-packages\n",
            "Searching for numpy==1.21.6\n",
            "Best match: numpy 1.21.6\n",
            "Adding numpy 1.21.6 to easy-install.pth file\n",
            "Installing f2py script to /usr/local/bin\n",
            "Installing f2py3 script to /usr/local/bin\n",
            "Installing f2py3.7 script to /usr/local/bin\n",
            "\n",
            "Using /usr/local/lib/python3.7/dist-packages\n",
            "Searching for h5py==3.1.0\n",
            "Best match: h5py 3.1.0\n",
            "Adding h5py 3.1.0 to easy-install.pth file\n",
            "\n",
            "Using /usr/local/lib/python3.7/dist-packages\n",
            "Searching for tensorboard==2.8.0\n",
            "Best match: tensorboard 2.8.0\n",
            "Adding tensorboard 2.8.0 to easy-install.pth file\n",
            "Installing tensorboard script to /usr/local/bin\n",
            "\n",
            "Using /usr/local/lib/python3.7/dist-packages\n",
            "Searching for grpcio==1.46.1\n",
            "Best match: grpcio 1.46.1\n",
            "Adding grpcio 1.46.1 to easy-install.pth file\n",
            "\n",
            "Using /usr/local/lib/python3.7/dist-packages\n",
            "Searching for absl-py==1.0.0\n",
            "Best match: absl-py 1.0.0\n",
            "Adding absl-py 1.0.0 to easy-install.pth file\n",
            "\n",
            "Using /usr/local/lib/python3.7/dist-packages\n",
            "Searching for tensorflow-io-gcs-filesystem==0.26.0\n",
            "Best match: tensorflow-io-gcs-filesystem 0.26.0\n",
            "Adding tensorflow-io-gcs-filesystem 0.26.0 to easy-install.pth file\n",
            "\n",
            "Using /usr/local/lib/python3.7/dist-packages\n",
            "Searching for opt-einsum==3.3.0\n",
            "Best match: opt-einsum 3.3.0\n",
            "Adding opt-einsum 3.3.0 to easy-install.pth file\n",
            "\n",
            "Using /usr/local/lib/python3.7/dist-packages\n",
            "Searching for gast==0.5.3\n",
            "Best match: gast 0.5.3\n",
            "Adding gast 0.5.3 to easy-install.pth file\n",
            "\n",
            "Using /usr/local/lib/python3.7/dist-packages\n",
            "Searching for libclang==14.0.1\n",
            "Best match: libclang 14.0.1\n",
            "Adding libclang 14.0.1 to easy-install.pth file\n",
            "\n",
            "Using /usr/local/lib/python3.7/dist-packages\n",
            "Searching for astunparse==1.6.3\n",
            "Best match: astunparse 1.6.3\n",
            "Adding astunparse 1.6.3 to easy-install.pth file\n",
            "\n",
            "Using /usr/local/lib/python3.7/dist-packages\n",
            "Searching for Keras-Preprocessing==1.1.2\n",
            "Best match: Keras-Preprocessing 1.1.2\n",
            "Adding Keras-Preprocessing 1.1.2 to easy-install.pth file\n",
            "\n",
            "Using /usr/local/lib/python3.7/dist-packages\n",
            "Searching for google-pasta==0.2.0\n",
            "Best match: google-pasta 0.2.0\n",
            "Adding google-pasta 0.2.0 to easy-install.pth file\n",
            "\n",
            "Using /usr/local/lib/python3.7/dist-packages\n",
            "Searching for keras==2.8.0\n",
            "Best match: keras 2.8.0\n",
            "Adding keras 2.8.0 to easy-install.pth file\n",
            "\n",
            "Using /usr/local/lib/python3.7/dist-packages\n",
            "Searching for flatbuffers==2.0\n",
            "Best match: flatbuffers 2.0\n",
            "Adding flatbuffers 2.0 to easy-install.pth file\n",
            "\n",
            "Using /usr/local/lib/python3.7/dist-packages\n",
            "Searching for typing-extensions==4.2.0\n",
            "Best match: typing-extensions 4.2.0\n",
            "Adding typing-extensions 4.2.0 to easy-install.pth file\n",
            "\n",
            "Using /usr/local/lib/python3.7/dist-packages\n",
            "Searching for six==1.15.0\n",
            "Best match: six 1.15.0\n",
            "Adding six 1.15.0 to easy-install.pth file\n",
            "\n",
            "Using /usr/local/lib/python3.7/dist-packages\n",
            "Searching for protobuf==3.17.3\n",
            "Best match: protobuf 3.17.3\n",
            "Adding protobuf 3.17.3 to easy-install.pth file\n",
            "\n",
            "Using /usr/local/lib/python3.7/dist-packages\n",
            "Searching for termcolor==1.1.0\n",
            "Best match: termcolor 1.1.0\n",
            "Adding termcolor 1.1.0 to easy-install.pth file\n",
            "\n",
            "Using /usr/local/lib/python3.7/dist-packages\n",
            "Searching for wrapt==1.14.1\n",
            "Best match: wrapt 1.14.1\n",
            "Adding wrapt 1.14.1 to easy-install.pth file\n",
            "\n",
            "Using /usr/local/lib/python3.7/dist-packages\n",
            "Searching for setuptools==57.4.0\n",
            "Best match: setuptools 57.4.0\n",
            "Adding setuptools 57.4.0 to easy-install.pth file\n",
            "\n",
            "Using /usr/local/lib/python3.7/dist-packages\n",
            "Searching for python-dateutil==2.8.2\n",
            "Best match: python-dateutil 2.8.2\n",
            "Adding python-dateutil 2.8.2 to easy-install.pth file\n",
            "\n",
            "Using /usr/local/lib/python3.7/dist-packages\n",
            "Searching for pytz==2022.1\n",
            "Best match: pytz 2022.1\n",
            "Adding pytz 2022.1 to easy-install.pth file\n",
            "\n",
            "Using /usr/local/lib/python3.7/dist-packages\n",
            "Searching for cached-property==1.5.2\n",
            "Best match: cached-property 1.5.2\n",
            "Adding cached-property 1.5.2 to easy-install.pth file\n",
            "\n",
            "Using /usr/local/lib/python3.7/dist-packages\n",
            "Searching for tensorboard-plugin-wit==1.8.1\n",
            "Best match: tensorboard-plugin-wit 1.8.1\n",
            "Adding tensorboard-plugin-wit 1.8.1 to easy-install.pth file\n",
            "\n",
            "Using /usr/local/lib/python3.7/dist-packages\n",
            "Searching for google-auth-oauthlib==0.4.6\n",
            "Best match: google-auth-oauthlib 0.4.6\n",
            "Adding google-auth-oauthlib 0.4.6 to easy-install.pth file\n",
            "Installing google-oauthlib-tool script to /usr/local/bin\n",
            "\n",
            "Using /usr/local/lib/python3.7/dist-packages\n",
            "Searching for requests==2.23.0\n",
            "Best match: requests 2.23.0\n",
            "Adding requests 2.23.0 to easy-install.pth file\n",
            "\n",
            "Using /usr/local/lib/python3.7/dist-packages\n",
            "Searching for Markdown==3.3.7\n",
            "Best match: Markdown 3.3.7\n",
            "Adding Markdown 3.3.7 to easy-install.pth file\n",
            "Installing markdown_py script to /usr/local/bin\n",
            "\n",
            "Using /usr/local/lib/python3.7/dist-packages\n",
            "Searching for wheel==0.37.1\n",
            "Best match: wheel 0.37.1\n",
            "Adding wheel 0.37.1 to easy-install.pth file\n",
            "Installing wheel script to /usr/local/bin\n",
            "\n",
            "Using /usr/local/lib/python3.7/dist-packages\n",
            "Searching for google-auth==1.35.0\n",
            "Best match: google-auth 1.35.0\n",
            "Adding google-auth 1.35.0 to easy-install.pth file\n",
            "\n",
            "Using /usr/local/lib/python3.7/dist-packages\n",
            "Searching for Werkzeug==1.0.1\n",
            "Best match: Werkzeug 1.0.1\n",
            "Adding Werkzeug 1.0.1 to easy-install.pth file\n",
            "\n",
            "Using /usr/local/lib/python3.7/dist-packages\n",
            "Searching for tensorboard-data-server==0.6.1\n",
            "Best match: tensorboard-data-server 0.6.1\n",
            "Adding tensorboard-data-server 0.6.1 to easy-install.pth file\n",
            "\n",
            "Using /usr/local/lib/python3.7/dist-packages\n",
            "Searching for requests-oauthlib==1.3.1\n",
            "Best match: requests-oauthlib 1.3.1\n",
            "Adding requests-oauthlib 1.3.1 to easy-install.pth file\n",
            "\n",
            "Using /usr/local/lib/python3.7/dist-packages\n",
            "Searching for chardet==3.0.4\n",
            "Best match: chardet 3.0.4\n",
            "Adding chardet 3.0.4 to easy-install.pth file\n",
            "Installing chardetect script to /usr/local/bin\n",
            "\n",
            "Using /usr/local/lib/python3.7/dist-packages\n",
            "Searching for certifi==2022.5.18.1\n",
            "Best match: certifi 2022.5.18.1\n",
            "Adding certifi 2022.5.18.1 to easy-install.pth file\n",
            "\n",
            "Using /usr/local/lib/python3.7/dist-packages\n",
            "Searching for urllib3==1.24.3\n",
            "Best match: urllib3 1.24.3\n",
            "Adding urllib3 1.24.3 to easy-install.pth file\n",
            "\n",
            "Using /usr/local/lib/python3.7/dist-packages\n",
            "Searching for idna==2.10\n",
            "Best match: idna 2.10\n",
            "Adding idna 2.10 to easy-install.pth file\n",
            "\n",
            "Using /usr/local/lib/python3.7/dist-packages\n",
            "Searching for importlib-metadata==4.11.3\n",
            "Best match: importlib-metadata 4.11.3\n",
            "Adding importlib-metadata 4.11.3 to easy-install.pth file\n",
            "\n",
            "Using /usr/local/lib/python3.7/dist-packages\n",
            "Searching for pyasn1-modules==0.2.8\n",
            "Best match: pyasn1-modules 0.2.8\n",
            "Adding pyasn1-modules 0.2.8 to easy-install.pth file\n",
            "\n",
            "Using /usr/local/lib/python3.7/dist-packages\n",
            "Searching for rsa==4.8\n",
            "Best match: rsa 4.8\n",
            "Adding rsa 4.8 to easy-install.pth file\n",
            "Installing pyrsa-decrypt script to /usr/local/bin\n",
            "Installing pyrsa-encrypt script to /usr/local/bin\n",
            "Installing pyrsa-keygen script to /usr/local/bin\n",
            "Installing pyrsa-priv2pub script to /usr/local/bin\n",
            "Installing pyrsa-sign script to /usr/local/bin\n",
            "Installing pyrsa-verify script to /usr/local/bin\n",
            "\n",
            "Using /usr/local/lib/python3.7/dist-packages\n",
            "Searching for cachetools==4.2.4\n",
            "Best match: cachetools 4.2.4\n",
            "Adding cachetools 4.2.4 to easy-install.pth file\n",
            "\n",
            "Using /usr/local/lib/python3.7/dist-packages\n",
            "Searching for oauthlib==3.2.0\n",
            "Best match: oauthlib 3.2.0\n",
            "Adding oauthlib 3.2.0 to easy-install.pth file\n",
            "\n",
            "Using /usr/local/lib/python3.7/dist-packages\n",
            "Searching for zipp==3.8.0\n",
            "Best match: zipp 3.8.0\n",
            "Adding zipp 3.8.0 to easy-install.pth file\n",
            "\n",
            "Using /usr/local/lib/python3.7/dist-packages\n",
            "Searching for pyasn1==0.4.8\n",
            "Best match: pyasn1 0.4.8\n",
            "Adding pyasn1 0.4.8 to easy-install.pth file\n",
            "\n",
            "Using /usr/local/lib/python3.7/dist-packages\n",
            "Finished processing dependencies for handyrec==0.1.0\n",
            "Looking in indexes: https://pypi.org/simple, https://us-python.pkg.dev/colab-wheels/public/simple/\n",
            "Collecting faiss-gpu\n",
            "  Downloading faiss_gpu-1.7.2-cp37-cp37m-manylinux_2_17_x86_64.manylinux2014_x86_64.whl (85.5 MB)\n",
            "\u001b[K     |████████████████████████████████| 85.5 MB 113 kB/s \n",
            "\u001b[?25hInstalling collected packages: faiss-gpu\n",
            "Successfully installed faiss-gpu-1.7.2\n"
          ]
        }
      ],
      "source": [
        "! git clone https://github.com/Wp-Zhang/HandyRec.git\n",
        "! cd HandyRec && python setup.py install\n",
        "! pip install faiss-gpu"
      ]
    },
    {
      "cell_type": "code",
      "execution_count": 1,
      "metadata": {
        "colab": {
          "base_uri": "https://localhost:8080/"
        },
        "id": "uiIqXdbUyCEi",
        "outputId": "2f938396-3ec7-42b8-d29f-d7909213b5f0"
      },
      "outputs": [
        {
          "output_type": "stream",
          "name": "stdout",
          "text": [
            "--2022-05-24 17:47:12--  https://files.grouplens.org/datasets/movielens/ml-1m.zip\n",
            "Resolving files.grouplens.org (files.grouplens.org)... 128.101.65.152\n",
            "Connecting to files.grouplens.org (files.grouplens.org)|128.101.65.152|:443... connected.\n",
            "HTTP request sent, awaiting response... 200 OK\n",
            "Length: 5917549 (5.6M) [application/zip]\n",
            "Saving to: ‘./ml-1m.zip’\n",
            "\n",
            "./ml-1m.zip         100%[===================>]   5.64M  3.41MB/s    in 1.7s    \n",
            "\n",
            "2022-05-24 17:47:15 (3.41 MB/s) - ‘./ml-1m.zip’ saved [5917549/5917549]\n",
            "\n",
            "Archive:  ml-1m.zip\n",
            "   creating: ml-1m/\n",
            "  inflating: ml-1m/movies.dat        \n",
            "  inflating: ml-1m/ratings.dat       \n",
            "  inflating: ml-1m/README            \n",
            "  inflating: ml-1m/users.dat         \n"
          ]
        }
      ],
      "source": [
        "! wget https://files.grouplens.org/datasets/movielens/ml-1m.zip -O ./ml-1m.zip\n",
        "! unzip -o ml-1m.zip"
      ]
    },
    {
      "cell_type": "markdown",
      "metadata": {
        "id": "gsUc0pRE0BEH"
      },
      "source": [
        "**Import relative packages**"
      ]
    },
    {
      "cell_type": "code",
      "execution_count": 2,
      "metadata": {
        "id": "NlQtiTrmuzM3"
      },
      "outputs": [],
      "source": [
        "from handyrec.data.movielens import MovielensDataHelper\n",
        "from handyrec.data.utils import gen_sequence\n",
        "from handyrec.data import PointWiseDataset\n",
        "\n",
        "from handyrec.models.ranking import DIN\n",
        "from handyrec.config import ConfigLoader\n",
        "from handyrec.data.metrics import map_at_k, recall_at_k\n",
        "from handyrec.models.utils import search_embedding\n",
        "\n",
        "import tensorflow as tf\n",
        "from tensorflow.keras.losses import binary_crossentropy\n",
        "from tensorflow.keras.utils import plot_model\n",
        "import numpy as np\n",
        "import pandas as pd\n",
        "import gc"
      ]
    },
    {
      "cell_type": "code",
      "execution_count": 3,
      "metadata": {
        "id": "iYOxv7-auzM3"
      },
      "outputs": [],
      "source": [
        "import warnings\n",
        "warnings.filterwarnings('ignore')"
      ]
    },
    {
      "cell_type": "code",
      "execution_count": 4,
      "metadata": {
        "id": "W8jyTPiz8K13"
      },
      "outputs": [],
      "source": [
        "BATCH_SIZE = 2**12\n",
        "NEPOCH = 50\n",
        "\n",
        "TEST_NUM = 10\n",
        "VALID_RATIO = 0.1\n",
        "NEG_NUM = 10"
      ]
    },
    {
      "cell_type": "markdown",
      "metadata": {
        "id": "eee7ogIugZI1"
      },
      "source": [
        "**Load MovieLens1M data**"
      ]
    },
    {
      "cell_type": "code",
      "execution_count": 5,
      "metadata": {
        "colab": {
          "base_uri": "https://localhost:8080/"
        },
        "id": "bwNXcq6hgZI2",
        "outputId": "76bfbcdc-ed9f-4949-cc8d-b2b137147bbb"
      },
      "outputs": [
        {
          "output_type": "stream",
          "name": "stderr",
          "text": [
            "Encode User Sparse Feats: 100%|██████████| 4/4 [00:00<00:00, 101.96it/s]\n",
            "Encode Item Sparse Feats: 100%|██████████| 1/1 [00:00<00:00, 148.82it/s]\n",
            "Generate movie_id sequence: 100%|██████████| 6040/6040 [00:12<00:00, 488.93it/s]\n"
          ]
        }
      ],
      "source": [
        "retrieve_dh = MovielensDataHelper('./ml-1m/')\n",
        "data = retrieve_dh.get_clean_data(sparse_features=['gender','occupation','zip','age','year'])\n",
        "data['inter']['hist_movie'] = gen_sequence(data['inter'], 'user_id', 'movie_id', seq_len=40)"
      ]
    },
    {
      "cell_type": "markdown",
      "metadata": {
        "id": "l9L5duhQhzgw"
      },
      "source": [
        "## Prepare data for ranking"
      ]
    },
    {
      "cell_type": "code",
      "execution_count": 6,
      "metadata": {
        "id": "hsLN_yd3LVA9"
      },
      "outputs": [],
      "source": [
        "# * Use pre-trained embeddings and Faiss to generate candidates\n",
        "user_embs = np.load(\"./HandyRec/examples/DSSM/DSSM_user_embd.npy\")\n",
        "item_embs = np.load(\"./HandyRec/examples/DSSM/DSSM_item_embd.npy\")\n",
        "user_ids = np.load(\"./HandyRec/examples/DSSM/user_ids.npy\")\n",
        "\n",
        "test_candidates = search_embedding(\n",
        "    32, item_embs, user_embs, data[\"item\"][\"movie_id\"].values, 100, gpu=True\n",
        ")\n",
        "\n",
        "test_candidates = {user_ids[i] : test_candidates[i] for i in range(len(user_ids))}"
      ]
    },
    {
      "cell_type": "code",
      "execution_count": 7,
      "metadata": {
        "id": "hgGAvx-lgZJF"
      },
      "outputs": [],
      "source": [
        "user_features = ['user_id', 'gender', 'occupation', 'zip', 'age']\n",
        "item_features = ['movie_id', 'year', 'genres']\n",
        "inter_features = ['hist_movie']"
      ]
    },
    {
      "cell_type": "code",
      "execution_count": 8,
      "metadata": {
        "colab": {
          "base_uri": "https://localhost:8080/"
        },
        "id": "LHhcEiY_gZJG",
        "outputId": "ec0e06e0-61e8-42cd-a075-62222e30562c"
      },
      "outputs": [
        {
          "output_type": "stream",
          "name": "stderr",
          "text": [
            "Generate negative samples: 100%|██████████| 5923/5923 [00:03<00:00, 1648.84it/s]\n",
            "Regenerate test set: 100%|██████████| 5923/5923 [00:00<00:00, 615044.13it/s]\n",
            "Save user features: 100%|██████████| 5/5 [00:28<00:00,  5.63s/it]\n",
            "Save item features: 100%|██████████| 3/3 [00:26<00:00,  8.68s/it]\n",
            "Save inter features: 100%|██████████| 2/2 [00:36<00:00, 18.23s/it]\n"
          ]
        }
      ],
      "source": [
        "ranking_dataset = PointWiseDataset(\n",
        "    \"RankingDataset\",\n",
        "    task=\"ranking\",\n",
        "    data=data,\n",
        "    uid_name=\"user_id\",\n",
        "    iid_name=\"movie_id\",\n",
        "    inter_name=\"interact\",\n",
        "    time_name=\"timestamp\",\n",
        "    threshold=4,\n",
        ")\n",
        "\n",
        "ranking_dataset.train_test_split(TEST_NUM)\n",
        "ranking_dataset.negative_sampling(NEG_NUM)\n",
        "ranking_dataset.train_valid_split(VALID_RATIO)\n",
        "ranking_dataset.gen_dataset(user_features, item_features, inter_features, test_candidates)"
      ]
    },
    {
      "cell_type": "code",
      "execution_count": 9,
      "metadata": {
        "colab": {
          "base_uri": "https://localhost:8080/"
        },
        "id": "4wQASPHrhzgx",
        "outputId": "97416a96-0a09-4b95-b9d9-830eb988bb09"
      },
      "outputs": [
        {
          "output_type": "stream",
          "name": "stderr",
          "text": [
            "Load user features: 100%|██████████| 5/5 [00:03<00:00,  1.48it/s]\n",
            "Load item features: 100%|██████████| 3/3 [00:02<00:00,  1.41it/s]\n",
            "Load inter features: 100%|██████████| 2/2 [00:02<00:00,  1.02s/it]\n"
          ]
        }
      ],
      "source": [
        "train_data, valid_data, test_data, test_label = ranking_dataset.load_dataset(\n",
        "    user_features, item_features, inter_features, BATCH_SIZE*2\n",
        ")"
      ]
    },
    {
      "cell_type": "code",
      "execution_count": 12,
      "metadata": {
        "id": "of_PY0kv9UZx"
      },
      "outputs": [],
      "source": [
        "feature_dim = ranking_dataset.get_feature_dim(user_features, item_features, [])\n",
        "feature_dim[\"genre_id\"] = 19"
      ]
    },
    {
      "cell_type": "markdown",
      "metadata": {
        "id": "kyApc4cJhzgy"
      },
      "source": [
        "## Train rank model and predict"
      ]
    },
    {
      "cell_type": "code",
      "execution_count": 13,
      "metadata": {
        "id": "7tSWHejxBULW"
      },
      "outputs": [],
      "source": [
        "cfg = ConfigLoader(\"./HandyRec/examples/DIN/DIN_cfg.yaml\")\n",
        "feature_groups = cfg.prepare_features(feature_dim, data)"
      ]
    },
    {
      "cell_type": "code",
      "execution_count": 14,
      "metadata": {
        "id": "xBlkrL3cLVBB"
      },
      "outputs": [],
      "source": [
        "rank_model = DIN(\n",
        "    feature_groups[\"item_seq_feat_group\"],\n",
        "    feature_groups[\"other_feature_group\"],\n",
        "    **cfg.config.Model\n",
        ")"
      ]
    },
    {
      "cell_type": "code",
      "execution_count": 15,
      "metadata": {
        "colab": {
          "base_uri": "https://localhost:8080/",
          "height": 691
        },
        "id": "huHdcNW5s3ih",
        "outputId": "1543cc50-3dda-41e7-d8da-e2515e83655b"
      },
      "outputs": [
        {
          "output_type": "execute_result",
          "data": {
            "text/plain": [
              "<IPython.core.display.Image object>"
            ],
            "image/png": "[encoded data removed]"
          },
          "metadata": {},
          "execution_count": 15
        }
      ],
      "source": [
        "plot_model(rank_model)"
      ]
    },
    {
      "cell_type": "code",
      "execution_count": 16,
      "metadata": {
        "colab": {
          "base_uri": "https://localhost:8080/"
        },
        "id": "H8l7JU3phzgy",
        "outputId": "d7ac67db-dacd-4191-d9e0-63ef59d1a95f"
      },
      "outputs": [
        {
          "output_type": "stream",
          "name": "stdout",
          "text": [
            "Epoch 1/50\n",
            "623/623 [==============================] - 109s 163ms/step - loss: 112.2193 - val_loss: 83.3424\n",
            "Epoch 2/50\n",
            "623/623 [==============================] - 100s 160ms/step - loss: 71.2016 - val_loss: 60.3602\n",
            "Epoch 3/50\n",
            "623/623 [==============================] - 101s 161ms/step - loss: 51.9566 - val_loss: 44.7923\n",
            "Epoch 4/50\n",
            "623/623 [==============================] - 100s 160ms/step - loss: 38.9483 - val_loss: 34.3096\n",
            "Epoch 5/50\n",
            "623/623 [==============================] - 100s 161ms/step - loss: 29.9585 - val_loss: 26.5681\n",
            "Epoch 6/50\n",
            "623/623 [==============================] - 101s 161ms/step - loss: 24.1979 - val_loss: 22.2779\n",
            "Epoch 7/50\n",
            "623/623 [==============================] - 101s 161ms/step - loss: 20.1386 - val_loss: 18.5557\n",
            "Epoch 8/50\n",
            "623/623 [==============================] - 101s 161ms/step - loss: 16.9857 - val_loss: 15.8870\n",
            "Epoch 9/50\n",
            "623/623 [==============================] - 100s 161ms/step - loss: 14.7787 - val_loss: 13.8749\n",
            "Epoch 10/50\n",
            "623/623 [==============================] - 101s 161ms/step - loss: 12.7990 - val_loss: 11.8628\n",
            "Epoch 11/50\n",
            "623/623 [==============================] - 100s 161ms/step - loss: 10.9361 - val_loss: 10.0969\n",
            "Epoch 12/50\n",
            "623/623 [==============================] - 101s 161ms/step - loss: 9.2936 - val_loss: 8.5877\n",
            "Epoch 13/50\n",
            "623/623 [==============================] - 100s 160ms/step - loss: 7.8340 - val_loss: 7.1348\n",
            "Epoch 14/50\n",
            "623/623 [==============================] - 100s 160ms/step - loss: 6.4661 - val_loss: 5.8239\n",
            "Epoch 15/50\n",
            "623/623 [==============================] - 101s 161ms/step - loss: 5.1904 - val_loss: 4.5612\n",
            "Epoch 16/50\n",
            "623/623 [==============================] - 101s 161ms/step - loss: 4.0122 - val_loss: 3.5309\n",
            "Epoch 17/50\n",
            "623/623 [==============================] - 101s 161ms/step - loss: 3.0800 - val_loss: 2.5557\n",
            "Epoch 18/50\n",
            "623/623 [==============================] - 101s 161ms/step - loss: 2.3691 - val_loss: 1.8540\n",
            "Epoch 19/50\n",
            "623/623 [==============================] - 100s 160ms/step - loss: 1.8228 - val_loss: 1.4808\n",
            "Epoch 20/50\n",
            "623/623 [==============================] - 100s 160ms/step - loss: 1.4579 - val_loss: 1.1212\n",
            "Epoch 21/50\n",
            "623/623 [==============================] - 101s 161ms/step - loss: 1.2603 - val_loss: 0.9506\n",
            "Epoch 22/50\n",
            "623/623 [==============================] - 100s 160ms/step - loss: 1.0756 - val_loss: 0.7937\n",
            "Epoch 23/50\n",
            "623/623 [==============================] - 101s 161ms/step - loss: 0.9632 - val_loss: 0.7360\n",
            "Epoch 24/50\n",
            "623/623 [==============================] - 101s 161ms/step - loss: 0.8969 - val_loss: 0.6605\n",
            "Epoch 25/50\n",
            "623/623 [==============================] - 100s 160ms/step - loss: 0.8048 - val_loss: 0.5625\n",
            "Epoch 26/50\n",
            "623/623 [==============================] - 101s 162ms/step - loss: 0.7390 - val_loss: 0.5514\n",
            "Epoch 27/50\n",
            "623/623 [==============================] - 101s 161ms/step - loss: 0.7438 - val_loss: 0.4877\n",
            "Epoch 28/50\n",
            "623/623 [==============================] - 101s 161ms/step - loss: 0.7445 - val_loss: 0.4759\n",
            "Epoch 29/50\n",
            "623/623 [==============================] - 101s 161ms/step - loss: 0.6687 - val_loss: 0.4906\n",
            "Epoch 30/50\n",
            "623/623 [==============================] - 101s 161ms/step - loss: 0.6516 - val_loss: 0.4131\n",
            "Epoch 31/50\n",
            "623/623 [==============================] - 101s 161ms/step - loss: 0.6102 - val_loss: 0.3790\n",
            "Epoch 32/50\n",
            "623/623 [==============================] - 100s 160ms/step - loss: 0.6013 - val_loss: 0.3773\n",
            "Epoch 33/50\n",
            "623/623 [==============================] - 101s 161ms/step - loss: 0.5836 - val_loss: 0.3530\n",
            "Epoch 34/50\n",
            "623/623 [==============================] - 101s 161ms/step - loss: 0.5574 - val_loss: 0.3322\n",
            "Epoch 35/50\n",
            "623/623 [==============================] - 101s 161ms/step - loss: 0.5507 - val_loss: 0.3290\n",
            "Epoch 36/50\n",
            "623/623 [==============================] - 101s 161ms/step - loss: 0.5403 - val_loss: 0.3211\n",
            "Epoch 37/50\n",
            "623/623 [==============================] - 100s 160ms/step - loss: 0.5291 - val_loss: 0.3243\n",
            "Epoch 38/50\n",
            "623/623 [==============================] - 102s 162ms/step - loss: 0.5542 - val_loss: 0.3572\n",
            "Epoch 39/50\n",
            "623/623 [==============================] - 101s 161ms/step - loss: 0.5440 - val_loss: 0.3137\n",
            "Epoch 40/50\n",
            "623/623 [==============================] - 100s 160ms/step - loss: 0.5102 - val_loss: 0.2570\n",
            "Epoch 41/50\n",
            "623/623 [==============================] - 101s 161ms/step - loss: 0.4805 - val_loss: 0.2322\n",
            "Epoch 42/50\n",
            "623/623 [==============================] - 100s 161ms/step - loss: 0.4716 - val_loss: 0.2251\n",
            "Epoch 43/50\n",
            "623/623 [==============================] - 101s 161ms/step - loss: 0.4602 - val_loss: 0.3503\n",
            "Epoch 44/50\n",
            "623/623 [==============================] - 101s 162ms/step - loss: 0.4979 - val_loss: 0.2430\n",
            "Epoch 45/50\n",
            "623/623 [==============================] - 102s 164ms/step - loss: 0.4615 - val_loss: 0.2169\n",
            "Epoch 46/50\n",
            "623/623 [==============================] - 100s 160ms/step - loss: 0.4512 - val_loss: 0.1988\n",
            "Epoch 47/50\n",
            "623/623 [==============================] - 101s 161ms/step - loss: 0.4566 - val_loss: 0.1981\n",
            "Epoch 48/50\n",
            "623/623 [==============================] - 100s 161ms/step - loss: 0.5017 - val_loss: 0.4177\n",
            "Epoch 49/50\n",
            "623/623 [==============================] - 100s 160ms/step - loss: 0.4950 - val_loss: 0.2788\n",
            "Epoch 50/50\n",
            "623/623 [==============================] - 100s 160ms/step - loss: 0.4641 - val_loss: 0.2418\n"
          ]
        }
      ],
      "source": [
        "rank_model.compile(optimizer=tf.keras.optimizers.Adam(lr=1e-4), loss=binary_crossentropy)\n",
        "early_stop = tf.keras.callbacks.EarlyStopping(monitor='val_loss', patience=5)\n",
        "checkpoint = tf.keras.callbacks.ModelCheckpoint(\n",
        "    filepath='./rank_checkpoint/',\n",
        "    save_weights_only=True,\n",
        "    monitor='val_loss',\n",
        "    mode='min',\n",
        "    save_best_only=True\n",
        ")\n",
        "history = rank_model.fit(\n",
        "    x=train_data, \n",
        "    validation_data=valid_data,\n",
        "    epochs=NEPOCH,\n",
        "    callbacks=[early_stop,checkpoint]\n",
        ")"
      ]
    },
    {
      "cell_type": "code",
      "execution_count": 17,
      "metadata": {
        "colab": {
          "base_uri": "https://localhost:8080/"
        },
        "id": "w52A7cJ8hzgz",
        "outputId": "4337e256-f42a-4a01-e8f6-20b7a926cfe1"
      },
      "outputs": [
        {
          "output_type": "execute_result",
          "data": {
            "text/plain": [
              "<tensorflow.python.training.tracking.util.CheckpointLoadStatus at 0x7fe01a6fcb50>"
            ]
          },
          "metadata": {},
          "execution_count": 17
        }
      ],
      "source": [
        "rank_model.load_weights('./rank_checkpoint/')"
      ]
    },
    {
      "cell_type": "code",
      "execution_count": 18,
      "metadata": {
        "colab": {
          "base_uri": "https://localhost:8080/"
        },
        "id": "Fr61KpmewPuB",
        "outputId": "650c1296-9aa6-413f-8cb7-b86148783907"
      },
      "outputs": [
        {
          "output_type": "execute_result",
          "data": {
            "text/plain": [
              "5104"
            ]
          },
          "metadata": {},
          "execution_count": 18
        }
      ],
      "source": [
        "del train_data\n",
        "gc.collect()"
      ]
    },
    {
      "cell_type": "code",
      "execution_count": 19,
      "metadata": {
        "id": "zUQJ7IdLhzgz"
      },
      "outputs": [],
      "source": [
        "pred = rank_model.predict(test_data, batch_size=BATCH_SIZE)"
      ]
    },
    {
      "cell_type": "code",
      "execution_count": 20,
      "metadata": {
        "id": "SoCzRNuphzgz"
      },
      "outputs": [],
      "source": [
        "pred_df = pd.DataFrame(columns=['user_id','movie_id','pred'])\n",
        "pred_df['user_id'] = test_data['user_id']\n",
        "pred_df['movie_id'] = test_data['movie_id']\n",
        "pred_df['pred'] = pred\n",
        "\n",
        "pred_df = pred_df.sort_values(by=['user_id','pred'], ascending=False).reset_index(drop=True)\n",
        "pred_df = pred_df.groupby('user_id')['movie_id'].apply(list).reset_index()"
      ]
    },
    {
      "cell_type": "code",
      "execution_count": 21,
      "metadata": {
        "id": "rEQ9sQGjhzgz"
      },
      "outputs": [],
      "source": [
        "test_label_df = pd.DataFrame(columns=['user_id','label'])\n",
        "test_label_df['user_id'] = pd.Series(test_data['user_id']).drop_duplicates()\n",
        "test_label_df['label'] = test_label.tolist()"
      ]
    },
    {
      "cell_type": "code",
      "execution_count": 22,
      "metadata": {
        "id": "5T_uOn5Ohzgz"
      },
      "outputs": [],
      "source": [
        "test_label_df = pd.merge(test_label_df, pred_df, on=['user_id'], how='left')"
      ]
    },
    {
      "cell_type": "code",
      "execution_count": 23,
      "metadata": {
        "colab": {
          "base_uri": "https://localhost:8080/"
        },
        "id": "0HXT3XxAhzgz",
        "outputId": "102a109e-133e-4f2b-8e86-c2dbe05961c0"
      },
      "outputs": [
        {
          "output_type": "execute_result",
          "data": {
            "text/plain": [
              "0.01204114844204326"
            ]
          },
          "metadata": {},
          "execution_count": 23
        }
      ],
      "source": [
        "map_at_k(test_label_df['label'], test_label_df['movie_id'], k=10)"
      ]
    },
    {
      "cell_type": "code",
      "execution_count": 24,
      "metadata": {
        "colab": {
          "base_uri": "https://localhost:8080/"
        },
        "id": "HHzj8iJKhzgz",
        "outputId": "31f78440-9d47-4cde-97a1-6c193330adaa"
      },
      "outputs": [
        {
          "output_type": "execute_result",
          "data": {
            "text/plain": [
              "0.03381732230288705"
            ]
          },
          "metadata": {},
          "execution_count": 24
        }
      ],
      "source": [
        "recall_at_k(test_label_df['label'], test_label_df['movie_id'], k=10)"
      ]
    },
    {
      "cell_type": "code",
      "execution_count": 25,
      "metadata": {
        "colab": {
          "base_uri": "https://localhost:8080/"
        },
        "id": "y5L5ijkE-H1x",
        "outputId": "961eba57-fdc2-4ca2-8e12-67c976404226"
      },
      "outputs": [
        {
          "output_type": "execute_result",
          "data": {
            "text/plain": [
              "0.13670437278406214"
            ]
          },
          "metadata": {},
          "execution_count": 25
        }
      ],
      "source": [
        "recall_at_k(test_label_df['label'], test_label_df['movie_id'], k=100)"
      ]
    }
  ],
  "metadata": {
    "accelerator": "GPU",
    "colab": {
      "collapsed_sections": [],
      "name": "DIN.ipynb",
      "provenance": []
    },
    "interpreter": {
      "hash": "653a9876bfda977334bab0c6eac4e690c97044cb3c76993a10b084536ae29e50"
    },
    "kernelspec": {
      "display_name": "Python 3.8.5 ('base')",
      "language": "python",
      "name": "python3"
    },
    "language_info": {
      "codemirror_mode": {
        "name": "ipython",
        "version": 3
      },
      "file_extension": ".py",
      "mimetype": "text/x-python",
      "name": "python",
      "nbconvert_exporter": "python",
      "pygments_lexer": "ipython3",
      "version": "3.7.11"
    }
  },
  "nbformat": 4,
  "nbformat_minor": 0
}