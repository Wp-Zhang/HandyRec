{
  "cells": [
    {
      "cell_type": "markdown",
      "metadata": {
        "id": "FXD2RCXzuzMx"
      },
      "source": [
        "[![Open In Colab](https://colab.research.google.com/assets/colab-badge.svg)](https://colab.research.google.com/github/Wp-Zhang/HandyRec/blob/master/examples/DIN.ipynb)"
      ]
    },
    {
      "cell_type": "markdown",
      "metadata": {
        "id": "OJKT5uytzl7t"
      },
      "source": [
        "> This notebook runs DIN on MovieLens1M dataset. We'll use YouTubeDNN for generating candidates and DIN for ranking these candidates.\n",
        "\n",
        "> Only movies with ratings larger than 3 are treated as 'positive' samples for each user. Every last 10 'positive' movies of each user are held out for testing."
      ]
    },
    {
      "cell_type": "markdown",
      "metadata": {
        "id": "YtD_3eG3xekg"
      },
      "source": [
        "## Table of Contents:\n",
        "* [Prepare data for retrieval](#section-0)\n",
        "* [Train retrieve model and export embeddings](#section-1)\n",
        "* [Use Faiss to generate candidates](#section-2)\n",
        "* [Train rank model and predict](#section-3)"
      ]
    },
    {
      "cell_type": "markdown",
      "metadata": {
        "id": "XFTLC9SQzxK4"
      },
      "source": [
        "**Download dataset and install packages**"
      ]
    },
    {
      "cell_type": "code",
      "execution_count": 1,
      "metadata": {
        "colab": {
          "base_uri": "https://localhost:8080/"
        },
        "id": "WSk1WSSpvXfL",
        "outputId": "a759c69b-dc5d-4349-c369-2b060ad31b77"
      },
      "outputs": [
        {
          "output_type": "stream",
          "name": "stdout",
          "text": [
            "Cloning into 'HandyRec'...\n",
            "remote: Enumerating objects: 1704, done.\u001b[K\n",
            "remote: Counting objects: 100% (1704/1704), done.\u001b[K\n",
            "remote: Compressing objects: 100% (1269/1269), done.\u001b[K\n",
            "remote: Total 1704 (delta 682), reused 1309 (delta 383), pack-reused 0\u001b[K\n",
            "Receiving objects: 100% (1704/1704), 20.92 MiB | 24.51 MiB/s, done.\n",
            "Resolving deltas: 100% (682/682), done.\n",
            "Collecting faiss-cpu\n",
            "  Downloading faiss_cpu-1.7.2-cp37-cp37m-manylinux_2_17_x86_64.manylinux2014_x86_64.whl (8.6 MB)\n",
            "\u001b[K     |████████████████████████████████| 8.6 MB 13.2 MB/s \n",
            "\u001b[?25hInstalling collected packages: faiss-cpu\n",
            "Successfully installed faiss-cpu-1.7.2\n"
          ]
        }
      ],
      "source": [
        "! git clone https://github.com/Wp-Zhang/HandyRec.git\n",
        "! pip install faiss-cpu"
      ]
    },
    {
      "cell_type": "code",
      "execution_count": 2,
      "metadata": {
        "colab": {
          "base_uri": "https://localhost:8080/"
        },
        "id": "uiIqXdbUyCEi",
        "outputId": "53c9f6ec-db79-48d3-9bfb-bf4ec9851464"
      },
      "outputs": [
        {
          "output_type": "stream",
          "name": "stdout",
          "text": [
            "--2022-04-15 22:54:20--  https://files.grouplens.org/datasets/movielens/ml-1m.zip\n",
            "Resolving files.grouplens.org (files.grouplens.org)... 128.101.65.152\n",
            "Connecting to files.grouplens.org (files.grouplens.org)|128.101.65.152|:443... connected.\n",
            "HTTP request sent, awaiting response... 200 OK\n",
            "Length: 5917549 (5.6M) [application/zip]\n",
            "Saving to: ‘./ml-1m.zip’\n",
            "\n",
            "./ml-1m.zip         100%[===================>]   5.64M  27.1MB/s    in 0.2s    \n",
            "\n",
            "2022-04-15 22:54:21 (27.1 MB/s) - ‘./ml-1m.zip’ saved [5917549/5917549]\n",
            "\n",
            "Archive:  ml-1m.zip\n",
            "   creating: ml-1m/\n",
            "  inflating: ml-1m/movies.dat        \n",
            "  inflating: ml-1m/ratings.dat       \n",
            "  inflating: ml-1m/README            \n",
            "  inflating: ml-1m/users.dat         \n"
          ]
        }
      ],
      "source": [
        "! wget https://files.grouplens.org/datasets/movielens/ml-1m.zip -O ./ml-1m.zip\n",
        "! unzip -o ml-1m.zip"
      ]
    },
    {
      "cell_type": "markdown",
      "metadata": {
        "id": "gsUc0pRE0BEH"
      },
      "source": [
        "**Import relative packages**"
      ]
    },
    {
      "cell_type": "code",
      "execution_count": 3,
      "metadata": {
        "id": "PzbZZUXxvxvm"
      },
      "outputs": [],
      "source": [
        "import sys\n",
        "sys.path.append('./HandyRec/')"
      ]
    },
    {
      "cell_type": "code",
      "execution_count": 4,
      "metadata": {
        "id": "NlQtiTrmuzM3"
      },
      "outputs": [],
      "source": [
        "from handyrec.data.movielens import MovielensDataHelper\n",
        "from handyrec.data.utils import gen_sequence\n",
        "from handyrec.data import PointWiseDataset\n",
        "\n",
        "from handyrec.layers.utils import sampledsoftmaxloss\n",
        "from handyrec.models.retrieval import YouTubeMatchDNN\n",
        "from handyrec.models.ranking import DIN\n",
        "from handyrec.features import DenseFeature, SparseFeature, SparseSeqFeature, FeatureGroup, EmbdFeatureGroup, FeaturePool\n",
        "from handyrec.data.metrics import map_at_k, recall_at_k\n",
        "from handyrec.models.utils import search_embedding\n",
        "\n",
        "import tensorflow as tf\n",
        "from tensorflow.keras import Model\n",
        "from tensorflow.keras.losses import binary_crossentropy\n",
        "from tensorflow.keras.utils import plot_model\n",
        "import numpy as np\n",
        "import pandas as pd\n",
        "import gc"
      ]
    },
    {
      "cell_type": "code",
      "execution_count": 5,
      "metadata": {
        "id": "iYOxv7-auzM3"
      },
      "outputs": [],
      "source": [
        "import warnings\n",
        "warnings.filterwarnings('ignore')"
      ]
    },
    {
      "cell_type": "code",
      "execution_count": 6,
      "metadata": {
        "id": "W8jyTPiz8K13"
      },
      "outputs": [],
      "source": [
        "RETRIEVAL_EMBEDDING_DIM = 64\n",
        "RANK_EMBEDDING_DIM = 64\n",
        "SEQ_LEN = 40\n",
        "BATCH_SIZE = 2**12\n",
        "NEPOCH = 50\n",
        "\n",
        "TEST_NUM = 10\n",
        "VALID_RATIO = 0.1\n",
        "NEG_NUM = 10\n",
        "CANDIDATE_NUM = 100"
      ]
    },
    {
      "cell_type": "markdown",
      "metadata": {
        "id": "eee7ogIugZI1"
      },
      "source": [
        "**Load MovieLens1M data**"
      ]
    },
    {
      "cell_type": "code",
      "execution_count": 7,
      "metadata": {
        "colab": {
          "base_uri": "https://localhost:8080/"
        },
        "id": "bwNXcq6hgZI2",
        "outputId": "c1df8cdd-8c02-40e3-a30a-aed88798a47e"
      },
      "outputs": [
        {
          "output_type": "stream",
          "name": "stderr",
          "text": [
            "Encode User Sparse Feats: 100%|██████████| 4/4 [00:00<00:00, 159.83it/s]\n",
            "Encode Item Sparse Feats: 100%|██████████| 1/1 [00:00<00:00, 224.80it/s]\n",
            "Generate movie_id sequence: 100%|██████████| 6040/6040 [00:04<00:00, 1247.11it/s]\n"
          ]
        }
      ],
      "source": [
        "retrieve_dh = MovielensDataHelper('./ml-1m/')\n",
        "data = retrieve_dh.get_clean_data(sparse_features=['gender','occupation','zip','age','year'])\n",
        "data['inter']['hist_movie'] = gen_sequence(data['inter'], 'user_id', 'movie_id', SEQ_LEN)"
      ]
    },
    {
      "cell_type": "markdown",
      "metadata": {
        "id": "MXNUDnO_0VLl"
      },
      "source": [
        "# 0. Prepare data for retrieval<a name=\"section-0\"></a>"
      ]
    },
    {
      "cell_type": "code",
      "execution_count": 8,
      "metadata": {
        "id": "2gszyQDwgZI5"
      },
      "outputs": [],
      "source": [
        "user_features = ['user_id', 'gender', 'occupation']\n",
        "item_features = ['movie_id','genres']\n",
        "inter_features = ['hist_movie']"
      ]
    },
    {
      "cell_type": "code",
      "execution_count": 9,
      "metadata": {
        "colab": {
          "base_uri": "https://localhost:8080/"
        },
        "id": "wgw6prfluzM5",
        "outputId": "a3028060-2250-4cc0-e5f8-611dd9bedb85"
      },
      "outputs": [
        {
          "output_type": "stream",
          "name": "stderr",
          "text": [
            "Save user features: 100%|██████████| 3/3 [00:02<00:00,  1.30it/s]\n",
            "Save item features: 100%|██████████| 2/2 [00:01<00:00,  1.05it/s]\n",
            "Save inter features: 100%|██████████| 2/2 [00:03<00:00,  1.78s/it]\n"
          ]
        }
      ],
      "source": [
        "retrieval_dataset = PointWiseDataset(\n",
        "    \"RetrievalDataset\",\n",
        "    task=\"retrieval\",\n",
        "    data=data,\n",
        "    uid_name=\"user_id\",\n",
        "    iid_name=\"movie_id\",\n",
        "    inter_name=\"interact\",\n",
        "    time_name=\"timestamp\",\n",
        "    threshold=4,\n",
        ")\n",
        "\n",
        "retrieval_dataset.train_test_split(TEST_NUM)\n",
        "retrieval_dataset.train_valid_split(VALID_RATIO)\n",
        "retrieval_dataset.gen_dataset(user_features, item_features, inter_features, shuffle=False)"
      ]
    },
    {
      "cell_type": "code",
      "execution_count": 10,
      "metadata": {
        "colab": {
          "base_uri": "https://localhost:8080/"
        },
        "id": "nWhojvyKuzM7",
        "outputId": "4db99b3c-fe2c-40b1-bd51-ae34b14333e3"
      },
      "outputs": [
        {
          "output_type": "stream",
          "name": "stderr",
          "text": [
            "Load user features: 100%|██████████| 3/3 [00:02<00:00,  1.47it/s]\n",
            "Load item features: 100%|██████████| 2/2 [00:01<00:00,  1.45it/s]\n",
            "Load inter features: 100%|██████████| 2/2 [00:01<00:00,  1.40it/s]\n"
          ]
        }
      ],
      "source": [
        "train_data, valid_data, test_data, test_label = retrieval_dataset.load_dataset(\n",
        "    user_features, item_features, inter_features, BATCH_SIZE\n",
        ")"
      ]
    },
    {
      "cell_type": "code",
      "execution_count": 11,
      "metadata": {
        "id": "VJR1Ybd18t7g"
      },
      "outputs": [],
      "source": [
        "feature_dim = retrieval_dataset.get_feature_dim(user_features, item_features, [])"
      ]
    },
    {
      "cell_type": "markdown",
      "metadata": {
        "id": "wMAdJxpc0x1U"
      },
      "source": [
        "# 1. Train retrieve model and export embeddings <a name=\"section-1\"></a>"
      ]
    },
    {
      "cell_type": "code",
      "execution_count": 12,
      "metadata": {
        "id": "sR3E1PiPgZI9"
      },
      "outputs": [],
      "source": [
        "feat_pool1 = FeaturePool()"
      ]
    },
    {
      "cell_type": "code",
      "execution_count": 13,
      "metadata": {
        "id": "P7hlK1PCgZI9"
      },
      "outputs": [],
      "source": [
        "all_item_model_input = {f:np.array(data['item'][f].tolist()) for f in item_features}\n",
        "\n",
        "retrieve_item_features = [SparseFeature('movie_id', feature_dim['movie_id'], RETRIEVAL_EMBEDDING_DIM)] +\\\n",
        "                [SparseSeqFeature(SparseFeature('genre_id', 19, RETRIEVAL_EMBEDDING_DIM), 'genres',6)]\n",
        "item_feature_group = EmbdFeatureGroup(\n",
        "    name='item', \n",
        "    id_name='movie_id', \n",
        "    features=retrieve_item_features, \n",
        "    feature_pool=feat_pool1, \n",
        "    value_dict=all_item_model_input,\n",
        "    embd_dim=RETRIEVAL_EMBEDDING_DIM\n",
        ")"
      ]
    },
    {
      "cell_type": "code",
      "execution_count": 14,
      "metadata": {
        "id": "RmzV_6_NgZI-"
      },
      "outputs": [],
      "source": [
        "retrieve_user_features = [SparseFeature(x, feature_dim[x], RETRIEVAL_EMBEDDING_DIM) for x in user_features] +\\\n",
        "                [SparseSeqFeature(SparseFeature('movie_id', feature_dim['movie_id'], RETRIEVAL_EMBEDDING_DIM), 'hist_movie', SEQ_LEN)]\n",
        "user_feature_group = FeatureGroup('user', retrieve_user_features, feat_pool1)"
      ]
    },
    {
      "cell_type": "code",
      "execution_count": 15,
      "metadata": {
        "id": "lKURLYXkuzM-"
      },
      "outputs": [],
      "source": [
        "retrieve_model = YouTubeMatchDNN(\n",
        "    user_feature_group, item_feature_group,\n",
        "    dnn_hidden_units=(512,256,RETRIEVAL_EMBEDDING_DIM), \n",
        "    dnn_dropout=0.1,\n",
        "    dnn_bn=True,\n",
        "    num_sampled=CANDIDATE_NUM\n",
        ")"
      ]
    },
    {
      "cell_type": "code",
      "execution_count": 16,
      "metadata": {
        "colab": {
          "base_uri": "https://localhost:8080/",
          "height": 599
        },
        "id": "AQDtzo-4sw16",
        "outputId": "20c73ba9-e79d-4ff1-e77c-cf734f00dfe7"
      },
      "outputs": [
        {
          "output_type": "execute_result",
          "data": {
            "text/plain": [
              "<IPython.core.display.Image object>"
            ],
            "image/png": "[encoded data removed]"
          },
          "metadata": {},
          "execution_count": 16
        }
      ],
      "source": [
        "plot_model(retrieve_model)"
      ]
    },
    {
      "cell_type": "code",
      "execution_count": 17,
      "metadata": {
        "colab": {
          "base_uri": "https://localhost:8080/"
        },
        "id": "2xizKlTvuzM_",
        "outputId": "541c5437-c5db-462d-9fba-7968b746a67c"
      },
      "outputs": [
        {
          "output_type": "stream",
          "name": "stdout",
          "text": [
            "Epoch 1/50\n",
            "114/114 [==============================] - 10s 37ms/step - loss: 3.9437 - val_loss: 3.9070\n",
            "Epoch 2/50\n",
            "114/114 [==============================] - 4s 32ms/step - loss: 3.8213 - val_loss: 3.8941\n",
            "Epoch 3/50\n",
            "114/114 [==============================] - 4s 34ms/step - loss: 3.0544 - val_loss: 3.3654\n",
            "Epoch 4/50\n",
            "114/114 [==============================] - 4s 32ms/step - loss: 2.5058 - val_loss: 2.9170\n",
            "Epoch 5/50\n",
            "114/114 [==============================] - 4s 33ms/step - loss: 2.3097 - val_loss: 2.5709\n",
            "Epoch 6/50\n",
            "114/114 [==============================] - 4s 34ms/step - loss: 2.1591 - val_loss: 2.3047\n",
            "Epoch 7/50\n",
            "114/114 [==============================] - 4s 33ms/step - loss: 2.1436 - val_loss: 2.1971\n",
            "Epoch 8/50\n",
            "114/114 [==============================] - 4s 34ms/step - loss: 2.0509 - val_loss: 2.0743\n",
            "Epoch 9/50\n",
            "114/114 [==============================] - 4s 34ms/step - loss: 2.0212 - val_loss: 2.0176\n",
            "Epoch 10/50\n",
            "114/114 [==============================] - 4s 32ms/step - loss: 1.9405 - val_loss: 2.0790\n",
            "Epoch 11/50\n",
            "114/114 [==============================] - 4s 35ms/step - loss: 1.8834 - val_loss: 1.9342\n",
            "Epoch 12/50\n",
            "114/114 [==============================] - 4s 32ms/step - loss: 1.8699 - val_loss: 1.9456\n",
            "Epoch 13/50\n",
            "114/114 [==============================] - 4s 33ms/step - loss: 1.8046 - val_loss: 1.9814\n",
            "Epoch 14/50\n",
            "114/114 [==============================] - 4s 35ms/step - loss: 1.7932 - val_loss: 1.7443\n",
            "Epoch 15/50\n",
            "114/114 [==============================] - 4s 33ms/step - loss: 1.7223 - val_loss: 1.7244\n",
            "Epoch 16/50\n",
            "114/114 [==============================] - 4s 33ms/step - loss: 1.6594 - val_loss: 1.6514\n",
            "Epoch 17/50\n",
            "114/114 [==============================] - 4s 33ms/step - loss: 1.6454 - val_loss: 1.7370\n",
            "Epoch 18/50\n",
            "114/114 [==============================] - 4s 33ms/step - loss: 1.6009 - val_loss: 1.7008\n",
            "Epoch 19/50\n",
            "114/114 [==============================] - 4s 33ms/step - loss: 1.5530 - val_loss: 1.6269\n",
            "Epoch 20/50\n",
            "114/114 [==============================] - 4s 34ms/step - loss: 1.5078 - val_loss: 1.5392\n",
            "Epoch 21/50\n",
            "114/114 [==============================] - 4s 34ms/step - loss: 1.4798 - val_loss: 1.6250\n",
            "Epoch 22/50\n",
            "114/114 [==============================] - 4s 33ms/step - loss: 1.4643 - val_loss: 1.5601\n",
            "Epoch 23/50\n",
            "114/114 [==============================] - 4s 33ms/step - loss: 1.3980 - val_loss: 1.4164\n",
            "Epoch 24/50\n",
            "114/114 [==============================] - 4s 33ms/step - loss: 1.3533 - val_loss: 1.5133\n",
            "Epoch 25/50\n",
            "114/114 [==============================] - 4s 34ms/step - loss: 1.3314 - val_loss: 1.5257\n",
            "Epoch 26/50\n",
            "114/114 [==============================] - 4s 33ms/step - loss: 1.3367 - val_loss: 1.3620\n",
            "Epoch 27/50\n",
            "114/114 [==============================] - 4s 32ms/step - loss: 1.2957 - val_loss: 1.3763\n",
            "Epoch 28/50\n",
            "114/114 [==============================] - 4s 33ms/step - loss: 1.2605 - val_loss: 1.3683\n",
            "Epoch 29/50\n",
            "114/114 [==============================] - 4s 32ms/step - loss: 1.2079 - val_loss: 1.3628\n",
            "Epoch 30/50\n",
            "114/114 [==============================] - 4s 34ms/step - loss: 1.2159 - val_loss: 1.2991\n",
            "Epoch 31/50\n",
            "114/114 [==============================] - 4s 35ms/step - loss: 1.1855 - val_loss: 1.3219\n",
            "Epoch 32/50\n",
            "114/114 [==============================] - 4s 33ms/step - loss: 1.1534 - val_loss: 1.3512\n",
            "Epoch 33/50\n",
            "114/114 [==============================] - 4s 33ms/step - loss: 1.1383 - val_loss: 1.2184\n",
            "Epoch 34/50\n",
            "114/114 [==============================] - 4s 33ms/step - loss: 1.1086 - val_loss: 1.1939\n",
            "Epoch 35/50\n",
            "114/114 [==============================] - 4s 33ms/step - loss: 1.0717 - val_loss: 1.2458\n",
            "Epoch 36/50\n",
            "114/114 [==============================] - 4s 32ms/step - loss: 1.0397 - val_loss: 1.2063\n",
            "Epoch 37/50\n",
            "114/114 [==============================] - 4s 33ms/step - loss: 1.0425 - val_loss: 1.1997\n",
            "Epoch 38/50\n",
            "114/114 [==============================] - 4s 32ms/step - loss: 1.0220 - val_loss: 1.2368\n",
            "Epoch 39/50\n",
            "114/114 [==============================] - 4s 33ms/step - loss: 1.0205 - val_loss: 1.1125\n",
            "Epoch 40/50\n",
            "114/114 [==============================] - 4s 32ms/step - loss: 0.9841 - val_loss: 1.1863\n",
            "Epoch 41/50\n",
            "114/114 [==============================] - 4s 35ms/step - loss: 0.9596 - val_loss: 1.0744\n",
            "Epoch 42/50\n",
            "114/114 [==============================] - 4s 33ms/step - loss: 0.9658 - val_loss: 1.1168\n",
            "Epoch 43/50\n",
            "114/114 [==============================] - 4s 33ms/step - loss: 0.9486 - val_loss: 1.1030\n",
            "Epoch 44/50\n",
            "114/114 [==============================] - 4s 34ms/step - loss: 0.8978 - val_loss: 1.0661\n",
            "Epoch 45/50\n",
            "114/114 [==============================] - 4s 33ms/step - loss: 0.8941 - val_loss: 1.0201\n",
            "Epoch 46/50\n",
            "114/114 [==============================] - 4s 34ms/step - loss: 0.8851 - val_loss: 1.0179\n",
            "Epoch 47/50\n",
            "114/114 [==============================] - 4s 33ms/step - loss: 0.8648 - val_loss: 0.9850\n",
            "Epoch 48/50\n",
            "114/114 [==============================] - 4s 33ms/step - loss: 0.8798 - val_loss: 0.9713\n",
            "Epoch 49/50\n",
            "114/114 [==============================] - 4s 37ms/step - loss: 0.8434 - val_loss: 0.9140\n",
            "Epoch 50/50\n",
            "114/114 [==============================] - 4s 33ms/step - loss: 0.8429 - val_loss: 0.9567\n"
          ]
        }
      ],
      "source": [
        "retrieve_model.compile(optimizer=tf.keras.optimizers.Adam(lr=1e-4), loss=sampledsoftmaxloss)\n",
        "early_stop = tf.keras.callbacks.EarlyStopping(monitor='val_loss', patience=20)\n",
        "checkpoint = tf.keras.callbacks.ModelCheckpoint(\n",
        "    filepath='./retrieve_checkpoint/',\n",
        "    save_weights_only=True,\n",
        "    monitor='val_loss',\n",
        "    mode='min',\n",
        "    save_best_only=True\n",
        ")\n",
        "history = retrieve_model.fit(\n",
        "    x=train_data,\n",
        "    validation_data=valid_data,\n",
        "    epochs=NEPOCH,\n",
        "    callbacks=[early_stop, checkpoint],\n",
        ")"
      ]
    },
    {
      "cell_type": "code",
      "execution_count": 18,
      "metadata": {
        "colab": {
          "base_uri": "https://localhost:8080/"
        },
        "id": "AGebkIE0uzM_",
        "outputId": "2027c182-dfec-4b8c-9ef4-d3714a79b7f4"
      },
      "outputs": [
        {
          "output_type": "execute_result",
          "data": {
            "text/plain": [
              "<tensorflow.python.training.tracking.util.CheckpointLoadStatus at 0x7f76149fff50>"
            ]
          },
          "metadata": {},
          "execution_count": 18
        }
      ],
      "source": [
        "retrieve_model.load_weights('./retrieve_checkpoint/')"
      ]
    },
    {
      "cell_type": "code",
      "execution_count": 19,
      "metadata": {
        "colab": {
          "base_uri": "https://localhost:8080/"
        },
        "id": "G9AxEdKbuzM_",
        "outputId": "a174b5f7-77d2-4666-f112-b43f648101ec"
      },
      "outputs": [
        {
          "output_type": "stream",
          "name": "stdout",
          "text": [
            "(5923, 64)\n",
            "(3883, 64)\n"
          ]
        }
      ],
      "source": [
        "user_embedding_model = Model(inputs=retrieve_model.user_input, outputs=retrieve_model.user_embedding)\n",
        "item_embedding_model = Model(inputs=retrieve_model.item_input, outputs=retrieve_model.item_embedding)\n",
        "\n",
        "user_embs = user_embedding_model.predict(test_data, batch_size=2 ** 15)\n",
        "item_embs = item_embedding_model.predict(all_item_model_input, batch_size=2 ** 15)\n",
        "\n",
        "print(user_embs.shape)\n",
        "print(item_embs.shape)"
      ]
    },
    {
      "cell_type": "markdown",
      "metadata": {
        "id": "UJ49Jxnf0-1O"
      },
      "source": [
        "# 2. Use Faiss to generate candidates <a name=\"section-2\"></a>"
      ]
    },
    {
      "cell_type": "markdown",
      "metadata": {
        "id": "qEAI8Rl7hzgv"
      },
      "source": [
        "## Test retrieve model"
      ]
    },
    {
      "cell_type": "code",
      "execution_count": 20,
      "metadata": {
        "id": "cr39MwzduzNA"
      },
      "outputs": [],
      "source": [
        "candidates = search_embedding(\n",
        "    RETRIEVAL_EMBEDDING_DIM, \n",
        "    item_embs, \n",
        "    user_embs,\n",
        "    data['item']['movie_id'].values,\n",
        "    CANDIDATE_NUM)"
      ]
    },
    {
      "cell_type": "code",
      "execution_count": 21,
      "metadata": {
        "colab": {
          "base_uri": "https://localhost:8080/"
        },
        "id": "ZLc_JPubuzNB",
        "outputId": "0f7ac21b-a5ec-4d13-bea5-b78c1de4705d"
      },
      "outputs": [
        {
          "output_type": "execute_result",
          "data": {
            "text/plain": [
              "0.011312806680441325"
            ]
          },
          "metadata": {},
          "execution_count": 21
        }
      ],
      "source": [
        "map_at_k(test_label, candidates, k=10)"
      ]
    },
    {
      "cell_type": "code",
      "execution_count": 22,
      "metadata": {
        "colab": {
          "base_uri": "https://localhost:8080/"
        },
        "id": "kap-zVgguzNC",
        "outputId": "bc01cd6c-f3df-40fd-a60d-fc5604ab54cd"
      },
      "outputs": [
        {
          "output_type": "execute_result",
          "data": {
            "text/plain": [
              "0.030761438460239748"
            ]
          },
          "metadata": {},
          "execution_count": 22
        }
      ],
      "source": [
        "recall_at_k(test_label, candidates, k=10)"
      ]
    },
    {
      "cell_type": "code",
      "execution_count": 23,
      "metadata": {
        "colab": {
          "base_uri": "https://localhost:8080/"
        },
        "id": "WyU4hfCihzgw",
        "outputId": "477f5373-4e0a-4c14-9397-5daca62ed00a"
      },
      "outputs": [
        {
          "output_type": "execute_result",
          "data": {
            "text/plain": [
              "0.13785243964207328"
            ]
          },
          "metadata": {},
          "execution_count": 23
        }
      ],
      "source": [
        "recall_at_k(test_label, candidates, k=100)"
      ]
    },
    {
      "cell_type": "markdown",
      "metadata": {
        "id": "l9L5duhQhzgw"
      },
      "source": [
        "## Prepare data for ranking"
      ]
    },
    {
      "cell_type": "code",
      "execution_count": 24,
      "metadata": {
        "id": "XpXydY19hzgx"
      },
      "outputs": [],
      "source": [
        "test_user_embs = user_embedding_model.predict(test_data, batch_size=2 ** 15)\n",
        "test_candidates = search_embedding(\n",
        "    RETRIEVAL_EMBEDDING_DIM, \n",
        "    item_embs, \n",
        "    test_user_embs,\n",
        "    data['item']['movie_id'].values,\n",
        "    CANDIDATE_NUM)\n",
        "\n",
        "test_candidates = {\n",
        "    test_data['user_id'][i] : test_candidates[i]\n",
        "    for i in range(test_candidates.shape[0])\n",
        "}"
      ]
    },
    {
      "cell_type": "code",
      "execution_count": 25,
      "metadata": {
        "colab": {
          "base_uri": "https://localhost:8080/"
        },
        "id": "yynuwvUppia6",
        "outputId": "775c6630-47a4-4e72-f3d8-f3dbd149bc18"
      },
      "outputs": [
        {
          "output_type": "execute_result",
          "data": {
            "text/plain": [
              "8879"
            ]
          },
          "metadata": {},
          "execution_count": 25
        }
      ],
      "source": [
        "del user_embs, item_embs, train_data, test_user_embs\n",
        "gc.collect()"
      ]
    },
    {
      "cell_type": "code",
      "execution_count": 26,
      "metadata": {
        "id": "hgGAvx-lgZJF"
      },
      "outputs": [],
      "source": [
        "user_features = ['user_id', 'gender', 'occupation', 'zip', 'age']\n",
        "item_features = ['movie_id', 'year', 'genres']\n",
        "inter_features = ['hist_movie']"
      ]
    },
    {
      "cell_type": "code",
      "execution_count": 27,
      "metadata": {
        "colab": {
          "base_uri": "https://localhost:8080/"
        },
        "id": "LHhcEiY_gZJG",
        "outputId": "f3bd2484-303e-448c-f092-f0bc04354cbf"
      },
      "outputs": [
        {
          "output_type": "stream",
          "name": "stderr",
          "text": [
            "Generate negative samples: 100%|██████████| 5923/5923 [00:08<00:00, 713.13it/s]\n",
            "Regenerate test set: 100%|██████████| 5923/5923 [00:00<00:00, 786042.16it/s]\n",
            "Save user features: 100%|██████████| 5/5 [00:32<00:00,  6.46s/it]\n",
            "Save item features: 100%|██████████| 3/3 [00:27<00:00,  9.06s/it]\n",
            "Save inter features: 100%|██████████| 2/2 [00:37<00:00, 18.62s/it]\n"
          ]
        }
      ],
      "source": [
        "ranking_dataset = PointWiseDataset(\n",
        "    \"RankingDataset\",\n",
        "    task=\"ranking\",\n",
        "    data=data,\n",
        "    uid_name=\"user_id\",\n",
        "    iid_name=\"movie_id\",\n",
        "    inter_name=\"interact\",\n",
        "    time_name=\"timestamp\",\n",
        "    threshold=4,\n",
        ")\n",
        "\n",
        "ranking_dataset.train_test_split(TEST_NUM)\n",
        "ranking_dataset.negative_sampling(NEG_NUM)\n",
        "ranking_dataset.train_valid_split(VALID_RATIO)\n",
        "ranking_dataset.gen_dataset(user_features, item_features, inter_features, test_candidates)"
      ]
    },
    {
      "cell_type": "code",
      "execution_count": 28,
      "metadata": {
        "colab": {
          "base_uri": "https://localhost:8080/"
        },
        "id": "4wQASPHrhzgx",
        "outputId": "d9a15c73-7db3-4ace-f6cf-bcd77ea85e6f"
      },
      "outputs": [
        {
          "output_type": "stream",
          "name": "stderr",
          "text": [
            "Load user features: 100%|██████████| 5/5 [00:03<00:00,  1.39it/s]\n",
            "Load item features: 100%|██████████| 3/3 [00:02<00:00,  1.30it/s]\n",
            "Load inter features: 100%|██████████| 2/2 [00:02<00:00,  1.02s/it]\n"
          ]
        }
      ],
      "source": [
        "train_data, valid_data, test_data, test_label = ranking_dataset.load_dataset(\n",
        "    user_features, item_features, inter_features, BATCH_SIZE*2\n",
        ")"
      ]
    },
    {
      "cell_type": "code",
      "execution_count": 29,
      "metadata": {
        "id": "of_PY0kv9UZx"
      },
      "outputs": [],
      "source": [
        "feature_dim = ranking_dataset.get_feature_dim(user_features, item_features, [])"
      ]
    },
    {
      "cell_type": "markdown",
      "metadata": {
        "id": "kyApc4cJhzgy"
      },
      "source": [
        "# 3. Train rank model and predict <a name=\"section-3\"></a>"
      ]
    },
    {
      "cell_type": "code",
      "execution_count": 30,
      "metadata": {
        "id": "7tSWHejxBULW"
      },
      "outputs": [],
      "source": [
        "feat_pool2 = FeaturePool()"
      ]
    },
    {
      "cell_type": "code",
      "execution_count": 31,
      "metadata": {
        "id": "SDQ8c3fHbq_G"
      },
      "outputs": [],
      "source": [
        "rank_item_seq_features = [SparseSeqFeature(SparseFeature('movie_id', feature_dim['movie_id'], RANK_EMBEDDING_DIM), 'hist_movie', SEQ_LEN)]\n",
        "item_seq_feat_group = FeatureGroup('item_seq', rank_item_seq_features, feat_pool2)"
      ]
    },
    {
      "cell_type": "code",
      "execution_count": 32,
      "metadata": {
        "id": "xkAkRxcjbq_G"
      },
      "outputs": [],
      "source": [
        "rank_other_feats = [SparseFeature(x, feature_dim[x], RANK_EMBEDDING_DIM) for x in user_features + item_features[:-1]] +\\\n",
        "                [SparseSeqFeature(SparseFeature('genre_id', 19, RANK_EMBEDDING_DIM), 'genres',6)]\n",
        "other_feature_group = FeatureGroup('user', rank_other_feats, feat_pool2)"
      ]
    },
    {
      "cell_type": "code",
      "execution_count": 33,
      "metadata": {
        "id": "_uvYZtxBhzgy"
      },
      "outputs": [],
      "source": [
        "rank_model = DIN(\n",
        "    item_seq_feat_group, other_feature_group, \n",
        "    dnn_hidden_units=(256,128,1), dnn_activation='dice', dnn_dropout=0.2, l2_dnn=0.2, dnn_bn=True,\n",
        "    lau_dnn_hidden_units=(36,1), lau_dnn_activation='dice', lau_dnn_dropout=0., lau_l2_dnn=0.2, lau_dnn_bn=False,\n",
        ")"
      ]
    },
    {
      "cell_type": "code",
      "execution_count": 34,
      "metadata": {
        "colab": {
          "base_uri": "https://localhost:8080/",
          "height": 433
        },
        "id": "huHdcNW5s3ih",
        "outputId": "84f4a820-e682-450c-f45e-c35c8f8b766f"
      },
      "outputs": [
        {
          "output_type": "execute_result",
          "data": {
            "text/plain": [
              "<IPython.core.display.Image object>"
            ],
            "image/png": "[encoded data removed]"
          },
          "metadata": {},
          "execution_count": 34
        }
      ],
      "source": [
        "plot_model(rank_model)"
      ]
    },
    {
      "cell_type": "code",
      "execution_count": 35,
      "metadata": {
        "colab": {
          "base_uri": "https://localhost:8080/"
        },
        "id": "H8l7JU3phzgy",
        "outputId": "0c80e5d1-7f83-4fdc-df97-295dfbf03c1b"
      },
      "outputs": [
        {
          "output_type": "stream",
          "name": "stdout",
          "text": [
            "Epoch 1/50\n",
            "623/623 [==============================] - 170s 266ms/step - loss: 199.0790 - val_loss: 131.5712\n",
            "Epoch 2/50\n",
            "623/623 [==============================] - 169s 270ms/step - loss: 89.8292 - val_loss: 56.5621\n",
            "Epoch 3/50\n",
            "623/623 [==============================] - 169s 270ms/step - loss: 38.0922 - val_loss: 23.2930\n",
            "Epoch 4/50\n",
            "623/623 [==============================] - 170s 272ms/step - loss: 15.8574 - val_loss: 9.6721\n",
            "Epoch 5/50\n",
            "623/623 [==============================] - 170s 273ms/step - loss: 6.8854 - val_loss: 4.0774\n",
            "Epoch 6/50\n",
            "623/623 [==============================] - 170s 272ms/step - loss: 3.2631 - val_loss: 2.6064\n",
            "Epoch 7/50\n",
            "623/623 [==============================] - 171s 273ms/step - loss: 2.0878 - val_loss: 1.3921\n",
            "Epoch 8/50\n",
            "623/623 [==============================] - 169s 270ms/step - loss: 1.3585 - val_loss: 0.7915\n",
            "Epoch 9/50\n",
            "623/623 [==============================] - 169s 270ms/step - loss: 0.8987 - val_loss: 0.6171\n",
            "Epoch 10/50\n",
            "623/623 [==============================] - 169s 271ms/step - loss: 0.8246 - val_loss: 0.5105\n",
            "Epoch 11/50\n",
            "623/623 [==============================] - 170s 272ms/step - loss: 0.8159 - val_loss: 0.5774\n",
            "Epoch 12/50\n",
            "623/623 [==============================] - 171s 273ms/step - loss: 0.7236 - val_loss: 0.4060\n",
            "Epoch 13/50\n",
            "623/623 [==============================] - 170s 273ms/step - loss: 0.6943 - val_loss: 0.4067\n",
            "Epoch 14/50\n",
            "623/623 [==============================] - 171s 273ms/step - loss: 0.6833 - val_loss: 0.4170\n",
            "Epoch 15/50\n",
            "623/623 [==============================] - 170s 273ms/step - loss: 0.6412 - val_loss: 0.7898\n",
            "Epoch 16/50\n",
            "623/623 [==============================] - 170s 273ms/step - loss: 0.7315 - val_loss: 0.4179\n",
            "Epoch 17/50\n",
            "623/623 [==============================] - 171s 273ms/step - loss: 0.6024 - val_loss: 0.3511\n",
            "Epoch 18/50\n",
            "623/623 [==============================] - 170s 273ms/step - loss: 0.6270 - val_loss: 0.3803\n",
            "Epoch 19/50\n",
            "623/623 [==============================] - 171s 273ms/step - loss: 0.5918 - val_loss: 0.3251\n",
            "Epoch 20/50\n",
            "623/623 [==============================] - 171s 273ms/step - loss: 0.5717 - val_loss: 0.3912\n",
            "Epoch 21/50\n",
            "623/623 [==============================] - 171s 273ms/step - loss: 0.5869 - val_loss: 0.3030\n",
            "Epoch 22/50\n",
            "623/623 [==============================] - 171s 273ms/step - loss: 0.6694 - val_loss: 0.3766\n",
            "Epoch 23/50\n",
            "623/623 [==============================] - 169s 270ms/step - loss: 0.5962 - val_loss: 0.3106\n",
            "Epoch 24/50\n",
            "623/623 [==============================] - 169s 271ms/step - loss: 0.5361 - val_loss: 0.2853\n",
            "Epoch 25/50\n",
            "623/623 [==============================] - 171s 273ms/step - loss: 0.5989 - val_loss: 0.4254\n",
            "Epoch 26/50\n",
            "623/623 [==============================] - 170s 273ms/step - loss: 0.6233 - val_loss: 0.3942\n",
            "Epoch 27/50\n",
            "623/623 [==============================] - 170s 273ms/step - loss: 0.5544 - val_loss: 0.2897\n",
            "Epoch 28/50\n",
            "623/623 [==============================] - 171s 273ms/step - loss: 0.5164 - val_loss: 0.2825\n",
            "Epoch 29/50\n",
            "623/623 [==============================] - 171s 273ms/step - loss: 0.5698 - val_loss: 0.4406\n",
            "Epoch 30/50\n",
            "623/623 [==============================] - 172s 275ms/step - loss: 0.5823 - val_loss: 0.2969\n",
            "Epoch 31/50\n",
            "623/623 [==============================] - 171s 273ms/step - loss: 0.6008 - val_loss: 0.3213\n",
            "Epoch 32/50\n",
            "623/623 [==============================] - 172s 275ms/step - loss: 0.5623 - val_loss: 0.2941\n",
            "Epoch 33/50\n",
            "623/623 [==============================] - 172s 275ms/step - loss: 0.5268 - val_loss: 0.2727\n",
            "Epoch 34/50\n",
            "623/623 [==============================] - 170s 273ms/step - loss: 0.5400 - val_loss: 0.6752\n",
            "Epoch 35/50\n",
            "623/623 [==============================] - 171s 274ms/step - loss: 0.5886 - val_loss: 0.2897\n",
            "Epoch 36/50\n",
            "623/623 [==============================] - 171s 274ms/step - loss: 0.5094 - val_loss: 0.2812\n",
            "Epoch 37/50\n",
            "623/623 [==============================] - 170s 272ms/step - loss: 0.5488 - val_loss: 0.3625\n",
            "Epoch 38/50\n",
            "623/623 [==============================] - 170s 272ms/step - loss: 0.5340 - val_loss: 0.2806\n"
          ]
        }
      ],
      "source": [
        "rank_model.compile(optimizer=tf.keras.optimizers.Adam(lr=1e-4), loss=binary_crossentropy)\n",
        "early_stop = tf.keras.callbacks.EarlyStopping(monitor='val_loss', patience=5)\n",
        "checkpoint = tf.keras.callbacks.ModelCheckpoint(\n",
        "    filepath='./rank_checkpoint/',\n",
        "    save_weights_only=True,\n",
        "    monitor='val_loss',\n",
        "    mode='min',\n",
        "    save_best_only=True\n",
        ")\n",
        "history = rank_model.fit(\n",
        "    x=train_data, \n",
        "    validation_data=valid_data,\n",
        "    epochs=NEPOCH,\n",
        "    callbacks=[early_stop,checkpoint]\n",
        ")"
      ]
    },
    {
      "cell_type": "code",
      "execution_count": 36,
      "metadata": {
        "colab": {
          "base_uri": "https://localhost:8080/"
        },
        "id": "w52A7cJ8hzgz",
        "outputId": "265c0393-41b7-4465-9bc1-dceb7a7c95df"
      },
      "outputs": [
        {
          "output_type": "execute_result",
          "data": {
            "text/plain": [
              "<tensorflow.python.training.tracking.util.CheckpointLoadStatus at 0x7f766ec3c550>"
            ]
          },
          "metadata": {},
          "execution_count": 36
        }
      ],
      "source": [
        "rank_model.load_weights('./rank_checkpoint/')"
      ]
    },
    {
      "cell_type": "code",
      "execution_count": 37,
      "metadata": {
        "colab": {
          "base_uri": "https://localhost:8080/"
        },
        "id": "Fr61KpmewPuB",
        "outputId": "f63535d7-8dd6-4be9-af12-607989f88cd0"
      },
      "outputs": [
        {
          "output_type": "execute_result",
          "data": {
            "text/plain": [
              "9320"
            ]
          },
          "metadata": {},
          "execution_count": 37
        }
      ],
      "source": [
        "del train_data\n",
        "gc.collect()"
      ]
    },
    {
      "cell_type": "code",
      "execution_count": 38,
      "metadata": {
        "id": "zUQJ7IdLhzgz"
      },
      "outputs": [],
      "source": [
        "pred = rank_model.predict(test_data, batch_size=BATCH_SIZE)"
      ]
    },
    {
      "cell_type": "code",
      "execution_count": 39,
      "metadata": {
        "id": "SoCzRNuphzgz"
      },
      "outputs": [],
      "source": [
        "pred_df = pd.DataFrame(columns=['user_id','movie_id','pred'])\n",
        "pred_df['user_id'] = test_data['user_id']\n",
        "pred_df['movie_id'] = test_data['movie_id']\n",
        "pred_df['pred'] = pred\n",
        "\n",
        "pred_df = pred_df.sort_values(by=['user_id','pred'], ascending=False).reset_index(drop=True)\n",
        "pred_df = pred_df.groupby('user_id')['movie_id'].apply(list).reset_index()"
      ]
    },
    {
      "cell_type": "code",
      "execution_count": 40,
      "metadata": {
        "id": "rEQ9sQGjhzgz"
      },
      "outputs": [],
      "source": [
        "test_label_df = pd.DataFrame(columns=['user_id','label'])\n",
        "test_label_df['user_id'] = pd.Series(test_data['user_id']).drop_duplicates()\n",
        "test_label_df['label'] = test_label.tolist()"
      ]
    },
    {
      "cell_type": "code",
      "execution_count": 41,
      "metadata": {
        "id": "5T_uOn5Ohzgz"
      },
      "outputs": [],
      "source": [
        "test_label_df = pd.merge(test_label_df, pred_df, on=['user_id'], how='left')"
      ]
    },
    {
      "cell_type": "code",
      "execution_count": 42,
      "metadata": {
        "colab": {
          "base_uri": "https://localhost:8080/"
        },
        "id": "0HXT3XxAhzgz",
        "outputId": "f812f2f7-9baf-4363-87cf-1bc499fa634b"
      },
      "outputs": [
        {
          "output_type": "execute_result",
          "data": {
            "text/plain": [
              "0.01098307244559144"
            ]
          },
          "metadata": {},
          "execution_count": 42
        }
      ],
      "source": [
        "map_at_k(test_label_df['label'], test_label_df['movie_id'], k=10)"
      ]
    },
    {
      "cell_type": "code",
      "execution_count": 43,
      "metadata": {
        "colab": {
          "base_uri": "https://localhost:8080/"
        },
        "id": "HHzj8iJKhzgz",
        "outputId": "31455574-feb1-4ccc-ea26-eea951eb42e5"
      },
      "outputs": [
        {
          "output_type": "execute_result",
          "data": {
            "text/plain": [
              "0.03133547188924531"
            ]
          },
          "metadata": {},
          "execution_count": 43
        }
      ],
      "source": [
        "recall_at_k(test_label_df['label'], test_label_df['movie_id'], k=10)"
      ]
    },
    {
      "cell_type": "code",
      "execution_count": 44,
      "metadata": {
        "colab": {
          "base_uri": "https://localhost:8080/"
        },
        "id": "y5L5ijkE-H1x",
        "outputId": "1944a85d-1eea-41e0-ef7a-47098ebe2036"
      },
      "outputs": [
        {
          "output_type": "execute_result",
          "data": {
            "text/plain": [
              "0.13785243964207328"
            ]
          },
          "metadata": {},
          "execution_count": 44
        }
      ],
      "source": [
        "recall_at_k(test_label_df['label'], test_label_df['movie_id'], k=100)"
      ]
    }
  ],
  "metadata": {
    "accelerator": "GPU",
    "colab": {
      "collapsed_sections": [],
      "name": "DIN.ipynb",
      "provenance": []
    },
    "interpreter": {
      "hash": "653a9876bfda977334bab0c6eac4e690c97044cb3c76993a10b084536ae29e50"
    },
    "kernelspec": {
      "display_name": "Python 3.8.5 ('base')",
      "language": "python",
      "name": "python3"
    },
    "language_info": {
      "codemirror_mode": {
        "name": "ipython",
        "version": 3
      },
      "file_extension": ".py",
      "mimetype": "text/x-python",
      "name": "python",
      "nbconvert_exporter": "python",
      "pygments_lexer": "ipython3",
      "version": "3.7.11"
    }
  },
  "nbformat": 4,
  "nbformat_minor": 0
}