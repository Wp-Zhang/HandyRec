{
  "cells": [
    {
      "cell_type": "markdown",
      "metadata": {
        "id": "FXD2RCXzuzMx"
      },
      "source": [
        "[![Open In Colab](https://colab.research.google.com/assets/colab-badge.svg)](https://colab.research.google.com/github/googlecolab/colabtools/blob/master/notebooks/colab-github-demo.ipynb)"
      ]
    },
    {
      "cell_type": "markdown",
      "source": [
        "> This notebook runs YouTubeDNN on MovieLens dataset."
      ],
      "metadata": {
        "id": "OJKT5uytzl7t"
      }
    },
    {
      "cell_type": "markdown",
      "source": [
        "# Download dataset and install packages"
      ],
      "metadata": {
        "id": "XFTLC9SQzxK4"
      }
    },
    {
      "cell_type": "code",
      "source": [
        "!git clone https://github.com/Wp-Zhang/HandyRec.git\n",
        "! pip install faiss-cpu"
      ],
      "metadata": {
        "colab": {
          "base_uri": "https://localhost:8080/"
        },
        "id": "WSk1WSSpvXfL",
        "outputId": "74f0fafc-dee7-4c1f-8f4a-d6ed6d0507cc"
      },
      "execution_count": 1,
      "outputs": [
        {
          "output_type": "stream",
          "name": "stdout",
          "text": [
            "Cloning into 'HandyRec'...\n",
            "remote: Enumerating objects: 84, done.\u001b[K\n",
            "remote: Counting objects: 100% (84/84), done.\u001b[K\n",
            "remote: Compressing objects: 100% (63/63), done.\u001b[K\n",
            "remote: Total 84 (delta 24), reused 66 (delta 9), pack-reused 0\u001b[K\n",
            "Unpacking objects: 100% (84/84), done.\n",
            "Collecting faiss-cpu\n",
            "  Downloading faiss_cpu-1.7.2-cp37-cp37m-manylinux_2_17_x86_64.manylinux2014_x86_64.whl (8.6 MB)\n",
            "\u001b[K     |████████████████████████████████| 8.6 MB 14.4 MB/s \n",
            "\u001b[?25hInstalling collected packages: faiss-cpu\n",
            "Successfully installed faiss-cpu-1.7.2\n"
          ]
        }
      ]
    },
    {
      "cell_type": "code",
      "source": [
        "! wget http://files.grouplens.org/datasets/movielens/ml-1m.zip -O ./ml-1m.zip\n",
        "! unzip -o ml-1m.zip"
      ],
      "metadata": {
        "colab": {
          "base_uri": "https://localhost:8080/"
        },
        "id": "uiIqXdbUyCEi",
        "outputId": "01a96ace-6e4e-494c-a5be-94ac67bf9d95"
      },
      "execution_count": 2,
      "outputs": [
        {
          "output_type": "stream",
          "name": "stdout",
          "text": [
            "--2022-03-10 22:51:22--  http://files.grouplens.org/datasets/movielens/ml-1m.zip\n",
            "Resolving files.grouplens.org (files.grouplens.org)... 128.101.65.152\n",
            "Connecting to files.grouplens.org (files.grouplens.org)|128.101.65.152|:80... connected.\n",
            "HTTP request sent, awaiting response... 200 OK\n",
            "Length: 5917549 (5.6M) [application/zip]\n",
            "Saving to: ‘./ml-1m.zip’\n",
            "\n",
            "./ml-1m.zip         100%[===================>]   5.64M  6.83MB/s    in 0.8s    \n",
            "\n",
            "2022-03-10 22:51:24 (6.83 MB/s) - ‘./ml-1m.zip’ saved [5917549/5917549]\n",
            "\n",
            "Archive:  ml-1m.zip\n",
            "   creating: ml-1m/\n",
            "  inflating: ml-1m/movies.dat        \n",
            "  inflating: ml-1m/ratings.dat       \n",
            "  inflating: ml-1m/README            \n",
            "  inflating: ml-1m/users.dat         \n"
          ]
        }
      ]
    },
    {
      "cell_type": "markdown",
      "source": [
        "# Import relative packages"
      ],
      "metadata": {
        "id": "gsUc0pRE0BEH"
      }
    },
    {
      "cell_type": "code",
      "source": [
        "import sys\n",
        "sys.path.append('./HandyRec/')"
      ],
      "metadata": {
        "id": "PzbZZUXxvxvm"
      },
      "execution_count": 3,
      "outputs": []
    },
    {
      "cell_type": "code",
      "execution_count": 4,
      "metadata": {
        "id": "NlQtiTrmuzM3"
      },
      "outputs": [],
      "source": [
        "from handyrec.examples.utils import DataProcessor, sampledsoftmaxloss\n",
        "from handyrec.models.match import YouTubeDNN\n",
        "from handyrec.features import DenseFeature, SparseFeature, SparseSeqFeature\n",
        "import tensorflow as tf\n",
        "from tensorflow.keras import Model\n",
        "import numpy as np\n",
        "import faiss"
      ]
    },
    {
      "cell_type": "code",
      "execution_count": 5,
      "metadata": {
        "id": "iYOxv7-auzM3"
      },
      "outputs": [],
      "source": [
        "import warnings\n",
        "warnings.filterwarnings('ignore')"
      ]
    },
    {
      "cell_type": "markdown",
      "source": [
        "# Load and prepare data"
      ],
      "metadata": {
        "id": "MXNUDnO_0VLl"
      }
    },
    {
      "cell_type": "code",
      "execution_count": 6,
      "metadata": {
        "id": "sd9YxkQwuzM4"
      },
      "outputs": [],
      "source": [
        "EMBEDDING_DIM = 128\n",
        "SEQ_LEN = 40\n",
        "BATCH_SIZE = 2**12\n",
        "NEPOCH = 100"
      ]
    },
    {
      "cell_type": "code",
      "execution_count": 7,
      "metadata": {
        "id": "Z81-pQ_auzM5"
      },
      "outputs": [],
      "source": [
        "dp = DataProcessor('./ml-1m/')"
      ]
    },
    {
      "cell_type": "code",
      "execution_count": 8,
      "metadata": {
        "id": "wgw6prfluzM5",
        "outputId": "ae3e5a70-6b42-461d-f0b2-d8d6871b9f80",
        "colab": {
          "base_uri": "https://localhost:8080/"
        }
      },
      "outputs": [
        {
          "output_type": "stream",
          "name": "stderr",
          "text": [
            "Encode User Sparse Feats: 100%|██████████| 4/4 [00:00<00:00, 179.30it/s]\n",
            "Encode Item Sparse Feats: 0it [00:00, ?it/s]\n",
            "Generate train set: 100%|██████████| 6040/6040 [00:08<00:00, 697.67it/s]\n",
            "100%|██████████| 4/4 [00:00<00:00,  7.20it/s]\n",
            "0it [00:00, ?it/s]\n"
          ]
        }
      ],
      "source": [
        "features = ['user_id', 'movie_id', 'gender', 'age', 'occupation', 'zip']\n",
        "lbd_features = ['gender','age','occupation', 'zip']\n",
        "data = dp.preprocess_data(lbd_features)\n",
        "dp.gen_data_set(features, data, seq_max_len=SEQ_LEN, negnum=0)"
      ]
    },
    {
      "cell_type": "code",
      "execution_count": 9,
      "metadata": {
        "id": "nWhojvyKuzM7",
        "outputId": "2179855a-6405-47fa-85b8-dc8a9a11aced",
        "colab": {
          "base_uri": "https://localhost:8080/"
        }
      },
      "outputs": [
        {
          "output_type": "stream",
          "name": "stderr",
          "text": [
            "Load user Features: 100%|██████████| 7/7 [00:00<00:00, 135.61it/s]\n",
            "Load movie Features: 100%|██████████| 1/1 [00:00<00:00, 294.48it/s]\n"
          ]
        }
      ],
      "source": [
        "user_features = ['user_id','gender','age','occupation', 'zip']\n",
        "movie_features = ['movie_id']\n",
        "train, train_label, test, test_label = dp.load_dataset(user_features, movie_features)"
      ]
    },
    {
      "cell_type": "markdown",
      "source": [
        "# Train model and export embeddings"
      ],
      "metadata": {
        "id": "wMAdJxpc0x1U"
      }
    },
    {
      "cell_type": "code",
      "execution_count": 10,
      "metadata": {
        "id": "Lt-aoR__uzM8"
      },
      "outputs": [],
      "source": [
        "feature_dim = {}\n",
        "for feat in user_features:\n",
        "    feature_dim[feat] = data['user'][feat].max()+1\n",
        "for feat in movie_features:\n",
        "    feature_dim[feat] = data['item'][feat].max()+1"
      ]
    },
    {
      "cell_type": "code",
      "execution_count": 11,
      "metadata": {
        "id": "DBLxg5truzM8"
      },
      "outputs": [],
      "source": [
        "user_dense_feats = []\n",
        "user_sparse_feats = ['user_id','gender','age','occupation', 'zip']"
      ]
    },
    {
      "cell_type": "code",
      "execution_count": 12,
      "metadata": {
        "id": "mxDDKxm7uzM9"
      },
      "outputs": [],
      "source": [
        "user_features = [SparseFeature(x, feature_dim[x], EMBEDDING_DIM) for x in user_sparse_feats] +\\\n",
        "                [DenseFeature(x) for x in user_dense_feats] +\\\n",
        "                [SparseSeqFeature(SparseFeature('movie_id', feature_dim['movie_id'], EMBEDDING_DIM), 'hist_movie_id',SEQ_LEN)]\n",
        "item_id = SparseFeature('movie_id', feature_dim['movie_id'], EMBEDDING_DIM)"
      ]
    },
    {
      "cell_type": "code",
      "execution_count": 13,
      "metadata": {
        "id": "RAFUZ94UuzM-"
      },
      "outputs": [],
      "source": [
        "tf.compat.v1.disable_eager_execution()"
      ]
    },
    {
      "cell_type": "code",
      "execution_count": 14,
      "metadata": {
        "id": "lKURLYXkuzM-",
        "colab": {
          "base_uri": "https://localhost:8080/"
        },
        "outputId": "297fe3ed-edc6-4a7d-9c82-fbf68e80af21"
      },
      "outputs": [
        {
          "output_type": "stream",
          "name": "stdout",
          "text": [
            "WARNING:tensorflow:From /usr/local/lib/python3.7/dist-packages/keras/layers/normalization/batch_normalization.py:532: _colocate_with (from tensorflow.python.framework.ops) is deprecated and will be removed in a future version.\n",
            "Instructions for updating:\n",
            "Colocations handled automatically by placer.\n"
          ]
        }
      ],
      "source": [
        "model = YouTubeDNN(\n",
        "    user_features, item_id, num_sampled=100, \n",
        "    user_dnn_hidden_units=(256,128,EMBEDDING_DIM), dnn_dropout=0.2\n",
        ")"
      ]
    },
    {
      "cell_type": "code",
      "execution_count": 15,
      "metadata": {
        "id": "2xizKlTvuzM_",
        "outputId": "03a8bd63-daec-4ee1-aa17-2f41e1610119",
        "colab": {
          "base_uri": "https://localhost:8080/"
        }
      },
      "outputs": [
        {
          "output_type": "stream",
          "name": "stdout",
          "text": [
            "Train on 845828 samples, validate on 93981 samples\n",
            "Epoch 1/100\n",
            "845828/845828 [==============================] - 16s 18us/sample - loss: 3.5403 - val_loss: 3.4257\n",
            "Epoch 2/100\n",
            "845828/845828 [==============================] - 8s 10us/sample - loss: 2.9143 - val_loss: 2.9377\n",
            "Epoch 3/100\n",
            "845828/845828 [==============================] - 8s 10us/sample - loss: 2.6262 - val_loss: 2.4872\n",
            "Epoch 4/100\n",
            "845828/845828 [==============================] - 8s 10us/sample - loss: 2.4222 - val_loss: 2.3271\n",
            "Epoch 5/100\n",
            "845828/845828 [==============================] - 8s 10us/sample - loss: 2.2784 - val_loss: 2.2241\n",
            "Epoch 6/100\n",
            "845828/845828 [==============================] - 8s 10us/sample - loss: 2.1628 - val_loss: 2.1728\n",
            "Epoch 7/100\n",
            "845828/845828 [==============================] - 8s 10us/sample - loss: 2.0946 - val_loss: 2.0734\n",
            "Epoch 8/100\n",
            "845828/845828 [==============================] - 8s 10us/sample - loss: 1.9985 - val_loss: 2.0243\n",
            "Epoch 9/100\n",
            "845828/845828 [==============================] - 8s 10us/sample - loss: 1.9918 - val_loss: 1.9736\n",
            "Epoch 10/100\n",
            "845828/845828 [==============================] - 8s 10us/sample - loss: 1.9146 - val_loss: 1.8814\n",
            "Epoch 11/100\n",
            "845828/845828 [==============================] - 8s 10us/sample - loss: 1.8941 - val_loss: 1.8878\n",
            "Epoch 12/100\n",
            "845828/845828 [==============================] - 8s 10us/sample - loss: 1.9163 - val_loss: 1.8109\n",
            "Epoch 13/100\n",
            "845828/845828 [==============================] - 8s 10us/sample - loss: 1.8450 - val_loss: 1.8315\n",
            "Epoch 14/100\n",
            "845828/845828 [==============================] - 8s 10us/sample - loss: 1.8320 - val_loss: 1.8149\n",
            "Epoch 15/100\n",
            "845828/845828 [==============================] - 8s 10us/sample - loss: 1.7698 - val_loss: 1.7940\n",
            "Epoch 16/100\n",
            "845828/845828 [==============================] - 8s 10us/sample - loss: 1.7745 - val_loss: 1.8474\n",
            "Epoch 17/100\n",
            "845828/845828 [==============================] - 8s 10us/sample - loss: 1.7613 - val_loss: 1.7133\n",
            "Epoch 18/100\n",
            "845828/845828 [==============================] - 8s 10us/sample - loss: 1.7458 - val_loss: 1.7785\n",
            "Epoch 19/100\n",
            "845828/845828 [==============================] - 8s 10us/sample - loss: 1.7218 - val_loss: 1.7228\n",
            "Epoch 20/100\n",
            "845828/845828 [==============================] - 8s 10us/sample - loss: 1.7167 - val_loss: 1.6742\n",
            "Epoch 21/100\n",
            "845828/845828 [==============================] - 8s 10us/sample - loss: 1.6990 - val_loss: 1.7013\n",
            "Epoch 22/100\n",
            "845828/845828 [==============================] - 8s 10us/sample - loss: 1.6954 - val_loss: 1.6626\n",
            "Epoch 23/100\n",
            "845828/845828 [==============================] - 8s 10us/sample - loss: 1.6665 - val_loss: 1.6911\n",
            "Epoch 24/100\n",
            "845828/845828 [==============================] - 8s 10us/sample - loss: 1.6688 - val_loss: 1.6859\n",
            "Epoch 25/100\n",
            "845828/845828 [==============================] - 8s 10us/sample - loss: 1.6402 - val_loss: 1.6810\n",
            "Epoch 26/100\n",
            "845828/845828 [==============================] - 8s 10us/sample - loss: 1.6244 - val_loss: 1.5696\n",
            "Epoch 27/100\n",
            "845828/845828 [==============================] - 9s 10us/sample - loss: 1.6176 - val_loss: 1.6462\n",
            "Epoch 28/100\n",
            "845828/845828 [==============================] - 8s 10us/sample - loss: 1.6161 - val_loss: 1.5835\n",
            "Epoch 29/100\n",
            "845828/845828 [==============================] - 8s 10us/sample - loss: 1.6407 - val_loss: 1.6799\n",
            "Epoch 30/100\n",
            "845828/845828 [==============================] - 8s 10us/sample - loss: 1.6127 - val_loss: 1.7234\n",
            "Epoch 31/100\n",
            "845828/845828 [==============================] - 8s 10us/sample - loss: 1.6088 - val_loss: 1.6293\n",
            "Epoch 32/100\n",
            "845828/845828 [==============================] - 8s 10us/sample - loss: 1.5880 - val_loss: 1.6003\n",
            "Epoch 33/100\n",
            "845828/845828 [==============================] - 8s 10us/sample - loss: 1.5958 - val_loss: 1.6112\n",
            "Epoch 34/100\n",
            "845828/845828 [==============================] - 8s 10us/sample - loss: 1.5697 - val_loss: 1.6460\n",
            "Epoch 35/100\n",
            "845828/845828 [==============================] - 8s 10us/sample - loss: 1.5694 - val_loss: 1.6195\n",
            "Epoch 36/100\n",
            "845828/845828 [==============================] - 8s 10us/sample - loss: 1.5560 - val_loss: 1.5515\n",
            "Epoch 37/100\n",
            "845828/845828 [==============================] - 8s 10us/sample - loss: 1.5758 - val_loss: 1.5279\n",
            "Epoch 38/100\n",
            "845828/845828 [==============================] - 8s 10us/sample - loss: 1.5471 - val_loss: 1.6453\n",
            "Epoch 39/100\n",
            "845828/845828 [==============================] - 8s 10us/sample - loss: 1.5354 - val_loss: 1.5004\n",
            "Epoch 40/100\n",
            "845828/845828 [==============================] - 8s 10us/sample - loss: 1.5331 - val_loss: 1.5780\n",
            "Epoch 41/100\n",
            "845828/845828 [==============================] - 8s 10us/sample - loss: 1.5091 - val_loss: 1.5507\n",
            "Epoch 42/100\n",
            "845828/845828 [==============================] - 8s 10us/sample - loss: 1.5372 - val_loss: 1.5460\n",
            "Epoch 43/100\n",
            "845828/845828 [==============================] - 8s 10us/sample - loss: 1.5306 - val_loss: 1.5470\n",
            "Epoch 44/100\n",
            "845828/845828 [==============================] - 8s 10us/sample - loss: 1.5453 - val_loss: 1.5944\n",
            "Epoch 45/100\n",
            "845828/845828 [==============================] - 8s 10us/sample - loss: 1.5238 - val_loss: 1.5884\n",
            "Epoch 46/100\n",
            "845828/845828 [==============================] - 8s 10us/sample - loss: 1.5155 - val_loss: 1.5452\n",
            "Epoch 47/100\n",
            "845828/845828 [==============================] - 8s 10us/sample - loss: 1.5173 - val_loss: 1.5588\n",
            "Epoch 48/100\n",
            "845828/845828 [==============================] - 8s 10us/sample - loss: 1.5053 - val_loss: 1.5119\n",
            "Epoch 49/100\n",
            "845828/845828 [==============================] - 8s 10us/sample - loss: 1.4946 - val_loss: 1.5572\n",
            "Epoch 50/100\n",
            "845828/845828 [==============================] - 8s 10us/sample - loss: 1.4965 - val_loss: 1.5724\n",
            "Epoch 51/100\n",
            "845828/845828 [==============================] - 8s 10us/sample - loss: 1.4921 - val_loss: 1.5345\n",
            "Epoch 52/100\n",
            "845828/845828 [==============================] - 8s 10us/sample - loss: 1.5009 - val_loss: 1.5841\n",
            "Epoch 53/100\n",
            "845828/845828 [==============================] - 8s 10us/sample - loss: 1.4636 - val_loss: 1.5537\n",
            "Epoch 54/100\n",
            "845828/845828 [==============================] - 8s 10us/sample - loss: 1.4711 - val_loss: 1.5067\n",
            "Epoch 55/100\n",
            "845828/845828 [==============================] - 8s 10us/sample - loss: 1.4770 - val_loss: 1.5230\n",
            "Epoch 56/100\n",
            "845828/845828 [==============================] - 8s 10us/sample - loss: 1.4677 - val_loss: 1.4931\n",
            "Epoch 57/100\n",
            "845828/845828 [==============================] - 8s 10us/sample - loss: 1.4603 - val_loss: 1.4807\n",
            "Epoch 58/100\n",
            "845828/845828 [==============================] - 8s 10us/sample - loss: 1.4779 - val_loss: 1.5490\n",
            "Epoch 59/100\n",
            "845828/845828 [==============================] - 8s 10us/sample - loss: 1.4888 - val_loss: 1.5264\n",
            "Epoch 60/100\n",
            "845828/845828 [==============================] - 8s 10us/sample - loss: 1.4659 - val_loss: 1.4779\n",
            "Epoch 61/100\n",
            "845828/845828 [==============================] - 8s 10us/sample - loss: 1.4562 - val_loss: 1.4776\n",
            "Epoch 62/100\n",
            "845828/845828 [==============================] - 8s 10us/sample - loss: 1.4395 - val_loss: 1.5537\n",
            "Epoch 63/100\n",
            "845828/845828 [==============================] - 8s 10us/sample - loss: 1.4558 - val_loss: 1.5203\n",
            "Epoch 64/100\n",
            "845828/845828 [==============================] - 8s 10us/sample - loss: 1.4218 - val_loss: 1.5595\n",
            "Epoch 65/100\n",
            "845828/845828 [==============================] - 8s 10us/sample - loss: 1.4384 - val_loss: 1.4042\n",
            "Epoch 66/100\n",
            "845828/845828 [==============================] - 8s 10us/sample - loss: 1.4391 - val_loss: 1.5605\n",
            "Epoch 67/100\n",
            "845828/845828 [==============================] - 8s 10us/sample - loss: 1.4348 - val_loss: 1.5221\n",
            "Epoch 68/100\n",
            "845828/845828 [==============================] - 8s 10us/sample - loss: 1.4170 - val_loss: 1.4541\n",
            "Epoch 69/100\n",
            "845828/845828 [==============================] - 8s 10us/sample - loss: 1.4405 - val_loss: 1.4952\n",
            "Epoch 70/100\n",
            "845828/845828 [==============================] - 8s 10us/sample - loss: 1.4333 - val_loss: 1.5340\n",
            "Epoch 71/100\n",
            "845828/845828 [==============================] - 8s 10us/sample - loss: 1.4443 - val_loss: 1.4827\n",
            "Epoch 72/100\n",
            "845828/845828 [==============================] - 8s 10us/sample - loss: 1.4414 - val_loss: 1.4812\n",
            "Epoch 73/100\n",
            "845828/845828 [==============================] - 8s 10us/sample - loss: 1.4155 - val_loss: 1.4928\n",
            "Epoch 74/100\n",
            "845828/845828 [==============================] - 8s 10us/sample - loss: 1.4115 - val_loss: 1.4607\n",
            "Epoch 75/100\n",
            "845828/845828 [==============================] - 8s 10us/sample - loss: 1.4210 - val_loss: 1.4583\n",
            "Epoch 76/100\n",
            "845828/845828 [==============================] - 8s 10us/sample - loss: 1.4132 - val_loss: 1.4758\n",
            "Epoch 77/100\n",
            "845828/845828 [==============================] - 8s 10us/sample - loss: 1.4179 - val_loss: 1.5110\n",
            "Epoch 78/100\n",
            "845828/845828 [==============================] - 8s 10us/sample - loss: 1.4174 - val_loss: 1.4951\n",
            "Epoch 79/100\n",
            "845828/845828 [==============================] - 8s 10us/sample - loss: 1.4179 - val_loss: 1.4849\n",
            "Epoch 80/100\n",
            "845828/845828 [==============================] - 8s 10us/sample - loss: 1.4060 - val_loss: 1.4761\n",
            "Epoch 81/100\n",
            "845828/845828 [==============================] - 8s 10us/sample - loss: 1.4040 - val_loss: 1.4368\n",
            "Epoch 82/100\n",
            "845828/845828 [==============================] - 8s 10us/sample - loss: 1.3853 - val_loss: 1.4595\n",
            "Epoch 83/100\n",
            "845828/845828 [==============================] - 8s 10us/sample - loss: 1.4146 - val_loss: 1.4597\n",
            "Epoch 84/100\n",
            "845828/845828 [==============================] - 8s 10us/sample - loss: 1.3986 - val_loss: 1.4624\n",
            "Epoch 85/100\n",
            "845828/845828 [==============================] - 8s 10us/sample - loss: 1.3983 - val_loss: 1.5185\n"
          ]
        }
      ],
      "source": [
        "model.compile(optimizer=\"Adam\", loss=sampledsoftmaxloss)\n",
        "early_stop = tf.keras.callbacks.EarlyStopping(monitor='val_loss', patience=20)\n",
        "history = model.fit(train, train_label,\n",
        "                    batch_size=BATCH_SIZE, \n",
        "                    epochs=NEPOCH,\n",
        "                    verbose=1,\n",
        "                    validation_split=0.1,\n",
        "                    callbacks=[early_stop])\n",
        "model.save_weights('youtubednn.h5')"
      ]
    },
    {
      "cell_type": "code",
      "execution_count": 16,
      "metadata": {
        "id": "AGebkIE0uzM_"
      },
      "outputs": [],
      "source": [
        "model.load_weights('youtubednn.h5')"
      ]
    },
    {
      "cell_type": "code",
      "execution_count": 17,
      "metadata": {
        "id": "G9AxEdKbuzM_",
        "outputId": "a3d310d0-8f87-41f0-bc57-f886ce77e402",
        "colab": {
          "base_uri": "https://localhost:8080/"
        }
      },
      "outputs": [
        {
          "output_type": "stream",
          "name": "stdout",
          "text": [
            "(6040, 128)\n",
            "(3883, 128)\n"
          ]
        }
      ],
      "source": [
        "all_item_model_input = {\"movie_id\": data['item']['movie_id'].values}\n",
        "\n",
        "user_embedding_model = Model(inputs=model.user_input, outputs=model.user_embedding)\n",
        "item_embedding_model = Model(inputs=model.item_input, outputs=model.item_embedding)\n",
        "\n",
        "user_embs = user_embedding_model.predict(test, batch_size=2 ** 12)\n",
        "item_embs = item_embedding_model.predict(all_item_model_input, batch_size=2 ** 12)\n",
        "\n",
        "print(user_embs.shape)\n",
        "print(item_embs.shape)"
      ]
    },
    {
      "cell_type": "markdown",
      "source": [
        "# Use Faiss to predict"
      ],
      "metadata": {
        "id": "UJ49Jxnf0-1O"
      }
    },
    {
      "cell_type": "code",
      "execution_count": 18,
      "metadata": {
        "id": "VE98kX6wuzNA"
      },
      "outputs": [],
      "source": [
        "index = faiss.IndexFlatIP(EMBEDDING_DIM)\n",
        "index.add(item_embs)"
      ]
    },
    {
      "cell_type": "code",
      "execution_count": 19,
      "metadata": {
        "id": "cr39MwzduzNA"
      },
      "outputs": [],
      "source": [
        "D, I = index.search(np.ascontiguousarray(user_embs), 10)\n",
        "s = []\n",
        "for i, uid in enumerate(test['user_id']):\n",
        "    try:\n",
        "        pred = data['item']['movie_id'].values[I[i]].tolist()\n",
        "        s.append(pred)\n",
        "    except:\n",
        "        print(i)\n",
        "s = np.array(s)"
      ]
    },
    {
      "cell_type": "code",
      "execution_count": 20,
      "metadata": {
        "id": "LnwBjN7ruzNB"
      },
      "outputs": [],
      "source": [
        "def apk(actual, predicted, k=10):\n",
        "    if len(predicted) > k:\n",
        "        predicted = predicted[:k]\n",
        "\n",
        "    score = 0.0\n",
        "    num_hits = 0.0\n",
        "    for i, p in enumerate(predicted):\n",
        "        if p in actual and p not in predicted[:i]:\n",
        "            num_hits += 1.0\n",
        "            score += num_hits / (i + 1.0)\n",
        "\n",
        "    return score / min(len(actual), k)\n",
        "\n",
        "def mapk(actual, predicted, k=12):\n",
        "    return np.mean(\n",
        "        [apk(a, p, k) for a, p in zip(actual, predicted)]\n",
        "    )\n",
        "\n",
        "\n",
        "def rk(actual, predicted, k=10):\n",
        "    if len(predicted) > k:\n",
        "        predicted = predicted[:k]\n",
        "\n",
        "    score = sum([1 for r in actual if r in predicted])/len(actual)\n",
        "\n",
        "    return score\n",
        "\n",
        "def recall_at_k(actual, predicted, k=12):\n",
        "    return np.mean(\n",
        "        [rk(a, p, k) for a, p in zip(actual, predicted)]\n",
        "    )"
      ]
    },
    {
      "cell_type": "code",
      "execution_count": 21,
      "metadata": {
        "id": "ZLc_JPubuzNB",
        "outputId": "312bd128-e453-4428-85d8-673d4f7d7844",
        "colab": {
          "base_uri": "https://localhost:8080/"
        }
      },
      "outputs": [
        {
          "output_type": "execute_result",
          "data": {
            "text/plain": [
              "0.026905721118469464"
            ]
          },
          "metadata": {},
          "execution_count": 21
        }
      ],
      "source": [
        "mapk(test_label, s, k=10)"
      ]
    },
    {
      "cell_type": "code",
      "execution_count": 22,
      "metadata": {
        "id": "kap-zVgguzNC",
        "outputId": "bf3213d5-6780-4ddf-a6fa-82e1f482284b",
        "colab": {
          "base_uri": "https://localhost:8080/"
        }
      },
      "outputs": [
        {
          "output_type": "execute_result",
          "data": {
            "text/plain": [
              "0.07466887417218543"
            ]
          },
          "metadata": {},
          "execution_count": 22
        }
      ],
      "source": [
        "recall_at_k(test_label, s, k=10)"
      ]
    }
  ],
  "metadata": {
    "interpreter": {
      "hash": "653a9876bfda977334bab0c6eac4e690c97044cb3c76993a10b084536ae29e50"
    },
    "kernelspec": {
      "display_name": "Python 3.8.5 ('base')",
      "language": "python",
      "name": "python3"
    },
    "language_info": {
      "codemirror_mode": {
        "name": "ipython",
        "version": 3
      },
      "file_extension": ".py",
      "mimetype": "text/x-python",
      "name": "python",
      "nbconvert_exporter": "python",
      "pygments_lexer": "ipython3",
      "version": "3.7.9"
    },
    "orig_nbformat": 4,
    "colab": {
      "name": "YouTubeDNN.ipynb",
      "provenance": []
    },
    "accelerator": "GPU"
  },
  "nbformat": 4,
  "nbformat_minor": 0
}