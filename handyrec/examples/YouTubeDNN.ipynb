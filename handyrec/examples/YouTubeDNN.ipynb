{
  "cells": [
    {
      "cell_type": "markdown",
      "metadata": {
        "id": "FXD2RCXzuzMx"
      },
      "source": [
        "[![Open In Colab](https://colab.research.google.com/assets/colab-badge.svg)](https://colab.research.google.com/github/googlecolab/colabtools/blob/master/notebooks/colab-github-demo.ipynb)"
      ]
    },
    {
      "cell_type": "markdown",
      "metadata": {
        "id": "OJKT5uytzl7t"
      },
      "source": [
        "> This notebook runs YouTubeDNN on MovieLens dataset."
      ]
    },
    {
      "cell_type": "markdown",
      "metadata": {
        "id": "XFTLC9SQzxK4"
      },
      "source": [
        "# Download dataset and install packages"
      ]
    },
    {
      "cell_type": "code",
      "execution_count": 1,
      "metadata": {
        "colab": {
          "base_uri": "https://localhost:8080/"
        },
        "id": "WSk1WSSpvXfL",
        "outputId": "2521cfb0-f9a7-4b19-ba2a-5ab8f1dccacc"
      },
      "outputs": [
        {
          "name": "stdout",
          "output_type": "stream",
          "text": [
            "Cloning into 'HandyRec'...\n",
            "remote: Enumerating objects: 134, done.\u001b[K\n",
            "remote: Counting objects: 100% (134/134), done.\u001b[K\n",
            "remote: Compressing objects: 100% (102/102), done.\u001b[K\n",
            "remote: Total 134 (delta 49), reused 93 (delta 19), pack-reused 0\u001b[K\n",
            "Receiving objects: 100% (134/134), 214.29 KiB | 30.61 MiB/s, done.\n",
            "Resolving deltas: 100% (49/49), done.\n",
            "Collecting faiss-cpu\n",
            "  Downloading faiss_cpu-1.7.2-cp37-cp37m-manylinux_2_17_x86_64.manylinux2014_x86_64.whl (8.6 MB)\n",
            "\u001b[K     |████████████████████████████████| 8.6 MB 28.7 MB/s \n",
            "\u001b[?25hInstalling collected packages: faiss-cpu\n",
            "Successfully installed faiss-cpu-1.7.2\n"
          ]
        }
      ],
      "source": [
        "!git clone https://github.com/Wp-Zhang/HandyRec.git\n",
        "! pip install faiss-cpu"
      ]
    },
    {
      "cell_type": "code",
      "execution_count": 2,
      "metadata": {
        "colab": {
          "base_uri": "https://localhost:8080/"
        },
        "id": "uiIqXdbUyCEi",
        "outputId": "47786c96-7127-463d-f94b-eafb2ab7791d"
      },
      "outputs": [
        {
          "name": "stdout",
          "output_type": "stream",
          "text": [
            "--2022-03-11 20:18:21--  http://files.grouplens.org/datasets/movielens/ml-1m.zip\n",
            "Resolving files.grouplens.org (files.grouplens.org)... 128.101.65.152\n",
            "Connecting to files.grouplens.org (files.grouplens.org)|128.101.65.152|:80... connected.\n",
            "HTTP request sent, awaiting response... 200 OK\n",
            "Length: 5917549 (5.6M) [application/zip]\n",
            "Saving to: ‘./ml-1m.zip’\n",
            "\n",
            "./ml-1m.zip         100%[===================>]   5.64M  28.2MB/s    in 0.2s    \n",
            "\n",
            "2022-03-11 20:18:22 (28.2 MB/s) - ‘./ml-1m.zip’ saved [5917549/5917549]\n",
            "\n",
            "Archive:  ml-1m.zip\n",
            "   creating: ml-1m/\n",
            "  inflating: ml-1m/movies.dat        \n",
            "  inflating: ml-1m/ratings.dat       \n",
            "  inflating: ml-1m/README            \n",
            "  inflating: ml-1m/users.dat         \n"
          ]
        }
      ],
      "source": [
        "! wget http://files.grouplens.org/datasets/movielens/ml-1m.zip -O ./ml-1m.zip\n",
        "! unzip -o ml-1m.zip"
      ]
    },
    {
      "cell_type": "markdown",
      "metadata": {
        "id": "gsUc0pRE0BEH"
      },
      "source": [
        "# Import relative packages"
      ]
    },
    {
      "cell_type": "code",
      "execution_count": 3,
      "metadata": {
        "id": "PzbZZUXxvxvm"
      },
      "outputs": [],
      "source": [
        "import sys\n",
        "sys.path.append('./HandyRec/')"
      ]
    },
    {
      "cell_type": "code",
      "execution_count": 4,
      "metadata": {
        "id": "NlQtiTrmuzM3"
      },
      "outputs": [],
      "source": [
        "from handyrec.examples.utils import DataProcessor, sampledsoftmaxloss\n",
        "from handyrec.models.match import YouTubeMatchDNN\n",
        "from handyrec.features import DenseFeature, SparseFeature, SparseSeqFeature\n",
        "import tensorflow as tf\n",
        "from tensorflow.keras import Model\n",
        "import numpy as np\n",
        "import faiss\n",
        "from sklearn.preprocessing import StandardScaler"
      ]
    },
    {
      "cell_type": "code",
      "execution_count": 5,
      "metadata": {
        "id": "iYOxv7-auzM3"
      },
      "outputs": [],
      "source": [
        "import warnings\n",
        "warnings.filterwarnings('ignore')"
      ]
    },
    {
      "cell_type": "markdown",
      "metadata": {
        "id": "MXNUDnO_0VLl"
      },
      "source": [
        "# Load and prepare data"
      ]
    },
    {
      "cell_type": "code",
      "execution_count": 6,
      "metadata": {
        "id": "sd9YxkQwuzM4"
      },
      "outputs": [],
      "source": [
        "EMBEDDING_DIM = 128\n",
        "SEQ_LEN = 40\n",
        "BATCH_SIZE = 2**12\n",
        "NEPOCH = 100"
      ]
    },
    {
      "cell_type": "code",
      "execution_count": 7,
      "metadata": {
        "id": "Z81-pQ_auzM5"
      },
      "outputs": [],
      "source": [
        "dp = DataProcessor('./ml-1m/')"
      ]
    },
    {
      "cell_type": "code",
      "execution_count": 8,
      "metadata": {
        "colab": {
          "base_uri": "https://localhost:8080/"
        },
        "id": "wgw6prfluzM5",
        "outputId": "862daf60-33e8-4014-e486-dc195019da15"
      },
      "outputs": [
        {
          "name": "stderr",
          "output_type": "stream",
          "text": [
            "Encode User Sparse Feats: 100%|██████████| 4/4 [00:00<00:00, 160.23it/s]\n",
            "Encode Item Sparse Feats: 0it [00:00, ?it/s]\n",
            "Generate train set: 100%|██████████| 6040/6040 [00:08<00:00, 689.90it/s] \n",
            "100%|██████████| 4/4 [00:00<00:00,  7.54it/s]\n",
            "0it [00:00, ?it/s]\n"
          ]
        }
      ],
      "source": [
        "features = ['user_id', 'movie_id', 'gender', 'age', 'occupation', 'zip']\n",
        "lbd_features = ['gender','age','occupation', 'zip']\n",
        "data = dp.preprocess_data(lbd_features)\n",
        "dp.gen_data_set(features, data, seq_max_len=SEQ_LEN, negnum=0)"
      ]
    },
    {
      "cell_type": "code",
      "execution_count": 9,
      "metadata": {
        "colab": {
          "base_uri": "https://localhost:8080/"
        },
        "id": "nWhojvyKuzM7",
        "outputId": "f26bb8f9-b383-4c91-99d4-b7014d4a2fe7"
      },
      "outputs": [
        {
          "name": "stderr",
          "output_type": "stream",
          "text": [
            "Load user Features: 100%|██████████| 8/8 [00:00<00:00, 140.44it/s]\n",
            "Load movie Features: 100%|██████████| 1/1 [00:00<00:00, 330.18it/s]\n"
          ]
        }
      ],
      "source": [
        "user_features = ['user_id','gender','age','occupation', 'zip']\n",
        "movie_features = ['movie_id']\n",
        "train, train_label, test, test_label = dp.load_dataset(user_features, movie_features)"
      ]
    },
    {
      "cell_type": "code",
      "execution_count": 10,
      "metadata": {
        "id": "7qAjFaZkn64j"
      },
      "outputs": [],
      "source": [
        "# add example_age^2 as showed in the original paper\n",
        "train['example_age_2'] = train['example_age']**2\n",
        "test['example_age_2'] = test['example_age']**2"
      ]
    },
    {
      "cell_type": "markdown",
      "metadata": {
        "id": "wMAdJxpc0x1U"
      },
      "source": [
        "# Train model and export embeddings"
      ]
    },
    {
      "cell_type": "code",
      "execution_count": 11,
      "metadata": {
        "id": "VnQIMObLn9U7"
      },
      "outputs": [],
      "source": [
        "# Standarize dense feature\n",
        "stds = StandardScaler()\n",
        "stds2 = StandardScaler()\n",
        "train['example_age'] = stds.fit_transform(train['example_age'].reshape(-1,1)).reshape(-1)\n",
        "test['example_age'] = stds.transform(test['example_age'].reshape(-1,1)).reshape(-1)\n",
        "train['example_age_2'] = stds2.fit_transform(train['example_age_2'].reshape(-1,1)).reshape(-1)\n",
        "test['example_age_2'] = stds2.transform(test['example_age_2'].reshape(-1,1)).reshape(-1)"
      ]
    },
    {
      "cell_type": "code",
      "execution_count": 12,
      "metadata": {
        "id": "Lt-aoR__uzM8"
      },
      "outputs": [],
      "source": [
        "feature_dim = {}\n",
        "for feat in user_features:\n",
        "    feature_dim[feat] = data['user'][feat].max()+1\n",
        "for feat in movie_features:\n",
        "    feature_dim[feat] = data['item'][feat].max()+1"
      ]
    },
    {
      "cell_type": "code",
      "execution_count": 13,
      "metadata": {
        "id": "DBLxg5truzM8"
      },
      "outputs": [],
      "source": [
        "user_dense_feats = ['example_age','example_age_2']\n",
        "user_sparse_feats = ['user_id','gender','age','occupation', 'zip']"
      ]
    },
    {
      "cell_type": "code",
      "execution_count": 14,
      "metadata": {
        "id": "mxDDKxm7uzM9"
      },
      "outputs": [],
      "source": [
        "user_features = [SparseFeature(x, feature_dim[x], EMBEDDING_DIM) for x in user_sparse_feats] +\\\n",
        "                [DenseFeature(x) for x in user_dense_feats] +\\\n",
        "                [SparseSeqFeature(SparseFeature('movie_id', feature_dim['movie_id'], EMBEDDING_DIM), 'hist_movie_id',SEQ_LEN)]\n",
        "item_id = SparseFeature('movie_id', feature_dim['movie_id'], EMBEDDING_DIM)"
      ]
    },
    {
      "cell_type": "code",
      "execution_count": 15,
      "metadata": {
        "id": "RAFUZ94UuzM-"
      },
      "outputs": [],
      "source": [
        "tf.compat.v1.disable_eager_execution()"
      ]
    },
    {
      "cell_type": "code",
      "execution_count": 16,
      "metadata": {
        "colab": {
          "base_uri": "https://localhost:8080/"
        },
        "id": "lKURLYXkuzM-",
        "outputId": "c4f3c68e-1972-4a9b-9d64-eeedd1e4253b"
      },
      "outputs": [
        {
          "name": "stdout",
          "output_type": "stream",
          "text": [
            "WARNING:tensorflow:From /usr/local/lib/python3.7/dist-packages/keras/layers/normalization/batch_normalization.py:532: _colocate_with (from tensorflow.python.framework.ops) is deprecated and will be removed in a future version.\n",
            "Instructions for updating:\n",
            "Colocations handled automatically by placer.\n"
          ]
        }
      ],
      "source": [
        "model = YouTubeMatchDNN(\n",
        "    user_features, item_id, num_sampled=100, \n",
        "    user_dnn_hidden_units=(256,128,EMBEDDING_DIM), dnn_dropout=0.2\n",
        ")"
      ]
    },
    {
      "cell_type": "code",
      "execution_count": 17,
      "metadata": {
        "colab": {
          "base_uri": "https://localhost:8080/"
        },
        "id": "2xizKlTvuzM_",
        "outputId": "411ba166-f7a5-41f9-94fa-561329d6771b"
      },
      "outputs": [
        {
          "name": "stdout",
          "output_type": "stream",
          "text": [
            "Train on 845828 samples, validate on 93981 samples\n",
            "Epoch 1/100\n",
            "845828/845828 [==============================] - 19s 22us/sample - loss: 3.6998 - val_loss: 3.2906\n",
            "Epoch 2/100\n",
            "845828/845828 [==============================] - 10s 12us/sample - loss: 3.1211 - val_loss: 3.0341\n",
            "Epoch 3/100\n",
            "845828/845828 [==============================] - 11s 13us/sample - loss: 2.8345 - val_loss: 2.7408\n",
            "Epoch 4/100\n",
            "845828/845828 [==============================] - 10s 12us/sample - loss: 2.6295 - val_loss: 2.5277\n",
            "Epoch 5/100\n",
            "845828/845828 [==============================] - 9s 11us/sample - loss: 2.4836 - val_loss: 2.4129\n",
            "Epoch 6/100\n",
            "845828/845828 [==============================] - 9s 11us/sample - loss: 2.3767 - val_loss: 2.2957\n",
            "Epoch 7/100\n",
            "845828/845828 [==============================] - 9s 11us/sample - loss: 2.3164 - val_loss: 2.2291\n",
            "Epoch 8/100\n",
            "845828/845828 [==============================] - 9s 11us/sample - loss: 2.2336 - val_loss: 2.2162\n",
            "Epoch 9/100\n",
            "845828/845828 [==============================] - 9s 10us/sample - loss: 2.1851 - val_loss: 2.1174\n",
            "Epoch 10/100\n",
            "845828/845828 [==============================] - 9s 11us/sample - loss: 2.1213 - val_loss: 2.1305\n",
            "Epoch 11/100\n",
            "845828/845828 [==============================] - 9s 10us/sample - loss: 2.0856 - val_loss: 2.0904\n",
            "Epoch 12/100\n",
            "845828/845828 [==============================] - 9s 10us/sample - loss: 2.0445 - val_loss: 2.0174\n",
            "Epoch 13/100\n",
            "845828/845828 [==============================] - 9s 11us/sample - loss: 2.0635 - val_loss: 1.9992\n",
            "Epoch 14/100\n",
            "845828/845828 [==============================] - 9s 10us/sample - loss: 1.9998 - val_loss: 1.9597\n",
            "Epoch 15/100\n",
            "845828/845828 [==============================] - 9s 10us/sample - loss: 1.9678 - val_loss: 1.9420\n",
            "Epoch 16/100\n",
            "845828/845828 [==============================] - 9s 10us/sample - loss: 1.9558 - val_loss: 1.8677\n",
            "Epoch 17/100\n",
            "845828/845828 [==============================] - 9s 10us/sample - loss: 1.9400 - val_loss: 1.9496\n",
            "Epoch 18/100\n",
            "845828/845828 [==============================] - 9s 10us/sample - loss: 1.9525 - val_loss: 1.8766\n",
            "Epoch 19/100\n",
            "845828/845828 [==============================] - 9s 10us/sample - loss: 1.9256 - val_loss: 1.8573\n",
            "Epoch 20/100\n",
            "845828/845828 [==============================] - 9s 11us/sample - loss: 1.8929 - val_loss: 1.8852\n",
            "Epoch 21/100\n",
            "845828/845828 [==============================] - 9s 11us/sample - loss: 1.8791 - val_loss: 1.8698\n",
            "Epoch 22/100\n",
            "845828/845828 [==============================] - 9s 10us/sample - loss: 1.8821 - val_loss: 1.8947\n",
            "Epoch 23/100\n",
            "845828/845828 [==============================] - 9s 10us/sample - loss: 1.8445 - val_loss: 1.8320\n",
            "Epoch 24/100\n",
            "845828/845828 [==============================] - 9s 10us/sample - loss: 1.8408 - val_loss: 1.8566\n",
            "Epoch 25/100\n",
            "845828/845828 [==============================] - 9s 10us/sample - loss: 1.8470 - val_loss: 1.8315\n",
            "Epoch 26/100\n",
            "845828/845828 [==============================] - 9s 10us/sample - loss: 1.8492 - val_loss: 1.8671\n",
            "Epoch 27/100\n",
            "845828/845828 [==============================] - 9s 10us/sample - loss: 1.8109 - val_loss: 1.8591\n",
            "Epoch 28/100\n",
            "845828/845828 [==============================] - 9s 11us/sample - loss: 1.7969 - val_loss: 1.7843\n",
            "Epoch 29/100\n",
            "845828/845828 [==============================] - 9s 10us/sample - loss: 1.7737 - val_loss: 1.7953\n",
            "Epoch 30/100\n",
            "845828/845828 [==============================] - 9s 10us/sample - loss: 1.7792 - val_loss: 1.8507\n",
            "Epoch 31/100\n",
            "845828/845828 [==============================] - 9s 10us/sample - loss: 1.7695 - val_loss: 1.8281\n",
            "Epoch 32/100\n",
            "845828/845828 [==============================] - 9s 10us/sample - loss: 1.7727 - val_loss: 1.7851\n",
            "Epoch 33/100\n",
            "845828/845828 [==============================] - 9s 10us/sample - loss: 1.7617 - val_loss: 1.8108\n",
            "Epoch 34/100\n",
            "845828/845828 [==============================] - 9s 11us/sample - loss: 1.7705 - val_loss: 1.7302\n",
            "Epoch 35/100\n",
            "845828/845828 [==============================] - 9s 10us/sample - loss: 1.7547 - val_loss: 1.7766\n",
            "Epoch 36/100\n",
            "845828/845828 [==============================] - 9s 11us/sample - loss: 1.7463 - val_loss: 1.7855\n",
            "Epoch 37/100\n",
            "845828/845828 [==============================] - 9s 10us/sample - loss: 1.7469 - val_loss: 1.7166\n",
            "Epoch 38/100\n",
            "845828/845828 [==============================] - 9s 10us/sample - loss: 1.7132 - val_loss: 1.7837\n",
            "Epoch 39/100\n",
            "845828/845828 [==============================] - 9s 11us/sample - loss: 1.7152 - val_loss: 1.7548\n",
            "Epoch 40/100\n",
            "845828/845828 [==============================] - 9s 11us/sample - loss: 1.7296 - val_loss: 1.7076\n",
            "Epoch 41/100\n",
            "845828/845828 [==============================] - 9s 11us/sample - loss: 1.7028 - val_loss: 1.7649\n",
            "Epoch 42/100\n",
            "845828/845828 [==============================] - 9s 10us/sample - loss: 1.7205 - val_loss: 1.7883\n",
            "Epoch 43/100\n",
            "845828/845828 [==============================] - 9s 11us/sample - loss: 1.7052 - val_loss: 1.7102\n",
            "Epoch 44/100\n",
            "845828/845828 [==============================] - 9s 11us/sample - loss: 1.6925 - val_loss: 1.7229\n",
            "Epoch 45/100\n",
            "845828/845828 [==============================] - 9s 11us/sample - loss: 1.7024 - val_loss: 1.7781\n",
            "Epoch 46/100\n",
            "845828/845828 [==============================] - 9s 10us/sample - loss: 1.6721 - val_loss: 1.6535\n",
            "Epoch 47/100\n",
            "845828/845828 [==============================] - 9s 11us/sample - loss: 1.6763 - val_loss: 1.6891\n",
            "Epoch 48/100\n",
            "845828/845828 [==============================] - 9s 11us/sample - loss: 1.6904 - val_loss: 1.7686\n",
            "Epoch 49/100\n",
            "845828/845828 [==============================] - 9s 10us/sample - loss: 1.6933 - val_loss: 1.7325\n",
            "Epoch 50/100\n",
            "845828/845828 [==============================] - 9s 11us/sample - loss: 1.6564 - val_loss: 1.7260\n",
            "Epoch 51/100\n",
            "845828/845828 [==============================] - 9s 10us/sample - loss: 1.6743 - val_loss: 1.7225\n",
            "Epoch 52/100\n",
            "845828/845828 [==============================] - 9s 10us/sample - loss: 1.6764 - val_loss: 1.7337\n",
            "Epoch 53/100\n",
            "845828/845828 [==============================] - 9s 10us/sample - loss: 1.6359 - val_loss: 1.6437\n",
            "Epoch 54/100\n",
            "845828/845828 [==============================] - 9s 10us/sample - loss: 1.6591 - val_loss: 1.6617\n",
            "Epoch 55/100\n",
            "845828/845828 [==============================] - 9s 10us/sample - loss: 1.6525 - val_loss: 1.7500\n",
            "Epoch 56/100\n",
            "845828/845828 [==============================] - 9s 10us/sample - loss: 1.6360 - val_loss: 1.6665\n",
            "Epoch 57/100\n",
            "845828/845828 [==============================] - 9s 11us/sample - loss: 1.6350 - val_loss: 1.6866\n",
            "Epoch 58/100\n",
            "845828/845828 [==============================] - 9s 10us/sample - loss: 1.6552 - val_loss: 1.7121\n",
            "Epoch 59/100\n",
            "845828/845828 [==============================] - 9s 11us/sample - loss: 1.6314 - val_loss: 1.7192\n",
            "Epoch 60/100\n",
            "845828/845828 [==============================] - 9s 11us/sample - loss: 1.6292 - val_loss: 1.6581\n",
            "Epoch 61/100\n",
            "845828/845828 [==============================] - 9s 11us/sample - loss: 1.6474 - val_loss: 1.6767\n",
            "Epoch 62/100\n",
            "845828/845828 [==============================] - 9s 11us/sample - loss: 1.6457 - val_loss: 1.7447\n",
            "Epoch 63/100\n",
            "845828/845828 [==============================] - 9s 10us/sample - loss: 1.6397 - val_loss: 1.6300\n",
            "Epoch 64/100\n",
            "845828/845828 [==============================] - 9s 11us/sample - loss: 1.6380 - val_loss: 1.6989\n",
            "Epoch 65/100\n",
            "845828/845828 [==============================] - 9s 10us/sample - loss: 1.6195 - val_loss: 1.7245\n",
            "Epoch 66/100\n",
            "845828/845828 [==============================] - 9s 11us/sample - loss: 1.6222 - val_loss: 1.6469\n",
            "Epoch 67/100\n",
            "845828/845828 [==============================] - 9s 11us/sample - loss: 1.6317 - val_loss: 1.7161\n",
            "Epoch 68/100\n",
            "845828/845828 [==============================] - 9s 11us/sample - loss: 1.6251 - val_loss: 1.6681\n",
            "Epoch 69/100\n",
            "845828/845828 [==============================] - 9s 10us/sample - loss: 1.6442 - val_loss: 1.6950\n",
            "Epoch 70/100\n",
            "845828/845828 [==============================] - 9s 10us/sample - loss: 1.6022 - val_loss: 1.6943\n",
            "Epoch 71/100\n",
            "845828/845828 [==============================] - 9s 11us/sample - loss: 1.6133 - val_loss: 1.6809\n",
            "Epoch 72/100\n",
            "845828/845828 [==============================] - 9s 10us/sample - loss: 1.6345 - val_loss: 1.6120\n",
            "Epoch 73/100\n",
            "845828/845828 [==============================] - 9s 10us/sample - loss: 1.6161 - val_loss: 1.6459\n",
            "Epoch 74/100\n",
            "845828/845828 [==============================] - 9s 11us/sample - loss: 1.6069 - val_loss: 1.7176\n",
            "Epoch 75/100\n",
            "845828/845828 [==============================] - 9s 11us/sample - loss: 1.5885 - val_loss: 1.6141\n",
            "Epoch 76/100\n",
            "845828/845828 [==============================] - 9s 11us/sample - loss: 1.5899 - val_loss: 1.6694\n",
            "Epoch 77/100\n",
            "845828/845828 [==============================] - 9s 11us/sample - loss: 1.6088 - val_loss: 1.6589\n",
            "Epoch 78/100\n",
            "845828/845828 [==============================] - 9s 11us/sample - loss: 1.6094 - val_loss: 1.6357\n",
            "Epoch 79/100\n",
            "845828/845828 [==============================] - 9s 10us/sample - loss: 1.5894 - val_loss: 1.7183\n",
            "Epoch 80/100\n",
            "845828/845828 [==============================] - 9s 10us/sample - loss: 1.5999 - val_loss: 1.6362\n",
            "Epoch 81/100\n",
            "845828/845828 [==============================] - 9s 11us/sample - loss: 1.5820 - val_loss: 1.7314\n",
            "Epoch 82/100\n",
            "845828/845828 [==============================] - 9s 10us/sample - loss: 1.6041 - val_loss: 1.6148\n",
            "Epoch 83/100\n",
            "845828/845828 [==============================] - 9s 11us/sample - loss: 1.6050 - val_loss: 1.6221\n",
            "Epoch 84/100\n",
            "845828/845828 [==============================] - 9s 10us/sample - loss: 1.5963 - val_loss: 1.6862\n",
            "Epoch 85/100\n",
            "845828/845828 [==============================] - 9s 10us/sample - loss: 1.5864 - val_loss: 1.5942\n",
            "Epoch 86/100\n",
            "845828/845828 [==============================] - 9s 10us/sample - loss: 1.5989 - val_loss: 1.6641\n",
            "Epoch 87/100\n",
            "845828/845828 [==============================] - 9s 10us/sample - loss: 1.5729 - val_loss: 1.6849\n",
            "Epoch 88/100\n",
            "845828/845828 [==============================] - 9s 11us/sample - loss: 1.5651 - val_loss: 1.5908\n",
            "Epoch 89/100\n",
            "845828/845828 [==============================] - 9s 10us/sample - loss: 1.5692 - val_loss: 1.7025\n",
            "Epoch 90/100\n",
            "845828/845828 [==============================] - 9s 11us/sample - loss: 1.5869 - val_loss: 1.6641\n",
            "Epoch 91/100\n",
            "845828/845828 [==============================] - 9s 10us/sample - loss: 1.5882 - val_loss: 1.6348\n",
            "Epoch 92/100\n",
            "845828/845828 [==============================] - 9s 10us/sample - loss: 1.5747 - val_loss: 1.6346\n",
            "Epoch 93/100\n",
            "845828/845828 [==============================] - 9s 10us/sample - loss: 1.5586 - val_loss: 1.7075\n",
            "Epoch 94/100\n",
            "845828/845828 [==============================] - 9s 11us/sample - loss: 1.5793 - val_loss: 1.7013\n",
            "Epoch 95/100\n",
            "845828/845828 [==============================] - 9s 11us/sample - loss: 1.5632 - val_loss: 1.6323\n",
            "Epoch 96/100\n",
            "845828/845828 [==============================] - 9s 10us/sample - loss: 1.5467 - val_loss: 1.7314\n",
            "Epoch 97/100\n",
            "845828/845828 [==============================] - 9s 11us/sample - loss: 1.5494 - val_loss: 1.7033\n",
            "Epoch 98/100\n",
            "845828/845828 [==============================] - 9s 10us/sample - loss: 1.5675 - val_loss: 1.6976\n",
            "Epoch 99/100\n",
            "845828/845828 [==============================] - 9s 10us/sample - loss: 1.5689 - val_loss: 1.6466\n",
            "Epoch 100/100\n",
            "845828/845828 [==============================] - 9s 11us/sample - loss: 1.5562 - val_loss: 1.5944\n"
          ]
        }
      ],
      "source": [
        "model.compile(optimizer=\"Adam\", loss=sampledsoftmaxloss)\n",
        "early_stop = tf.keras.callbacks.EarlyStopping(monitor='val_loss', patience=20)\n",
        "history = model.fit(train, train_label,\n",
        "                    batch_size=BATCH_SIZE, \n",
        "                    epochs=NEPOCH,\n",
        "                    verbose=1,\n",
        "                    validation_split=0.1,\n",
        "                    callbacks=[early_stop])\n",
        "model.save_weights('youtubednn.h5')"
      ]
    },
    {
      "cell_type": "code",
      "execution_count": 18,
      "metadata": {
        "id": "AGebkIE0uzM_"
      },
      "outputs": [],
      "source": [
        "model.load_weights('youtubednn.h5')"
      ]
    },
    {
      "cell_type": "code",
      "execution_count": 19,
      "metadata": {
        "colab": {
          "base_uri": "https://localhost:8080/"
        },
        "id": "G9AxEdKbuzM_",
        "outputId": "ce84d982-7bb9-40e8-c54f-9b58c46a083d"
      },
      "outputs": [
        {
          "name": "stdout",
          "output_type": "stream",
          "text": [
            "(6040, 128)\n",
            "(3883, 128)\n"
          ]
        }
      ],
      "source": [
        "all_item_model_input = {\"movie_id\": data['item']['movie_id'].values}\n",
        "\n",
        "user_embedding_model = Model(inputs=model.user_input, outputs=model.user_embedding)\n",
        "item_embedding_model = Model(inputs=model.item_input, outputs=model.item_embedding)\n",
        "\n",
        "user_embs = user_embedding_model.predict(test, batch_size=2 ** 12)\n",
        "item_embs = item_embedding_model.predict(all_item_model_input, batch_size=2 ** 12)\n",
        "\n",
        "print(user_embs.shape)\n",
        "print(item_embs.shape)"
      ]
    },
    {
      "cell_type": "markdown",
      "metadata": {
        "id": "UJ49Jxnf0-1O"
      },
      "source": [
        "# Use Faiss to predict"
      ]
    },
    {
      "cell_type": "code",
      "execution_count": 20,
      "metadata": {
        "id": "VE98kX6wuzNA"
      },
      "outputs": [],
      "source": [
        "index = faiss.IndexFlatIP(EMBEDDING_DIM)\n",
        "index.add(item_embs)"
      ]
    },
    {
      "cell_type": "code",
      "execution_count": 21,
      "metadata": {
        "id": "cr39MwzduzNA"
      },
      "outputs": [],
      "source": [
        "D, I = index.search(np.ascontiguousarray(user_embs), 10)\n",
        "s = []\n",
        "for i, uid in enumerate(test['user_id']):\n",
        "    try:\n",
        "        pred = data['item']['movie_id'].values[I[i]].tolist()\n",
        "        s.append(pred)\n",
        "    except:\n",
        "        print(i)\n",
        "s = np.array(s)"
      ]
    },
    {
      "cell_type": "code",
      "execution_count": 22,
      "metadata": {
        "id": "LnwBjN7ruzNB"
      },
      "outputs": [],
      "source": [
        "def apk(actual, predicted, k=10):\n",
        "    if len(predicted) > k:\n",
        "        predicted = predicted[:k]\n",
        "\n",
        "    score = 0.0\n",
        "    num_hits = 0.0\n",
        "    for i, p in enumerate(predicted):\n",
        "        if p in actual and p not in predicted[:i]:\n",
        "            num_hits += 1.0\n",
        "            score += num_hits / (i + 1.0)\n",
        "\n",
        "    return score / min(len(actual), k)\n",
        "\n",
        "def mapk(actual, predicted, k=12):\n",
        "    return np.mean(\n",
        "        [apk(a, p, k) for a, p in zip(actual, predicted)]\n",
        "    )\n",
        "\n",
        "\n",
        "def rk(actual, predicted, k=10):\n",
        "    if len(predicted) > k:\n",
        "        predicted = predicted[:k]\n",
        "\n",
        "    score = sum([1 for r in actual if r in predicted])/len(actual)\n",
        "\n",
        "    return score\n",
        "\n",
        "def recall_at_k(actual, predicted, k=12):\n",
        "    return np.mean(\n",
        "        [rk(a, p, k) for a, p in zip(actual, predicted)]\n",
        "    )"
      ]
    },
    {
      "cell_type": "code",
      "execution_count": 23,
      "metadata": {
        "colab": {
          "base_uri": "https://localhost:8080/"
        },
        "id": "ZLc_JPubuzNB",
        "outputId": "5a081b0e-bfbc-466b-9e39-8c6b9e32f9fb"
      },
      "outputs": [
        {
          "data": {
            "text/plain": [
              "0.039653362503941976"
            ]
          },
          "execution_count": 23,
          "metadata": {},
          "output_type": "execute_result"
        }
      ],
      "source": [
        "mapk(test_label, s, k=10)\n",
        "# 0.026905721118469464 map@10 without `example_age` and `example_age_2`\n",
        "# 0.039653362503941976  map@10 with `example_age` and `example_age^2`"
      ]
    },
    {
      "cell_type": "code",
      "execution_count": 24,
      "metadata": {
        "colab": {
          "base_uri": "https://localhost:8080/"
        },
        "id": "kap-zVgguzNC",
        "outputId": "b12a4d0e-b8e0-4701-c7fb-0da39b55f339"
      },
      "outputs": [
        {
          "data": {
            "text/plain": [
              "0.0939403973509934"
            ]
          },
          "execution_count": 24,
          "metadata": {},
          "output_type": "execute_result"
        }
      ],
      "source": [
        "recall_at_k(test_label, s, k=10)\n",
        "# 0.07466887417218543 reacall@10 without `example_age` and `example_age_2`\n",
        "# 0.0939403973509934  reacall@10 with `example_age` and `example_age^2`"
      ]
    }
  ],
  "metadata": {
    "accelerator": "GPU",
    "colab": {
      "collapsed_sections": [],
      "name": "YouTubeDNN.ipynb",
      "provenance": []
    },
    "interpreter": {
      "hash": "653a9876bfda977334bab0c6eac4e690c97044cb3c76993a10b084536ae29e50"
    },
    "kernelspec": {
      "display_name": "Python 3.8.5 ('base')",
      "language": "python",
      "name": "python3"
    },
    "language_info": {
      "codemirror_mode": {
        "name": "ipython",
        "version": 3
      },
      "file_extension": ".py",
      "mimetype": "text/x-python",
      "name": "python",
      "nbconvert_exporter": "python",
      "pygments_lexer": "ipython3",
      "version": "3.7.9"
    },
    "orig_nbformat": 4
  },
  "nbformat": 4,
  "nbformat_minor": 0
}
