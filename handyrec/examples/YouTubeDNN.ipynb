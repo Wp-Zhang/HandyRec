{
  "cells": [
    {
      "cell_type": "markdown",
      "metadata": {
        "id": "FXD2RCXzuzMx"
      },
      "source": [
        "[![Open In Colab](https://colab.research.google.com/assets/colab-badge.svg)](https://colab.research.google.com/github/Wp-Zhang/HandyRec/blob/master/handyrec/examples/YouTubeDNN.ipynb)"
      ]
    },
    {
      "cell_type": "markdown",
      "metadata": {
        "id": "OJKT5uytzl7t"
      },
      "source": [
        "> This notebook runs YouTubeDNN including candidate generation and ranking on MovieLens1M dataset."
      ]
    },
    {
      "cell_type": "markdown",
      "source": [
        "## Table of Contents:\n",
        "* [Prepare data for matching](#section-0)\n",
        "* [Train match model and export embeddings](#section-1)\n",
        "* [Use Faiss to generate candidates](#section-2)\n",
        "* [Train rank model and predict](#section-3)"
      ],
      "metadata": {
        "id": "YtD_3eG3xekg"
      }
    },
    {
      "cell_type": "markdown",
      "metadata": {
        "id": "XFTLC9SQzxK4"
      },
      "source": [
        "**Download dataset and install packages**"
      ]
    },
    {
      "cell_type": "code",
      "execution_count": null,
      "metadata": {
        "colab": {
          "base_uri": "https://localhost:8080/"
        },
        "id": "WSk1WSSpvXfL",
        "outputId": "9408166a-9098-4b44-8ba9-5608603a39db"
      },
      "outputs": [
        {
          "output_type": "stream",
          "name": "stdout",
          "text": [
            "Cloning into 'HandyRec'...\n",
            "remote: Enumerating objects: 192, done.\u001b[K\n",
            "remote: Counting objects: 100% (192/192), done.\u001b[K\n",
            "remote: Compressing objects: 100% (146/146), done.\u001b[K\n",
            "remote: Total 192 (delta 76), reused 128 (delta 29), pack-reused 0\u001b[K\n",
            "Receiving objects: 100% (192/192), 229.71 KiB | 1.54 MiB/s, done.\n",
            "Resolving deltas: 100% (76/76), done.\n",
            "Collecting faiss-cpu\n",
            "  Downloading faiss_cpu-1.7.2-cp37-cp37m-manylinux_2_17_x86_64.manylinux2014_x86_64.whl (8.6 MB)\n",
            "\u001b[K     |████████████████████████████████| 8.6 MB 13.2 MB/s \n",
            "\u001b[?25hInstalling collected packages: faiss-cpu\n",
            "Successfully installed faiss-cpu-1.7.2\n"
          ]
        }
      ],
      "source": [
        "! git clone https://github.com/Wp-Zhang/HandyRec.git\n",
        "! pip install faiss-cpu"
      ]
    },
    {
      "cell_type": "code",
      "execution_count": null,
      "metadata": {
        "colab": {
          "base_uri": "https://localhost:8080/"
        },
        "id": "uiIqXdbUyCEi",
        "outputId": "5fe8688e-cfa2-409f-f00e-461672abba8b"
      },
      "outputs": [
        {
          "output_type": "stream",
          "name": "stdout",
          "text": [
            "--2022-03-13 14:51:04--  http://files.grouplens.org/datasets/movielens/ml-1m.zip\n",
            "Resolving files.grouplens.org (files.grouplens.org)... 128.101.65.152\n",
            "Connecting to files.grouplens.org (files.grouplens.org)|128.101.65.152|:80... connected.\n",
            "HTTP request sent, awaiting response... 200 OK\n",
            "Length: 5917549 (5.6M) [application/zip]\n",
            "Saving to: ‘./ml-1m.zip’\n",
            "\n",
            "./ml-1m.zip         100%[===================>]   5.64M  6.84MB/s    in 0.8s    \n",
            "\n",
            "2022-03-13 14:51:05 (6.84 MB/s) - ‘./ml-1m.zip’ saved [5917549/5917549]\n",
            "\n",
            "Archive:  ml-1m.zip\n",
            "   creating: ml-1m/\n",
            "  inflating: ml-1m/movies.dat        \n",
            "  inflating: ml-1m/ratings.dat       \n",
            "  inflating: ml-1m/README            \n",
            "  inflating: ml-1m/users.dat         \n"
          ]
        }
      ],
      "source": [
        "! wget http://files.grouplens.org/datasets/movielens/ml-1m.zip -O ./ml-1m.zip\n",
        "! unzip -o ml-1m.zip"
      ]
    },
    {
      "cell_type": "markdown",
      "metadata": {
        "id": "gsUc0pRE0BEH"
      },
      "source": [
        "**Import relative packages**"
      ]
    },
    {
      "cell_type": "code",
      "execution_count": null,
      "metadata": {
        "id": "PzbZZUXxvxvm"
      },
      "outputs": [],
      "source": [
        "import sys\n",
        "sys.path.append('./HandyRec/')"
      ]
    },
    {
      "cell_type": "code",
      "execution_count": null,
      "metadata": {
        "id": "NlQtiTrmuzM3"
      },
      "outputs": [],
      "source": [
        "from handyrec.examples.utils import MatchDataHelper, RankDataHelper, sampledsoftmaxloss\n",
        "from handyrec.models.match import YouTubeMatchDNN\n",
        "from handyrec.models.rank import YouTubeRankDNN\n",
        "from handyrec.features import DenseFeature, SparseFeature, SparseSeqFeature\n",
        "import tensorflow as tf\n",
        "from tensorflow.keras import Model\n",
        "from tensorflow.keras.losses import binary_crossentropy\n",
        "import numpy as np\n",
        "import pandas as pd\n",
        "import gc\n",
        "import faiss\n",
        "from tqdm import tqdm\n",
        "from sklearn.preprocessing import StandardScaler"
      ]
    },
    {
      "cell_type": "code",
      "execution_count": null,
      "metadata": {
        "id": "iYOxv7-auzM3"
      },
      "outputs": [],
      "source": [
        "import warnings\n",
        "warnings.filterwarnings('ignore')"
      ]
    },
    {
      "cell_type": "code",
      "execution_count": null,
      "metadata": {
        "id": "LnwBjN7ruzNB"
      },
      "outputs": [],
      "source": [
        "def apk(actual, predicted, k=10):\n",
        "    if len(predicted) > k:\n",
        "        predicted = predicted[:k]\n",
        "\n",
        "    score = 0.0\n",
        "    num_hits = 0.0\n",
        "    for i, p in enumerate(predicted):\n",
        "        if p in actual and p not in predicted[:i]:\n",
        "            num_hits += 1.0\n",
        "            score += num_hits / (i + 1.0)\n",
        "\n",
        "    return score / min(len(actual), k)\n",
        "\n",
        "def mapk(actual, predicted, k=12):\n",
        "    \"\"\"Calculate map@k\"\"\"\n",
        "    return np.mean(\n",
        "        [apk(a, p, k) for a, p in zip(actual, predicted)]\n",
        "    )\n",
        "\n",
        "\n",
        "def rk(actual, predicted, k=10):\n",
        "    if len(predicted) > k:\n",
        "        predicted = predicted[:k]\n",
        "\n",
        "    score = sum([1 for r in actual if r in predicted])/len(actual)\n",
        "\n",
        "    return score\n",
        "\n",
        "def recall_at_k(actual, predicted, k=12):\n",
        "    \"\"\"Calculate mean recall@k\"\"\"\n",
        "    return np.mean(\n",
        "        [rk(a, p, k) for a, p in zip(actual, predicted)]\n",
        "    )"
      ]
    },
    {
      "cell_type": "markdown",
      "metadata": {
        "id": "MXNUDnO_0VLl"
      },
      "source": [
        "# 0. Prepare data for matching<a name=\"section-0\"></a>"
      ]
    },
    {
      "cell_type": "code",
      "execution_count": null,
      "metadata": {
        "id": "sd9YxkQwuzM4"
      },
      "outputs": [],
      "source": [
        "MATCH_EMBEDDING_DIM = 256\n",
        "RANK_EMBEDDING_DIM = 256\n",
        "SEQ_LEN = 40\n",
        "BATCH_SIZE = 2**12\n",
        "NEPOCH = 100\n",
        "\n",
        "NEG_NUM = 10\n",
        "CANDIDATE_NUM = 100"
      ]
    },
    {
      "cell_type": "code",
      "execution_count": null,
      "metadata": {
        "colab": {
          "base_uri": "https://localhost:8080/"
        },
        "id": "wgw6prfluzM5",
        "outputId": "2ce0d69f-8dc7-4416-ce08-1b3b6d539f71"
      },
      "outputs": [
        {
          "output_type": "stream",
          "name": "stderr",
          "text": [
            "Encode User Sparse Feats: 100%|██████████| 4/4 [00:00<00:00, 55.85it/s]\n",
            "Encode Item Sparse Feats: 0it [00:00, ?it/s]\n"
          ]
        }
      ],
      "source": [
        "match_dh = MatchDataHelper('./ml-1m/')\n",
        "match_features = ['user_id', 'movie_id', 'gender', 'age', 'occupation', 'zip']\n",
        "lbd_features = ['gender','age','occupation', 'zip']\n",
        "data = match_dh.preprocess_data(lbd_features)"
      ]
    },
    {
      "cell_type": "code",
      "source": [
        "match_dh.gen_data_set(match_features, data, seq_max_len=SEQ_LEN)"
      ],
      "metadata": {
        "colab": {
          "base_uri": "https://localhost:8080/"
        },
        "id": "NgFNVG3rvY-O",
        "outputId": "60cd86e1-5245-48dd-ba4e-e6396ae49937"
      },
      "execution_count": null,
      "outputs": [
        {
          "output_type": "stream",
          "name": "stderr",
          "text": [
            "Generate train set: 100%|██████████| 6040/6040 [00:12<00:00, 477.00it/s] \n",
            "100%|██████████| 4/4 [00:00<00:00,  6.62it/s]\n",
            "0it [00:00, ?it/s]\n"
          ]
        }
      ]
    },
    {
      "cell_type": "code",
      "execution_count": null,
      "metadata": {
        "colab": {
          "base_uri": "https://localhost:8080/"
        },
        "id": "nWhojvyKuzM7",
        "outputId": "76dc1c06-d595-4cce-c6b0-704b71249078"
      },
      "outputs": [
        {
          "output_type": "stream",
          "name": "stderr",
          "text": [
            "Load user Features: 100%|██████████| 8/8 [00:00<00:00, 141.50it/s]\n",
            "Load movie Features: 100%|██████████| 1/1 [00:00<00:00, 389.08it/s]\n"
          ]
        }
      ],
      "source": [
        "match_user_features = ['user_id','gender','age','occupation', 'zip']\n",
        "match_movie_features = ['movie_id']\n",
        "match_train, match_train_label, match_test, match_test_label = match_dh.load_dataset(match_user_features, match_movie_features)"
      ]
    },
    {
      "cell_type": "markdown",
      "metadata": {
        "id": "wMAdJxpc0x1U"
      },
      "source": [
        "# 1. Train match model and export embeddings <a name=\"section-1\"></a>"
      ]
    },
    {
      "cell_type": "code",
      "execution_count": null,
      "metadata": {
        "id": "VnQIMObLn9U7"
      },
      "outputs": [],
      "source": [
        "# Standarize dense feature\n",
        "stds = StandardScaler()\n",
        "match_train['example_age'] = stds.fit_transform(match_train['example_age'].reshape(-1,1)).reshape(-1)\n",
        "match_test['example_age'] = stds.transform(match_test['example_age'].reshape(-1,1)).reshape(-1)\n",
        "# add example_age^2 as showed in the original paper\n",
        "match_train['example_age_2'] = match_train['example_age']**2\n",
        "match_test['example_age_2'] = match_test['example_age']**2"
      ]
    },
    {
      "cell_type": "code",
      "execution_count": null,
      "metadata": {
        "id": "Lt-aoR__uzM8"
      },
      "outputs": [],
      "source": [
        "match_feature_dim = {}\n",
        "for feat in match_user_features:\n",
        "    match_feature_dim[feat] = data['user'][feat].max()+1\n",
        "for feat in match_movie_features:\n",
        "    match_feature_dim[feat] = data['item'][feat].max()+1"
      ]
    },
    {
      "cell_type": "code",
      "execution_count": null,
      "metadata": {
        "id": "DBLxg5truzM8"
      },
      "outputs": [],
      "source": [
        "match_user_dense_feats = ['example_age','example_age_2']\n",
        "match_user_sparse_feats = ['user_id','gender','age','occupation', 'zip']"
      ]
    },
    {
      "cell_type": "code",
      "execution_count": null,
      "metadata": {
        "id": "mxDDKxm7uzM9"
      },
      "outputs": [],
      "source": [
        "match_user_features = [SparseFeature(x, match_feature_dim[x], MATCH_EMBEDDING_DIM) for x in match_user_sparse_feats] +\\\n",
        "                [DenseFeature(x) for x in match_user_dense_feats] +\\\n",
        "                [SparseSeqFeature(SparseFeature('movie_id', match_feature_dim['movie_id'], MATCH_EMBEDDING_DIM), 'hist_movie_id',SEQ_LEN)]\n",
        "match_item_id = SparseFeature('movie_id', match_feature_dim['movie_id'], MATCH_EMBEDDING_DIM)"
      ]
    },
    {
      "cell_type": "code",
      "execution_count": null,
      "metadata": {
        "id": "RAFUZ94UuzM-"
      },
      "outputs": [],
      "source": [
        "tf.compat.v1.disable_eager_execution()"
      ]
    },
    {
      "cell_type": "code",
      "execution_count": null,
      "metadata": {
        "colab": {
          "base_uri": "https://localhost:8080/"
        },
        "id": "lKURLYXkuzM-",
        "outputId": "930fa993-de72-4f5f-9564-baa5055f68e6"
      },
      "outputs": [
        {
          "output_type": "stream",
          "name": "stdout",
          "text": [
            "WARNING:tensorflow:From /usr/local/lib/python3.7/dist-packages/keras/layers/normalization/batch_normalization.py:532: _colocate_with (from tensorflow.python.framework.ops) is deprecated and will be removed in a future version.\n",
            "Instructions for updating:\n",
            "Colocations handled automatically by placer.\n"
          ]
        }
      ],
      "source": [
        "match_model = YouTubeMatchDNN(\n",
        "    match_user_features, match_item_id, num_sampled=100, \n",
        "    user_dnn_hidden_units=(1024,512,MATCH_EMBEDDING_DIM), dnn_dropout=0.2\n",
        ")"
      ]
    },
    {
      "cell_type": "code",
      "execution_count": null,
      "metadata": {
        "colab": {
          "base_uri": "https://localhost:8080/"
        },
        "id": "2xizKlTvuzM_",
        "outputId": "a15a67ce-7188-41df-90e1-6999a0478da7"
      },
      "outputs": [
        {
          "output_type": "stream",
          "name": "stdout",
          "text": [
            "Train on 845828 samples, validate on 93981 samples\n",
            "Epoch 1/100\n",
            "845828/845828 [==============================] - 22s 27us/sample - loss: 3.6860 - val_loss: 3.4430\n",
            "Epoch 2/100\n",
            "845828/845828 [==============================] - 16s 19us/sample - loss: 3.1074 - val_loss: 3.1564\n",
            "Epoch 3/100\n",
            "845828/845828 [==============================] - 16s 19us/sample - loss: 2.8281 - val_loss: 2.6951\n",
            "Epoch 4/100\n",
            "845828/845828 [==============================] - 16s 19us/sample - loss: 2.5898 - val_loss: 2.5207\n",
            "Epoch 5/100\n",
            "845828/845828 [==============================] - 16s 19us/sample - loss: 2.4849 - val_loss: 2.3871\n",
            "Epoch 6/100\n",
            "845828/845828 [==============================] - 17s 20us/sample - loss: 2.3259 - val_loss: 2.3273\n",
            "Epoch 7/100\n",
            "845828/845828 [==============================] - 16s 19us/sample - loss: 2.2429 - val_loss: 2.2674\n",
            "Epoch 8/100\n",
            "845828/845828 [==============================] - 16s 19us/sample - loss: 2.1705 - val_loss: 2.1544\n",
            "Epoch 9/100\n",
            "845828/845828 [==============================] - 16s 19us/sample - loss: 2.1050 - val_loss: 2.1403\n",
            "Epoch 10/100\n",
            "845828/845828 [==============================] - 18s 22us/sample - loss: 2.0523 - val_loss: 2.0209\n",
            "Epoch 11/100\n",
            "845828/845828 [==============================] - 16s 19us/sample - loss: 2.0122 - val_loss: 2.0871\n",
            "Epoch 12/100\n",
            "845828/845828 [==============================] - 16s 19us/sample - loss: 1.9402 - val_loss: 1.9699\n",
            "Epoch 13/100\n",
            "845828/845828 [==============================] - 16s 19us/sample - loss: 1.9231 - val_loss: 2.0374\n",
            "Epoch 14/100\n",
            "845828/845828 [==============================] - 16s 19us/sample - loss: 1.9110 - val_loss: 1.8811\n",
            "Epoch 15/100\n",
            "845828/845828 [==============================] - 16s 19us/sample - loss: 1.8673 - val_loss: 1.8699\n",
            "Epoch 16/100\n",
            "845828/845828 [==============================] - 16s 19us/sample - loss: 1.8106 - val_loss: 1.8551\n",
            "Epoch 17/100\n",
            "845828/845828 [==============================] - 16s 19us/sample - loss: 1.7893 - val_loss: 1.8219\n",
            "Epoch 18/100\n",
            "845828/845828 [==============================] - 16s 19us/sample - loss: 1.7533 - val_loss: 1.8758\n",
            "Epoch 19/100\n",
            "845828/845828 [==============================] - 17s 20us/sample - loss: 1.7341 - val_loss: 1.7940\n",
            "Epoch 20/100\n",
            "845828/845828 [==============================] - 16s 19us/sample - loss: 1.7266 - val_loss: 1.8119\n",
            "Epoch 21/100\n",
            "845828/845828 [==============================] - 16s 19us/sample - loss: 1.7008 - val_loss: 1.7506\n",
            "Epoch 22/100\n",
            "845828/845828 [==============================] - 16s 19us/sample - loss: 1.6990 - val_loss: 1.8775\n",
            "Epoch 23/100\n",
            "845828/845828 [==============================] - 16s 19us/sample - loss: 1.6731 - val_loss: 1.7527\n",
            "Epoch 24/100\n",
            "845828/845828 [==============================] - 16s 19us/sample - loss: 1.6542 - val_loss: 1.7386\n",
            "Epoch 25/100\n",
            "845828/845828 [==============================] - 16s 19us/sample - loss: 1.6396 - val_loss: 1.7649\n",
            "Epoch 26/100\n",
            "845828/845828 [==============================] - 16s 19us/sample - loss: 1.6416 - val_loss: 1.7283\n",
            "Epoch 27/100\n",
            "845828/845828 [==============================] - 16s 19us/sample - loss: 1.6252 - val_loss: 1.7644\n",
            "Epoch 28/100\n",
            "845828/845828 [==============================] - 16s 19us/sample - loss: 1.6017 - val_loss: 1.7481\n",
            "Epoch 29/100\n",
            "845828/845828 [==============================] - 16s 19us/sample - loss: 1.5876 - val_loss: 1.8132\n",
            "Epoch 30/100\n",
            "845828/845828 [==============================] - 16s 19us/sample - loss: 1.5958 - val_loss: 1.7335\n",
            "Epoch 31/100\n",
            "845828/845828 [==============================] - 16s 19us/sample - loss: 1.5810 - val_loss: 1.6200\n",
            "Epoch 32/100\n",
            "845828/845828 [==============================] - 16s 19us/sample - loss: 1.5573 - val_loss: 1.6955\n",
            "Epoch 33/100\n",
            "845828/845828 [==============================] - 16s 19us/sample - loss: 1.5606 - val_loss: 1.6616\n",
            "Epoch 34/100\n",
            "845828/845828 [==============================] - 16s 19us/sample - loss: 1.5436 - val_loss: 1.7222\n",
            "Epoch 35/100\n",
            "845828/845828 [==============================] - 16s 19us/sample - loss: 1.5471 - val_loss: 1.7549\n",
            "Epoch 36/100\n",
            "845828/845828 [==============================] - 16s 19us/sample - loss: 1.5225 - val_loss: 1.6880\n",
            "Epoch 37/100\n",
            "845828/845828 [==============================] - 16s 19us/sample - loss: 1.5188 - val_loss: 1.7051\n",
            "Epoch 38/100\n",
            "845828/845828 [==============================] - 16s 19us/sample - loss: 1.5369 - val_loss: 1.6440\n",
            "Epoch 39/100\n",
            "845828/845828 [==============================] - 16s 19us/sample - loss: 1.5175 - val_loss: 1.6870\n",
            "Epoch 40/100\n",
            "845828/845828 [==============================] - 16s 19us/sample - loss: 1.5121 - val_loss: 1.6528\n",
            "Epoch 41/100\n",
            "845828/845828 [==============================] - 16s 19us/sample - loss: 1.5167 - val_loss: 1.6929\n",
            "Epoch 42/100\n",
            "845828/845828 [==============================] - 16s 19us/sample - loss: 1.4881 - val_loss: 1.6541\n",
            "Epoch 43/100\n",
            "845828/845828 [==============================] - 16s 19us/sample - loss: 1.4953 - val_loss: 1.6590\n",
            "Epoch 44/100\n",
            "845828/845828 [==============================] - 16s 19us/sample - loss: 1.4986 - val_loss: 1.6213\n",
            "Epoch 45/100\n",
            "845828/845828 [==============================] - 16s 19us/sample - loss: 1.4757 - val_loss: 1.6690\n",
            "Epoch 46/100\n",
            "845828/845828 [==============================] - 16s 19us/sample - loss: 1.4771 - val_loss: 1.7132\n",
            "Epoch 47/100\n",
            "845828/845828 [==============================] - 16s 19us/sample - loss: 1.4700 - val_loss: 1.6774\n",
            "Epoch 48/100\n",
            "845828/845828 [==============================] - 16s 19us/sample - loss: 1.4573 - val_loss: 1.6292\n",
            "Epoch 49/100\n",
            "845828/845828 [==============================] - 16s 19us/sample - loss: 1.4377 - val_loss: 1.6775\n",
            "Epoch 50/100\n",
            "845828/845828 [==============================] - 16s 19us/sample - loss: 1.4604 - val_loss: 1.6359\n",
            "Epoch 51/100\n",
            "845828/845828 [==============================] - 16s 19us/sample - loss: 1.4426 - val_loss: 1.6895\n"
          ]
        }
      ],
      "source": [
        "match_model.compile(optimizer=tf.keras.optimizers.Adam(lr=1e-3), loss=sampledsoftmaxloss)\n",
        "early_stop = tf.keras.callbacks.EarlyStopping(monitor='val_loss', patience=20)\n",
        "checkpoint = tf.keras.callbacks.ModelCheckpoint(\n",
        "    filepath='./match_checkpoint/',\n",
        "    save_weights_only=True,\n",
        "    monitor='val_loss',\n",
        "    mode='min',\n",
        "    save_best_only=True)\n",
        "history = match_model.fit(match_train, match_train_label,\n",
        "                            batch_size=BATCH_SIZE, \n",
        "                            epochs=NEPOCH,\n",
        "                            verbose=1,\n",
        "                            validation_split=0.1,\n",
        "                            callbacks=[early_stop,checkpoint])\n",
        "# model.load_weights('youtubematch.h5')"
      ]
    },
    {
      "cell_type": "code",
      "execution_count": null,
      "metadata": {
        "id": "AGebkIE0uzM_",
        "colab": {
          "base_uri": "https://localhost:8080/"
        },
        "outputId": "b663a733-1341-4f02-fba6-c59e58f1e7a7"
      },
      "outputs": [
        {
          "output_type": "execute_result",
          "data": {
            "text/plain": [
              "<tensorflow.python.training.tracking.util.CheckpointLoadStatus at 0x7f0bc86985d0>"
            ]
          },
          "metadata": {},
          "execution_count": 18
        }
      ],
      "source": [
        "# model.load_weights('youtubematch.h5')\n",
        "match_model.load_weights('./match_checkpoint/')"
      ]
    },
    {
      "cell_type": "code",
      "execution_count": null,
      "metadata": {
        "id": "G9AxEdKbuzM_",
        "colab": {
          "base_uri": "https://localhost:8080/"
        },
        "outputId": "9a86a737-3c7f-4d5b-de66-1013ff296d2c"
      },
      "outputs": [
        {
          "output_type": "stream",
          "name": "stdout",
          "text": [
            "(6040, 256)\n",
            "(3883, 256)\n"
          ]
        }
      ],
      "source": [
        "all_item_model_input = {\"movie_id\": data['item']['movie_id'].values}\n",
        "\n",
        "user_embedding_model = Model(inputs=match_model.user_input, outputs=match_model.user_embedding)\n",
        "item_embedding_model = Model(inputs=match_model.item_input, outputs=match_model.item_embedding)\n",
        "\n",
        "user_embs = user_embedding_model.predict(match_test, batch_size=2 ** 15)\n",
        "item_embs = item_embedding_model.predict(all_item_model_input, batch_size=2 ** 15)\n",
        "\n",
        "print(user_embs.shape)\n",
        "print(item_embs.shape)"
      ]
    },
    {
      "cell_type": "markdown",
      "metadata": {
        "id": "UJ49Jxnf0-1O"
      },
      "source": [
        "# 2. Use Faiss to generate candidates <a name=\"section-2\"></a>"
      ]
    },
    {
      "cell_type": "markdown",
      "metadata": {
        "id": "qEAI8Rl7hzgv"
      },
      "source": [
        "## Test match model"
      ]
    },
    {
      "cell_type": "code",
      "execution_count": null,
      "metadata": {
        "id": "VE98kX6wuzNA"
      },
      "outputs": [],
      "source": [
        "index = faiss.IndexFlatIP(MATCH_EMBEDDING_DIM)\n",
        "index.add(item_embs)"
      ]
    },
    {
      "cell_type": "code",
      "execution_count": null,
      "metadata": {
        "id": "cr39MwzduzNA"
      },
      "outputs": [],
      "source": [
        "D, I = index.search(np.ascontiguousarray(user_embs), CANDIDATE_NUM)\n",
        "candidates = []\n",
        "for i, uid in enumerate(match_test['user_id']):\n",
        "    pred = data['item']['movie_id'].values[I[i]].tolist()\n",
        "    candidates.append(pred)\n",
        "candidates = np.array(candidates)"
      ]
    },
    {
      "cell_type": "code",
      "execution_count": null,
      "metadata": {
        "id": "ZLc_JPubuzNB",
        "colab": {
          "base_uri": "https://localhost:8080/"
        },
        "outputId": "1c45653b-6241-4799-f7a4-0e478d84a3c4"
      },
      "outputs": [
        {
          "output_type": "execute_result",
          "data": {
            "text/plain": [
              "0.035381523967202774"
            ]
          },
          "metadata": {},
          "execution_count": 22
        }
      ],
      "source": [
        "mapk(match_test_label, candidates, k=10)"
      ]
    },
    {
      "cell_type": "code",
      "execution_count": null,
      "metadata": {
        "id": "kap-zVgguzNC",
        "colab": {
          "base_uri": "https://localhost:8080/"
        },
        "outputId": "749bbfe9-6879-448b-e135-79db14f9cea5"
      },
      "outputs": [
        {
          "output_type": "execute_result",
          "data": {
            "text/plain": [
              "0.08612582781456954"
            ]
          },
          "metadata": {},
          "execution_count": 23
        }
      ],
      "source": [
        "recall_at_k(match_test_label, candidates, k=10)"
      ]
    },
    {
      "cell_type": "code",
      "execution_count": null,
      "metadata": {
        "id": "WyU4hfCihzgw",
        "colab": {
          "base_uri": "https://localhost:8080/"
        },
        "outputId": "826b01ca-9f38-4de3-e0db-4eaa17d0d369"
      },
      "outputs": [
        {
          "output_type": "execute_result",
          "data": {
            "text/plain": [
              "0.4718377483443708"
            ]
          },
          "metadata": {},
          "execution_count": 24
        }
      ],
      "source": [
        "recall_at_k(match_test_label, candidates, k=100)"
      ]
    },
    {
      "cell_type": "markdown",
      "metadata": {
        "id": "l9L5duhQhzgw"
      },
      "source": [
        "## Prepare data for ranking"
      ]
    },
    {
      "cell_type": "code",
      "execution_count": null,
      "metadata": {
        "id": "XpXydY19hzgx",
        "colab": {
          "base_uri": "https://localhost:8080/"
        },
        "outputId": "5e8a7678-6936-4a35-ebaf-f658b19ff7ee"
      },
      "outputs": [
        {
          "output_type": "stream",
          "name": "stderr",
          "text": [
            "6040it [00:00, 28015.89it/s]\n"
          ]
        }
      ],
      "source": [
        "test_user_embs = user_embedding_model.predict(match_test, batch_size=2 ** 15)\n",
        "index = faiss.IndexFlatIP(MATCH_EMBEDDING_DIM)\n",
        "index.add(item_embs)\n",
        "D, I = index.search(np.ascontiguousarray(test_user_embs), 100)\n",
        "test_candidates = {}\n",
        "for i, uid in tqdm(enumerate(match_test['user_id'])):\n",
        "    pred = data['item']['movie_id'].values[I[i]].tolist()\n",
        "    pred = [x for x in pred if x!=match_train_label[i]]\n",
        "    pred = pred[:NEG_NUM]\n",
        "    test_candidates[uid] = pred"
      ]
    },
    {
      "cell_type": "code",
      "source": [
        "del user_embs, item_embs, match_train, match_train_label, test_user_embs\n",
        "gc.collect()"
      ],
      "metadata": {
        "id": "yynuwvUppia6",
        "colab": {
          "base_uri": "https://localhost:8080/"
        },
        "outputId": "331d5fb6-71c0-4d25-b3bb-a10949c81d6d"
      },
      "execution_count": null,
      "outputs": [
        {
          "output_type": "execute_result",
          "data": {
            "text/plain": [
              "50"
            ]
          },
          "metadata": {},
          "execution_count": 26
        }
      ]
    },
    {
      "cell_type": "code",
      "execution_count": null,
      "metadata": {
        "id": "HzBXnYuwhzgx"
      },
      "outputs": [],
      "source": [
        "rank_dh = RankDataHelper('./ml-1m/')\n",
        "rank_features = ['user_id', 'gender', 'age', 'occupation', 'zip'] +\\\n",
        "           [f for f in data['item'].columns if f != 'title']"
      ]
    },
    {
      "cell_type": "code",
      "execution_count": null,
      "metadata": {
        "id": "gGyfmJaFhzgx",
        "colab": {
          "base_uri": "https://localhost:8080/"
        },
        "outputId": "6cfdc530-117e-47f4-d963-319cd9767710"
      },
      "outputs": [
        {
          "output_type": "stream",
          "name": "stderr",
          "text": [
            "Generate train set: 100%|██████████| 6040/6040 [00:36<00:00, 167.35it/s]\n",
            "100%|██████████| 4/4 [00:01<00:00,  2.65it/s]\n",
            "100%|██████████| 18/18 [00:07<00:00,  2.43it/s]\n"
          ]
        }
      ],
      "source": [
        "rank_dh.gen_data_set(rank_features, data, test_candidates, seq_max_len=SEQ_LEN, negnum=NEG_NUM)"
      ]
    },
    {
      "cell_type": "code",
      "execution_count": null,
      "metadata": {
        "id": "4wQASPHrhzgx",
        "colab": {
          "base_uri": "https://localhost:8080/"
        },
        "outputId": "a4455370-a6e4-410a-c1e4-e4a4603376a6"
      },
      "outputs": [
        {
          "output_type": "stream",
          "name": "stderr",
          "text": [
            "Load user Features: 100%|██████████| 9/9 [00:14<00:00,  1.62s/it]\n",
            "Load movie Features: 100%|██████████| 19/19 [00:06<00:00,  3.03it/s]\n"
          ]
        }
      ],
      "source": [
        "rank_user_features = ['user_id','gender','age','occupation', 'zip']\n",
        "rank_movie_features = [f for f in data['item'].columns if f != 'title']\n",
        "rank_train, rank_train_label, rank_test = rank_dh.load_dataset(rank_user_features, rank_movie_features)"
      ]
    },
    {
      "cell_type": "code",
      "execution_count": null,
      "metadata": {
        "id": "FiPbsPZthzgx"
      },
      "outputs": [],
      "source": [
        "stds = StandardScaler()\n",
        "rank_train['time_gap'] = stds.fit_transform(rank_train['time_gap'].reshape(-1,1)).reshape(-1)\n",
        "rank_test['time_gap'] = stds.fit_transform(rank_test['time_gap'].reshape(-1,1)).reshape(-1)\n",
        "rank_train['time_gap_2'] = rank_train['time_gap']**2\n",
        "rank_train['time_gap_square'] = np.sqrt(rank_train['time_gap'])\n",
        "rank_test['time_gap_2'] = rank_test['time_gap']**2\n",
        "rank_test['time_gap_square'] = np.sqrt(rank_test['time_gap'])"
      ]
    },
    {
      "cell_type": "code",
      "source": [
        "stds2 = StandardScaler()\n",
        "rank_train['example_age'] = stds2.fit_transform(rank_train['example_age'].reshape(-1,1)).reshape(-1)\n",
        "rank_test['example_age'] = stds2.fit_transform(rank_test['example_age'].reshape(-1,1)).reshape(-1)\n",
        "rank_train['example_age_2'] = rank_train['example_age']**2\n",
        "rank_test['example_age_2'] = rank_test['example_age']**2"
      ],
      "metadata": {
        "id": "pMdapV37v99t"
      },
      "execution_count": null,
      "outputs": []
    },
    {
      "cell_type": "code",
      "execution_count": null,
      "metadata": {
        "id": "m8OHDb3Whzgy"
      },
      "outputs": [],
      "source": [
        "rank_feature_dim = {}\n",
        "for feat in rank_user_features:\n",
        "    rank_feature_dim[feat] = data['user'][feat].max()+1\n",
        "for feat in rank_movie_features:\n",
        "    rank_feature_dim[feat] = data['item'][feat].max()+1"
      ]
    },
    {
      "cell_type": "markdown",
      "metadata": {
        "id": "kyApc4cJhzgy"
      },
      "source": [
        "# 3. Train rank model and predict <a name=\"section-3\"></a>"
      ]
    },
    {
      "cell_type": "code",
      "execution_count": null,
      "metadata": {
        "id": "XVzs-bBwhzgy"
      },
      "outputs": [],
      "source": [
        "rank_user_dense_feats = ['time_gap','time_gap_2','time_gap_square','example_age','example_age_2']\n",
        "rank_user_sparse_feats = ['user_id','gender','age','occupation', 'zip']\n",
        "rank_item_dense_feats = [f for f in rank_movie_features if f !='movie_id']\n",
        "rank_item_sparse_feats = ['movie_id']"
      ]
    },
    {
      "cell_type": "code",
      "execution_count": null,
      "metadata": {
        "id": "3kJfgQ9Shzgy"
      },
      "outputs": [],
      "source": [
        "# change the improper feature name so it can be the name of a tf component\n",
        "for i, k in enumerate(rank_item_dense_feats):\n",
        "    if k == \"Children's\":\n",
        "        rank_item_dense_feats[i] = 'Children'\n",
        "rank_train['Children'] = rank_train.pop(\"Children's\")\n",
        "rank_test['Children'] = rank_test.pop(\"Children's\")"
      ]
    },
    {
      "cell_type": "code",
      "source": [
        "rank_user_features = [SparseFeature(x, rank_feature_dim[x], RANK_EMBEDDING_DIM) for x in rank_user_sparse_feats] +\\\n",
        "                [DenseFeature(x) for x in rank_user_dense_feats] +\\\n",
        "                [SparseSeqFeature(SparseFeature('movie_id', rank_feature_dim['movie_id'], RANK_EMBEDDING_DIM), 'hist_movie_id',SEQ_LEN)]\n",
        "rank_item_feats = [SparseFeature(x, rank_feature_dim[x], RANK_EMBEDDING_DIM) for x in rank_item_sparse_feats] +\\\n",
        "                [DenseFeature(x) for x in rank_item_dense_feats]"
      ],
      "metadata": {
        "id": "jT0Lyg0eiVvj"
      },
      "execution_count": null,
      "outputs": []
    },
    {
      "cell_type": "code",
      "execution_count": null,
      "metadata": {
        "id": "JPcd9GQVhzgy"
      },
      "outputs": [],
      "source": [
        "tf.compat.v1.disable_eager_execution()"
      ]
    },
    {
      "cell_type": "code",
      "execution_count": null,
      "metadata": {
        "id": "_uvYZtxBhzgy"
      },
      "outputs": [],
      "source": [
        "rank_model = YouTubeRankDNN(\n",
        "    rank_user_features, rank_item_feats, \n",
        "    dnn_hidden_units=(512,RANK_EMBEDDING_DIM), dnn_dropout=0.2\n",
        ")"
      ]
    },
    {
      "cell_type": "code",
      "execution_count": 38,
      "metadata": {
        "id": "H8l7JU3phzgy",
        "colab": {
          "base_uri": "https://localhost:8080/"
        },
        "outputId": "f6cfd90f-c1c5-44d3-cc64-6b625da87e3c"
      },
      "outputs": [
        {
          "output_type": "stream",
          "name": "stdout",
          "text": [
            "Train on 8787214 samples, validate on 1550685 samples\n",
            "Epoch 1/50\n",
            "8787214/8787214 [==============================] - 142s 16us/sample - loss: 3.2399 - val_loss: 13.8589\n",
            "Epoch 2/50\n",
            "8787214/8787214 [==============================] - 139s 16us/sample - loss: 1.8839 - val_loss: 13.8596\n",
            "Epoch 3/50\n",
            "8787214/8787214 [==============================] - 139s 16us/sample - loss: 1.4918 - val_loss: 13.8594\n",
            "Epoch 4/50\n",
            "8787214/8787214 [==============================] - 139s 16us/sample - loss: 1.4628 - val_loss: 1.5793\n",
            "Epoch 5/50\n",
            "8787214/8787214 [==============================] - 139s 16us/sample - loss: 1.4269 - val_loss: 1.5796\n",
            "Epoch 6/50\n",
            "8787214/8787214 [==============================] - 139s 16us/sample - loss: 1.4135 - val_loss: 13.8591\n",
            "Epoch 7/50\n",
            "8787214/8787214 [==============================] - 139s 16us/sample - loss: 1.3102 - val_loss: 13.8591\n",
            "Epoch 8/50\n",
            "8787214/8787214 [==============================] - 139s 16us/sample - loss: 1.0188 - val_loss: 13.8589\n",
            "Epoch 9/50\n",
            "8787214/8787214 [==============================] - 139s 16us/sample - loss: 0.6868 - val_loss: 0.4971\n",
            "Epoch 10/50\n",
            "8787214/8787214 [==============================] - 139s 16us/sample - loss: 0.6850 - val_loss: 0.5238\n",
            "Epoch 11/50\n",
            "8787214/8787214 [==============================] - 139s 16us/sample - loss: 0.6821 - val_loss: 0.5099\n",
            "Epoch 12/50\n",
            "8787214/8787214 [==============================] - 139s 16us/sample - loss: 0.6829 - val_loss: 0.4975\n",
            "Epoch 13/50\n",
            "8787214/8787214 [==============================] - 139s 16us/sample - loss: 0.6815 - val_loss: 0.4946\n",
            "Epoch 14/50\n",
            "8787214/8787214 [==============================] - 139s 16us/sample - loss: 0.6808 - val_loss: 0.4938\n",
            "Epoch 15/50\n",
            "8787214/8787214 [==============================] - 139s 16us/sample - loss: 0.6795 - val_loss: 0.4932\n",
            "Epoch 16/50\n",
            "8787214/8787214 [==============================] - 139s 16us/sample - loss: 0.6781 - val_loss: 0.4933\n",
            "Epoch 17/50\n",
            "8787214/8787214 [==============================] - 139s 16us/sample - loss: 0.6780 - val_loss: 0.4943\n",
            "Epoch 18/50\n",
            "8787214/8787214 [==============================] - 139s 16us/sample - loss: 0.6777 - val_loss: 0.4924\n",
            "Epoch 19/50\n",
            "8787214/8787214 [==============================] - 139s 16us/sample - loss: 0.6772 - val_loss: 0.4905\n",
            "Epoch 20/50\n",
            "8787214/8787214 [==============================] - 139s 16us/sample - loss: 0.6759 - val_loss: 0.4898\n",
            "Epoch 21/50\n",
            "8787214/8787214 [==============================] - 139s 16us/sample - loss: 0.6747 - val_loss: 0.4895\n",
            "Epoch 22/50\n",
            "8787214/8787214 [==============================] - 139s 16us/sample - loss: 0.6744 - val_loss: 0.4888\n",
            "Epoch 23/50\n",
            "8787214/8787214 [==============================] - 139s 16us/sample - loss: 0.6733 - val_loss: 0.4846\n",
            "Epoch 24/50\n",
            "8787214/8787214 [==============================] - 139s 16us/sample - loss: 0.6687 - val_loss: 0.4782\n",
            "Epoch 25/50\n",
            "8787214/8787214 [==============================] - 139s 16us/sample - loss: 0.6593 - val_loss: 0.4637\n",
            "Epoch 26/50\n",
            "8787214/8787214 [==============================] - 139s 16us/sample - loss: 0.6373 - val_loss: 13.8208\n",
            "Epoch 27/50\n",
            "8787214/8787214 [==============================] - 139s 16us/sample - loss: 0.6132 - val_loss: 13.7603\n",
            "Epoch 28/50\n",
            "8787214/8787214 [==============================] - 139s 16us/sample - loss: 0.6046 - val_loss: 13.7764\n",
            "Epoch 29/50\n",
            "8787214/8787214 [==============================] - 139s 16us/sample - loss: 0.5784 - val_loss: 13.7229\n",
            "Epoch 30/50\n",
            "8787214/8787214 [==============================] - 139s 16us/sample - loss: 0.5685 - val_loss: 13.7187\n",
            "Epoch 31/50\n",
            "8787214/8787214 [==============================] - 139s 16us/sample - loss: 0.5577 - val_loss: 13.6921\n",
            "Epoch 32/50\n",
            "8787214/8787214 [==============================] - 139s 16us/sample - loss: 0.5486 - val_loss: 0.3833\n",
            "Epoch 33/50\n",
            "8787214/8787214 [==============================] - 139s 16us/sample - loss: 0.5412 - val_loss: 13.6802\n",
            "Epoch 34/50\n",
            "8787214/8787214 [==============================] - 139s 16us/sample - loss: 0.5319 - val_loss: 0.3139\n",
            "Epoch 35/50\n",
            "8787214/8787214 [==============================] - 139s 16us/sample - loss: 0.5303 - val_loss: 0.3148\n",
            "Epoch 36/50\n",
            "8787214/8787214 [==============================] - 139s 16us/sample - loss: 0.5319 - val_loss: 13.6769\n",
            "Epoch 37/50\n",
            "8787214/8787214 [==============================] - 139s 16us/sample - loss: 0.5295 - val_loss: 13.6763\n",
            "Epoch 38/50\n",
            "8787214/8787214 [==============================] - 139s 16us/sample - loss: 0.5289 - val_loss: 0.3151\n",
            "Epoch 39/50\n",
            "8787214/8787214 [==============================] - 139s 16us/sample - loss: 0.5298 - val_loss: 0.3131\n",
            "Epoch 40/50\n",
            "8787214/8787214 [==============================] - 139s 16us/sample - loss: 0.5285 - val_loss: 13.6756\n",
            "Epoch 41/50\n",
            "8787214/8787214 [==============================] - 139s 16us/sample - loss: 0.5306 - val_loss: 0.3154\n",
            "Epoch 42/50\n",
            "8787214/8787214 [==============================] - 139s 16us/sample - loss: 0.5325 - val_loss: 13.6760\n",
            "Epoch 43/50\n",
            "8787214/8787214 [==============================] - 139s 16us/sample - loss: 0.5291 - val_loss: 0.3157\n",
            "Epoch 44/50\n",
            "8787214/8787214 [==============================] - 139s 16us/sample - loss: 0.5293 - val_loss: 0.3116\n",
            "Epoch 45/50\n",
            "8787214/8787214 [==============================] - 139s 16us/sample - loss: 0.5290 - val_loss: 0.3124\n",
            "Epoch 46/50\n",
            "8787214/8787214 [==============================] - 139s 16us/sample - loss: 0.5286 - val_loss: 0.3114\n",
            "Epoch 47/50\n",
            "8787214/8787214 [==============================] - 139s 16us/sample - loss: 0.5289 - val_loss: 0.3120\n",
            "Epoch 48/50\n",
            "8787214/8787214 [==============================] - 139s 16us/sample - loss: 0.5286 - val_loss: 0.3259\n",
            "Epoch 49/50\n",
            "8787214/8787214 [==============================] - 139s 16us/sample - loss: 0.5289 - val_loss: 0.3117\n",
            "Epoch 50/50\n",
            "8787214/8787214 [==============================] - 139s 16us/sample - loss: 0.5286 - val_loss: 0.3129\n"
          ]
        }
      ],
      "source": [
        "rank_model.compile(optimizer=tf.keras.optimizers.Adam(lr=1e-3), loss=binary_crossentropy)\n",
        "early_stop = tf.keras.callbacks.EarlyStopping(monitor='val_loss', patience=20)\n",
        "# checkpoint = tf.keras.callbacks.ModelCheckpoint(\n",
        "#     filepath='./rank_checkpoint/',\n",
        "#     save_weights_only=True,\n",
        "#     monitor='val_loss',\n",
        "#     mode='min',\n",
        "#     save_best_only=True)\n",
        "history = rank_model.fit(rank_train, rank_train_label,\n",
        "                    batch_size=BATCH_SIZE*16, \n",
        "                    epochs=NEPOCH//2,\n",
        "                    verbose=1,\n",
        "                    validation_split=0.15,\n",
        "                    callbacks=[early_stop])\n",
        "rank_model.save_weights('youtuberank.h5')"
      ]
    },
    {
      "cell_type": "code",
      "execution_count": 39,
      "metadata": {
        "id": "w52A7cJ8hzgz"
      },
      "outputs": [],
      "source": [
        "rank_model.load_weights('youtuberank.h5')"
      ]
    },
    {
      "cell_type": "code",
      "source": [
        "del rank_train\n",
        "gc.collect()"
      ],
      "metadata": {
        "id": "Fr61KpmewPuB",
        "colab": {
          "base_uri": "https://localhost:8080/"
        },
        "outputId": "3e3e460c-41d4-42c3-b2dc-36650d80e694"
      },
      "execution_count": 40,
      "outputs": [
        {
          "output_type": "execute_result",
          "data": {
            "text/plain": [
              "8"
            ]
          },
          "metadata": {},
          "execution_count": 40
        }
      ]
    },
    {
      "cell_type": "code",
      "execution_count": 41,
      "metadata": {
        "id": "zUQJ7IdLhzgz"
      },
      "outputs": [],
      "source": [
        "pred = rank_model.predict(rank_test)"
      ]
    },
    {
      "cell_type": "code",
      "execution_count": 42,
      "metadata": {
        "id": "SoCzRNuphzgz"
      },
      "outputs": [],
      "source": [
        "pred_df = pd.DataFrame(columns=['user_id','movie_id','pred'])\n",
        "pred_df['user_id'] = rank_test['user_id']\n",
        "pred_df['movie_id'] = rank_test['movie_id']\n",
        "pred_df['pred'] = pred\n",
        "\n",
        "pred_df = pred_df.sort_values(by=['user_id','pred'], ascending=False).reset_index(drop=True)\n",
        "pred_df = pred_df.groupby('user_id')['movie_id'].apply(list).reset_index()"
      ]
    },
    {
      "cell_type": "code",
      "execution_count": 43,
      "metadata": {
        "id": "rEQ9sQGjhzgz"
      },
      "outputs": [],
      "source": [
        "test_label_df = pd.DataFrame(columns=['user_id','label'])\n",
        "test_label_df['user_id'] = match_test['user_id']\n",
        "test_label_df['label'] = match_test_label.tolist()"
      ]
    },
    {
      "cell_type": "code",
      "execution_count": 44,
      "metadata": {
        "id": "5T_uOn5Ohzgz"
      },
      "outputs": [],
      "source": [
        "test_label_df = pd.merge(test_label_df, pred_df, on=['user_id'], how='left')"
      ]
    },
    {
      "cell_type": "code",
      "execution_count": 45,
      "metadata": {
        "id": "0HXT3XxAhzgz",
        "colab": {
          "base_uri": "https://localhost:8080/"
        },
        "outputId": "542a0db6-a110-4496-c75f-5237dbcd424e"
      },
      "outputs": [
        {
          "output_type": "execute_result",
          "data": {
            "text/plain": [
              "0.03510277383580364"
            ]
          },
          "metadata": {},
          "execution_count": 45
        }
      ],
      "source": [
        "mapk(test_label_df['label'], test_label_df['movie_id'], k=10)"
      ]
    },
    {
      "cell_type": "code",
      "execution_count": 46,
      "metadata": {
        "id": "HHzj8iJKhzgz",
        "colab": {
          "base_uri": "https://localhost:8080/"
        },
        "outputId": "2dd94c34-3ff5-4a54-dc99-2fbafac84aa6"
      },
      "outputs": [
        {
          "output_type": "execute_result",
          "data": {
            "text/plain": [
              "0.08602649006622518"
            ]
          },
          "metadata": {},
          "execution_count": 46
        }
      ],
      "source": [
        "recall_at_k(test_label_df['label'], test_label_df['movie_id'], k=10)"
      ]
    }
  ],
  "metadata": {
    "accelerator": "GPU",
    "colab": {
      "collapsed_sections": [],
      "name": "YouTubeDNN.ipynb",
      "provenance": []
    },
    "interpreter": {
      "hash": "653a9876bfda977334bab0c6eac4e690c97044cb3c76993a10b084536ae29e50"
    },
    "kernelspec": {
      "display_name": "Python 3.8.5 ('base')",
      "language": "python",
      "name": "python3"
    },
    "language_info": {
      "codemirror_mode": {
        "name": "ipython",
        "version": 3
      },
      "file_extension": ".py",
      "mimetype": "text/x-python",
      "name": "python",
      "nbconvert_exporter": "python",
      "pygments_lexer": "ipython3",
      "version": "3.7.9"
    },
    "orig_nbformat": 4
  },
  "nbformat": 4,
  "nbformat_minor": 0
}